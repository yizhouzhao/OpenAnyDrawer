{
 "cells": [
  {
   "cell_type": "markdown",
   "id": "c80689cc-a5c6-41b9-8fd2-a025a20a542c",
   "metadata": {},
   "source": [
    "# Data"
   ]
  },
  {
   "cell_type": "code",
   "execution_count": 1,
   "id": "3a7f7d58-d73f-4ac9-a618-fce1047e71d9",
   "metadata": {},
   "outputs": [
    {
     "name": "stderr",
     "output_type": "stream",
     "text": [
      "/home/yizhou/miniconda3/envs/cliport/lib/python3.8/site-packages/tqdm/auto.py:22: TqdmWarning: IProgress not found. Please update jupyter and ipywidgets. See https://ipywidgets.readthedocs.io/en/stable/user_install.html\n",
      "  from .autonotebook import tqdm as notebook_tqdm\n",
      "Some weights of the model checkpoint at microsoft/resnet-18 were not used when initializing ResNetModel: ['classifier.1.bias', 'classifier.1.weight']\n",
      "- This IS expected if you are initializing ResNetModel from the checkpoint of a model trained on another task or with another architecture (e.g. initializing a BertForSequenceClassification model from a BertForPreTraining model).\n",
      "- This IS NOT expected if you are initializing ResNetModel from the checkpoint of a model that you expect to be exactly identical (initializing a BertForSequenceClassification model from a BertForSequenceClassification model).\n"
     ]
    }
   ],
   "source": [
    "from custom_dataset import *"
   ]
  },
  {
   "cell_type": "code",
   "execution_count": 2,
   "id": "7833eac0-4713-4277-85d9-78863b6752f2",
   "metadata": {},
   "outputs": [],
   "source": [
    "batch_size = 8"
   ]
  },
  {
   "cell_type": "code",
   "execution_count": 3,
   "id": "92baf43e-56d0-48cc-a7c1-0df119e31279",
   "metadata": {},
   "outputs": [
    {
     "name": "stderr",
     "output_type": "stream",
     "text": [
      "100%|█████████████████████████████████████████████████████████████████████| 174/174 [00:00<00:00, 709.44it/s]\n",
      "100%|████████████████████████████████████████████████████████████████████| 174/174 [00:00<00:00, 2115.48it/s]\n"
     ]
    }
   ],
   "source": [
    "train_dataset = HandleDataset4Cliport(\"/home/yizhou/Research/temp1/\")\n",
    "val_dataset = HandleDataset4Cliport(\"/home/yizhou/Research/temp1/\", is_train = False)"
   ]
  },
  {
   "cell_type": "code",
   "execution_count": 4,
   "id": "6fa7b5ec-c559-458b-8bf9-2e3d58055548",
   "metadata": {},
   "outputs": [],
   "source": [
    "train_loader = DataLoader(train_dataset, shuffle=True, batch_size=batch_size, collate_fn=collate_fn)\n",
    "val_loader = DataLoader(val_dataset, shuffle=True, batch_size=batch_size, collate_fn=collate_fn)\n"
   ]
  },
  {
   "cell_type": "code",
   "execution_count": 5,
   "id": "296f2dea-1baf-4a1b-a1d8-da79e843454f",
   "metadata": {},
   "outputs": [],
   "source": [
    "# batch = next(iter(train_loader))\n",
    "# x, y, l = batch "
   ]
  },
  {
   "cell_type": "markdown",
   "id": "1b908db8-a398-44d0-bc23-a5461e1c383d",
   "metadata": {},
   "source": [
    "# Model"
   ]
  },
  {
   "cell_type": "code",
   "execution_count": 6,
   "id": "a1cee797-b001-4a52-bac2-8f193d751bf2",
   "metadata": {},
   "outputs": [],
   "source": [
    "from custom_cliport import *"
   ]
  },
  {
   "cell_type": "code",
   "execution_count": 7,
   "id": "4f5da0e5-49cc-4ba8-b759-45e908287124",
   "metadata": {},
   "outputs": [],
   "source": [
    "model = CustomCliport()\n",
    "model = model.cuda()"
   ]
  },
  {
   "cell_type": "code",
   "execution_count": 8,
   "id": "4d387ce2-021a-45c9-b46f-4597810d536d",
   "metadata": {},
   "outputs": [],
   "source": [
    "def count_parameters(model):\n",
    "    return sum(p.numel() for p in model.parameters() if p.requires_grad)"
   ]
  },
  {
   "cell_type": "code",
   "execution_count": 9,
   "id": "f05d7b7e-d220-4c20-b29d-8d70d04fb13d",
   "metadata": {},
   "outputs": [
    {
     "data": {
      "text/plain": [
       "10334257"
      ]
     },
     "execution_count": 9,
     "metadata": {},
     "output_type": "execute_result"
    }
   ],
   "source": [
    "count_parameters(model)"
   ]
  },
  {
   "cell_type": "code",
   "execution_count": 10,
   "id": "acccd916-fede-426b-8cdf-ab0a74d7e62f",
   "metadata": {},
   "outputs": [],
   "source": [
    "optimizer = torch.optim.Adam(model.parameters(), lr=1e-3)"
   ]
  },
  {
   "cell_type": "code",
   "execution_count": 11,
   "id": "e8b34b81-c64a-438b-9640-918711cc5796",
   "metadata": {},
   "outputs": [],
   "source": [
    "from tqdm.auto import tqdm"
   ]
  },
  {
   "cell_type": "markdown",
   "id": "28dfe0e6-71ea-4dbb-9bf7-264cddf51a0f",
   "metadata": {},
   "source": [
    "# Train"
   ]
  },
  {
   "cell_type": "code",
   "execution_count": 12,
   "id": "75867343-235e-4e91-8d0c-46a9f95e66da",
   "metadata": {},
   "outputs": [],
   "source": [
    "total_step = 0\n",
    "best_val_loss = 1e6"
   ]
  },
  {
   "cell_type": "code",
   "execution_count": 13,
   "id": "f233c1f6-9500-488c-8954-f5aab778e5f7",
   "metadata": {
    "tags": []
   },
   "outputs": [
    {
     "name": "stderr",
     "output_type": "stream",
     "text": [
      "100%|██████████████████████████████████████████████████████████████████████| 176/176 [00:06<00:00, 25.47it/s]\n"
     ]
    },
    {
     "name": "stdout",
     "output_type": "stream",
     "text": [
      "0 train loss:  12963.469114823774\n"
     ]
    },
    {
     "name": "stderr",
     "output_type": "stream",
     "text": [
      "100%|████████████████████████████████████████████████████████████████████████| 56/56 [00:01<00:00, 42.16it/s]\n"
     ]
    },
    {
     "name": "stdout",
     "output_type": "stream",
     "text": [
      "0 val loss:  11142.04137311663\n"
     ]
    },
    {
     "name": "stderr",
     "output_type": "stream",
     "text": [
      "100%|██████████████████████████████████████████████████████████████████████| 176/176 [00:06<00:00, 29.04it/s]\n"
     ]
    },
    {
     "name": "stdout",
     "output_type": "stream",
     "text": [
      "1 train loss:  11320.019437616522\n"
     ]
    },
    {
     "name": "stderr",
     "output_type": "stream",
     "text": [
      "100%|████████████████████████████████████████████████████████████████████████| 56/56 [00:01<00:00, 37.56it/s]\n"
     ]
    },
    {
     "name": "stdout",
     "output_type": "stream",
     "text": [
      "1 val loss:  10019.375091552734\n"
     ]
    },
    {
     "name": "stderr",
     "output_type": "stream",
     "text": [
      "100%|██████████████████████████████████████████████████████████████████████| 176/176 [00:05<00:00, 29.93it/s]\n"
     ]
    },
    {
     "name": "stdout",
     "output_type": "stream",
     "text": [
      "2 train loss:  10696.415399724787\n"
     ]
    },
    {
     "name": "stderr",
     "output_type": "stream",
     "text": [
      "100%|████████████████████████████████████████████████████████████████████████| 56/56 [00:01<00:00, 40.56it/s]\n"
     ]
    },
    {
     "name": "stdout",
     "output_type": "stream",
     "text": [
      "2 val loss:  9718.92440359933\n"
     ]
    },
    {
     "name": "stderr",
     "output_type": "stream",
     "text": [
      "100%|██████████████████████████████████████████████████████████████████████| 176/176 [00:06<00:00, 29.00it/s]\n"
     ]
    },
    {
     "name": "stdout",
     "output_type": "stream",
     "text": [
      "3 train loss:  10232.879169117321\n"
     ]
    },
    {
     "name": "stderr",
     "output_type": "stream",
     "text": [
      "100%|████████████████████████████████████████████████████████████████████████| 56/56 [00:01<00:00, 43.06it/s]\n"
     ]
    },
    {
     "name": "stdout",
     "output_type": "stream",
     "text": [
      "3 val loss:  9831.502964564732\n"
     ]
    },
    {
     "name": "stderr",
     "output_type": "stream",
     "text": [
      "100%|██████████████████████████████████████████████████████████████████████| 176/176 [00:06<00:00, 29.31it/s]\n"
     ]
    },
    {
     "name": "stdout",
     "output_type": "stream",
     "text": [
      "4 train loss:  9832.788049871271\n"
     ]
    },
    {
     "name": "stderr",
     "output_type": "stream",
     "text": [
      "100%|████████████████████████████████████████████████████████████████████████| 56/56 [00:01<00:00, 41.06it/s]\n"
     ]
    },
    {
     "name": "stdout",
     "output_type": "stream",
     "text": [
      "4 val loss:  9990.632690429688\n"
     ]
    },
    {
     "name": "stderr",
     "output_type": "stream",
     "text": [
      "100%|██████████████████████████████████████████████████████████████████████| 176/176 [00:06<00:00, 28.47it/s]\n"
     ]
    },
    {
     "name": "stdout",
     "output_type": "stream",
     "text": [
      "5 train loss:  9730.367370605469\n"
     ]
    },
    {
     "name": "stderr",
     "output_type": "stream",
     "text": [
      "100%|████████████████████████████████████████████████████████████████████████| 56/56 [00:01<00:00, 40.19it/s]\n"
     ]
    },
    {
     "name": "stdout",
     "output_type": "stream",
     "text": [
      "5 val loss:  9659.25940813337\n"
     ]
    },
    {
     "name": "stderr",
     "output_type": "stream",
     "text": [
      "100%|██████████████████████████████████████████████████████████████████████| 176/176 [00:05<00:00, 29.73it/s]\n"
     ]
    },
    {
     "name": "stdout",
     "output_type": "stream",
     "text": [
      "6 train loss:  9503.330710671165\n"
     ]
    },
    {
     "name": "stderr",
     "output_type": "stream",
     "text": [
      "100%|████████████████████████████████████████████████████████████████████████| 56/56 [00:01<00:00, 43.06it/s]\n"
     ]
    },
    {
     "name": "stdout",
     "output_type": "stream",
     "text": [
      "6 val loss:  10288.480643136161\n"
     ]
    },
    {
     "name": "stderr",
     "output_type": "stream",
     "text": [
      "100%|██████████████████████████████████████████████████████████████████████| 176/176 [00:06<00:00, 28.27it/s]\n"
     ]
    },
    {
     "name": "stdout",
     "output_type": "stream",
     "text": [
      "7 train loss:  9423.198910799894\n"
     ]
    },
    {
     "name": "stderr",
     "output_type": "stream",
     "text": [
      "100%|████████████████████████████████████████████████████████████████████████| 56/56 [00:01<00:00, 41.23it/s]\n"
     ]
    },
    {
     "name": "stdout",
     "output_type": "stream",
     "text": [
      "7 val loss:  9928.493974958148\n"
     ]
    },
    {
     "name": "stderr",
     "output_type": "stream",
     "text": [
      "100%|██████████████████████████████████████████████████████████████████████| 176/176 [00:06<00:00, 27.04it/s]\n"
     ]
    },
    {
     "name": "stdout",
     "output_type": "stream",
     "text": [
      "8 train loss:  9317.683711658825\n"
     ]
    },
    {
     "name": "stderr",
     "output_type": "stream",
     "text": [
      "100%|████████████████████████████████████████████████████████████████████████| 56/56 [00:01<00:00, 34.71it/s]\n"
     ]
    },
    {
     "name": "stdout",
     "output_type": "stream",
     "text": [
      "8 val loss:  10312.933968680245\n"
     ]
    },
    {
     "name": "stderr",
     "output_type": "stream",
     "text": [
      "100%|██████████████████████████████████████████████████████████████████████| 176/176 [00:06<00:00, 25.34it/s]\n"
     ]
    },
    {
     "name": "stdout",
     "output_type": "stream",
     "text": [
      "9 train loss:  9219.6225530451\n"
     ]
    },
    {
     "name": "stderr",
     "output_type": "stream",
     "text": [
      "100%|████████████████████████████████████████████████████████████████████████| 56/56 [00:01<00:00, 35.76it/s]\n"
     ]
    },
    {
     "name": "stdout",
     "output_type": "stream",
     "text": [
      "9 val loss:  10238.57157244001\n"
     ]
    },
    {
     "name": "stderr",
     "output_type": "stream",
     "text": [
      "100%|██████████████████████████████████████████████████████████████████████| 176/176 [00:06<00:00, 25.97it/s]\n"
     ]
    },
    {
     "name": "stdout",
     "output_type": "stream",
     "text": [
      "10 train loss:  9129.913155295631\n"
     ]
    },
    {
     "name": "stderr",
     "output_type": "stream",
     "text": [
      "100%|████████████████████████████████████████████████████████████████████████| 56/56 [00:01<00:00, 35.46it/s]\n"
     ]
    },
    {
     "name": "stdout",
     "output_type": "stream",
     "text": [
      "10 val loss:  10222.120082310268\n"
     ]
    },
    {
     "name": "stderr",
     "output_type": "stream",
     "text": [
      "100%|██████████████████████████████████████████████████████████████████████| 176/176 [00:06<00:00, 26.36it/s]\n"
     ]
    },
    {
     "name": "stdout",
     "output_type": "stream",
     "text": [
      "11 train loss:  9026.955039284447\n"
     ]
    },
    {
     "name": "stderr",
     "output_type": "stream",
     "text": [
      "100%|████████████████████████████████████████████████████████████████████████| 56/56 [00:01<00:00, 35.07it/s]\n"
     ]
    },
    {
     "name": "stdout",
     "output_type": "stream",
     "text": [
      "11 val loss:  9897.078077043805\n"
     ]
    },
    {
     "name": "stderr",
     "output_type": "stream",
     "text": [
      "100%|██████████████████████████████████████████████████████████████████████| 176/176 [00:06<00:00, 25.79it/s]\n"
     ]
    },
    {
     "name": "stdout",
     "output_type": "stream",
     "text": [
      "12 train loss:  9009.190084284002\n"
     ]
    },
    {
     "name": "stderr",
     "output_type": "stream",
     "text": [
      "100%|████████████████████████████████████████████████████████████████████████| 56/56 [00:01<00:00, 36.21it/s]\n"
     ]
    },
    {
     "name": "stdout",
     "output_type": "stream",
     "text": [
      "12 val loss:  10096.021824428013\n"
     ]
    },
    {
     "name": "stderr",
     "output_type": "stream",
     "text": [
      "100%|██████████████████████████████████████████████████████████████████████| 176/176 [00:06<00:00, 26.07it/s]\n"
     ]
    },
    {
     "name": "stdout",
     "output_type": "stream",
     "text": [
      "13 train loss:  8894.650762384588\n"
     ]
    },
    {
     "name": "stderr",
     "output_type": "stream",
     "text": [
      "100%|████████████████████████████████████████████████████████████████████████| 56/56 [00:01<00:00, 35.06it/s]\n"
     ]
    },
    {
     "name": "stdout",
     "output_type": "stream",
     "text": [
      "13 val loss:  10154.937526157924\n"
     ]
    },
    {
     "name": "stderr",
     "output_type": "stream",
     "text": [
      "100%|██████████████████████████████████████████████████████████████████████| 176/176 [00:06<00:00, 26.76it/s]\n"
     ]
    },
    {
     "name": "stdout",
     "output_type": "stream",
     "text": [
      "14 train loss:  8826.616760253906\n"
     ]
    },
    {
     "name": "stderr",
     "output_type": "stream",
     "text": [
      "100%|████████████████████████████████████████████████████████████████████████| 56/56 [00:01<00:00, 35.50it/s]\n"
     ]
    },
    {
     "name": "stdout",
     "output_type": "stream",
     "text": [
      "14 val loss:  10341.211321149554\n"
     ]
    },
    {
     "name": "stderr",
     "output_type": "stream",
     "text": [
      "100%|██████████████████████████████████████████████████████████████████████| 176/176 [00:06<00:00, 25.86it/s]\n"
     ]
    },
    {
     "name": "stdout",
     "output_type": "stream",
     "text": [
      "15 train loss:  8888.28570834073\n"
     ]
    },
    {
     "name": "stderr",
     "output_type": "stream",
     "text": [
      "100%|████████████████████████████████████████████████████████████████████████| 56/56 [00:01<00:00, 35.56it/s]\n"
     ]
    },
    {
     "name": "stdout",
     "output_type": "stream",
     "text": [
      "15 val loss:  10133.384312220982\n"
     ]
    },
    {
     "name": "stderr",
     "output_type": "stream",
     "text": [
      "100%|██████████████████████████████████████████████████████████████████████| 176/176 [00:06<00:00, 26.10it/s]\n"
     ]
    },
    {
     "name": "stdout",
     "output_type": "stream",
     "text": [
      "16 train loss:  8817.477562644264\n"
     ]
    },
    {
     "name": "stderr",
     "output_type": "stream",
     "text": [
      "100%|████████████████████████████████████████████████████████████████████████| 56/56 [00:01<00:00, 35.59it/s]\n"
     ]
    },
    {
     "name": "stdout",
     "output_type": "stream",
     "text": [
      "16 val loss:  10080.740931919643\n"
     ]
    },
    {
     "name": "stderr",
     "output_type": "stream",
     "text": [
      "100%|██████████████████████████████████████████████████████████████████████| 176/176 [00:06<00:00, 25.90it/s]\n"
     ]
    },
    {
     "name": "stdout",
     "output_type": "stream",
     "text": [
      "17 train loss:  8811.96255493164\n"
     ]
    },
    {
     "name": "stderr",
     "output_type": "stream",
     "text": [
      "100%|████████████████████████████████████████████████████████████████████████| 56/56 [00:01<00:00, 35.58it/s]\n"
     ]
    },
    {
     "name": "stdout",
     "output_type": "stream",
     "text": [
      "17 val loss:  10386.890568324498\n"
     ]
    },
    {
     "name": "stderr",
     "output_type": "stream",
     "text": [
      "100%|██████████████████████████████████████████████████████████████████████| 176/176 [00:06<00:00, 26.30it/s]\n"
     ]
    },
    {
     "name": "stdout",
     "output_type": "stream",
     "text": [
      "18 train loss:  8686.841043645685\n"
     ]
    },
    {
     "name": "stderr",
     "output_type": "stream",
     "text": [
      "100%|████████████████████████████████████████████████████████████████████████| 56/56 [00:01<00:00, 37.21it/s]\n"
     ]
    },
    {
     "name": "stdout",
     "output_type": "stream",
     "text": [
      "18 val loss:  10469.658987862724\n"
     ]
    },
    {
     "name": "stderr",
     "output_type": "stream",
     "text": [
      "100%|██████████████████████████████████████████████████████████████████████| 176/176 [00:06<00:00, 26.70it/s]\n"
     ]
    },
    {
     "name": "stdout",
     "output_type": "stream",
     "text": [
      "19 train loss:  8644.405297019264\n"
     ]
    },
    {
     "name": "stderr",
     "output_type": "stream",
     "text": [
      "100%|████████████████████████████████████████████████████████████████████████| 56/56 [00:01<00:00, 36.00it/s]"
     ]
    },
    {
     "name": "stdout",
     "output_type": "stream",
     "text": [
      "19 val loss:  10691.581394740513\n"
     ]
    },
    {
     "name": "stderr",
     "output_type": "stream",
     "text": [
      "\n"
     ]
    }
   ],
   "source": [
    "train_record, val_record = [], []\n",
    "\n",
    "for epoch in range(20):\n",
    "    train_loss_list = []\n",
    "    for batch in tqdm(train_loader):\n",
    "        total_step += 1\n",
    "\n",
    "        x, y, l = batch\n",
    "\n",
    "        batch_size = x.size(0)\n",
    "        pred_y = model(x, l)\n",
    "        \n",
    "        # reshape\n",
    "        y = y.view(batch_size, -1)\n",
    "        pred_y = pred_y.view(batch_size, -1)\n",
    "        \n",
    "        optimizer.zero_grad()\n",
    "        loss = (-y * F.log_softmax(pred_y, -1)).sum()\n",
    "        loss.backward()\n",
    "        optimizer.step()\n",
    "        \n",
    "        train_loss_list.append(loss.item())\n",
    "    \n",
    "    t_loss = np.mean(train_loss_list)\n",
    "    print(epoch, \"train loss: \", t_loss)\n",
    "    train_record.append(t_loss)\n",
    "    \n",
    "    \n",
    "    model.eval()\n",
    "    val_loss_list = []\n",
    "    for batch in tqdm(val_loader):\n",
    "        total_step += 1\n",
    "\n",
    "        x, y, l = batch\n",
    "\n",
    "        batch_size = x.size(0)\n",
    "        pred_y = model(x, l)\n",
    "        \n",
    "        # reshape\n",
    "        y = y.view(batch_size, -1)\n",
    "        pred_y = pred_y.view(batch_size, -1)\n",
    "        \n",
    "        loss = (-y * F.log_softmax(pred_y, -1)).sum()\n",
    "        val_loss_list.append(loss.item())\n",
    "    \n",
    "    val_loss = np.mean(val_loss_list)\n",
    "    print(epoch, \"val loss: \", val_loss)\n",
    "    val_record.append(val_loss)\n",
    "    \n",
    "    # save model\n",
    "    if val_loss < best_val_loss:\n",
    "        model_path = '/home/yizhou/Research/temp0/custom_cliport824.pth'\n",
    "        torch.save(model.state_dict(), model_path)\n",
    "        best_val_loss = val_loss \n",
    "    \n",
    "    "
   ]
  },
  {
   "cell_type": "code",
   "execution_count": 14,
   "id": "39e41754-bee6-4d9d-8d9f-92a79b40f9a5",
   "metadata": {},
   "outputs": [
    {
     "data": {
      "text/plain": [
       "([12963.469114823774,\n",
       "  11320.019437616522,\n",
       "  10696.415399724787,\n",
       "  10232.879169117321,\n",
       "  9832.788049871271,\n",
       "  9730.367370605469,\n",
       "  9503.330710671165,\n",
       "  9423.198910799894,\n",
       "  9317.683711658825,\n",
       "  9219.6225530451,\n",
       "  9129.913155295631,\n",
       "  9026.955039284447,\n",
       "  9009.190084284002,\n",
       "  8894.650762384588,\n",
       "  8826.616760253906,\n",
       "  8888.28570834073,\n",
       "  8817.477562644264,\n",
       "  8811.96255493164,\n",
       "  8686.841043645685,\n",
       "  8644.405297019264],\n",
       " [11142.04137311663,\n",
       "  10019.375091552734,\n",
       "  9718.92440359933,\n",
       "  9831.502964564732,\n",
       "  9990.632690429688,\n",
       "  9659.25940813337,\n",
       "  10288.480643136161,\n",
       "  9928.493974958148,\n",
       "  10312.933968680245,\n",
       "  10238.57157244001,\n",
       "  10222.120082310268,\n",
       "  9897.078077043805,\n",
       "  10096.021824428013,\n",
       "  10154.937526157924,\n",
       "  10341.211321149554,\n",
       "  10133.384312220982,\n",
       "  10080.740931919643,\n",
       "  10386.890568324498,\n",
       "  10469.658987862724,\n",
       "  10691.581394740513])"
      ]
     },
     "execution_count": 14,
     "metadata": {},
     "output_type": "execute_result"
    }
   ],
   "source": [
    "train_record, val_record"
   ]
  },
  {
   "cell_type": "code",
   "execution_count": 15,
   "id": "6685da88-c416-4d43-a14f-09661b5d003e",
   "metadata": {},
   "outputs": [
    {
     "ename": "NameError",
     "evalue": "name 'pause' is not defined",
     "output_type": "error",
     "traceback": [
      "\u001b[0;31m---------------------------------------------------------------------------\u001b[0m",
      "\u001b[0;31mNameError\u001b[0m                                 Traceback (most recent call last)",
      "Input \u001b[0;32mIn [15]\u001b[0m, in \u001b[0;36m<cell line: 1>\u001b[0;34m()\u001b[0m\n\u001b[0;32m----> 1\u001b[0m \u001b[43mpause\u001b[49m\n",
      "\u001b[0;31mNameError\u001b[0m: name 'pause' is not defined"
     ]
    }
   ],
   "source": [
    "pause"
   ]
  },
  {
   "cell_type": "markdown",
   "id": "f0a35ccc-f1a3-434f-8234-35d7a17f29b7",
   "metadata": {},
   "source": [
    "# Test"
   ]
  },
  {
   "cell_type": "code",
   "execution_count": null,
   "id": "aac2c3e1-a247-45e2-84cf-cb5d26a992f5",
   "metadata": {},
   "outputs": [],
   "source": [
    "# model_path = '/home/yizhou/Research/temp0/custom_cliport823.pth'\n",
    "model.load_state_dict(torch.load(model_path))"
   ]
  },
  {
   "cell_type": "code",
   "execution_count": null,
   "id": "ee8e68a7-5e6e-442a-9624-4e787176b880",
   "metadata": {},
   "outputs": [],
   "source": [
    "model.clip_text_feature_path = model.clip_text_feature_path.replace(\"json\",\"pickle\")"
   ]
  },
  {
   "cell_type": "code",
   "execution_count": null,
   "id": "716a222e-757a-40d3-acda-310c267a1773",
   "metadata": {},
   "outputs": [],
   "source": [
    "import pickle"
   ]
  },
  {
   "cell_type": "code",
   "execution_count": null,
   "id": "0bf9cc08-a96e-4cc7-abb7-f2c88c12c11f",
   "metadata": {},
   "outputs": [],
   "source": [
    "text2clip_feature = pickle.load(open(model.clip_text_feature_path,'rb'))"
   ]
  },
  {
   "cell_type": "code",
   "execution_count": null,
   "id": "f6ae25ed-9120-4e19-8fda-bad9111d2e33",
   "metadata": {},
   "outputs": [],
   "source": [
    "text2clip_feature = {k: v.tolist() for k, v in text2clip_feature.items()}"
   ]
  },
  {
   "cell_type": "code",
   "execution_count": null,
   "id": "d9ef1c5c-c37a-483f-88a4-183a2d3638d1",
   "metadata": {},
   "outputs": [],
   "source": [
    "# import json\n",
    "# # the json file where the output must be stored\n",
    "# out_file = open(\"text2clip_feature.json\", \"w\")\n",
    "  \n",
    "# json.dump(text2clip_feature, out_file)"
   ]
  },
  {
   "cell_type": "code",
   "execution_count": null,
   "id": "9d788095-a338-4bfb-9c2d-5ecc47a7a05b",
   "metadata": {},
   "outputs": [],
   "source": [
    "batch = next(iter(val_loader))"
   ]
  },
  {
   "cell_type": "code",
   "execution_count": null,
   "id": "c90235c2-93ca-42a1-80c1-85ca75895d65",
   "metadata": {},
   "outputs": [],
   "source": [
    "x, y, l = batch"
   ]
  },
  {
   "cell_type": "code",
   "execution_count": null,
   "id": "c39973bf-6a3d-4984-b51e-dba061ee9560",
   "metadata": {},
   "outputs": [],
   "source": [
    "x.shape, y.shape, l.shape"
   ]
  },
  {
   "cell_type": "code",
   "execution_count": null,
   "id": "83280787-ae5c-4940-8045-d3586243855c",
   "metadata": {},
   "outputs": [],
   "source": [
    "pred_y = model(x, l)"
   ]
  },
  {
   "cell_type": "code",
   "execution_count": null,
   "id": "44c743b5-146a-4e6d-aad3-66a6c00ef7b9",
   "metadata": {},
   "outputs": [],
   "source": [
    "pred_y = pred_y.view(pred_y.size(0), -1)"
   ]
  },
  {
   "cell_type": "code",
   "execution_count": null,
   "id": "30666979-8c50-4a4d-b5d4-944e651c2a0d",
   "metadata": {},
   "outputs": [],
   "source": [
    "pred_y = F.softmax(pred_y, dim = -1)"
   ]
  },
  {
   "cell_type": "code",
   "execution_count": null,
   "id": "44343f7a-9fb1-446a-a1fb-9275f5e2fef0",
   "metadata": {},
   "outputs": [],
   "source": [
    "pred_y = pred_y.view(-1, 256, 256)"
   ]
  },
  {
   "cell_type": "code",
   "execution_count": null,
   "id": "917a9151-8309-4e57-8bb5-c882dc731f6a",
   "metadata": {},
   "outputs": [],
   "source": [
    "import matplotlib.pyplot as plt"
   ]
  },
  {
   "cell_type": "code",
   "execution_count": null,
   "id": "f4573efb-c953-40bc-b06e-50a016395104",
   "metadata": {},
   "outputs": [],
   "source": [
    "plt.imshow(np.array(pred_y[11].cpu().data) * 255, cmap = \"gray\")"
   ]
  },
  {
   "cell_type": "code",
   "execution_count": null,
   "id": "edaf971e-9bab-4d35-9c3a-49b714752f21",
   "metadata": {},
   "outputs": [],
   "source": [
    "plt.imshow(np.array(y[11].cpu().data) * 255, cmap = \"gray\")"
   ]
  },
  {
   "cell_type": "code",
   "execution_count": null,
   "id": "0356bae3-8f62-43fc-bab1-a8d219e65666",
   "metadata": {},
   "outputs": [],
   "source": [
    "torch.argmax(y[3].cpu().data).item() // 256, torch.argmax(y[3].cpu().data).item() % 256"
   ]
  },
  {
   "cell_type": "code",
   "execution_count": null,
   "id": "17fc7a72-3af5-4a57-945e-266ffd7a0c71",
   "metadata": {},
   "outputs": [],
   "source": [
    "torch.argmax(pred_y[3].cpu().data).item() // 256, torch.argmax(pred_y[3].cpu().data).item() % 256"
   ]
  },
  {
   "cell_type": "code",
   "execution_count": null,
   "id": "cb3c9ddd-568c-4891-969f-5f8da68295e1",
   "metadata": {},
   "outputs": [],
   "source": [
    "pred_max_index = torch.argmax(pred_y[11].cpu().data).item() \n",
    "\n",
    "h, w =  pred_max_index// 256, pred_max_index % 256\n",
    "print(h,w)\n",
    "\n",
    "# get direction\n",
    "top_bound = max(h - 5, 0)\n",
    "bottom_bound = min(h + 5, 255)\n",
    "\n",
    "left_bound = max(w - 5, 0)\n",
    "right_bound = min(w + 5, 255)\n",
    "\n",
    "# mean over vertical direction\n",
    "v_mean = torch.mean(pred_y[0][top_bound:bottom_bound, w]).item()\n",
    "h_mean = torch.mean(pred_y[0][left_bound:right_bound, h]).item()\n",
    "\n",
    "handle_dir = \"horizontal\" if v_mean > h_mean else \"vertical\" # if vertical direction more concentrate, then direciton is horizontal\n",
    "\n",
    "print(handle_dir)"
   ]
  },
  {
   "cell_type": "code",
   "execution_count": null,
   "id": "4ffce657-de57-421b-8749-f76d38af6d23",
   "metadata": {},
   "outputs": [],
   "source": []
  }
 ],
 "metadata": {
  "kernelspec": {
   "display_name": "cliport",
   "language": "python",
   "name": "cliport"
  },
  "language_info": {
   "codemirror_mode": {
    "name": "ipython",
    "version": 3
   },
   "file_extension": ".py",
   "mimetype": "text/x-python",
   "name": "python",
   "nbconvert_exporter": "python",
   "pygments_lexer": "ipython3",
   "version": "3.8.13"
  }
 },
 "nbformat": 4,
 "nbformat_minor": 5
}
