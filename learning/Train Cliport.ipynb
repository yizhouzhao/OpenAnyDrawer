{
 "cells": [
  {
   "cell_type": "markdown",
   "id": "c80689cc-a5c6-41b9-8fd2-a025a20a542c",
   "metadata": {},
   "source": [
    "# Data"
   ]
  },
  {
   "cell_type": "code",
   "execution_count": 1,
   "id": "3a7f7d58-d73f-4ac9-a618-fce1047e71d9",
   "metadata": {},
   "outputs": [
    {
     "name": "stderr",
     "output_type": "stream",
     "text": [
      "/home/yizhou/miniconda3/envs/cliport/lib/python3.8/site-packages/tqdm/auto.py:22: TqdmWarning: IProgress not found. Please update jupyter and ipywidgets. See https://ipywidgets.readthedocs.io/en/stable/user_install.html\n",
      "  from .autonotebook import tqdm as notebook_tqdm\n",
      "Some weights of the model checkpoint at microsoft/resnet-18 were not used when initializing ResNetModel: ['classifier.1.weight', 'classifier.1.bias']\n",
      "- This IS expected if you are initializing ResNetModel from the checkpoint of a model trained on another task or with another architecture (e.g. initializing a BertForSequenceClassification model from a BertForPreTraining model).\n",
      "- This IS NOT expected if you are initializing ResNetModel from the checkpoint of a model that you expect to be exactly identical (initializing a BertForSequenceClassification model from a BertForSequenceClassification model).\n"
     ]
    }
   ],
   "source": [
    "from custom_dataset import *"
   ]
  },
  {
   "cell_type": "code",
   "execution_count": 2,
   "id": "7833eac0-4713-4277-85d9-78863b6752f2",
   "metadata": {},
   "outputs": [],
   "source": [
    "batch_size = 12"
   ]
  },
  {
   "cell_type": "code",
   "execution_count": 3,
   "id": "92baf43e-56d0-48cc-a7c1-0df119e31279",
   "metadata": {},
   "outputs": [
    {
     "name": "stderr",
     "output_type": "stream",
     "text": [
      "100%|████████████████████████████████████████| 174/174 [00:00<00:00, 562.84it/s]\n",
      "100%|███████████████████████████████████████| 174/174 [00:00<00:00, 2053.32it/s]\n"
     ]
    }
   ],
   "source": [
    "train_dataset = HandleDataset4Cliport(\"/home/yizhou/Research/temp1/\")\n",
    "val_dataset = HandleDataset4Cliport(\"/home/yizhou/Research/temp1/\", is_train = False)"
   ]
  },
  {
   "cell_type": "code",
   "execution_count": 4,
   "id": "6fa7b5ec-c559-458b-8bf9-2e3d58055548",
   "metadata": {},
   "outputs": [],
   "source": [
    "train_loader = DataLoader(train_dataset, shuffle=True, batch_size=batch_size, collate_fn=collate_fn)\n",
    "val_loader = DataLoader(val_dataset, shuffle=True, batch_size=batch_size, collate_fn=collate_fn)\n"
   ]
  },
  {
   "cell_type": "code",
   "execution_count": 5,
   "id": "296f2dea-1baf-4a1b-a1d8-da79e843454f",
   "metadata": {},
   "outputs": [],
   "source": [
    "# batch = next(iter(train_loader))\n",
    "# x, y, l = batch "
   ]
  },
  {
   "cell_type": "markdown",
   "id": "1b908db8-a398-44d0-bc23-a5461e1c383d",
   "metadata": {},
   "source": [
    "# Model"
   ]
  },
  {
   "cell_type": "code",
   "execution_count": 6,
   "id": "a1cee797-b001-4a52-bac2-8f193d751bf2",
   "metadata": {},
   "outputs": [],
   "source": [
    "from custom_cliport import *"
   ]
  },
  {
   "cell_type": "code",
   "execution_count": 7,
   "id": "4f5da0e5-49cc-4ba8-b759-45e908287124",
   "metadata": {},
   "outputs": [],
   "source": [
    "model = CustomCliport()\n",
    "model = model.cuda()"
   ]
  },
  {
   "cell_type": "code",
   "execution_count": 8,
   "id": "4d387ce2-021a-45c9-b46f-4597810d536d",
   "metadata": {},
   "outputs": [],
   "source": [
    "def count_parameters(model):\n",
    "    return sum(p.numel() for p in model.parameters() if p.requires_grad)"
   ]
  },
  {
   "cell_type": "code",
   "execution_count": 9,
   "id": "f05d7b7e-d220-4c20-b29d-8d70d04fb13d",
   "metadata": {},
   "outputs": [
    {
     "data": {
      "text/plain": [
       "9744433"
      ]
     },
     "execution_count": 9,
     "metadata": {},
     "output_type": "execute_result"
    }
   ],
   "source": [
    "count_parameters(model)"
   ]
  },
  {
   "cell_type": "code",
   "execution_count": 10,
   "id": "acccd916-fede-426b-8cdf-ab0a74d7e62f",
   "metadata": {},
   "outputs": [],
   "source": [
    "optimizer = torch.optim.Adam(model.parameters(), lr=1e-3)"
   ]
  },
  {
   "cell_type": "code",
   "execution_count": 11,
   "id": "e8b34b81-c64a-438b-9640-918711cc5796",
   "metadata": {},
   "outputs": [],
   "source": [
    "from tqdm.auto import tqdm"
   ]
  },
  {
   "cell_type": "markdown",
   "id": "28dfe0e6-71ea-4dbb-9bf7-264cddf51a0f",
   "metadata": {},
   "source": [
    "# Train"
   ]
  },
  {
   "cell_type": "code",
   "execution_count": 12,
   "id": "75867343-235e-4e91-8d0c-46a9f95e66da",
   "metadata": {},
   "outputs": [],
   "source": [
    "total_step = 0\n",
    "best_val_loss = 1e6"
   ]
  },
  {
   "cell_type": "code",
   "execution_count": 13,
   "id": "f233c1f6-9500-488c-8954-f5aab778e5f7",
   "metadata": {
    "tags": []
   },
   "outputs": [
    {
     "name": "stderr",
     "output_type": "stream",
     "text": [
      "100%|█████████████████████████████████████████| 117/117 [00:15<00:00,  7.47it/s]\n"
     ]
    },
    {
     "name": "stdout",
     "output_type": "stream",
     "text": [
      "0 train loss:  19446.52038261218\n"
     ]
    },
    {
     "name": "stderr",
     "output_type": "stream",
     "text": [
      "100%|███████████████████████████████████████████| 37/37 [00:02<00:00, 15.58it/s]\n"
     ]
    },
    {
     "name": "stdout",
     "output_type": "stream",
     "text": [
      "0 val loss:  16469.01224662162\n"
     ]
    },
    {
     "name": "stderr",
     "output_type": "stream",
     "text": [
      "100%|█████████████████████████████████████████| 117/117 [00:14<00:00,  7.93it/s]\n"
     ]
    },
    {
     "name": "stdout",
     "output_type": "stream",
     "text": [
      "1 train loss:  17213.86630275107\n"
     ]
    },
    {
     "name": "stderr",
     "output_type": "stream",
     "text": [
      "100%|███████████████████████████████████████████| 37/37 [00:02<00:00, 15.56it/s]\n"
     ]
    },
    {
     "name": "stdout",
     "output_type": "stream",
     "text": [
      "1 val loss:  15677.155854096283\n"
     ]
    },
    {
     "name": "stderr",
     "output_type": "stream",
     "text": [
      "100%|█████████████████████████████████████████| 117/117 [00:14<00:00,  7.93it/s]\n"
     ]
    },
    {
     "name": "stdout",
     "output_type": "stream",
     "text": [
      "2 train loss:  16221.147527711004\n"
     ]
    },
    {
     "name": "stderr",
     "output_type": "stream",
     "text": [
      "100%|███████████████████████████████████████████| 37/37 [00:02<00:00, 15.58it/s]\n"
     ]
    },
    {
     "name": "stdout",
     "output_type": "stream",
     "text": [
      "2 val loss:  15397.046663851352\n"
     ]
    },
    {
     "name": "stderr",
     "output_type": "stream",
     "text": [
      "100%|█████████████████████████████████████████| 117/117 [00:14<00:00,  7.96it/s]\n"
     ]
    },
    {
     "name": "stdout",
     "output_type": "stream",
     "text": [
      "3 train loss:  15649.915097489316\n"
     ]
    },
    {
     "name": "stderr",
     "output_type": "stream",
     "text": [
      "100%|███████████████████████████████████████████| 37/37 [00:02<00:00, 15.81it/s]\n"
     ]
    },
    {
     "name": "stdout",
     "output_type": "stream",
     "text": [
      "3 val loss:  15061.639714421453\n"
     ]
    },
    {
     "name": "stderr",
     "output_type": "stream",
     "text": [
      "100%|█████████████████████████████████████████| 117/117 [00:14<00:00,  8.00it/s]\n"
     ]
    },
    {
     "name": "stdout",
     "output_type": "stream",
     "text": [
      "4 train loss:  15266.451697716346\n"
     ]
    },
    {
     "name": "stderr",
     "output_type": "stream",
     "text": [
      "100%|███████████████████████████████████████████| 37/37 [00:02<00:00, 16.00it/s]\n"
     ]
    },
    {
     "name": "stdout",
     "output_type": "stream",
     "text": [
      "4 val loss:  14936.437631967905\n"
     ]
    },
    {
     "name": "stderr",
     "output_type": "stream",
     "text": [
      "100%|█████████████████████████████████████████| 117/117 [00:14<00:00,  7.97it/s]\n"
     ]
    },
    {
     "name": "stdout",
     "output_type": "stream",
     "text": [
      "5 train loss:  14869.928560697115\n"
     ]
    },
    {
     "name": "stderr",
     "output_type": "stream",
     "text": [
      "100%|███████████████████████████████████████████| 37/37 [00:02<00:00, 15.71it/s]\n"
     ]
    },
    {
     "name": "stdout",
     "output_type": "stream",
     "text": [
      "5 val loss:  14992.102591849662\n"
     ]
    },
    {
     "name": "stderr",
     "output_type": "stream",
     "text": [
      "100%|█████████████████████████████████████████| 117/117 [00:14<00:00,  7.99it/s]\n"
     ]
    },
    {
     "name": "stdout",
     "output_type": "stream",
     "text": [
      "6 train loss:  14672.000095986912\n"
     ]
    },
    {
     "name": "stderr",
     "output_type": "stream",
     "text": [
      "100%|███████████████████████████████████████████| 37/37 [00:02<00:00, 16.36it/s]\n"
     ]
    },
    {
     "name": "stdout",
     "output_type": "stream",
     "text": [
      "6 val loss:  14823.8232421875\n"
     ]
    },
    {
     "name": "stderr",
     "output_type": "stream",
     "text": [
      "100%|█████████████████████████████████████████| 117/117 [00:14<00:00,  8.02it/s]\n"
     ]
    },
    {
     "name": "stdout",
     "output_type": "stream",
     "text": [
      "7 train loss:  14510.889331263355\n"
     ]
    },
    {
     "name": "stderr",
     "output_type": "stream",
     "text": [
      "100%|███████████████████████████████████████████| 37/37 [00:02<00:00, 15.55it/s]\n"
     ]
    },
    {
     "name": "stdout",
     "output_type": "stream",
     "text": [
      "7 val loss:  15444.087679476352\n"
     ]
    },
    {
     "name": "stderr",
     "output_type": "stream",
     "text": [
      "100%|█████████████████████████████████████████| 117/117 [00:14<00:00,  8.00it/s]\n"
     ]
    },
    {
     "name": "stdout",
     "output_type": "stream",
     "text": [
      "8 train loss:  14315.804453792734\n"
     ]
    },
    {
     "name": "stderr",
     "output_type": "stream",
     "text": [
      "100%|███████████████████████████████████████████| 37/37 [00:02<00:00, 15.53it/s]\n"
     ]
    },
    {
     "name": "stdout",
     "output_type": "stream",
     "text": [
      "8 val loss:  15598.381809543918\n"
     ]
    },
    {
     "name": "stderr",
     "output_type": "stream",
     "text": [
      "100%|█████████████████████████████████████████| 117/117 [00:14<00:00,  7.99it/s]\n"
     ]
    },
    {
     "name": "stdout",
     "output_type": "stream",
     "text": [
      "9 train loss:  14070.984700520834\n"
     ]
    },
    {
     "name": "stderr",
     "output_type": "stream",
     "text": [
      "100%|███████████████████████████████████████████| 37/37 [00:02<00:00, 15.70it/s]\n"
     ]
    },
    {
     "name": "stdout",
     "output_type": "stream",
     "text": [
      "9 val loss:  16713.029666385137\n"
     ]
    },
    {
     "name": "stderr",
     "output_type": "stream",
     "text": [
      "100%|█████████████████████████████████████████| 117/117 [00:14<00:00,  7.98it/s]\n"
     ]
    },
    {
     "name": "stdout",
     "output_type": "stream",
     "text": [
      "10 train loss:  14038.604721721422\n"
     ]
    },
    {
     "name": "stderr",
     "output_type": "stream",
     "text": [
      "100%|███████████████████████████████████████████| 37/37 [00:02<00:00, 15.82it/s]\n"
     ]
    },
    {
     "name": "stdout",
     "output_type": "stream",
     "text": [
      "10 val loss:  15360.268211570947\n"
     ]
    },
    {
     "name": "stderr",
     "output_type": "stream",
     "text": [
      "100%|█████████████████████████████████████████| 117/117 [00:14<00:00,  7.97it/s]\n"
     ]
    },
    {
     "name": "stdout",
     "output_type": "stream",
     "text": [
      "11 train loss:  13934.583491920406\n"
     ]
    },
    {
     "name": "stderr",
     "output_type": "stream",
     "text": [
      "100%|███████████████████████████████████████████| 37/37 [00:02<00:00, 15.66it/s]\n"
     ]
    },
    {
     "name": "stdout",
     "output_type": "stream",
     "text": [
      "11 val loss:  16660.603198902027\n"
     ]
    },
    {
     "name": "stderr",
     "output_type": "stream",
     "text": [
      "100%|█████████████████████████████████████████| 117/117 [00:14<00:00,  7.97it/s]\n"
     ]
    },
    {
     "name": "stdout",
     "output_type": "stream",
     "text": [
      "12 train loss:  13945.852555755877\n"
     ]
    },
    {
     "name": "stderr",
     "output_type": "stream",
     "text": [
      "100%|███████████████████████████████████████████| 37/37 [00:02<00:00, 15.32it/s]\n"
     ]
    },
    {
     "name": "stdout",
     "output_type": "stream",
     "text": [
      "12 val loss:  17049.631440033783\n"
     ]
    },
    {
     "name": "stderr",
     "output_type": "stream",
     "text": [
      "100%|█████████████████████████████████████████| 117/117 [00:14<00:00,  7.97it/s]\n"
     ]
    },
    {
     "name": "stdout",
     "output_type": "stream",
     "text": [
      "13 train loss:  13726.213671040332\n"
     ]
    },
    {
     "name": "stderr",
     "output_type": "stream",
     "text": [
      "100%|███████████████████████████████████████████| 37/37 [00:02<00:00, 15.37it/s]\n"
     ]
    },
    {
     "name": "stdout",
     "output_type": "stream",
     "text": [
      "13 val loss:  15543.933620143582\n"
     ]
    },
    {
     "name": "stderr",
     "output_type": "stream",
     "text": [
      "100%|█████████████████████████████████████████| 117/117 [00:14<00:00,  7.93it/s]\n"
     ]
    },
    {
     "name": "stdout",
     "output_type": "stream",
     "text": [
      "14 train loss:  13525.909960102832\n"
     ]
    },
    {
     "name": "stderr",
     "output_type": "stream",
     "text": [
      "100%|███████████████████████████████████████████| 37/37 [00:02<00:00, 15.89it/s]\n"
     ]
    },
    {
     "name": "stdout",
     "output_type": "stream",
     "text": [
      "14 val loss:  16193.490036423142\n"
     ]
    },
    {
     "name": "stderr",
     "output_type": "stream",
     "text": [
      "100%|█████████████████████████████████████████| 117/117 [00:14<00:00,  7.96it/s]\n"
     ]
    },
    {
     "name": "stdout",
     "output_type": "stream",
     "text": [
      "15 train loss:  13659.583976028312\n"
     ]
    },
    {
     "name": "stderr",
     "output_type": "stream",
     "text": [
      "100%|███████████████████████████████████████████| 37/37 [00:02<00:00, 15.34it/s]\n"
     ]
    },
    {
     "name": "stdout",
     "output_type": "stream",
     "text": [
      "15 val loss:  19143.52977195946\n"
     ]
    },
    {
     "name": "stderr",
     "output_type": "stream",
     "text": [
      "100%|█████████████████████████████████████████| 117/117 [00:14<00:00,  8.02it/s]\n"
     ]
    },
    {
     "name": "stdout",
     "output_type": "stream",
     "text": [
      "16 train loss:  13573.181219117254\n"
     ]
    },
    {
     "name": "stderr",
     "output_type": "stream",
     "text": [
      "100%|███████████████████████████████████████████| 37/37 [00:02<00:00, 16.01it/s]\n"
     ]
    },
    {
     "name": "stdout",
     "output_type": "stream",
     "text": [
      "16 val loss:  14865.441960515203\n"
     ]
    },
    {
     "name": "stderr",
     "output_type": "stream",
     "text": [
      "100%|█████████████████████████████████████████| 117/117 [00:14<00:00,  7.95it/s]\n"
     ]
    },
    {
     "name": "stdout",
     "output_type": "stream",
     "text": [
      "17 train loss:  13478.9283979367\n"
     ]
    },
    {
     "name": "stderr",
     "output_type": "stream",
     "text": [
      "100%|███████████████████████████████████████████| 37/37 [00:02<00:00, 15.72it/s]\n"
     ]
    },
    {
     "name": "stdout",
     "output_type": "stream",
     "text": [
      "17 val loss:  16936.27467799831\n"
     ]
    },
    {
     "name": "stderr",
     "output_type": "stream",
     "text": [
      "100%|█████████████████████████████████████████| 117/117 [00:14<00:00,  7.99it/s]\n"
     ]
    },
    {
     "name": "stdout",
     "output_type": "stream",
     "text": [
      "18 train loss:  13383.208162226229\n"
     ]
    },
    {
     "name": "stderr",
     "output_type": "stream",
     "text": [
      "100%|███████████████████████████████████████████| 37/37 [00:02<00:00, 15.60it/s]\n"
     ]
    },
    {
     "name": "stdout",
     "output_type": "stream",
     "text": [
      "18 val loss:  15872.617029138513\n"
     ]
    },
    {
     "name": "stderr",
     "output_type": "stream",
     "text": [
      "100%|█████████████████████████████████████████| 117/117 [00:14<00:00,  7.96it/s]\n"
     ]
    },
    {
     "name": "stdout",
     "output_type": "stream",
     "text": [
      "19 train loss:  13208.99055572249\n"
     ]
    },
    {
     "name": "stderr",
     "output_type": "stream",
     "text": [
      "100%|███████████████████████████████████████████| 37/37 [00:02<00:00, 15.89it/s]"
     ]
    },
    {
     "name": "stdout",
     "output_type": "stream",
     "text": [
      "19 val loss:  15881.247255067568\n"
     ]
    },
    {
     "name": "stderr",
     "output_type": "stream",
     "text": [
      "\n"
     ]
    }
   ],
   "source": [
    "for epoch in range(20):\n",
    "    train_loss_list = []\n",
    "    for batch in tqdm(train_loader):\n",
    "        total_step += 1\n",
    "\n",
    "        x, y, l = batch\n",
    "\n",
    "        batch_size = x.size(0)\n",
    "        pred_y = model(x, l)\n",
    "        \n",
    "        # reshape\n",
    "        y = y.view(batch_size, -1)\n",
    "        pred_y = pred_y.view(batch_size, -1)\n",
    "        \n",
    "        optimizer.zero_grad()\n",
    "        loss = (-y * F.log_softmax(pred_y, -1)).sum()\n",
    "        loss.backward()\n",
    "        optimizer.step()\n",
    "        \n",
    "        train_loss_list.append(loss.item())\n",
    "\n",
    "    print(epoch, \"train loss: \", np.mean(train_loss_list))\n",
    "    \n",
    "    model.eval()\n",
    "    val_loss_list = []\n",
    "    for batch in tqdm(val_loader):\n",
    "        total_step += 1\n",
    "\n",
    "        x, y, l = batch\n",
    "\n",
    "        batch_size = x.size(0)\n",
    "        pred_y = model(x, l)\n",
    "        \n",
    "        # reshape\n",
    "        y = y.view(batch_size, -1)\n",
    "        pred_y = pred_y.view(batch_size, -1)\n",
    "        \n",
    "        loss = (-y * F.log_softmax(pred_y, -1)).sum()\n",
    "        val_loss_list.append(loss.item())\n",
    "    \n",
    "    val_loss = np.mean(val_loss_list)\n",
    "    print(epoch, \"val loss: \", val_loss)\n",
    "    \n",
    "    # save model\n",
    "    if val_loss < best_val_loss:\n",
    "        model_path = '/home/yizhou/Research/temp0/custom_cliport824.pth'\n",
    "        torch.save(model.state_dict(), model_path)\n",
    "        best_val_loss = val_loss \n",
    "    \n",
    "    "
   ]
  },
  {
   "cell_type": "markdown",
   "id": "f0a35ccc-f1a3-434f-8234-35d7a17f29b7",
   "metadata": {},
   "source": [
    "# Test"
   ]
  },
  {
   "cell_type": "code",
   "execution_count": null,
   "id": "aac2c3e1-a247-45e2-84cf-cb5d26a992f5",
   "metadata": {},
   "outputs": [],
   "source": [
    "# model_path = '/home/yizhou/Research/temp0/custom_cliport823.pth'\n",
    "model.load_state_dict(torch.load(model_path))"
   ]
  },
  {
   "cell_type": "code",
   "execution_count": 14,
   "id": "ee8e68a7-5e6e-442a-9624-4e787176b880",
   "metadata": {},
   "outputs": [],
   "source": [
    "model.clip_text_feature_path = model.clip_text_feature_path.replace(\"json\",\"pickle\")"
   ]
  },
  {
   "cell_type": "code",
   "execution_count": 15,
   "id": "716a222e-757a-40d3-acda-310c267a1773",
   "metadata": {},
   "outputs": [],
   "source": [
    "import pickle"
   ]
  },
  {
   "cell_type": "code",
   "execution_count": 16,
   "id": "0bf9cc08-a96e-4cc7-abb7-f2c88c12c11f",
   "metadata": {},
   "outputs": [],
   "source": [
    "text2clip_feature = pickle.load(open(model.clip_text_feature_path,'rb'))"
   ]
  },
  {
   "cell_type": "code",
   "execution_count": 17,
   "id": "f6ae25ed-9120-4e19-8fda-bad9111d2e33",
   "metadata": {},
   "outputs": [],
   "source": [
    "text2clip_feature = {k: v.tolist() for k, v in text2clip_feature.items()}"
   ]
  },
  {
   "cell_type": "code",
   "execution_count": 18,
   "id": "d9ef1c5c-c37a-483f-88a4-183a2d3638d1",
   "metadata": {},
   "outputs": [],
   "source": [
    "# import json\n",
    "# # the json file where the output must be stored\n",
    "# out_file = open(\"text2clip_feature.json\", \"w\")\n",
    "  \n",
    "# json.dump(text2clip_feature, out_file)"
   ]
  },
  {
   "cell_type": "code",
   "execution_count": 19,
   "id": "9d788095-a338-4bfb-9c2d-5ecc47a7a05b",
   "metadata": {},
   "outputs": [],
   "source": [
    "batch = next(iter(val_loader))"
   ]
  },
  {
   "cell_type": "code",
   "execution_count": 20,
   "id": "c90235c2-93ca-42a1-80c1-85ca75895d65",
   "metadata": {},
   "outputs": [],
   "source": [
    "x, y, l = batch"
   ]
  },
  {
   "cell_type": "code",
   "execution_count": 21,
   "id": "c39973bf-6a3d-4984-b51e-dba061ee9560",
   "metadata": {},
   "outputs": [
    {
     "data": {
      "text/plain": [
       "(torch.Size([12, 512, 7, 7]),\n",
       " torch.Size([12, 256, 256]),\n",
       " torch.Size([12, 512]))"
      ]
     },
     "execution_count": 21,
     "metadata": {},
     "output_type": "execute_result"
    }
   ],
   "source": [
    "x.shape, y.shape, l.shape"
   ]
  },
  {
   "cell_type": "code",
   "execution_count": 22,
   "id": "83280787-ae5c-4940-8045-d3586243855c",
   "metadata": {},
   "outputs": [],
   "source": [
    "pred_y = model(x, l)"
   ]
  },
  {
   "cell_type": "code",
   "execution_count": 23,
   "id": "44c743b5-146a-4e6d-aad3-66a6c00ef7b9",
   "metadata": {},
   "outputs": [],
   "source": [
    "pred_y = pred_y.view(pred_y.size(0), -1)"
   ]
  },
  {
   "cell_type": "code",
   "execution_count": 24,
   "id": "30666979-8c50-4a4d-b5d4-944e651c2a0d",
   "metadata": {},
   "outputs": [],
   "source": [
    "pred_y = F.softmax(pred_y, dim = -1)"
   ]
  },
  {
   "cell_type": "code",
   "execution_count": 25,
   "id": "44343f7a-9fb1-446a-a1fb-9275f5e2fef0",
   "metadata": {},
   "outputs": [],
   "source": [
    "pred_y = pred_y.view(-1, 256, 256)"
   ]
  },
  {
   "cell_type": "code",
   "execution_count": 26,
   "id": "917a9151-8309-4e57-8bb5-c882dc731f6a",
   "metadata": {},
   "outputs": [],
   "source": [
    "import matplotlib.pyplot as plt"
   ]
  },
  {
   "cell_type": "code",
   "execution_count": 32,
   "id": "f4573efb-c953-40bc-b06e-50a016395104",
   "metadata": {},
   "outputs": [
    {
     "data": {
      "text/plain": [
       "<matplotlib.image.AxesImage at 0x7fb83e6abd30>"
      ]
     },
     "execution_count": 32,
     "metadata": {},
     "output_type": "execute_result"
    },
    {
     "data": {
      "image/png": "[encoded data removed]",
      "text/plain": [
       "<Figure size 432x288 with 1 Axes>"
      ]
     },
     "metadata": {
      "needs_background": "light"
     },
     "output_type": "display_data"
    }
   ],
   "source": [
    "plt.imshow(np.array(pred_y[11].cpu().data) * 255, cmap = \"gray\")"
   ]
  },
  {
   "cell_type": "code",
   "execution_count": 31,
   "id": "edaf971e-9bab-4d35-9c3a-49b714752f21",
   "metadata": {},
   "outputs": [
    {
     "data": {
      "text/plain": [
       "<matplotlib.image.AxesImage at 0x7fb83e6c8c70>"
      ]
     },
     "execution_count": 31,
     "metadata": {},
     "output_type": "execute_result"
    },
    {
     "data": {
      "image/png": "[encoded data removed]",
      "text/plain": [
       "<Figure size 432x288 with 1 Axes>"
      ]
     },
     "metadata": {
      "needs_background": "light"
     },
     "output_type": "display_data"
    }
   ],
   "source": [
    "plt.imshow(np.array(y[11].cpu().data) * 255, cmap = \"gray\")"
   ]
  },
  {
   "cell_type": "code",
   "execution_count": null,
   "id": "0356bae3-8f62-43fc-bab1-a8d219e65666",
   "metadata": {},
   "outputs": [],
   "source": [
    "torch.argmax(y[3].cpu().data).item() // 256, torch.argmax(y[3].cpu().data).item() % 256"
   ]
  },
  {
   "cell_type": "code",
   "execution_count": null,
   "id": "17fc7a72-3af5-4a57-945e-266ffd7a0c71",
   "metadata": {},
   "outputs": [],
   "source": [
    "torch.argmax(pred_y[3].cpu().data).item() // 256, torch.argmax(pred_y[3].cpu().data).item() % 256"
   ]
  },
  {
   "cell_type": "code",
   "execution_count": null,
   "id": "cb3c9ddd-568c-4891-969f-5f8da68295e1",
   "metadata": {},
   "outputs": [],
   "source": [
    "pred_max_index = torch.argmax(pred_y[11].cpu().data).item() \n",
    "\n",
    "h, w =  pred_max_index// 256, pred_max_index % 256\n",
    "print(h,w)\n",
    "\n",
    "# get direction\n",
    "top_bound = max(h - 5, 0)\n",
    "bottom_bound = min(h + 5, 255)\n",
    "\n",
    "left_bound = max(w - 5, 0)\n",
    "right_bound = min(w + 5, 255)\n",
    "\n",
    "# mean over vertical direction\n",
    "v_mean = torch.mean(pred_y[0][top_bound:bottom_bound, w]).item()\n",
    "h_mean = torch.mean(pred_y[0][left_bound:right_bound, h]).item()\n",
    "\n",
    "handle_dir = \"horizontal\" if v_mean > h_mean else \"vertical\" # if vertical direction more concentrate, then direciton is horizontal\n",
    "\n",
    "print(handle_dir)"
   ]
  },
  {
   "cell_type": "code",
   "execution_count": null,
   "id": "4ffce657-de57-421b-8749-f76d38af6d23",
   "metadata": {},
   "outputs": [],
   "source": []
  }
 ],
 "metadata": {
  "kernelspec": {
   "display_name": "cliport",
   "language": "python",
   "name": "cliport"
  },
  "language_info": {
   "codemirror_mode": {
    "name": "ipython",
    "version": 3
   },
   "file_extension": ".py",
   "mimetype": "text/x-python",
   "name": "python",
   "nbconvert_exporter": "python",
   "pygments_lexer": "ipython3",
   "version": "3.8.13"
  }
 },
 "nbformat": 4,
 "nbformat_minor": 5
}
