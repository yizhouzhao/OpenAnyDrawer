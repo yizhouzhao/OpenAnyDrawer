{
 "cells": [
  {
   "cell_type": "markdown",
   "id": "c80689cc-a5c6-41b9-8fd2-a025a20a542c",
   "metadata": {},
   "source": [
    "# Data"
   ]
  },
  {
   "cell_type": "code",
   "execution_count": 1,
   "id": "3a7f7d58-d73f-4ac9-a618-fce1047e71d9",
   "metadata": {},
   "outputs": [
    {
     "name": "stderr",
     "output_type": "stream",
     "text": [
      "/home/yizhou/miniconda3/envs/cliport/lib/python3.8/site-packages/tqdm/auto.py:22: TqdmWarning: IProgress not found. Please update jupyter and ipywidgets. See https://ipywidgets.readthedocs.io/en/stable/user_install.html\n",
      "  from .autonotebook import tqdm as notebook_tqdm\n",
      "Some weights of the model checkpoint at microsoft/resnet-18 were not used when initializing ResNetModel: ['classifier.1.weight', 'classifier.1.bias']\n",
      "- This IS expected if you are initializing ResNetModel from the checkpoint of a model trained on another task or with another architecture (e.g. initializing a BertForSequenceClassification model from a BertForPreTraining model).\n",
      "- This IS NOT expected if you are initializing ResNetModel from the checkpoint of a model that you expect to be exactly identical (initializing a BertForSequenceClassification model from a BertForSequenceClassification model).\n"
     ]
    }
   ],
   "source": [
    "from custom_dataset import *"
   ]
  },
  {
   "cell_type": "code",
   "execution_count": 2,
   "id": "7833eac0-4713-4277-85d9-78863b6752f2",
   "metadata": {},
   "outputs": [],
   "source": [
    "batch_size = 12"
   ]
  },
  {
   "cell_type": "code",
   "execution_count": 3,
   "id": "92baf43e-56d0-48cc-a7c1-0df119e31279",
   "metadata": {},
   "outputs": [
    {
     "name": "stderr",
     "output_type": "stream",
     "text": [
      "100%|███████████████████████████████████████████████████████████████████████████| 174/174 [00:00<00:00, 711.82it/s]\n",
      "100%|██████████████████████████████████████████████████████████████████████████| 174/174 [00:00<00:00, 2330.24it/s]\n"
     ]
    }
   ],
   "source": [
    "train_dataset = HandleDataset4Cliport(\"/home/yizhou/Research/temp1/\")\n",
    "val_dataset = HandleDataset4Cliport(\"/home/yizhou/Research/temp1/\", is_train = False)"
   ]
  },
  {
   "cell_type": "code",
   "execution_count": 4,
   "id": "6fa7b5ec-c559-458b-8bf9-2e3d58055548",
   "metadata": {},
   "outputs": [],
   "source": [
    "train_loader = DataLoader(train_dataset, shuffle=True, batch_size=batch_size, collate_fn=collate_fn)\n",
    "val_loader = DataLoader(val_dataset, shuffle=True, batch_size=batch_size, collate_fn=collate_fn)\n"
   ]
  },
  {
   "cell_type": "code",
   "execution_count": 5,
   "id": "296f2dea-1baf-4a1b-a1d8-da79e843454f",
   "metadata": {},
   "outputs": [],
   "source": [
    "# batch = next(iter(train_loader))\n",
    "# x, y, l = batch "
   ]
  },
  {
   "cell_type": "markdown",
   "id": "1b908db8-a398-44d0-bc23-a5461e1c383d",
   "metadata": {},
   "source": [
    "# Model"
   ]
  },
  {
   "cell_type": "code",
   "execution_count": 6,
   "id": "a1cee797-b001-4a52-bac2-8f193d751bf2",
   "metadata": {},
   "outputs": [],
   "source": [
    "from custom_cliport import *"
   ]
  },
  {
   "cell_type": "code",
   "execution_count": 7,
   "id": "4f5da0e5-49cc-4ba8-b759-45e908287124",
   "metadata": {},
   "outputs": [],
   "source": [
    "model = CustomCliport()\n",
    "model = model.cuda()"
   ]
  },
  {
   "cell_type": "code",
   "execution_count": 8,
   "id": "acccd916-fede-426b-8cdf-ab0a74d7e62f",
   "metadata": {},
   "outputs": [],
   "source": [
    "optimizer = torch.optim.Adam(model.parameters(), lr=1e-3)"
   ]
  },
  {
   "cell_type": "code",
   "execution_count": 9,
   "id": "e8b34b81-c64a-438b-9640-918711cc5796",
   "metadata": {},
   "outputs": [],
   "source": [
    "from tqdm.auto import tqdm"
   ]
  },
  {
   "cell_type": "markdown",
   "id": "28dfe0e6-71ea-4dbb-9bf7-264cddf51a0f",
   "metadata": {},
   "source": [
    "# Train"
   ]
  },
  {
   "cell_type": "code",
   "execution_count": 10,
   "id": "75867343-235e-4e91-8d0c-46a9f95e66da",
   "metadata": {},
   "outputs": [],
   "source": [
    "total_step = 0\n",
    "best_val_loss = 1e6"
   ]
  },
  {
   "cell_type": "code",
   "execution_count": 11,
   "id": "f233c1f6-9500-488c-8954-f5aab778e5f7",
   "metadata": {
    "tags": []
   },
   "outputs": [
    {
     "name": "stderr",
     "output_type": "stream",
     "text": [
      "100%|████████████████████████████████████████████████████████████████████████████| 117/117 [00:07<00:00, 15.68it/s]\n"
     ]
    },
    {
     "name": "stdout",
     "output_type": "stream",
     "text": [
      "0 train loss:  19356.2581630609\n"
     ]
    },
    {
     "name": "stderr",
     "output_type": "stream",
     "text": [
      "100%|██████████████████████████████████████████████████████████████████████████████| 37/37 [00:01<00:00, 28.08it/s]\n"
     ]
    },
    {
     "name": "stdout",
     "output_type": "stream",
     "text": [
      "0 val loss:  16610.593208931587\n"
     ]
    },
    {
     "name": "stderr",
     "output_type": "stream",
     "text": [
      "100%|████████████████████████████████████████████████████████████████████████████| 117/117 [00:05<00:00, 21.90it/s]\n"
     ]
    },
    {
     "name": "stdout",
     "output_type": "stream",
     "text": [
      "1 train loss:  17623.143997061965\n"
     ]
    },
    {
     "name": "stderr",
     "output_type": "stream",
     "text": [
      "100%|██████████████████████████████████████████████████████████████████████████████| 37/37 [00:01<00:00, 28.82it/s]\n"
     ]
    },
    {
     "name": "stdout",
     "output_type": "stream",
     "text": [
      "1 val loss:  15653.096983213682\n"
     ]
    },
    {
     "name": "stderr",
     "output_type": "stream",
     "text": [
      "100%|████████████████████████████████████████████████████████████████████████████| 117/117 [00:05<00:00, 21.32it/s]\n"
     ]
    },
    {
     "name": "stdout",
     "output_type": "stream",
     "text": [
      "2 train loss:  16658.5578258547\n"
     ]
    },
    {
     "name": "stderr",
     "output_type": "stream",
     "text": [
      "100%|██████████████████████████████████████████████████████████████████████████████| 37/37 [00:01<00:00, 27.43it/s]\n"
     ]
    },
    {
     "name": "stdout",
     "output_type": "stream",
     "text": [
      "2 val loss:  15000.033387880068\n"
     ]
    },
    {
     "name": "stderr",
     "output_type": "stream",
     "text": [
      "100%|████████████████████████████████████████████████████████████████████████████| 117/117 [00:05<00:00, 21.23it/s]\n"
     ]
    },
    {
     "name": "stdout",
     "output_type": "stream",
     "text": [
      "3 train loss:  15608.62610176282\n"
     ]
    },
    {
     "name": "stderr",
     "output_type": "stream",
     "text": [
      "100%|██████████████████████████████████████████████████████████████████████████████| 37/37 [00:01<00:00, 28.53it/s]\n"
     ]
    },
    {
     "name": "stdout",
     "output_type": "stream",
     "text": [
      "3 val loss:  15184.095597550675\n"
     ]
    },
    {
     "name": "stderr",
     "output_type": "stream",
     "text": [
      "100%|████████████████████████████████████████████████████████████████████████████| 117/117 [00:05<00:00, 21.26it/s]\n"
     ]
    },
    {
     "name": "stdout",
     "output_type": "stream",
     "text": [
      "4 train loss:  15099.995809962607\n"
     ]
    },
    {
     "name": "stderr",
     "output_type": "stream",
     "text": [
      "100%|██████████████████████████████████████████████████████████████████████████████| 37/37 [00:01<00:00, 27.77it/s]\n"
     ]
    },
    {
     "name": "stdout",
     "output_type": "stream",
     "text": [
      "4 val loss:  15102.30198215794\n"
     ]
    },
    {
     "name": "stderr",
     "output_type": "stream",
     "text": [
      "100%|████████████████████████████████████████████████████████████████████████████| 117/117 [00:05<00:00, 21.12it/s]\n"
     ]
    },
    {
     "name": "stdout",
     "output_type": "stream",
     "text": [
      "5 train loss:  14728.716421274039\n"
     ]
    },
    {
     "name": "stderr",
     "output_type": "stream",
     "text": [
      "100%|██████████████████████████████████████████████████████████████████████████████| 37/37 [00:01<00:00, 28.76it/s]\n"
     ]
    },
    {
     "name": "stdout",
     "output_type": "stream",
     "text": [
      "5 val loss:  16295.052404455237\n"
     ]
    },
    {
     "name": "stderr",
     "output_type": "stream",
     "text": [
      "100%|████████████████████████████████████████████████████████████████████████████| 117/117 [00:05<00:00, 20.82it/s]\n"
     ]
    },
    {
     "name": "stdout",
     "output_type": "stream",
     "text": [
      "6 train loss:  14421.218407785791\n"
     ]
    },
    {
     "name": "stderr",
     "output_type": "stream",
     "text": [
      "100%|██████████████████████████████████████████████████████████████████████████████| 37/37 [00:01<00:00, 27.73it/s]\n"
     ]
    },
    {
     "name": "stdout",
     "output_type": "stream",
     "text": [
      "6 val loss:  15195.01685230152\n"
     ]
    },
    {
     "name": "stderr",
     "output_type": "stream",
     "text": [
      "100%|████████████████████████████████████████████████████████████████████████████| 117/117 [00:05<00:00, 21.88it/s]\n"
     ]
    },
    {
     "name": "stdout",
     "output_type": "stream",
     "text": [
      "7 train loss:  14309.554762620191\n"
     ]
    },
    {
     "name": "stderr",
     "output_type": "stream",
     "text": [
      "100%|██████████████████████████████████████████████████████████████████████████████| 37/37 [00:01<00:00, 26.70it/s]\n"
     ]
    },
    {
     "name": "stdout",
     "output_type": "stream",
     "text": [
      "7 val loss:  14598.023384712838\n"
     ]
    },
    {
     "name": "stderr",
     "output_type": "stream",
     "text": [
      "100%|████████████████████████████████████████████████████████████████████████████| 117/117 [00:05<00:00, 22.16it/s]\n"
     ]
    },
    {
     "name": "stdout",
     "output_type": "stream",
     "text": [
      "8 train loss:  14217.01867988782\n"
     ]
    },
    {
     "name": "stderr",
     "output_type": "stream",
     "text": [
      "100%|██████████████████████████████████████████████████████████████████████████████| 37/37 [00:01<00:00, 29.38it/s]\n"
     ]
    },
    {
     "name": "stdout",
     "output_type": "stream",
     "text": [
      "8 val loss:  15235.089988914697\n"
     ]
    },
    {
     "name": "stderr",
     "output_type": "stream",
     "text": [
      "100%|████████████████████████████████████████████████████████████████████████████| 117/117 [00:05<00:00, 22.03it/s]\n"
     ]
    },
    {
     "name": "stdout",
     "output_type": "stream",
     "text": [
      "9 train loss:  13994.14597522703\n"
     ]
    },
    {
     "name": "stderr",
     "output_type": "stream",
     "text": [
      "100%|██████████████████████████████████████████████████████████████████████████████| 37/37 [00:01<00:00, 28.82it/s]\n"
     ]
    },
    {
     "name": "stdout",
     "output_type": "stream",
     "text": [
      "9 val loss:  14879.600242820947\n"
     ]
    },
    {
     "name": "stderr",
     "output_type": "stream",
     "text": [
      "100%|████████████████████████████████████████████████████████████████████████████| 117/117 [00:05<00:00, 22.43it/s]\n"
     ]
    },
    {
     "name": "stdout",
     "output_type": "stream",
     "text": [
      "10 train loss:  13761.780048076924\n"
     ]
    },
    {
     "name": "stderr",
     "output_type": "stream",
     "text": [
      "100%|██████████████████████████████████████████████████████████████████████████████| 37/37 [00:01<00:00, 25.32it/s]\n"
     ]
    },
    {
     "name": "stdout",
     "output_type": "stream",
     "text": [
      "10 val loss:  14971.18530933277\n"
     ]
    },
    {
     "name": "stderr",
     "output_type": "stream",
     "text": [
      "100%|████████████████████████████████████████████████████████████████████████████| 117/117 [00:05<00:00, 21.52it/s]\n"
     ]
    },
    {
     "name": "stdout",
     "output_type": "stream",
     "text": [
      "11 train loss:  13703.915155916133\n"
     ]
    },
    {
     "name": "stderr",
     "output_type": "stream",
     "text": [
      "100%|██████████████████████████████████████████████████████████████████████████████| 37/37 [00:01<00:00, 28.17it/s]\n"
     ]
    },
    {
     "name": "stdout",
     "output_type": "stream",
     "text": [
      "11 val loss:  15122.077715899493\n"
     ]
    },
    {
     "name": "stderr",
     "output_type": "stream",
     "text": [
      "100%|████████████████████████████████████████████████████████████████████████████| 117/117 [00:05<00:00, 20.92it/s]\n"
     ]
    },
    {
     "name": "stdout",
     "output_type": "stream",
     "text": [
      "12 train loss:  13695.411550146902\n"
     ]
    },
    {
     "name": "stderr",
     "output_type": "stream",
     "text": [
      "100%|██████████████████████████████████████████████████████████████████████████████| 37/37 [00:01<00:00, 28.66it/s]\n"
     ]
    },
    {
     "name": "stdout",
     "output_type": "stream",
     "text": [
      "12 val loss:  15993.125184755068\n"
     ]
    },
    {
     "name": "stderr",
     "output_type": "stream",
     "text": [
      "100%|████████████████████████████████████████████████████████████████████████████| 117/117 [00:05<00:00, 22.23it/s]\n"
     ]
    },
    {
     "name": "stdout",
     "output_type": "stream",
     "text": [
      "13 train loss:  13525.039129273504\n"
     ]
    },
    {
     "name": "stderr",
     "output_type": "stream",
     "text": [
      "100%|██████████████████████████████████████████████████████████████████████████████| 37/37 [00:01<00:00, 28.71it/s]\n"
     ]
    },
    {
     "name": "stdout",
     "output_type": "stream",
     "text": [
      "13 val loss:  16171.78295238598\n"
     ]
    },
    {
     "name": "stderr",
     "output_type": "stream",
     "text": [
      "100%|████████████████████████████████████████████████████████████████████████████| 117/117 [00:05<00:00, 21.81it/s]\n"
     ]
    },
    {
     "name": "stdout",
     "output_type": "stream",
     "text": [
      "14 train loss:  13403.293260884082\n"
     ]
    },
    {
     "name": "stderr",
     "output_type": "stream",
     "text": [
      "100%|██████████████████████████████████████████████████████████████████████████████| 37/37 [00:01<00:00, 26.98it/s]\n"
     ]
    },
    {
     "name": "stdout",
     "output_type": "stream",
     "text": [
      "14 val loss:  15524.54614917652\n"
     ]
    },
    {
     "name": "stderr",
     "output_type": "stream",
     "text": [
      "100%|████████████████████████████████████████████████████████████████████████████| 117/117 [00:05<00:00, 21.73it/s]\n"
     ]
    },
    {
     "name": "stdout",
     "output_type": "stream",
     "text": [
      "15 train loss:  13344.529651609242\n"
     ]
    },
    {
     "name": "stderr",
     "output_type": "stream",
     "text": [
      "100%|██████████████████████████████████████████████████████████████████████████████| 37/37 [00:01<00:00, 27.02it/s]\n"
     ]
    },
    {
     "name": "stdout",
     "output_type": "stream",
     "text": [
      "15 val loss:  17190.99780933277\n"
     ]
    },
    {
     "name": "stderr",
     "output_type": "stream",
     "text": [
      "100%|████████████████████████████████████████████████████████████████████████████| 117/117 [00:05<00:00, 20.73it/s]\n"
     ]
    },
    {
     "name": "stdout",
     "output_type": "stream",
     "text": [
      "16 train loss:  13188.429432926016\n"
     ]
    },
    {
     "name": "stderr",
     "output_type": "stream",
     "text": [
      "100%|██████████████████████████████████████████████████████████████████████████████| 37/37 [00:01<00:00, 27.18it/s]\n"
     ]
    },
    {
     "name": "stdout",
     "output_type": "stream",
     "text": [
      "16 val loss:  16223.314558699325\n"
     ]
    },
    {
     "name": "stderr",
     "output_type": "stream",
     "text": [
      "100%|████████████████████████████████████████████████████████████████████████████| 117/117 [00:05<00:00, 20.44it/s]\n"
     ]
    },
    {
     "name": "stdout",
     "output_type": "stream",
     "text": [
      "17 train loss:  13251.729283520299\n"
     ]
    },
    {
     "name": "stderr",
     "output_type": "stream",
     "text": [
      "100%|██████████████████████████████████████████████████████████████████████████████| 37/37 [00:01<00:00, 26.17it/s]\n"
     ]
    },
    {
     "name": "stdout",
     "output_type": "stream",
     "text": [
      "17 val loss:  17055.56001900338\n"
     ]
    },
    {
     "name": "stderr",
     "output_type": "stream",
     "text": [
      "100%|████████████████████████████████████████████████████████████████████████████| 117/117 [00:05<00:00, 20.15it/s]\n"
     ]
    },
    {
     "name": "stdout",
     "output_type": "stream",
     "text": [
      "18 train loss:  13240.845832498664\n"
     ]
    },
    {
     "name": "stderr",
     "output_type": "stream",
     "text": [
      "100%|██████████████████████████████████████████████████████████████████████████████| 37/37 [00:01<00:00, 26.59it/s]\n"
     ]
    },
    {
     "name": "stdout",
     "output_type": "stream",
     "text": [
      "18 val loss:  15593.562315244932\n"
     ]
    },
    {
     "name": "stderr",
     "output_type": "stream",
     "text": [
      "100%|████████████████████████████████████████████████████████████████████████████| 117/117 [00:05<00:00, 20.89it/s]\n"
     ]
    },
    {
     "name": "stdout",
     "output_type": "stream",
     "text": [
      "19 train loss:  15109.280870225695\n"
     ]
    },
    {
     "name": "stderr",
     "output_type": "stream",
     "text": [
      "100%|██████████████████████████████████████████████████████████████████████████████| 37/37 [00:01<00:00, 27.33it/s]"
     ]
    },
    {
     "name": "stdout",
     "output_type": "stream",
     "text": [
      "19 val loss:  19719.550121410473\n"
     ]
    },
    {
     "name": "stderr",
     "output_type": "stream",
     "text": [
      "\n"
     ]
    }
   ],
   "source": [
    "for epoch in range(20):\n",
    "    train_loss_list = []\n",
    "    for batch in tqdm(train_loader):\n",
    "        total_step += 1\n",
    "\n",
    "        x, y, l = batch\n",
    "\n",
    "        batch_size = x.size(0)\n",
    "        pred_y = model(x, l)\n",
    "        \n",
    "        # reshape\n",
    "        y = y.view(batch_size, -1)\n",
    "        pred_y = pred_y.view(batch_size, -1)\n",
    "        \n",
    "        optimizer.zero_grad()\n",
    "        loss = (-y * F.log_softmax(pred_y, -1)).sum()\n",
    "        loss.backward()\n",
    "        optimizer.step()\n",
    "        \n",
    "        train_loss_list.append(loss.item())\n",
    "\n",
    "    print(epoch, \"train loss: \", np.mean(train_loss_list))\n",
    "    \n",
    "    model.eval()\n",
    "    val_loss_list = []\n",
    "    for batch in tqdm(val_loader):\n",
    "        total_step += 1\n",
    "\n",
    "        x, y, l = batch\n",
    "\n",
    "        batch_size = x.size(0)\n",
    "        pred_y = model(x, l)\n",
    "        \n",
    "        # reshape\n",
    "        y = y.view(batch_size, -1)\n",
    "        pred_y = pred_y.view(batch_size, -1)\n",
    "        \n",
    "        loss = (-y * F.log_softmax(pred_y, -1)).sum()\n",
    "        val_loss_list.append(loss.item())\n",
    "    \n",
    "    val_loss = np.mean(val_loss_list)\n",
    "    print(epoch, \"val loss: \", val_loss)\n",
    "    \n",
    "    # save model\n",
    "    if val_loss < best_val_loss:\n",
    "        model_path = '/home/yizhou/Research/temp0/custom_cliport823.pth'\n",
    "        torch.save(model.state_dict(), model_path)\n",
    "        best_val_loss = val_loss \n",
    "    \n",
    "    "
   ]
  },
  {
   "cell_type": "markdown",
   "id": "f0a35ccc-f1a3-434f-8234-35d7a17f29b7",
   "metadata": {},
   "source": [
    "# Test"
   ]
  },
  {
   "cell_type": "code",
   "execution_count": 24,
   "id": "aac2c3e1-a247-45e2-84cf-cb5d26a992f5",
   "metadata": {},
   "outputs": [
    {
     "data": {
      "text/plain": [
       "<All keys matched successfully>"
      ]
     },
     "execution_count": 24,
     "metadata": {},
     "output_type": "execute_result"
    }
   ],
   "source": [
    "# model_path = '/home/yizhou/Research/temp0/custom_cliport823.pth'\n",
    "model.load_state_dict(torch.load(model_path))"
   ]
  },
  {
   "cell_type": "code",
   "execution_count": 43,
   "id": "9d788095-a338-4bfb-9c2d-5ecc47a7a05b",
   "metadata": {},
   "outputs": [
    {
     "ename": "TypeError",
     "evalue": "'tuple' object is not an iterator",
     "output_type": "error",
     "traceback": [
      "\u001b[0;31m---------------------------------------------------------------------------\u001b[0m",
      "\u001b[0;31mTypeError\u001b[0m                                 Traceback (most recent call last)",
      "Input \u001b[0;32mIn [43]\u001b[0m, in \u001b[0;36m<cell line: 1>\u001b[0;34m()\u001b[0m\n\u001b[0;32m----> 1\u001b[0m batch \u001b[38;5;241m=\u001b[39m \u001b[38;5;28;43mnext\u001b[39;49m\u001b[43m(\u001b[49m\u001b[38;5;28;43mnext\u001b[39;49m\u001b[43m(\u001b[49m\u001b[38;5;28;43miter\u001b[39;49m\u001b[43m(\u001b[49m\u001b[43mval_loader\u001b[49m\u001b[43m)\u001b[49m\u001b[43m)\u001b[49m\u001b[43m)\u001b[49m\n",
      "\u001b[0;31mTypeError\u001b[0m: 'tuple' object is not an iterator"
     ]
    }
   ],
   "source": [
    "batch = next(iter(val_loader))"
   ]
  },
  {
   "cell_type": "code",
   "execution_count": 26,
   "id": "c90235c2-93ca-42a1-80c1-85ca75895d65",
   "metadata": {},
   "outputs": [],
   "source": [
    "x, y, l = batch"
   ]
  },
  {
   "cell_type": "code",
   "execution_count": 27,
   "id": "c39973bf-6a3d-4984-b51e-dba061ee9560",
   "metadata": {},
   "outputs": [
    {
     "data": {
      "text/plain": [
       "(torch.Size([12, 512, 7, 7]),\n",
       " torch.Size([12, 256, 256]),\n",
       " torch.Size([12, 512]))"
      ]
     },
     "execution_count": 27,
     "metadata": {},
     "output_type": "execute_result"
    }
   ],
   "source": [
    "x.shape, y.shape, l.shape"
   ]
  },
  {
   "cell_type": "code",
   "execution_count": 28,
   "id": "83280787-ae5c-4940-8045-d3586243855c",
   "metadata": {},
   "outputs": [],
   "source": [
    "pred_y = model(x, l)"
   ]
  },
  {
   "cell_type": "code",
   "execution_count": 29,
   "id": "917a9151-8309-4e57-8bb5-c882dc731f6a",
   "metadata": {},
   "outputs": [],
   "source": [
    "import matplotlib.pyplot as plt"
   ]
  },
  {
   "cell_type": "code",
   "execution_count": 32,
   "id": "f4573efb-c953-40bc-b06e-50a016395104",
   "metadata": {},
   "outputs": [
    {
     "data": {
      "text/plain": [
       "<matplotlib.image.AxesImage at 0x7fb2763551f0>"
      ]
     },
     "execution_count": 32,
     "metadata": {},
     "output_type": "execute_result"
    },
    {
     "data": {
      "image/png": "[encoded data removed]",
      "text/plain": [
       "<Figure size 432x288 with 1 Axes>"
      ]
     },
     "metadata": {
      "needs_background": "light"
     },
     "output_type": "display_data"
    }
   ],
   "source": [
    "plt.imshow(np.array(pred_y[3].cpu().data) * 255, cmap = \"gray\")"
   ]
  },
  {
   "cell_type": "code",
   "execution_count": 41,
   "id": "edaf971e-9bab-4d35-9c3a-49b714752f21",
   "metadata": {},
   "outputs": [
    {
     "data": {
      "text/plain": [
       "<matplotlib.image.AxesImage at 0x7fb2761df970>"
      ]
     },
     "execution_count": 41,
     "metadata": {},
     "output_type": "execute_result"
    },
    {
     "data": {
      "image/png": "[encoded data removed]",
      "text/plain": [
       "<Figure size 432x288 with 1 Axes>"
      ]
     },
     "metadata": {
      "needs_background": "light"
     },
     "output_type": "display_data"
    }
   ],
   "source": [
    "plt.imshow(np.array(y[11].cpu().data) * 255, cmap = \"gray\")"
   ]
  },
  {
   "cell_type": "code",
   "execution_count": 20,
   "id": "0356bae3-8f62-43fc-bab1-a8d219e65666",
   "metadata": {},
   "outputs": [
    {
     "data": {
      "text/plain": [
       "(64, 112)"
      ]
     },
     "execution_count": 20,
     "metadata": {},
     "output_type": "execute_result"
    }
   ],
   "source": [
    "torch.argmax(y[3].cpu().data).item() // 256, torch.argmax(y[3].cpu().data).item() % 256"
   ]
  },
  {
   "cell_type": "code",
   "execution_count": 33,
   "id": "17fc7a72-3af5-4a57-945e-266ffd7a0c71",
   "metadata": {},
   "outputs": [
    {
     "data": {
      "text/plain": [
       "(73, 130)"
      ]
     },
     "execution_count": 33,
     "metadata": {},
     "output_type": "execute_result"
    }
   ],
   "source": [
    "torch.argmax(pred_y[3].cpu().data).item() // 256, torch.argmax(pred_y[3].cpu().data).item() % 256"
   ]
  },
  {
   "cell_type": "code",
   "execution_count": 42,
   "id": "cb3c9ddd-568c-4891-969f-5f8da68295e1",
   "metadata": {},
   "outputs": [
    {
     "name": "stdout",
     "output_type": "stream",
     "text": [
      "75 97\n",
      "horizontal\n"
     ]
    }
   ],
   "source": [
    "pred_max_index = torch.argmax(pred_y[11].cpu().data).item() \n",
    "\n",
    "h, w =  pred_max_index// 256, pred_max_index % 256\n",
    "print(h,w)\n",
    "\n",
    "# get direction\n",
    "top_bound = max(h - 5, 0)\n",
    "bottom_bound = min(h + 5, 255)\n",
    "\n",
    "left_bound = max(w - 5, 0)\n",
    "right_bound = min(w + 5, 255)\n",
    "\n",
    "# mean over vertical direction\n",
    "v_mean = torch.mean(pred_y[0][top_bound:bottom_bound, w]).item()\n",
    "h_mean = torch.mean(pred_y[0][left_bound:right_bound, h]).item()\n",
    "\n",
    "handle_dir = \"horizontal\" if v_mean > h_mean else \"vertical\" # if vertical direction more concentrate, then direciton is horizontal\n",
    "\n",
    "print(handle_dir)"
   ]
  },
  {
   "cell_type": "code",
   "execution_count": null,
   "id": "4ffce657-de57-421b-8749-f76d38af6d23",
   "metadata": {},
   "outputs": [],
   "source": []
  }
 ],
 "metadata": {
  "kernelspec": {
   "display_name": "cliport",
   "language": "python",
   "name": "cliport"
  },
  "language_info": {
   "codemirror_mode": {
    "name": "ipython",
    "version": 3
   },
   "file_extension": ".py",
   "mimetype": "text/x-python",
   "name": "python",
   "nbconvert_exporter": "python",
   "pygments_lexer": "ipython3",
   "version": "3.8.13"
  }
 },
 "nbformat": 4,
 "nbformat_minor": 5
}
