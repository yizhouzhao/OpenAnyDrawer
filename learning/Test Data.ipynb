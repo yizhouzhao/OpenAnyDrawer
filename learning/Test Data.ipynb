{
 "cells": [
  {
   "cell_type": "code",
   "execution_count": 1,
   "id": "19e4acb7-a9cb-4305-a609-4cc5a00e33b2",
   "metadata": {},
   "outputs": [],
   "source": [
    "import numpy as np"
   ]
  },
  {
   "cell_type": "code",
   "execution_count": 2,
   "id": "84569204-0340-4489-af5c-c818c0eeaa57",
   "metadata": {},
   "outputs": [],
   "source": [
    "np_path = \"/home/yizhou/Research/temp/bounding_box_2d_tight_0.npy\""
   ]
  },
  {
   "cell_type": "code",
   "execution_count": 3,
   "id": "ce0f581e-b494-440e-bdb2-8d736f1c85b4",
   "metadata": {},
   "outputs": [
    {
     "data": {
      "text/plain": [
       "array([(0, 146, 38, 151, 43), (0, 175, 67, 178, 84)],\n",
       "      dtype=[('semanticId', '<u4'), ('x_min', '<i4'), ('y_min', '<i4'), ('x_max', '<i4'), ('y_max', '<i4')])"
      ]
     },
     "execution_count": 3,
     "metadata": {},
     "output_type": "execute_result"
    }
   ],
   "source": [
    "np.load(np_path)"
   ]
  },
  {
   "cell_type": "code",
   "execution_count": null,
   "id": "233f06e0-54e3-4e72-a984-804f9fd30471",
   "metadata": {},
   "outputs": [],
   "source": []
  }
 ],
 "metadata": {
  "kernelspec": {
   "display_name": "Python (rlgpu)",
   "language": "python",
   "name": "rlgpu"
  },
  "language_info": {
   "codemirror_mode": {
    "name": "ipython",
    "version": 3
   },
   "file_extension": ".py",
   "mimetype": "text/x-python",
   "name": "python",
   "nbconvert_exporter": "python",
   "pygments_lexer": "ipython3",
   "version": "3.7.12"
  }
 },
 "nbformat": 4,
 "nbformat_minor": 5
}
