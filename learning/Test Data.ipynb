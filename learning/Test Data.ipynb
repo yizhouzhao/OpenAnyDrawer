{
 "cells": [
  {
   "cell_type": "code",
   "execution_count": 1,
   "id": "f1a8d457-4f9d-4435-b29f-476a91f4541c",
   "metadata": {},
   "outputs": [],
   "source": [
    "%load_ext autoreload\n",
    "%autoreload 2"
   ]
  },
  {
   "cell_type": "code",
   "execution_count": 2,
   "id": "48abe936-4c6d-42fc-84ef-03b8b8fcc065",
   "metadata": {},
   "outputs": [
    {
     "name": "stderr",
     "output_type": "stream",
     "text": [
      "/home/yizhou/miniconda3/envs/rlgpu/lib/python3.7/site-packages/tqdm/auto.py:22: TqdmWarning: IProgress not found. Please update jupyter and ipywidgets. See https://ipywidgets.readthedocs.io/en/stable/user_install.html\n",
      "  from .autonotebook import tqdm as notebook_tqdm\n"
     ]
    }
   ],
   "source": [
    "import numpy as np\n",
    "import cv2\n",
    "import os\n",
    "import re\n",
    "\n",
    "# import albumentations as A\n",
    "# from albumentations.pytorch.transforms import ToTensorV2\n",
    "\n",
    "import torch\n",
    "import torchvision\n",
    "\n",
    "from torchvision.models.detection.faster_rcnn import FastRCNNPredictor\n",
    "from torchvision.models.detection import FasterRCNN\n",
    "from torchvision.models.detection.rpn import AnchorGenerator\n",
    "\n",
    "from torch.utils.data import DataLoader, Dataset\n",
    "from torch.utils.data.sampler import SequentialSampler\n",
    "\n",
    "from matplotlib import pyplot as plt"
   ]
  },
  {
   "cell_type": "code",
   "execution_count": 3,
   "id": "d1ef3b19-cc36-4414-8a4d-2f14e3ade9fb",
   "metadata": {},
   "outputs": [],
   "source": [
    "device = torch.device('cuda') if torch.cuda.is_available() else torch.device('cpu')"
   ]
  },
  {
   "cell_type": "code",
   "execution_count": 4,
   "id": "0842bcaa-8fca-4b71-adfb-d9b3863c0283",
   "metadata": {},
   "outputs": [],
   "source": [
    "from dataset import HandleDataset, get_train_transform, collate_fn"
   ]
  },
  {
   "cell_type": "code",
   "execution_count": 5,
   "id": "039a6f94-7fdd-4c57-bb89-c735bd660e27",
   "metadata": {},
   "outputs": [],
   "source": [
    "train_dataset = HandleDataset(\"/home/yizhou/Research/temp/\", get_train_transform()) #\n",
    "\n",
    "train_data_loader = DataLoader(\n",
    "    train_dataset,\n",
    "    batch_size=2,\n",
    "    shuffle=False,\n",
    "    num_workers=4,\n",
    "    collate_fn=collate_fn\n",
    ")"
   ]
  },
  {
   "cell_type": "code",
   "execution_count": 6,
   "id": "11493f34-9087-4a15-9337-2a6761b14382",
   "metadata": {},
   "outputs": [],
   "source": [
    "images, targets, image_ids = next(iter(train_data_loader))\n",
    "images = list(image.to(device) for image in images)\n",
    "targets = [{k: v.to(device) for k, v in t.items()} for t in targets]"
   ]
  },
  {
   "cell_type": "code",
   "execution_count": 7,
   "id": "b147402d-05f4-4827-8c3c-ccc113c010bf",
   "metadata": {},
   "outputs": [],
   "source": [
    "boxes = targets[0]['boxes'].cpu().numpy().astype(np.int32)\n",
    "sample = images[0].permute(1,2,0).cpu().numpy()"
   ]
  },
  {
   "cell_type": "code",
   "execution_count": 8,
   "id": "ea2b366d-2af5-4821-9c2b-219d9e4a9856",
   "metadata": {},
   "outputs": [
    {
     "name": "stderr",
     "output_type": "stream",
     "text": [
      "Clipping input data to the valid range for imshow with RGB data ([0..1] for floats or [0..255] for integers).\n"
     ]
    },
    {
     "data": {
      "text/plain": [
       "<matplotlib.image.AxesImage at 0x7f3fac6f8390>"
      ]
     },
     "execution_count": 8,
     "metadata": {},
     "output_type": "execute_result"
    },
    {
     "data": {
      "image/png": "[encoded data removed]",
      "text/plain": [
       "<Figure size 1152x576 with 1 Axes>"
      ]
     },
     "metadata": {
      "needs_background": "light"
     },
     "output_type": "display_data"
    }
   ],
   "source": [
    "fig, ax = plt.subplots(1, 1, figsize=(16, 8))\n",
    "\n",
    "for box in boxes:\n",
    "    cv2.rectangle(sample,\n",
    "                  (box[0], box[1]),\n",
    "                  (box[2], box[3]),\n",
    "                  (220, 0, 0), 1)\n",
    "    \n",
    "ax.set_axis_off()\n",
    "ax.imshow(sample)"
   ]
  },
  {
   "cell_type": "code",
   "execution_count": 9,
   "id": "54309efe-7e42-4d82-8860-e0c2c50496e4",
   "metadata": {},
   "outputs": [
    {
     "data": {
      "text/plain": [
       "174"
      ]
     },
     "execution_count": 9,
     "metadata": {},
     "output_type": "execute_result"
    }
   ],
   "source": [
    "len(train_dataset)"
   ]
  },
  {
   "cell_type": "markdown",
   "id": "17ebc14d-09dd-490c-9d7f-2bf14a398c25",
   "metadata": {},
   "source": [
    "# Model"
   ]
  },
  {
   "cell_type": "code",
   "execution_count": 10,
   "id": "4864ef27-ce1f-4f2d-be52-6a52297629b9",
   "metadata": {},
   "outputs": [],
   "source": [
    "# load a model; pre-trained on COCO\n",
    "model = torchvision.models.detection.fasterrcnn_resnet50_fpn(pretrained=True)"
   ]
  },
  {
   "cell_type": "code",
   "execution_count": 11,
   "id": "7bdaad20-f389-4b1c-b66f-b1530657a95d",
   "metadata": {},
   "outputs": [],
   "source": [
    "num_classes = 2  # 1 class (wheat) + background\n",
    "\n",
    "# get number of input features for the classifier\n",
    "in_features = model.roi_heads.box_predictor.cls_score.in_features\n",
    "\n",
    "# replace the pre-trained head with a new one\n",
    "model.roi_heads.box_predictor = FastRCNNPredictor(in_features, num_classes)"
   ]
  },
  {
   "cell_type": "code",
   "execution_count": 12,
   "id": "f1f43183-7d60-451d-ae80-78f93d22f879",
   "metadata": {},
   "outputs": [],
   "source": [
    "model.to(device)\n",
    "params = [p for p in model.parameters() if p.requires_grad]\n",
    "optimizer = torch.optim.SGD(params, lr=0.005, momentum=0.9, weight_decay=0.0005)\n",
    "# lr_scheduler = torch.optim.lr_scheduler.StepLR(optimizer, step_size=3, gamma=0.1)\n",
    "lr_scheduler = None\n",
    "\n",
    "num_epochs = 2"
   ]
  },
  {
   "cell_type": "code",
   "execution_count": null,
   "id": "40c94694-500d-4f44-9d07-db00a5ec75fd",
   "metadata": {},
   "outputs": [],
   "source": [
    "torch.stack(images).cuda()"
   ]
  },
  {
   "cell_type": "code",
   "execution_count": null,
   "id": "54cf0f70-7f63-4b05-a4ff-9da07dbe990e",
   "metadata": {},
   "outputs": [],
   "source": [
    "targets"
   ]
  },
  {
   "cell_type": "code",
   "execution_count": null,
   "id": "3ba90299-c7b0-4792-baac-59303d570811",
   "metadata": {},
   "outputs": [],
   "source": [
    "loss_dict = model(torch.stack(images).cuda(), targets)"
   ]
  },
  {
   "cell_type": "code",
   "execution_count": null,
   "id": "411db94c-07ec-4e05-b60b-096c6936cd04",
   "metadata": {},
   "outputs": [],
   "source": [
    "pause"
   ]
  },
  {
   "cell_type": "code",
   "execution_count": null,
   "id": "24e3088d-7cce-4eaf-96a4-933d04e16de3",
   "metadata": {},
   "outputs": [],
   "source": []
  },
  {
   "cell_type": "code",
   "execution_count": null,
   "id": "7a79f801-79a7-4e1e-a862-52f0c1442ccf",
   "metadata": {},
   "outputs": [],
   "source": [
    "for i, (images, targets, image_ids) in enumerate(train_data_loader): \n",
    "    images = list(image.to(device) for image in images)\n",
    "    targets = [{k: v.to(device) for k, v in t.items()} for t in targets]\n",
    "    loss_dict = model(images, targets)\n",
    "    print(i, image_ids)\n",
    "    # print(len(images))"
   ]
  },
  {
   "cell_type": "code",
   "execution_count": null,
   "id": "1ab52926-87c4-432f-af4c-1880bb211fed",
   "metadata": {},
   "outputs": [],
   "source": [
    "pause"
   ]
  },
  {
   "cell_type": "code",
   "execution_count": null,
   "id": "268ae944-79d0-4aea-9e70-69d727e0cee7",
   "metadata": {},
   "outputs": [],
   "source": [
    "# images, boxes = torch.rand(2, 3, 224, 224), torch.rand(2, 1, 4)"
   ]
  },
  {
   "cell_type": "code",
   "execution_count": 13,
   "id": "b1b1a953-db7d-4e83-a7ec-43c03dcb9a32",
   "metadata": {},
   "outputs": [],
   "source": [
    "boxes = torch.rand(2, 1, 4) * 224"
   ]
  },
  {
   "cell_type": "code",
   "execution_count": 14,
   "id": "5f1e10ea-70ce-49d3-9f67-f98a40cc019f",
   "metadata": {},
   "outputs": [],
   "source": [
    "boxes[:, :, 2:4] = boxes[:, :, 0:2] + boxes[:, :, 2:4]"
   ]
  },
  {
   "cell_type": "code",
   "execution_count": 15,
   "id": "e2c3443b-3e5d-44df-9dc4-fbe415a525b9",
   "metadata": {},
   "outputs": [],
   "source": [
    "labels = torch.randint(0, 1, (4, 1)) + 1"
   ]
  },
  {
   "cell_type": "code",
   "execution_count": 16,
   "id": "993f6e4c-df74-4b0b-ab1e-08e5698b24f2",
   "metadata": {},
   "outputs": [
    {
     "data": {
      "text/plain": [
       "tensor([[1],\n",
       "        [1],\n",
       "        [1],\n",
       "        [1]])"
      ]
     },
     "execution_count": 16,
     "metadata": {},
     "output_type": "execute_result"
    }
   ],
   "source": [
    "labels"
   ]
  },
  {
   "cell_type": "code",
   "execution_count": 17,
   "id": "55b71670-fb25-4cb0-89b4-84ba44027c81",
   "metadata": {},
   "outputs": [],
   "source": [
    "targets = []\n",
    "for i in range(len(images)):\n",
    "    d = {}\n",
    "    d['boxes'] = boxes[i]\n",
    "    d['labels'] = labels[i]\n",
    "    targets.append(d)"
   ]
  },
  {
   "cell_type": "code",
   "execution_count": 18,
   "id": "afd02f87-90c6-4947-9c07-be0cc5856bde",
   "metadata": {},
   "outputs": [
    {
     "data": {
      "text/plain": [
       "[{'boxes': tensor([[151.6770, 105.1310, 321.0735, 239.0103]]),\n",
       "  'labels': tensor([1])},\n",
       " {'boxes': tensor([[146.8885,  77.4219, 292.3548, 197.1121]]),\n",
       "  'labels': tensor([1])}]"
      ]
     },
     "execution_count": 18,
     "metadata": {},
     "output_type": "execute_result"
    }
   ],
   "source": [
    "targets"
   ]
  },
  {
   "cell_type": "code",
   "execution_count": 19,
   "id": "a83ee457-1f69-465e-bf7f-6ddb64e63d45",
   "metadata": {},
   "outputs": [],
   "source": [
    "model = model.cpu()"
   ]
  },
  {
   "cell_type": "code",
   "execution_count": null,
   "id": "24458ec1-5452-4b1c-85d1-60aa55ac9b9f",
   "metadata": {},
   "outputs": [],
   "source": [
    "targets = [{k: v.to(device) for k, v in t.items()} for t in targets]"
   ]
  },
  {
   "cell_type": "code",
   "execution_count": null,
   "id": "551ab8d8-7935-4c54-8deb-a6fad3a402ca",
   "metadata": {},
   "outputs": [],
   "source": [
    "targets"
   ]
  },
  {
   "cell_type": "code",
   "execution_count": 20,
   "id": "2f118aa6-3580-48d1-8992-620073a21e9b",
   "metadata": {},
   "outputs": [],
   "source": [
    "output = model(torch.stack(images).to(\"cpu\"), targets)"
   ]
  },
  {
   "cell_type": "code",
   "execution_count": 21,
   "id": "d15f0cca-faff-4b48-9fa1-094a4e226fe2",
   "metadata": {},
   "outputs": [
    {
     "data": {
      "text/plain": [
       "{'loss_classifier': tensor(0.5638, grad_fn=<NllLossBackward>),\n",
       " 'loss_box_reg': tensor(6.1270e-05, grad_fn=<DivBackward0>),\n",
       " 'loss_objectness': tensor(0.0303, grad_fn=<BinaryCrossEntropyWithLogitsBackward>),\n",
       " 'loss_rpn_box_reg': tensor(0.0015, grad_fn=<DivBackward0>)}"
      ]
     },
     "execution_count": 21,
     "metadata": {},
     "output_type": "execute_result"
    }
   ],
   "source": [
    "output"
   ]
  },
  {
   "cell_type": "markdown",
   "id": "a17c80c1-dda0-4871-84cc-954cafd31610",
   "metadata": {},
   "source": [
    "# Train"
   ]
  },
  {
   "cell_type": "code",
   "execution_count": null,
   "id": "23b9004a-ef8c-4a3f-899f-037a49e37ea2",
   "metadata": {},
   "outputs": [],
   "source": [
    "class Averager:\n",
    "    def __init__(self):\n",
    "        self.current_total = 0.0\n",
    "        self.iterations = 0.0\n",
    "\n",
    "    def send(self, value):\n",
    "        self.current_total += value\n",
    "        self.iterations += 1\n",
    "\n",
    "    @property\n",
    "    def value(self):\n",
    "        if self.iterations == 0:\n",
    "            return 0\n",
    "        else:\n",
    "            return 1.0 * self.current_total / self.iterations\n",
    "\n",
    "    def reset(self):\n",
    "        self.current_total = 0.0\n",
    "        self.iterations = 0.0"
   ]
  },
  {
   "cell_type": "code",
   "execution_count": null,
   "id": "50d1bec3-480b-4559-8988-a1702ea863eb",
   "metadata": {},
   "outputs": [],
   "source": [
    "images"
   ]
  },
  {
   "cell_type": "code",
   "execution_count": null,
   "id": "47987450-a876-4418-9691-525a40cf3b28",
   "metadata": {},
   "outputs": [],
   "source": [
    "loss_hist = Averager()\n",
    "itr = 1\n",
    "\n",
    "for epoch in range(num_epochs):\n",
    "    loss_hist.reset()\n",
    "    \n",
    "    for images, targets, image_ids in train_data_loader:\n",
    "        \n",
    "        images = list(image.to(device) for image in images)\n",
    "        targets = [{k: v.to(device) for k, v in t.items()} for t in targets]\n",
    "\n",
    "        loss_dict = model(images, targets)\n",
    "\n",
    "        losses = sum(loss for loss in loss_dict.values())\n",
    "        loss_value = losses.item()\n",
    "\n",
    "        loss_hist.send(loss_value)\n",
    "\n",
    "        optimizer.zero_grad()\n",
    "        losses.backward()\n",
    "        optimizer.step()\n",
    "\n",
    "        if itr % 50 == 0:\n",
    "            print(f\"Iteration #{itr} loss: {loss_value}\")\n",
    "\n",
    "        itr += 1\n",
    "    \n",
    "    # update the learning rate\n",
    "    if lr_scheduler is not None:\n",
    "        lr_scheduler.step()\n",
    "\n",
    "    print(f\"Epoch #{epoch} loss: {loss_hist.value}\")   "
   ]
  },
  {
   "cell_type": "code",
   "execution_count": null,
   "id": "87343e1e-70c2-4b84-932a-1f7e483baa67",
   "metadata": {},
   "outputs": [],
   "source": []
  }
 ],
 "metadata": {
  "kernelspec": {
   "display_name": "Python (rlgpu)",
   "language": "python",
   "name": "rlgpu"
  },
  "language_info": {
   "codemirror_mode": {
    "name": "ipython",
    "version": 3
   },
   "file_extension": ".py",
   "mimetype": "text/x-python",
   "name": "python",
   "nbconvert_exporter": "python",
   "pygments_lexer": "ipython3",
   "version": "3.7.12"
  }
 },
 "nbformat": 4,
 "nbformat_minor": 5
}
