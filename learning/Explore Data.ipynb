{
 "cells": [
  {
   "cell_type": "code",
   "execution_count": 1,
   "id": "307e4471-262b-417e-9526-2f7d8c41642b",
   "metadata": {},
   "outputs": [],
   "source": [
    "import numpy as np"
   ]
  },
  {
   "cell_type": "code",
   "execution_count": 16,
   "id": "927cfecf-34a7-4a1a-a7f7-8ab4a1c78948",
   "metadata": {},
   "outputs": [],
   "source": [
    "np_data = np.load(\"/home/yizhou/Research/temp0/3/bounding_box_2d_tight_0.npy\")"
   ]
  },
  {
   "cell_type": "code",
   "execution_count": 25,
   "id": "73d56332-a456-4423-ae42-a56577ec8057",
   "metadata": {},
   "outputs": [
    {
     "data": {
      "text/plain": [
       "array([(0, 114, 36, 139, 40)],\n",
       "      dtype=[('semanticId', '<u4'), ('x_min', '<i4'), ('y_min', '<i4'), ('x_max', '<i4'), ('y_max', '<i4')])"
      ]
     },
     "execution_count": 25,
     "metadata": {},
     "output_type": "execute_result"
    }
   ],
   "source": [
    "np_data"
   ]
  },
  {
   "cell_type": "code",
   "execution_count": 26,
   "id": "2ac91c41-34bf-4fac-af67-3aecb4e82dd9",
   "metadata": {},
   "outputs": [],
   "source": [
    "camera_pos = [-1, 0, 0.5]"
   ]
  },
  {
   "cell_type": "code",
   "execution_count": 27,
   "id": "2efcdefc-62fe-4f9a-8606-109b1244c7a3",
   "metadata": {},
   "outputs": [],
   "source": [
    "handle_pos = [0.61857, 0.00588, 0.99611]"
   ]
  },
  {
   "cell_type": "code",
   "execution_count": 28,
   "id": "bd2ba704-34bb-403f-b2e9-cd981b195e2f",
   "metadata": {},
   "outputs": [],
   "source": [
    "delta_w = (np_data[0][1] + np_data[0][3]) / 2 - 128"
   ]
  },
  {
   "cell_type": "code",
   "execution_count": 29,
   "id": "96feb310-d6e5-44d2-97af-dada1f1605af",
   "metadata": {},
   "outputs": [],
   "source": [
    "delta_h = (np_data[0][2] + np_data[0][4]) / 2 - 128"
   ]
  },
  {
   "cell_type": "code",
   "execution_count": 30,
   "id": "3d8eb5f2-348a-45a1-a46e-4bf17d9ce5a1",
   "metadata": {},
   "outputs": [
    {
     "data": {
      "text/plain": [
       "(-1.5, -90.0)"
      ]
     },
     "execution_count": 30,
     "metadata": {},
     "output_type": "execute_result"
    }
   ],
   "source": [
    "delta_w, delta_h"
   ]
  },
  {
   "cell_type": "code",
   "execution_count": 23,
   "id": "442375a6-f254-490e-b0a5-18ecf9fd7553",
   "metadata": {},
   "outputs": [
    {
     "data": {
      "text/plain": [
       "-412.9005102040817"
      ]
     },
     "execution_count": 23,
     "metadata": {},
     "output_type": "execute_result"
    }
   ],
   "source": [
    "(handle_pos[0] - camera_pos[0]) * delta_w / (handle_pos[1] - camera_pos[1])"
   ]
  },
  {
   "cell_type": "code",
   "execution_count": 24,
   "id": "5afc2d54-d1ae-4b32-a85e-e57f5198049b",
   "metadata": {},
   "outputs": [
    {
     "data": {
      "text/plain": [
       "-293.6270182016085"
      ]
     },
     "execution_count": 24,
     "metadata": {},
     "output_type": "execute_result"
    }
   ],
   "source": [
    "(handle_pos[0] - camera_pos[0]) * delta_h / (handle_pos[2] - camera_pos[2])"
   ]
  },
  {
   "cell_type": "code",
   "execution_count": 31,
   "id": "78b737c7-4ed9-4d41-a743-f351746b69e9",
   "metadata": {},
   "outputs": [],
   "source": [
    "D = -293"
   ]
  },
  {
   "cell_type": "code",
   "execution_count": 36,
   "id": "16995a0c-de5b-471f-9b00-462443633da2",
   "metadata": {},
   "outputs": [
    {
     "data": {
      "text/plain": [
       "0.9971716723549489"
      ]
     },
     "execution_count": 36,
     "metadata": {},
     "output_type": "execute_result"
    }
   ],
   "source": [
    "(handle_pos[0] - camera_pos[0]) * delta_h / D + camera_pos[2]"
   ]
  },
  {
   "cell_type": "code",
   "execution_count": 39,
   "id": "df86dc35-858c-428a-a499-285d5bfb4b1b",
   "metadata": {},
   "outputs": [
    {
     "data": {
      "text/plain": [
       "0.008286194539249147"
      ]
     },
     "execution_count": 39,
     "metadata": {},
     "output_type": "execute_result"
    }
   ],
   "source": [
    "(handle_pos[0] - camera_pos[0]) * delta_w / D + camera_pos[1]"
   ]
  },
  {
   "cell_type": "code",
   "execution_count": null,
   "id": "a59fe91c-ba73-43b7-b549-883eb2ceb9d5",
   "metadata": {},
   "outputs": [],
   "source": []
  }
 ],
 "metadata": {
  "kernelspec": {
   "display_name": "Python (rlgpu)",
   "language": "python",
   "name": "rlgpu"
  },
  "language_info": {
   "codemirror_mode": {
    "name": "ipython",
    "version": 3
   },
   "file_extension": ".py",
   "mimetype": "text/x-python",
   "name": "python",
   "nbconvert_exporter": "python",
   "pygments_lexer": "ipython3",
   "version": "3.7.12"
  }
 },
 "nbformat": 4,
 "nbformat_minor": 5
}
