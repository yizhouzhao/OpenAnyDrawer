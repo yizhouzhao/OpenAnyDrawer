{
 "cells": [
  {
   "cell_type": "markdown",
   "id": "531baa6f-8212-4607-b1f4-e30f0391ee58",
   "metadata": {},
   "source": [
    "# Franka Ground-TRUTH"
   ]
  },
  {
   "cell_type": "code",
   "execution_count": 1,
   "id": "63c0f91e-45a5-4155-b311-48e3c3c84165",
   "metadata": {},
   "outputs": [],
   "source": [
    "import numpy as np"
   ]
  },
  {
   "cell_type": "code",
   "execution_count": 7,
   "id": "f8ef49aa-705f-43a9-bc90-cd68018cc5e3",
   "metadata": {},
   "outputs": [],
   "source": [
    "import pandas as pd"
   ]
  },
  {
   "cell_type": "code",
   "execution_count": 8,
   "id": "bd52d428-548a-4fe2-bdd5-5b26fcd0d08b",
   "metadata": {},
   "outputs": [],
   "source": [
    "results = []\n",
    "with open(\"/home/yizhou/Research/Data/franka_exp.txt\") as f:\n",
    "    for line in f.readlines():\n",
    "        results.append(line.split(\",\"))"
   ]
  },
  {
   "cell_type": "code",
   "execution_count": 14,
   "id": "26c93522-1eba-408e-85fd-c3ab8e3c77f6",
   "metadata": {},
   "outputs": [
    {
     "data": {
      "text/plain": [
       "['0',\n",
       " '0',\n",
       " '/World/Game/mobility/link_0/visuals/handle_7',\n",
       " 'PhysicsRevoluteJoint',\n",
       " 'joint_0',\n",
       " 'True',\n",
       " '41.166456264694695\\n']"
      ]
     },
     "execution_count": 14,
     "metadata": {},
     "output_type": "execute_result"
    }
   ],
   "source": [
    "results[0]"
   ]
  },
  {
   "cell_type": "code",
   "execution_count": 12,
   "id": "9ab3593b-3bb4-47c3-842d-353068b1f38a",
   "metadata": {},
   "outputs": [
    {
     "data": {
      "text/plain": [
       "0.598404255319149"
      ]
     },
     "execution_count": 12,
     "metadata": {},
     "output_type": "execute_result"
    }
   ],
   "source": [
    "np.mean([eval(r[5]) for r in results])"
   ]
  },
  {
   "cell_type": "code",
   "execution_count": 13,
   "id": "02f1e5e4-af33-4d0a-8653-a141693e95b4",
   "metadata": {},
   "outputs": [
    {
     "data": {
      "text/plain": [
       "376"
      ]
     },
     "execution_count": 13,
     "metadata": {},
     "output_type": "execute_result"
    }
   ],
   "source": [
    " len(results)"
   ]
  },
  {
   "cell_type": "code",
   "execution_count": 16,
   "id": "01a6e8cd-b83d-4828-9442-bcc5c32ecef3",
   "metadata": {},
   "outputs": [
    {
     "data": {
      "text/plain": [
       "209"
      ]
     },
     "execution_count": 16,
     "metadata": {},
     "output_type": "execute_result"
    }
   ],
   "source": [
    "# proprotion of \n",
    "np.sum([r[3] == 'PhysicsRevoluteJoint' for r in results])"
   ]
  },
  {
   "cell_type": "code",
   "execution_count": 27,
   "id": "1f94b854-47c1-4829-a9cb-a5d23ade7e92",
   "metadata": {},
   "outputs": [
    {
     "data": {
      "text/plain": [
       "167"
      ]
     },
     "execution_count": 27,
     "metadata": {},
     "output_type": "execute_result"
    }
   ],
   "source": [
    "# proprotion of \n",
    "np.sum([r[3] != 'PhysicsRevoluteJoint' for r in results])"
   ]
  },
  {
   "cell_type": "code",
   "execution_count": 24,
   "id": "9a1b5c8a-99a8-40c2-9d23-acb9dedd8502",
   "metadata": {},
   "outputs": [
    {
     "data": {
      "text/plain": [
       "132"
      ]
     },
     "execution_count": 24,
     "metadata": {},
     "output_type": "execute_result"
    }
   ],
   "source": [
    "len(set([r[0] if r[3] == 'PhysicsRevoluteJoint' else None for r in results])) - 1"
   ]
  },
  {
   "cell_type": "code",
   "execution_count": 25,
   "id": "3476c50d-e15a-4f65-86e3-a6691b006802",
   "metadata": {},
   "outputs": [
    {
     "data": {
      "text/plain": [
       "74"
      ]
     },
     "execution_count": 25,
     "metadata": {},
     "output_type": "execute_result"
    }
   ],
   "source": [
    "len(set([r[0] if r[3] != 'PhysicsRevoluteJoint' else None for r in results])) - 1"
   ]
  },
  {
   "cell_type": "code",
   "execution_count": 26,
   "id": "20ed8151-3c5e-45db-ad47-7121971cec6c",
   "metadata": {},
   "outputs": [
    {
     "data": {
      "text/plain": [
       "175"
      ]
     },
     "execution_count": 26,
     "metadata": {},
     "output_type": "execute_result"
    }
   ],
   "source": [
    "# unique furniture\n",
    "len(set([r[0] for r in results]))"
   ]
  },
  {
   "cell_type": "code",
   "execution_count": null,
   "id": "063beddf-e439-48b3-8075-def946fc012f",
   "metadata": {},
   "outputs": [],
   "source": []
  }
 ],
 "metadata": {
  "kernelspec": {
   "display_name": "Python 3 (ipykernel)",
   "language": "python",
   "name": "python3"
  },
  "language_info": {
   "codemirror_mode": {
    "name": "ipython",
    "version": 3
   },
   "file_extension": ".py",
   "mimetype": "text/x-python",
   "name": "python",
   "nbconvert_exporter": "python",
   "pygments_lexer": "ipython3",
   "version": "3.7.12"
  }
 },
 "nbformat": 4,
 "nbformat_minor": 5
}
