{
 "cells": [
  {
   "cell_type": "code",
   "execution_count": null,
   "id": "f87ebc59",
   "metadata": {},
   "outputs": [],
   "source": [
    "%load_ext autoreload\n",
    "%autoreload 2"
   ]
  },
  {
   "cell_type": "code",
   "execution_count": null,
   "id": "da3246f9",
   "metadata": {},
   "outputs": [],
   "source": [
    "import numpy as np\n",
    "\n",
    "import getpass\n",
    "user = getpass.getuser()"
   ]
  },
  {
   "cell_type": "code",
   "execution_count": null,
   "id": "f0dcc796",
   "metadata": {},
   "outputs": [],
   "source": [
    "from PIL import Image"
   ]
  },
  {
   "cell_type": "code",
   "execution_count": null,
   "id": "70a0e8d4",
   "metadata": {},
   "outputs": [],
   "source": [
    "from omni.isaac.kit import SimulationApp\n",
    "\n",
    "# \"/home/yizhou/Research/OpenAnyDrawer/scene0.usd\" # \n",
    "usd_path = f\"omniverse://localhost/Users/{user}/scene4.usd\"\n",
    "\n",
    "\n",
    "simulation_app = SimulationApp({\"headless\": True, \"open_usd\": usd_path,  \"livesync_usd\": usd_path}) \n"
   ]
  },
  {
   "cell_type": "code",
   "execution_count": null,
   "id": "62324892",
   "metadata": {},
   "outputs": [],
   "source": [
    "# world\n",
    "from omni.isaac.core import World\n",
    "world = World()"
   ]
  },
  {
   "cell_type": "code",
   "execution_count": null,
   "id": "d89f93c3",
   "metadata": {},
   "outputs": [],
   "source": [
    "# reset scene\n",
    "import omni\n",
    "mobility_prim = world.scene.stage.GetPrimAtPath(\"/World/Game/mobility\")\n",
    "if mobility_prim:\n",
    "    omni.kit.commands.execute(\"DeletePrims\", paths=[\"/World/Game/mobility\"])\n",
    "    \n",
    "# hide robot\n",
    "# hand_prim = world.scene.stage.GetPrimAtPath(\"/World/allegro\")\n",
    "# hand_prim.GetAttribute('visibility').Set('invisible')"
   ]
  },
  {
   "cell_type": "code",
   "execution_count": null,
   "id": "e3223480",
   "metadata": {},
   "outputs": [],
   "source": [
    "from open_env import OpenEnv\n",
    "\n",
    "env = OpenEnv()"
   ]
  },
  {
   "cell_type": "code",
   "execution_count": null,
   "id": "623fd60c",
   "metadata": {},
   "outputs": [],
   "source": [
    "from franka.gripper import GripperHandEnv\n",
    "\n",
    "# env = HandEnv(\"/World/Hand/Bones/l_carpal_mid\", \"/World/Hand*/Bones/l_thumbSkeleton_grp/l_distalThumb_mid\")\n",
    "controller = GripperHandEnv(\"/World/Franka/panda_link8\", \"/World/AnchorXform\")"
   ]
  },
  {
   "cell_type": "code",
   "execution_count": null,
   "id": "cfe48c58",
   "metadata": {},
   "outputs": [],
   "source": [
    "env.add_camera()\n",
    "env.setup_viewport()"
   ]
  },
  {
   "cell_type": "code",
   "execution_count": null,
   "id": "97a43be8",
   "metadata": {},
   "outputs": [],
   "source": [
    "# init\n",
    "world.reset()\n",
    "controller.start()\n",
    "world.scene.add(controller.robots)\n",
    "\n",
    "world.render()\n",
    "# env.get_image()"
   ]
  },
  {
   "cell_type": "code",
   "execution_count": null,
   "id": "e6418a49",
   "metadata": {},
   "outputs": [],
   "source": [
    "world.render()\n",
    "env.get_image()"
   ]
  },
  {
   "cell_type": "code",
   "execution_count": null,
   "id": "8d67d56d",
   "metadata": {},
   "outputs": [],
   "source": [
    "env.add_object(0, scale = 0.1)"
   ]
  },
  {
   "cell_type": "code",
   "execution_count": null,
   "id": "10858044",
   "metadata": {},
   "outputs": [],
   "source": [
    "from omni.isaac.core.prims.xform_prim import XFormPrim\n",
    "mobility_obj = XFormPrim(\"/World/Game/mobility\")\n",
    "mobility_obj_name = mobility_obj.name\n",
    "\n",
    "world.scene.add(mobility_obj)"
   ]
  },
  {
   "cell_type": "code",
   "execution_count": null,
   "id": "9697eb0a",
   "metadata": {},
   "outputs": [],
   "source": [
    "world.render()\n",
    "env.get_image()"
   ]
  },
  {
   "cell_type": "code",
   "execution_count": null,
   "id": "bb794ea5",
   "metadata": {},
   "outputs": [],
   "source": [
    "from task.checker import TaskChecker\n",
    "from task.instructor import SceneInstructor"
   ]
  },
  {
   "cell_type": "code",
   "execution_count": null,
   "id": "6f167cbd",
   "metadata": {},
   "outputs": [],
   "source": [
    "scene_instr = SceneInstructor()\n",
    "scene_instr.analysis()"
   ]
  },
  {
   "cell_type": "code",
   "execution_count": null,
   "id": "abdccf29",
   "metadata": {},
   "outputs": [],
   "source": [
    "scene_instr.is_obj_valid"
   ]
  },
  {
   "cell_type": "code",
   "execution_count": null,
   "id": "4049c6c8",
   "metadata": {},
   "outputs": [],
   "source": [
    "scene_instr.valid_handle_list"
   ]
  },
  {
   "cell_type": "code",
   "execution_count": null,
   "id": "874ddc57",
   "metadata": {},
   "outputs": [],
   "source": [
    "handle_path_str = list(scene_instr.valid_handle_list.keys())[0]\n",
    "\n",
    "handle_joint_type = scene_instr.valid_handle_list[handle_path_str][\"joint_type\"]\n",
    "handle_joint = scene_instr.valid_handle_list[handle_path_str][\"joint\"]\n",
    "handle_rel_direciton = scene_instr.valid_handle_list[handle_path_str][\"relative_to_game_center\"]\n",
    "handle_direction = scene_instr.valid_handle_list[handle_path_str][\"direction\"]"
   ]
  },
  {
   "cell_type": "code",
   "execution_count": null,
   "id": "092e8d23",
   "metadata": {},
   "outputs": [],
   "source": [
    "handle_path_str, handle_joint_type, handle_joint, handle_rel_direciton"
   ]
  },
  {
   "cell_type": "code",
   "execution_count": null,
   "id": "53206689",
   "metadata": {},
   "outputs": [],
   "source": [
    "task_checker = TaskChecker(\"mobility\", handle_joint, handle_joint_type, IS_RUNTIME=True)"
   ]
  },
  {
   "cell_type": "markdown",
   "id": "ce1a3a56",
   "metadata": {},
   "source": [
    "# Solve"
   ]
  },
  {
   "cell_type": "code",
   "execution_count": null,
   "id": "252a84c4",
   "metadata": {},
   "outputs": [],
   "source": [
    "world.reset()"
   ]
  },
  {
   "cell_type": "code",
   "execution_count": null,
   "id": "116670da",
   "metadata": {},
   "outputs": [],
   "source": [
    "controller.xforms.set_world_poses(positions=np.array([[0,0,0]]), orientations = np.array([[1, 0, 0, 0]])) # WXYZ\n",
    "\n",
    "for _ in range(60):\n",
    "    world.step(render=True)"
   ]
  },
  {
   "cell_type": "code",
   "execution_count": null,
   "id": "fbb55fb4",
   "metadata": {
    "scrolled": true
   },
   "outputs": [],
   "source": [
    "# get grasp location, if handle is horizontal, gripper should be vertical\n",
    "graps_pos, grasp_rot = controller.calculate_grasp_location(keyword = handle_path_str, \n",
    "                                                         verticle = handle_direction == \"horizontal\")"
   ]
  },
  {
   "cell_type": "code",
   "execution_count": null,
   "id": "70f668ff",
   "metadata": {},
   "outputs": [],
   "source": [
    "graps_pos, grasp_rot"
   ]
  },
  {
   "cell_type": "markdown",
   "id": "4671707e",
   "metadata": {},
   "source": [
    "# Control"
   ]
  },
  {
   "cell_type": "code",
   "execution_count": null,
   "id": "109c58f9",
   "metadata": {},
   "outputs": [],
   "source": [
    "graps_pos, grasp_rot"
   ]
  },
  {
   "cell_type": "code",
   "execution_count": null,
   "id": "813be120",
   "metadata": {},
   "outputs": [],
   "source": [
    "graps_pos[...,0] -= 0.1"
   ]
  },
  {
   "cell_type": "code",
   "execution_count": null,
   "id": "cd188f01",
   "metadata": {},
   "outputs": [],
   "source": [
    "controller.xforms.set_world_poses(graps_pos, grasp_rot)\n",
    "\n",
    "for _ in range(200):\n",
    "    world.step(render=True)"
   ]
  },
  {
   "cell_type": "code",
   "execution_count": null,
   "id": "e82dfd96",
   "metadata": {},
   "outputs": [],
   "source": [
    "graps_pos[...,0] += 0.1"
   ]
  },
  {
   "cell_type": "code",
   "execution_count": null,
   "id": "d5069f79",
   "metadata": {},
   "outputs": [],
   "source": [
    "controller.xforms.set_world_poses(graps_pos, grasp_rot)\n",
    "\n",
    "for _ in range(100):\n",
    "    world.step(render=True)"
   ]
  },
  {
   "cell_type": "code",
   "execution_count": null,
   "id": "d130f333",
   "metadata": {},
   "outputs": [],
   "source": [
    "# close\n",
    "pos = np.array([[0.0, 0.0]])\n",
    "               \n",
    "for _ in range(100):\n",
    "    pos -= 0.01\n",
    "    controller.robots.set_joint_position_targets(pos)\n",
    "    world.step(render=True)"
   ]
  },
  {
   "cell_type": "code",
   "execution_count": null,
   "id": "d4b1e761",
   "metadata": {},
   "outputs": [],
   "source": [
    "# pull out\n",
    "for i in range(300):\n",
    "    graps_pos[...,0] -= 0.001\n",
    "    controller.xforms.set_world_poses(graps_pos, grasp_rot)\n",
    "    controller.robots.set_joint_position_targets(pos)\n",
    "    pos += 0.015\n",
    "    world.step(render=True)"
   ]
  },
  {
   "cell_type": "code",
   "execution_count": null,
   "id": "8d574c64",
   "metadata": {},
   "outputs": [],
   "source": [
    "# check task\n",
    "task_checker.joint_checker.compute_percentage()"
   ]
  },
  {
   "cell_type": "markdown",
   "id": "5e87bfc6",
   "metadata": {},
   "source": [
    "# Reset"
   ]
  },
  {
   "cell_type": "code",
   "execution_count": null,
   "id": "6a6734d4",
   "metadata": {},
   "outputs": [],
   "source": [
    "world.reset()\n",
    "controller.xforms.set_world_poses(positions=np.array([[0,0,0]]), orientations = np.array([[1, 0, 0, 0]])) # WXYZ\n",
    "\n",
    "for _ in range(30):\n",
    "    world.step()"
   ]
  },
  {
   "cell_type": "code",
   "execution_count": null,
   "id": "11b6751f",
   "metadata": {},
   "outputs": [],
   "source": [
    "world.scene.remove_object(mobility_obj_name)"
   ]
  },
  {
   "cell_type": "code",
   "execution_count": null,
   "id": "e3aaec01",
   "metadata": {},
   "outputs": [],
   "source": []
  }
 ],
 "metadata": {
  "kernelspec": {
   "display_name": "Isaac Sim Python 3",
   "language": "python",
   "name": "isaac_sim_python3"
  },
  "language_info": {
   "codemirror_mode": {
    "name": "ipython",
    "version": 3
   },
   "file_extension": ".py",
   "mimetype": "text/x-python",
   "name": "python",
   "nbconvert_exporter": "python",
   "pygments_lexer": "ipython3",
   "version": "3.7.13"
  }
 },
 "nbformat": 4,
 "nbformat_minor": 5
}
