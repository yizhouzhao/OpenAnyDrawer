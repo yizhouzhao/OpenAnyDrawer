{
 "cells": [
  {
   "cell_type": "code",
   "execution_count": 1,
   "id": "f1e53be6",
   "metadata": {},
   "outputs": [],
   "source": [
    "%load_ext autoreload\n",
    "%autoreload 2"
   ]
  },
  {
   "cell_type": "code",
   "execution_count": 2,
   "id": "0efece35",
   "metadata": {},
   "outputs": [],
   "source": [
    "import numpy as np\n",
    "\n",
    "import getpass\n",
    "user = getpass.getuser()"
   ]
  },
  {
   "cell_type": "code",
   "execution_count": 3,
   "id": "c206224d",
   "metadata": {},
   "outputs": [],
   "source": [
    "from PIL import Image"
   ]
  },
  {
   "cell_type": "code",
   "execution_count": 4,
   "id": "ecfb01b3",
   "metadata": {},
   "outputs": [
    {
     "name": "stdout",
     "output_type": "stream",
     "text": [
      "Starting kit application with the fillowing args:  ['/home/yizhou/.local/share/ov/pkg/isaac_sim-2022.1.0/exts/omni.isaac.kit/omni/isaac/kit/simulation_app.py', '/home/yizhou/.local/share/ov/pkg/isaac_sim-2022.1.0/apps/omni.isaac.sim.python.kit', '--/app/tokens/exe-path=/home/yizhou/.local/share/ov/pkg/isaac_sim-2022.1.0/kit', '--/persistent/app/viewport/displayOptions=3094', '--/rtx/materialDb/syncLoads=True', '--/rtx/hydra/materialSyncLoads=True--/omni.kit.plugin/syncUsdLoads=True', '--/app/renderer/resolution/width=1280', '--/app/renderer/resolution/height=720', '--/app/window/width=1440', '--/app/window/height=900', '--/renderer/multiGpu/enabled=True', '--ext-folder', '/home/yizhou/.local/share/ov/pkg/isaac_sim-2022.1.0/exts', '--ext-folder', '/home/yizhou/.local/share/ov/pkg/isaac_sim-2022.1.0/apps', '--portable', '--no-window']\n",
      "Passing the following args to the base kit application:  ['-f', '/home/yizhou/.local/share/jupyter/runtime/kernel-b3cb4439-d21b-45ef-bab7-f0a392104ea9.json']\n",
      "[Warning] [omni.kit.app.plugin] No crash reporter present, dumps uploading isn't available.\n",
      "[Info] [carb] Logging to file: /home/yizhou/.local/share/ov/pkg/isaac_sim-2022.1.0/kit/logs/Kit/Isaac-Sim/2022.1/kit_20220818_163305.log\n",
      "[0.097s] [ext: omni.stats-0.0.0] startup\n",
      "[0.127s] [ext: omni.gpu_foundation-0.0.0] startup\n",
      "2022-08-18 23:33:05 [124ms] [Warning] [carb] FrameworkImpl::setDefaultPlugin(client: omni.gpu_foundation_factory.plugin, desc : [carb::graphics::Graphics v2.5], plugin : carb.graphics-vulkan.plugin) failed. Plugin selection is locked, because the interface was previously acquired by: \n",
      "[0.141s] [ext: carb.windowing.plugins-1.0.0] startup\n",
      "[0.153s] [ext: omni.assets.plugins-0.0.0] startup\n",
      "[0.154s] [ext: omni.kit.renderer.init-0.0.0] startup\n",
      "\n",
      "|---------------------------------------------------------------------------------------------|\n",
      "| Driver Version: 510.85.2      | Graphics API: Vulkan\n",
      "|=============================================================================================|\n",
      "| GPU | Name                             | Active | LDA | GPU Memory | Vendor-ID | LUID       |\n",
      "|     |                                  |        |     |            | Device-ID | UUID       |\n",
      "|---------------------------------------------------------------------------------------------|\n",
      "| 0   | NVIDIA GeForce RTX 3090          | Yes: 0 |     | 24822   MB | 10de      | 0          |\n",
      "|     |                                  |        |     |            | 2204      | 3f50dd6e.. |\n",
      "|=============================================================================================|\n",
      "| OS: Linux yizhou-Z370-AORUS-Gaming-5, Version: 5.15.0-46-generic\n",
      "| Processor: Intel(R) Core(TM) i7-8700K CPU @ 3.70GHz | Cores: Unknown | Logical: 12\n",
      "|---------------------------------------------------------------------------------------------|\n",
      "| Total Memory (MB): 32044 | Free Memory: 3239\n",
      "| Total Page/Swap (MB): 2047 | Free Page/Swap: 2047\n",
      "|---------------------------------------------------------------------------------------------|\n",
      "2022-08-18 23:33:06 [1,180ms] [Warning] [carb.cudainterop.plugin] On Linux only, CUDA and the display driver does not support IOMMU-enabled bare-metal PCIe peer to peer memory copy.\n",
      "However, CUDA and the display driver does support IOMMU via VM pass through. As a consequence, users on Linux,\n",
      "when running on a native bare metal system, should disable the IOMMU. The IOMMU should be enabled and the VFIO driver\n",
      "be used as a PCIe pass through for virtual machines.\n",
      "[1.211s] [ext: omni.kit.pipapi-0.0.0] startup\n",
      "[1.228s] [ext: omni.kit.pip_archive-0.0.0] startup\n",
      "[1.238s] [ext: omni.isaac.core_archive-0.3.0] startup\n",
      "[1.276s] [ext: omni.usd.config-1.0.0] startup\n",
      "[1.281s] [ext: omni.usd.libs-1.0.0] startup\n",
      "[1.482s] [ext: omni.isaac.ml_archive-0.1.0] startup\n",
      "[1.640s] [ext: omni.kit.loop-isaac-0.1.0] startup\n",
      "[1.642s] [ext: omni.kit.async_engine-0.0.0] startup\n",
      "[1.645s] [ext: omni.appwindow-1.0.0] startup\n",
      "[1.649s] [ext: omni.client-0.1.0] startup\n",
      "[1.666s] [ext: omni.kit.test-0.0.0] startup\n",
      "[1.710s] [ext: omni.kit.renderer.core-0.0.0] startup\n",
      "[1.831s] [ext: omni.ui-2.10.3] startup\n",
      "[1.859s] [ext: carb.audio-0.1.0] startup\n",
      "[1.883s] [ext: omni.kit.mainwindow-0.0.0] startup\n",
      "[1.886s] [ext: omni.uiaudio-1.0.0] startup\n",
      "[1.889s] [ext: omni.kit.uiapp-0.0.0] startup\n",
      "[1.889s] [ext: omni.usd.schema.physics-1.0.0] startup\n",
      "[1.960s] [ext: omni.usd.schema.audio-0.0.0] startup\n",
      "[1.971s] [ext: omni.usd.schema.semantics-0.0.0] startup\n",
      "[1.992s] [ext: omni.usd.schema.omnigraph-1.0.0] startup\n",
      "[2.013s] [ext: omni.usd.schema.anim-0.0.0] startup\n",
      "[2.135s] [ext: omni.kit.commands-1.2.2] startup\n",
      "[2.143s] [ext: omni.timeline-1.0.2] startup\n",
      "[2.147s] [ext: omni.hydra.scene_delegate-0.2.0] startup\n",
      "[2.158s] [ext: omni.kit.audiodeviceenum-1.0.0] startup\n",
      "[2.160s] [ext: omni.usd-1.5.3] startup\n",
      "[2.239s] [ext: omni.kit.asset_converter-1.2.30] startup\n",
      "[2.263s] [ext: omni.usd.schema.isaac-0.2.0] startup\n",
      "[2.335s] [ext: omni.usd.schema.physx-0.0.0] startup\n",
      "[2.385s] [ext: omni.kit.search_core-1.0.2] startup\n",
      "[2.388s] [ext: omni.renderer-rtx-0.0.0] startup\n",
      "[2.389s] [ext: omni.kit.widget.graph-1.4.2] startup\n",
      "[2.403s] [ext: omni.kit.widget.filebrowser-2.2.26] startup\n",
      "[2.415s] [ext: omni.kit.window.popup_dialog-2.0.7] startup\n",
      "[2.432s] [ext: omni.mdl.neuraylib-0.1.0] startup\n",
      "[2.439s] [ext: omni.kit.widget.path_field-2.0.3] startup\n",
      "[2.443s] [ext: omni.kit.widget.versioning-1.3.8] startup\n",
      "[2.449s] [ext: omni.kit.notification_manager-1.0.5] startup\n",
      "[2.455s] [ext: omni.kit.widget.browser_bar-2.0.3] startup\n",
      "[2.459s] [ext: omni.kit.menu.utils-1.2.11] startup\n",
      "[2.484s] [ext: omni.kit.window.filepicker-2.4.29] startup\n"
     ]
    },
    {
     "name": "stderr",
     "output_type": "stream",
     "text": [
      "OmniAssetFileFormat\n",
      "2022-08-18 23:33:08 [3,180ms] [Error] [rtx.neuraylib.plugin] [DYNLIB:IO]   0.1   DYNLIB io   error: /home/yizhou/.local/share/ov/pkg/isaac_sim-2022.1.0/kit/python/bin/libs/iray/libnvindex.so: cannot open shared object file: No such file or directory\n",
      "2022-08-18 23:33:08 [3,180ms] [Error] [rtx.neuraylib.plugin] [INDEX:MAIN]   0.1   INDEX  main error: Failed to load /home/yizhou/.local/share/ov/pkg/isaac_sim-2022.1.0/kit/python/bin/libs/iray/libnvindex.so\n"
     ]
    },
    {
     "name": "stdout",
     "output_type": "stream",
     "text": [
      "[2.581s] [ext: omni.mdl-0.1.0] startup\n",
      "[2.617s] [ext: omni.kit.menu.create-1.0.2] startup\n",
      "[2.619s] [ext: omni.kit.window.file_exporter-1.0.4] startup\n",
      "[2.622s] [ext: omni.kit.window.drop_support-1.0.0] startup\n",
      "[2.624s] [ext: omni.kit.material.library-1.3.10] startup\n",
      "[2.629s] [ext: omni.kit.window.property-1.6.3] startup\n",
      "[2.633s] [ext: omni.kit.context_menu-1.3.9] startup\n",
      "[2.641s] [ext: omni.kit.window.file_importer-1.0.4] startup\n",
      "[2.643s] [ext: omni.kit.stage_templates-1.1.2] startup\n",
      "[2.647s] [ext: omni.kit.widget.stage-2.6.15] startup\n",
      "[2.655s] [ext: omni.kit.window.file-1.3.16] startup\n",
      "[2.659s] [ext: omni.debugdraw-0.1.0] startup\n",
      "[2.670s] [ext: omni.kit.window.content_browser-2.4.28] startup\n",
      "[2.690s] [ext: omni.kit.widget.prompt-1.0.1] startup\n",
      "[2.691s] [ext: omni.kit.property.usd-3.14.8] startup\n",
      "[2.761s] [ext: omni.hydra.engine.stats-1.0.0] startup\n",
      "[2.772s] [ext: omni.kit.widget.settings-1.0.0] startup\n",
      "[2.775s] [ext: omni.graph.tools-1.3.5] startup\n",
      "[2.879s] [ext: omni.graph.core-2.27.0] startup\n",
      "[2.885s] [ext: omni.hydra.rtx-0.1.0] startup\n",
      "[2.899s] [ext: omni.kit.viewport.legacy_gizmos-1.0.0] startup\n",
      "[2.904s] [ext: omni.ui_query-1.1.1] startup\n",
      "[2.907s] [ext: omni.graph-1.22.1] startup\n",
      "[2.996s] [ext: omni.kit.window.viewport-0.0.0] startup\n",
      "Warp initialized:\n",
      "   Version: 0.2.1\n",
      "   Using CUDA device: NVIDIA GeForce RTX 3090\n",
      "   Using CPU compiler: /usr/bin/g++\n",
      "[4.679s] [ext: omni.kit.window.preferences-1.2.1] startup\n",
      "[4.750s] [ext: omni.kit.ui_test-1.2.0] startup\n",
      "[4.756s] [ext: omni.graph.ui-1.6.1] startup\n",
      "[4.808s] [ext: omni.kvdb-0.0.0] startup\n",
      "[4.814s] [ext: omni.kit.widget.searchfield-1.0.6] startup\n",
      "[4.819s] [ext: omni.convexdecomposition-1.4.12] startup\n",
      "[4.826s] [ext: omni.graph.action-1.17.0] startup\n",
      "[4.852s] [ext: omni.localcache-0.0.0] startup\n",
      "[4.859s] [ext: omni.usdphysics-1.4.12] startup\n",
      "[4.864s] [ext: omni.graph.scriptnode-0.5.0] startup\n",
      "[4.871s] [ext: omni.physx-1.4.12-5.1] startup\n",
      "2022-08-18 23:33:09 [4,888ms] [Warning] [omni.kvdb.plugin] wasn't able to load the meta database, trying to repair it ...\n",
      "2022-08-18 23:33:10 [5,089ms] [Warning] [omni.kvdb.plugin] repair failed\n",
      "[5.102s] [ext: omni.kit.usd_undo-0.1.0] startup\n",
      "[5.107s] [ext: omni.graph.nodes-1.25.0] startup\n",
      "[5.141s] [ext: omni.physx.commands-1.4.12-5.1] startup\n",
      "[5.155s] [ext: omni.syntheticdata-0.2.1] startup\n",
      "[5.213s] [ext: omni.physx.ui-1.4.12-5.1] startup\n",
      "[5.356s] [ext: omni.warp-0.2.1] startup\n",
      "[9.929s] [ext: omni.kit.renderer.capture-0.0.0] startup\n",
      "[9.939s] [ext: omni.kit.property.material-1.8.5] startup\n",
      "[9.948s] [ext: omni.physx.demos-1.4.12-5.1] startup\n",
      "[9.957s] [ext: omni.physics.tensors-0.1.0] startup\n",
      "[9.973s] [ext: omni.kit.property.physx-0.1.0] startup\n",
      "2022-08-18 23:33:15 [10,104ms] [Warning] [omni.physx.plugin] Deprecated: getSimulationEventStream is deprecated, please use getSimulationEventStreamV2\n",
      "[10.119s] [ext: omni.kit.window.toolbar-1.2.4] startup\n",
      "[10.132s] [ext: omni.physx.tensors-0.1.0] startup\n",
      "[10.143s] [ext: omni.physx.vehicle-1.4.12-5.1] startup\n",
      "[10.167s] [ext: omni.physx.tests-1.4.12-5.1] startup\n",
      "[10.290s] [ext: omni.kit.numpy.common-0.1.0] startup\n",
      "[10.296s] [ext: omni.physx.camera-1.4.12-5.1] startup\n",
      "[10.311s] [ext: omni.physx.cct-1.4.12-5.1] startup\n",
      "[10.482s] [ext: omni.isaac.version-1.0.0] startup\n",
      "[10.485s] [ext: omni.isaac.dynamic_control-1.0.0] startup\n",
      "[10.501s] [ext: omni.physx.bundle-1.4.12-5.1] startup\n",
      "[10.501s] [ext: omni.kit.primitive.mesh-1.0.0] startup\n",
      "[10.510s] [ext: omni.command.usd-1.0.1] startup\n",
      "[10.518s] [ext: omni.isaac.core-1.15.1] startup\n",
      "[10.932s] [ext: omni.replicator.core-1.2.0] startup\n",
      "[11.146s] [ext: omni.kit.window.extensions-1.1.0] startup\n",
      "[11.157s] [ext: omni.isaac.core_nodes-0.9.0] startup\n",
      "[11.179s] [ext: omni.isaac.ui-0.2.1] startup\n",
      "[11.184s] [ext: omni.kit.window.script_editor-1.6.2] startup\n",
      "[11.199s] [ext: omni.isaac.wheeled_robots-0.5.4] startup\n",
      "[11.227s] [ext: omni.kit.menu.common-1.0.0] startup\n",
      "[11.231s] [ext: omni.kit.graph.delegate.default-1.0.15] startup\n",
      "[11.237s] [ext: omni.kit.graph.delegate.modern-1.6.0] startup\n",
      "[11.241s] [ext: omni.kit.widget.zoombar-1.0.3] startup\n",
      "[11.243s] [ext: omni.kit.graph.editor.core-1.3.3] startup\n",
      "[11.249s] [ext: omni.kit.widget.stage_icons-1.0.2] startup\n",
      "[11.253s] [ext: omni.kit.browser.core-2.0.12] startup\n",
      "[11.264s] [ext: omni.kit.graph.widget.variables-2.0.2] startup\n",
      "[11.268s] [ext: omni.kit.window.stage-2.3.7] startup\n",
      "[11.274s] [ext: omni.kit.browser.folder.core-1.1.13] startup\n",
      "[11.280s] [ext: omni.graph.window.core-1.22.1] startup\n",
      "[11.291s] [ext: omni.isaac.lula-1.1.0] startup\n",
      "[11.312s] [ext: omni.graph.instancing-1.1.4] startup\n",
      "[11.324s] [ext: omni.graph.window.action-1.3.8] startup\n",
      "[11.327s] [ext: omni.graph.tutorials-1.1.2] startup\n",
      "[11.363s] [ext: omni.rtx.window.settings-0.6.1] startup\n",
      "[11.374s] [ext: omni.isaac.motion_planning-0.2.0] startup\n",
      "[11.388s] [ext: omni.graph.bundle.action-1.0.0] startup\n",
      "[11.388s] [ext: omni.rtx.settings.core-0.5.5] startup\n",
      "[11.397s] [ext: omni.isaac.motion_generation-3.1.2] startup\n",
      "[11.409s] [ext: omni.isaac.kit-0.1.9] startup\n",
      "[11.411s] [ext: omni.isaac.debug_draw-0.1.2] startup\n",
      "[11.425s] [ext: omni.kit.selection-0.1.0] startup\n",
      "[11.428s] [ext: omni.isaac.franka-0.0.0] startup\n",
      "[11.431s] [ext: omni.kit.widget.layers-1.5.17] startup\n",
      "[11.463s] [ext: omni.kit.menu.edit-1.0.6] startup\n",
      "[11.468s] [ext: omni.isaac.isaac_sensor-0.3.4] startup\n",
      "2022-08-18 23:33:16 [11,469ms] [Warning] [omni.physx.plugin] Deprecated: getSimulationEventStream is deprecated, please use getSimulationEventStreamV2\n",
      "[Opening usd file at  omniverse://localhost/Users/yizhou/scene4.usd  ...Done.\n",
      "Saving a temp livesync stage at  omniverse://localhost/Users/yizhou/scene4.usd  ...Done.\n"
     ]
    }
   ],
   "source": [
    "from omni.isaac.kit import SimulationApp\n",
    "\n",
    "# \"/home/yizhou/Research/OpenAnyDrawer/scene0.usd\" # \n",
    "usd_path = f\"omniverse://localhost/Users/{user}/scene4.usd\"\n",
    "\n",
    "\n",
    "simulation_app = SimulationApp({\"headless\": True, \"open_usd\": usd_path,  \"livesync_usd\": usd_path}) \n"
   ]
  },
  {
   "cell_type": "code",
   "execution_count": 5,
   "id": "611f6801",
   "metadata": {},
   "outputs": [],
   "source": [
    "# world\n",
    "from omni.isaac.core import World\n",
    "world = World()"
   ]
  },
  {
   "cell_type": "code",
   "execution_count": 6,
   "id": "bcb68b27",
   "metadata": {},
   "outputs": [],
   "source": [
    "# reset scene\n",
    "import omni\n",
    "mobility_prim = world.scene.stage.GetPrimAtPath(\"/World/Game/mobility\")\n",
    "if mobility_prim:\n",
    "    omni.kit.commands.execute(\"DeletePrims\", paths=[\"/World/Game/mobility\"])\n",
    "    \n",
    "# hide robot\n",
    "# hand_prim = world.scene.stage.GetPrimAtPath(\"/World/allegro\")\n",
    "# hand_prim.GetAttribute('visibility').Set('invisible')"
   ]
  },
  {
   "cell_type": "code",
   "execution_count": 7,
   "id": "fc477316",
   "metadata": {},
   "outputs": [],
   "source": [
    "from open_env import OpenEnv\n",
    "\n",
    "env = OpenEnv()"
   ]
  },
  {
   "cell_type": "code",
   "execution_count": 8,
   "id": "50bb3a36",
   "metadata": {},
   "outputs": [],
   "source": [
    "from franka.gripper import GripperHandEnv\n",
    "\n",
    "# env = HandEnv(\"/World/Hand/Bones/l_carpal_mid\", \"/World/Hand*/Bones/l_thumbSkeleton_grp/l_distalThumb_mid\")\n",
    "controller = GripperHandEnv(\"/World/Franka/panda_link8\", \"/World/AnchorXform\")"
   ]
  },
  {
   "cell_type": "code",
   "execution_count": 9,
   "id": "efcdfea3",
   "metadata": {},
   "outputs": [],
   "source": [
    "env.add_camera()\n",
    "env.setup_viewport()"
   ]
  },
  {
   "cell_type": "code",
   "execution_count": 10,
   "id": "486b3bf1",
   "metadata": {},
   "outputs": [
    {
     "name": "stdout",
     "output_type": "stream",
     "text": [
      "simlation context numpy None\n",
      "num_envs 1\n"
     ]
    },
    {
     "data": {
      "image/png": "[encoded data removed]",
      "text/plain": [
       "<PIL.Image.Image image mode=RGBA size=256x256 at 0x7FAAC78B3ED0>"
      ]
     },
     "execution_count": 10,
     "metadata": {},
     "output_type": "execute_result"
    }
   ],
   "source": [
    "# init\n",
    "world.reset()\n",
    "controller.start()\n",
    "world.scene.add(controller.robots)\n",
    "\n",
    "world.render()\n",
    "env.get_image()"
   ]
  },
  {
   "cell_type": "code",
   "execution_count": 11,
   "id": "3adabdfe",
   "metadata": {},
   "outputs": [
    {
     "data": {
      "image/png": "[encoded data removed]",
      "text/plain": [
       "<PIL.Image.Image image mode=RGBA size=256x256 at 0x7F9DD8072AD0>"
      ]
     },
     "execution_count": 11,
     "metadata": {},
     "output_type": "execute_result"
    }
   ],
   "source": [
    "world.render()\n",
    "env.get_image()"
   ]
  },
  {
   "cell_type": "code",
   "execution_count": 27,
   "id": "d59c279c",
   "metadata": {},
   "outputs": [
    {
     "name": "stdout",
     "output_type": "stream",
     "text": [
      "add object\n",
      "loading asset from omni nucleus\n",
      "physics material: path:  /World/Game/mobility/link_0/visuals/handle_7/physicsMaterial\n",
      "add physics material to handle\n"
     ]
    }
   ],
   "source": [
    "env.add_object(0, scale = 0.1)"
   ]
  },
  {
   "cell_type": "code",
   "execution_count": 13,
   "id": "c30af7b5",
   "metadata": {},
   "outputs": [
    {
     "data": {
      "text/plain": [
       "<omni.isaac.core.prims.xform_prim.XFormPrim at 0x7f9dd8098250>"
      ]
     },
     "execution_count": 13,
     "metadata": {},
     "output_type": "execute_result"
    }
   ],
   "source": [
    "from omni.isaac.core.prims.xform_prim import XFormPrim\n",
    "mobility_obj = XFormPrim(\"/World/Game/mobility\")\n",
    "mobility_obj_name = mobility_obj.name\n",
    "\n",
    "world.scene.add(mobility_obj)"
   ]
  },
  {
   "cell_type": "code",
   "execution_count": 14,
   "id": "d410a3ae",
   "metadata": {},
   "outputs": [],
   "source": [
    "from task.checker import TaskChecker\n",
    "from task.instructor import SceneInstructor"
   ]
  },
  {
   "cell_type": "code",
   "execution_count": 15,
   "id": "903a639d",
   "metadata": {},
   "outputs": [
    {
     "name": "stdout",
     "output_type": "stream",
     "text": [
      "analysis_spatial_rel:  {'/World/Game/mobility/link_0/visuals/handle_7': {'joint_type': 'PhysicsRevoluteJoint', 'cabinet_type': 'door', 'vertical_description': '', 'horizontal_description': '', 'joint': 'joint_0', 'relative_to_game_center': 'right', 'direction': 'horizontal'}}\n"
     ]
    }
   ],
   "source": [
    "scene_instr = SceneInstructor()\n",
    "scene_instr.analysis()"
   ]
  },
  {
   "cell_type": "code",
   "execution_count": 16,
   "id": "c27a0b3e",
   "metadata": {},
   "outputs": [
    {
     "data": {
      "text/plain": [
       "True"
      ]
     },
     "execution_count": 16,
     "metadata": {},
     "output_type": "execute_result"
    }
   ],
   "source": [
    "scene_instr.is_obj_valid"
   ]
  },
  {
   "cell_type": "code",
   "execution_count": 17,
   "id": "f1d75be3",
   "metadata": {},
   "outputs": [
    {
     "data": {
      "text/plain": [
       "{'/World/Game/mobility/link_0/visuals/handle_7': {'joint_type': 'PhysicsRevoluteJoint',\n",
       "  'cabinet_type': 'door',\n",
       "  'vertical_description': '',\n",
       "  'horizontal_description': '',\n",
       "  'joint': 'joint_0',\n",
       "  'relative_to_game_center': 'right',\n",
       "  'direction': 'horizontal'}}"
      ]
     },
     "execution_count": 17,
     "metadata": {},
     "output_type": "execute_result"
    }
   ],
   "source": [
    "scene_instr.valid_handle_list"
   ]
  },
  {
   "cell_type": "code",
   "execution_count": 18,
   "id": "c45f752e",
   "metadata": {},
   "outputs": [],
   "source": [
    "handle_path_str = list(scene_instr.valid_handle_list.keys())[0]\n",
    "\n",
    "handle_joint_type = scene_instr.valid_handle_list[handle_path_str][\"joint_type\"]\n",
    "handle_joint = scene_instr.valid_handle_list[handle_path_str][\"joint\"]\n",
    "handle_rel_direciton = scene_instr.valid_handle_list[handle_path_str][\"relative_to_game_center\"]\n",
    "handle_direction = scene_instr.valid_handle_list[handle_path_str][\"direction\"]"
   ]
  },
  {
   "cell_type": "code",
   "execution_count": 19,
   "id": "6d913485",
   "metadata": {},
   "outputs": [
    {
     "data": {
      "text/plain": [
       "('/World/Game/mobility/link_0/visuals/handle_7',\n",
       " 'PhysicsRevoluteJoint',\n",
       " 'joint_0',\n",
       " 'right')"
      ]
     },
     "execution_count": 19,
     "metadata": {},
     "output_type": "execute_result"
    }
   ],
   "source": [
    "handle_path_str, handle_joint_type, handle_joint, handle_rel_direciton"
   ]
  },
  {
   "cell_type": "code",
   "execution_count": 20,
   "id": "d5fdf1c9",
   "metadata": {},
   "outputs": [
    {
     "name": "stdout",
     "output_type": "stream",
     "text": [
      "11.484s] [ext: omni.kit.widget.live-0.1.0] startup\n",
      "[11.495s] [ext: omni.isaac.surface_gripper-0.1.2] startup\n",
      "[11.506s] [ext: omni.kit.property.layer-1.1.2] startup\n",
      "[11.510s] [ext: omni.isaac.range_sensor-0.4.2] startup\n",
      "[11.562s] [ext: omni.graph.window.generic-1.3.8] startup\n",
      "[11.566s] [ext: omni.isaac.utils-0.1.11] startup\n",
      "[11.575s] [ext: omni.isaac.universal_robots-0.2.1] startup\n",
      "[11.577s] [ext: omni.kit.property.audio-1.0.5] startup\n",
      "[11.581s] [ext: omni.kit.property.skel-1.0.1] startup\n",
      "[11.585s] [ext: omni.kit.property.render-1.1.0] startup\n",
      "[11.587s] [ext: omni.kit.property.camera-1.0.3] startup\n",
      "[11.590s] [ext: omni.kit.property.geometry-1.2.0] startup\n",
      "[11.596s] [ext: omni.kit.property.light-1.0.5] startup\n",
      "[11.601s] [ext: omni.kit.property.transform-1.0.2] startup\n",
      "[11.608s] [ext: omni.isaac.occupancy_map-0.2.4] startup\n",
      "[11.633s] [ext: omni.ui.scene-1.4.6] startup\n",
      "[11.648s] [ext: omni.kit.window.console-0.2.0] startup\n",
      "[11.660s] [ext: omni.kit.window.status_bar-0.1.1] startup\n",
      "[11.670s]"
     ]
    },
    {
     "name": "stderr",
     "output_type": "stream",
     "text": [
      "2022-08-18 23:33:55 [50,493ms] [Error] [omni.isaac.dynamic_control.plugin] DcFindArticulationDof: Invalid or expired articulation handle\n",
      "2022-08-18 23:33:55 [50,493ms] [Error] [omni.isaac.dynamic_control.plugin] DcGetDofPosition: Invalid or expired dof handle\n"
     ]
    },
    {
     "name": "stdout",
     "output_type": "stream",
     "text": [
      " [ext: omni.kit.property.bundle-1.2.4] startup\n",
      "[11.673s] [ext: omni.kit.menu.file-1.0.8] startup\n",
      "[11.676s] [ext: omni.kit.manipulator.viewport-1.0.6] startup\n",
      "[11.682s] [ext: omni.isaac.urdf-0.2.2] startup\n",
      "[11.741s] [ext: omni.isaac.dofbot-0.2.0] startup\n",
      "[11.744s] [ext: omni.kit.window.title-1.1.1] startup\n",
      "[11.750s] [ext: omni.kit.profiler.window-1.4.4] startup\n",
      "[11.758s] [ext: omni.graph.visualization.nodes-1.1.1] startup\n",
      "[11.767s] [ext: omni.isaac.synthetic_utils-0.2.1] startup\n",
      "[11.783s] [ext: semantics.schema.editor-0.2.2] startup\n",
      "[11.790s] [ext: omni.isaac.sim.python-2022.1.0] startup\n",
      "[11.791s] Simulation App Starting\n",
      "2022-08-18 23:33:17 [12,857ms] [Warning] [omni.usd] Default value for render setting \"/rtx/shaderDb/cachePermutationIndex\" not found\n",
      "2022-08-18 23:33:17 [12,858ms] [Warning] [omni.usd] Default value for render setting \"/rtx/resourcemanager/uploadPooledBuffers/framesToEvict\" not found\n",
      "2022-08-18 23:33:17 [12,858ms] [Warning] [omni.usd] Default value for render setting \"/rtx/resourcemanager/uploadPooledBuffers/uploadSize\" not found\n",
      "2022-08-18 23:33:17 [12,858ms] [Warning] [omni.usd] Default value for render setting \"/rtx/pathtracing/nrc/canRun\" not found\n",
      "[21.220s] app ready\n",
      "[22.154s] Simulation App Startup Complete\n",
      "2022-08-18 23:33:32 [27,406ms] [Warning] [omni.syntheticdata.plugin] SdRenderVarToRawArray missing valid input renderVar DistanceToImagePlaneSD\n",
      "2022-08-18 23:33:33 [28,608ms] [Warning] [carb.flatcache.plugin] Type tag does not have a corresponding USD type\n",
      "2022-08-18 23:33:55 [50,493ms] [Warning] [omni.isaac.dynamic_control.plugin] Failed to find articulation at '/World/Game/mobility/link_1/joint_0'\n"
     ]
    }
   ],
   "source": [
    "task_checker = TaskChecker(\"mobility\", handle_joint, handle_joint_type, IS_RUNTIME=True)"
   ]
  },
  {
   "cell_type": "markdown",
   "id": "3ebc4d2e",
   "metadata": {},
   "source": [
    "# Deep Learning"
   ]
  },
  {
   "cell_type": "code",
   "execution_count": null,
   "id": "f13be242",
   "metadata": {},
   "outputs": [],
   "source": [
    "scene_instr.load_model()"
   ]
  },
  {
   "cell_type": "code",
   "execution_count": null,
   "id": "e2fc7f92",
   "metadata": {},
   "outputs": [],
   "source": [
    "#image_array =env.get_image(return_array=True, world = world)\n",
    "image_array =env.get_image(return_array=True, world = world)"
   ]
  },
  {
   "cell_type": "code",
   "execution_count": null,
   "id": "7277cc85",
   "metadata": {},
   "outputs": [],
   "source": [
    "import matplotlib.pyplot as plt\n",
    "plt.imshow(image_array[:,:,:3]) "
   ]
  },
  {
   "cell_type": "code",
   "execution_count": null,
   "id": "ececa3b0",
   "metadata": {
    "scrolled": true
   },
   "outputs": [],
   "source": [
    "scene_instr.predict_bounding_boxes(image_array[:,:,:3])"
   ]
  },
  {
   "cell_type": "code",
   "execution_count": null,
   "id": "0c81b333",
   "metadata": {},
   "outputs": [],
   "source": [
    "scene_instr.pred_boxes"
   ]
  },
  {
   "cell_type": "code",
   "execution_count": null,
   "id": "b62d9036",
   "metadata": {},
   "outputs": [],
   "source": [
    "v_desc = scene_instr.valid_handle_list[handle_path_str][\"vertical_description\"]\n",
    "h_desc = scene_instr.valid_handle_list[handle_path_str][\"horizontal_description\"]\n",
    "\n",
    "the_box = scene_instr.get_box_from_desc(v_desc, h_desc)"
   ]
  },
  {
   "cell_type": "code",
   "execution_count": 21,
   "id": "874a5120",
   "metadata": {},
   "outputs": [],
   "source": [
    "the_box = [-0.24306170648464168, 0.9585027645051194, -0.2043927986348123, 0.9971716723549489]"
   ]
  },
  {
   "cell_type": "code",
   "execution_count": 22,
   "id": "a764da8f",
   "metadata": {},
   "outputs": [],
   "source": [
    "pred_handle_direction = \"horizontal\" if (the_box[2] - the_box[0]) > (the_box[3] - the_box[1]) else \"vertical\" "
   ]
  },
  {
   "cell_type": "code",
   "execution_count": 23,
   "id": "8b2609eb",
   "metadata": {},
   "outputs": [
    {
     "data": {
      "text/plain": [
       "'vertical'"
      ]
     },
     "execution_count": 23,
     "metadata": {},
     "output_type": "execute_result"
    }
   ],
   "source": [
    "pred_handle_direction"
   ]
  },
  {
   "cell_type": "code",
   "execution_count": 24,
   "id": "4f5e580b",
   "metadata": {},
   "outputs": [
    {
     "data": {
      "text/plain": [
       "0.03866890784982946"
      ]
     },
     "execution_count": 24,
     "metadata": {},
     "output_type": "execute_result"
    }
   ],
   "source": [
    "the_box[3] - the_box[1]"
   ]
  },
  {
   "cell_type": "code",
   "execution_count": 25,
   "id": "6215ade9",
   "metadata": {},
   "outputs": [
    {
     "data": {
      "text/plain": [
       "'vertical'"
      ]
     },
     "execution_count": 25,
     "metadata": {},
     "output_type": "execute_result"
    }
   ],
   "source": [
    "pred_handle_direction"
   ]
  },
  {
   "cell_type": "code",
   "execution_count": 26,
   "id": "403ea669",
   "metadata": {},
   "outputs": [],
   "source": [
    "graps_pos, grasp_rot = controller.calculate_grasp_location_from_pred_box(the_box, False)"
   ]
  },
  {
   "cell_type": "markdown",
   "id": "ce1a3a56",
   "metadata": {},
   "source": [
    "# Solve"
   ]
  },
  {
   "cell_type": "code",
   "execution_count": null,
   "id": "252a84c4",
   "metadata": {},
   "outputs": [],
   "source": [
    "world.reset()"
   ]
  },
  {
   "cell_type": "code",
   "execution_count": null,
   "id": "116670da",
   "metadata": {},
   "outputs": [],
   "source": [
    "controller.xforms.set_world_poses(positions=np.array([[0,0,0]]), orientations = np.array([[1, 0, 0, 0]])) # WXYZ\n",
    "\n",
    "for _ in range(60):\n",
    "    world.step(render=True)"
   ]
  },
  {
   "cell_type": "code",
   "execution_count": null,
   "id": "fbb55fb4",
   "metadata": {
    "scrolled": true
   },
   "outputs": [],
   "source": [
    "# get grasp location, if handle is horizontal, gripper should be vertical\n",
    "graps_pos, grasp_rot = controller.calculate_grasp_location(keyword = handle_path_str, \n",
    "                                                         verticle = handle_direction == \"horizontal\")"
   ]
  },
  {
   "cell_type": "code",
   "execution_count": null,
   "id": "70f668ff",
   "metadata": {},
   "outputs": [],
   "source": [
    "graps_pos, grasp_rot"
   ]
  },
  {
   "cell_type": "markdown",
   "id": "4671707e",
   "metadata": {},
   "source": [
    "# Control"
   ]
  },
  {
   "cell_type": "code",
   "execution_count": null,
   "id": "daf6de46",
   "metadata": {},
   "outputs": [],
   "source": [
    "graps_pos, grasp_rot"
   ]
  },
  {
   "cell_type": "code",
   "execution_count": null,
   "id": "e30688da",
   "metadata": {},
   "outputs": [],
   "source": [
    "graps_pos[...,0] -= 0.1"
   ]
  },
  {
   "cell_type": "code",
   "execution_count": null,
   "id": "ec7ea838",
   "metadata": {},
   "outputs": [],
   "source": [
    "controller.xforms.set_world_poses(graps_pos, grasp_rot)\n",
    "\n",
    "for _ in range(200):\n",
    "    world.step(render=True)"
   ]
  },
  {
   "cell_type": "code",
   "execution_count": null,
   "id": "af6b4e11",
   "metadata": {},
   "outputs": [],
   "source": [
    "graps_pos[...,0] += 0.1"
   ]
  },
  {
   "cell_type": "code",
   "execution_count": null,
   "id": "9c381a7a",
   "metadata": {},
   "outputs": [],
   "source": [
    "controller.xforms.set_world_poses(graps_pos, grasp_rot)\n",
    "\n",
    "for _ in range(100):\n",
    "    world.step(render=True)"
   ]
  },
  {
   "cell_type": "code",
   "execution_count": null,
   "id": "d5491ae0",
   "metadata": {},
   "outputs": [],
   "source": [
    "# close\n",
    "pos = np.array([[0.0, 0.0]])\n",
    "               \n",
    "for _ in range(100):\n",
    "    pos -= 0.01\n",
    "    controller.robots.set_joint_position_targets(pos)\n",
    "    world.step(render=True)"
   ]
  },
  {
   "cell_type": "code",
   "execution_count": null,
   "id": "a9b3231a",
   "metadata": {},
   "outputs": [],
   "source": [
    "# pull out\n",
    "for i in range(300):\n",
    "    graps_pos[...,0] -= 0.001\n",
    "    controller.xforms.set_world_poses(graps_pos, grasp_rot)\n",
    "    controller.robots.set_joint_position_targets(pos)\n",
    "    pos += 0.02\n",
    "    world.step(render=True)"
   ]
  },
  {
   "cell_type": "code",
   "execution_count": null,
   "id": "01ac4feb",
   "metadata": {},
   "outputs": [],
   "source": [
    "# check task\n",
    "task_checker.joint_checker.compute_percentage()"
   ]
  },
  {
   "cell_type": "markdown",
   "id": "5a107f1f",
   "metadata": {},
   "source": [
    "# Reset"
   ]
  },
  {
   "cell_type": "code",
   "execution_count": 28,
   "id": "31a5e729",
   "metadata": {},
   "outputs": [
    {
     "name": "stdout",
     "output_type": "stream",
     "text": [
      "2022-08-18 23:34:33 [88,331ms] [Warning] [omni.hydra] Mesh /World/Game/mobility/link_1/visuals/vertical_side_panel_16 has corrupted data in primvar st: buffer size 18 doesn't match expected size 48 in faceVarying primvars\n",
      "2022-08-18 23:34:33 [88,331ms] [Warning] [omni.hydra] Mesh /World/Game/mobility/link_1/visuals/vertical_side_panel_14 has corrupted data in primvar st: buffer size 18 doesn't match expected size 48 in faceVarying primvars\n",
      "2022-08-18 23:34:33 [88,331ms] [Warning] [omni.hydra] Mesh /World/Game/mobility/link_1/visuals/shelf_4 has corrupted data in primvar st: buffer size 18 doesn't match expected size 36 in faceVarying primvars\n",
      "2022-08-18 23:34:33 [88,331ms] [Warning] [omni.hydra] Mesh /World/Game/mobility/link_1/visuals/vertical_side_panel_17 has corrupted data in primvar st: buffer size 18 doesn't match expected size 48 in faceVarying primvars\n",
      "2022-08-18 23:34:33 [88,331ms] [Warning] [omni.hydra] Mesh /World/Game/mobility/link_1/visuals/other_leaf_23 has corrupted data in primvar st: buffer size 24 doesn't match expected size 48 in faceVarying primvars\n",
      "2022-08-18 23:34:33 [88,331ms] [Warning] [omni.hydra] Mesh /World/Game/mobility/link_1/visuals/other_leaf_22 has corrupted data in primvar st: buffer size 24 doesn't match expected size 48 in faceVarying primvars\n",
      "2022-08-18 23:34:33 [88,331ms] [Warning] [omni.hydra] Mesh /World/Game/mobility/link_1/visuals/vertical_side_panel_15 has corrupted data in primvar st: buffer size 18 doesn't match expected size 48 in faceVarying primvars\n",
      "2022-08-18 23:34:33 [88,331ms] [Warning] [omni.hydra] Mesh /World/Game/mobility/link_1/visuals/back_panel_16 has corrupted data in primvar st: buffer size 36 doesn't match expected size 72 in faceVarying primvars\n",
      "2022-08-18 23:34:33 [88,331ms] [Warning] [omni.hydra] Mesh /World/Game/mobility/link_1/visuals/other_leaf_24 has corrupted data in primvar st: buffer size 24 doesn't match expected size 48 in faceVarying primvars\n",
      "2022-08-18 23:34:33 [88,331ms] [Warning] [omni.hydra] Mesh /World/Game/mobility/link_1/visuals/frame_vertical_bar_25 has corrupted data in primvar st: buffer size 18 doesn't match expected size 72 in faceVarying primvars\n",
      "2022-08-18 23:34:33 [88,331ms] [Warning] [omni.hydra] Mesh /World/Game/mobility/link_1/visuals/frame_vertical_bar_26 has corrupted data in primvar st: buffer size 18 doesn't match expected size 72 in faceVarying primvars\n",
      "2022-08-18 23:34:33 [88,331ms] [Warning] [omni.hydra] Mesh /World/Game/mobility/link_1/visuals/other_leaf_21 has corrupted data in primvar st: buffer size 24 doesn't match expected size 48 in faceVarying primvars\n",
      "2022-08-18 23:34:33 [88,331ms] [Warning] [omni.hydra] Mesh /World/Game/mobility/link_1/visuals/vertical_side_panel_16 has corrupted data in primvar st_1: buffer size 6 doesn't match expected size 48 in faceVarying primvars\n",
      "2022-08-18 23:34:33 [88,331ms] [Warning] [omni.hydra] Mesh /World/Game/mobility/link_1/visuals/vertical_side_panel_17 has corrupted data in primvar st_1: buffer size 6 doesn't match expected size 48 in faceVarying primvars\n",
      "2022-08-18 23:34:33 [88,331ms] [Warning] [omni.hydra] Mesh /World/Game/mobility/link_1/visuals/vertical_side_panel_15 has corrupted data in primvar st_1: buffer size 6 doesn't match expected size 48 in faceVarying primvars\n",
      "2022-08-18 23:34:33 [88,331ms] [Warning] [omni.hydra] Mesh /World/Game/mobility/link_1/visuals/vertical_side_panel_14 has corrupted data in primvar st_1: buffer size 6 doesn't match expected size 48 in faceVarying primvars\n",
      "2022-08-18 23:34:33 [88,331ms] [Warning] [omni.hydra] Mesh /World/Game/mobility/link_1/visuals/frame_vertical_bar_25 has corrupted data in primvar st_1: buffer size 18 doesn't match expected size 72 in faceVarying primvars\n",
      "2022-08-18 23:34:33 [88,331ms] [Warning] [omni.hydra] Mesh /World/Game/mobility/link_1/visuals/frame_vertical_bar_26 has corrupted data in primvar st_1: buffer size 18 doesn't match expected size 72 in faceVarying primvars\n",
      "2022-08-18 23:34:33 [88,331ms] [Warning] [omni.hydra] Mesh /World/Game/mobility/link_1/visuals/frame_horizontal_bar_27 has corrupted data in primvar st: buffer size 18 doesn't match expected size 48 in faceVarying primvars\n",
      "2022-08-18 23:34:33 [88,331ms] [Warning] [omni.hydra] Mesh /World/Game/mobility/link_1/visuals/frame_horizontal_bar_28 has corrupted data in primvar st: buffer size 24 doesn't match expected size 48 in faceVarying primvars\n",
      "2022-08-18 23:34:33 [88,331ms] [Warning] [omni.hydra] Mesh /World/Game/mobility/link_1/visuals/frame_horizontal_bar_29 has corrupted data in primvar st: buffer size 18 doesn't match expected size 48 in faceVarying primvars\n",
      "2022-08-18 23:34:33 [88,331ms] [Warning] [omni.hydra] Mesh /World/Game/mobility/link_1/visuals/base_side_panel_9 has corrupted data in primvar st: buffer size 36 doesn't match expected size 72 in faceVarying primvars\n",
      "2022-08-18 23:34:33 [88,331ms] [Warning] [omni.hydra] Mesh /World/Game/mobility/link_1/visuals/frame_horizontal_bar_27 has corrupted data in primvar st_1: buffer size 6 doesn't match expected size 48 in faceVarying primvars\n",
      "2022-08-18 23:34:33 [88,331ms] [Warning] [omni.hydra] Mesh /World/Game/mobility/link_1/visuals/frame_horizontal_bar_29 has corrupted data in primvar st_1: buffer size 6 doesn't match expected size 48 in faceVarying primvars\n",
      "2022-08-18 23:34:33 [88,331ms] [Warning] [omni.hydra] Mesh /World/Game/mobility/link_1/visuals/base_side_panel_10 has corrupted data in primvar st: buffer size 18 doesn't match expected size 72 in faceVarying primvars\n",
      "2022-08-18 23:34:33 [88,331ms] [Warning] [omni.hydra] Mesh /World/Game/mobility/link_1/visuals/base_side_panel_11 has corrupted data in primvar st: buffer size 6 doesn't match expected size 72 in faceVarying primvars\n",
      "2022-08-18 23:34:33 [88,331ms] [Warning] [omni.hydra] Mesh /World/Game/mobility/link_1/visuals/base_side_panel_11 has corrupted data in primvar st_1: buffer size 30 doesn't match expected size 72 in faceVarying primvars\n",
      "2022-08-18 23:34:33 [88,331ms] [Warning] [omni.hydra] Mesh /World/Game/mobility/link_1/visuals/base_side_panel_12 has corrupted data in primvar st: buffer size 18 doesn't match expected size 72 in faceVarying primvars\n",
      "2022-08-18 23:34:33 [88,331ms] [Warning] [omni.hydra] Mesh /World/Game/mobility/link_1/visuals/bottom_panel_13 has corrupted data in primvar st: buffer size 66 doesn't match expected size 72 in faceVarying primvars\n",
      "2022-08-18 23:34:33 [88,331ms] [Warning] [omni.hydra] Mesh /World/Game/mobility/link_0/visuals/cabinet_door_surface_7 has corrupted data in primvar st: buffer size 24 doesn't match expected size 48 in faceVarying primvars\n",
      "2022-08-18 23:34:33 [88,331ms] [Warning] [omni.hydra] Mesh /World/Game/mobility/link_0/visuals/cabinet_door_surface_6 has corrupted data in primvar st: buffer size 36 doesn't match expected size 72 in faceVarying primvars\n",
      "2022-08-18 23:34:33 [88,331ms] [Warning] [omni.hydra] Mesh /World/Game/mobility/link_1/visuals/base_side_panel_12 has corrupted data in primvar st_1: buffer size 18 doesn't match expected size 72 in faceVarying primvars\n",
      "2022-08-18 23:34:33 [88,331ms] [Warning] [omni.hydra] Mesh /World/Game/mobility/link_0/visuals/cabinet_door_surface_8 has corrupted data in primvar st: buffer size 36 doesn't match expected size 72 in faceVarying primvars\n",
      "2022-08-18 23:34:33 [88,331ms] [Warning] [omni.hydra] Mesh /World/Game/mobility/link_1/visuals/base_side_panel_10 has corrupted data in primvar st_1: buffer size 18 doesn't match expected size 72 in faceVarying primvars\n",
      "2022-08-18 23:34:33 [88,331ms] [Warning] [omni.hydra] Mesh /World/Game/mobility/link_0/visuals/cabinet_door_surface_9 has corrupted data in primvar st: buffer size 24 doesn't match expected size 48 in faceVarying primvars\n",
      "2022-08-18 23:34:33 [88,331ms] [Warning] [omni.hydra] Mesh /World/Game/mobility/link_0/visuals/cabinet_door_surface_10 has corrupted data in primvar st: buffer size 36 doesn't match expected size 72 in faceVarying primvars\n",
      "2022-08-18 23:34:33 [88,332ms] [Warning] [omni.hydra] Mesh /World/Game/mobility/link_0/visuals/handle_7 has corrupted data in primvar st: buffer size 1962 doesn't match expected size 4008 in faceVarying primvars\n",
      "2022-08-18 23:34:33 [88,891ms] [Warning] [omni.physx.plugin] PhysicsUSD: Parse collision - triangle mesh collision (approximation None/MeshSimplifixation) cannot be a part of a dynamic body, falling back to convexHull approximation: /World/Game/mobility/link_0/visuals/handle_7\n",
      "2022-08-18 23:34:34 [88,904ms] [Warning] [omni.physx.plugin] The rigid body at /World/Game/mobility/base has a possibly invalid inertia tensor of {1.0, 1.0, 1.0} and a negative mass. Either specify correct values in the mass properties, or add collider(s) to any shape(s) that you wish to automatically compute mass properties for. If you do not want the objects to collide, add colliders regardless then disable the 'enable collision' property.\n",
      "2022-08-18 23:34:34 [88,937ms] [Warning] [gpu.foundation.plugin] Requesting texture to use texture streaming, but the service isn't available.The texture will be created as a regular resource.\n",
      "2022-08-18 23:34:34 [88,970ms] [Warning] [omni.hydra] Mesh /World/Game/mobility/link_1/visuals/vertical_side_panel_16 has corrupted data in primvar st: buffer size 18 doesn't match expected size 48 in faceVarying primvars\n",
      "2022-08-18 23:34:34 [88,970ms] [Warning] [omni.hydra] Mesh /World/Game/mobility/link_1/visuals/vertical_side_panel_17 has corrupted data in primvar st: buffer size 18 doesn't match expected size 48 in faceVarying primvars\n",
      "2022-08-18 23:34:34 [88,970ms] [Warning] [omni.hydra] Mesh /World/Game/mobility/link_1/visuals/other_leaf_23 has corrupted data in primvar st: buffer size 24 doesn't match expected size 48 in faceVarying primvars\n",
      "2022-08-18 23:34:34 [88,970ms] [Warning] [omni.hydra] Mesh /World/Game/mobility/link_1/visuals/vertical_side_panel_16 has corrupted data in primvar st_1: buffer size 6 doesn't match expected size 48 in faceVarying primvars\n",
      "2022-08-18 23:34:34 [88,970ms] [Warning] [omni.hydra] Mesh /World/Game/mobility/link_1/visuals/shelf_4 has corrupted data in primvar st: buffer size 18 doesn't match expected size 36 in faceVarying primvars\n",
      "2022-08-18 23:34:34 [88,970ms] [Warning] [omni.hydra] Mesh /World/Game/mobility/link_1/visuals/back_panel_16 has corrupted data in primvar st: buffer size 36 doesn't match expected size 72 in faceVarying primvars\n",
      "2022-08-18 23:34:34 [88,970ms] [Warning] [omni.hydra] Mesh /World/Game/mobility/link_1/visuals/other_leaf_24 has corrupted data in primvar st: buffer size 24 doesn't match expected size 48 in faceVarying primvars\n",
      "2022-08-18 23:34:34 [88,970ms] [Warning] [omni.hydra] Mesh /World/Game/mobility/link_1/visuals/vertical_side_panel_14 has corrupted data in primvar st: buffer size 18 doesn't match expected size 48 in faceVarying primvars\n",
      "2022-08-18 23:34:34 [88,970ms] [Warning] [omni.hydra] Mesh /World/Game/mobility/link_1/visuals/vertical_side_panel_17 has corrupted data in primvar st_1: buffer size 6 doesn't match expected size 48 in faceVarying primvars\n",
      "2022-08-18 23:34:34 [88,970ms] [Warning] [omni.hydra] Mesh /World/Game/mobility/link_1/visuals/other_leaf_21 has corrupted data in primvar st: buffer size 24 doesn't match expected size 48 in faceVarying primvars\n",
      "2022-08-18 23:34:34 [88,970ms] [Warning] [omni.hydra] Mesh /World/Game/mobility/link_1/visuals/vertical_side_panel_14 has corrupted data in primvar st_1: buffer size 6 doesn't match expected size 48 in faceVarying primvars\n",
      "2022-08-18 23:34:34 [88,970ms] [Warning] [omni.hydra] Mesh /World/Game/mobility/link_1/visuals/vertical_side_panel_15 has corrupted data in primvar st: buffer size 18 doesn't match expected size 48 in faceVarying primvars\n",
      "2022-08-18 23:34:34 [88,970ms] [Warning] [omni.hydra] Mesh /World/Game/mobility/link_1/visuals/frame_vertical_bar_25 has corrupted data in primvar st: buffer size 18 doesn't match expected size 72 in faceVarying primvars\n",
      "2022-08-18 23:34:34 [88,970ms] [Warning] [omni.hydra] Mesh /World/Game/mobility/link_1/visuals/frame_vertical_bar_26 has corrupted data in primvar st: buffer size 18 doesn't match expected size 72 in faceVarying primvars\n",
      "2022-08-18 23:34:34 [88,970ms] [Warning] [omni.hydra] Mesh /World/Game/mobility/link_1/visuals/vertical_side_panel_15 has corrupted data in primvar st_1: buffer size 6 doesn't match expected size 48 in faceVarying primvars\n",
      "2022-08-18 23:34:34 [88,970ms] [Warning] [omni.hydra] Mesh /World/Game/mobility/link_1/visuals/frame_vertical_bar_25 has corrupted data in primvar st_1: buffer size 18 doesn't match expected size 72 in faceVarying primvars\n",
      "2022-08-18 23:34:34 [88,970ms] [Warning] [omni.hydra] Mesh /World/Game/mobility/link_1/visuals/other_leaf_22 has corrupted data in primvar st: buffer size 24 doesn't match expected size 48 in faceVarying primvars\n",
      "2022-08-18 23:34:34 [88,970ms] [Warning] [omni.hydra] Mesh /World/Game/mobility/link_1/visuals/frame_vertical_bar_26 has corrupted data in primvar st_1: buffer size 18 doesn't match expected size 72 in faceVarying primvars\n",
      "2022-08-18 23:34:34 [88,970ms] [Warning] [omni.hydra] Mesh /World/Game/mobility/link_1/visuals/frame_horizontal_bar_27 has corrupted data in primvar st: buffer size 18 doesn't match expected size 48 in faceVarying primvars\n",
      "2022-08-18 23:34:34 [88,970ms] [Warning] [omni.hydra] Mesh /World/Game/mobility/link_1/visuals/frame_horizontal_bar_28 has corrupted data in primvar st: buffer size 24 doesn't match expected size 48 in faceVarying primvars\n",
      "2022-08-18 23:34:34 [88,971ms] [Warning] [omni.hydra] Mesh /World/Game/mobility/link_1/visuals/frame_horizontal_bar_29 has corrupted data in primvar st: buffer size 18 doesn't match expected size 48 in faceVarying primvars\n",
      "2022-08-18 23:34:34 [88,971ms] [Warning] [omni.hydra] Mesh /World/Game/mobility/link_1/visuals/frame_horizontal_bar_27 has corrupted data in primvar st_1: buffer size 6 doesn't match expected size 48 in faceVarying primvars\n",
      "2022-08-18 23:34:34 [88,971ms] [Warning] [omni.hydra] Mesh /World/Game/mobility/link_1/visuals/base_side_panel_9 has corrupted data in primvar st: buffer size 36 doesn't match expected size 72 in faceVarying primvars\n",
      "2022-08-18 23:34:34 [88,971ms] [Warning] [omni.hydra] Mesh /World/Game/mobility/link_1/visuals/base_side_panel_10 has corrupted data in primvar st: buffer size 18 doesn't match expected size 72 in faceVarying primvars\n",
      "2022-08-18 23:34:34 [88,971ms] [Warning] [omni.hydra] Mesh /World/Game/mobility/link_1/visuals/frame_horizontal_bar_29 has corrupted data in primvar st_1: buffer size 6 doesn't match expected size 48 in faceVarying primvars\n",
      "2022-08-18 23:34:34 [88,971ms] [Warning] [omni.hydra] Mesh /World/Game/mobility/link_1/visuals/base_side_panel_10 has corrupted data in primvar st_1: buffer size 18 doesn't match expected size 72 in faceVarying primvars\n",
      "2022-08-18 23:34:34 [88,971ms] [Warning] [omni.hydra] Mesh /World/Game/mobility/link_1/visuals/base_side_panel_11 has corrupted data in primvar st: buffer size 6 doesn't match expected size 72 in faceVarying primvars\n",
      "2022-08-18 23:34:34 [88,971ms] [Warning] [omni.hydra] Mesh /World/Game/mobility/link_1/visuals/base_side_panel_12 has corrupted data in primvar st: buffer size 18 doesn't match expected size 72 in faceVarying primvars\n",
      "2022-08-18 23:34:34 [88,971ms] [Warning] [omni.hydra] Mesh /World/Game/mobility/link_1/visuals/base_side_panel_11 has corrupted data in primvar st_1: buffer size 30 doesn't match expected size 72 in faceVarying primvars\n",
      "2022-08-18 23:34:34 [88,971ms] [Warning] [omni.hydra] Mesh /World/Game/mobility/link_1/visuals/base_side_panel_12 has corrupted data in primvar st_1: buffer size 18 doesn't match expected size 72 in faceVarying primvars\n",
      "2022-08-18 23:34:34 [88,971ms] [Warning] [omni.hydra] Mesh /World/Game/mobility/link_1/visuals/bottom_panel_13 has corrupted data in primvar st: buffer size 66 doesn't match expected size 72 in faceVarying primvars\n",
      "2022-08-18 23:34:34 [88,971ms] [Warning] [omni.hydra] Mesh /World/Game/mobility/link_0/visuals/cabinet_door_surface_6 has corrupted data in primvar st: buffer size 36 doesn't match expected size 72 in faceVarying primvars\n",
      "2022-08-18 23:34:34 [88,971ms] [Warning] [omni.hydra] Mesh /World/Game/mobility/link_0/visuals/cabinet_door_surface_7 has corrupted data in primvar st: buffer size 24 doesn't match expected size 48 in faceVarying primvars\n"
     ]
    },
    {
     "name": "stdout",
     "output_type": "stream",
     "text": [
      "2022-08-18 23:34:34 [88,971ms] [Warning] [omni.hydra] Mesh /World/Game/mobility/link_0/visuals/cabinet_door_surface_8 has corrupted data in primvar st: buffer size 36 doesn't match expected size 72 in faceVarying primvars\n",
      "2022-08-18 23:34:34 [88,971ms] [Warning] [omni.hydra] Mesh /World/Game/mobility/link_0/visuals/cabinet_door_surface_9 has corrupted data in primvar st: buffer size 24 doesn't match expected size 48 in faceVarying primvars\n",
      "2022-08-18 23:34:34 [88,971ms] [Warning] [omni.hydra] Mesh /World/Game/mobility/link_0/visuals/cabinet_door_surface_10 has corrupted data in primvar st: buffer size 36 doesn't match expected size 72 in faceVarying primvars\n",
      "2022-08-18 23:34:34 [88,971ms] [Warning] [omni.hydra] Mesh /World/Game/mobility/link_0/visuals/handle_7 has corrupted data in primvar st: buffer size 1962 doesn't match expected size 4008 in faceVarying primvars\n",
      "2022-08-18 23:34:34 [89,097ms] [Warning] [omni.hydra] Mesh /World/Game/mobility/link_1/visuals/vertical_side_panel_14 has corrupted data in primvar st: buffer size 18 doesn't match expected size 48 in faceVarying primvars\n",
      "2022-08-18 23:34:34 [89,097ms] [Warning] [omni.hydra] Mesh /World/Game/mobility/link_1/visuals/shelf_4 has corrupted data in primvar st: buffer size 18 doesn't match expected size 36 in faceVarying primvars\n",
      "2022-08-18 23:34:34 [89,097ms] [Warning] [omni.hydra] Mesh /World/Game/mobility/link_1/visuals/vertical_side_panel_15 has corrupted data in primvar st: buffer size 18 doesn't match expected size 48 in faceVarying primvars\n",
      "2022-08-18 23:34:34 [89,097ms] [Warning] [omni.hydra] Mesh /World/Game/mobility/link_1/visuals/vertical_side_panel_16 has corrupted data in primvar st: buffer size 18 doesn't match expected size 48 in faceVarying primvars\n",
      "2022-08-18 23:34:34 [89,097ms] [Warning] [omni.hydra] Mesh /World/Game/mobility/link_1/visuals/vertical_side_panel_14 has corrupted data in primvar st_1: buffer size 6 doesn't match expected size 48 in faceVarying primvars\n",
      "2022-08-18 23:34:34 [89,097ms] [Warning] [omni.hydra] Mesh /World/Game/mobility/link_1/visuals/vertical_side_panel_17 has corrupted data in primvar st: buffer size 18 doesn't match expected size 48 in faceVarying primvars\n",
      "2022-08-18 23:34:34 [89,097ms] [Warning] [omni.hydra] Mesh /World/Game/mobility/link_1/visuals/back_panel_16 has corrupted data in primvar st: buffer size 36 doesn't match expected size 72 in faceVarying primvars\n",
      "2022-08-18 23:34:34 [89,097ms] [Warning] [omni.hydra] Mesh /World/Game/mobility/link_1/visuals/other_leaf_24 has corrupted data in primvar st: buffer size 24 doesn't match expected size 48 in faceVarying primvars\n",
      "2022-08-18 23:34:34 [89,097ms] [Warning] [omni.hydra] Mesh /World/Game/mobility/link_1/visuals/other_leaf_23 has corrupted data in primvar st: buffer size 24 doesn't match expected size 48 in faceVarying primvars\n",
      "2022-08-18 23:34:34 [89,097ms] [Warning] [omni.hydra] Mesh /World/Game/mobility/link_1/visuals/vertical_side_panel_15 has corrupted data in primvar st_1: buffer size 6 doesn't match expected size 48 in faceVarying primvars\n",
      "2022-08-18 23:34:34 [89,097ms] [Warning] [omni.hydra] Mesh /World/Game/mobility/link_1/visuals/other_leaf_22 has corrupted data in primvar st: buffer size 24 doesn't match expected size 48 in faceVarying primvars\n",
      "2022-08-18 23:34:34 [89,097ms] [Warning] [omni.hydra] Mesh /World/Game/mobility/link_1/visuals/other_leaf_21 has corrupted data in primvar st: buffer size 24 doesn't match expected size 48 in faceVarying primvars\n",
      "2022-08-18 23:34:34 [89,097ms] [Warning] [omni.hydra] Mesh /World/Game/mobility/link_1/visuals/vertical_side_panel_17 has corrupted data in primvar st_1: buffer size 6 doesn't match expected size 48 in faceVarying primvars\n",
      "2022-08-18 23:34:34 [89,098ms] [Warning] [omni.hydra] Mesh /World/Game/mobility/link_1/visuals/vertical_side_panel_16 has corrupted data in primvar st_1: buffer size 6 doesn't match expected size 48 in faceVarying primvars\n",
      "2022-08-18 23:34:34 [89,098ms] [Warning] [omni.hydra] Mesh /World/Game/mobility/link_1/visuals/frame_vertical_bar_25 has corrupted data in primvar st: buffer size 18 doesn't match expected size 72 in faceVarying primvars\n",
      "2022-08-18 23:34:34 [89,098ms] [Warning] [omni.hydra] Mesh /World/Game/mobility/link_1/visuals/frame_vertical_bar_26 has corrupted data in primvar st: buffer size 18 doesn't match expected size 72 in faceVarying primvars\n",
      "2022-08-18 23:34:34 [89,098ms] [Warning] [omni.hydra] Mesh /World/Game/mobility/link_1/visuals/frame_horizontal_bar_28 has corrupted data in primvar st: buffer size 24 doesn't match expected size 48 in faceVarying primvars\n",
      "2022-08-18 23:34:34 [89,098ms] [Warning] [omni.hydra] Mesh /World/Game/mobility/link_1/visuals/frame_horizontal_bar_27 has corrupted data in primvar st: buffer size 18 doesn't match expected size 48 in faceVarying primvars\n",
      "2022-08-18 23:34:34 [89,098ms] [Warning] [omni.hydra] Mesh /World/Game/mobility/link_1/visuals/frame_vertical_bar_25 has corrupted data in primvar st_1: buffer size 18 doesn't match expected size 72 in faceVarying primvars\n",
      "2022-08-18 23:34:34 [89,098ms] [Warning] [omni.hydra] Mesh /World/Game/mobility/link_1/visuals/frame_horizontal_bar_29 has corrupted data in primvar st: buffer size 18 doesn't match expected size 48 in faceVarying primvars\n",
      "2022-08-18 23:34:34 [89,098ms] [Warning] [omni.hydra] Mesh /World/Game/mobility/link_1/visuals/frame_vertical_bar_26 has corrupted data in primvar st_1: buffer size 18 doesn't match expected size 72 in faceVarying primvars\n",
      "2022-08-18 23:34:34 [89,098ms] [Warning] [omni.hydra] Mesh /World/Game/mobility/link_1/visuals/base_side_panel_9 has corrupted data in primvar st: buffer size 36 doesn't match expected size 72 in faceVarying primvars\n",
      "2022-08-18 23:34:34 [89,098ms] [Warning] [omni.hydra] Mesh /World/Game/mobility/link_1/visuals/base_side_panel_10 has corrupted data in primvar st: buffer size 18 doesn't match expected size 72 in faceVarying primvars\n",
      "2022-08-18 23:34:34 [89,098ms] [Warning] [omni.hydra] Mesh /World/Game/mobility/link_1/visuals/base_side_panel_11 has corrupted data in primvar st: buffer size 6 doesn't match expected size 72 in faceVarying primvars\n",
      "2022-08-18 23:34:34 [89,098ms] [Warning] [omni.hydra] Mesh /World/Game/mobility/link_1/visuals/base_side_panel_12 has corrupted data in primvar st: buffer size 18 doesn't match expected size 72 in faceVarying primvars\n",
      "2022-08-18 23:34:34 [89,098ms] [Warning] [omni.hydra] Mesh /World/Game/mobility/link_1/visuals/bottom_panel_13 has corrupted data in primvar st: buffer size 66 doesn't match expected size 72 in faceVarying primvars\n",
      "2022-08-18 23:34:34 [89,098ms] [Warning] [omni.hydra] Mesh /World/Game/mobility/link_1/visuals/frame_horizontal_bar_27 has corrupted data in primvar st_1: buffer size 6 doesn't match expected size 48 in faceVarying primvars\n",
      "2022-08-18 23:34:34 [89,098ms] [Warning] [omni.hydra] Mesh /World/Game/mobility/link_0/visuals/cabinet_door_surface_7 has corrupted data in primvar st: buffer size 24 doesn't match expected size 48 in faceVarying primvars\n",
      "2022-08-18 23:34:34 [89,098ms] [Warning] [omni.hydra] Mesh /World/Game/mobility/link_0/visuals/cabinet_door_surface_6 has corrupted data in primvar st: buffer size 36 doesn't match expected size 72 in faceVarying primvars\n",
      "2022-08-18 23:34:34 [89,098ms] [Warning] [omni.hydra] Mesh /World/Game/mobility/link_0/visuals/cabinet_door_surface_8 has corrupted data in primvar st: buffer size 36 doesn't match expected size 72 in faceVarying primvars\n",
      "2022-08-18 23:34:34 [89,098ms] [Warning] [omni.hydra] Mesh /World/Game/mobility/link_0/visuals/cabinet_door_surface_9 has corrupted data in primvar st: buffer size 24 doesn't match expected size 48 in faceVarying primvars\n",
      "2022-08-18 23:34:34 [89,098ms] [Warning] [omni.hydra] Mesh /World/Game/mobility/link_0/visuals/handle_7 has corrupted data in primvar st: buffer size 1962 doesn't match expected size 4008 in faceVarying primvars\n",
      "2022-08-18 23:34:34 [89,098ms] [Warning] [omni.hydra] Mesh /World/Game/mobility/link_0/visuals/cabinet_door_surface_10 has corrupted data in primvar st: buffer size 36 doesn't match expected size 72 in faceVarying primvars\n",
      "2022-08-18 23:34:34 [89,098ms] [Warning] [omni.hydra] Mesh /World/Game/mobility/link_1/visuals/base_side_panel_10 has corrupted data in primvar st_1: buffer size 18 doe"
     ]
    }
   ],
   "source": [
    "world.reset()\n",
    "controller.xforms.set_world_poses(positions=np.array([[0,0,0]]), orientations = np.array([[1, 0, 0, 0]])) # WXYZ\n",
    "\n",
    "for _ in range(30):\n",
    "    world.step()"
   ]
  },
  {
   "cell_type": "code",
   "execution_count": 29,
   "id": "9474d7d5",
   "metadata": {},
   "outputs": [],
   "source": [
    "world.scene.remove_object(mobility_obj_name)"
   ]
  },
  {
   "cell_type": "code",
   "execution_count": null,
   "id": "87366fee",
   "metadata": {},
   "outputs": [],
   "source": []
  }
 ],
 "metadata": {
  "kernelspec": {
   "display_name": "Isaac Sim Python 3",
   "language": "python",
   "name": "isaac_sim_python3"
  },
  "language_info": {
   "codemirror_mode": {
    "name": "ipython",
    "version": 3
   },
   "file_extension": ".py",
   "mimetype": "text/x-python",
   "name": "python",
   "nbconvert_exporter": "python",
   "pygments_lexer": "ipython3",
   "version": "3.7.13"
  }
 },
 "nbformat": 4,
 "nbformat_minor": 5
}
