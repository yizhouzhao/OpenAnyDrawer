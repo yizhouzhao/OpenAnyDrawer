{
 "cells": [
  {
   "cell_type": "code",
   "execution_count": null,
   "id": "90591651",
   "metadata": {},
   "outputs": [],
   "source": [
    "%load_ext autoreload\n",
    "%autoreload 2"
   ]
  },
  {
   "cell_type": "code",
   "execution_count": null,
   "id": "aea48e86",
   "metadata": {},
   "outputs": [],
   "source": [
    "world.reset()"
   ]
  },
  {
   "cell_type": "code",
   "execution_count": null,
   "id": "f71e604a",
   "metadata": {},
   "outputs": [],
   "source": [
    "import numpy as np"
   ]
  },
  {
   "cell_type": "code",
   "execution_count": null,
   "id": "5cef6ce0",
   "metadata": {},
   "outputs": [],
   "source": [
    "import getpass\n",
    "user = getpass.getuser()"
   ]
  },
  {
   "cell_type": "code",
   "execution_count": null,
   "id": "67b66ea4",
   "metadata": {},
   "outputs": [],
   "source": [
    "from omni.isaac.kit import SimulationApp\n",
    "\n",
    "usd_path = \"/home/yizhou/Research/OpenAnyDrawer/scene0.usd\" # f\"omniverse://localhost/Users/{user}/test_franka2.usd\"\n",
    "\n",
    "\n",
    "simulation_app = SimulationApp({\"headless\": True, \"open_usd\": usd_path, \"livesync_usd\": usd_path})\n"
   ]
  },
  {
   "cell_type": "code",
   "execution_count": null,
   "id": "cd84bf5a",
   "metadata": {},
   "outputs": [],
   "source": [
    "from omni.isaac.core import World\n",
    "world = World()"
   ]
  },
  {
   "cell_type": "code",
   "execution_count": null,
   "id": "8b8ed071",
   "metadata": {},
   "outputs": [],
   "source": [
    "from open_env import OpenEnv\n",
    "\n",
    "env = OpenEnv(\"/World/Game*/Franka\", \"/World/Game*/Franka/panda_hand\")"
   ]
  },
  {
   "cell_type": "code",
   "execution_count": null,
   "id": "6e4c5d91",
   "metadata": {},
   "outputs": [],
   "source": [
    "world.reset()"
   ]
  },
  {
   "cell_type": "code",
   "execution_count": null,
   "id": "9dc21073",
   "metadata": {},
   "outputs": [],
   "source": [
    "env.start()"
   ]
  },
  {
   "cell_type": "code",
   "execution_count": null,
   "id": "ee3aaf52",
   "metadata": {},
   "outputs": [],
   "source": [
    "world.scene.add(env.robots)"
   ]
  },
  {
   "cell_type": "code",
   "execution_count": null,
   "id": "19528fd5",
   "metadata": {
    "scrolled": true
   },
   "outputs": [],
   "source": [
    "# get grasp location\n",
    "goal_pos, goal_rot = env.calculate_grasp_location(keyword = \"handle_6\", verticle = True)"
   ]
  },
  {
   "cell_type": "code",
   "execution_count": null,
   "id": "73733cce",
   "metadata": {},
   "outputs": [],
   "source": [
    "env.robots.get_dof_limits()[0]"
   ]
  },
  {
   "cell_type": "markdown",
   "id": "3a770821",
   "metadata": {},
   "source": [
    "# first stage: move the correct y,z, keep x far "
   ]
  },
  {
   "cell_type": "code",
   "execution_count": null,
   "id": "8149c8f9",
   "metadata": {},
   "outputs": [],
   "source": [
    "goal_pos[...,0] -= 0.15"
   ]
  },
  {
   "cell_type": "code",
   "execution_count": null,
   "id": "213ad7e4",
   "metadata": {},
   "outputs": [],
   "source": [
    "goal_pos, goal_rot"
   ]
  },
  {
   "cell_type": "code",
   "execution_count": null,
   "id": "d2d5c390",
   "metadata": {},
   "outputs": [],
   "source": [
    "# bboxes_list = env.get_mesh_bboxes(\"handle_\")\n",
    "# center_list = [(e[1] + e[0]) / 2 for e in bboxes_list]\n",
    "\n",
    "# center_list[0][0] -= 0.2\n",
    "# center_list[1][0] -= 0.2\n",
    "\n",
    "# goal_pos = np.array([list(e) for e in center_list], dtype=np.float32)\n",
    "# goal_rot = np.array([[0, 0.70711, 0, 0.70711]], dtype=np.float32).repeat(2, axis = 0) # XYZW\n",
    "\n",
    "# # goal_pos, goal_rot = hand_pos, hand_rot"
   ]
  },
  {
   "cell_type": "code",
   "execution_count": null,
   "id": "c5eb5abe",
   "metadata": {},
   "outputs": [],
   "source": [
    "from usd_utils import calcuate_rotation_axis\n",
    "from numpy_utils import quat_conjugate, quat_mul"
   ]
  },
  {
   "cell_type": "code",
   "execution_count": null,
   "id": "ef131a3a",
   "metadata": {},
   "outputs": [],
   "source": [
    "goal_rot"
   ]
  },
  {
   "cell_type": "code",
   "execution_count": null,
   "id": "e944c094",
   "metadata": {
    "scrolled": true
   },
   "outputs": [],
   "source": [
    "env.move_hand_to_fast(goal_pos, goal_rot, world, max_step=300)"
   ]
  },
  {
   "cell_type": "code",
   "execution_count": null,
   "id": "9c17dd0e",
   "metadata": {},
   "outputs": [],
   "source": [
    "# # stage\n",
    "# for _ in range(300):\n",
    "#     world.step(render=True)\n",
    "    \n",
    "#     # get end effector transforms\n",
    "#     hand_pos, hand_rot = env.xforms.get_world_poses()\n",
    "#     hand_rot = hand_rot[:,[1,2,3,0]] # WXYZ -> XYZW\n",
    "    \n",
    "#     if abs(quat_mul(goal_rot[0], quat_conjugate(hand_rot[0]))[3] - 1) < 0.03 and \\\n",
    "#         np.sqrt(np.sum((goal_pos[0] - hand_pos[0])**2)) < 0.01:\n",
    "#         print(hand_rot)\n",
    "#         print(\"Done rotation, position\")\n",
    "#         break\n",
    "\n",
    "#     u = env.move_to_target(goal_pos, goal_rot)\n",
    "#     u[:,[-2, -1]] = 0.05\n",
    "#     env.robots.set_joint_position_targets(u)"
   ]
  },
  {
   "cell_type": "markdown",
   "id": "f35ac478",
   "metadata": {},
   "source": [
    "# Second Stage: move to the grasp position"
   ]
  },
  {
   "cell_type": "code",
   "execution_count": null,
   "id": "f53751c9",
   "metadata": {},
   "outputs": [],
   "source": [
    "goal_pos[...,0] += 0.15\n",
    "\n",
    "# center_list[0][0] -= 0.1\n",
    "# center_list[1][0] -= 0.1\n",
    "# goal_pos = np.array([list(e) for e in center_list], dtype=np.float32)\n",
    "# goal_rot = np.array([[0, 0.70711, 0, 0.70711]], dtype=np.float32).repeat(2, axis = 0) # XYZW"
   ]
  },
  {
   "cell_type": "code",
   "execution_count": null,
   "id": "e8de3854",
   "metadata": {},
   "outputs": [],
   "source": [
    "goal_pos"
   ]
  },
  {
   "cell_type": "code",
   "execution_count": null,
   "id": "8b3a4478",
   "metadata": {
    "scrolled": true
   },
   "outputs": [],
   "source": [
    "env.move_hand_to_slow(goal_pos, goal_rot, world, step = 60)"
   ]
  },
  {
   "cell_type": "code",
   "execution_count": null,
   "id": "d2db7b67",
   "metadata": {},
   "outputs": [],
   "source": [
    "# for i in range(60):\n",
    "#     world.step(render=True)\n",
    "    \n",
    "#     u = env.move_to_target(goal_pos, goal_rot)\n",
    "#     u[:,[-2, -1]] = 0.5 \n",
    "#     env.robots.set_joint_position_targets(u)"
   ]
  },
  {
   "cell_type": "markdown",
   "id": "d3dba3ac",
   "metadata": {},
   "source": [
    "# Third Stage: close gripper"
   ]
  },
  {
   "cell_type": "code",
   "execution_count": null,
   "id": "c8ba3d02",
   "metadata": {},
   "outputs": [],
   "source": [
    "# env.move_hand_to_slow(goal_pos, goal_rot, world, open_gripper=False, step = 60)"
   ]
  },
  {
   "cell_type": "code",
   "execution_count": null,
   "id": "48ea59d3",
   "metadata": {},
   "outputs": [],
   "source": [
    "for i in range(60):\n",
    "    world.step(render=True)\n",
    "    \n",
    "    u = env.move_to_target(goal_pos, goal_rot)\n",
    "    u[:,[-2, -1]] = 0.5 - (0.5 - -1) / 60 * i\n",
    "    env.robots.set_joint_position_targets(u)"
   ]
  },
  {
   "cell_type": "markdown",
   "id": "d7b9d774",
   "metadata": {},
   "source": [
    "# Forth Stage: Pull Open"
   ]
  },
  {
   "cell_type": "markdown",
   "id": "d6051c4e",
   "metadata": {},
   "source": [
    "1. Open from the right"
   ]
  },
  {
   "cell_type": "code",
   "execution_count": null,
   "id": "cf9f5b18",
   "metadata": {},
   "outputs": [],
   "source": [
    "# rotate and pull\n",
    "for i in range(60):\n",
    "    world.step(render=True)\n",
    "    \n",
    "    target_pos, target_rot = env.calculate_pull_location(goal_pos, goal_rot, np.pi / 180 * i, 0.3)\n",
    "    u = env.move_to_target(target_pos, target_rot)\n",
    "    u[:,[-2, -1]] = -1\n",
    "    env.robots.set_joint_position_targets(u)"
   ]
  },
  {
   "cell_type": "markdown",
   "id": "6a65006c",
   "metadata": {},
   "source": [
    "2. Open from the left"
   ]
  },
  {
   "cell_type": "code",
   "execution_count": null,
   "id": "f1ee8f88",
   "metadata": {},
   "outputs": [],
   "source": [
    "# rotate and pull\n",
    "for i in range(10, 60):\n",
    "    world.step(render=True)\n",
    "    \n",
    "    target_pos, target_rot = env.calculate_pull_location(goal_pos, goal_rot, np.pi / 180 * i, 0.3, clock_wise=True)\n",
    "    u = env.move_to_target(target_pos, target_rot)\n",
    "    u[:,[-2, -1]] = -1\n",
    "    env.robots.set_joint_position_targets(u)"
   ]
  },
  {
   "cell_type": "markdown",
   "id": "ea0f97e4",
   "metadata": {},
   "source": [
    "3. Pull the drawer out"
   ]
  },
  {
   "cell_type": "code",
   "execution_count": null,
   "id": "bbbe5761",
   "metadata": {},
   "outputs": [],
   "source": [
    "# pull only\n",
    "for i in range(60):\n",
    "    world.step(render=True)\n",
    "    \n",
    "    goal_pos[...,0] -= 2e-4 * i\n",
    "    u = env.move_to_target(goal_pos, goal_rot)\n",
    "    u[:,[-2, -1]] = -1\n",
    "    env.robots.set_joint_position_targets(u)"
   ]
  },
  {
   "cell_type": "code",
   "execution_count": null,
   "id": "5d78055d",
   "metadata": {},
   "outputs": [],
   "source": [
    "## cannot slerp\n",
    "# end_pos, end_rot = env.calculate_pull_location(goal_pos, goal_rot, np.pi / 3, 0.3)\n",
    "# env.move_hand_to_slow(end_pos, end_rot, world, open_gripper=False, step = 60)"
   ]
  },
  {
   "cell_type": "code",
   "execution_count": null,
   "id": "7aa890a3",
   "metadata": {},
   "outputs": [],
   "source": [
    "world.reset()\n",
    "world.render()"
   ]
  },
  {
   "cell_type": "code",
   "execution_count": null,
   "id": "df414f39",
   "metadata": {},
   "outputs": [],
   "source": [
    "pause"
   ]
  },
  {
   "cell_type": "code",
   "execution_count": null,
   "id": "b92abfe5",
   "metadata": {},
   "outputs": [],
   "source": []
  }
 ],
 "metadata": {
  "kernelspec": {
   "display_name": "Isaac Sim Python 3",
   "language": "python",
   "name": "isaac_sim_python3"
  },
  "language_info": {
   "codemirror_mode": {
    "name": "ipython",
    "version": 3
   },
   "file_extension": ".py",
   "mimetype": "text/x-python",
   "name": "python",
   "nbconvert_exporter": "python",
   "pygments_lexer": "ipython3",
   "version": "3.7.13"
  }
 },
 "nbformat": 4,
 "nbformat_minor": 5
}
