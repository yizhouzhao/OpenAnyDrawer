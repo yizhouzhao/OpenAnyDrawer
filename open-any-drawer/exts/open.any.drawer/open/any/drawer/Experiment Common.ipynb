{
 "cells": [
  {
   "cell_type": "code",
   "execution_count": null,
   "id": "5ca9ee12",
   "metadata": {},
   "outputs": [],
   "source": [
    "import numpy as np\n",
    "from PIL import Image\n",
    "\n",
    "from exp.params import OBJ_INDEX_LIST\n",
    "from exp.profile import GRASP_PROFILES\n",
    "\n",
    "ROBOT_NAME = \"shadowhand\" # \"allegro\"\n",
    "grasp_profile = GRASP_PROFILES[ROBOT_NAME]"
   ]
  },
  {
   "cell_type": "code",
   "execution_count": null,
   "id": "8d73549b",
   "metadata": {},
   "outputs": [],
   "source": [
    "SUCESS_PERCENTAGE = 20\n",
    "print(\"SUCESS_PERCENTAGE: \", SUCESS_PERCENTAGE)\n",
    "result_file_path = \"/home/yizhou/Research/Data/shadowhand_exp_learning823.txt\"\n",
    "MODEL_PATH = \"/home/yizhou/Research/temp0/fasterrcnn_resnet50_fpn823.pth\""
   ]
  },
  {
   "cell_type": "code",
   "execution_count": null,
   "id": "a69957be",
   "metadata": {},
   "outputs": [],
   "source": [
    "SHOW_IMAGE = True"
   ]
  },
  {
   "cell_type": "code",
   "execution_count": null,
   "id": "f0dbbcec",
   "metadata": {},
   "outputs": [],
   "source": [
    "import getpass\n",
    "user = getpass.getuser()\n",
    "\n",
    "usd_path = grasp_profile[\"usd_path\"]\n",
    "print(usd_path)\n",
    "\n",
    "from omni.isaac.kit import SimulationApp    "
   ]
  },
  {
   "cell_type": "code",
   "execution_count": null,
   "id": "850aaf43",
   "metadata": {},
   "outputs": [],
   "source": [
    "simulation_app = SimulationApp({\"headless\": True, \"open_usd\": usd_path,  \"livesync_usd\": usd_path}) "
   ]
  },
  {
   "cell_type": "code",
   "execution_count": null,
   "id": "9e195348",
   "metadata": {},
   "outputs": [],
   "source": [
    "# world\n",
    "import omni\n",
    "from omni.isaac.core import World\n",
    "world = World()\n"
   ]
  },
  {
   "cell_type": "code",
   "execution_count": null,
   "id": "84135760",
   "metadata": {},
   "outputs": [],
   "source": [
    "# reset scene\n",
    "mobility_prim = world.scene.stage.GetPrimAtPath(\"/World/Game/mobility\")\n",
    "if mobility_prim:\n",
    "    omni.kit.commands.execute(\"DeletePrims\", paths=[\"/World/Game/mobility\"])"
   ]
  },
  {
   "cell_type": "code",
   "execution_count": null,
   "id": "9bc3ce4c",
   "metadata": {},
   "outputs": [],
   "source": [
    "# reset scene\n",
    "replicator_prim = world.scene.stage.GetPrimAtPath(\"/Replicator\")\n",
    "if replicator_prim:\n",
    "    omni.kit.commands.execute(\"DeletePrims\", paths=[\"/Replicator\"])\n"
   ]
  },
  {
   "cell_type": "code",
   "execution_count": null,
   "id": "43c091fb",
   "metadata": {},
   "outputs": [],
   "source": [
    "# custom import\n",
    "from open_env import OpenEnv\n",
    "from hand_env import HandEnv\n",
    "from hand_common import HandBase\n",
    "from render.utils import prim_random_color, LOOKS_PATH\n",
    "\n",
    "from task.checker import TaskChecker\n",
    "from task.instructor import SceneInstructor\n",
    "from omni.isaac.core.prims.xform_prim import XFormPrim\n",
    "\n",
    "env = OpenEnv()\n",
    "env.add_camera()\n",
    "env.setup_viewport()"
   ]
  },
  {
   "cell_type": "code",
   "execution_count": null,
   "id": "9d49f05d",
   "metadata": {},
   "outputs": [],
   "source": [
    "controller = HandBase(grasp_profile[\"articulation_root\"], \"/World/AnchorXform\")\n",
    "controller.grasp_profile = grasp_profile[\"offset\"]\n"
   ]
  },
  {
   "cell_type": "code",
   "execution_count": null,
   "id": "35735488",
   "metadata": {},
   "outputs": [],
   "source": [
    "# init\n",
    "world.reset()\n",
    "controller.start()\n",
    "world.scene.add(controller.robots)\n",
    "\n",
    "# hide robot\n",
    "hand_prim = world.scene.stage.GetPrimAtPath(grasp_profile[\"robot_path\"])\n",
    "hand_prim.GetAttribute('visibility').Set('invisible')"
   ]
  },
  {
   "cell_type": "code",
   "execution_count": null,
   "id": "61219475",
   "metadata": {},
   "outputs": [],
   "source": [
    "env.get_image()"
   ]
  },
  {
   "cell_type": "code",
   "execution_count": null,
   "id": "7c9eee31",
   "metadata": {},
   "outputs": [],
   "source": [
    "# load deep leanrning model\n",
    "from exp.model import load_vision_model\n",
    "model = load_vision_model(model_path = MODEL_PATH, model_name = \"fasterrcnn_resnet50_fpn\")"
   ]
  },
  {
   "cell_type": "code",
   "execution_count": null,
   "id": "807d3cfe",
   "metadata": {},
   "outputs": [],
   "source": [
    "OBJ_INDEX = 0"
   ]
  },
  {
   "cell_type": "code",
   "execution_count": null,
   "id": "26c5dad1",
   "metadata": {},
   "outputs": [],
   "source": [
    "env.add_object(OBJ_INDEX, scale = 0.1)\n",
    "\n",
    "mobility_obj = XFormPrim(\"/World/Game/mobility\")\n",
    "mobility_obj_name = mobility_obj.name\n",
    "\n",
    "# randomize color\n",
    "\n",
    "# reset look in scene\n",
    "mat_look_prim = world.scene.stage.GetPrimAtPath(LOOKS_PATH)\n",
    "if mat_look_prim:\n",
    "    omni.kit.commands.execute(\"DeletePrims\", paths=[LOOKS_PATH])\n",
    "\n",
    "world.step(render = False)\n",
    "\n",
    "scene_instr = SceneInstructor()\n",
    "scene_instr.analysis()\n",
    "\n",
    "handle_num = len(list(scene_instr.valid_handle_list.keys()))\n",
    "\n",
    "for HANDLE_INDEX in range(handle_num):\n",
    "    handle_path_str = list(scene_instr.valid_handle_list.keys())[HANDLE_INDEX]\n",
    "    prim_random_color(handle_path_str)\n",
    "    \n",
    "world.scene.add(mobility_obj)\n",
    "world.reset()\n",
    "world.render()"
   ]
  },
  {
   "cell_type": "code",
   "execution_count": null,
   "id": "05b3988c",
   "metadata": {},
   "outputs": [],
   "source": [
    "world.step(render = True)\n",
    "world.render()\n",
    "image_array =env.get_image(return_array=True)"
   ]
  },
  {
   "cell_type": "code",
   "execution_count": null,
   "id": "15a8d8a1",
   "metadata": {},
   "outputs": [],
   "source": [
    "env.get_image()"
   ]
  },
  {
   "cell_type": "code",
   "execution_count": null,
   "id": "d78d968f",
   "metadata": {
    "scrolled": true
   },
   "outputs": [],
   "source": [
    "scene_instr.valid_handle_list"
   ]
  },
  {
   "cell_type": "code",
   "execution_count": null,
   "id": "cdde3bee",
   "metadata": {},
   "outputs": [],
   "source": [
    "scene_instr.model = model\n",
    "scene_instr.predict_bounding_boxes(image_array[:,:,:3])\n",
    "\n",
    "# if not valid\n",
    "if not scene_instr.is_obj_valid:\n",
    "    print(\"object not valid: \", OBJ_INDEX)\n",
    "    simulation_app.close()\n",
    "    exit()\n",
    "\n",
    "# if no valid predicted boundbox\n",
    "if not scene_instr.is_pred_valid:\n",
    "    with open(result_file_path, \"a\") as f:\n",
    "        f.write(f\"{OBJ_INDEX}, invalid prediction\\n\")\n",
    "\n",
    "    world.scene.remove_object(mobility_obj_name)\n",
    "    world.reset()\n",
    "    controller.xforms.set_world_poses(positions=np.array([[0,0,0]]), orientations = np.array([[1, 0, 0, 0]])) # WXYZ\n",
    "    for _ in range(30):\n",
    "        world.step()\n",
    "\n",
    "    # continue"
   ]
  },
  {
   "cell_type": "code",
   "execution_count": null,
   "id": "3cab7f0c",
   "metadata": {},
   "outputs": [],
   "source": [
    "HANDLE_INDEX = 0"
   ]
  },
  {
   "cell_type": "code",
   "execution_count": null,
   "id": "63f7cded",
   "metadata": {},
   "outputs": [],
   "source": [
    "handle_path_str = list(scene_instr.valid_handle_list.keys())[HANDLE_INDEX]\n",
    "handle_joint_type = scene_instr.valid_handle_list[handle_path_str][\"joint_type\"]\n",
    "handle_joint = scene_instr.valid_handle_list[handle_path_str][\"joint\"]\n",
    "handle_rel_direciton = scene_instr.valid_handle_list[handle_path_str][\"relative_to_game_center\"]\n",
    "# handle_direction = scene_instr.valid_handle_list[handle_path_str][\"direction\"]\n",
    "\n",
    "# Task\n",
    "# print(\"handle_path_str, handle_joint_type, handle_joint, rel_direction\", handle_path_str, handle_joint_type, handle_joint, handle_rel_direciton)\n",
    "task_checker = TaskChecker(\"mobility\", handle_joint, handle_joint_type, IS_RUNTIME=True)\n"
   ]
  },
  {
   "cell_type": "code",
   "execution_count": null,
   "id": "45ff4f24",
   "metadata": {},
   "outputs": [],
   "source": [
    "################################################## LEARNING SOLUTION ##############################\n",
    "\n",
    "v_desc = scene_instr.valid_handle_list[handle_path_str][\"vertical_description\"]\n",
    "h_desc = scene_instr.valid_handle_list[handle_path_str][\"horizontal_description\"]\n",
    "\n",
    "the_box = scene_instr.get_box_from_desc(v_desc, h_desc)\n",
    "handle_direction = \"horizontal\" if (the_box[2] - the_box[0]) > (the_box[3] - the_box[1]) else \"vertical\" \n"
   ]
  },
  {
   "cell_type": "code",
   "execution_count": null,
   "id": "9de87999",
   "metadata": {},
   "outputs": [],
   "source": [
    "# init\n",
    "world.reset()\n",
    "controller.xforms.set_world_poses(positions=np.array([[0,0,0]]), orientations = np.array([[1, 0, 0, 0]])) # WXYZ\n",
    "for _ in range(60):\n",
    "    world.step() # wait some time"
   ]
  },
  {
   "cell_type": "code",
   "execution_count": null,
   "id": "5330529f",
   "metadata": {},
   "outputs": [],
   "source": [
    "graps_pos, grasp_rot = controller.calculate_grasp_location_from_pred_box(the_box, verticle= handle_direction == \"horizontal\")\n",
    "print(\"graps_pos, grasp_rot \", graps_pos, grasp_rot )"
   ]
  },
  {
   "cell_type": "code",
   "execution_count": null,
   "id": "6b887285",
   "metadata": {},
   "outputs": [],
   "source": [
    "# move close to handle\n",
    "graps_pos[...,0] -= 0.1\n",
    "controller.xforms.set_world_poses(graps_pos, grasp_rot)\n",
    "for _ in range(300):\n",
    "    world.step(render=SHOW_IMAGE)         \n",
    "\n",
    "print(\"move to handle\")\n",
    "# move to handle\n",
    "graps_pos[...,0] += 0.1\n",
    "controller.xforms.set_world_poses(graps_pos, grasp_rot)\n",
    "for _ in range(100):\n",
    "    world.step(render=SHOW_IMAGE)     \n"
   ]
  },
  {
   "cell_type": "code",
   "execution_count": null,
   "id": "56321af7",
   "metadata": {},
   "outputs": [],
   "source": [
    "ROBOT_NAME"
   ]
  },
  {
   "cell_type": "code",
   "execution_count": null,
   "id": "7483034e",
   "metadata": {},
   "outputs": [],
   "source": [
    "# close finger\n",
    "print(\"close finger\")\n",
    "finger_pos = grasp_profile[\"finger_pos\"]\n",
    "\n",
    "if ROBOT_NAME == \"allegro\":   \n",
    "    for i in range(120):\n",
    "        controller.robots.set_joint_position_targets(finger_pos * i / 120) # \n",
    "        world.step(render=SHOW_IMAGE)       \n",
    "\n",
    "elif ROBOT_NAME == \"frankahand\":      \n",
    "    for i in range(100):\n",
    "        finger_pos -= 0.01\n",
    "        controller.robots.set_joint_position_targets(finger_pos) # \n",
    "        world.step(render=SHOW_IMAGE) \n",
    "\n",
    "elif ROBOT_NAME == \"shadowhand\": \n",
    "    dof_pos = finger_pos\n",
    "    for i in range(60):\n",
    "        # thumb\n",
    "        dof_pos[6] += 0.01\n",
    "        dof_pos[11] += 0.02\n",
    "        # dof_pos[16] += 0.01\n",
    "        dof_pos[21] += -0.01\n",
    "\n",
    "\n",
    "        dof_pos[7] += 0.01\n",
    "        dof_pos[8] += 0.01\n",
    "        dof_pos[9] += 0.01\n",
    "        # dof_pos[14] += 0.01\n",
    "\n",
    "        dof_pos[12] += 0.01\n",
    "        dof_pos[13] += 0.01\n",
    "        dof_pos[14] += 0.01\n",
    "\n",
    "        dof_pos[17] += 0.01\n",
    "        dof_pos[18] += 0.01\n",
    "        dof_pos[19] += 0.01\n",
    "\n",
    "        # pinky\n",
    "        dof_pos[15] += 0.01\n",
    "        dof_pos[20] += 0.01\n",
    "        dof_pos[22] += 0.01\n",
    "\n",
    "        controller.robots.set_joint_position_targets(dof_pos) # \n",
    "        world.step(render=True)     \n"
   ]
  },
  {
   "cell_type": "code",
   "execution_count": null,
   "id": "e1bcf35a",
   "metadata": {},
   "outputs": [],
   "source": [
    "# pull out\n",
    "for i in range(300):\n",
    "    graps_pos[...,0] -= 0.001\n",
    "#   env.robots.set_world_poses(graps_pos, grasp_rot)\n",
    "    controller.xforms.set_world_poses(graps_pos, grasp_rot)\n",
    "    controller.robots.set_joint_position_targets(dof_pos)\n",
    "    dof_pos *= 0.998\n",
    "    print(dof_pos)\n",
    "\n",
    "    world.step(render=True)"
   ]
  },
  {
   "cell_type": "code",
   "execution_count": null,
   "id": "1160aa9f",
   "metadata": {},
   "outputs": [],
   "source": [
    "# dof_pos /= 1.5\n",
    "# pull out futher\n",
    "for i in range(100):\n",
    "    graps_pos[...,0] -= 0.002\n",
    "#   env.robots.set_world_poses(graps_pos, grasp_rot)\n",
    "    controller.xforms.set_world_poses(graps_pos, grasp_rot)\n",
    "    controller.robots.set_joint_position_targets(dof_pos)\n",
    "    dof_pos *= 0.999\n",
    "    world.step(render=True)  "
   ]
  },
  {
   "cell_type": "code",
   "execution_count": null,
   "id": "32cfdc05",
   "metadata": {},
   "outputs": [],
   "source": []
  },
  {
   "cell_type": "markdown",
   "id": "df24b6e2",
   "metadata": {},
   "source": [
    "# Reset"
   ]
  },
  {
   "cell_type": "code",
   "execution_count": null,
   "id": "bc38faf6",
   "metadata": {},
   "outputs": [],
   "source": [
    "world.reset()\n",
    "controller.xforms.set_world_poses(positions=np.array([[0,0,0]]), orientations = np.array([[1, 0, 0, 0]])) # WXYZ\n",
    "\n",
    "for _ in range(30):\n",
    "    world.step()"
   ]
  },
  {
   "cell_type": "code",
   "execution_count": null,
   "id": "ccd4c67a",
   "metadata": {},
   "outputs": [],
   "source": [
    "world.scene.remove_object(mobility_obj_name)"
   ]
  },
  {
   "cell_type": "code",
   "execution_count": null,
   "id": "740a718f",
   "metadata": {},
   "outputs": [],
   "source": [
    "world.step()"
   ]
  },
  {
   "cell_type": "code",
   "execution_count": null,
   "id": "0791cde8",
   "metadata": {},
   "outputs": [],
   "source": []
  }
 ],
 "metadata": {
  "kernelspec": {
   "display_name": "Isaac Sim Python 3",
   "language": "python",
   "name": "isaac_sim_python3"
  },
  "language_info": {
   "codemirror_mode": {
    "name": "ipython",
    "version": 3
   },
   "file_extension": ".py",
   "mimetype": "text/x-python",
   "name": "python",
   "nbconvert_exporter": "python",
   "pygments_lexer": "ipython3",
   "version": "3.7.13"
  }
 },
 "nbformat": 4,
 "nbformat_minor": 5
}
