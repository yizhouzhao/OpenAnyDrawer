{
 "cells": [
  {
   "cell_type": "code",
   "execution_count": 1,
   "id": "134b2a7b",
   "metadata": {},
   "outputs": [],
   "source": [
    "import numpy as np\n",
    "from PIL import Image\n",
    "\n",
    "from exp.params import OBJ_INDEX_LIST, GRASP_PROFILES\n",
    "\n",
    "ROBOT_NAME = \"frankahand\"# \"shadowhand\" # \"allegro\"\n",
    "grasp_profile = GRASP_PROFILES[ROBOT_NAME]"
   ]
  },
  {
   "cell_type": "code",
   "execution_count": 2,
   "id": "dcdc3643",
   "metadata": {},
   "outputs": [
    {
     "name": "stdout",
     "output_type": "stream",
     "text": [
      "SUCESS_PERCENTAGE:  20\n"
     ]
    }
   ],
   "source": [
    "SUCESS_PERCENTAGE = 20\n",
    "print(\"SUCESS_PERCENTAGE: \", SUCESS_PERCENTAGE)\n",
    "result_file_path = \"/home/yizhou/Research/Data/frankahand_exp_cliport824.txt\"\n",
    "MODEL_PATH = \"/home/yizhou/Research/temp0/fasterrcnn_resnet50_fpn824.pth\""
   ]
  },
  {
   "cell_type": "code",
   "execution_count": 3,
   "id": "21666180",
   "metadata": {},
   "outputs": [],
   "source": [
    "SHOW_IMAGE = True"
   ]
  },
  {
   "cell_type": "code",
   "execution_count": 4,
   "id": "f21bd244",
   "metadata": {},
   "outputs": [
    {
     "name": "stdout",
     "output_type": "stream",
     "text": [
      "omniverse://localhost/Users/yizhou/scene4.usd\n"
     ]
    }
   ],
   "source": [
    "import getpass\n",
    "user = getpass.getuser()\n",
    "\n",
    "usd_path = grasp_profile[\"usd_path\"]\n",
    "print(usd_path)\n",
    "\n",
    "from omni.isaac.kit import SimulationApp    "
   ]
  },
  {
   "cell_type": "code",
   "execution_count": 5,
   "id": "c9ebc520",
   "metadata": {},
   "outputs": [
    {
     "name": "stdout",
     "output_type": "stream",
     "text": [
      "Starting kit application with the fillowing args:  ['/home/yizhou/.local/share/isaac_sim-2022.1.1/exts/omni.isaac.kit/omni/isaac/kit/simulation_app.py', '/home/yizhou/.local/share/isaac_sim-2022.1.1/apps/omni.isaac.sim.python.kit', '--/app/tokens/exe-path=/home/yizhou/.local/share/isaac_sim-2022.1.1/kit', '--/persistent/app/viewport/displayOptions=3094', '--/rtx/materialDb/syncLoads=True', '--/rtx/hydra/materialSyncLoads=True--/omni.kit.plugin/syncUsdLoads=True', '--/app/renderer/resolution/width=1280', '--/app/renderer/resolution/height=720', '--/app/window/width=1440', '--/app/window/height=900', '--/renderer/multiGpu/enabled=True', '--ext-folder', '/home/yizhou/.local/share/isaac_sim-2022.1.1/exts', '--ext-folder', '/home/yizhou/.local/share/isaac_sim-2022.1.1/apps', '--/physics/cudaDevice=0', '--portable', '--no-window']\n",
      "Passing the following args to the base kit application:  ['-f', '/home/yizhou/.local/share/jupyter/runtime/kernel-8b0e5cb4-9ac4-4f54-8782-8c0706e423a4.json']\n",
      "[Warning] [omni.kit.app.plugin] No crash reporter present, dumps uploading isn't available.\n",
      "[Info] [carb] Logging to file: /home/yizhou/.local/share/isaac_sim-2022.1.1/kit/logs/Kit/Isaac-Sim/2022.1/kit_20221009_164902.log\n",
      "2022-10-09 23:49:02 [4ms] [Warning] [omni.ext.plugin] [ext: omni.drivesim.sensors.nv.lidar] Extensions config 'extension.toml' doesn't exist '/home/yizhou/.local/share/isaac_sim-2022.1.1/exts/omni.drivesim.sensors.nv.lidar' or '/home/yizhou/.local/share/isaac_sim-2022.1.1/exts/omni.drivesim.sensors.nv.lidar/config'\n",
      "[0.097s] [ext: omni.stats-0.0.0] startup\n",
      "[0.107s] [ext: omni.gpu_foundation-0.0.0] startup\n",
      "2022-10-09 23:49:02 [103ms] [Warning] [carb] FrameworkImpl::setDefaultPlugin(client: omni.gpu_foundation_factory.plugin, desc : [carb::graphics::Graphics v2.5], plugin : carb.graphics-vulkan.plugin) failed. Plugin selection is locked, because the interface was previously acquired by: \n",
      "[0.113s] [ext: carb.windowing.plugins-1.0.0] startup\n",
      "[0.118s] [ext: omni.assets.plugins-0.0.0] startup\n",
      "[0.119s] [ext: omni.kit.renderer.init-0.0.0] startup\n",
      "\n",
      "|---------------------------------------------------------------------------------------------|\n",
      "| Driver Version: 510.85.2      | Graphics API: Vulkan\n",
      "|=============================================================================================|\n",
      "| GPU | Name                             | Active | LDA | GPU Memory | Vendor-ID | LUID       |\n",
      "|     |                                  |        |     |            | Device-ID | UUID       |\n",
      "|---------------------------------------------------------------------------------------------|\n",
      "| 0   | NVIDIA RTX A6000                 | Yes: 0 |     | 49386   MB | 10de      | 0          |\n",
      "|     |                                  |        |     |            | 2230      | 48cf2a7a.. |\n",
      "|=============================================================================================|\n",
      "| OS: Linux yizhou-System-Product-Name, Version: 5.15.0-48-generic\n",
      "| Processor: 11th Gen Intel(R) Core(TM) i9-11900K @ 3.50GHz | Cores: Unknown | Logical: 16\n",
      "|---------------------------------------------------------------------------------------------|\n",
      "| Total Memory (MB): 31927 | Free Memory: 16925\n",
      "| Total Page/Swap (MB): 2047 | Free Page/Swap: 2047\n",
      "|---------------------------------------------------------------------------------------------|\n",
      "2022-10-09 23:49:03 [688ms] [Warning] [carb.cudainterop.plugin] On Linux only, CUDA and the display driver does not support IOMMU-enabled bare-metal PCIe peer to peer memory copy.\n",
      "However, CUDA and the display driver does support IOMMU via VM pass through. As a consequence, users on Linux,\n",
      "when running on a native bare metal system, should disable the IOMMU. The IOMMU should be enabled and the VFIO driver\n",
      "be used as a PCIe pass through for virtual machines.\n",
      "[0.707s] [ext: omni.kit.pipapi-0.0.0] startup\n",
      "[0.714s] [ext: omni.kit.pip_archive-0.0.0] startup\n",
      "[0.717s] [ext: omni.isaac.core_archive-1.2.0] startup\n",
      "[0.732s] [ext: omni.usd.config-1.0.0] startup\n",
      "[0.733s] [ext: omni.usd.libs-1.0.0] startup\n",
      "[0.840s] [ext: omni.kit.pip_torch-1_11_0-0.1.3] startup\n",
      "[0.865s] [ext: omni.isaac.ml_archive-1.1.0] startup\n",
      "[0.909s] [ext: omni.kit.loop-isaac-0.1.0] startup\n",
      "[0.911s] [ext: omni.kit.async_engine-0.0.0] startup\n",
      "[0.912s] [ext: omni.appwindow-1.0.0] startup\n",
      "[0.914s] [ext: omni.client-0.1.0] startup\n",
      "[0.921s] [ext: omni.kit.test-0.0.0] startup\n",
      "[0.922s] [ext: omni.kit.renderer.core-0.0.0] startup\n",
      "[0.979s] [ext: omni.ui-2.10.3] startup\n",
      "[0.993s] [ext: carb.audio-0.1.0] startup\n",
      "[0.994s] [ext: omni.kit.mainwindow-0.0.0] startup\n",
      "[0.996s] [ext: omni.uiaudio-1.0.0] startup\n",
      "[0.997s] [ext: omni.kit.uiapp-0.0.0] startup\n",
      "[0.997s] [ext: omni.usd.schema.physics-1.0.0] startup\n",
      "[1.085s] [ext: omni.usd.schema.audio-0.0.0] startup\n",
      "[1.091s] [ext: omni.usd.schema.semantics-0.0.0] startup\n",
      "[1.100s] [ext: omni.usd.schema.omnigraph-1.0.0] startup\n",
      "[1.107s] [ext: omni.usd.schema.anim-0.0.0] startup\n",
      "[1.141s] [ext: omni.kit.commands-1.2.2] startup\n",
      "[1.145s] [ext: omni.timeline-1.0.2] startup\n",
      "[1.147s] [ext: omni.hydra.scene_delegate-0.2.0] startup\n",
      "[1.152s] [ext: omni.kit.audiodeviceenum-1.0.0] startup\n",
      "[1.153s] [ext: omni.usd-1.5.3] startup\n",
      "[1.197s] [ext: omni.kit.asset_converter-1.2.31] startup\n",
      "[1.209s] [ext: omni.usd.schema.physx-0.0.0] startup\n",
      "[1.231s] [ext: omni.usd.schema.isaac-0.2.0] startup\n",
      "[1.263s] [ext: omni.usd.schema.forcefield-0.0.0] startup\n",
      "[1.269s] [ext: omni.kvdb-0.0.0] startup\n",
      "[1.271s] [ext: omni.usdphysics-1.4.15] startup\n",
      "[1.273s] [ext: omni.graph.tools-1.4.0] startup\n",
      "[1.295s] [ext: omni.localcache-0.0.0] startup\n",
      "[1.297s] [ext: omni.kit.stage_templates-1.1.2] startup\n",
      "[1.298s] [ext: omni.convexdecomposition-1.4.15] startup\n",
      "[1.301s] [ext: omni.physics.tensors-0.1.0] startup\n",
      "[1.306s] [ext: omni.physx-1.4.15-5.1] startup\n",
      "2022-10-09 23:49:03 [1,308ms] [Warning] [omni.kvdb.plugin] wasn't able to load the meta database, trying to repair it ...\n",
      "2022-10-09 23:49:04 [1,330ms] [Warning] [omni.kvdb.plugin] repair failed\n",
      "[1.339s] [ext: omni.graph.core-2.29.1] startup\n",
      "[1.344s] [ext: omni.kit.menu.utils-1.2.11] startup\n",
      "[1.355s] [ext: omni.physx.tensors-0.1.0] startup\n",
      "[1.359s] [ext: omni.graph-1.23.0] startup\n",
      "[1.401s] [ext: omni.kit.numpy.common-0.1.0] startup\n",
      "[1.404s] [ext: omni.kit.window.script_editor-1.6.2] startup\n",
      "[1.413s] [ext: omni.kit.search_core-1.0.2] startup\n",
      "[1.415s] [ext: omni.isaac.dynamic_control-1.1.0] startup\n",
      "[1.421s] [ext: omni.kit.renderer.capture-0.0.0] startup\n",
      "[1.424s] [ext: omni.kit.widget.filebrowser-2.2.27] startup\n",
      "[1.432s] [ext: omni.kit.widget.path_field-2.0.3] startup\n",
      "[1.434s] [ext: omni.kit.notification_manager-1.0.5] startup\n",
      "[1.436s] [ext: omni.kit.widget.versioning-1.3.8] startup\n",
      "[1.438s] [ext: omni.kit.widget.browser_bar-2.0.3] startup\n",
      "[1.439s] [ext: omni.kit.window.popup_dialog-2.0.8] startup\n",
      "[1.441s] [ext: omni.mdl.neuraylib-0.1.0] startup\n",
      "[1.444s] [ext: omni.kit.window.filepicker-2.4.30] startup\n"
     ]
    },
    {
     "name": "stderr",
     "output_type": "stream",
     "text": [
      "OmniAssetFileFormat\n"
     ]
    },
    {
     "name": "stdout",
     "output_type": "stream",
     "text": [
      "Warp initialized:\n",
      "   Version: 0.2.2\n",
      "   CUDA device: NVIDIA RTX A6000\n",
      "   Kernel cache: /home/yizhou/.cache/warp/0.2.2\n",
      "[1.482s] [ext: omni.kit.menu.create-1.0.2] startup\n",
      "[1.483s] [ext: omni.mdl-0.1.0] startup\n",
      "[1.549s] [ext: omni.kit.window.file_importer-1.0.4] startup\n",
      "[1.550s] [ext: omni.kit.window.file_exporter-1.0.4] startup\n",
      "[1.551s] [ext: omni.kit.material.library-1.3.10] startup\n",
      "[1.554s] [ext: omni.kit.window.drop_support-1.0.0] startup\n",
      "[1.554s] [ext: omni.kit.window.file-1.3.16] startup\n",
      "[1.556s] [ext: omni.kit.context_menu-1.3.9] startup\n",
      "[1.558s] [ext: omni.kit.window.property-1.6.3] startup\n",
      "[1.559s] [ext: omni.kit.window.content_browser-2.4.28] startup\n",
      "[1.566s] [ext: omni.kit.widget.stage-2.6.15] startup\n",
      "[1.571s] [ext: omni.isaac.version-1.0.0] startup\n",
      "[1.572s] [ext: omni.kit.property.usd-3.14.9] startup\n",
      "[1.596s] [ext: omni.kit.viewport.legacy_gizmos-1.0.0] startup\n",
      "[1.598s] [ext: omni.hydra.rtx-0.1.0] startup\n",
      "[1.604s] [ext: omni.renderer-rtx-0.0.0] startup\n",
      "[1.605s] [ext: omni.hydra.engine.stats-1.0.0] startup\n",
      "[1.609s] [ext: omni.debugdraw-0.1.0] startup\n",
      "[1.613s] [ext: omni.kit.widget.settings-1.0.0] startup\n",
      "[1.615s] [ext: omni.kit.window.viewport-0.0.0] startup\n",
      "[2.522s] [ext: omni.kit.widget.prompt-1.0.1] startup\n",
      "[2.522s] [ext: omni.kit.widget.graph-1.4.3] startup\n",
      "[2.527s] [ext: omni.kit.window.preferences-1.2.1] startup\n",
      "[2.553s] [ext: omni.ui_query-1.1.1] startup\n",
      "[2.555s] [ext: omni.graph.ui-1.6.1] startup\n",
      "[2.572s] [ext: omni.kit.ui_test-1.2.2] startup\n",
      "[2.574s] [ext: omni.graph.action-1.18.0] startup\n",
      "[2.582s] [ext: omni.kit.widget.searchfield-1.0.6] startup\n",
      "[2.584s] [ext: omni.kit.usd_undo-0.1.0] startup\n",
      "[2.585s] [ext: omni.graph.scriptnode-0.5.0] startup\n",
      "[2.587s] [ext: omni.physx.commands-1.4.15-5.1] startup\n",
      "[2.591s] [ext: omni.graph.nodes-1.26.0] startup\n",
      "[2.601s] [ext: omni.command.usd-1.0.1] startup\n",
      "[2.604s] [ext: omni.kit.window.extensions-1.1.0] startup\n",
      "[2.608s] [ext: omni.syntheticdata-0.2.1] startup\n",
      "[2.625s] [ext: omni.kit.primitive.mesh-1.0.0] startup\n",
      "[2.628s] [ext: omni.warp-0.2.2] startup\n",
      "[3.178s] [ext: omni.isaac.ui-0.2.1] startup\n",
      "[3.179s] [ext: omni.replicator.core-1.4.3] startup\n",
      "[3.340s] [ext: omni.isaac.core-1.24.3] startup\n",
      "[3.408s] [ext: omni.physx.ui-1.4.15-5.1] startup\n",
      "[3.458s] [ext: omni.kit.property.material-1.8.5] startup\n",
      "[3.460s] [ext: omni.kit.window.toolbar-1.2.4] startup\n",
      "[3.464s] [ext: omni.isaac.core_nodes-0.13.0] startup\n",
      "[3.473s] [ext: omni.physx.demos-1.4.15-5.1] startup\n",
      "[3.475s] [ext: omni.kit.property.physx-0.1.0] startup\n",
      "2022-10-09 23:49:06 [3,513ms] [Warning] [omni.physx.plugin] Deprecated: getSimulationEventStream is deprecated, please use getSimulationEventStreamV2\n",
      "[3.524s] [ext: omni.physx.tests-1.4.15-5.1] startup\n",
      "[3.685s] [ext: omni.isaac.wheeled_robots-0.5.8] startup\n",
      "[3.693s] [ext: omni.kit.menu.common-1.0.0] startup\n",
      "[3.694s] [ext: omni.physx.vehicle-1.4.15-5.1] startup\n",
      "[3.703s] [ext: omni.physx.cct-1.4.15-5.1] startup\n",
      "[3.765s] [ext: omni.physx.camera-1.4.15-5.1] startup\n",
      "[3.770s] [ext: omni.kit.widget.stage_icons-1.0.2] startup\n",
      "[3.772s] [ext: omni.ui.scene-1.5.0] startup\n",
      "[3.777s] [ext: omni.physx.bundle-1.4.15-5.1] startup\n",
      "[3.777s] [ext: omni.kit.window.stage-2.3.7] startup\n",
      "[3.780s] [ext: omni.replicator.composer-1.1.3] startup\n",
      "[3.791s] [ext: omni.isaac.lula-1.1.0] startup\n",
      "[3.804s] [ext: omni.rtx.window.settings-0.6.1] startup\n",
      "[3.808s] [ext: omni.isaac.surface_gripper-0.1.2] startup\n",
      "[3.813s] [ext: omni.isaac.motion_planning-0.2.0] startup\n",
      "[3.818s] [ext: omni.rtx.settings.core-0.5.5] startup\n",
      "[3.822s] [ext: omni.isaac.manipulators-1.0.1] startup\n",
      "[3.824s] [ext: omni.isaac.motion_generation-3.6.1] startup\n",
      "[3.827s] [ext: omni.kit.widget.zoombar-1.0.3] startup\n",
      "[3.828s] [ext: omni.kit.graph.delegate.default-1.0.15] startup\n",
      "[3.830s] [ext: omni.isaac.franka-0.3.0] startup\n",
      "[3.830s] [ext: omni.kit.browser.core-2.0.12] startup\n",
      "[3.834s] [ext: omni.kit.graph.editor.core-1.3.3] startup\n",
      "[3.835s] [ext: omni.kit.graph.usd.commands-1.1.0] startup\n",
      "[3.836s] [ext: omni.kit.browser.folder.core-1.1.13] startup\n",
      "[3.839s] [ext: omni.kit.graph.widget.variables-2.0.2] startup\n",
      "[3.840s] [ext: omni.kit.graph.delegate.modern-1.6.0] startup\n",
      "[3.841s] [ext: omni.kit.selection-0.1.0] startup\n",
      "[3.842s] [ext: omni.isaac.debug_draw-0.Opening usd file at  omniverse://localhost/Users/yizhou/scene4.usd  ...Done.\n",
      "Saving a temp livesync stage at  omniverse://localhost/Users/yizhou/scene4.usd  ...Done.\n"
     ]
    }
   ],
   "source": [
    "simulation_app = SimulationApp({\"headless\": True, \"open_usd\": usd_path,  \"livesync_usd\": usd_path}) "
   ]
  },
  {
   "cell_type": "code",
   "execution_count": null,
   "id": "bbca8e6f",
   "metadata": {},
   "outputs": [],
   "source": [
    "# world\n",
    "import omni\n",
    "from omni.isaac.core import World\n",
    "world = World()\n"
   ]
  },
  {
   "cell_type": "code",
   "execution_count": null,
   "id": "a049d138",
   "metadata": {},
   "outputs": [],
   "source": [
    "# reset scene\n",
    "mobility_prim = world.scene.stage.GetPrimAtPath(\"/World/Game/mobility\")\n",
    "if mobility_prim:\n",
    "    omni.kit.commands.execute(\"DeletePrims\", paths=[\"/World/Game/mobility\"])"
   ]
  },
  {
   "cell_type": "code",
   "execution_count": null,
   "id": "709f1df4",
   "metadata": {},
   "outputs": [],
   "source": [
    "# reset scene\n",
    "replicator_prim = world.scene.stage.GetPrimAtPath(\"/Replicator\")\n",
    "if replicator_prim:\n",
    "    omni.kit.commands.execute(\"DeletePrims\", paths=[\"/Replicator\"])\n"
   ]
  },
  {
   "cell_type": "code",
   "execution_count": null,
   "id": "5c301d93",
   "metadata": {},
   "outputs": [],
   "source": [
    "# custom import\n",
    "from open_env import OpenEnv\n",
    "from hand_env import HandEnv\n",
    "from hand_common import HandBase\n",
    "from render.utils import prim_random_color, LOOKS_PATH\n",
    "\n",
    "from task.checker import TaskChecker\n",
    "from task.instructor import SceneInstructor\n",
    "from omni.isaac.core.prims.xform_prim import XFormPrim\n",
    "\n",
    "env = OpenEnv()\n",
    "env.add_camera()\n",
    "env.setup_viewport()"
   ]
  },
  {
   "cell_type": "code",
   "execution_count": null,
   "id": "804ac346",
   "metadata": {},
   "outputs": [],
   "source": [
    "controller = HandBase(grasp_profile[\"articulation_root\"], \"/World/AnchorXform\")\n",
    "controller.grasp_profile = grasp_profile[\"offset\"]\n"
   ]
  },
  {
   "cell_type": "code",
   "execution_count": null,
   "id": "8e8b857b",
   "metadata": {},
   "outputs": [],
   "source": [
    "grasp_profile[\"robot_path\"]"
   ]
  },
  {
   "cell_type": "code",
   "execution_count": null,
   "id": "13e7a1c0",
   "metadata": {},
   "outputs": [],
   "source": [
    "# init\n",
    "world.reset()\n",
    "controller.start()\n",
    "world.scene.add(controller.robots)"
   ]
  },
  {
   "cell_type": "code",
   "execution_count": null,
   "id": "2c47a87d",
   "metadata": {},
   "outputs": [],
   "source": [
    "# hide robot\n",
    "hand_prim = world.scene.stage.GetPrimAtPath(grasp_profile[\"robot_path\"])\n",
    "hand_prim.GetAttribute('visibility').Set('invisible')"
   ]
  },
  {
   "cell_type": "code",
   "execution_count": null,
   "id": "3181fe36",
   "metadata": {},
   "outputs": [],
   "source": [
    "world.step(render=True)"
   ]
  },
  {
   "cell_type": "code",
   "execution_count": null,
   "id": "021ce875",
   "metadata": {},
   "outputs": [],
   "source": [
    "env.get_image()"
   ]
  },
  {
   "cell_type": "markdown",
   "id": "f16704b1",
   "metadata": {},
   "source": [
    "# !Cliport?"
   ]
  },
  {
   "cell_type": "code",
   "execution_count": null,
   "id": "3a46bc6a",
   "metadata": {
    "scrolled": true
   },
   "outputs": [],
   "source": [
    "# load deep leanrning model\n",
    "from exp.model import load_vision_model\n",
    "\n",
    "MODEL_PATH = \"/home/yizhou/Research/temp0/custom_cliport824.pth\"\n",
    "model = load_vision_model(model_path = MODEL_PATH, model_name = \"custom_cliport\")"
   ]
  },
  {
   "cell_type": "code",
   "execution_count": null,
   "id": "69aa78d0",
   "metadata": {},
   "outputs": [],
   "source": [
    "OBJ_INDEX = 3"
   ]
  },
  {
   "cell_type": "code",
   "execution_count": null,
   "id": "cf09b8ff",
   "metadata": {},
   "outputs": [],
   "source": [
    "env.add_object(OBJ_INDEX, scale = 0.1)\n",
    "\n",
    "mobility_obj = XFormPrim(\"/World/Game/mobility\")\n",
    "mobility_obj_name = mobility_obj.name\n",
    "\n",
    "# randomize color\n",
    "\n",
    "# reset look in scene\n",
    "mat_look_prim = world.scene.stage.GetPrimAtPath(LOOKS_PATH)\n",
    "if mat_look_prim:\n",
    "    omni.kit.commands.execute(\"DeletePrims\", paths=[LOOKS_PATH])\n",
    "\n",
    "world.step(render = False)\n",
    "\n",
    "scene_instr = SceneInstructor()\n",
    "scene_instr.analysis()\n",
    "\n",
    "handle_num = len(list(scene_instr.valid_handle_list.keys()))\n",
    "\n",
    "for HANDLE_INDEX in range(handle_num):\n",
    "    handle_path_str = list(scene_instr.valid_handle_list.keys())[HANDLE_INDEX]\n",
    "    prim_random_color(handle_path_str)\n",
    "    \n",
    "world.scene.add(mobility_obj)\n",
    "world.reset()\n",
    "world.render()"
   ]
  },
  {
   "cell_type": "code",
   "execution_count": null,
   "id": "7fff4084",
   "metadata": {},
   "outputs": [],
   "source": [
    "world.step(render = True)\n",
    "world.render()\n",
    "image_array =env.get_image(return_array=True)"
   ]
  },
  {
   "cell_type": "code",
   "execution_count": null,
   "id": "b293be7d",
   "metadata": {},
   "outputs": [],
   "source": [
    "image = env.get_image()\n",
    "image.convert('RGB')"
   ]
  },
  {
   "cell_type": "code",
   "execution_count": null,
   "id": "d5c2e857",
   "metadata": {},
   "outputs": [],
   "source": [
    "import matplotlib.pyplot as plt"
   ]
  },
  {
   "cell_type": "code",
   "execution_count": null,
   "id": "863cf3c0",
   "metadata": {},
   "outputs": [],
   "source": [
    "plt.imshow(image)"
   ]
  },
  {
   "cell_type": "code",
   "execution_count": null,
   "id": "efe4febd",
   "metadata": {
    "scrolled": true
   },
   "outputs": [],
   "source": [
    "scene_instr.valid_handle_list"
   ]
  },
  {
   "cell_type": "code",
   "execution_count": null,
   "id": "454ba29c",
   "metadata": {},
   "outputs": [],
   "source": [
    "scene_instr.valid_handle_list"
   ]
  },
  {
   "cell_type": "code",
   "execution_count": null,
   "id": "f9e7a92a",
   "metadata": {},
   "outputs": [],
   "source": [
    "HANDLE_INDEX = 0\n",
    "\n",
    "handle_path_str = list(scene_instr.valid_handle_list.keys())[HANDLE_INDEX]\n",
    "h_desc = scene_instr.valid_handle_list[handle_path_str][\"horizontal_description\"]\n",
    "v_desc = scene_instr.valid_handle_list[handle_path_str][\"vertical_description\"]\n",
    "\n",
    "handle_joint_type = scene_instr.valid_handle_list[handle_path_str][\"joint_type\"]\n",
    "handle_joint = scene_instr.valid_handle_list[handle_path_str][\"joint\"]\n",
    "# handle_rel_direciton = scene_instr.valid_handle_list[handle_path_str][\"relative_to_game_center\"]\n",
    "\n",
    "cabinet_type = scene_instr.valid_handle_list[handle_path_str][\"cabinet_type\"]\n",
    "# add_update_semantics(prim, \"handle\")\n",
    "\n",
    "text = f\"{v_desc}_{h_desc}_{cabinet_type}\"\n",
    "text = text.replace(\"_\",\" \").replace(\"-\",\" \").replace(\"  \", \" \").strip()\n",
    "print(text)\n"
   ]
  },
  {
   "cell_type": "code",
   "execution_count": null,
   "id": "9b82c956",
   "metadata": {},
   "outputs": [],
   "source": [
    "model = model.cuda()"
   ]
  },
  {
   "cell_type": "code",
   "execution_count": null,
   "id": "610e51f6",
   "metadata": {},
   "outputs": [],
   "source": [
    "bbox_center, handle_direction = model.pred_box_pos_and_dir(image.convert('RGB'), text)"
   ]
  },
  {
   "cell_type": "code",
   "execution_count": null,
   "id": "fb991dee",
   "metadata": {},
   "outputs": [],
   "source": [
    "bbox_center"
   ]
  },
  {
   "cell_type": "code",
   "execution_count": null,
   "id": "c7d3900b",
   "metadata": {},
   "outputs": [],
   "source": [
    "the_box = scene_instr.get_bbox_world_position([bbox_center[1], bbox_center[0], bbox_center[1], bbox_center[0]])"
   ]
  },
  {
   "cell_type": "code",
   "execution_count": null,
   "id": "1bcfa809",
   "metadata": {},
   "outputs": [],
   "source": [
    "the_box"
   ]
  },
  {
   "cell_type": "code",
   "execution_count": null,
   "id": "0d5c922f",
   "metadata": {},
   "outputs": [],
   "source": [
    "# -------------------- RESNET"
   ]
  },
  {
   "cell_type": "code",
   "execution_count": null,
   "id": "afb8f644",
   "metadata": {},
   "outputs": [],
   "source": [
    "scene_instr.model = model\n",
    "scene_instr.predict_bounding_boxes(image_array[:,:,:3])\n",
    "\n",
    "# if not valid\n",
    "if not scene_instr.is_obj_valid:\n",
    "    print(\"object not valid: \", OBJ_INDEX)\n",
    "    simulation_app.close()\n",
    "    exit()\n",
    "\n",
    "# if no valid predicted boundbox\n",
    "if not scene_instr.is_pred_valid:\n",
    "    with open(result_file_path, \"a\") as f:\n",
    "        f.write(f\"{OBJ_INDEX}, invalid prediction\\n\")\n",
    "\n",
    "    world.scene.remove_object(mobility_obj_name)\n",
    "    world.reset()\n",
    "    controller.xforms.set_world_poses(positions=np.array([[0,0,0]]), orientations = np.array([[1, 0, 0, 0]])) # WXYZ\n",
    "    for _ in range(30):\n",
    "        world.step()\n",
    "\n",
    "    # continue"
   ]
  },
  {
   "cell_type": "code",
   "execution_count": null,
   "id": "cd289f2a",
   "metadata": {},
   "outputs": [],
   "source": [
    "HANDLE_INDEX = 0"
   ]
  },
  {
   "cell_type": "code",
   "execution_count": null,
   "id": "777bb700",
   "metadata": {},
   "outputs": [],
   "source": [
    "################################################## LEARNING SOLUTION ##############################\n",
    "\n",
    "v_desc = scene_instr.valid_handle_list[handle_path_str][\"vertical_description\"]\n",
    "h_desc = scene_instr.valid_handle_list[handle_path_str][\"horizontal_description\"]\n",
    "\n",
    "the_box = scene_instr.get_box_from_desc(v_desc, h_desc)\n",
    "handle_direction = \"horizontal\" if (the_box[2] - the_box[0]) > (the_box[3] - the_box[1]) else \"vertical\" \n"
   ]
  },
  {
   "cell_type": "markdown",
   "id": "679be349",
   "metadata": {},
   "source": [
    "# Control"
   ]
  },
  {
   "cell_type": "code",
   "execution_count": null,
   "id": "02d25415",
   "metadata": {},
   "outputs": [],
   "source": [
    "# Task\n",
    "# print(\"handle_path_str, handle_joint_type, handle_joint, rel_direction\", handle_path_str, handle_joint_type, handle_joint, handle_rel_direciton)\n",
    "task_checker = TaskChecker(\"mobility\", handle_joint, handle_joint_type, IS_RUNTIME=True)"
   ]
  },
  {
   "cell_type": "code",
   "execution_count": null,
   "id": "f4ccb50d",
   "metadata": {},
   "outputs": [],
   "source": [
    "# init\n",
    "world.reset()\n",
    "controller.xforms.set_world_poses(positions=np.array([[0,0,0]]), orientations = np.array([[1, 0, 0, 0]])) # WXYZ\n",
    "for _ in range(60):\n",
    "    world.step() # wait some time"
   ]
  },
  {
   "cell_type": "code",
   "execution_count": null,
   "id": "26908e4b",
   "metadata": {},
   "outputs": [],
   "source": [
    "graps_pos, grasp_rot = controller.calculate_grasp_location_from_pred_box(the_box, verticle= handle_direction == \"horizontal\")\n",
    "print(\"graps_pos, grasp_rot \", graps_pos, grasp_rot )"
   ]
  },
  {
   "cell_type": "code",
   "execution_count": null,
   "id": "016a7e10",
   "metadata": {},
   "outputs": [],
   "source": [
    "# move close to handle\n",
    "graps_pos[...,0] -= 0.1\n",
    "controller.xforms.set_world_poses(graps_pos, grasp_rot)\n",
    "for _ in range(300):\n",
    "    world.step(render=SHOW_IMAGE)         \n",
    "\n",
    "print(\"move to handle\")\n",
    "# move to handle\n",
    "graps_pos[...,0] += 0.1\n",
    "controller.xforms.set_world_poses(graps_pos, grasp_rot)\n",
    "for _ in range(100):\n",
    "    world.step(render=SHOW_IMAGE)     \n"
   ]
  },
  {
   "cell_type": "code",
   "execution_count": null,
   "id": "14a6f826",
   "metadata": {},
   "outputs": [],
   "source": [
    "# # # adjust\n",
    "# graps_pos[...,1] += 0.05\n",
    "# controller.xforms.set_world_poses(graps_pos, grasp_rot)\n",
    "# for _ in range(100):\n",
    "#     world.step(render=SHOW_IMAGE)   "
   ]
  },
  {
   "cell_type": "code",
   "execution_count": null,
   "id": "bf700070",
   "metadata": {},
   "outputs": [],
   "source": [
    "ROBOT_NAME"
   ]
  },
  {
   "cell_type": "code",
   "execution_count": null,
   "id": "335a381f",
   "metadata": {
    "scrolled": true
   },
   "outputs": [],
   "source": [
    "grasp_profile[\"finger_pos\"]"
   ]
  },
  {
   "cell_type": "code",
   "execution_count": null,
   "id": "c6d75415",
   "metadata": {},
   "outputs": [],
   "source": [
    "# close finger\n",
    "print(\"close finger\")\n",
    "finger_pos = grasp_profile[\"finger_pos\"].copy()\n",
    "\n",
    "if ROBOT_NAME == \"allegro\":   \n",
    "    for i in range(120):\n",
    "        controller.robots.set_joint_position_targets(finger_pos * i / 120) # \n",
    "        world.step(render=SHOW_IMAGE)       \n",
    "\n",
    "elif ROBOT_NAME == \"frankahand\":      \n",
    "    for _ in range(100):\n",
    "        finger_pos -= 0.01\n",
    "        controller.robots.set_joint_position_targets(finger_pos)\n",
    "        pos = np.clip(finger_pos, 0, 4)\n",
    "        world.step(render=SHOW_IMAGE)\n",
    "\n",
    "elif ROBOT_NAME == \"shadowhand\": \n",
    "    dof_pos = finger_pos\n",
    "    for i in range(80):\n",
    "        # thumb\n",
    "        step_gain = 0.01\n",
    "        dof_pos[6] += step_gain\n",
    "        dof_pos[11] += 2 * step_gain \n",
    "        # dof_pos[16] += 0.01\n",
    "        dof_pos[21] += - step_gain\n",
    "\n",
    "\n",
    "        dof_pos[7] += step_gain \n",
    "        dof_pos[8] += step_gain \n",
    "        dof_pos[9] += step_gain \n",
    "        # dof_pos[14] += 0.01\n",
    "\n",
    "        dof_pos[12] += step_gain \n",
    "        dof_pos[13] += step_gain \n",
    "        dof_pos[14] += step_gain \n",
    "\n",
    "        dof_pos[17] += step_gain \n",
    "        dof_pos[18] += step_gain \n",
    "        dof_pos[19] += step_gain \n",
    "\n",
    "        # pinky\n",
    "        dof_pos[15] += step_gain\n",
    "        dof_pos[20] += step_gain\n",
    "        dof_pos[22] += step_gain \n",
    "\n",
    "        controller.robots.set_joint_position_targets(dof_pos) # \n",
    "        world.step(render=True)     \n",
    "        \n",
    "elif ROBOT_NAME == \"skeletonhand\": \n",
    "    # close finger\n",
    "    for i in range(120):\n",
    "        i  = i / 4\n",
    "        dof_pos = np.array([\n",
    "            [ i * 0.03,  i * 0.04, \n",
    "            i * 0.01,  -i * 0.04,  \n",
    "            i * 0.005, -i * 0.04, \n",
    "            -i * 0.02, -i * 0.04,  \n",
    "            -i * 0.01, -i * 0.04,  \n",
    "            -i * 0.02,  -i * 0.03,  -i * 0.03,  -i * 0.03,  -i * 0.03,\n",
    "            -i * 0.02,  -i * 0.03,  -i * 0.03,  -i * 0.03,  -i * 0.03, \n",
    "            ],\n",
    "        ])\n",
    "\n",
    "        # pos = np.random.randn(2,25)\n",
    "        controller.robots.set_joint_position_targets(dof_pos) # \n",
    "        world.step(render=SHOW_IMAGE)"
   ]
  },
  {
   "cell_type": "code",
   "execution_count": null,
   "id": "d9877d2f",
   "metadata": {},
   "outputs": [],
   "source": [
    "print(\"pull out\")\n",
    "# pull out\n",
    "if ROBOT_NAME == \"allegro\": \n",
    "    for i in range(300):\n",
    "        graps_pos[...,0] -= 0.001\n",
    "    #   env.robots.set_world_poses(graps_pos, grasp_rot)\n",
    "        controller.xforms.set_world_poses(graps_pos, grasp_rot)\n",
    "        controller.robots.set_joint_position_targets(finger_pos)\n",
    "        world.step(render=SHOW_IMAGE)\n",
    "\n",
    "elif ROBOT_NAME == \"frankahand\": \n",
    "    for i in range(300):\n",
    "        graps_pos[...,0] -= 0.001\n",
    "        finger_pos += np.sqrt(i) * 1e-4\n",
    "        # print(pos)\n",
    "        controller.xforms.set_world_poses(graps_pos, grasp_rot)\n",
    "        controller.robots.set_joint_position_targets(finger_pos)\n",
    "\n",
    "        finger_pos = np.clip(finger_pos, 0, 4)\n",
    "        world.step(render=SHOW_IMAGE)\n",
    "\n",
    "elif ROBOT_NAME == \"shadowhand\": \n",
    "    # pull out\n",
    "    for i in range(300):\n",
    "        graps_pos[...,0] -= 0.001\n",
    "    #   env.robots.set_world_poses(graps_pos, grasp_rot)\n",
    "        controller.xforms.set_world_poses(graps_pos, grasp_rot)\n",
    "        controller.robots.set_joint_position_targets(dof_pos)\n",
    "        dof_pos *= 0.996\n",
    "        # print(dof_pos)\n",
    "\n",
    "        world.step(render=SHOW_IMAGE)\n",
    "        \n",
    "elif ROBOT_NAME == \"skeletonhand\": \n",
    "    # pull out\n",
    "    for i in range(200):\n",
    "        graps_pos[...,0] -= 0.001\n",
    "    #   env.robots.set_world_poses(graps_pos, grasp_rot)\n",
    "        controller.xforms.set_world_poses(graps_pos, grasp_rot)\n",
    "        controller.robots.set_joint_position_targets(dof_pos)\n",
    "\n",
    "        world.step(render=SHOW_IMAGE)\n",
    "\n",
    "    dof_pos /= 1.5\n",
    "    # pull out furthur\n",
    "    for i in range(100):\n",
    "        graps_pos[...,0] -= 0.001\n",
    "    #   env.robots.set_world_poses(graps_pos, grasp_rot)\n",
    "        controller.xforms.set_world_poses(graps_pos, grasp_rot)\n",
    "        controller.robots.set_joint_position_targets(dof_pos)\n",
    "        world.step(render=SHOW_IMAGE)"
   ]
  },
  {
   "cell_type": "code",
   "execution_count": null,
   "id": "459fef64",
   "metadata": {},
   "outputs": [],
   "source": [
    "# check task\n",
    "task_checker.joint_checker.compute_percentage()"
   ]
  },
  {
   "cell_type": "markdown",
   "id": "1fd1b43c",
   "metadata": {},
   "source": [
    "# Reset"
   ]
  },
  {
   "cell_type": "code",
   "execution_count": null,
   "id": "3d70d53b",
   "metadata": {},
   "outputs": [],
   "source": [
    "world.reset()\n",
    "controller.xforms.set_world_poses(positions=np.array([[0,0,0]]), orientations = np.array([[1, 0, 0, 0]])) # WXYZ\n",
    "\n",
    "for _ in range(30):\n",
    "    world.step()"
   ]
  },
  {
   "cell_type": "code",
   "execution_count": null,
   "id": "dcf0062a",
   "metadata": {},
   "outputs": [],
   "source": [
    "world.scene.remove_object(mobility_obj_name)"
   ]
  },
  {
   "cell_type": "code",
   "execution_count": null,
   "id": "e7928d93",
   "metadata": {},
   "outputs": [],
   "source": [
    "world.step()"
   ]
  },
  {
   "cell_type": "code",
   "execution_count": null,
   "id": "41277b90",
   "metadata": {},
   "outputs": [],
   "source": []
  }
 ],
 "metadata": {
  "kernelspec": {
   "display_name": "Isaac Sim Python 3",
   "language": "python",
   "name": "isaac_sim_python3"
  },
  "language_info": {
   "codemirror_mode": {
    "name": "ipython",
    "version": 3
   },
   "file_extension": ".py",
   "mimetype": "text/x-python",
   "name": "python",
   "nbconvert_exporter": "python",
   "pygments_lexer": "ipython3",
   "version": "3.7.13"
  }
 },
 "nbformat": 4,
 "nbformat_minor": 5
}
