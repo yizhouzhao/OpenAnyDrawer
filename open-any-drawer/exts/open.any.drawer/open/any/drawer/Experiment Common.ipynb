{
 "cells": [
  {
   "cell_type": "code",
   "execution_count": null,
   "id": "134b2a7b",
   "metadata": {},
   "outputs": [],
   "source": [
    "import numpy as np\n",
    "from PIL import Image\n",
    "\n",
    "from exp.params import OBJ_INDEX_LIST, GRASP_PROFILES\n",
    "\n",
    "ROBOT_NAME = \"shadowhand\" # \"allegro\"\n",
    "grasp_profile = GRASP_PROFILES[ROBOT_NAME]"
   ]
  },
  {
   "cell_type": "code",
   "execution_count": null,
   "id": "dcdc3643",
   "metadata": {},
   "outputs": [],
   "source": [
    "SUCESS_PERCENTAGE = 20\n",
    "print(\"SUCESS_PERCENTAGE: \", SUCESS_PERCENTAGE)\n",
    "result_file_path = \"/home/yizhou/Research/Data/shadowhand_exp_cliport824.txt\"\n",
    "MODEL_PATH = \"/home/yizhou/Research/temp0/fasterrcnn_resnet50_fpn824.pth\""
   ]
  },
  {
   "cell_type": "code",
   "execution_count": null,
   "id": "21666180",
   "metadata": {},
   "outputs": [],
   "source": [
    "SHOW_IMAGE = True"
   ]
  },
  {
   "cell_type": "code",
   "execution_count": null,
   "id": "f21bd244",
   "metadata": {},
   "outputs": [],
   "source": [
    "import getpass\n",
    "user = getpass.getuser()\n",
    "\n",
    "usd_path = grasp_profile[\"usd_path\"]\n",
    "print(usd_path)\n",
    "\n",
    "from omni.isaac.kit import SimulationApp    "
   ]
  },
  {
   "cell_type": "code",
   "execution_count": null,
   "id": "c9ebc520",
   "metadata": {},
   "outputs": [],
   "source": [
    "simulation_app = SimulationApp({\"headless\": True, \"open_usd\": usd_path,  \"livesync_usd\": usd_path}) "
   ]
  },
  {
   "cell_type": "code",
   "execution_count": null,
   "id": "bbca8e6f",
   "metadata": {},
   "outputs": [],
   "source": [
    "# world\n",
    "import omni\n",
    "from omni.isaac.core import World\n",
    "world = World()\n"
   ]
  },
  {
   "cell_type": "code",
   "execution_count": null,
   "id": "a049d138",
   "metadata": {},
   "outputs": [],
   "source": [
    "# reset scene\n",
    "mobility_prim = world.scene.stage.GetPrimAtPath(\"/World/Game/mobility\")\n",
    "if mobility_prim:\n",
    "    omni.kit.commands.execute(\"DeletePrims\", paths=[\"/World/Game/mobility\"])"
   ]
  },
  {
   "cell_type": "code",
   "execution_count": null,
   "id": "709f1df4",
   "metadata": {},
   "outputs": [],
   "source": [
    "# reset scene\n",
    "replicator_prim = world.scene.stage.GetPrimAtPath(\"/Replicator\")\n",
    "if replicator_prim:\n",
    "    omni.kit.commands.execute(\"DeletePrims\", paths=[\"/Replicator\"])\n"
   ]
  },
  {
   "cell_type": "code",
   "execution_count": null,
   "id": "5c301d93",
   "metadata": {},
   "outputs": [],
   "source": [
    "# custom import\n",
    "from open_env import OpenEnv\n",
    "from hand_env import HandEnv\n",
    "from hand_common import HandBase\n",
    "from render.utils import prim_random_color, LOOKS_PATH\n",
    "\n",
    "from task.checker import TaskChecker\n",
    "from task.instructor import SceneInstructor\n",
    "from omni.isaac.core.prims.xform_prim import XFormPrim\n",
    "\n",
    "env = OpenEnv()\n",
    "env.add_camera()\n",
    "env.setup_viewport()"
   ]
  },
  {
   "cell_type": "code",
   "execution_count": null,
   "id": "804ac346",
   "metadata": {},
   "outputs": [],
   "source": [
    "controller = HandBase(grasp_profile[\"articulation_root\"], \"/World/AnchorXform\")\n",
    "controller.grasp_profile = grasp_profile[\"offset\"]\n"
   ]
  },
  {
   "cell_type": "code",
   "execution_count": null,
   "id": "8e8b857b",
   "metadata": {},
   "outputs": [],
   "source": [
    "grasp_profile[\"robot_path\"]"
   ]
  },
  {
   "cell_type": "code",
   "execution_count": null,
   "id": "13e7a1c0",
   "metadata": {},
   "outputs": [],
   "source": [
    "# init\n",
    "world.reset()\n",
    "controller.start()\n",
    "world.scene.add(controller.robots)"
   ]
  },
  {
   "cell_type": "code",
   "execution_count": null,
   "id": "2c47a87d",
   "metadata": {},
   "outputs": [],
   "source": [
    "# hide robot\n",
    "hand_prim = world.scene.stage.GetPrimAtPath(grasp_profile[\"robot_path\"])\n",
    "hand_prim.GetAttribute('visibility').Set('invisible')"
   ]
  },
  {
   "cell_type": "code",
   "execution_count": null,
   "id": "3181fe36",
   "metadata": {},
   "outputs": [],
   "source": [
    "world.step(render=True)"
   ]
  },
  {
   "cell_type": "code",
   "execution_count": null,
   "id": "021ce875",
   "metadata": {},
   "outputs": [],
   "source": [
    "env.get_image()"
   ]
  },
  {
   "cell_type": "markdown",
   "id": "f16704b1",
   "metadata": {},
   "source": [
    "# !Cliport?"
   ]
  },
  {
   "cell_type": "code",
   "execution_count": null,
   "id": "3a46bc6a",
   "metadata": {
    "scrolled": true
   },
   "outputs": [],
   "source": [
    "# load deep leanrning model\n",
    "from exp.model import load_vision_model\n",
    "\n",
    "MODEL_PATH = \"/home/yizhou/Research/temp0/custom_cliport824.pth\"\n",
    "model = load_vision_model(model_path = MODEL_PATH, model_name = \"custom_cliport\")"
   ]
  },
  {
   "cell_type": "code",
   "execution_count": null,
   "id": "69aa78d0",
   "metadata": {},
   "outputs": [],
   "source": [
    "OBJ_INDEX = 3"
   ]
  },
  {
   "cell_type": "code",
   "execution_count": null,
   "id": "cf09b8ff",
   "metadata": {},
   "outputs": [],
   "source": [
    "env.add_object(OBJ_INDEX, scale = 0.1)\n",
    "\n",
    "mobility_obj = XFormPrim(\"/World/Game/mobility\")\n",
    "mobility_obj_name = mobility_obj.name\n",
    "\n",
    "# randomize color\n",
    "\n",
    "# reset look in scene\n",
    "mat_look_prim = world.scene.stage.GetPrimAtPath(LOOKS_PATH)\n",
    "if mat_look_prim:\n",
    "    omni.kit.commands.execute(\"DeletePrims\", paths=[LOOKS_PATH])\n",
    "\n",
    "world.step(render = False)\n",
    "\n",
    "scene_instr = SceneInstructor()\n",
    "scene_instr.analysis()\n",
    "\n",
    "handle_num = len(list(scene_instr.valid_handle_list.keys()))\n",
    "\n",
    "for HANDLE_INDEX in range(handle_num):\n",
    "    handle_path_str = list(scene_instr.valid_handle_list.keys())[HANDLE_INDEX]\n",
    "    prim_random_color(handle_path_str)\n",
    "    \n",
    "world.scene.add(mobility_obj)\n",
    "world.reset()\n",
    "world.render()"
   ]
  },
  {
   "cell_type": "code",
   "execution_count": null,
   "id": "7fff4084",
   "metadata": {},
   "outputs": [],
   "source": [
    "world.step(render = True)\n",
    "world.render()\n",
    "image_array =env.get_image(return_array=True)"
   ]
  },
  {
   "cell_type": "code",
   "execution_count": null,
   "id": "b293be7d",
   "metadata": {},
   "outputs": [],
   "source": [
    "image = env.get_image()\n",
    "image.convert('RGB')"
   ]
  },
  {
   "cell_type": "code",
   "execution_count": null,
   "id": "d5c2e857",
   "metadata": {},
   "outputs": [],
   "source": [
    "import matplotlib.pyplot as plt"
   ]
  },
  {
   "cell_type": "code",
   "execution_count": null,
   "id": "863cf3c0",
   "metadata": {},
   "outputs": [],
   "source": [
    "plt.imshow(image)"
   ]
  },
  {
   "cell_type": "code",
   "execution_count": null,
   "id": "efe4febd",
   "metadata": {
    "scrolled": true
   },
   "outputs": [],
   "source": [
    "scene_instr.valid_handle_list"
   ]
  },
  {
   "cell_type": "code",
   "execution_count": null,
   "id": "454ba29c",
   "metadata": {},
   "outputs": [],
   "source": [
    "scene_instr.valid_handle_list"
   ]
  },
  {
   "cell_type": "code",
   "execution_count": null,
   "id": "f9e7a92a",
   "metadata": {},
   "outputs": [],
   "source": [
    "HANDLE_INDEX = 0\n",
    "\n",
    "handle_path_str = list(scene_instr.valid_handle_list.keys())[HANDLE_INDEX]\n",
    "h_desc = scene_instr.valid_handle_list[handle_path_str][\"horizontal_description\"]\n",
    "v_desc = scene_instr.valid_handle_list[handle_path_str][\"vertical_description\"]\n",
    "\n",
    "handle_joint_type = scene_instr.valid_handle_list[handle_path_str][\"joint_type\"]\n",
    "handle_joint = scene_instr.valid_handle_list[handle_path_str][\"joint\"]\n",
    "# handle_rel_direciton = scene_instr.valid_handle_list[handle_path_str][\"relative_to_game_center\"]\n",
    "\n",
    "cabinet_type = scene_instr.valid_handle_list[handle_path_str][\"cabinet_type\"]\n",
    "# add_update_semantics(prim, \"handle\")\n",
    "\n",
    "text = f\"{v_desc}_{h_desc}_{cabinet_type}\"\n",
    "text = text.replace(\"_\",\" \").replace(\"-\",\" \").replace(\"  \", \" \").strip()\n",
    "print(text)\n"
   ]
  },
  {
   "cell_type": "code",
   "execution_count": null,
   "id": "9b82c956",
   "metadata": {},
   "outputs": [],
   "source": [
    "model = model.cuda()"
   ]
  },
  {
   "cell_type": "code",
   "execution_count": null,
   "id": "610e51f6",
   "metadata": {},
   "outputs": [],
   "source": [
    "bbox_center, handle_direction = model.pred_box_pos_and_dir(image.convert('RGB'), text)"
   ]
  },
  {
   "cell_type": "code",
   "execution_count": null,
   "id": "fb991dee",
   "metadata": {},
   "outputs": [],
   "source": [
    "bbox_center"
   ]
  },
  {
   "cell_type": "code",
   "execution_count": null,
   "id": "c7d3900b",
   "metadata": {},
   "outputs": [],
   "source": [
    "the_box = scene_instr.get_bbox_world_position([bbox_center[1], bbox_center[0], bbox_center[1], bbox_center[0]])"
   ]
  },
  {
   "cell_type": "code",
   "execution_count": null,
   "id": "1bcfa809",
   "metadata": {},
   "outputs": [],
   "source": [
    "the_box"
   ]
  },
  {
   "cell_type": "code",
   "execution_count": null,
   "id": "0d5c922f",
   "metadata": {},
   "outputs": [],
   "source": [
    "# -------------------- RESNET"
   ]
  },
  {
   "cell_type": "code",
   "execution_count": null,
   "id": "afb8f644",
   "metadata": {},
   "outputs": [],
   "source": [
    "scene_instr.model = model\n",
    "scene_instr.predict_bounding_boxes(image_array[:,:,:3])\n",
    "\n",
    "# if not valid\n",
    "if not scene_instr.is_obj_valid:\n",
    "    print(\"object not valid: \", OBJ_INDEX)\n",
    "    simulation_app.close()\n",
    "    exit()\n",
    "\n",
    "# if no valid predicted boundbox\n",
    "if not scene_instr.is_pred_valid:\n",
    "    with open(result_file_path, \"a\") as f:\n",
    "        f.write(f\"{OBJ_INDEX}, invalid prediction\\n\")\n",
    "\n",
    "    world.scene.remove_object(mobility_obj_name)\n",
    "    world.reset()\n",
    "    controller.xforms.set_world_poses(positions=np.array([[0,0,0]]), orientations = np.array([[1, 0, 0, 0]])) # WXYZ\n",
    "    for _ in range(30):\n",
    "        world.step()\n",
    "\n",
    "    # continue"
   ]
  },
  {
   "cell_type": "code",
   "execution_count": null,
   "id": "cd289f2a",
   "metadata": {},
   "outputs": [],
   "source": [
    "HANDLE_INDEX = 0"
   ]
  },
  {
   "cell_type": "code",
   "execution_count": null,
   "id": "777bb700",
   "metadata": {},
   "outputs": [],
   "source": [
    "################################################## LEARNING SOLUTION ##############################\n",
    "\n",
    "v_desc = scene_instr.valid_handle_list[handle_path_str][\"vertical_description\"]\n",
    "h_desc = scene_instr.valid_handle_list[handle_path_str][\"horizontal_description\"]\n",
    "\n",
    "the_box = scene_instr.get_box_from_desc(v_desc, h_desc)\n",
    "handle_direction = \"horizontal\" if (the_box[2] - the_box[0]) > (the_box[3] - the_box[1]) else \"vertical\" \n"
   ]
  },
  {
   "cell_type": "markdown",
   "id": "679be349",
   "metadata": {},
   "source": [
    "# Control"
   ]
  },
  {
   "cell_type": "code",
   "execution_count": null,
   "id": "02d25415",
   "metadata": {},
   "outputs": [],
   "source": [
    "# Task\n",
    "# print(\"handle_path_str, handle_joint_type, handle_joint, rel_direction\", handle_path_str, handle_joint_type, handle_joint, handle_rel_direciton)\n",
    "task_checker = TaskChecker(\"mobility\", handle_joint, handle_joint_type, IS_RUNTIME=True)"
   ]
  },
  {
   "cell_type": "code",
   "execution_count": null,
   "id": "f4ccb50d",
   "metadata": {},
   "outputs": [],
   "source": [
    "# init\n",
    "world.reset()\n",
    "controller.xforms.set_world_poses(positions=np.array([[0,0,0]]), orientations = np.array([[1, 0, 0, 0]])) # WXYZ\n",
    "for _ in range(60):\n",
    "    world.step() # wait some time"
   ]
  },
  {
   "cell_type": "code",
   "execution_count": null,
   "id": "26908e4b",
   "metadata": {},
   "outputs": [],
   "source": [
    "graps_pos, grasp_rot = controller.calculate_grasp_location_from_pred_box(the_box, verticle= handle_direction == \"horizontal\")\n",
    "print(\"graps_pos, grasp_rot \", graps_pos, grasp_rot )"
   ]
  },
  {
   "cell_type": "code",
   "execution_count": null,
   "id": "016a7e10",
   "metadata": {},
   "outputs": [],
   "source": [
    "# move close to handle\n",
    "graps_pos[...,0] -= 0.1\n",
    "controller.xforms.set_world_poses(graps_pos, grasp_rot)\n",
    "for _ in range(300):\n",
    "    world.step(render=SHOW_IMAGE)         \n",
    "\n",
    "print(\"move to handle\")\n",
    "# move to handle\n",
    "graps_pos[...,0] += 0.1\n",
    "controller.xforms.set_world_poses(graps_pos, grasp_rot)\n",
    "for _ in range(100):\n",
    "    world.step(render=SHOW_IMAGE)     \n"
   ]
  },
  {
   "cell_type": "code",
   "execution_count": null,
   "id": "bf700070",
   "metadata": {},
   "outputs": [],
   "source": [
    "ROBOT_NAME"
   ]
  },
  {
   "cell_type": "code",
   "execution_count": null,
   "id": "335a381f",
   "metadata": {
    "scrolled": true
   },
   "outputs": [],
   "source": [
    "grasp_profile[\"finger_pos\"]"
   ]
  },
  {
   "cell_type": "code",
   "execution_count": null,
   "id": "c6d75415",
   "metadata": {},
   "outputs": [],
   "source": [
    "# close finger\n",
    "print(\"close finger\")\n",
    "finger_pos = grasp_profile[\"finger_pos\"].copy()\n",
    "\n",
    "if ROBOT_NAME == \"allegro\":   \n",
    "    for i in range(120):\n",
    "        controller.robots.set_joint_position_targets(finger_pos * i / 120) # \n",
    "        world.step(render=SHOW_IMAGE)       \n",
    "\n",
    "elif ROBOT_NAME == \"frankahand\":      \n",
    "    for i in range(100):\n",
    "        finger_pos -= 0.01\n",
    "        controller.robots.set_joint_position_targets(finger_pos) # \n",
    "        world.step(render=SHOW_IMAGE) \n",
    "\n",
    "elif ROBOT_NAME == \"shadowhand\": \n",
    "    dof_pos = finger_pos\n",
    "    for i in range(80):\n",
    "        # thumb\n",
    "        step_gain = 0.01\n",
    "        dof_pos[6] += step_gain\n",
    "        dof_pos[11] += 2 * step_gain \n",
    "        # dof_pos[16] += 0.01\n",
    "        dof_pos[21] += - step_gain\n",
    "\n",
    "\n",
    "        dof_pos[7] += step_gain \n",
    "        dof_pos[8] += step_gain \n",
    "        dof_pos[9] += step_gain \n",
    "        # dof_pos[14] += 0.01\n",
    "\n",
    "        dof_pos[12] += step_gain \n",
    "        dof_pos[13] += step_gain \n",
    "        dof_pos[14] += step_gain \n",
    "\n",
    "        dof_pos[17] += step_gain \n",
    "        dof_pos[18] += step_gain \n",
    "        dof_pos[19] += step_gain \n",
    "\n",
    "        # pinky\n",
    "        dof_pos[15] += step_gain\n",
    "        dof_pos[20] += step_gain\n",
    "        dof_pos[22] += step_gain \n",
    "\n",
    "        controller.robots.set_joint_position_targets(dof_pos) # \n",
    "        world.step(render=True)     \n"
   ]
  },
  {
   "cell_type": "code",
   "execution_count": null,
   "id": "d9877d2f",
   "metadata": {},
   "outputs": [],
   "source": [
    "print(\"pull out\")\n",
    "# pull out\n",
    "if ROBOT_NAME == \"allegro\": \n",
    "    for i in range(300):\n",
    "        graps_pos[...,0] -= 0.001\n",
    "    #   env.robots.set_world_poses(graps_pos, grasp_rot)\n",
    "        controller.xforms.set_world_poses(graps_pos, grasp_rot)\n",
    "        controller.robots.set_joint_position_targets(finger_pos)\n",
    "        world.step(render=SHOW_IMAGE)\n",
    "\n",
    "elif ROBOT_NAME == \"frankahand\": \n",
    "    for i in range(300):\n",
    "        graps_pos[...,0] -= 0.001\n",
    "        controller.xforms.set_world_poses(graps_pos, grasp_rot)\n",
    "        controller.robots.set_joint_position_targets(finger_pos)\n",
    "        finger_pos += 0.015\n",
    "        world.step(render=SHOW_IMAGE)\n",
    "\n",
    "elif ROBOT_NAME == \"shadowhand\": \n",
    "    # pull out\n",
    "    for i in range(300):\n",
    "        graps_pos[...,0] -= 0.001\n",
    "    #   env.robots.set_world_poses(graps_pos, grasp_rot)\n",
    "        controller.xforms.set_world_poses(graps_pos, grasp_rot)\n",
    "        controller.robots.set_joint_position_targets(dof_pos)\n",
    "        dof_pos *= 0.996\n",
    "        # print(dof_pos)\n",
    "\n",
    "        world.step(render=SHOW_IMAGE)"
   ]
  },
  {
   "cell_type": "code",
   "execution_count": null,
   "id": "459fef64",
   "metadata": {},
   "outputs": [],
   "source": [
    "# check task\n",
    "task_checker.joint_checker.compute_percentage()"
   ]
  },
  {
   "cell_type": "markdown",
   "id": "1fd1b43c",
   "metadata": {},
   "source": [
    "# Reset"
   ]
  },
  {
   "cell_type": "code",
   "execution_count": null,
   "id": "3d70d53b",
   "metadata": {},
   "outputs": [],
   "source": [
    "world.reset()\n",
    "controller.xforms.set_world_poses(positions=np.array([[0,0,0]]), orientations = np.array([[1, 0, 0, 0]])) # WXYZ\n",
    "\n",
    "for _ in range(30):\n",
    "    world.step()"
   ]
  },
  {
   "cell_type": "code",
   "execution_count": null,
   "id": "dcf0062a",
   "metadata": {},
   "outputs": [],
   "source": [
    "world.scene.remove_object(mobility_obj_name)"
   ]
  },
  {
   "cell_type": "code",
   "execution_count": null,
   "id": "e7928d93",
   "metadata": {},
   "outputs": [],
   "source": [
    "world.step()"
   ]
  },
  {
   "cell_type": "code",
   "execution_count": null,
   "id": "41277b90",
   "metadata": {},
   "outputs": [],
   "source": []
  }
 ],
 "metadata": {
  "kernelspec": {
   "display_name": "Isaac Sim Python 3",
   "language": "python",
   "name": "isaac_sim_python3"
  },
  "language_info": {
   "codemirror_mode": {
    "name": "ipython",
    "version": 3
   },
   "file_extension": ".py",
   "mimetype": "text/x-python",
   "name": "python",
   "nbconvert_exporter": "python",
   "pygments_lexer": "ipython3",
   "version": "3.7.13"
  }
 },
 "nbformat": 4,
 "nbformat_minor": 5
}
