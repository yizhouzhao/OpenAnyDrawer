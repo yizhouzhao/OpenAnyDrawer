{
 "cells": [
  {
   "cell_type": "code",
   "execution_count": 1,
   "id": "134b2a7b",
   "metadata": {},
   "outputs": [],
   "source": [
    "import numpy as np\n",
    "from PIL import Image\n",
    "\n",
    "from exp.params import OBJ_INDEX_LIST, GRASP_PROFILES\n",
    "\n",
    "ROBOT_NAME = \"skeletonhand\"# \"shadowhand\" # \"allegro\"\n",
    "grasp_profile = GRASP_PROFILES[ROBOT_NAME]"
   ]
  },
  {
   "cell_type": "code",
   "execution_count": 2,
   "id": "dcdc3643",
   "metadata": {},
   "outputs": [
    {
     "name": "stdout",
     "output_type": "stream",
     "text": [
      "SUCESS_PERCENTAGE:  20\n"
     ]
    }
   ],
   "source": [
    "SUCESS_PERCENTAGE = 20\n",
    "print(\"SUCESS_PERCENTAGE: \", SUCESS_PERCENTAGE)\n",
    "result_file_path = \"/home/yizhou/Research/Data/skeleton_exp_cliport824.txt\"\n",
    "MODEL_PATH = \"/home/yizhou/Research/temp0/fasterrcnn_resnet50_fpn824.pth\""
   ]
  },
  {
   "cell_type": "code",
   "execution_count": 3,
   "id": "21666180",
   "metadata": {},
   "outputs": [],
   "source": [
    "SHOW_IMAGE = True"
   ]
  },
  {
   "cell_type": "code",
   "execution_count": 4,
   "id": "f21bd244",
   "metadata": {},
   "outputs": [
    {
     "name": "stdout",
     "output_type": "stream",
     "text": [
      "omniverse://localhost/Users/yizhou/scene3.usd\n"
     ]
    }
   ],
   "source": [
    "import getpass\n",
    "user = getpass.getuser()\n",
    "\n",
    "usd_path = grasp_profile[\"usd_path\"]\n",
    "print(usd_path)\n",
    "\n",
    "from omni.isaac.kit import SimulationApp    "
   ]
  },
  {
   "cell_type": "code",
   "execution_count": 5,
   "id": "c9ebc520",
   "metadata": {},
   "outputs": [
    {
     "name": "stdout",
     "output_type": "stream",
     "text": [
      "Starting kit application with the fillowing args:  ['/home/yizhou/.local/share/ov/pkg/isaac_sim-2022.1.0/exts/omni.isaac.kit/omni/isaac/kit/simulation_app.py', '/home/yizhou/.local/share/ov/pkg/isaac_sim-2022.1.0/apps/omni.isaac.sim.python.kit', '--/app/tokens/exe-path=/home/yizhou/.local/share/ov/pkg/isaac_sim-2022.1.0/kit', '--/persistent/app/viewport/displayOptions=3094', '--/rtx/materialDb/syncLoads=True', '--/rtx/hydra/materialSyncLoads=True--/omni.kit.plugin/syncUsdLoads=True', '--/app/renderer/resolution/width=1280', '--/app/renderer/resolution/height=720', '--/app/window/width=1440', '--/app/window/height=900', '--/renderer/multiGpu/enabled=True', '--ext-folder', '/home/yizhou/.local/share/ov/pkg/isaac_sim-2022.1.0/exts', '--ext-folder', '/home/yizhou/.local/share/ov/pkg/isaac_sim-2022.1.0/apps', '--portable', '--no-window']\n",
      "Passing the following args to the base kit application:  ['-f', '/home/yizhou/.local/share/jupyter/runtime/kernel-89db7c32-aa5d-4ad5-bfe1-04cb6e30fbea.json']\n",
      "[Warning] [omni.kit.app.plugin] No crash reporter present, dumps uploading isn't available.\n",
      "[Info] [carb] Logging to file: /home/yizhou/.local/share/ov/pkg/isaac_sim-2022.1.0/kit/logs/Kit/Isaac-Sim/2022.1/kit_20220825_164351.log\n",
      "[0.085s] [ext: omni.stats-0.0.0] startup\n",
      "[0.105s] [ext: omni.gpu_foundation-0.0.0] startup\n",
      "2022-08-25 23:43:52 [107ms] [Warning] [carb] FrameworkImpl::setDefaultPlugin(client: omni.gpu_foundation_factory.plugin, desc : [carb::graphics::Graphics v2.5], plugin : carb.graphics-vulkan.plugin) failed. Plugin selection is locked, because the interface was previously acquired by: \n",
      "[0.128s] [ext: carb.windowing.plugins-1.0.0] startup\n",
      "[0.143s] [ext: omni.assets.plugins-0.0.0] startup\n",
      "[0.144s] [ext: omni.kit.renderer.init-0.0.0] startup\n",
      "\n",
      "|---------------------------------------------------------------------------------------------|\n",
      "| Driver Version: 510.85.2      | Graphics API: Vulkan\n",
      "|=============================================================================================|\n",
      "| GPU | Name                             | Active | LDA | GPU Memory | Vendor-ID | LUID       |\n",
      "|     |                                  |        |     |            | Device-ID | UUID       |\n",
      "|---------------------------------------------------------------------------------------------|\n",
      "| 0   | NVIDIA GeForce RTX 3090          | Yes: 0 |     | 24822   MB | 10de      | 0          |\n",
      "|     |                                  |        |     |            | 2204      | 3f50dd6e.. |\n",
      "|=============================================================================================|\n",
      "| OS: Linux yizhou-Z370-AORUS-Gaming-5, Version: 5.15.0-46-generic\n",
      "| Processor: Intel(R) Core(TM) i7-8700K CPU @ 3.70GHz | Cores: Unknown | Logical: 12\n",
      "|---------------------------------------------------------------------------------------------|\n",
      "| Total Memory (MB): 32044 | Free Memory: 15952\n",
      "| Total Page/Swap (MB): 2047 | Free Page/Swap: 2047\n",
      "|---------------------------------------------------------------------------------------------|\n",
      "2022-08-25 23:43:52 [964ms] [Warning] [carb.cudainterop.plugin] On Linux only, CUDA and the display driver does not support IOMMU-enabled bare-metal PCIe peer to peer memory copy.\n",
      "However, CUDA and the display driver does support IOMMU via VM pass through. As a consequence, users on Linux,\n",
      "when running on a native bare metal system, should disable the IOMMU. The IOMMU should be enabled and the VFIO driver\n",
      "be used as a PCIe pass through for virtual machines.\n",
      "[0.996s] [ext: omni.kit.pipapi-0.0.0] startup\n",
      "[1.009s] [ext: omni.kit.pip_archive-0.0.0] startup\n",
      "[1.015s] [ext: omni.isaac.core_archive-0.3.0] startup\n",
      "[1.042s] [ext: omni.usd.config-1.0.0] startup\n",
      "[1.044s] [ext: omni.usd.libs-1.0.0] startup\n",
      "[1.261s] [ext: omni.isaac.ml_archive-0.1.0] startup\n",
      "[1.390s] [ext: omni.kit.loop-isaac-0.1.0] startup\n",
      "[1.392s] [ext: omni.kit.async_engine-0.0.0] startup\n",
      "[1.393s] [ext: omni.appwindow-1.0.0] startup\n",
      "[1.399s] [ext: omni.client-0.1.0] startup\n",
      "[1.414s] [ext: omni.kit.test-0.0.0] startup\n",
      "[1.448s] [ext: omni.kit.renderer.core-0.0.0] startup\n",
      "[1.533s] [ext: omni.ui-2.10.3] startup\n",
      "[1.559s] [ext: carb.audio-0.1.0] startup\n",
      "[1.585s] [ext: omni.kit.mainwindow-0.0.0] startup\n",
      "[1.589s] [ext: omni.uiaudio-1.0.0] startup\n",
      "[1.593s] [ext: omni.kit.uiapp-0.0.0] startup\n",
      "[1.593s] [ext: omni.usd.schema.physics-1.0.0] startup\n",
      "[1.657s] [ext: omni.usd.schema.audio-0.0.0] startup\n",
      "[1.666s] [ext: omni.usd.schema.semantics-0.0.0] startup\n",
      "[1.679s] [ext: omni.usd.schema.omnigraph-1.0.0] startup\n",
      "[1.689s] [ext: omni.usd.schema.anim-0.0.0] startup\n",
      "[1.769s] [ext: omni.kit.commands-1.2.2] startup\n",
      "[1.777s] [ext: omni.timeline-1.0.2] startup\n",
      "[1.780s] [ext: omni.hydra.scene_delegate-0.2.0] startup\n",
      "[1.789s] [ext: omni.kit.audiodeviceenum-1.0.0] startup\n",
      "[1.791s] [ext: omni.usd-1.5.3] startup\n",
      "[1.860s] [ext: omni.kit.asset_converter-1.2.30] startup\n",
      "[1.886s] [ext: omni.usd.schema.isaac-0.2.0] startup\n",
      "[1.941s] [ext: omni.usd.schema.physx-0.0.0] startup\n",
      "[1.972s] [ext: omni.kit.search_core-1.0.2] startup\n",
      "[1.975s] [ext: omni.renderer-rtx-0.0.0] startup\n",
      "[1.977s] [ext: omni.kit.widget.graph-1.4.2] startup\n",
      "[1.989s] [ext: omni.kit.widget.filebrowser-2.2.26] startup\n",
      "[1.998s] [ext: omni.kit.window.popup_dialog-2.0.7] startup\n",
      "[2.008s] [ext: omni.mdl.neuraylib-0.1.0] startup\n",
      "[2.012s] [ext: omni.kit.widget.path_field-2.0.3] startup\n",
      "[2.015s] [ext: omni.kit.widget.versioning-1.3.8] startup\n",
      "[2.019s] [ext: omni.kit.notification_manager-1.0.5] startup\n",
      "[2.024s] [ext: omni.kit.widget.browser_bar-2.0.3] startup\n",
      "[2.027s] [ext: omni.kit.menu.utils-1.2.11] startup\n",
      "[2.040s] [ext: omni.kit.window.filepicker-2.4.29] startup\n"
     ]
    },
    {
     "name": "stderr",
     "output_type": "stream",
     "text": [
      "OmniAssetFileFormat\n"
     ]
    },
    {
     "name": "stdout",
     "output_type": "stream",
     "text": [
      "[2.111s] [ext: omni.mdl-0.1.0] startup\n",
      "[2.146s] [ext: omni.kit.menu.create-1.0.2] startup\n",
      "[2.148s] [ext: omni.kit.window.file_exporter-1.0.4] startup\n",
      "[2.149s] [ext: omni.kit.window.drop_support-1.0.0] startup\n",
      "[2.151s] [ext: omni.kit.material.library-1.3.10] startup\n",
      "[2.156s] [ext: omni.kit.window.property-1.6.3] startup\n",
      "[2.159s] [ext: omni.kit.context_menu-1.3.9] startup\n",
      "[2.165s] [ext: omni.kit.window.file_importer-1.0.4] startup\n",
      "[2.167s] [ext: omni.kit.stage_templates-1.1.2] startup\n",
      "[2.170s] [ext: omni.kit.widget.stage-2.6.15] startup\n",
      "[2.177s] [ext: omni.kit.window.file-1.3.16] startup\n",
      "[2.181s] [ext: omni.debugdraw-0.1.0] startup\n",
      "[2.188s] [ext: omni.kit.window.content_browser-2.4.28] startup\n",
      "[2.202s] [ext: omni.kit.widget.prompt-1.0.1] startup\n",
      "[2.204s] [ext: omni.kit.property.usd-3.14.8] startup\n",
      "[2.248s] [ext: omni.hydra.engine.stats-1.0.0] startup\n",
      "[2.256s] [ext: omni.kit.widget.settings-1.0.0] startup\n",
      "[2.258s] [ext: omni.graph.tools-1.3.5] startup\n",
      "[2.345s] [ext: omni.graph.core-2.27.0] startup\n",
      "[2.350s] [ext: omni.hydra.rtx-0.1.0] startup\n",
      "[2.364s] [ext: omni.kit.viewport.legacy_gizmos-1.0.0] startup\n",
      "[2.369s] [ext: omni.ui_query-1.1.1] startup\n",
      "[2.375s] [ext: omni.graph-1.22.1] startup\n",
      "[2.441s] [ext: omni.kit.window.viewport-0.0.0] startup\n"
     ]
    },
    {
     "name": "stderr",
     "output_type": "stream",
     "text": [
      "2022-08-25 23:43:54 [2,530ms] [Error] [rtx.neuraylib.plugin] [DYNLIB:IO]   0.1   DYNLIB io   error: /home/yizhou/.local/share/ov/pkg/isaac_sim-2022.1.0/kit/python/bin/libs/iray/libnvindex.so: cannot open shared object file: No such file or directory\n",
      "2022-08-25 23:43:54 [2,530ms] [Error] [rtx.neuraylib.plugin] [INDEX:MAIN]   0.1   INDEX  main error: Failed to load /home/yizhou/.local/share/ov/pkg/isaac_sim-2022.1.0/kit/python/bin/libs/iray/libnvindex.so\n"
     ]
    },
    {
     "name": "stdout",
     "output_type": "stream",
     "text": [
      "Warp initialized:\n",
      "   Version: 0.2.1\n",
      "   Using CUDA device: NVIDIA GeForce RTX 3090\n",
      "   Using CPU compiler: /usr/bin/g++\n",
      "[3.530s] [ext: omni.kit.window.preferences-1.2.1] startup\n",
      "[3.575s] [ext: omni.kit.ui_test-1.2.0] startup\n",
      "[3.578s] [ext: omni.graph.ui-1.6.1] startup\n",
      "[3.614s] [ext: omni.kvdb-0.0.0] startup\n",
      "[3.619s] [ext: omni.kit.widget.searchfield-1.0.6] startup\n",
      "[3.624s] [ext: omni.convexdecomposition-1.4.12] startup\n",
      "[3.633s] [ext: omni.graph.action-1.17.0] startup\n",
      "[3.653s] [ext: omni.localcache-0.0.0] startup\n",
      "[3.658s] [ext: omni.usdphysics-1.4.12] startup\n",
      "[3.661s] [ext: omni.graph.scriptnode-0.5.0] startup\n",
      "[3.665s] [ext: omni.physx-1.4.12-5.1] startup\n",
      "2022-08-25 23:43:55 [3,669ms] [Warning] [omni.kvdb.plugin] wasn't able to load the meta database, trying to repair it ...\n",
      "2022-08-25 23:43:55 [3,835ms] [Warning] [omni.kvdb.plugin] repair failed\n",
      "[3.853s] [ext: omni.kit.usd_undo-0.1.0] startup\n",
      "[3.858s] [ext: omni.graph.nodes-1.25.0] startup\n",
      "[3.889s] [ext: omni.physx.commands-1.4.12-5.1] startup\n",
      "[3.899s] [ext: omni.syntheticdata-0.2.1] startup\n",
      "[3.939s] [ext: omni.physx.ui-1.4.12-5.1] startup\n",
      "[4.044s] [ext: omni.warp-0.2.1] startup\n",
      "[6.593s] [ext: omni.kit.renderer.capture-0.0.0] startup\n",
      "[6.599s] [ext: omni.kit.property.material-1.8.5] startup\n",
      "[6.603s] [ext: omni.physx.demos-1.4.12-5.1] startup\n",
      "[6.607s] [ext: omni.physics.tensors-0.1.0] startup\n",
      "[6.617s] [ext: omni.kit.property.physx-0.1.0] startup\n",
      "2022-08-25 23:43:58 [6,683ms] [Warning] [omni.physx.plugin] Deprecated: getSimulationEventStream is deprecated, please use getSimulationEventStreamV2\n",
      "[6.702s] [ext: omni.kit.window.toolbar-1.2.4] startup\n",
      "[6.711s] [ext: omni.physx.tensors-0.1.0] startup\n",
      "[6.718s] [ext: omni.physx.vehicle-1.4.12-5.1] startup\n",
      "[6.733s] [ext: omni.physx.tests-1.4.12-5.1] startup\n",
      "[6.802s] [ext: omni.kit.numpy.common-0.1.0] startup\n",
      "[6.805s] [ext: omni.physx.camera-1.4.12-5.1] startup\n",
      "[6.814s] [ext: omni.physx.cct-1.4.12-5.1] startup\n",
      "[6.906s] [ext: omni.isaac.version-1.0.0] startup\n",
      "[6.907s] [ext: omni.isaac.dynamic_control-1.0.0] startup\n",
      "[6.918s] [ext: omni.physx.bundle-1.4.12-5.1] startup\n",
      "[6.918s] [ext: omni.kit.primitive.mesh-1.0.0] startup\n",
      "[6.925s] [ext: omni.command.usd-1.0.1] startup\n",
      "[6.932s] [ext: omni.isaac.core-1.15.1] startup\n",
      "[7.275s] [ext: omni.replicator.core-1.2.0] startup\n",
      "[7.421s] [ext: omni.kit.window.extensions-1.1.0] startup\n",
      "[7.429s] [ext: omni.isaac.core_nodes-0.9.0] startup\n",
      "[7.444s] [ext: omni.isaac.ui-0.2.1] startup\n",
      "[7.448s] [ext: omni.kit.window.script_editor-1.6.2] startup\n",
      "[7.459s] [ext: omni.isaac.wheeled_robots-0.5.4] startup\n",
      "[7.476s] [ext: omni.kit.menu.common-1.0.0] startup\n",
      "[7.478s] [ext: omni.kit.graph.delegate.default-1.0.15] startup\n",
      "[7.481s] [ext: omni.kit.graph.delegate.modern-1.6.0] startup\n",
      "[7.484s] [ext: omni.kit.widget.zoombar-1.0.3] startup\n",
      "[7.486s] [ext: omni.kit.graph.editor.core-1.3.3] startup\n",
      "[7.489s] [ext: omni.kit.widget.stage_icons-1.0.2] startup\n",
      "[7.492s] [ext: omni.kit.browser.core-2.0.12] startup\n",
      "[7.499s] [ext: omni.kit.graph.widget.variables-2.0.2] startup\n",
      "[7.501s] [ext: omni.kit.window.stage-2.3.7] startup\n",
      "[7.505s] [ext: omni.kit.browser.folder.core-1.1.13] startup\n",
      "[7.510s] [ext: omni.graph.window.core-1.22.1] startup\n",
      "[7.520s] [ext: omni.isaac.lula-1.1.0] startup\n",
      "[7.534s] [ext: omni.graph.instancing-1.1.4] startup\n",
      "[7.543s] [ext: omni.graph.window.action-1.3.8] startup\n",
      "[7.546s] [ext: omni.graph.tutorials-1.1.2] startup\n",
      "[7.572s] [ext: omni.rtx.window.settings-0.6.1] startup\n",
      "[7.581s] [ext: omni.isaac.motion_planning-0.2.0] startup\n",
      "[7.592s] [ext: omni.graph.bundle.action-1.0.0] startup\n",
      "[7.592s] [ext: omni.rtx.settings.core-0.5.5] startup\n",
      "[7.599s] [ext: omni.isaac.motion_generation-3.1.2] startup\n",
      "[7.606s] [ext: omni.isaac.kit-0.1.9] startup\n",
      "[7.607s] [ext: omni.isaac.debug_draw-0.1.2] startup\n",
      "[7.615s] [ext: omni.kit.selection-0.1.0] startup\n",
      "[7.617s] [ext: omni.isaac.franka-0.0.0] startup\n",
      "[7.619s] [ext: omni.kit.widget.layers-1.5.17] startup\n",
      "[7.641s] [ext: omni.kit.menu.edit-1.0.6] startup\n",
      "[7.644s] [ext: omni.isaac.isaac_sensor-0.3.4] startup\n",
      "2022-08-25 23:43:59 [7,635ms] [Warning] [omni.physx.plugin] Deprecated: getSimulationEventStream is deprecated, please use getSimulationEventStreamV2\n",
      "[7.654s] [ext: omni.kit.widget.live-0.1.0] startuOpening usd file at  omniverse://localhost/Users/yizhou/scene3.usd  ...Done.\n",
      "Saving a temp livesync stage at  omniverse://localhost/Users/yizhou/scene3.usd  ...Done.\n"
     ]
    }
   ],
   "source": [
    "simulation_app = SimulationApp({\"headless\": True, \"open_usd\": usd_path,  \"livesync_usd\": usd_path}) "
   ]
  },
  {
   "cell_type": "code",
   "execution_count": 6,
   "id": "bbca8e6f",
   "metadata": {},
   "outputs": [],
   "source": [
    "# world\n",
    "import omni\n",
    "from omni.isaac.core import World\n",
    "world = World()\n"
   ]
  },
  {
   "cell_type": "code",
   "execution_count": 7,
   "id": "a049d138",
   "metadata": {},
   "outputs": [],
   "source": [
    "# reset scene\n",
    "mobility_prim = world.scene.stage.GetPrimAtPath(\"/World/Game/mobility\")\n",
    "if mobility_prim:\n",
    "    omni.kit.commands.execute(\"DeletePrims\", paths=[\"/World/Game/mobility\"])"
   ]
  },
  {
   "cell_type": "code",
   "execution_count": 8,
   "id": "709f1df4",
   "metadata": {},
   "outputs": [],
   "source": [
    "# reset scene\n",
    "replicator_prim = world.scene.stage.GetPrimAtPath(\"/Replicator\")\n",
    "if replicator_prim:\n",
    "    omni.kit.commands.execute(\"DeletePrims\", paths=[\"/Replicator\"])\n"
   ]
  },
  {
   "cell_type": "code",
   "execution_count": 9,
   "id": "5c301d93",
   "metadata": {},
   "outputs": [],
   "source": [
    "# custom import\n",
    "from open_env import OpenEnv\n",
    "from hand_env import HandEnv\n",
    "from hand_common import HandBase\n",
    "from render.utils import prim_random_color, LOOKS_PATH\n",
    "\n",
    "from task.checker import TaskChecker\n",
    "from task.instructor import SceneInstructor\n",
    "from omni.isaac.core.prims.xform_prim import XFormPrim\n",
    "\n",
    "env = OpenEnv()\n",
    "env.add_camera()\n",
    "env.setup_viewport()"
   ]
  },
  {
   "cell_type": "code",
   "execution_count": 10,
   "id": "804ac346",
   "metadata": {},
   "outputs": [],
   "source": [
    "controller = HandBase(grasp_profile[\"articulation_root\"], \"/World/AnchorXform\")\n",
    "controller.grasp_profile = grasp_profile[\"offset\"]\n"
   ]
  },
  {
   "cell_type": "code",
   "execution_count": 11,
   "id": "8e8b857b",
   "metadata": {},
   "outputs": [
    {
     "data": {
      "text/plain": [
       "'/World/Hand'"
      ]
     },
     "execution_count": 11,
     "metadata": {},
     "output_type": "execute_result"
    }
   ],
   "source": [
    "grasp_profile[\"robot_path\"]"
   ]
  },
  {
   "cell_type": "code",
   "execution_count": 12,
   "id": "13e7a1c0",
   "metadata": {},
   "outputs": [
    {
     "name": "stdout",
     "output_type": "stream",
     "text": [
      "simlation context numpy None\n",
      "num_envs 1\n"
     ]
    },
    {
     "data": {
      "text/plain": [
       "<omni.isaac.core.robots.robot_view.RobotView at 0x7f7b9ad40a90>"
      ]
     },
     "execution_count": 12,
     "metadata": {},
     "output_type": "execute_result"
    }
   ],
   "source": [
    "# init\n",
    "world.reset()\n",
    "controller.start()\n",
    "world.scene.add(controller.robots)"
   ]
  },
  {
   "cell_type": "code",
   "execution_count": 13,
   "id": "2c47a87d",
   "metadata": {},
   "outputs": [
    {
     "data": {
      "text/plain": [
       "True"
      ]
     },
     "execution_count": 13,
     "metadata": {},
     "output_type": "execute_result"
    }
   ],
   "source": [
    "# hide robot\n",
    "hand_prim = world.scene.stage.GetPrimAtPath(grasp_profile[\"robot_path\"])\n",
    "hand_prim.GetAttribute('visibility').Set('invisible')"
   ]
  },
  {
   "cell_type": "code",
   "execution_count": 14,
   "id": "3181fe36",
   "metadata": {},
   "outputs": [],
   "source": [
    "world.step(render=True)"
   ]
  },
  {
   "cell_type": "code",
   "execution_count": 15,
   "id": "021ce875",
   "metadata": {},
   "outputs": [
    {
     "data": {
      "image/png": "[encoded data removed]",
      "text/plain": [
       "<PIL.Image.Image image mode=RGBA size=256x256 at 0x7F7B9AAE4A50>"
      ]
     },
     "execution_count": 15,
     "metadata": {},
     "output_type": "execute_result"
    }
   ],
   "source": [
    "env.get_image()"
   ]
  },
  {
   "cell_type": "markdown",
   "id": "f16704b1",
   "metadata": {},
   "source": [
    "# !Cliport?"
   ]
  },
  {
   "cell_type": "code",
   "execution_count": 16,
   "id": "3a46bc6a",
   "metadata": {
    "scrolled": true
   },
   "outputs": [
    {
     "name": "stderr",
     "output_type": "stream",
     "text": [
      "Some weights of the model checkpoint at microsoft/resnet-18 were not used when initializing ResNetModel: ['classifier.1.bias', 'classifier.1.weight']\n",
      "- This IS expected if you are initializing ResNetModel from the checkpoint of a model trained on another task or with another architecture (e.g. initializing a BertForSequenceClassification model from a BertForPreTraining model).\n",
      "- This IS NOT expected if you are initializing ResNetModel from the checkpoint of a model that you expect to be exactly identical (initializing a BertForSequenceClassification model from a BertForSequenceClassification model).\n"
     ]
    }
   ],
   "source": [
    "# load deep leanrning model\n",
    "from exp.model import load_vision_model\n",
    "\n",
    "MODEL_PATH = \"/home/yizhou/Research/temp0/custom_cliport824.pth\"\n",
    "model = load_vision_model(model_path = MODEL_PATH, model_name = \"custom_cliport\")"
   ]
  },
  {
   "cell_type": "code",
   "execution_count": 17,
   "id": "69aa78d0",
   "metadata": {},
   "outputs": [],
   "source": [
    "OBJ_INDEX = 0"
   ]
  },
  {
   "cell_type": "code",
   "execution_count": 18,
   "id": "cf09b8ff",
   "metadata": {},
   "outputs": [
    {
     "name": "stdout",
     "output_type": "stream",
     "text": [
      "add object\n",
      "loading asset from omni nucleus\n",
      "physics material: path:  /World/Game/mobility/link_0/visuals/handle_7/physicsMaterial\n",
      "add physics material to handle\n",
      "analysis_spatial_rel:  {'/World/Game/mobility/link_0/visuals/handle_7': {'joint_type': 'PhysicsRevoluteJoint', 'cabinet_type': 'door', 'vertical_description': '', 'horizontal_description': '', 'joint': 'joint_0', 'relative_to_game_center': 'right', 'direction': 'horizontal'}}\n",
      "p\n",
      "[7.661s] [ext: omni.isaac.surface_gripper-0.1.2] startup\n",
      "[7.670s] [ext: omni.kit.property.layer-1.1.2] startup\n",
      "[7.672s] [ext: omni.isaac.range_sensor-0.4.2] startup\n",
      "[7.706s] [ext: omni.graph.window.generic-1.3.8] startup\n",
      "[7.709s] [ext: omni.isaac.utils-0.1.11] startup\n",
      "[7.715s] [ext: omni.isaac.universal_robots-0.2.1] startup\n",
      "[7.716s] [ext: omni.kit.property.audio-1.0.5] startup\n",
      "[7.719s] [ext: omni.kit.property.skel-1.0.1] startup\n",
      "[7.721s] [ext: omni.kit.property.render-1.1.0] startup\n",
      "[7.723s] [ext: omni.kit.property.camera-1.0.3] startup\n",
      "[7.725s] [ext: omni.kit.property.geometry-1.2.0] startup\n",
      "[7.729s] [ext: omni.kit.property.light-1.0.5] startup\n",
      "[7.731s] [ext: omni.kit.property.transform-1.0.2] startup\n",
      "[7.736s] [ext: omni.isaac.occupancy_map-0.2.4] startup\n",
      "[7.754s] [ext: omni.ui.scene-1.4.6] startup\n",
      "[7.765s] [ext: omni.kit.window.console-0.2.0] startup\n",
      "[7.773s] [ext: omni.kit.window.status_bar-0.1.1] startup\n",
      "[7.781s] [ext: omni.kit.property.bundle-1.2.4] startup\n",
      "[7.783s] [ext: omni.kit.menu.file-1.0.8] startup\n",
      "[7.786s] [ext: omni.kit.manipulator.viewport-1.0.6] startup\n",
      "[7.789s] [ext: omni.isaac.urdf-0.2.2] startup\n",
      "[7.831s] [ext: omni.isaac.dofbot-0.2.0] startup\n",
      "[7.832s] [ext: omni.kit.window.title-1.1.1] startup\n",
      "[7.834s] [ext: omni.kit.profiler.window-1.4.4] startup\n",
      "[7.841s] [ext: omni.graph.visualization.nodes-1.1.1] startup\n",
      "[7.848s] [ext: omni.isaac.synthetic_utils-0.2.1] startup\n",
      "[7.862s] [ext: semantics.schema.editor-0.2.2] startup\n",
      "[7.868s] [ext: omni.isaac.sim.python-2022.1.0] startup\n",
      "[7.869s] Simulation App Starting\n",
      "2022-08-25 23:44:00 [8,503ms] [Warning] [omni.usd] Default value for render setting \"/rtx/shaderDb/cachePermutationIndex\" not found\n",
      "2022-08-25 23:44:00 [8,503ms] [Warning] [omni.usd] Default value for render setting \"/rtx/resourcemanager/uploadPooledBuffers/framesToEvict\" not found\n",
      "2022-08-25 23:44:00 [8,503ms] [Warning] [omni.usd] Default value for render setting \"/rtx/resourcemanager/uploadPooledBuffers/uploadSize\" not found\n",
      "2022-08-25 23:44:00 [8,503ms] [Warning] [omni.usd] Default value for render setting \"/rtx/pathtracing/nrc/canRun\" not found\n",
      "[15.045s] app ready\n",
      "[15.155s] Simulation App Startup Complete\n",
      "2022-08-25 23:44:07 [15,464ms] [Warning] [omni.syntheticdata.plugin] SdRenderVarToRawArray missing valid input renderVar DistanceToImagePlaneSD\n",
      "2022-08-25 23:44:07 [15,647ms] [Warning] [carb.flatcache.plugin] Type tag does not have a corresponding USD type\n",
      "2022-08-25 23:44:15 [23,092ms] [Warning] [omni.physx.plugin] PhysicsUSD: Parse collision - triangle mesh collision (approximation None/MeshSimplifixation) cannot be a part of a dynamic body, falling back to convexHull approximation: /World/Game/mobility/link_0/visuals/handle_7\n",
      "2022-08-25 23:44:15 [23,108ms] [Warning] [omni.physx.plugin] The rigid body at /World/Game/mobility/base has a possibly invalid inertia tensor of {1.0, 1.0, 1.0} and a negative mass. Either specify correct values in the mass properties, or add collider(s) to any shape(s) that you wish to automatically compute mass properties for. If you do not want the objects to collide, add colliders regardless then disable the 'enable collision' property.\n",
      "2022-08-25 23:44:15 [23,174ms] [Warning] [omni.hydra] Mesh /World/Game/mobility/link_1/visuals/vertical_side_panel_16 has corrupted data in primvar st: buffer size 18 doesn't match expected size 48 in faceVarying primvars\n",
      "2022-08-25 23:44:15 [23,174ms] [Warning] [omni.hydra] Mesh /World/Game/mobility/link_1/visuals/vertical_side_panel_14 has corrupted data in primvar st: buffer size 18 doesn't match expected size 48 in faceVarying primvars\n",
      "2022-08-25 23:44:15 [23,174ms] [Warning] [omni.hydra] Mesh /World/Game/mobility/link_1/visuals/shelf_4 has corrupted data in primvar st: buffer size 18 doesn't match expected size 36 in faceVarying primvars\n",
      "2022-08-25 23:44:15 [23,174ms] [Warning] [omni.hydra] Mesh /World/Game/mobility/link_1/visuals/vertical_side_panel_17 has corrupted data in primvar st: buffer size 18 doesn't match expected size 48 in faceVarying primvars\n",
      "2022-08-25 23:44:15 [23,174ms] [Warning] [omni.hydra] Mesh /World/Game/mobility/link_1/visuals/vertical_side_panel_15 has corrupted data in primvar st: buffer size 18 doesn't match expected size 48 in faceVarying primvars\n",
      "2022-08-25 23:44:15 [23,174ms] [Warning] [omni.hydra] Mesh /World/Game/mobility/link_1/visuals/back_panel_16 has corrupted data in primvar st: buffer size 36 doesn't match expected size 72 in faceVarying primvars\n",
      "2022-08-25 23:44:15 [23,174ms] [Warning] [omni.hydra] Mesh /World/Game/mobility/link_1/visuals/other_leaf_24 has corrupted data in primvar st: buffer size 24 doesn't match expected size 48 in faceVarying primvars\n",
      "2022-08-25 23:44:15 [23,174ms] [Warning] [omni.hydra] Mesh /World/Game/mobility/link_1/visuals/other_leaf_23 has corrupted data in primvar st: buffer size 24 doesn't match expected size 48 in faceVarying primvars\n",
      "2022-08-25 23:44:15 [23,174ms] [Warning] [omni.hydra] Mesh /World/Game/mobility/link_1/visuals/vertical_side_panel_16 has corrupted data in primvar st_1: buffer size 6 doesn't match expected size 48 in faceVarying primvars\n",
      "2022-08-25 23:44:15 [23,174ms] [Warning] [omni.hydra] Mesh /World/Game/mobility/link_1/visuals/other_leaf_22 has corrupted data in primvar st: buffer size 24 doesn't match expected size 48 in faceVarying primvars\n",
      "2022-08-25 23:44:15 [23,174ms] [Warning] [omni.hydra] Mesh /World/Game/mobility/link_1/visuals/other_leaf_21 has corrupted data in primvar st: buffer size 24 doesn't match expected size 48 in faceVarying primvars\n",
      "2022-08-25 23:44:15 [23,174ms] [Warning] [omni.hydra] Mesh /World/Game/mobility/link_1/visuals/vertical_side_panel_15 has corrupted data in primvar st_1: buffer size 6 doesn't match expected size 48 in faceVarying primvars\n",
      "2022-08-25 23:44:15 [23,174ms] [Warning] [omni.hydra] Mesh /World/Game/mobility/link_1/visuals/frame_vertical_bar_25 has corrupted data in primvar st: buffer size 18 doesn't match expected size 72 in faceVarying primvars\n",
      "2022-08-25 23:44:15 [23,174ms] [Warning] [omni.hydra] Mesh /World/Game/mobility/link_1/visuals/frame_vertical_bar_26 has corrupted data in primvar st: buffer size 18 doesn't match expected size 72 in faceVarying primvars\n",
      "2022-08-25 23:44:15 [23,174ms] [Warning] [omni.hydra] Mesh /World/Game/mobility/link_1/visuals/vertical_side_panel_17 has corrupted data in primvar st_1: buffer size 6 doesn't match expected size 48 in faceVarying primvars\n",
      "2022-08-25 23:44:15 [23,174ms] [Warning] [omni.hydra] Mesh /World/Game/mobility/link_1/visuals/vertical_side_panel_14 has corrupted data in primvar st_1: buffer size 6 doesn't match expected size 48 in faceVarying primvars\n",
      "2022-08-25 23:44:15 [23,174ms] [Warning] [omni.hydra] Mesh /World/Game/mobility/link_1/visuals/frame_horizontal_bar_27 has corrupted data in primvar st: buffer size 18 doesn't match expected size 48 in faceVarying primvars\n",
      "2022-08-25 23:44:15 [23,174ms] [Warning] [omni.hydra] Mesh /World/Game/mobility/link_1/visuals/frame_horizontal_bar_28 has corrupted data in primvar st: buffer size 24 doesn't match expected size 48 in faceVarying primvars\n",
      "2022-08-25 23:44:15 [23,174ms] [Warning] [omni.hydra] Mesh /World/Game/mobility/link_1/visuals/frame_horizontal_bar_29 has corrupted data in primvar st: buffer size 18 doesn't match expected size 48 in faceVarying primvars\n",
      "2022-08-25 23:44:15 [23,174ms] [Warning] [omni.hydra] Mesh /World/Game/mobility/link_1/visuals/base_side_panel_10 has corrupted data in primvar st: buffer size 18 doesn't match expected size 72 in faceVarying primvars\n",
      "2022-08-25 23:44:15 [23,174ms] [Warning] [omni.hydra] Mesh /World/Game/mobility/link_1/visuals/base_side_panel_9 has corrupted data in primvar st: buffer size 36 doesn't match expected size 72 in faceVarying primvars\n",
      "2022-08-25 23:44:15 [23,174ms] [Warning] [omni.hydra] Mesh /World/Game/mobility/link_1/visuals/base_side_panel_11 has corrupted data in primvar st: buffer size 6 doesn't match expected size 72 in faceVarying primvars\n",
      "2022-08-25 23:44:15 [23,175ms] [Warning] [omni.hydra] Mesh /World/Game/mobility/link_1/visuals/bottom_panel_13 has corrupted data in primvar st: buffer size 66 doesn't match expected size 72 in faceVarying primvars\n"
     ]
    },
    {
     "name": "stdout",
     "output_type": "stream",
     "text": [
      "2022-08-25 23:44:15 [23,175ms] [Warning] [omni.hydra] Mesh /World/Game/mobility/link_1/visuals/base_side_panel_12 has corrupted data in primvar st: buffer size 18 doesn't match expected size 72 in faceVarying primvars\n",
      "2022-08-25 23:44:15 [23,175ms] [Warning] [omni.hydra] Mesh /World/Game/mobility/link_1/visuals/base_side_panel_11 has corrupted data in primvar st_1: buffer size 30 doesn't match expected size 72 in faceVarying primvars\n",
      "2022-08-25 23:44:15 [23,175ms] [Warning] [omni.hydra] Mesh /World/Game/mobility/link_1/visuals/base_side_panel_12 has corrupted data in primvar st_1: buffer size 18 doesn't match expected size 72 in faceVarying primvars\n",
      "2022-08-25 23:44:15 [23,175ms] [Warning] [omni.hydra] Mesh /World/Game/mobility/link_1/visuals/frame_horizontal_bar_29 has corrupted data in primvar st_1: buffer size 6 doesn't match expected size 48 in faceVarying primvars\n",
      "2022-08-25 23:44:15 [23,175ms] [Warning] [omni.hydra] Mesh /World/Game/mobility/link_0/visuals/cabinet_door_surface_6 has corrupted data in primvar st: buffer size 36 doesn't match expected size 72 in faceVarying primvars\n",
      "2022-08-25 23:44:15 [23,175ms] [Warning] [omni.hydra] Mesh /World/Game/mobility/link_0/visuals/cabinet_door_surface_7 has corrupted data in primvar st: buffer size 24 doesn't match expected size 48 in faceVarying primvars\n",
      "2022-08-25 23:44:15 [23,175ms] [Warning] [omni.hydra] Mesh /World/Game/mobility/link_0/visuals/cabinet_door_surface_8 has corrupted data in primvar st: buffer size 36 doesn't match expected size 72 in faceVarying primvars\n",
      "2022-08-25 23:44:15 [23,175ms] [Warning] [omni.hydra] Mesh /World/Game/mobility/link_0/visuals/cabinet_door_surface_9 has corrupted data in primvar st: buffer size 24 doesn't match expected size 48 in faceVarying primvars\n",
      "2022-08-25 23:44:15 [23,175ms] [Warning] [omni.hydra] Mesh /World/Game/mobility/link_0/visuals/cabinet_door_surface_10 has corrupted data in primvar st: buffer size 36 doesn't match expected size 72 in faceVarying primvars\n",
      "2022-08-25 23:44:15 [23,175ms] [Warning] [omni.hydra] Mesh /World/Game/mobility/link_0/visuals/handle_7 has corrupted data in primvar st: buffer size 1962 doesn't match expected size 4008 in faceVarying primvars\n",
      "2022-08-25 23:44:15 [23,175ms] [Warning] [omni.hydra] Mesh /World/Game/mobility/link_1/visuals/base_side_panel_10 has corrupted data in primvar st_1: buffer size 18 doesn't match expected size 72 in faceVarying primvars\n",
      "2022-08-25 23:44:15 [23,175ms] [Warning] [omni.hydra] Mesh /World/Game/mobility/link_1/visuals/frame_vertical_bar_25 has corrupted data in primvar st_1: buffer size 18 doesn't match expected size 72 in faceVarying primvars\n",
      "2022-08-25 23:44:15 [23,175ms] [Warning] [omni.hydra] Mesh /World/Game/mobility/link_1/visuals/frame_vertical_bar_26 has corrupted data in primvar st_1: buffer size 18 doesn't match expected size 72 in faceVarying primvars\n",
      "2022-08-25 23:44:15 [23,175ms] [Warning] [omni.hydra] Mesh /World/Game/mobility/link_1/visuals/frame_horizontal_bar_27 has corrupted data in primvar st_1: buffer size 6 doesn't match expected size 48 in faceVarying primvars\n",
      "2022-08-25 23:44:15 [23,192ms] [Warning] [omni.physx.plugin] PhysicsUSD: Parse collision - triangle mesh collision (approximation None/MeshSimplifixation) cannot be a part of a dynamic body, falling back to convexHull approximation: /World/Game/mobility/link_0/visuals/handle_7\n",
      "2022-08-25 23:44:15 [23,197ms] [Warning] [omni.physx.plugin] The rigid body at /World/Game/mobility/base has a possibly invalid inertia tensor of {1.0, 1.0, 1.0} and a negative mass. Either specify correct values in the mass properties, or add collider(s) to any shape(s) that you wish to automatically compute mass properties for. If you do not want the objects to collide, add colliders regardless then disable the 'enable collision' property.\n",
      "2022-08-25 23:44:15 [23,231ms] [Warning] [gpu.foundation.plugin] Requesting texture to use texture streaming, but the service isn't available.The texture will be created as a regular resource.\n",
      "2022-08-25 23:44:15 [23,292ms] [Warning] [omni.hydra] Mesh /World/Game/mobility/link_1/visuals/shelf_4 has corrupted data in primvar st: buffer size 18 doesn't match expected size 36 in faceVarying primvars\n",
      "2022-08-25 23:44:15 [23,292ms] [Warning] [omni.hydra] Mesh /World/Game/mobility/link_1/visuals/other_leaf_24 has corrupted data in primvar st: buffer size 24 doesn't match expected size 48 in faceVarying primvars\n",
      "2022-08-25 23:44:15 [23,292ms] [Warning] [omni.hydra] Mesh /World/Game/mobility/link_1/visuals/vertical_side_panel_15 has corrupted data in primvar st: buffer size 18 doesn't match expected size 48 in faceVarying primvars\n",
      "2022-08-25 23:44:15 [23,292ms] [Warning] [omni.hydra] Mesh /World/Game/mobility/link_1/visuals/vertical_side_panel_14 has corrupted data in primvar st: buffer size 18 doesn't match expected size 48 in faceVarying primvars\n",
      "2022-08-25 23:44:15 [23,292ms] [Warning] [omni.hydra] Mesh /World/Game/mobility/link_1/visuals/vertical_side_panel_16 has corrupted data in primvar st: buffer size 18 doesn't match expected size 48 in faceVarying primvars\n",
      "2022-08-25 23:44:15 [23,292ms] [Warning] [omni.hydra] Mesh /World/Game/mobility/link_1/visuals/back_panel_16 has corrupted data in primvar st: buffer size 36 doesn't match expected size 72 in faceVarying primvars\n",
      "2022-08-25 23:44:15 [23,292ms] [Warning] [omni.hydra] Mesh /World/Game/mobility/link_1/visuals/vertical_side_panel_17 has corrupted data in primvar st: buffer size 18 doesn't match expected size 48 in faceVarying primvars\n",
      "2022-08-25 23:44:15 [23,292ms] [Warning] [omni.hydra] Mesh /World/Game/mobility/link_1/visuals/other_leaf_23 has corrupted data in primvar st: buffer size 24 doesn't match expected size 48 in faceVarying primvars\n",
      "2022-08-25 23:44:15 [23,293ms] [Warning] [omni.hydra] Mesh /World/Game/mobility/link_1/visuals/vertical_side_panel_16 has corrupted data in primvar st_1: buffer size 6 doesn't match expected size 48 in faceVarying primvars\n",
      "2022-08-25 23:44:15 [23,293ms] [Warning] [omni.hydra] Mesh /World/Game/mobility/link_1/visuals/vertical_side_panel_14 has corrupted data in primvar st_1: buffer size 6 doesn't match expected size 48 in faceVarying primvars\n",
      "2022-08-25 23:44:15 [23,293ms] [Warning] [omni.hydra] Mesh /World/Game/mobility/link_1/visuals/other_leaf_22 has corrupted data in primvar st: buffer size 24 doesn't match expected size 48 in faceVarying primvars\n",
      "2022-08-25 23:44:15 [23,293ms] [Warning] [omni.hydra] Mesh /World/Game/mobility/link_1/visuals/vertical_side_panel_17 has corrupted data in primvar st_1: buffer size 6 doesn't match expected size 48 in faceVarying primvars\n",
      "2022-08-25 23:44:15 [23,293ms] [Warning] [omni.hydra] Mesh /World/Game/mobility/link_1/visuals/vertical_side_panel_15 has corrupted data in primvar st_1: buffer size 6 doesn't match expected size 48 in faceVarying primvars\n",
      "2022-08-25 23:44:15 [23,293ms] [Warning] [omni.hydra] Mesh /World/Game/mobility/link_1/visuals/other_leaf_21 has corrupted data in primvar st: buffer size 24 doesn't match expected size 48 in faceVarying primvars\n",
      "2022-08-25 23:44:15 [23,293ms] [Warning] [omni.hydra] Mesh /World/Game/mobility/link_1/visuals/frame_vertical_bar_25 has corrupted data in primvar st: buffer size 18 doesn't match expected size 72 in faceVarying primvars\n",
      "2022-08-25 23:44:15 [23,293ms] [Warning] [omni.hydra] Mesh /World/Game/mobility/link_1/visuals/frame_vertical_bar_26 has corrupted data in primvar st: buffer size 18 doesn't match expected size 72 in faceVarying primvars\n",
      "2022-08-25 23:44:15 [23,293ms] [Warning] [omni.hydra] Mesh /World/Game/mobility/link_1/visuals/frame_vertical_bar_25 has corrupted data in primvar st_1: buffer size 18 doesn't match expected size 72 in faceVarying primvars\n",
      "2022-08-25 23:44:15 [23,293ms] [Warning] [omni.hydra] Mesh /World/Game/mobility/link_1/visuals/frame_horizontal_bar_27 has corrupted data in primvar st: buffer size 18 doesn't match expected size 48 in faceVarying primvars\n",
      "2022-08-25 23:44:15 [23,293ms] [Warning] [omni.hydra] Mesh /World/Game/mobility/link_1/visuals/frame_vertical_bar_26 has corrupted data in primvar st_1: buffer size 18 doesn't match expected size 72 in faceVarying primvars\n"
     ]
    },
    {
     "name": "stdout",
     "output_type": "stream",
     "text": [
      "2022-08-25 23:44:15 [23,293ms] [Warning] [omni.hydra] Mesh /World/Game/mobility/link_1/visuals/frame_horizontal_bar_27 has corrupted data in primvar st_1: buffer size 6 doesn't match expected size 48 in faceVarying primvars\n",
      "2022-08-25 23:44:15 [23,293ms] [Warning] [omni.hydra] Mesh /World/Game/mobility/link_1/visuals/frame_horizontal_bar_28 has corrupted data in primvar st: buffer size 24 doesn't match expected size 48 in faceVarying primvars\n",
      "2022-08-25 23:44:15 [23,293ms] [Warning] [omni.hydra] Mesh /World/Game/mobility/link_1/visuals/frame_horizontal_bar_29 has corrupted data in primvar st: buffer size 18 doesn't match expected size 48 in faceVarying primvars\n",
      "2022-08-25 23:44:15 [23,293ms] [Warning] [omni.hydra] Mesh /World/Game/mobility/link_1/visuals/frame_horizontal_bar_29 has corrupted data in primvar st_1: buffer size 6 doesn't match expected size 48 in faceVarying primvars\n",
      "2022-08-25 23:44:15 [23,293ms] [Warning] [omni.hydra] Mesh /World/Game/mobility/link_1/visuals/base_side_panel_9 has corrupted data in primvar st: buffer size 36 doesn't match expected size 72 in faceVarying primvars\n",
      "2022-08-25 23:44:15 [23,293ms] [Warning] [omni.hydra] Mesh /World/Game/mobility/link_1/visuals/base_side_panel_10 has corrupted data in primvar st: buffer size 18 doesn't match expected size 72 in faceVarying primvars\n",
      "2022-08-25 23:44:15 [23,293ms] [Warning] [omni.hydra] Mesh /World/Game/mobility/link_1/visuals/base_side_panel_11 has corrupted data in primvar st: buffer size 6 doesn't match expected size 72 in faceVarying primvars\n",
      "2022-08-25 23:44:15 [23,293ms] [Warning] [omni.hydra] Mesh /World/Game/mobility/link_1/visuals/base_side_panel_10 has corrupted data in primvar st_1: buffer size 18 doesn't match expected size 72 in faceVarying primvars\n",
      "2022-08-25 23:44:15 [23,293ms] [Warning] [omni.hydra] Mesh /World/Game/mobility/link_1/visuals/base_side_panel_12 has corrupted data in primvar st: buffer size 18 doesn't match expected size 72 in faceVarying primvars\n",
      "2022-08-25 23:44:15 [23,293ms] [Warning] [omni.hydra] Mesh /World/Game/mobility/link_1/visuals/base_side_panel_11 has corrupted data in primvar st_1: buffer size 30 doesn't match expected size 72 in faceVarying primvars\n",
      "2022-08-25 23:44:15 [23,293ms] [Warning] [omni.hydra] Mesh /World/Game/mobility/link_1/visuals/bottom_panel_13 has corrupted data in primvar st: buffer size 66 doesn't match expected size 72 in faceVarying primvars\n",
      "2022-08-25 23:44:15 [23,293ms] [Warning] [omni.hydra] Mesh /World/Game/mobility/link_1/visuals/base_side_panel_12 has corrupted data in primvar st_1: buffer size 18 doesn't match expected size 72 in faceVarying primvars\n",
      "2022-08-25 23:44:15 [23,293ms] [Warning] [omni.hydra] Mesh /World/Game/mobility/link_0/visuals/cabinet_door_surface_7 has corrupted data in primvar st: buffer size 24 doesn't match expected size 48 in faceVarying primvars\n",
      "2022-08-25 23:44:15 [23,293ms] [Warning] [omni.hydra] Mesh /World/Game/mobility/link_0/visuals/cabinet_door_surface_6 has corrupted data in primvar st: buffer size 36 doesn't match expected size 72 in faceVarying primvars\n",
      "2022-08-25 23:44:15 [23,293ms] [Warning] [omni.hydra] Mesh /World/Game/mobility/link_0/visuals/cabinet_door_surface_8 has corrupted data in primvar st: buffer size 36 doesn't match expected size 72 in faceVarying primvars\n",
      "2022-08-25 23:44:15 [23,293ms] [Warning] [omni.hydra] Mesh /World/Game/mobility/link_0/visuals/cabinet_door_surface_9 has corrupted data in primvar st: buffer size 24 doesn't match expected size 48 in faceVarying primvars\n",
      "2022-08-25 23:44:15 [23,293ms] [Warning] [omni.hydra] Mesh /World/Game/mobility/link_0/visuals/cabinet_door_surface_10 has corrupted data in primvar st: buffer size 36 doesn't match expected size 72 in faceVarying primvars\n",
      "2022-08-25 23:44:15 [23,293ms] [Warning] [omni.hydra] Mesh /World/Game/mobility/link_0/visuals/handle_7 has corrupted data in primvar st: buffer size 1962 doesn't match expected size 4008 in faceVarying primvars\n",
      "2022-08-25 23:44:16 [24,147ms] [Warning] [omni.hydra] Mesh /World/Game/mobility/link_1/visuals/other_leaf_22 has corrupted data in primvar st: buffer size 24 doesn't match expected size 48 in faceVarying primvars\n",
      "2022-08-25 23:44:16 [24,147ms] [Warning] [omni.hydra] Mesh /World/Game/mobility/link_1/visuals/vertical_side_panel_15 has corrupted data in primvar st: buffer size 18 doesn't match expected size 48 in faceVarying primvars\n",
      "2022-08-25 23:44:16 [24,147ms] [Warning] [omni.hydra] Mesh /World/Game/mobility/link_1/visuals/shelf_4 has corrupted data in primvar st: buffer size 18 doesn't match expected size 36 in faceVarying primvars\n",
      "2022-08-25 23:44:16 [24,147ms] [Warning] [omni.hydra] Mesh /World/Game/mobility/link_1/visuals/vertical_side_panel_17 has corrupted data in primvar st: buffer size 18 doesn't match expected size 48 in faceVarying primvars\n",
      "2022-08-25 23:44:16 [24,147ms] [Warning] [omni.hydra] Mesh /World/Game/mobility/link_1/visuals/vertical_side_panel_14 has corrupted data in primvar st: buffer size 18 doesn't match expected size 48 in faceVarying primvars\n",
      "2022-08-25 23:44:16 [24,147ms] [Warning] [omni.hydra] Mesh /World/Game/mobility/link_1/visuals/other_leaf_24 has corrupted data in primvar st: buffer size 24 doesn't match expected size 48 in faceVarying primvars\n",
      "2022-08-25 23:44:16 [24,147ms] [Warning] [omni.hydra] Mesh /World/Game/mobility/link_1/visuals/other_leaf_21 has corrupted data in primvar st: buffer size 24 doesn't match expected size 48 in faceVarying primvars\n",
      "2022-08-25 23:44:16 [24,147ms] [Warning] [omni.hydra] Mesh /World/Game/mobility/link_1/visuals/other_leaf_23 has corrupted data in primvar st: buffer size 24 doesn't match expected size 48 in faceVarying primvars\n",
      "2022-08-25 23:44:16 [24,147ms] [Warning] [omni.hydra] Mesh /World/Game/mobility/link_1/visuals/vertical_side_panel_15 has corrupted data in primvar st_1: buffer size 6 doesn't match expected size 48 in faceVarying primvars\n",
      "2022-08-25 23:44:16 [24,147ms] [Warning] [omni.hydra] Mesh /World/Game/mobility/link_1/visuals/frame_vertical_bar_25 has corrupted data in primvar st: buffer size 18 doesn't match expected size 72 in faceVarying primvars\n",
      "2022-08-25 23:44:16 [24,147ms] [Warning] [omni.hydra] Mesh /World/Game/mobility/link_1/visuals/vertical_side_panel_14 has corrupted data in primvar st_1: buffer size 6 doesn't match expected size 48 in faceVarying primvars\n",
      "2022-08-25 23:44:16 [24,147ms] [Warning] [omni.hydra] Mesh /World/Game/mobility/link_1/visuals/frame_vertical_bar_26 has corrupted data in primvar st: buffer size 18 doesn't match expected size 72 in faceVarying primvars\n",
      "2022-08-25 23:44:16 [24,147ms] [Warning] [omni.hydra] Mesh /World/Game/mobility/link_1/visuals/vertical_side_panel_16 has corrupted data in primvar st: buffer size 18 doesn't match expected size 48 in faceVarying primvars\n",
      "2022-08-25 23:44:16 [24,147ms] [Warning] [omni.hydra] Mesh /World/Game/mobility/link_1/visuals/frame_vertical_bar_26 has corrupted data in primvar st_1: buffer size 18 doesn't match expected size 72 in faceVarying primvars\n",
      "2022-08-25 23:44:16 [24,147ms] [Warning] [omni.hydra] Mesh /World/Game/mobility/link_1/visuals/back_panel_16 has corrupted data in primvar st: buffer size 36 doesn't match expected size 72 in faceVarying primvars\n",
      "2022-08-25 23:44:16 [24,147ms] [Warning] [omni.hydra] Mesh /World/Game/mobility/link_1/visuals/frame_vertical_bar_25 has corrupted data in primvar st_1: buffer size 18 doesn't match expected size 72 in faceVarying primvars\n",
      "2022-08-25 23:44:16 [24,147ms] [Warning] [omni.hydra] Mesh /World/Game/mobility/link_1/visuals/frame_horizontal_bar_28 has corrupted data in primvar st: buffer size 24 doesn't match expected size 48 in faceVarying primvars\n",
      "2022-08-25 23:44:16 [24,147ms] [Warning] [omni.hydra] Mesh /World/Game/mobility/link_1/visuals/frame_horizontal_bar_27 has corrupted data in primvar st: buffer size 18 doesn't match expected size 48 in faceVarying primvars\n",
      "2022-08-25 23:44:16 [24,147ms] [Warning] [omni.hydra] Mesh /World/Game/mobility/link_1/visuals/frame_horizontal_bar_29 has corrupted data in primvar st: buffer size 18 doesn't match expected size 48 in faceVarying primvars\n",
      "2022-08-25 23:44:16 [24,147ms] [Warning] [omni.hydra] Mesh /World/Game/mobility/link_1/visuals/bas"
     ]
    }
   ],
   "source": [
    "env.add_object(OBJ_INDEX, scale = 0.1)\n",
    "\n",
    "mobility_obj = XFormPrim(\"/World/Game/mobility\")\n",
    "mobility_obj_name = mobility_obj.name\n",
    "\n",
    "# randomize color\n",
    "\n",
    "# reset look in scene\n",
    "mat_look_prim = world.scene.stage.GetPrimAtPath(LOOKS_PATH)\n",
    "if mat_look_prim:\n",
    "    omni.kit.commands.execute(\"DeletePrims\", paths=[LOOKS_PATH])\n",
    "\n",
    "world.step(render = False)\n",
    "\n",
    "scene_instr = SceneInstructor()\n",
    "scene_instr.analysis()\n",
    "\n",
    "handle_num = len(list(scene_instr.valid_handle_list.keys()))\n",
    "\n",
    "for HANDLE_INDEX in range(handle_num):\n",
    "    handle_path_str = list(scene_instr.valid_handle_list.keys())[HANDLE_INDEX]\n",
    "    prim_random_color(handle_path_str)\n",
    "    \n",
    "world.scene.add(mobility_obj)\n",
    "world.reset()\n",
    "world.render()"
   ]
  },
  {
   "cell_type": "code",
   "execution_count": 19,
   "id": "7fff4084",
   "metadata": {},
   "outputs": [],
   "source": [
    "world.step(render = True)\n",
    "world.render()\n",
    "image_array =env.get_image(return_array=True)"
   ]
  },
  {
   "cell_type": "code",
   "execution_count": 20,
   "id": "b293be7d",
   "metadata": {},
   "outputs": [
    {
     "data": {
      "image/png": "[encoded data removed]",
      "text/plain": [
       "<PIL.Image.Image image mode=RGB size=256x256 at 0x7F6C7A0C6DD0>"
      ]
     },
     "execution_count": 20,
     "metadata": {},
     "output_type": "execute_result"
    }
   ],
   "source": [
    "image = env.get_image()\n",
    "image.convert('RGB')"
   ]
  },
  {
   "cell_type": "code",
   "execution_count": 21,
   "id": "d5c2e857",
   "metadata": {},
   "outputs": [],
   "source": [
    "import matplotlib.pyplot as plt"
   ]
  },
  {
   "cell_type": "code",
   "execution_count": 22,
   "id": "863cf3c0",
   "metadata": {},
   "outputs": [
    {
     "data": {
      "text/plain": [
       "<matplotlib.image.AxesImage at 0x7f6c00b019d0>"
      ]
     },
     "execution_count": 22,
     "metadata": {},
     "output_type": "execute_result"
    },
    {
     "data": {
      "image/png": "[encoded data removed]",
      "text/plain": [
       "<Figure size 432x288 with 1 Axes>"
      ]
     },
     "metadata": {
      "needs_background": "light"
     },
     "output_type": "display_data"
    }
   ],
   "source": [
    "plt.imshow(image)"
   ]
  },
  {
   "cell_type": "code",
   "execution_count": 23,
   "id": "efe4febd",
   "metadata": {
    "scrolled": true
   },
   "outputs": [
    {
     "data": {
      "text/plain": [
       "{'/World/Game/mobility/link_0/visuals/handle_7': {'joint_type': 'PhysicsRevoluteJoint',\n",
       "  'cabinet_type': 'door',\n",
       "  'vertical_description': '',\n",
       "  'horizontal_description': '',\n",
       "  'joint': 'joint_0',\n",
       "  'relative_to_game_center': 'right',\n",
       "  'direction': 'horizontal'}}"
      ]
     },
     "execution_count": 23,
     "metadata": {},
     "output_type": "execute_result"
    }
   ],
   "source": [
    "scene_instr.valid_handle_list"
   ]
  },
  {
   "cell_type": "code",
   "execution_count": 24,
   "id": "454ba29c",
   "metadata": {},
   "outputs": [
    {
     "data": {
      "text/plain": [
       "{'/World/Game/mobility/link_0/visuals/handle_7': {'joint_type': 'PhysicsRevoluteJoint',\n",
       "  'cabinet_type': 'door',\n",
       "  'vertical_description': '',\n",
       "  'horizontal_description': '',\n",
       "  'joint': 'joint_0',\n",
       "  'relative_to_game_center': 'right',\n",
       "  'direction': 'horizontal'}}"
      ]
     },
     "execution_count": 24,
     "metadata": {},
     "output_type": "execute_result"
    }
   ],
   "source": [
    "scene_instr.valid_handle_list"
   ]
  },
  {
   "cell_type": "code",
   "execution_count": 25,
   "id": "f9e7a92a",
   "metadata": {},
   "outputs": [
    {
     "name": "stdout",
     "output_type": "stream",
     "text": [
      "door\n"
     ]
    }
   ],
   "source": [
    "HANDLE_INDEX = 0\n",
    "\n",
    "handle_path_str = list(scene_instr.valid_handle_list.keys())[HANDLE_INDEX]\n",
    "h_desc = scene_instr.valid_handle_list[handle_path_str][\"horizontal_description\"]\n",
    "v_desc = scene_instr.valid_handle_list[handle_path_str][\"vertical_description\"]\n",
    "\n",
    "handle_joint_type = scene_instr.valid_handle_list[handle_path_str][\"joint_type\"]\n",
    "handle_joint = scene_instr.valid_handle_list[handle_path_str][\"joint\"]\n",
    "# handle_rel_direciton = scene_instr.valid_handle_list[handle_path_str][\"relative_to_game_center\"]\n",
    "\n",
    "cabinet_type = scene_instr.valid_handle_list[handle_path_str][\"cabinet_type\"]\n",
    "# add_update_semantics(prim, \"handle\")\n",
    "\n",
    "text = f\"{v_desc}_{h_desc}_{cabinet_type}\"\n",
    "text = text.replace(\"_\",\" \").replace(\"-\",\" \").replace(\"  \", \" \").strip()\n",
    "print(text)\n"
   ]
  },
  {
   "cell_type": "code",
   "execution_count": 26,
   "id": "9b82c956",
   "metadata": {},
   "outputs": [],
   "source": [
    "model = model.cuda()"
   ]
  },
  {
   "cell_type": "code",
   "execution_count": 27,
   "id": "610e51f6",
   "metadata": {},
   "outputs": [],
   "source": [
    "bbox_center, handle_direction = model.pred_box_pos_and_dir(image.convert('RGB'), text)"
   ]
  },
  {
   "cell_type": "code",
   "execution_count": 28,
   "id": "fb991dee",
   "metadata": {},
   "outputs": [
    {
     "data": {
      "text/plain": [
       "(37, 155)"
      ]
     },
     "execution_count": 28,
     "metadata": {},
     "output_type": "execute_result"
    }
   ],
   "source": [
    "bbox_center"
   ]
  },
  {
   "cell_type": "code",
   "execution_count": 29,
   "id": "c7d3900b",
   "metadata": {},
   "outputs": [],
   "source": [
    "the_box = scene_instr.get_bbox_world_position([bbox_center[1], bbox_center[0], bbox_center[1], bbox_center[0]])"
   ]
  },
  {
   "cell_type": "code",
   "execution_count": 30,
   "id": "1bcfa809",
   "metadata": {},
   "outputs": [
    {
     "data": {
      "text/plain": [
       "[-0.14915150170648464,\n",
       " 1.0026958020477816,\n",
       " -0.14915150170648464,\n",
       " 1.0026958020477816]"
      ]
     },
     "execution_count": 30,
     "metadata": {},
     "output_type": "execute_result"
    }
   ],
   "source": [
    "the_box"
   ]
  },
  {
   "cell_type": "code",
   "execution_count": null,
   "id": "0d5c922f",
   "metadata": {},
   "outputs": [],
   "source": [
    "# -------------------- RESNET"
   ]
  },
  {
   "cell_type": "code",
   "execution_count": null,
   "id": "afb8f644",
   "metadata": {},
   "outputs": [],
   "source": [
    "scene_instr.model = model\n",
    "scene_instr.predict_bounding_boxes(image_array[:,:,:3])\n",
    "\n",
    "# if not valid\n",
    "if not scene_instr.is_obj_valid:\n",
    "    print(\"object not valid: \", OBJ_INDEX)\n",
    "    simulation_app.close()\n",
    "    exit()\n",
    "\n",
    "# if no valid predicted boundbox\n",
    "if not scene_instr.is_pred_valid:\n",
    "    with open(result_file_path, \"a\") as f:\n",
    "        f.write(f\"{OBJ_INDEX}, invalid prediction\\n\")\n",
    "\n",
    "    world.scene.remove_object(mobility_obj_name)\n",
    "    world.reset()\n",
    "    controller.xforms.set_world_poses(positions=np.array([[0,0,0]]), orientations = np.array([[1, 0, 0, 0]])) # WXYZ\n",
    "    for _ in range(30):\n",
    "        world.step()\n",
    "\n",
    "    # continue"
   ]
  },
  {
   "cell_type": "code",
   "execution_count": null,
   "id": "cd289f2a",
   "metadata": {},
   "outputs": [],
   "source": [
    "HANDLE_INDEX = 0"
   ]
  },
  {
   "cell_type": "code",
   "execution_count": null,
   "id": "777bb700",
   "metadata": {},
   "outputs": [],
   "source": [
    "################################################## LEARNING SOLUTION ##############################\n",
    "\n",
    "v_desc = scene_instr.valid_handle_list[handle_path_str][\"vertical_description\"]\n",
    "h_desc = scene_instr.valid_handle_list[handle_path_str][\"horizontal_description\"]\n",
    "\n",
    "the_box = scene_instr.get_box_from_desc(v_desc, h_desc)\n",
    "handle_direction = \"horizontal\" if (the_box[2] - the_box[0]) > (the_box[3] - the_box[1]) else \"vertical\" \n"
   ]
  },
  {
   "cell_type": "markdown",
   "id": "679be349",
   "metadata": {},
   "source": [
    "# Control"
   ]
  },
  {
   "cell_type": "code",
   "execution_count": 31,
   "id": "02d25415",
   "metadata": {},
   "outputs": [],
   "source": [
    "# Task\n",
    "# print(\"handle_path_str, handle_joint_type, handle_joint, rel_direction\", handle_path_str, handle_joint_type, handle_joint, handle_rel_direciton)\n",
    "task_checker = TaskChecker(\"mobility\", handle_joint, handle_joint_type, IS_RUNTIME=True)"
   ]
  },
  {
   "cell_type": "code",
   "execution_count": 32,
   "id": "f4ccb50d",
   "metadata": {},
   "outputs": [
    {
     "name": "stdout",
     "output_type": "stream",
     "text": [
      "e_side_panel_9 has corrupted data in primvar st: buffer size 36 doesn't match expected size 72 in faceVarying primvars\n",
      "2022-08-25 23:44:16 [24,147ms] [Warning] [omni.hydra] Mesh /World/Game/mobility/link_1/visuals/vertical_side_panel_17 has corrupted data in primvar st_1: buffer size 6 doesn't match expected size 48 in faceVarying primvars\n",
      "2022-08-25 23:44:16 [24,147ms] [Warning] [omni.hydra] Mesh /World/Game/mobility/link_1/visuals/base_side_panel_10 has corrupted data in primvar st: buffer size 18 doesn't match expected size 72 in faceVarying primvars\n",
      "2022-08-25 23:44:16 [24,147ms] [Warning] [omni.hydra] Mesh /World/Game/mobility/link_1/visuals/base_side_panel_11 has corrupted data in primvar st: buffer size 6 doesn't match expected size 72 in faceVarying primvars\n",
      "2022-08-25 23:44:16 [24,147ms] [Warning] [omni.hydra] Mesh /World/Game/mobility/link_1/visuals/vertical_side_panel_16 has corrupted data in primvar st_1: buffer size 6 doesn't match expected size 48 in faceVarying primvars\n",
      "2022-08-25 23:44:16 [24,147ms] [Warning] [omni.hydra] Mesh /World/Game/mobility/link_1/visuals/frame_horizontal_bar_27 has corrupted data in primvar st_1: buffer size 6 doesn't match expected size 48 in faceVarying primvars\n",
      "2022-08-25 23:44:16 [24,147ms] [Warning] [omni.hydra] Mesh /World/Game/mobility/link_1/visuals/bottom_panel_13 has corrupted data in primvar st: buffer size 66 doesn't match expected size 72 in faceVarying primvars\n",
      "2022-08-25 23:44:16 [24,147ms] [Warning] [omni.hydra] Mesh /World/Game/mobility/link_1/visuals/base_side_panel_12 has corrupted data in primvar st: buffer size 18 doesn't match expected size 72 in faceVarying primvars\n",
      "2022-08-25 23:44:16 [24,147ms] [Warning] [omni.hydra] Mesh /World/Game/mobility/link_1/visuals/frame_horizontal_bar_29 has corrupted data in primvar st_1: buffer size 6 doesn't match expected size 48 in faceVarying primvars\n",
      "2022-08-25 23:44:16 [24,148ms] [Warning] [omni.hydra] Mesh /World/Game/mobility/link_1/visuals/base_side_panel_10 has corrupted data in primvar st_1: buffer size 18 doesn't match expected size 72 in faceVarying primvars\n",
      "2022-08-25 23:44:16 [24,148ms] [Warning] [omni.hydra] Mesh /World/Game/mobility/link_1/visuals/base_side_panel_11 has corrupted data in primvar st_1: buffer size 30 doesn't match expected size 72 in faceVarying primvars\n",
      "2022-08-25 23:44:16 [24,148ms] [Warning] [omni.hydra] Mesh /World/Game/mobility/link_1/visuals/base_side_panel_12 has corrupted data in primvar st_1: buffer size 18 doesn't match expected size 72 in faceVarying primvars\n",
      "2022-08-25 23:44:16 [24,148ms] [Warning] [omni.hydra] Mesh /World/Game/mobility/link_0/visuals/cabinet_door_surface_6 has corrupted data in primvar st: buffer size 36 doesn't match expected size 72 in faceVarying primvars\n",
      "2022-08-25 23:44:16 [24,148ms] [Warning] [omni.hydra] Mesh /World/Game/mobility/link_0/visuals/cabinet_door_surface_7 has corrupted data in primvar st: buffer size 24 doesn't match expected size 48 in faceVarying primvars\n",
      "2022-08-25 23:44:16 [24,148ms] [Warning] [omni.hydra] Mesh /World/Game/mobility/link_0/visuals/cabinet_door_surface_8 has corrupted data in primvar st: buffer size 36 doesn't match expected size 72 in faceVarying primvars\n",
      "2022-08-25 23:44:16 [24,148ms] [Warning] [omni.hydra] Mesh /World/Game/mobility/link_0/visuals/cabinet_door_surface_9 has corrupted data in primvar st: buffer size 24 doesn't match expected size 48 in faceVarying primvars\n",
      "2022-08-25 23:44:16 [24,148ms] [Warning] [omni.hydra] Mesh /World/Game/mobility/link_0/visuals/cabinet_door_surface_10 has corrupted data in primvar st: buffer size 36 doesn't match expected size 72 in faceVarying primvars\n",
      "2022-08-25 23:44:16 [24,148ms] [Warning] [omni.hydra] Mesh /World/Game/mobility/link_0/visuals/handle_7 has corrupted data in primvar st: buffer size 1962 doesn't match expected size 4008 in faceVarying primvars\n",
      "2022-08-25 23:44:16 [25,000ms] [Warning] [omni.physx.plugin] PhysicsUSD: Parse collision - triangle mesh collision (approximation None/MeshSimplifixation) cannot be a part of a dynamic body, falling back to convexHull approximation:"
     ]
    }
   ],
   "source": [
    "# init\n",
    "world.reset()\n",
    "controller.xforms.set_world_poses(positions=np.array([[0,0,0]]), orientations = np.array([[1, 0, 0, 0]])) # WXYZ\n",
    "for _ in range(60):\n",
    "    world.step() # wait some time"
   ]
  },
  {
   "cell_type": "code",
   "execution_count": 33,
   "id": "26908e4b",
   "metadata": {},
   "outputs": [
    {
     "name": "stdout",
     "output_type": "stream",
     "text": [
      "graps_pos, grasp_rot  [[ 0.588      -0.12915151  0.9776958 ]] [[ 0.      -0.70711  0.70711  0.     ]]\n"
     ]
    }
   ],
   "source": [
    "graps_pos, grasp_rot = controller.calculate_grasp_location_from_pred_box(the_box, verticle= handle_direction != \"horizontal\")\n",
    "print(\"graps_pos, grasp_rot \", graps_pos, grasp_rot )"
   ]
  },
  {
   "cell_type": "code",
   "execution_count": 34,
   "id": "016a7e10",
   "metadata": {},
   "outputs": [],
   "source": [
    "# move close to handle\n",
    "graps_pos[...,0] -= 0.1\n",
    "controller.xforms.set_world_poses(graps_pos, grasp_rot)\n",
    "for _ in range(300):\n",
    "    world.step(render=SHOW_IMAGE)         \n",
    "\n",
    "# print(\"move to handle\")\n",
    "# # move to handle\n",
    "# graps_pos[...,0] += 0.1\n",
    "# controller.xforms.set_world_poses(graps_pos, grasp_rot)\n",
    "# for _ in range(100):\n",
    "#     world.step(render=SHOW_IMAGE)     \n"
   ]
  },
  {
   "cell_type": "code",
   "execution_count": null,
   "id": "e27207af",
   "metadata": {},
   "outputs": [],
   "source": [
    "# # adjust\n",
    "# graps_pos[...,0] += 0.01\n",
    "# controller.xforms.set_world_poses(graps_pos, grasp_rot)\n",
    "# for _ in range(100):\n",
    "#     world.step(render=SHOW_IMAGE)   "
   ]
  },
  {
   "cell_type": "code",
   "execution_count": null,
   "id": "bf700070",
   "metadata": {},
   "outputs": [],
   "source": [
    "ROBOT_NAME"
   ]
  },
  {
   "cell_type": "code",
   "execution_count": null,
   "id": "335a381f",
   "metadata": {
    "scrolled": true
   },
   "outputs": [],
   "source": [
    "grasp_profile[\"finger_pos\"]"
   ]
  },
  {
   "cell_type": "code",
   "execution_count": null,
   "id": "c6d75415",
   "metadata": {},
   "outputs": [],
   "source": [
    "# close finger\n",
    "print(\"close finger\")\n",
    "finger_pos = grasp_profile[\"finger_pos\"].copy()\n",
    "\n",
    "if ROBOT_NAME == \"allegro\":   \n",
    "    for i in range(120):\n",
    "        controller.robots.set_joint_position_targets(finger_pos * i / 120) # \n",
    "        world.step(render=SHOW_IMAGE)       \n",
    "\n",
    "elif ROBOT_NAME == \"frankahand\":      \n",
    "    for i in range(100):\n",
    "        finger_pos -= 0.01\n",
    "        controller.robots.set_joint_position_targets(finger_pos) # \n",
    "        world.step(render=SHOW_IMAGE) \n",
    "\n",
    "elif ROBOT_NAME == \"shadowhand\": \n",
    "    dof_pos = finger_pos\n",
    "    for i in range(80):\n",
    "        # thumb\n",
    "        step_gain = 0.01\n",
    "        dof_pos[6] += step_gain\n",
    "        dof_pos[11] += 2 * step_gain \n",
    "        # dof_pos[16] += 0.01\n",
    "        dof_pos[21] += - step_gain\n",
    "\n",
    "\n",
    "        dof_pos[7] += step_gain \n",
    "        dof_pos[8] += step_gain \n",
    "        dof_pos[9] += step_gain \n",
    "        # dof_pos[14] += 0.01\n",
    "\n",
    "        dof_pos[12] += step_gain \n",
    "        dof_pos[13] += step_gain \n",
    "        dof_pos[14] += step_gain \n",
    "\n",
    "        dof_pos[17] += step_gain \n",
    "        dof_pos[18] += step_gain \n",
    "        dof_pos[19] += step_gain \n",
    "\n",
    "        # pinky\n",
    "        dof_pos[15] += step_gain\n",
    "        dof_pos[20] += step_gain\n",
    "        dof_pos[22] += step_gain \n",
    "\n",
    "        controller.robots.set_joint_position_targets(dof_pos) # \n",
    "        world.step(render=True)     \n",
    "        \n",
    "elif ROBOT_NAME == \"skeletonhand\": \n",
    "    # close finger\n",
    "    for i in range(120):\n",
    "        i  = i / 4\n",
    "        dof_pos = np.array([\n",
    "            [ i * 0.03,  i * 0.04, \n",
    "            i * 0.01,  -i * 0.04,  \n",
    "            i * 0.005, -i * 0.04, \n",
    "            -i * 0.02, -i * 0.04,  \n",
    "            -i * 0.01, -i * 0.04,  \n",
    "            -i * 0.02,  -i * 0.03,  -i * 0.03,  -i * 0.03,  -i * 0.03,\n",
    "            -i * 0.02,  -i * 0.03,  -i * 0.03,  -i * 0.03,  -i * 0.03, \n",
    "            ],\n",
    "        ])\n",
    "\n",
    "        # pos = np.random.randn(2,25)\n",
    "        controller.robots.set_joint_position_targets(dof_pos) # \n",
    "        world.step(render=SHOW_IMAGE)"
   ]
  },
  {
   "cell_type": "code",
   "execution_count": null,
   "id": "d9877d2f",
   "metadata": {},
   "outputs": [],
   "source": [
    "print(\"pull out\")\n",
    "# pull out\n",
    "if ROBOT_NAME == \"allegro\": \n",
    "    for i in range(300):\n",
    "        graps_pos[...,0] -= 0.001\n",
    "    #   env.robots.set_world_poses(graps_pos, grasp_rot)\n",
    "        controller.xforms.set_world_poses(graps_pos, grasp_rot)\n",
    "        controller.robots.set_joint_position_targets(finger_pos)\n",
    "        world.step(render=SHOW_IMAGE)\n",
    "\n",
    "elif ROBOT_NAME == \"frankahand\": \n",
    "    for i in range(300):\n",
    "        graps_pos[...,0] -= 0.001\n",
    "        controller.xforms.set_world_poses(graps_pos, grasp_rot)\n",
    "        controller.robots.set_joint_position_targets(finger_pos)\n",
    "        finger_pos += 0.015\n",
    "        world.step(render=SHOW_IMAGE)\n",
    "\n",
    "elif ROBOT_NAME == \"shadowhand\": \n",
    "    # pull out\n",
    "    for i in range(300):\n",
    "        graps_pos[...,0] -= 0.001\n",
    "    #   env.robots.set_world_poses(graps_pos, grasp_rot)\n",
    "        controller.xforms.set_world_poses(graps_pos, grasp_rot)\n",
    "        controller.robots.set_joint_position_targets(dof_pos)\n",
    "        dof_pos *= 0.996\n",
    "        # print(dof_pos)\n",
    "\n",
    "        world.step(render=SHOW_IMAGE)\n",
    "        \n",
    "elif ROBOT_NAME == \"skeletonhand\": \n",
    "    # pull out\n",
    "    for i in range(200):\n",
    "        graps_pos[...,0] -= 0.001\n",
    "    #   env.robots.set_world_poses(graps_pos, grasp_rot)\n",
    "        controller.xforms.set_world_poses(graps_pos, grasp_rot)\n",
    "        controller.robots.set_joint_position_targets(dof_pos)\n",
    "\n",
    "        world.step(render=SHOW_IMAGE)\n",
    "\n",
    "    dof_pos /= 1.5\n",
    "    # pull out furthur\n",
    "    for i in range(100):\n",
    "        graps_pos[...,0] -= 0.001\n",
    "    #   env.robots.set_world_poses(graps_pos, grasp_rot)\n",
    "        controller.xforms.set_world_poses(graps_pos, grasp_rot)\n",
    "        controller.robots.set_joint_position_targets(dof_pos)\n",
    "        world.step(render=SHOW_IMAGE)"
   ]
  },
  {
   "cell_type": "code",
   "execution_count": null,
   "id": "459fef64",
   "metadata": {},
   "outputs": [],
   "source": [
    "# check task\n",
    "task_checker.joint_checker.compute_percentage()"
   ]
  },
  {
   "cell_type": "markdown",
   "id": "1fd1b43c",
   "metadata": {},
   "source": [
    "# Reset"
   ]
  },
  {
   "cell_type": "code",
   "execution_count": null,
   "id": "3d70d53b",
   "metadata": {},
   "outputs": [],
   "source": [
    "world.reset()\n",
    "controller.xforms.set_world_poses(positions=np.array([[0,0,0]]), orientations = np.array([[1, 0, 0, 0]])) # WXYZ\n",
    "\n",
    "for _ in range(30):\n",
    "    world.step()"
   ]
  },
  {
   "cell_type": "code",
   "execution_count": null,
   "id": "dcf0062a",
   "metadata": {},
   "outputs": [],
   "source": [
    "world.scene.remove_object(mobility_obj_name)"
   ]
  },
  {
   "cell_type": "code",
   "execution_count": null,
   "id": "e7928d93",
   "metadata": {},
   "outputs": [],
   "source": [
    "world.step()"
   ]
  },
  {
   "cell_type": "code",
   "execution_count": null,
   "id": "41277b90",
   "metadata": {},
   "outputs": [],
   "source": []
  }
 ],
 "metadata": {
  "kernelspec": {
   "display_name": "Isaac Sim Python 3",
   "language": "python",
   "name": "isaac_sim_python3"
  },
  "language_info": {
   "codemirror_mode": {
    "name": "ipython",
    "version": 3
   },
   "file_extension": ".py",
   "mimetype": "text/x-python",
   "name": "python",
   "nbconvert_exporter": "python",
   "pygments_lexer": "ipython3",
   "version": "3.7.13"
  }
 },
 "nbformat": 4,
 "nbformat_minor": 5
}
