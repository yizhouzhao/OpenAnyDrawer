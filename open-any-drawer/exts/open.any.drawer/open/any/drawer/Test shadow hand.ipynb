{
 "cells": [
  {
   "cell_type": "code",
   "execution_count": null,
   "id": "b2a8a843",
   "metadata": {},
   "outputs": [],
   "source": [
    "!nvidia-smi"
   ]
  },
  {
   "cell_type": "code",
   "execution_count": null,
   "id": "e59f5ba9",
   "metadata": {},
   "outputs": [],
   "source": [
    "import numpy as np"
   ]
  },
  {
   "cell_type": "code",
   "execution_count": null,
   "id": "c50b0c6c",
   "metadata": {},
   "outputs": [],
   "source": [
    "world.reset()"
   ]
  },
  {
   "cell_type": "code",
   "execution_count": null,
   "id": "b9f0c7eb",
   "metadata": {},
   "outputs": [],
   "source": [
    "import getpass\n",
    "user = getpass.getuser()"
   ]
  },
  {
   "cell_type": "code",
   "execution_count": null,
   "id": "ea147ba8",
   "metadata": {},
   "outputs": [],
   "source": [
    "from omni.isaac.kit import SimulationApp\n",
    "\n",
    "usd_path = f\"omniverse://localhost/Users/{user}/shadow_hand.usd\"\n",
    "\n",
    "\n",
    "simulation_app = SimulationApp({\"headless\": True, \"open_usd\": usd_path, \"livesync_usd\": usd_path})\n"
   ]
  },
  {
   "cell_type": "code",
   "execution_count": null,
   "id": "4ceb4f00",
   "metadata": {},
   "outputs": [],
   "source": [
    "from omni.isaac.core import World\n",
    "world = World()"
   ]
  },
  {
   "cell_type": "code",
   "execution_count": null,
   "id": "2f3d284a",
   "metadata": {},
   "outputs": [],
   "source": [
    "from hand_env import HandEnv\n",
    "\n",
    "# env = HandEnv(\"/World/Hand/Bones/l_carpal_mid\", \"/World/Hand*/Bones/l_thumbSkeleton_grp/l_distalThumb_mid\")\n",
    "env = HandEnv(\"/World/shadow_hand*/robot0_hand_mount\", \"/World/AnchorXform\")"
   ]
  },
  {
   "cell_type": "code",
   "execution_count": null,
   "id": "c8edf820",
   "metadata": {},
   "outputs": [],
   "source": [
    "world.reset()"
   ]
  },
  {
   "cell_type": "code",
   "execution_count": null,
   "id": "f6e24022",
   "metadata": {},
   "outputs": [],
   "source": [
    "env.start()\n",
    "world.scene.add(env.robots)"
   ]
  },
  {
   "cell_type": "code",
   "execution_count": null,
   "id": "4ae74baf",
   "metadata": {},
   "outputs": [],
   "source": [
    "env.xforms.set_world_poses(positions=np.array([[0,0,0]]), orientations = np.array([[1, 0, 0, 0]])) # WXYZ\n",
    "\n",
    "for _ in range(30):\n",
    "    world.step(render=True)"
   ]
  },
  {
   "cell_type": "markdown",
   "id": "fc54b41f",
   "metadata": {},
   "source": [
    "# DOF examine"
   ]
  },
  {
   "cell_type": "code",
   "execution_count": null,
   "id": "d4adeee0",
   "metadata": {},
   "outputs": [],
   "source": [
    "for i, path in enumerate(env.robots._physics_view.dof_paths[0]):\n",
    "    print(i, path)"
   ]
  },
  {
   "cell_type": "code",
   "execution_count": null,
   "id": "4cadfe12",
   "metadata": {
    "scrolled": true
   },
   "outputs": [],
   "source": [
    "len(env.robots._physics_view.dof_paths[0])"
   ]
  },
  {
   "cell_type": "code",
   "execution_count": null,
   "id": "0dee8cbd",
   "metadata": {},
   "outputs": [],
   "source": [
    "dof_pos = np.array([\n",
    "    0.0\n",
    "] * 24)\n",
    "for i in range(60):\n",
    "    # thumb\n",
    "    dof_pos[6] += 0.01\n",
    "    dof_pos[11] += 0.02\n",
    "    # dof_pos[16] += 0.01\n",
    "    dof_pos[21] += -0.01\n",
    "    \n",
    "    \n",
    "    dof_pos[7] += 0.01\n",
    "    dof_pos[8] += 0.01\n",
    "    dof_pos[9] += 0.01\n",
    "    # dof_pos[14] += 0.01\n",
    "    \n",
    "    dof_pos[12] += 0.01\n",
    "    dof_pos[13] += 0.01\n",
    "    dof_pos[14] += 0.01\n",
    "    \n",
    "    dof_pos[17] += 0.01\n",
    "    dof_pos[18] += 0.01\n",
    "    dof_pos[19] += 0.01\n",
    "    \n",
    "    # pinky\n",
    "    dof_pos[15] += 0.01\n",
    "    dof_pos[20] += 0.01\n",
    "    dof_pos[22] += 0.01\n",
    "    \n",
    "    env.robots.set_joint_positions(dof_pos) # \n",
    "    world.step(render=True)"
   ]
  },
  {
   "cell_type": "code",
   "execution_count": null,
   "id": "890e2ddc",
   "metadata": {},
   "outputs": [],
   "source": [
    "env.robots.get_joint_positions()"
   ]
  },
  {
   "cell_type": "code",
   "execution_count": null,
   "id": "32328c69",
   "metadata": {},
   "outputs": [],
   "source": [
    "world.reset()"
   ]
  },
  {
   "cell_type": "code",
   "execution_count": null,
   "id": "e6a24c3c",
   "metadata": {},
   "outputs": [],
   "source": [
    "for i in range(60):\n",
    "    world.step(render=True)"
   ]
  },
  {
   "cell_type": "code",
   "execution_count": null,
   "id": "3ad8f31e",
   "metadata": {},
   "outputs": [],
   "source": []
  }
 ],
 "metadata": {
  "kernelspec": {
   "display_name": "Isaac Sim Python 3",
   "language": "python",
   "name": "isaac_sim_python3"
  },
  "language_info": {
   "codemirror_mode": {
    "name": "ipython",
    "version": 3
   },
   "file_extension": ".py",
   "mimetype": "text/x-python",
   "name": "python",
   "nbconvert_exporter": "python",
   "pygments_lexer": "ipython3",
   "version": "3.7.13"
  }
 },
 "nbformat": 4,
 "nbformat_minor": 5
}
