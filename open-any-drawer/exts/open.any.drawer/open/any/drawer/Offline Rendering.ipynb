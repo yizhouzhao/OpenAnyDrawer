{
 "cells": [
  {
   "cell_type": "code",
   "execution_count": 1,
   "id": "0fbf5a2e",
   "metadata": {},
   "outputs": [],
   "source": [
    "import os\n",
    "import torch\n",
    "import signal\n",
    "import argparse\n",
    "import numpy as np\n",
    "import carb\n",
    "from omni.isaac.kit import SimulationApp"
   ]
  },
  {
   "cell_type": "code",
   "execution_count": 2,
   "id": "7f73b4c0",
   "metadata": {},
   "outputs": [],
   "source": [
    "# Default rendering parameters\n",
    "CONFIG = {\"renderer\": \"RayTracedLighting\", \"headless\": True}"
   ]
  },
  {
   "cell_type": "code",
   "execution_count": 3,
   "id": "a860d065",
   "metadata": {},
   "outputs": [
    {
     "name": "stdout",
     "output_type": "stream",
     "text": [
      "Starting kit application with the fillowing args:  ['/home/yizhou/.local/share/ov/pkg/isaac_sim-2022.1.0/exts/omni.isaac.kit/omni/isaac/kit/simulation_app.py', '/home/yizhou/.local/share/ov/pkg/isaac_sim-2022.1.0/apps/omni.isaac.sim.python.kit', '--/app/tokens/exe-path=/home/yizhou/.local/share/ov/pkg/isaac_sim-2022.1.0/kit', '--/persistent/app/viewport/displayOptions=3094', '--/rtx/materialDb/syncLoads=True', '--/rtx/hydra/materialSyncLoads=True--/omni.kit.plugin/syncUsdLoads=True', '--/app/renderer/resolution/width=1280', '--/app/renderer/resolution/height=720', '--/app/window/width=1440', '--/app/window/height=900', '--/renderer/multiGpu/enabled=True', '--ext-folder', '/home/yizhou/.local/share/ov/pkg/isaac_sim-2022.1.0/exts', '--ext-folder', '/home/yizhou/.local/share/ov/pkg/isaac_sim-2022.1.0/apps', '--portable', '--no-window']\n",
      "Passing the following args to the base kit application:  ['-f', '/home/yizhou/.local/share/jupyter/runtime/kernel-fb002dfa-9dfd-46b5-9f53-ec0cc0e7510e.json']\n",
      "[Warning] [omni.kit.app.plugin] No crash reporter present, dumps uploading isn't available.\n",
      "[Info] [carb] Logging to file: /home/yizhou/.local/share/ov/pkg/isaac_sim-2022.1.0/kit/logs/Kit/Isaac-Sim/2022.1/kit_20220731_162646.log\n",
      "[0.080s] [ext: omni.stats-0.0.0] startup\n",
      "[0.096s] [ext: omni.gpu_foundation-0.0.0] startup\n",
      "2022-07-31 23:26:46 [94ms] [Warning] [carb] FrameworkImpl::setDefaultPlugin(client: omni.gpu_foundation_factory.plugin, desc : [carb::graphics::Graphics v2.5], plugin : carb.graphics-vulkan.plugin) failed. Plugin selection is locked, because the interface was previously acquired by: \n",
      "[0.103s] [ext: carb.windowing.plugins-1.0.0] startup\n",
      "2022-07-31 23:26:46 [104ms] [Warning] [carb.windowing-glfw.gamepad] Joystick with unknown remapping detected (will be ignored):  Microsoft Xbox One X pad [030000005e040000120b000009050000]\n",
      "[0.112s] [ext: omni.assets.plugins-0.0.0] startup\n",
      "[0.113s] [ext: omni.kit.renderer.init-0.0.0] startup\n",
      "\n",
      "|---------------------------------------------------------------------------------------------|\n",
      "| Driver Version: 510.73.5      | Graphics API: Vulkan\n",
      "|=============================================================================================|\n",
      "| GPU | Name                             | Active | LDA | GPU Memory | Vendor-ID | LUID       |\n",
      "|     |                                  |        |     |            | Device-ID | UUID       |\n",
      "|---------------------------------------------------------------------------------------------|\n",
      "| 0   | NVIDIA GeForce RTX 3090          | Yes: 0 |     | 24822   MB | 10de      | 0          |\n",
      "|     |                                  |        |     |            | 2204      | 3f50dd6e.. |\n",
      "|=============================================================================================|\n",
      "| OS: Linux yizhou-Z370-AORUS-Gaming-5, Version: 5.15.0-41-generic\n",
      "| Processor: Intel(R) Core(TM) i7-8700K CPU @ 3.70GHz | Cores: Unknown | Logical: 12\n",
      "|---------------------------------------------------------------------------------------------|\n",
      "| Total Memory (MB): 32046 | Free Memory: 26440\n",
      "| Total Page/Swap (MB): 2047 | Free Page/Swap: 2047\n",
      "|---------------------------------------------------------------------------------------------|\n",
      "2022-07-31 23:26:46 [678ms] [Warning] [carb.cudainterop.plugin] On Linux only, CUDA and the display driver does not support IOMMU-enabled bare-metal PCIe peer to peer memory copy.\n",
      "However, CUDA and the display driver does support IOMMU via VM pass through. As a consequence, users on Linux,\n",
      "when running on a native bare metal system, should disable the IOMMU. The IOMMU should be enabled and the VFIO driver\n",
      "be used as a PCIe pass through for virtual machines.\n",
      "[0.698s] [ext: omni.kit.pipapi-0.0.0] startup\n",
      "[0.755s] [ext: omni.kit.pip_archive-0.0.0] startup\n",
      "[0.763s] [ext: omni.isaac.core_archive-0.3.0] startup\n",
      "[0.789s] [ext: omni.usd.config-1.0.0] startup\n",
      "[0.791s] [ext: omni.usd.libs-1.0.0] startup\n",
      "[0.925s] [ext: omni.isaac.ml_archive-0.1.0] startup\n",
      "[0.966s] [ext: omni.kit.loop-isaac-0.1.0] startup\n",
      "[0.967s] [ext: omni.kit.async_engine-0.0.0] startup\n",
      "[0.968s] [ext: omni.appwindow-1.0.0] startup\n",
      "[0.971s] [ext: omni.client-0.1.0] startup\n",
      "[0.980s] [ext: omni.kit.test-0.0.0] startup\n",
      "[1.001s] [ext: omni.kit.renderer.core-0.0.0] startup\n",
      "[1.066s] [ext: omni.ui-2.10.3] startup\n",
      "[1.081s] [ext: carb.audio-0.1.0] startup\n",
      "[1.083s] [ext: omni.kit.mainwindow-0.0.0] startup\n",
      "[1.085s] [ext: omni.uiaudio-1.0.0] startup\n",
      "[1.086s] [ext: omni.kit.uiapp-0.0.0] startup\n",
      "[1.086s] [ext: omni.usd.schema.physics-1.0.0] startup\n",
      "[1.126s] [ext: omni.usd.schema.audio-0.0.0] startup\n",
      "[1.133s] [ext: omni.usd.schema.semantics-0.0.0] startup\n",
      "[1.142s] [ext: omni.usd.schema.omnigraph-1.0.0] startup\n",
      "[1.150s] [ext: omni.usd.schema.anim-0.0.0] startup\n",
      "[1.187s] [ext: omni.kit.commands-1.2.2] startup\n",
      "[1.191s] [ext: omni.timeline-1.0.2] startup\n",
      "[1.194s] [ext: omni.hydra.scene_delegate-0.2.0] startup\n",
      "[1.201s] [ext: omni.kit.audiodeviceenum-1.0.0] startup\n",
      "[1.202s] [ext: omni.usd-1.5.3] startup\n",
      "[1.525s] [ext: omni.kit.asset_converter-1.2.30] startup\n",
      "[1.566s] [ext: omni.usd.schema.isaac-0.2.0] startup\n",
      "[1.607s] [ext: omni.usd.schema.physx-0.0.0] startup\n",
      "[1.638s] [ext: omni.kit.search_core-1.0.2] startup\n",
      "[1.640s] [ext: omni.renderer-rtx-0.0.0] startup\n",
      "[1.640s] [ext: omni.kit.widget.graph-1.4.2] startup\n",
      "[1.646s] [ext: omni.kit.widget.filebrowser-2.2.26] startup\n",
      "[1.652s] [ext: omni.kit.window.popup_dialog-2.0.7] startup\n",
      "[1.656s] [ext: omni.mdl.neuraylib-0.1.0] startup\n",
      "[1.659s] [ext: omni.kit.widget.path_field-2.0.3] startup\n",
      "[1.660s] [ext: omni.kit.widget.versioning-1.3.8] startup\n",
      "[1.662s] [ext: omni.kit.notification_manager-1.0.5] startup\n",
      "[1.664s] [ext: omni.kit.widget.browser_bar-2.0.3] startup\n",
      "[1.665s] [ext: omni.kit.menu.utils-1.2.11] startup\n",
      "[1.675s] [ext: omni.kit.window.filepicker-2.4.29] startup\n"
     ]
    },
    {
     "name": "stderr",
     "output_type": "stream",
     "text": [
      "OmniAssetFileFormat\n"
     ]
    },
    {
     "name": "stdout",
     "output_type": "stream",
     "text": [
      "[1.761s] [ext: omni.mdl-0.1.0] startup\n",
      "[1.779s] [ext: omni.kit.menu.create-1.0.2] startup\n",
      "[1.780s] [ext: omni.kit.window.file_exporter-1.0.4] startup\n",
      "[1.781s] [ext: omni.kit.window.drop_support-1.0.0] startup\n",
      "[1.782s] [ext: omni.kit.material.library-1.3.10] startup\n",
      "[1.784s] [ext: omni.kit.window.property-1.6.3] startup\n",
      "[1.785s] [ext: omni.kit.context_menu-1.3.9] startup\n",
      "[1.789s] [ext: omni.kit.window.file_importer-1.0.4] startup\n",
      "[1.789s] [ext: omni.kit.stage_templates-1.1.2] startup\n",
      "[1.792s] [ext: omni.kit.widget.stage-2.6.15] startup\n",
      "[1.795s] [ext: omni.kit.window.file-1.3.16] startup\n",
      "[1.797s] [ext: omni.debugdraw-0.1.0] startup\n",
      "[1.802s] [ext: omni.kit.window.content_browser-2.4.28] startup\n",
      "[1.813s] [ext: omni.kit.widget.prompt-1.0.1] startup\n",
      "[1.814s] [ext: omni.kit.property.usd-3.14.8] startup\n",
      "[1.847s] [ext: omni.hydra.engine.stats-1.0.0] startup\n",
      "[1.853s] [ext: omni.kit.widget.settings-1.0.0] startup\n",
      "[1.855s] [ext: omni.graph.tools-1.3.5] startup\n",
      "[1.874s] [ext: omni.graph.core-2.27.0] startup\n",
      "[1.878s] [ext: omni.hydra.rtx-0.1.0] startup\n",
      "[1.887s] [ext: omni.kit.viewport.legacy_gizmos-1.0.0] startup\n",
      "[1.890s] [ext: omni.ui_query-1.1.1] startup\n",
      "[1.892s] [ext: omni.graph-1.22.1] startup\n",
      "[1.938s] [ext: omni.kit.window.viewport-0.0.0] startup\n"
     ]
    },
    {
     "name": "stderr",
     "output_type": "stream",
     "text": [
      "2022-07-31 23:26:48 [2,012ms] [Error] [rtx.neuraylib.plugin] [DYNLIB:IO]   0.1   DYNLIB io   error: /home/yizhou/.local/share/ov/pkg/isaac_sim-2022.1.0/kit/python/bin/libs/iray/libnvindex.so: cannot open shared object file: No such file or directory\n",
      "2022-07-31 23:26:48 [2,012ms] [Error] [rtx.neuraylib.plugin] [INDEX:MAIN]   0.1   INDEX  main error: Failed to load /home/yizhou/.local/share/ov/pkg/isaac_sim-2022.1.0/kit/python/bin/libs/iray/libnvindex.so\n"
     ]
    },
    {
     "name": "stdout",
     "output_type": "stream",
     "text": [
      "Warp initialized:\n",
      "   Version: 0.2.1\n",
      "   Using CUDA device: NVIDIA GeForce RTX 3090\n",
      "   Using CPU compiler: /usr/bin/g++\n",
      "[5.759s] [ext: omni.kit.window.preferences-1.2.1] startup\n",
      "[5.794s] [ext: omni.kit.ui_test-1.2.0] startup\n",
      "[5.796s] [ext: omni.graph.ui-1.6.1] startup\n",
      "[5.819s] [ext: omni.kvdb-0.0.0] startup\n",
      "[5.822s] [ext: omni.kit.widget.searchfield-1.0.6] startup\n",
      "[5.823s] [ext: omni.convexdecomposition-1.4.12] startup\n",
      "[5.826s] [ext: omni.graph.action-1.17.0] startup\n",
      "[5.838s] [ext: omni.localcache-0.0.0] startup\n",
      "[5.840s] [ext: omni.usdphysics-1.4.12] startup\n",
      "[5.843s] [ext: omni.graph.scriptnode-0.5.0] startup\n",
      "[5.845s] [ext: omni.physx-1.4.12-5.1] startup\n",
      "[5.886s] [ext: omni.kit.usd_undo-0.1.0] startup\n",
      "[5.887s] [ext: omni.graph.nodes-1.25.0] startup\n",
      "[5.955s] [ext: omni.physx.commands-1.4.12-5.1] startup\n",
      "[5.960s] [ext: omni.syntheticdata-0.2.1] startup\n",
      "[5.994s] [ext: omni.physx.ui-1.4.12-5.1] startup\n",
      "[6.076s] [ext: omni.warp-0.2.1] startup\n",
      "[7.338s] [ext: omni.kit.renderer.capture-0.0.0] startup\n",
      "[7.341s] [ext: omni.kit.property.material-1.8.5] startup\n",
      "[7.344s] [ext: omni.physx.demos-1.4.12-5.1] startup\n",
      "[7.346s] [ext: omni.physics.tensors-0.1.0] startup\n",
      "[7.354s] [ext: omni.kit.property.physx-0.1.0] startup\n",
      "2022-07-31 23:26:53 [7,405ms] [Warning] [omni.physx.plugin] Deprecated: getSimulationEventStream is deprecated, please use getSimulationEventStreamV2\n",
      "[7.415s] [ext: omni.kit.window.toolbar-1.2.4] startup\n",
      "[7.423s] [ext: omni.physx.tensors-0.1.0] startup\n",
      "[7.428s] [ext: omni.physx.vehicle-1.4.12-5.1] startup\n",
      "[7.439s] [ext: omni.physx.tests-1.4.12-5.1] startup\n",
      "[7.485s] [ext: omni.kit.numpy.common-0.1.0] startup\n",
      "[7.487s] [ext: omni.physx.camera-1.4.12-5.1] startup\n",
      "[7.494s] [ext: omni.physx.cct-1.4.12-5.1] startup\n",
      "[7.551s] [ext: omni.isaac.version-1.0.0] startup\n",
      "[7.552s] [ext: omni.isaac.dynamic_control-1.0.0] startup\n",
      "[7.559s] [ext: omni.physx.bundle-1.4.12-5.1] startup\n",
      "[7.559s] [ext: omni.kit.primitive.mesh-1.0.0] startup\n",
      "[7.563s] [ext: omni.command.usd-1.0.1] startup\n",
      "[7.566s] [ext: omni.isaac.core-1.15.1] startup\n",
      "[7.786s] [ext: omni.replicator.core-1.2.0] startup\n",
      "[7.876s] [ext: omni.kit.window.extensions-1.1.0] startup\n",
      "[7.881s] [ext: omni.isaac.core_nodes-0.9.0] startup\n",
      "[7.891s] [ext: omni.isaac.ui-0.2.1] startup\n",
      "[7.893s] [ext: omni.kit.window.script_editor-1.6.2] startup\n",
      "[7.901s] [ext: omni.isaac.wheeled_robots-0.5.4] startup\n",
      "[7.914s] [ext: omni.kit.menu.common-1.0.0] startup\n",
      "[7.915s] [ext: omni.kit.graph.delegate.default-1.0.15] startup\n",
      "[7.917s] [ext: omni.kit.graph.delegate.modern-1.6.0] startup\n",
      "[7.918s] [ext: omni.kit.widget.zoombar-1.0.3] startup\n",
      "[7.919s] [ext: omni.kit.graph.editor.core-1.3.3] startup\n",
      "[7.922s] [ext: omni.kit.widget.stage_icons-1.0.2] startup\n",
      "[7.923s] [ext: omni.kit.browser.core-2.0.12] startup\n",
      "[7.927s] [ext: omni.kit.graph.widget.variables-2.0.2] startup\n",
      "[7.928s] [ext: omni.kit.window.stage-2.3.7] startup\n",
      "[7.932s] [ext: omni.kit.browser.folder.core-1.1.13] startup\n",
      "[7.934s] [ext: omni.graph.window.core-1.22.1] startup\n",
      "[7.939s] [ext: omni.isaac.lula-1.1.0] startup\n",
      "[7.948s] [ext: omni.graph.instancing-1.1.4] startup\n",
      "[7.954s] [ext: omni.graph.window.action-1.3.8] startup\n",
      "[7.956s] [ext: omni.graph.tutorials-1.1.2] startup\n",
      "[7.969s] [ext: omni.rtx.window.settings-0.6.1] startup\n",
      "[7.974s] [ext: omni.isaac.motion_planning-0.2.0] startup\n",
      "[7.981s] [ext: omni.graph.bundle.action-1.0.0] startup\n",
      "[7.981s] [ext: omni.rtx.settings.core-0.5.5] startup\n",
      "[7.986s] [ext: omni.isaac.motion_generation-3.1.2] startup\n",
      "[7.990s] [ext: omni.isaac.kit-0.1.9] startup\n",
      "[7.990s] [ext: omni.isaac.debug_draw-0.1.2] startup\n",
      "[7.996s] [ext: omni.kit.selection-0.1.0] startup\n",
      "[7.997s] [ext: omni.isaac.franka-0.0.0] startup\n",
      "[7.998s] [ext: omni.kit.widget.layers-1.5.17] startup\n",
      "[8.010s] [ext: omni.kit.menu.edit-1.0.6] startup\n",
      "[8.012s] [ext: omni.isaac.isaac_sensor-0.3.4] startup\n",
      "2022-07-31 23:26:54 [8,010ms] [Warning] [omni.physx.plugin] Deprecated: getSimulationEventStream is deprecated, please use getSimulationEventStreamV2\n",
      "[8.019s] [ext: omni.kit.widget.live-0.1.0] startup\n",
      "[8.023s] [ext: omni.isaac.surface_gripper-0.1.2] startup\n",
      "[8.028s] [ext: omni.kit.property.layer-1.1.2] startup\n",
      "[8.030s] [ext: omni.isaac.range_sensor-0.4.2] startup\n",
      "[8.055s] [ext: omni.graph.wi"
     ]
    }
   ],
   "source": [
    "kit = SimulationApp(launch_config=CONFIG)"
   ]
  },
  {
   "cell_type": "code",
   "execution_count": 4,
   "id": "608dc7db",
   "metadata": {},
   "outputs": [],
   "source": [
    "from omni.isaac.core import World"
   ]
  },
  {
   "cell_type": "code",
   "execution_count": 5,
   "id": "2627de97",
   "metadata": {},
   "outputs": [],
   "source": [
    "world = World()\n",
    "# world.reset()"
   ]
  },
  {
   "cell_type": "code",
   "execution_count": 6,
   "id": "36434093",
   "metadata": {},
   "outputs": [],
   "source": [
    "# kit.close()"
   ]
  },
  {
   "cell_type": "code",
   "execution_count": 7,
   "id": "378a5fe2",
   "metadata": {},
   "outputs": [],
   "source": [
    "from open_env import OpenEnv"
   ]
  },
  {
   "cell_type": "code",
   "execution_count": 8,
   "id": "1ece1abe",
   "metadata": {},
   "outputs": [],
   "source": [
    "env = OpenEnv()"
   ]
  },
  {
   "cell_type": "code",
   "execution_count": 9,
   "id": "46bd02af",
   "metadata": {},
   "outputs": [
    {
     "name": "stdout",
     "output_type": "stream",
     "text": [
      "add object\n",
      "omni client Result.OK ['35059', '40417', '40453', '41004', '41083', '41085', '41086', '41529', '44781', '44817', '44826', '44853', '44962', '45087', '45092', '45135', '45146', '45159', '45162', '45164', '45168', '45173', '45176', '45178', '45189', '45194', '45203', '45219', '45238', '45244', '45248', '45249', '45262', '45271', '45290', '45372', '45378', '45384', '45385', '45397', '45403', '45413', '45415', '45419', '45423', '45427', '45444', '45448', '45463', '45524', '45526', '45600', '45606', '45612', '45620', '45622', '45632', '45642', '45662', '45667', '45670', '45671', '45676', '45689', '45699', '45710', '45717', '45725', '45746', '45749', '45756', '45759', '45767', '45776', '45779', '45780', '45783', '45784', '45801', '45855', '45910', '45915', '45922', '45937', '45949', '45950', '45961', '45964', '46014', '46019', '46033', '46037', '46045', '46057', '46060', '46084', '46107', '46108', '46117', '46120', '46123', '46132', '46134', '46166', '46172', '46179', '46197', '46380', '46401', '46403', '46408', '46417', '46427', '46437', '46440', '46452', '46456', '46462', '46466', '46480', '46481', '46544', '46556', '46616', '46653', '46699', '46741', '46744', '46762', '46768', '46801', '46859', '46874', '46896', '46906', '46922', '46944', '46955', '46981', '47021', '47024', '47099', '47133', '47168', '47180', '47183', '47185', '47187', '47233', '47235', '47238', '47252', '47254', '47278', '47296', '47316', '47388', '47514', '47529', '47570', '47577', '47585', '47595', '47601', '47613', '47632', '47651', '47686', '47701', '47711', '47729', '47747', '47808', '47944', '47954', '47963', '47976', '48010', '48013', '48023', '48036', '48169', '48243', '48253', '48271', '48467', '48479', '48491', '48519', '48623', '48721', '48746', '48797', '48859', '48876', '49025', '49038', '49132', 'parsed_StorageFurniture_indexes.json']\n",
      "physics material: path:  /World/Game/mobility/link_0/visuals/handle_7/physicsMaterial\n",
      "add physics material to handle\n"
     ]
    }
   ],
   "source": [
    "env.add_object(0, scale = 0.1)"
   ]
  },
  {
   "cell_type": "code",
   "execution_count": 10,
   "id": "91e93acc",
   "metadata": {},
   "outputs": [],
   "source": [
    "from task.instructor import SceneInstructor"
   ]
  },
  {
   "cell_type": "code",
   "execution_count": 11,
   "id": "a6b0de3a",
   "metadata": {},
   "outputs": [],
   "source": [
    "scene_instr = SceneInstructor()"
   ]
  },
  {
   "cell_type": "code",
   "execution_count": 12,
   "id": "95aa5da8",
   "metadata": {},
   "outputs": [
    {
     "name": "stdout",
     "output_type": "stream",
     "text": [
      "b1paths PhysicsFixedJoint [Sdf.Path('/World/Game/mobility/link_1')]\n",
      "b1paths PhysicsRevoluteJoint [Sdf.Path('/World/Game/mobility/link_0')]\n"
     ]
    }
   ],
   "source": [
    "scene_instr.analysis()\n",
    "scene_instr.add_semantic_to_handle()"
   ]
  },
  {
   "cell_type": "code",
   "execution_count": 13,
   "id": "30ed10de",
   "metadata": {},
   "outputs": [],
   "source": [
    "# scene_instr.export_data()"
   ]
  },
  {
   "cell_type": "code",
   "execution_count": 14,
   "id": "f23fd621",
   "metadata": {},
   "outputs": [],
   "source": [
    "def run_orchestrator():\n",
    "    rep.orchestrator.run()\n",
    "\n",
    "    # Wait until started\n",
    "    while not rep.orchestrator.get_is_started():\n",
    "        kit.update()\n",
    "\n",
    "    # Wait until stopped\n",
    "    while rep.orchestrator.get_is_started():\n",
    "        kit.update()\n",
    "\n",
    "    rep.BackendDispatch.wait_until_done()"
   ]
  },
  {
   "cell_type": "code",
   "execution_count": 15,
   "id": "b2166818",
   "metadata": {},
   "outputs": [
    {
     "name": "stdout",
     "output_type": "stream",
     "text": [
      "ndow.generic-1.3.8] startup\n",
      "[8.057s] [ext: omni.isaac.utils-0.1.11] startup\n",
      "[8.060s] [ext: omni.isaac.universal_robots-0.2.1] startup\n",
      "[8.061s] [ext: omni.kit.property.audio-1.0.5] startup\n",
      "[8.062s] [ext: omni.kit.property.skel-1.0.1] startup\n",
      "[8.064s] [ext: omni.kit.property.render-1.1.0] startup\n",
      "[8.065s] [ext: omni.kit.property.camera-1.0.3] startup\n",
      "[8.066s] [ext: omni.kit.property.geometry-1.2.0] startup\n",
      "[8.068s] [ext: omni.kit.property.light-1.0.5] startup\n",
      "[8.069s] [ext: omni.kit.property.transform-1.0.2] startup\n",
      "[8.072s] [ext: omni.isaac.occupancy_map-0.2.4] startup\n",
      "[8.086s] [ext: omni.ui.scene-1.4.6] startup\n",
      "[8.092s] [ext: omni.kit.window.console-0.2.0] startup\n",
      "[8.098s] [ext: omni.kit.window.status_bar-0.1.1] startup\n",
      "[8.103s] [ext: omni.kit.property.bundle-1.2.4] startup\n",
      "[8.104s] [ext: omni.kit.menu.file-1.0.8] startup\n",
      "[8.105s] [ext: omni.kit.manipulator.viewport-1.0.6] startup\n",
      "[8.107s] [ext: omni.isaac.urdf-0.2.2] startup\n",
      "[8.135s] [ext: omni.isaac.dofbot-0.2.0] startup\n",
      "[8.136s] [ext: omni.kit.window.title-1.1.1] startup\n",
      "[8.137s] [ext: omni.kit.profiler.window-1.4.4] startup\n",
      "[8.140s] [ext: omni.graph.visualization.nodes-1.1.1] startup\n",
      "[8.144s] [ext: omni.isaac.synthetic_utils-0.2.1] startup\n",
      "[8.150s] [ext: semantics.schema.editor-0.2.2] startup\n",
      "[8.153s] [ext: omni.isaac.sim.python-2022.1.0] startup\n",
      "[8.154s] Simulation App Starting\n",
      "[12.518s] app ready\n",
      "[12.587s] Simulation App Startup Complete\n",
      "2022-07-31 23:26:58 [12,685ms] [Warning] [carb.flatcache.plugin] Type tag does not have a corresponding USD type\n",
      "2022-07-31 23:27:22 [36,644ms] [Warning] [omni.physx.plugin] PhysicsUSD: Parse collision - triangle mesh collision (approximation None/MeshSimplifixation) cannot be a part of a dynamic body, falling back to convexHull approximation: /World/Game/mobility/link_0/visuals/handle_7\n",
      "2022-07-31 23:27:22 [36,645ms] [Warning] [omni.physx.plugin] The rigid body at /World/Game/mobility/base has a possibly invalid inertia tensor of {1.0, 1.0, 1.0} and a negative mass. Either specify correct values in the mass properties, or add collider(s) to any shape(s) that you wish to automatically compute mass properties for. If you do not want the objects to collide, add colliders regardless then disable the 'enable collision' property.\n",
      "2022-07-31 23:27:22 [36,670ms] [Warning] [omni.hydra] Mesh /World/Game/mobility/link_1/visuals/back_panel_16 has corrupted data in primvar st: buffer size 36 doesn't match expected size 72 in faceVarying primvars\n",
      "2022-07-31 23:27:22 [36,670ms] [Warning] [omni.hydra] Mesh /World/Game/mobility/link_1/visuals/vertical_side_panel_16 has corrupted data in primvar st: buffer size 18 doesn't match expected size 48 in faceVarying primvars\n",
      "2022-07-31 23:27:22 [36,670ms] [Warning] [omni.hydra] Mesh /World/Game/mobility/link_1/visuals/other_leaf_24 has corrupted data in primvar st: buffer size 24 doesn't match expected size 48 in faceVarying primvars\n",
      "2022-07-31 23:27:22 [36,670ms] [Warning] [omni.hydra] Mesh /World/Game/mobility/link_1/visuals/vertical_side_panel_15 has corrupted data in primvar st: buffer size 18 doesn't match expected size 48 in faceVarying primvars\n",
      "2022-07-31 23:27:22 [36,670ms] [Warning] [omni.hydra] Mesh /World/Game/mobility/link_1/visuals/shelf_4 has corrupted data in primvar st: buffer size 18 doesn't match expected size 36 in faceVarying primvars\n",
      "2022-07-31 23:27:22 [36,670ms] [Warning] [omni.hydra] Mesh /World/Game/mobility/link_1/visuals/vertical_side_panel_17 has corrupted data in primvar st: buffer size 18 doesn't match expected size 48 in faceVarying primvars\n",
      "2022-07-31 23:27:22 [36,670ms] [Warning] [omni.hydra] Mesh /World/Game/mobility/link_1/visuals/other_leaf_22 has corrupted data in primvar st: buffer size 24 doesn't match expected size 48 in faceVarying primvars\n",
      "2022-07-31 23:27:22 [36,670ms] [Warning] [omni.hydra] Mesh /World/Game/mobility/link_1/visuals/vertical_side_panel_14 has corrupted data in primvar st: buffer size 18 doesn't match expected size 48 in faceVarying primvars\n",
      "2022-07-31 23:27:22 [36,670ms] [Warning] [omni.hydra] Mesh /World/Game/mobility/link_1/visuals/other_leaf_23 has corrupted data in primvar st: buffer size 24 doesn't match expected size 48 in faceVarying primvars\n",
      "2022-07-31 23:27:22 [36,670ms] [Warning] [omni.hydra] Mesh /World/Game/mobility/link_1/visuals/frame_vertical_bar_25 has corrupted data in primvar st: buffer size 18 doesn't match expected size 72 in faceVarying primvars\n",
      "2022-07-31 23:27:22 [36,670ms] [Warning] [omni.hydra] Mesh /World/Game/mobility/link_1/visuals/other_leaf_21 has corrupted data in primvar st: buffer size 24 doesn't match expected size 48 in faceVarying primvars\n",
      "2022-07-31 23:27:22 [36,670ms] [Warning] [omni.hydra] Mesh /World/Game/mobility/link_1/visuals/frame_vertical_bar_25 has corrupted data in primvar st_1: buffer size 18 doesn't match expected size 72 in faceVarying primvars\n",
      "2022-07-31 23:27:22 [36,670ms] [Warning] [omni.hydra] Mesh /World/Game/mobility/link_1/visuals/vertical_side_panel_17 has corrupted data in primvar st_1: buffer size 6 doesn't match expected size 48 in faceVarying primvars\n",
      "2022-07-31 23:27:22 [36,670ms] [Warning] [omni.hydra] Mesh /World/Game/mobility/link_1/visuals/vertical_side_panel_14 has corrupted data in primvar st_1: buffer size 6 doesn't match expected size 48 in faceVarying primvars\n",
      "2022-07-31 23:27:22 [36,670ms] [Warning] [omni.hydra] Mesh /World/Game/mobility/link_1/visuals/vertical_side_panel_16 has corrupted data in primvar st_1: buffer size 6 doesn't match expected size 48 in faceVarying primvars\n",
      "2022-07-31 23:27:22 [36,670ms] [Warning] [omni.hydra] Mesh /World/Game/mobility/link_1/visuals/vertical_side_panel_15 has corrupted data in primvar st_1: buffer size 6 doesn't match expected size 48 in faceVarying primvars\n",
      "2022-07-31 23:27:22 [36,670ms] [Warning] [omni.hydra] Mesh /World/Game/mobility/link_1/visuals/frame_horizontal_bar_28 has corrupted data in primvar st: buffer size 24 doesn't match expected size 48 in faceVarying primvars\n",
      "2022-07-31 23:27:22 [36,670ms] [Warning] [omni.hydra] Mesh /World/Game/mobility/link_1/visuals/frame_horizontal_bar_27 has corrupted data in primvar st: buffer size 18 doesn't match expected size 48 in faceVarying primvars\n",
      "2022-07-31 23:27:22 [36,670ms] [Warning] [omni.hydra] Mesh /World/Game/mobility/link_1/visuals/frame_vertical_bar_26 has corrupted data in primvar st: buffer size 18 doesn't match expected size 72 in faceVarying primvars\n",
      "2022-07-31 23:27:22 [36,670ms] [Warning] [omni.hydra] Mesh /World/Game/mobility/link_1/visuals/frame_horizontal_bar_29 has corrupted data in primvar st: buffer size 18 doesn't match expected size 48 in faceVarying primvars\n",
      "2022-07-31 23:27:22 [36,670ms] [Warning] [omni.hydra] Mesh /World/Game/mobility/link_1/visuals/base_side_panel_9 has corrupted data in primvar st: buffer size 36 doesn't match expected size 72 in faceVarying primvars\n",
      "2022-07-31 23:27:22 [36,670ms] [Warning] [omni.hydra] Mesh /World/Game/mobility/link_1/visuals/base_side_panel_10 has corrupted data in primvar st: buffer size 18 doesn't match expected size 72 in faceVarying primvars\n",
      "2022-07-31 23:27:22 [36,670ms] [Warning] [omni.hydra] Mesh /World/Game/mobility/link_1/visuals/base_side_panel_11 has corrupted data in primvar st: buffer size 6 doesn't match expected size 72 in faceVarying primvars\n",
      "2022-07-31 23:27:22 [36,670ms] [Warning] [omni.hydra] Mesh /World/Game/mobility/link_1/visuals/bottom_panel_13 has corrupted data in primvar st: buffer size 66 doesn't match expected size 72 in faceVarying primvars\n",
      "2022-07-31 23:27:22 [36,670ms] [Warning] [omni.hydra] Mesh /World/Game/mobility/link_1/visuals/base_side_panel_12 has corrupted data in primvar st: buffer size 18 doesn't match expected size 72 in faceVarying primvars\n",
      "2022-07-31 23:27:22 [36,670ms] [Warning] [omni.hydra] Mesh /World/Game/mobility/link_1/visuals/frame_horizontal_bar_27 has corrupted data in primvar st_1: buffer size 6 doesn't match expected size 48 in faceVarying primvars\n",
      "2022-07-31 23:27:22 [36,670ms] [Warning] [omni.hydra] Mesh /World/Game/mobility/link_1/visuals/base_side_panel_11 has corrupted data in primvar st_1: buffer size 30 doesn't match expected size 72 in faceVarying primvars\n",
      "2022-07-31 23:27:22 [36"
     ]
    }
   ],
   "source": [
    "import omni.replicator.core as rep\n",
    "\n",
    "with rep.new_layer():\n",
    "    camera = rep.create.camera(position=(-10 * scene_instr.scale, 0, 5 * scene_instr.scale), rotation=(90, 0, -90))\n",
    "    render_product = rep.create.render_product(camera, (256, 256))\n",
    "\n",
    "     # Initialize and attach writer\n",
    "    writer = rep.WriterRegistry.get(\"BasicWriter\")\n",
    "    writer.initialize( output_dir=scene_instr.output_path, rgb=True, bounding_box_2d_tight=True)\n",
    "    writer.attach([render_product])\n",
    "\n",
    "    with rep.trigger.on_frame(num_frames=1):\n",
    "        pass\n",
    "    \n",
    "    world.step(render=True)\n",
    "    # run_orchestrator()"
   ]
  },
  {
   "cell_type": "code",
   "execution_count": 21,
   "id": "f8e994d2",
   "metadata": {},
   "outputs": [
    {
     "name": "stdout",
     "output_type": "stream",
     "text": [
      "False\n"
     ]
    }
   ],
   "source": [
    "# rep.orchestrator.preview()\n",
    "rep.orchestrator.run()\n",
    "print(rep.orchestrator.get_is_started())\n",
    "world.step()"
   ]
  },
  {
   "cell_type": "code",
   "execution_count": null,
   "id": "380d82b7",
   "metadata": {},
   "outputs": [],
   "source": [
    "kit.close()"
   ]
  },
  {
   "cell_type": "code",
   "execution_count": 19,
   "id": "da5f856f",
   "metadata": {},
   "outputs": [
    {
     "data": {
      "text/plain": [
       "False"
      ]
     },
     "execution_count": 19,
     "metadata": {},
     "output_type": "execute_result"
    }
   ],
   "source": []
  },
  {
   "cell_type": "code",
   "execution_count": null,
   "id": "a6613a41",
   "metadata": {},
   "outputs": [],
   "source": []
  }
 ],
 "metadata": {
  "kernelspec": {
   "display_name": "Isaac Sim Python 3",
   "language": "python",
   "name": "isaac_sim_python3"
  },
  "language_info": {
   "codemirror_mode": {
    "name": "ipython",
    "version": 3
   },
   "file_extension": ".py",
   "mimetype": "text/x-python",
   "name": "python",
   "nbconvert_exporter": "python",
   "pygments_lexer": "ipython3",
   "version": "3.7.13"
  }
 },
 "nbformat": 4,
 "nbformat_minor": 5
}
