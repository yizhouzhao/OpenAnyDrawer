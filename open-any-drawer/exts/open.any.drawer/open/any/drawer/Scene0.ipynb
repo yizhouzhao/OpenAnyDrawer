{
 "cells": [
  {
   "cell_type": "code",
   "execution_count": 1,
   "id": "4700ccf5",
   "metadata": {},
   "outputs": [],
   "source": [
    "import numpy as np\n",
    "\n",
    "import getpass\n",
    "user = getpass.getuser()"
   ]
  },
  {
   "cell_type": "code",
   "execution_count": 2,
   "id": "8782567e",
   "metadata": {},
   "outputs": [],
   "source": [
    "from PIL import Image"
   ]
  },
  {
   "cell_type": "code",
   "execution_count": 3,
   "id": "b3afe5ce",
   "metadata": {},
   "outputs": [
    {
     "name": "stdout",
     "output_type": "stream",
     "text": [
      "Starting kit application with the fillowing args:  ['/home/yizhou/.local/share/ov/pkg/isaac_sim-2022.1.0/exts/omni.isaac.kit/omni/isaac/kit/simulation_app.py', '/home/yizhou/.local/share/ov/pkg/isaac_sim-2022.1.0/apps/omni.isaac.sim.python.kit', '--/app/tokens/exe-path=/home/yizhou/.local/share/ov/pkg/isaac_sim-2022.1.0/kit', '--/persistent/app/viewport/displayOptions=3094', '--/rtx/materialDb/syncLoads=True', '--/rtx/hydra/materialSyncLoads=True--/omni.kit.plugin/syncUsdLoads=True', '--/app/renderer/resolution/width=1280', '--/app/renderer/resolution/height=720', '--/app/window/width=1440', '--/app/window/height=900', '--/renderer/multiGpu/enabled=True', '--ext-folder', '/home/yizhou/.local/share/ov/pkg/isaac_sim-2022.1.0/exts', '--ext-folder', '/home/yizhou/.local/share/ov/pkg/isaac_sim-2022.1.0/apps', '--portable', '--no-window']\n",
      "Passing the following args to the base kit application:  ['-f', '/home/yizhou/.local/share/jupyter/runtime/kernel-b9b8ad88-5113-45c7-8568-ad52aab84ae0.json']\n",
      "[Warning] [omni.kit.app.plugin] No crash reporter present, dumps uploading isn't available.\n",
      "[Info] [carb] Logging to file: /home/yizhou/.local/share/ov/pkg/isaac_sim-2022.1.0/kit/logs/Kit/Isaac-Sim/2022.1/kit_20220802_133818.log\n",
      "[0.077s] [ext: omni.stats-0.0.0] startup\n",
      "[0.093s] [ext: omni.gpu_foundation-0.0.0] startup\n",
      "2022-08-02 20:38:18 [92ms] [Warning] [carb] FrameworkImpl::setDefaultPlugin(client: omni.gpu_foundation_factory.plugin, desc : [carb::graphics::Graphics v2.5], plugin : carb.graphics-vulkan.plugin) failed. Plugin selection is locked, because the interface was previously acquired by: \n",
      "[0.100s] [ext: carb.windowing.plugins-1.0.0] startup\n",
      "2022-08-02 20:38:18 [102ms] [Warning] [carb.windowing-glfw.gamepad] Joystick with unknown remapping detected (will be ignored):  Microsoft Xbox One X pad [030000005e040000120b000009050000]\n",
      "[0.109s] [ext: omni.assets.plugins-0.0.0] startup\n",
      "[0.110s] [ext: omni.kit.renderer.init-0.0.0] startup\n",
      "\n",
      "|---------------------------------------------------------------------------------------------|\n",
      "| Driver Version: 510.73.5      | Graphics API: Vulkan\n",
      "|=============================================================================================|\n",
      "| GPU | Name                             | Active | LDA | GPU Memory | Vendor-ID | LUID       |\n",
      "|     |                                  |        |     |            | Device-ID | UUID       |\n",
      "|---------------------------------------------------------------------------------------------|\n",
      "| 0   | NVIDIA GeForce RTX 3090          | Yes: 0 |     | 24822   MB | 10de      | 0          |\n",
      "|     |                                  |        |     |            | 2204      | 3f50dd6e.. |\n",
      "|=============================================================================================|\n",
      "| OS: Linux yizhou-Z370-AORUS-Gaming-5, Version: 5.15.0-41-generic\n",
      "| Processor: Intel(R) Core(TM) i7-8700K CPU @ 3.70GHz | Cores: Unknown | Logical: 12\n",
      "|---------------------------------------------------------------------------------------------|\n",
      "| Total Memory (MB): 32046 | Free Memory: 14812\n",
      "| Total Page/Swap (MB): 2047 | Free Page/Swap: 2047\n",
      "|---------------------------------------------------------------------------------------------|\n",
      "2022-08-02 20:38:19 [823ms] [Warning] [carb.cudainterop.plugin] On Linux only, CUDA and the display driver does not support IOMMU-enabled bare-metal PCIe peer to peer memory copy.\n",
      "However, CUDA and the display driver does support IOMMU via VM pass through. As a consequence, users on Linux,\n",
      "when running on a native bare metal system, should disable the IOMMU. The IOMMU should be enabled and the VFIO driver\n",
      "be used as a PCIe pass through for virtual machines.\n",
      "[0.841s] [ext: omni.kit.pipapi-0.0.0] startup\n",
      "[0.850s] [ext: omni.kit.pip_archive-0.0.0] startup\n",
      "[0.854s] [ext: omni.isaac.core_archive-0.3.0] startup\n",
      "[0.873s] [ext: omni.usd.config-1.0.0] startup\n",
      "[0.876s] [ext: omni.usd.libs-1.0.0] startup\n",
      "[1.016s] [ext: omni.isaac.ml_archive-0.1.0] startup\n",
      "[1.064s] [ext: omni.kit.loop-isaac-0.1.0] startup\n",
      "[1.064s] [ext: omni.kit.async_engine-0.0.0] startup\n",
      "[1.066s] [ext: omni.appwindow-1.0.0] startup\n",
      "[1.069s] [ext: omni.client-0.1.0] startup\n",
      "[1.079s] [ext: omni.kit.test-0.0.0] startup\n",
      "[1.103s] [ext: omni.kit.renderer.core-0.0.0] startup\n",
      "[1.172s] [ext: omni.ui-2.10.3] startup\n",
      "[1.188s] [ext: carb.audio-0.1.0] startup\n",
      "[1.210s] [ext: omni.kit.mainwindow-0.0.0] startup\n",
      "[1.212s] [ext: omni.uiaudio-1.0.0] startup\n",
      "[1.213s] [ext: omni.kit.uiapp-0.0.0] startup\n",
      "[1.213s] [ext: omni.usd.schema.physics-1.0.0] startup\n",
      "[1.254s] [ext: omni.usd.schema.audio-0.0.0] startup\n",
      "[1.261s] [ext: omni.usd.schema.semantics-0.0.0] startup\n",
      "[1.272s] [ext: omni.usd.schema.omnigraph-1.0.0] startup\n",
      "[1.281s] [ext: omni.usd.schema.anim-0.0.0] startup\n",
      "[1.323s] [ext: omni.kit.commands-1.2.2] startup\n",
      "[1.328s] [ext: omni.timeline-1.0.2] startup\n",
      "[1.330s] [ext: omni.hydra.scene_delegate-0.2.0] startup\n",
      "[1.337s] [ext: omni.kit.audiodeviceenum-1.0.0] startup\n",
      "[1.339s] [ext: omni.usd-1.5.3] startup\n",
      "[1.420s] [ext: omni.kit.asset_converter-1.2.30] startup\n",
      "[1.433s] [ext: omni.usd.schema.isaac-0.2.0] startup\n",
      "[1.476s] [ext: omni.usd.schema.physx-0.0.0] startup\n",
      "[1.503s] [ext: omni.kit.search_core-1.0.2] startup\n",
      "[1.504s] [ext: omni.renderer-rtx-0.0.0] startup\n",
      "[1.505s] [ext: omni.kit.widget.graph-1.4.2] startup\n",
      "[1.512s] [ext: omni.kit.widget.filebrowser-2.2.26] startup\n",
      "[1.518s] [ext: omni.kit.window.popup_dialog-2.0.7] startup\n",
      "[1.522s] [ext: omni.mdl.neuraylib-0.1.0] startup\n",
      "[1.526s] [ext: omni.kit.widget.path_field-2.0.3] startup\n",
      "[1.527s] [ext: omni.kit.widget.versioning-1.3.8] startup\n",
      "[1.529s] [ext: omni.kit.notification_manager-1.0.5] startup\n",
      "[1.531s] [ext: omni.kit.widget.browser_bar-2.0.3] startup\n",
      "[1.532s] [ext: omni.kit.menu.utils-1.2.11] startup\n",
      "[1.543s] [ext: omni.kit.window.filepicker-2.4.29] startup\n"
     ]
    },
    {
     "name": "stderr",
     "output_type": "stream",
     "text": [
      "OmniAssetFileFormat\n"
     ]
    },
    {
     "name": "stdout",
     "output_type": "stream",
     "text": [
      "[1.595s] [ext: omni.mdl-0.1.0] startup\n",
      "[1.615s] [ext: omni.kit.menu.create-1.0.2] startup\n",
      "[1.616s] [ext: omni.kit.window.file_exporter-1.0.4] startup\n",
      "[1.617s] [ext: omni.kit.window.drop_support-1.0.0] startup\n",
      "[1.618s] [ext: omni.kit.material.library-1.3.10] startup\n",
      "[1.620s] [ext: omni.kit.window.property-1.6.3] startup\n",
      "[1.621s] [ext: omni.kit.context_menu-1.3.9] startup\n",
      "[1.625s] [ext: omni.kit.window.file_importer-1.0.4] startup\n",
      "[1.626s] [ext: omni.kit.stage_templates-1.1.2] startup\n",
      "[1.627s] [ext: omni.kit.widget.stage-2.6.15] startup\n",
      "[1.632s] [ext: omni.kit.window.file-1.3.16] startup\n",
      "[1.634s] [ext: omni.debugdraw-0.1.0] startup\n",
      "[1.640s] [ext: omni.kit.window.content_browser-2.4.28] startup\n",
      "[1.651s] [ext: omni.kit.widget.prompt-1.0.1] startup\n",
      "[1.652s] [ext: omni.kit.property.usd-3.14.8] startup\n",
      "[1.687s] [ext: omni.hydra.engine.stats-1.0.0] startup\n",
      "[1.694s] [ext: omni.kit.widget.settings-1.0.0] startup\n",
      "[1.695s] [ext: omni.graph.tools-1.3.5] startup\n",
      "[1.720s] [ext: omni.graph.core-2.27.0] startup\n",
      "[1.724s] [ext: omni.hydra.rtx-0.1.0] startup\n",
      "[1.733s] [ext: omni.kit.viewport.legacy_gizmos-1.0.0] startup\n",
      "[1.737s] [ext: omni.ui_query-1.1.1] startup\n",
      "[1.739s] [ext: omni.graph-1.22.1] startup\n",
      "[1.833s] [ext: omni.kit.window.viewport-0.0.0] startup\n"
     ]
    },
    {
     "name": "stderr",
     "output_type": "stream",
     "text": [
      "2022-08-02 20:38:20 [1,919ms] [Error] [rtx.neuraylib.plugin] [DYNLIB:IO]   0.1   DYNLIB io   error: /home/yizhou/.local/share/ov/pkg/isaac_sim-2022.1.0/kit/python/bin/libs/iray/libnvindex.so: cannot open shared object file: No such file or directory\n",
      "2022-08-02 20:38:20 [1,919ms] [Error] [rtx.neuraylib.plugin] [INDEX:MAIN]   0.1   INDEX  main error: Failed to load /home/yizhou/.local/share/ov/pkg/isaac_sim-2022.1.0/kit/python/bin/libs/iray/libnvindex.so\n"
     ]
    },
    {
     "name": "stdout",
     "output_type": "stream",
     "text": [
      "Warp initialized:\n",
      "   Version: 0.2.1\n",
      "   Using CUDA device: NVIDIA GeForce RTX 3090\n",
      "   Using CPU compiler: /usr/bin/g++\n",
      "[2.676s] [ext: omni.kit.window.preferences-1.2.1] startup\n",
      "[2.713s] [ext: omni.kit.ui_test-1.2.0] startup\n",
      "[2.716s] [ext: omni.graph.ui-1.6.1] startup\n",
      "[2.738s] [ext: omni.kvdb-0.0.0] startup\n",
      "[2.741s] [ext: omni.kit.widget.searchfield-1.0.6] startup\n",
      "[2.743s] [ext: omni.convexdecomposition-1.4.12] startup\n",
      "[2.747s] [ext: omni.graph.action-1.17.0] startup\n",
      "[2.760s] [ext: omni.localcache-0.0.0] startup\n",
      "[2.764s] [ext: omni.usdphysics-1.4.12] startup\n",
      "[2.768s] [ext: omni.graph.scriptnode-0.5.0] startup\n",
      "[2.770s] [ext: omni.physx-1.4.12-5.1] startup\n",
      "2022-08-02 20:38:21 [2,777ms] [Warning] [omni.kvdb.plugin] wasn't able to load the meta database, trying to repair it ...\n",
      "2022-08-02 20:38:21 [2,809ms] [Warning] [omni.kvdb.plugin] repair failed\n",
      "[2.816s] [ext: omni.kit.usd_undo-0.1.0] startup\n",
      "[2.818s] [ext: omni.graph.nodes-1.25.0] startup\n",
      "[2.836s] [ext: omni.physx.commands-1.4.12-5.1] startup\n",
      "[2.840s] [ext: omni.syntheticdata-0.2.1] startup\n",
      "[2.863s] [ext: omni.physx.ui-1.4.12-5.1] startup\n",
      "[2.947s] [ext: omni.warp-0.2.1] startup\n",
      "[4.748s] [ext: omni.kit.renderer.capture-0.0.0] startup\n",
      "[4.752s] [ext: omni.kit.property.material-1.8.5] startup\n",
      "[4.755s] [ext: omni.physx.demos-1.4.12-5.1] startup\n",
      "[4.758s] [ext: omni.physics.tensors-0.1.0] startup\n",
      "[4.766s] [ext: omni.kit.property.physx-0.1.0] startup\n",
      "2022-08-02 20:38:23 [4,832ms] [Warning] [omni.physx.plugin] Deprecated: getSimulationEventStream is deprecated, please use getSimulationEventStreamV2\n",
      "[4.842s] [ext: omni.kit.window.toolbar-1.2.4] startup\n",
      "[4.853s] [ext: omni.physx.tensors-0.1.0] startup\n",
      "[4.860s] [ext: omni.physx.vehicle-1.4.12-5.1] startup\n",
      "[4.874s] [ext: omni.physx.tests-1.4.12-5.1] startup\n",
      "[4.948s] [ext: omni.kit.numpy.common-0.1.0] startup\n",
      "[4.953s] [ext: omni.physx.camera-1.4.12-5.1] startup\n",
      "[4.962s] [ext: omni.physx.cct-1.4.12-5.1] startup\n",
      "[5.049s] [ext: omni.isaac.version-1.0.0] startup\n",
      "[5.050s] [ext: omni.isaac.dynamic_control-1.0.0] startup\n",
      "[5.060s] [ext: omni.physx.bundle-1.4.12-5.1] startup\n",
      "[5.060s] [ext: omni.kit.primitive.mesh-1.0.0] startup\n",
      "[5.065s] [ext: omni.command.usd-1.0.1] startup\n",
      "[5.070s] [ext: omni.isaac.core-1.15.1] startup\n",
      "[5.311s] [ext: omni.replicator.core-1.2.0] startup\n",
      "[5.418s] [ext: omni.kit.window.extensions-1.1.0] startup\n",
      "[5.425s] [ext: omni.isaac.core_nodes-0.9.0] startup\n",
      "[5.438s] [ext: omni.isaac.ui-0.2.1] startup\n",
      "[5.441s] [ext: omni.kit.window.script_editor-1.6.2] startup\n",
      "[5.451s] [ext: omni.isaac.wheeled_robots-0.5.4] startup\n",
      "[5.465s] [ext: omni.kit.menu.common-1.0.0] startup\n",
      "[5.467s] [ext: omni.kit.graph.delegate.default-1.0.15] startup\n",
      "[5.469s] [ext: omni.kit.graph.delegate.modern-1.6.0] startup\n",
      "[5.472s] [ext: omni.kit.widget.zoombar-1.0.3] startup\n",
      "[5.473s] [ext: omni.kit.graph.editor.core-1.3.3] startup\n",
      "[5.476s] [ext: omni.kit.widget.stage_icons-1.0.2] startup\n",
      "[5.478s] [ext: omni.kit.browser.core-2.0.12] startup\n",
      "[5.484s] [ext: omni.kit.graph.widget.variables-2.0.2] startup\n",
      "[5.485s] [ext: omni.kit.window.stage-2.3.7] startup\n",
      "[5.490s] [ext: omni.kit.browser.folder.core-1.1.13] startup\n",
      "[5.493s] [ext: omni.graph.window.core-1.22.1] startup\n",
      "[5.501s] [ext: omni.isaac.lula-1.1.0] startup\n",
      "[5.513s] [ext: omni.graph.instancing-1.1.4] startup\n",
      "[5.519s] [ext: omni.graph.window.action-1.3.8] startup\n",
      "[5.521s] [ext: omni.graph.tutorials-1.1.2] startup\n",
      "[5.536s] [ext: omni.rtx.window.settings-0.6.1] startup\n",
      "[5.542s] [ext: omni.isaac.motion_planning-0.2.0] startup\n",
      "[5.550s] [ext: omni.graph.bundle.action-1.0.0] startup\n",
      "[5.550s] [ext: omni.rtx.settings.core-0.5.5] startup\n",
      "[5.555s] [ext: omni.isaac.motion_generation-3.1.2] startup\n",
      "[5.559s] [ext: omni.isaac.kit-0.1.9] startup\n",
      "[5.561s] [ext: omni.isaac.debug_draw-0.1.2] startup\n",
      "[5.567s] [ext: omni.kit.selection-0.1.0] startup\n",
      "[5.568s] [ext: omni.isaac.franka-0.0.0] startup\n",
      "[5.569s] [ext: omni.kit.widget.layers-1.5.17] startup\n",
      "[5.582s] [ext: omni.kit.menu.edit-1.0.6] startup\n",
      "[5.584s] [ext: omni.isaac.isaac_sensor-0.3.4] startup\n",
      "2022-08-02 20:38:24 [5,584ms] [Warning] [omni.physx.plugin] Deprecated: getSimulationEventStream is deprecated, please use getSimulationEventStreamV2\n",
      "[5.591s] [ext: omni.kit.widget.live-0.1.0] startuOpening usd file at  omniverse://localhost/Users/yizhou/scene0.usd  ...Done.\n",
      "Saving a temp livesync stage at  omniverse://localhost/Users/yizhou/scene0.usd  ...Done.\n"
     ]
    }
   ],
   "source": [
    "from omni.isaac.kit import SimulationApp\n",
    "\n",
    "# \"/home/yizhou/Research/OpenAnyDrawer/scene0.usd\" # \n",
    "usd_path = f\"omniverse://localhost/Users/{user}/scene0.usd\"\n",
    "\n",
    "\n",
    "simulation_app = SimulationApp({\"headless\": True, \"open_usd\": usd_path,  \"livesync_usd\": usd_path}) \n"
   ]
  },
  {
   "cell_type": "markdown",
   "id": "dfd7c308",
   "metadata": {},
   "source": [
    "# World"
   ]
  },
  {
   "cell_type": "code",
   "execution_count": 4,
   "id": "b7d966a9",
   "metadata": {},
   "outputs": [],
   "source": [
    "from omni.isaac.core import World\n",
    "world = World()"
   ]
  },
  {
   "cell_type": "code",
   "execution_count": 5,
   "id": "283e3c44",
   "metadata": {},
   "outputs": [],
   "source": [
    "from open_env import OpenEnv\n",
    "\n",
    "env = OpenEnv()"
   ]
  },
  {
   "cell_type": "code",
   "execution_count": 6,
   "id": "3533e5a2",
   "metadata": {},
   "outputs": [],
   "source": [
    "from franka.control import FrankaControl\n",
    "\n",
    "controller = FrankaControl(\"/World/Game*/Franka\", \"/World/Game*/Franka/panda_hand\")"
   ]
  },
  {
   "cell_type": "code",
   "execution_count": 7,
   "id": "cd4b032f",
   "metadata": {},
   "outputs": [],
   "source": [
    "env.setup_viewport()"
   ]
  },
  {
   "cell_type": "code",
   "execution_count": 8,
   "id": "f753190a",
   "metadata": {},
   "outputs": [
    {
     "data": {
      "image/png": "[encoded data removed]",
      "text/plain": [
       "<PIL.Image.Image image mode=RGBA size=256x256 at 0x7F91D806F0D0>"
      ]
     },
     "execution_count": 8,
     "metadata": {},
     "output_type": "execute_result"
    }
   ],
   "source": [
    "env.get_image()"
   ]
  },
  {
   "cell_type": "markdown",
   "id": "bdfa0634",
   "metadata": {},
   "source": [
    "# Add Object/Robot"
   ]
  },
  {
   "cell_type": "code",
   "execution_count": 9,
   "id": "7238cb42",
   "metadata": {},
   "outputs": [],
   "source": [
    "# env.add_robot()"
   ]
  },
  {
   "cell_type": "code",
   "execution_count": 10,
   "id": "3136e5ab",
   "metadata": {},
   "outputs": [
    {
     "name": "stdout",
     "output_type": "stream",
     "text": [
      "add object\n",
      "physics material: path:  /World/Game/mobility/link_0/visuals/handle_24/physicsMaterial\n",
      "add physics material to handle\n",
      "physics material: path:  /World/Game/mobility/link_0/visuals/handle_25/physicsMaterial\n",
      "add physics material to handle\n",
      "physics material: path:  /World/Game/mobility/link_0/visuals/handle_26/physicsMaterial\n",
      "add physics material to handle\n",
      "physics material: path:  /World/Game/mobility/link_1/visuals/handle_22/physicsMaterial\n",
      "add physics material to handle\n",
      "physics material: path:  /World/Game/mobility/link_1/visuals/handle_23/physicsMaterial\n",
      "add physics material to handle\n",
      "physics material: path:  /World/Game/mobility/link_1/visuals/handle_24/physicsMaterial\n",
      "add physics material to handle\n",
      "physics material: path:  /World/Game/mobility/link_2/visuals/handle_15/physicsMaterial\n",
      "add physics material to handle\n",
      "physics material: path:  /World/Game/mobility/link_2/visuals/handle_16/physicsMaterial\n",
      "add physics material to handle\n",
      "physics material: path:  /World/Game/mobility/link_2/visuals/handle_17/physicsMaterial\n",
      "add physics material to handle\n"
     ]
    }
   ],
   "source": [
    "env.add_object(8, scale = 0.1)"
   ]
  },
  {
   "cell_type": "code",
   "execution_count": 11,
   "id": "ef5db7fd",
   "metadata": {},
   "outputs": [],
   "source": [
    "from omni.isaac.core.prims.xform_prim import XFormPrim\n",
    "mobility_obj = XFormPrim(\"/World/Game/mobility\")\n",
    "mobility_obj_name = mobility_obj.name"
   ]
  },
  {
   "cell_type": "code",
   "execution_count": 12,
   "id": "7fb519f0",
   "metadata": {},
   "outputs": [
    {
     "data": {
      "text/plain": [
       "<omni.isaac.core.prims.xform_prim.XFormPrim at 0x7f85000b8910>"
      ]
     },
     "execution_count": 12,
     "metadata": {},
     "output_type": "execute_result"
    }
   ],
   "source": [
    "world.scene.add(mobility_obj)"
   ]
  },
  {
   "cell_type": "code",
   "execution_count": 13,
   "id": "bbf1d488",
   "metadata": {
    "scrolled": true
   },
   "outputs": [
    {
     "name": "stdout",
     "output_type": "stream",
     "text": [
      "p\n",
      "[5.596s] [ext: omni.isaac.surface_gripper-0.1.2] startup\n",
      "[5.601s] [ext: omni.kit.property.layer-1.1.2] startup\n",
      "[5.604s] [ext: omni.isaac.range_sensor-0.4.2] startup\n",
      "[5.632s] [ext: omni.graph.window.generic-1.3.8] startup\n",
      "[5.633s] [ext: omni.isaac.utils-0.1.11] startup\n",
      "[5.637s] [ext: omni.isaac.universal_robots-0.2.1] startup\n",
      "[5.637s] [ext: omni.kit.property.audio-1.0.5] startup\n",
      "[5.639s] [ext: omni.kit.property.skel-1.0.1] startup\n",
      "[5.640s] [ext: omni.kit.property.render-1.1.0] startup\n",
      "[5.641s] [ext: omni.kit.property.camera-1.0.3] startup\n",
      "[5.642s] [ext: omni.kit.property.geometry-1.2.0] startup\n",
      "[5.644s] [ext: omni.kit.property.light-1.0.5] startup\n",
      "[5.645s] [ext: omni.kit.property.transform-1.0.2] startup\n",
      "[5.648s] [ext: omni.isaac.occupancy_map-0.2.4] startup\n",
      "[5.662s] [ext: omni.ui.scene-1.4.6] startup\n",
      "[5.668s] [ext: omni.kit.window.console-0.2.0] startup\n",
      "[5.675s] [ext: omni.kit.window.status_bar-0.1.1] startup\n",
      "[5.679s] [ext: omni.kit.property.bundle-1.2.4] startup\n",
      "[5.680s] [ext: omni.kit.menu.file-1.0.8] startup\n",
      "[5.682s] [ext: omni.kit.manipulator.viewport-1.0.6] startup\n",
      "[5.684s] [ext: omni.isaac.urdf-0.2.2] startup\n",
      "[5.714s] [ext: omni.isaac.dofbot-0.2.0] startup\n",
      "[5.715s] [ext: omni.kit.window.title-1.1.1] startup\n",
      "[5.716s] [ext: omni.kit.profiler.window-1.4.4] startup\n",
      "[5.719s] [ext: omni.graph.visualization.nodes-1.1.1] startup\n",
      "[5.722s] [ext: omni.isaac.synthetic_utils-0.2.1] startup\n",
      "[5.729s] [ext: semantics.schema.editor-0.2.2] startup\n",
      "[5.733s] [ext: omni.isaac.sim.python-2022.1.0] startup\n",
      "[5.733s] Simulation App Starting\n",
      "2022-08-02 20:38:25 [6,565ms] [Warning] [omni.usd] Default value for render setting \"/rtx/shaderDb/cachePermutationIndex\" not found\n",
      "2022-08-02 20:38:25 [6,565ms] [Warning] [omni.usd] Default value for render setting \"/rtx/resourcemanager/uploadPooledBuffers/framesToEvict\" not found\n",
      "2022-08-02 20:38:25 [6,565ms] [Warning] [omni.usd] Default value for render setting \"/rtx/resourcemanager/uploadPooledBuffers/uploadSize\" not found\n",
      "2022-08-02 20:38:25 [6,565ms] [Warning] [omni.usd] Default value for render setting \"/rtx/pathtracing/nrc/canRun\" not found\n",
      "[11.786s] app ready\n",
      "[12.616s] Simulation App Startup Complete\n",
      "2022-08-02 20:38:31 [12,773ms] [Warning] [omni.syntheticdata.plugin] SdRenderVarToRawArray missing valid input renderVar DistanceToImagePlaneSD\n",
      "2022-08-02 20:38:31 [12,977ms] [Warning] [omni.hydra] Mesh /World/Game/mobility/link_3/visuals/frame_vertical_bar_34 has corrupted data in primvar st: buffer size 18 doesn't match expected size 72 in faceVarying primvars\n",
      "2022-08-02 20:38:31 [12,977ms] [Warning] [omni.hydra] Mesh /World/Game/mobility/link_3/visuals/back_panel_33 has corrupted data in primvar st: buffer size 18 doesn't match expected size 36 in faceVarying primvars\n",
      "2022-08-02 20:38:31 [12,977ms] [Warning] [omni.hydra] Mesh /World/Game/mobility/link_3/visuals/bottom_panel_33 has corrupted data in primvar st: buffer size 6 doesn't match expected size 12 in faceVarying primvars\n",
      "2022-08-02 20:38:31 [12,977ms] [Warning] [omni.hydra] Mesh /World/Game/mobility/link_3/visuals/frame_vertical_bar_35 has corrupted data in primvar st: buffer size 18 doesn't match expected size 72 in faceVarying primvars\n",
      "2022-08-02 20:38:31 [12,977ms] [Warning] [omni.hydra] Mesh /World/Game/mobility/link_3/visuals/shelf_9 has corrupted data in primvar st: buffer size 18 doesn't match expected size 36 in faceVarying primvars\n",
      "2022-08-02 20:38:31 [12,977ms] [Warning] [omni.hydra] Mesh /World/Game/mobility/link_3/visuals/vertical_side_panel_32 has corrupted data in primvar st: buffer size 18 doesn't match expected size 48 in faceVarying primvars\n",
      "2022-08-02 20:38:31 [12,977ms] [Warning] [omni.hydra] Mesh /World/Game/mobility/link_3/visuals/vertical_side_panel_31 has corrupted data in primvar st: buffer size 18 doesn't match expected size 48 in faceVarying primvars\n",
      "2022-08-02 20:38:31 [12,977ms] [Warning] [omni.hydra] Mesh /World/Game/mobility/link_3/visuals/vertical_side_panel_30 has corrupted data in primvar st: buffer size 18 doesn't match expected size 48 in faceVarying primvars\n",
      "2022-08-02 20:38:31 [12,977ms] [Warning] [omni.hydra] Mesh /World/Game/mobility/link_3/visuals/frame_horizontal_bar_36 has corrupted data in primvar st: buffer size 18 doesn't match expected size 48 in faceVarying primvars\n",
      "2022-08-02 20:38:31 [12,977ms] [Warning] [omni.hydra] Mesh /World/Game/mobility/link_3/visuals/frame_horizontal_bar_37 has corrupted data in primvar st: buffer size 18 doesn't match expected size 36 in faceVarying primvars\n",
      "2022-08-02 20:38:31 [12,977ms] [Warning] [omni.hydra] Mesh /World/Game/mobility/link_3/visuals/frame_vertical_bar_34 has corrupted data in primvar st_1: buffer size 18 doesn't match expected size 72 in faceVarying primvars\n",
      "2022-08-02 20:38:31 [12,978ms] [Warning] [omni.hydra] Mesh /World/Game/mobility/link_3/visuals/frame_horizontal_bar_36 has corrupted data in primvar st_1: buffer size 6 doesn't match expected size 48 in faceVarying primvars\n",
      "2022-08-02 20:38:31 [12,977ms] [Warning] [omni.hydra] Mesh /World/Game/mobility/link_3/visuals/vertical_side_panel_33 has corrupted data in primvar st: buffer size 18 doesn't match expected size 48 in faceVarying primvars\n",
      "2022-08-02 20:38:31 [12,978ms] [Warning] [omni.hydra] Mesh /World/Game/mobility/link_3/visuals/frame_vertical_bar_35 has corrupted data in primvar st_1: buffer size 18 doesn't match expected size 72 in faceVarying primvars\n",
      "2022-08-02 20:38:31 [12,978ms] [Warning] [omni.hydra] Mesh /World/Game/mobility/link_3/visuals/vertical_side_panel_32 has corrupted data in primvar st_1: buffer size 6 doesn't match expected size 48 in faceVarying primvars\n",
      "2022-08-02 20:38:31 [12,978ms] [Warning] [omni.hydra] Mesh /World/Game/mobility/link_3/visuals/vertical_side_panel_31 has corrupted data in primvar st_1: buffer size 6 doesn't match expected size 48 in faceVarying primvars\n",
      "2022-08-02 20:38:31 [12,978ms] [Warning] [omni.hydra] Mesh /World/Game/mobility/link_3/visuals/vertical_side_panel_30 has corrupted data in primvar st_1: buffer size 6 doesn't match expected size 48 in faceVarying primvars\n",
      "2022-08-02 20:38:31 [12,978ms] [Warning] [omni.hydra] Mesh /World/Game/mobility/link_3/visuals/frame_horizontal_bar_38 has corrupted data in primvar st: buffer size 18 doesn't match expected size 36 in faceVarying primvars\n",
      "2022-08-02 20:38:31 [12,978ms] [Warning] [omni.hydra] Mesh /World/Game/mobility/link_3/visuals/vertical_side_panel_33 has corrupted data in primvar st_1: buffer size 6 doesn't match expected size 48 in faceVarying primvars\n",
      "2022-08-02 20:38:31 [12,978ms] [Warning] [omni.hydra] Mesh /World/Game/mobility/link_3/visuals/frame_horizontal_bar_39 has corrupted data in primvar st: buffer size 24 doesn't match expected size 48 in faceVarying primvars\n",
      "2022-08-02 20:38:31 [12,978ms] [Warning] [omni.hydra] Mesh /World/Game/mobility/link_3/visuals/base_side_panel_26 has corrupted data in primvar st: buffer size 12 doesn't match expected size 24 in faceVarying primvars\n",
      "2022-08-02 20:38:31 [12,978ms] [Warning] [omni.hydra] Mesh /World/Game/mobility/link_3/visuals/frame_horizontal_bar_40 has corrupted data in primvar st: buffer size 18 doesn't match expected size 48 in faceVarying primvars\n",
      "2022-08-02 20:38:31 [12,978ms] [Warning] [omni.hydra] Mesh /World/Game/mobility/link_3/visuals/base_side_panel_27 has corrupted data in primvar st: buffer size 6 doesn't match expected size 36 in faceVarying primvars\n",
      "2022-08-02 20:38:31 [12,978ms] [Warning] [omni.hydra] Mesh /World/Game/mobility/link_3/visuals/base_side_panel_28 has corrupted data in primvar st: buffer size 6 doesn't match expected size 12 in faceVarying primvars\n",
      "2022-08-02 20:38:31 [12,978ms] [Warning] [omni.hydra] Mesh /World/Game/mobility/link_3/visuals/base_side_panel_29 has corrupted data in primvar st: buffer size 6 doesn't match expected size 36 in faceVarying primvars\n",
      "2022-08-02 20:38:31 [12,978ms] [Warning] [omni.hydra] Mesh /World/Game/mobility/link_0/visuals/cabinet_door_surface_23 has corrupted data in primvar st: buffer size 6 doesn't match expected size 12 in faceVarying primvars\n",
      "2022-08-02 20:38:31 [12,978ms] [Warning] [omni.hydra] Mesh /World/Game/mobility/link_3/visuals/frame_horizontal_bar_40 has corrupted data in primvar st_1: buffer size 6 doesn't match expected size 48 in faceVarying primvars\n",
      "2022-08-02 20:38:31 [12,978ms] [Warning] [omni.hydra] Mesh /World/Game/mobility/link_0/visuals/cabinet_door_surface_24 has corrupted data in primvar st: buffer size 36 doesn't match expected size 72 in faceVarying primvars\n",
      "2022-08-02 20:38:31 [12,978ms] [Warning] [omni.hydra] Mesh /World/Game/mobility/link_0/visuals/cabinet_door_surface_25 has corrupted data in primvar st: buffer size 24 doesn't match expected size 48 in faceVarying primvars\n",
      "2022-08-02 20:38:31 [12,978ms] [Warning] [omni.hydra] Mesh /World/Game/mobility/link_3/visuals/base_side_panel_27 has corrupted data in primvar st_1: buffer size 12 doesn't match expected size 36 in faceVarying primvars\n",
      "2022-08-02 20:38:31 [12,978ms] [Warning] [omni.hydra] Mesh /World/Game/mobility/link_0/visuals/cabinet_door_surface_26 has corrupted data in primvar st: buffer size 36 doesn't match expected size 72 in faceVarying primvars\n",
      "2022-08-02 20:38:31 [12,978ms] [Warning] [omni.hydra] Mesh /World/Game/mobility/link_0/visuals/cabinet_door_surface_27 has corrupted data in primvar st: buffer size 24 doesn't match expected size 48 in faceVarying primvars\n",
      "2022-08-02 20:38:31 [12,978ms] [Warning] [omni.hydra] Mesh /World/Game/mobility/link_0/visuals/cabinet_door_surface_28 has corrupted data in primvar st: buffer size 6 doesn't match expected size 12 in faceVarying primvars\n",
      "2022-08-02 20:38:31 [12,978ms] [Warning] [omni.hydra] Mesh /World/Game/mobility/link_0/visuals/handle_26 has corrupted data in primvar st: buffer size 72 doesn't match expected size 264 in faceVarying primvars\n",
      "2022-08-02 20:38:31 [12,978ms] [Warning] [omni.hydra] Mesh /World/Game/mobility/link_1/visuals/cabinet_door_surface_21 has corrupted data in primvar st: buffer size 6 doesn't match expected size 12 in faceVarying primvars\n",
      "2022-08-02 20:38:31 [12,978ms] [Warning] [omni.hydra] Mesh /World/Game/mobility/link_1/visuals/cabinet_door_surface_22 has corrupted data in primvar st: buffer size 24 doesn't match expected size 48 in faceVarying primvars\n",
      "2022-08-02 20:38:31 [12,978ms] [Warning] [omni.hydra] Mesh /World/Game/mobility/link_1/visuals/cabinet_door_surface_23 has corrupted data in primvar st: buffer size 36 doesn't match expected size 72 in faceVarying primvars\n",
      "2022-08-02 20:38:31 [12,978ms] [Warning] [omni.hydra] Mesh /World/Game/mobility/link_1/visuals/cabinet_door_surface_24 has corrupted data in primvar st: buffer size 24 doesn't match expected size 48 in faceVarying primvars\n",
      "2022-08-02 20:38:31 [12,978ms] [Warning] [omni.hydra] Mesh /World/Game/mobility/link_1/visuals/cabinet_door_surface_25 has corrupted data in primvar st: buffer size 36 doesn't match expected size 72 in faceVarying primvars\n",
      "2022-08-02 20:38:31 [12,978ms] [Warning] [omni.hydra] Mesh /World/Game/mobility/link_1/visuals/cabinet_door_surface_26 has corrupted data in primvar st: buffer size 6 doesn't match expected size 12 in faceVarying primvars\n",
      "2022-08-02 20:38:31 [12,978ms] [Warning] [omni.hydra] Mesh /World/Game/mobility/link_1/visuals/handle_22 has corrupted data in primvar st: buffer size 72 doesn't match expected size 264 in faceVarying primvars\n",
      "2022-08-02 20:38:31 [12,978ms] [Warning] [omni.hydra] Mesh /World/Game/mobility/link_2/visuals/drawer_front_16 has corrupted data in primvar st: buffer size 24 doesn't match expected size 48 in faceVarying primvars\n",
      "2022-08-02 20:38:31 [12,978ms] [Warning] [omni.hydra] Mesh /World/Game/mobility/link_3/visuals/base_side_panel_29 has corrupted data in primvar st_1: buffer size 12 doesn't match expected size 36 in faceVarying primvars\n",
      "2022-08-02 20:38:31 [12,978ms] [Warning] [omni.hydra] Mesh /World/Game/mobility/link_2/visuals/drawer_front_17 has corrupted data in primvar st: buffer size 6 doesn't match expected size 12 in faceVarying primvars\n",
      "2022-08-02 20:38:31 [12,978ms] [Warning] [omni.hydra] Mesh /World/Game/mobility/link_2/visuals/drawer_front_18 has corrupted data in primvar st: buffer size 36 doesn't match expected size 72 in faceVarying primvars\n"
     ]
    },
    {
     "name": "stdout",
     "output_type": "stream",
     "text": [
      "2022-08-02 20:38:31 [12,978ms] [Warning] [omni.hydra] Mesh /World/Game/mobility/link_2/visuals/drawer_front_19 has corrupted data in primvar st: buffer size 36 doesn't match expected size 72 in faceVarying primvars\n",
      "2022-08-02 20:38:31 [12,978ms] [Warning] [omni.hydra] Mesh /World/Game/mobility/link_2/visuals/drawer_front_20 has corrupted data in primvar st: buffer size 18 doesn't match expected size 48 in faceVarying primvars\n",
      "2022-08-02 20:38:31 [12,978ms] [Warning] [omni.hydra] Mesh /World/Game/mobility/link_2/visuals/drawer_front_21 has corrupted data in primvar st: buffer size 24 doesn't match expected size 48 in faceVarying primvars\n",
      "2022-08-02 20:38:31 [12,978ms] [Warning] [omni.hydra] Mesh /World/Game/mobility/link_2/visuals/drawer_front_22 has corrupted data in primvar st: buffer size 6 doesn't match expected size 12 in faceVarying primvars\n",
      "2022-08-02 20:38:31 [12,978ms] [Warning] [omni.hydra] Mesh /World/Game/mobility/link_2/visuals/drawer_front_20 has corrupted data in primvar st_1: buffer size 6 doesn't match expected size 48 in faceVarying primvars\n",
      "2022-08-02 20:38:31 [12,978ms] [Warning] [omni.hydra] Mesh /World/Game/mobility/link_2/visuals/drawer_front_23 has corrupted data in primvar st: buffer size 24 doesn't match expected size 48 in faceVarying primvars\n",
      "2022-08-02 20:38:31 [12,978ms] [Warning] [omni.hydra] Mesh /World/Game/mobility/link_2/visuals/drawer_side_17 has corrupted data in primvar st: buffer size 36 doesn't match expected size 72 in faceVarying primvars\n",
      "2022-08-02 20:38:31 [12,978ms] [Warning] [omni.hydra] Mesh /World/Game/mobility/link_2/visuals/drawer_side_19 has corrupted data in primvar st: buffer size 36 doesn't match expected size 72 in faceVarying primvars\n",
      "2022-08-02 20:38:31 [12,978ms] [Warning] [omni.hydra] Mesh /World/Game/mobility/link_2/visuals/drawer_back_19 has corrupted data in primvar st: buffer size 24 doesn't match expected size 48 in faceVarying primvars\n",
      "2022-08-02 20:38:31 [12,978ms] [Warning] [omni.hydra] Mesh /World/Game/mobility/link_2/visuals/drawer_bottom_20 has corrupted data in primvar st: buffer size 6 doesn't match expected size 12 in faceVarying primvars\n",
      "2022-08-02 20:38:31 [12,978ms] [Warning] [omni.hydra] Mesh /World/Game/mobility/link_2/visuals/drawer_bottom_21 has corrupted data in primvar st: buffer size 6 doesn't match expected size 12 in faceVarying primvars\n",
      "2022-08-02 20:38:31 [12,978ms] [Warning] [omni.hydra] Mesh /World/Game/mobility/link_2/visuals/handle_15 has corrupted data in primvar st: buffer size 72 doesn't match expected size 264 in faceVarying primvars\n",
      "2022-08-02 20:38:32 [13,556ms] [Warning] [omni.physx.plugin] PhysicsUSD: Parse collision - triangle mesh collision (approximation None/MeshSimplifixation) cannot be a part of a dynamic body, falling back to convexHull approximation: /World/Game/mobility/link_0/visuals/handle_24\n",
      "2022-08-02 20:38:32 [13,557ms] [Warning] [omni.physx.plugin] PhysicsUSD: Parse collision - triangle mesh collision (approximation None/MeshSimplifixation) cannot be a part of a dynamic body, falling back to convexHull approximation: /World/Game/mobility/link_0/visuals/handle_25\n",
      "2022-08-02 20:38:32 [13,558ms] [Warning] [omni.physx.plugin] PhysicsUSD: Parse collision - triangle mesh collision (approximation None/MeshSimplifixation) cannot be a part of a dynamic body, falling back to convexHull approximation: /World/Game/mobility/link_0/visuals/handle_26\n",
      "2022-08-02 20:38:32 [13,567ms] [Warning] [omni.physx.plugin] PhysicsUSD: Parse collision - triangle mesh collision (approximation None/MeshSimplifixation) cannot be a part of a dynamic body, falling back to convexHull approximation: /World/Game/mobility/link_1/visuals/handle_22\n",
      "2022-08-02 20:38:32 [13,568ms] [Warning] [omni.physx.plugin] PhysicsUSD: Parse collision - triangle mesh collision (approximation None/MeshSimplifixation) cannot be a part of a dynamic body, falling back to convexHull approximation: /World/Game/mobility/link_1/visuals/handle_23\n",
      "2022-08-02 20:38:32 [13,569ms] [Warning] [omni.physx.plugin] PhysicsUSD: Parse collision - triangle mesh collision (approximation None/MeshSimplifixation) cannot be a part of a dynamic body, falling back to convexHull approximation: /World/Game/mobility/link_1/visuals/handle_24\n",
      "2022-08-02 20:38:32 [13,577ms] [Warning] [omni.physx.plugin] PhysicsUSD: Parse collision - triangle mesh collision (approximation None/MeshSimplifixation) cannot be a part of a dynamic body, falling back to convexHull approximation: /World/Game/mobility/link_2/visuals/handle_15\n",
      "2022-08-02 20:38:32 [13,578ms] [Warning] [omni.physx.plugin] PhysicsUSD: Parse collision - triangle mesh collision (approximation None/MeshSimplifixation) cannot be a part of a dynamic body, falling back to convexHull approximation: /World/Game/mobility/link_2/visuals/handle_16\n",
      "2022-08-02 20:38:32 [13,579ms] [Warning] [omni.physx.plugin] PhysicsUSD: Parse collision - triangle mesh collision (approximation None/MeshSimplifixation) cannot be a part of a dynamic body, falling back to convexHull approximation: /World/Game/mobility/link_2/visuals/handle_17\n",
      "2022-08-02 20:38:32 [13,594ms] [Warning] [omni.physx.plugin] The rigid body at /World/Game/mobility/base has a possibly invalid inertia tensor of {1.0, 1.0, 1.0} and a negative mass. Either specify correct values in the mass properties, or add collider(s) to any shape(s) that you wish to automatically compute mass properties for. If you do not want the objects to collide, add colliders regardless then disable the 'enable collision' property.\n",
      "2022-08-02 20:38:32 [13,602ms] [Warning] [carb.flatcache.plugin] Type tag does not have a corresponding USD type\n",
      "2022-08-02 20:38:32 [13,625ms] [Warning] [gpu.foundation.plugin] Requesting texture to use texture streaming, but the service isn't available.The texture will be created as a regular resource.\n",
      "2022-08-02 20:38:32 [13,661ms] [Warning] [omni.hydra] Mesh /World/Game/mobility/link_3/visuals/shelf_9 has corrupted data in primvar st: buffer size 18 doesn't match expected size 36 in faceVarying primvars\n",
      "2022-08-02 20:38:32 [13,662ms] [Warning] [omni.hydra] Mesh /World/Game/mobility/link_3/visuals/vertical_side_panel_30 has corrupted data in primvar st: buffer size 18 doesn't match expected size 48 in faceVarying primvars\n",
      "2022-08-02 20:38:32 [13,662ms] [Warning] [omni.hydra] Mesh /World/Game/mobility/link_3/visuals/vertical_side_panel_30 has corrupted data in primvar st_1: buffer size 6 doesn't match expected size 48 in faceVarying primvars\n",
      "2022-08-02 20:38:32 [13,662ms] [Warning] [omni.hydra] Mesh /World/Game/mobility/link_3/visuals/vertical_side_panel_31 has corrupted data in primvar st: buffer size 18 doesn't match expected size 48 in faceVarying primvars\n",
      "2022-08-02 20:38:32 [13,662ms] [Warning] [omni.hydra] Mesh /World/Game/mobility/link_3/visuals/vertical_side_panel_31 has corrupted data in primvar st_1: buffer size 6 doesn't match expected size 48 in faceVarying primvars\n",
      "2022-08-02 20:38:32 [13,662ms] [Warning] [omni.hydra] Mesh /World/Game/mobility/link_3/visuals/vertical_side_panel_32 has corrupted data in primvar st: buffer size 18 doesn't match expected size 48 in faceVarying primvars\n",
      "2022-08-02 20:38:32 [13,662ms] [Warning] [omni.hydra] Mesh /World/Game/mobility/link_3/visuals/vertical_side_panel_32 has corrupted data in primvar st_1: buffer size 6 doesn't match expected size 48 in faceVarying primvars\n",
      "2022-08-02 20:38:32 [13,663ms] [Warning] [omni.hydra] Mesh /World/Game/mobility/link_3/visuals/vertical_side_panel_33 has corrupted data in primvar st: buffer size 18 doesn't match expected size 48 in faceVarying primvars\n",
      "2022-08-02 20:38:32 [13,663ms] [Warning] [omni.hydra] Mesh /World/Game/mobility/link_3/visuals/vertical_side_panel_33 has corrupted data in primvar st_1: buffer size 6 doesn't match expected size 48 in faceVarying primvars\n",
      "2022-08-02 20:38:32 [13,663ms] [Warning] [omni.hydra] Mesh /World/Game/mobility/link_3/visuals/back_panel_33 has corrupted data in primvar st: buffer size 18 doesn't match expected size 36 in faceVarying primvars\n",
      "2022-08-02 20:38:32 [13,663ms] [Warning] [omni.hydra] Mesh /World/Game/mobility/link_3/visuals/bottom_panel_33 has corrupted data in primvar st: buffer size 6 doesn't match expected size 12 in faceVarying primvars\n",
      "2022-08-02 20:38:32 [13,663ms] [Warning] [omni.hydra] Mesh /World/Game/mobility/link_3/visuals/frame_vertical_bar_34 has corrupted data in primvar st: buffer size 18 doesn't match expected size 72 in faceVarying primvars\n",
      "2022-08-02 20:38:32 [13,663ms] [Warning] [omni.hydra] Mesh /World/Game/mobility/link_3/visuals/frame_vertical_bar_34 has corrupted data in primvar st_1: buffer size 18 doesn't match expected size 72 in faceVarying primvars\n",
      "2022-08-02 20:38:32 [13,664ms] [Warning] [omni.hydra] Mesh /World/Game/mobility/link_3/visuals/frame_vertical_bar_35 has corrupted data in primvar st: buffer size 18 doesn't match expected size 72 in faceVarying primvars\n",
      "2022-08-02 20:38:32 [13,664ms] [Warning] [omni.hydra] Mesh /World/Game/mobility/link_3/visuals/frame_vertical_bar_35 has corrupted data in primvar st_1: buffer size 18 doesn't match expected size 72 in faceVarying primvars\n",
      "2022-08-02 20:38:32 [13,664ms] [Warning] [omni.hydra] Mesh /World/Game/mobility/link_3/visuals/frame_horizontal_bar_36 has corrupted data in primvar st: buffer size 18 doesn't match expected size 48 in faceVarying primvars\n",
      "2022-08-02 20:38:32 [13,664ms] [Warning] [omni.hydra] Mesh /World/Game/mobility/link_3/visuals/frame_horizontal_bar_36 has corrupted data in primvar st_1: buffer size 6 doesn't match expected size 48 in faceVarying primvars\n",
      "2022-08-02 20:38:32 [13,664ms] [Warning] [omni.hydra] Mesh /World/Game/mobility/link_3/visuals/frame_horizontal_bar_37 has corrupted data in primvar st: buffer size 18 doesn't match expected size 36 in faceVarying primvars\n",
      "2022-08-02 20:38:32 [13,664ms] [Warning] [omni.hydra] Mesh /World/Game/mobility/link_3/visuals/frame_horizontal_bar_38 has corrupted data in primvar st: buffer size 18 doesn't match expected size 36 in faceVarying primvars\n",
      "2022-08-02 20:38:32 [13,664ms] [Warning] [omni.hydra] Mesh /World/Game/mobility/link_3/visuals/frame_horizontal_bar_39 has corrupted data in primvar st: buffer size 24 doesn't match expected size 48 in faceVarying primvars\n",
      "2022-08-02 20:38:32 [13,664ms] [Warning] [omni.hydra] Mesh /World/Game/mobility/link_3/visuals/frame_horizontal_bar_40 has corrupted data in primvar st: buffer size 18 doesn't match expected size 48 in faceVarying primvars\n",
      "2022-08-02 20:38:32 [13,664ms] [Warning] [omni.hydra] Mesh /World/Game/mobility/link_3/visuals/frame_horizontal_bar_40 has corrupted data in primvar st_1: buffer size 6 doesn't match expected size 48 in faceVarying primvars\n",
      "2022-08-02 20:38:32 [13,665ms] [Warning] [omni.hydra] Mesh /World/Game/mobility/link_3/visuals/base_side_panel_26 has corrupted data in primvar st: buffer size 12 doesn't match expected size 24 in faceVarying primvars\n",
      "2022-08-02 20:38:32 [13,665ms] [Warning] [omni.hydra] Mesh /World/Game/mobility/link_3/visuals/base_side_panel_27 has corrupted data in primvar st: buffer size 6 doesn't match expected size 36 in faceVarying primvars\n",
      "2022-08-02 20:38:32 [13,665ms] [Warning] [omni.hydra] Mesh /World/Game/mobility/link_3/visuals/base_side_panel_27 has corrupted data in primvar st_1: buffer size 12 doesn't match expected size 36 in faceVarying primvars\n",
      "2022-08-02 20:38:32 [13,665ms] [Warning] [omni.hydra] Mesh /World/Game/mobility/link_3/visuals/base_side_panel_28 has corrupted data in primvar st: buffer size 6 doesn't match expected size 12 in faceVarying primvars\n",
      "2022-08-02 20:38:32 [13,665ms] [Warning] [omni.hydra] Mesh /World/Game/mobility/link_3/visuals/base_side_panel_29 has corrupted data in primvar st: buffer size 6 doesn't match expected size 36 in faceVarying primvars\n",
      "2022-08-02 20:38:32 [13,665ms] [Warning] [omni.hydra] Mesh /World/Game/mobility/link_3/visuals/base_side_panel_29 has corrupted data in primvar st_1: buffer size 12 doesn't match expected size 36 in faceVarying primvars\n",
      "2022-08-02 20:38:32 [13,665ms] [Warning] [omni.hydra] Mesh /World/Game/mobility/link_0/visuals/cabinet_door_surface_23 has corrupted data in primvar st: buffer size 6 doesn't match expected size 12 in faceVarying primvars\n",
      "2022-08-02 20:38:32 [13,665ms] [Warning] [omni.hydra] Mesh /World/Game/mobility/link_0/visuals/cabinet_door_surface_24 has corrupted data in primvar st: buffer size 36 doesn't match expected size 72 in faceVarying primvars\n",
      "2022-08-02 20:38:32 [13,666ms] [Warning] [omni.hydra] Mesh /World/Game/mobility/link_0/visuals/cabinet_door_surface_25 has corrupted data in primvar st: buffer size 24 doesn't match expected size 48 in faceVarying primvars\n",
      "2022-08-02 20:38:32 [13,666ms] [Warning] [omni.hydra] Mesh /World/Game/mobility/link_0/visuals/cabinet_door_surface_26 has corrupted data in primvar st: buffer size 36 doesn't match expected size 72 in faceVarying primvars\n",
      "2022-08-02 20:38:32 [13,666ms] [Warning] [omni.hydra] Mesh /World/Game/mobility/link_0/visuals/cabinet_door_surface_27 has corrupted data in primvar st: buffer size 24 doesn't match expected size 48 in faceVarying primvars\n",
      "2022-08-02 20:38:32 [13,666ms] [Warning] [omni.hydra] Mesh /World/Game/mobility/link_0/visuals/cabinet_door_surface_28 has corrupted data in primvar st: buffer size 6 doesn't match expected size 12 in faceVarying primvars\n",
      "2022-08-02 20:38:32 [13,666ms] [Warning] [omni.hydra] Mesh /World/Game/mobility/link_0/visuals/handle_26 has corrupted data in primvar st: buffer size 72 doesn't match expected size 264 in faceVarying primvars\n",
      "2022-08-02 20:38:32 [13,666ms] [Warning] [omni.hydra] Mesh /World/Game/mobility/link_1/visuals/cabinet_door_surface_21 has corrupted data in primvar st: buffer size 6 doesn't match expected size 12 in faceVarying primvars\n",
      "2022-08-02 20:38:32 [13,667ms] [Warning] [omni.hydra] Mesh /World/Game/mobility/link_1/visuals/cabinet_door_surface_22 has corrupted data in primvar st: buffer size 24 doesn't match expected size 48 in faceVarying primvars\n",
      "2022-08-02 20:38:32 [13,667ms] [Warning] [omni.hydra] Mesh /World/Game/mobility/link_1/visuals/cabinet_door_surface_23 has corrupted data in primvar st: buffer size 36 doesn't match expected size 72 in faceVarying primvars\n",
      "2022-08-02 20:38:32 [13,667ms] [Warning] [omni.hydra] Mesh /World/Game/mobility/link_1/visuals/cabinet_door_surface_24 has corrupted data in primvar st: buffer size 24 doesn't match expected size 48 in faceVarying primvars\n",
      "2022-08-02 20:38:32 [13,667ms] [Warning] [omni.hydra] Mesh /World/Game/mobility/link_1/visuals/cabinet_door_surface_25 has corrupted data in primvar st: buffer size 36 doesn't match expected size 72 in faceVarying primvars\n",
      "2022-08-02 20:38:32 [13,667ms] [Warning] [omni.hydra] Mesh /World/Game/mobility/link_1/visuals/cabinet_door_surface_26 has corrupted data in primvar st: buffer size 6 doesn't match expected size 12 in faceVarying primvars\n",
      "2022-08-02 20:38:32 [13,667ms] [Warning] [omni.hydra] Mesh /World/Game/mobility/link_1/visuals/handle_22 has corrupted data in primvar st: buffer size 72 doesn't match expected size 264 in faceVarying primvars\n",
      "2022-08-02 20:38:32 [13,668ms] [Warning] [omni.hydra] Mesh /World/Game/mobility/link_2/visuals/drawer_front_16 has corrupted data in primvar st: buffer size 24 doesn't match expected size 48 in faceVarying primvars\n",
      "2022-08-02 20:38:32 [13,668ms] [Warning] [omni.hydra] Mesh /World/Game/mobility/link_2/visuals/drawer_front_17 has corrupted data in primvar st: buffer size 6 doesn't match expected size 12 in faceVarying primvars\n",
      "2022-08-02 20:38:32 [13,668ms] [Warning] [omni.hydra] Mesh /World/Game/mobility/link_2/visuals/drawer_front_18 has corrupted data in primvar st: buffer size 36 doesn't match expected size 72 in faceVarying primvars\n",
      "2022-08-02 20:38:32 [13,668ms] [Warning] [omni.hydra] Mesh /World/Game/mobility/link_2/visuals/drawer_front_19 has corrupted data in primvar st: buffer size 36 doesn't match expected size 72 in faceVarying primvars\n",
      "2022-08-02 20:38:32 [13,668ms] [Warning] [omni.hydra] Mesh /World/Game/mobility/link_2/visuals/drawer_front_20 has corrupted data in primvar st: buffer size 18 doesn't match expected size 48 in faceVarying primvars\n",
      "2022-08-02 20:38:32 [13,668ms] [Warning] [omni.hydra] Mesh /World/Game/mobility/link_2/visuals/drawer_front_20 has corrupted data in primvar st_1: buffer size 6 doesn't match expected size 48 in faceVarying primvars\n"
     ]
    },
    {
     "name": "stdout",
     "output_type": "stream",
     "text": [
      "2022-08-02 20:38:32 [13,668ms] [Warning] [omni.hydra] Mesh /World/Game/mobility/link_2/visuals/drawer_front_21 has corrupted data in primvar st: buffer size 24 doesn't match expected size 48 in faceVarying primvars\n",
      "2022-08-02 20:38:32 [13,668ms] [Warning] [omni.hydra] Mesh /World/Game/mobility/link_2/visuals/drawer_front_22 has corrupted data in primvar st: buffer size 6 doesn't match expected size 12 in faceVarying primvars\n",
      "2022-08-02 20:38:32 [13,668ms] [Warning] [omni.hydra] Mesh /World/Game/mobility/link_2/visuals/drawer_front_23 has corrupted data in primvar st: buffer size 24 doesn't match expected size 48 in faceVarying primvars\n",
      "2022-08-02 20:38:32 [13,668ms] [Warning] [omni.hydra] Mesh /World/Game/mobility/link_2/visuals/drawer_side_17 has corrupted data in primvar st: buffer size 36 doesn't match expected size 72 in faceVarying primvars\n",
      "2022-08-02 20:38:32 [13,669ms] [Warning] [omni.hydra] Mesh /World/Game/mobility/link_2/visuals/drawer_side_19 has corrupted data in primvar st: buffer size 36 doesn't match expected size 72 in faceVarying primvars\n",
      "2022-08-02 20:38:32 [13,669ms] [Warning] [omni.hydra] Mesh /World/Game/mobility/link_2/visuals/drawer_back_19 has corrupted data in primvar st: buffer size 24 doesn't match expected size 48 in faceVarying primvars\n",
      "2022-08-02 20:38:32 [13,669ms] [Warning] [omni.hydra] Mesh /World/Game/mobility/link_2/visuals/drawer_bottom_20 has corrupted data in primvar st: buffer size 6 doesn't match expected size 12 in faceVarying primvars\n",
      "2022-08-02 20:38:32 [13,669ms] [Warning] [omni.hydra] Mesh /World/Game/mobility/link_2/visuals/drawer_bottom_21 has corrupted data in primvar st: buffer size 6 doesn't match expected size 12 in faceVarying primvars\n",
      "2022-08-02 20:38:32 [13,669ms] [Warning] [omni.hydra] Mesh /World/Game/mobility/link_2/visuals/handle_15 has corrupted data in primvar st: buffer size 72 doesn't match expected size 264 in faceVarying primvars\n",
      "2022-08-02 20:38:32 [13,771ms] [Warning] [omni.hydra] Mesh /World/Game/mobility/link_3/visuals/shelf_9 has corrupted data in primvar st: buffer size 18 doesn't match expected size 36 in faceVarying primvars\n",
      "2022-08-02 20:38:32 [13,771ms] [Warning] [omni.hydra] Mesh /World/Game/mobility/link_3/visuals/vertical_side_panel_31 has corrupted data in primvar st: buffer size 18 doesn't match expected size 48 in faceVarying primvars\n",
      "2022-08-02 20:38:32 [13,771ms] [Warning] [omni.hydra] Mesh /World/Game/mobility/link_3/visuals/vertical_side_panel_30 has corrupted data in primvar st: buffer size 18 doesn't match expected size 48 in faceVarying primvars\n",
      "2022-08-02 20:38:32 [13,771ms] [Warning] [omni.hydra] Mesh /World/Game/mobility/link_3/visuals/vertical_side_panel_32 has corrupted data in primvar st: buffer size 18 doesn't match expected size 48 in faceVarying primvars\n",
      "2022-08-02 20:38:32 [13,771ms] [Warning] [omni.hydra] Mesh /World/Game/mobility/link_3/visuals/vertical_side_panel_33 has corrupted data in primvar st: buffer size 18 doesn't match expected size 48 in faceVarying primvars\n",
      "2022-08-02 20:38:32 [13,771ms] [Warning] [omni.hydra] Mesh /World/Game/mobility/link_3/visuals/back_panel_33 has corrupted data in primvar st: buffer size 18 doesn't match expected size 36 in faceVarying primvars\n",
      "2022-08-02 20:38:32 [13,772ms] [Warning] [omni.hydra] Mesh /World/Game/mobility/link_3/visuals/bottom_panel_33 has corrupted data in primvar st: buffer size 6 doesn't match expected size 12 in faceVarying primvars\n",
      "2022-08-02 20:38:32 [13,772ms] [Warning] [omni.hydra] Mesh /World/Game/mobility/link_3/visuals/frame_vertical_bar_34 has corrupted data in primvar st: buffer size 18 doesn't match expected size 72 in faceVarying primvars\n",
      "2022-08-02 20:38:32 [13,772ms] [Warning] [omni.hydra] Mesh /World/Game/mobility/link_3/visuals/frame_vertical_bar_35 has corrupted data in primvar st: buffer size 18 doesn't match expected size 72 in faceVarying primvars\n",
      "2022-08-02 20:38:32 [13,772ms] [Warning] [omni.hydra] Mesh /World/Game/mobility/link_3/visuals/frame_horizontal_bar_36 has corrupted data in primvar st: buffer size 18 doesn't match expected size 48 in faceVarying primvars\n",
      "2022-08-02 20:38:32 [13,772ms] [Warning] [omni.hydra] Mesh /World/Game/mobility/link_3/visuals/frame_horizontal_bar_37 has corrupted data in primvar st: buffer size 18 doesn't match expected size 36 in faceVarying primvars\n",
      "2022-08-02 20:38:32 [13,772ms] [Warning] [omni.hydra] Mesh /World/Game/mobility/link_3/visuals/vertical_side_panel_31 has corrupted data in primvar st_1: buffer size 6 doesn't match expected size 48 in faceVarying primvars\n",
      "2022-08-02 20:38:32 [13,772ms] [Warning] [omni.hydra] Mesh /World/Game/mobility/link_3/visuals/frame_horizontal_bar_38 has corrupted data in primvar st: buffer size 18 doesn't match expected size 36 in faceVarying primvars\n",
      "2022-08-02 20:38:32 [13,772ms] [Warning] [omni.hydra] Mesh /World/Game/mobility/link_3/visuals/vertical_side_panel_30 has corrupted data in primvar st_1: buffer size 6 doesn't match expected size 48 in faceVarying primvars\n",
      "2022-08-02 20:38:32 [13,772ms] [Warning] [omni.hydra] Mesh /World/Game/mobility/link_3/visuals/vertical_side_panel_32 has corrupted data in primvar st_1: buffer size 6 doesn't match expected size 48 in faceVarying primvars\n",
      "2022-08-02 20:38:32 [13,772ms] [Warning] [omni.hydra] Mesh /World/Game/mobility/link_3/visuals/frame_horizontal_bar_39 has corrupted data in primvar st: buffer size 24 doesn't match expected size 48 in faceVarying primvars\n",
      "2022-08-02 20:38:32 [13,772ms] [Warning] [omni.hydra] Mesh /World/Game/mobility/link_3/visuals/vertical_side_panel_33 has corrupted data in primvar st_1: buffer size 6 doesn't match expected size 48 in faceVarying primvars\n",
      "2022-08-02 20:38:32 [13,772ms] [Warning] [omni.hydra] Mesh /World/Game/mobility/link_3/visuals/frame_horizontal_bar_40 has corrupted data in primvar st: buffer size 18 doesn't match expected size 48 in faceVarying primvars\n",
      "2022-08-02 20:38:32 [13,772ms] [Warning] [omni.hydra] Mesh /World/Game/mobility/link_3/visuals/frame_vertical_bar_34 has corrupted data in primvar st_1: buffer size 18 doesn't match expected size 72 in faceVarying primvars\n",
      "2022-08-02 20:38:32 [13,772ms] [Warning] [omni.hydra] Mesh /World/Game/mobility/link_3/visuals/frame_vertical_bar_35 has corrupted data in primvar st_1: buffer size 18 doesn't match expected size 72 in faceVarying primvars\n",
      "2022-08-02 20:38:32 [13,772ms] [Warning] [omni.hydra] Mesh /World/Game/mobility/link_3/visuals/base_side_panel_26 has corrupted data in primvar st: buffer size 12 doesn't match expected size 24 in faceVarying primvars\n",
      "2022-08-02 20:38:32 [13,772ms] [Warning] [omni.hydra] Mesh /World/Game/mobility/link_3/visuals/frame_horizontal_bar_36 has corrupted data in primvar st_1: buffer size 6 doesn't match expected size 48 in faceVarying primvars\n",
      "2022-08-02 20:38:32 [13,772ms] [Warning] [omni.hydra] Mesh /World/Game/mobility/link_3/visuals/base_side_panel_27 has corrupted data in primvar st: buffer size 6 doesn't match expected size 36 in faceVarying primvars\n",
      "2022-08-02 20:38:32 [13,772ms] [Warning] [omni.hydra] Mesh /World/Game/mobility/link_3/visuals/base_side_panel_28 has corrupted data in primvar st: buffer size 6 doesn't match expected size 12 in faceVarying primvars\n",
      "2022-08-02 20:38:32 [13,772ms] [Warning] [omni.hydra] Mesh /World/Game/mobility/link_3/visuals/base_side_panel_29 has corrupted data in primvar st: buffer size 6 doesn't match expected size 36 in faceVarying primvars\n",
      "2022-08-02 20:38:32 [13,772ms] [Warning] [omni.hydra] Mesh /World/Game/mobility/link_3/visuals/frame_horizontal_bar_40 has corrupted data in primvar st_1: buffer size 6 doesn't match expected size 48 in faceVarying primvars\n",
      "2022-08-02 20:38:32 [13,772ms] [Warning] [omni.hydra] Mesh /World/Game/mobility/link_3/visuals/base_side_panel_29 has corrupted data in primvar st_1: buffer size 12 doesn't match expected size 36 in faceVarying primvars\n",
      "2022-08-02 20:38:32 [13,772ms] [Warning] [omni.hydra] Mesh /World/Game/mobility/link_0/visuals/cabinet_door_surface_24 has corrupted data in primvar st: buffer size 36 doesn't match expected size 72 in faceVarying primvars\n",
      "2022-08-02 20:38:32 [13,772ms] [Warning] [omni.hydra] Mesh /World/Game/mobility/link_0/visuals/cabinet_door_surface_23 has corrupted data in primvar st: buffer size 6 doesn't match expected size 12 in faceVarying primvars\n",
      "2022-08-02 20:38:32 [13,772ms] [Warning] [omni.hydra] Mesh /World/Game/mobility/link_3/visuals/base_side_panel_27 has corrupted data in primvar st_1: buffer size 12 doesn't match expected size 36 in faceVarying primvars\n",
      "2022-08-02 20:38:32 [13,772ms] [Warning] [omni.hydra] Mesh /World/Game/mobility/link_0/visuals/cabinet_door_surface_25 has corrupted data in primvar st: buffer size 24 doesn't match expected size 48 in faceVarying primvars\n",
      "2022-08-02 20:38:32 [13,772ms] [Warning] [omni.hydra] Mesh /World/Game/mobility/link_0/visuals/cabinet_door_surface_26 has corrupted data in primvar st: buffer size 36 doesn't match expected size 72 in faceVarying primvars\n",
      "2022-08-02 20:38:32 [13,772ms] [Warning] [omni.hydra] Mesh /World/Game/mobility/link_0/visuals/cabinet_door_surface_27 has corrupted data in primvar st: buffer size 24 doesn't match expected size 48 in faceVarying primvars\n",
      "2022-08-02 20:38:32 [13,772ms] [Warning] [omni.hydra] Mesh /World/Game/mobility/link_0/visuals/cabinet_door_surface_28 has corrupted data in primvar st: buffer size 6 doesn't match expected size 12 in faceVarying primvars\n",
      "2022-08-02 20:38:32 [13,772ms] [Warning] [omni.hydra] Mesh /World/Game/mobility/link_0/visuals/handle_26 has corrupted data in primvar st: buffer size 72 doesn't match expected size 264 in faceVarying primvars\n",
      "2022-08-02 20:38:32 [13,772ms] [Warning] [omni.hydra] Mesh /World/Game/mobility/link_1/visuals/cabinet_door_surface_21 has corrupted data in primvar st: buffer size 6 doesn't match expected size 12 in faceVarying primvars\n",
      "2022-08-02 20:38:32 [13,772ms] [Warning] [omni.hydra] Mesh /World/Game/mobility/link_1/visuals/cabinet_door_surface_22 has corrupted data in primvar st: buffer size 24 doesn't match expected size 48 in faceVarying primvars\n",
      "2022-08-02 20:38:32 [13,772ms] [Warning] [omni.hydra] Mesh /World/Game/mobility/link_1/visuals/cabinet_door_surface_26 has corrupted data in primvar st: buffer size 6 doesn't match expected size 12 in faceVarying primvars\n",
      "2022-08-02 20:38:32 [13,772ms] [Warning] [omni.hydra] Mesh /World/Game/mobility/link_1/visuals/cabinet_door_surface_23 has corrupted data in primvar st: buffer size 36 doesn't match expected size 72 in faceVarying primvars\n",
      "2022-08-02 20:38:32 [13,772ms] [Warning] [omni.hydra] Mesh /World/Game/mobility/link_1/visuals/cabinet_door_surface_24 has corrupted data in primvar st: buffer size 24 doesn't match expected size 48 in faceVarying primvars\n",
      "2022-08-02 20:38:32 [13,772ms] [Warning] [omni.hydra] Mesh /World/Game/mobility/link_1/visuals/cabinet_door_surface_25 has corrupted data in primvar st: buffer size 36 doesn't match expected size 72 in faceVarying primvars\n",
      "2022-08-02 20:38:32 [13,772ms] [Warning] [omni.hydra] Mesh /World/Game/mobility/link_1/visuals/handle_22 has corrupted data in primvar st: buffer size 72 doesn't match expected size 264 in faceVarying primvars\n",
      "2022-08-02 20:38:32 [13,772ms] [Warning] [omni.hydra] Mesh /World/Game/mobility/link_2/visuals/drawer_front_16 has corrupted data in primvar st: buffer size 24 doesn't match expected size 48 in faceVarying primvars\n",
      "2022-08-02 20:38:32 [13,772ms] [Warning] [omni.hydra] Mesh /World/Game/mobility/link_2/visuals/drawer_front_17 has corrupted data in primvar st: buffer size 6 doesn't match expected size 12 in faceVarying primvars\n",
      "2022-08-02 20:38:32 [13,772ms] [Warning] [omni.hydra] Mesh /World/Game/mobility/link_2/visuals/drawer_front_18 has corrupted data in primvar st: buffer size 36 doesn't match expected size 72 in faceVarying primvars\n",
      "2022-08-02 20:38:32 [13,772ms] [Warning] [omni.hydra] Mesh /World/Game/mobility/link_2/visuals/drawer_front_19 has corrupted data in primvar st: buffer size 36 doesn't match expected size 72 in faceVarying primvars\n",
      "2022-08-02 20:38:32 [13,772ms] [Warning] [omni.hydra] Mesh /World/Game/mobility/link_2/visuals/drawer_front_20 has corrupted data in primvar st: buffer size 18 doesn't match expected size 48 in faceVarying primvars\n",
      "2022-08-02 20:38:32 [13,772ms] [Warning] [omni.hydra] Mesh /World/Game/mobility/li"
     ]
    }
   ],
   "source": [
    "world.reset()\n",
    "world.render()"
   ]
  },
  {
   "cell_type": "code",
   "execution_count": 14,
   "id": "fb15d41d",
   "metadata": {},
   "outputs": [],
   "source": [
    "# stage = world.scene.stage\n",
    "# list(stage.TraverseAll())"
   ]
  },
  {
   "cell_type": "code",
   "execution_count": 15,
   "id": "67a50dc9",
   "metadata": {},
   "outputs": [
    {
     "data": {
      "image/png": "[encoded data removed]",
      "text/plain": [
       "<PIL.Image.Image image mode=RGBA size=256x256 at 0x7F91D806F590>"
      ]
     },
     "execution_count": 15,
     "metadata": {},
     "output_type": "execute_result"
    }
   ],
   "source": [
    "env.get_image()"
   ]
  },
  {
   "cell_type": "markdown",
   "id": "c7741525",
   "metadata": {},
   "source": [
    "# Task"
   ]
  },
  {
   "cell_type": "code",
   "execution_count": 16,
   "id": "6100a151",
   "metadata": {},
   "outputs": [],
   "source": [
    "from task.checker import TaskChecker\n",
    "from task.instructor import SceneInstructor"
   ]
  },
  {
   "cell_type": "code",
   "execution_count": 17,
   "id": "40c0d45b",
   "metadata": {},
   "outputs": [
    {
     "name": "stdout",
     "output_type": "stream",
     "text": [
      "analysis_spatial_rel:  {'/World/Game/mobility/link_0/visuals/handle_26': {'joint_type': 'PhysicsRevoluteJoint', 'cabinet_type': 'door', 'vertical_description': '', 'horizontal_description': '', 'joint': 'joint_0', 'relative_to_game_center': 'right', 'direction': 'vertical'}, '/World/Game/mobility/link_1/visuals/handle_22': {'joint_type': 'PhysicsRevoluteJoint', 'cabinet_type': 'door', 'vertical_description': '', 'horizontal_description': '', 'joint': 'joint_1', 'relative_to_game_center': 'left', 'direction': 'vertical'}, '/World/Game/mobility/link_2/visuals/handle_15': {'joint_type': 'PhysicsPrismaticJoint', 'cabinet_type': 'drawer', 'vertical_description': '', 'horizontal_description': '', 'joint': 'joint_2', 'relative_to_game_center': 'left', 'direction': 'horizontal'}}\n"
     ]
    }
   ],
   "source": [
    "scene_instr = SceneInstructor()\n",
    "scene_instr.analysis()\n",
    "# scene_instr.build_handle_desc_ui()"
   ]
  },
  {
   "cell_type": "code",
   "execution_count": 18,
   "id": "4641e1ad",
   "metadata": {},
   "outputs": [
    {
     "data": {
      "text/plain": [
       "True"
      ]
     },
     "execution_count": 18,
     "metadata": {},
     "output_type": "execute_result"
    }
   ],
   "source": [
    "scene_instr.is_obj_valid"
   ]
  },
  {
   "cell_type": "code",
   "execution_count": 19,
   "id": "bb7bf89c",
   "metadata": {},
   "outputs": [
    {
     "data": {
      "text/plain": [
       "{'/World/Game/mobility/link_0/visuals/handle_26': {'joint_type': 'PhysicsRevoluteJoint',\n",
       "  'cabinet_type': 'door',\n",
       "  'vertical_description': 'bottom',\n",
       "  'horizontal_description': 'right',\n",
       "  'joint': 'joint_0',\n",
       "  'relative_to_game_center': 'right',\n",
       "  'direction': 'vertical'},\n",
       " '/World/Game/mobility/link_1/visuals/handle_22': {'joint_type': 'PhysicsRevoluteJoint',\n",
       "  'cabinet_type': 'door',\n",
       "  'vertical_description': 'bottom',\n",
       "  'horizontal_description': 'left',\n",
       "  'joint': 'joint_1',\n",
       "  'relative_to_game_center': 'left',\n",
       "  'direction': 'vertical'},\n",
       " '/World/Game/mobility/link_2/visuals/handle_15': {'joint_type': 'PhysicsPrismaticJoint',\n",
       "  'cabinet_type': 'drawer',\n",
       "  'vertical_description': 'top',\n",
       "  'horizontal_description': 'right',\n",
       "  'joint': 'joint_2',\n",
       "  'relative_to_game_center': 'left',\n",
       "  'direction': 'horizontal'}}"
      ]
     },
     "execution_count": 19,
     "metadata": {},
     "output_type": "execute_result"
    }
   ],
   "source": [
    "scene_instr.valid_handle_list"
   ]
  },
  {
   "cell_type": "code",
   "execution_count": 27,
   "id": "2872883d",
   "metadata": {},
   "outputs": [],
   "source": [
    "handle_path_str = list(scene_instr.valid_handle_list.keys())[1]\n",
    "\n",
    "handle_joint_type = scene_instr.valid_handle_list[handle_path_str][\"joint_type\"]\n",
    "handle_joint = scene_instr.valid_handle_list[handle_path_str][\"joint\"]\n",
    "handle_rel_direciton = scene_instr.valid_handle_list[handle_path_str][\"relative_to_game_center\"]\n",
    "handle_direction = scene_instr.valid_handle_list[handle_path_str][\"direction\"]"
   ]
  },
  {
   "cell_type": "code",
   "execution_count": 28,
   "id": "3818f9a3",
   "metadata": {},
   "outputs": [
    {
     "data": {
      "text/plain": [
       "('/World/Game/mobility/link_1/visuals/handle_22',\n",
       " 'PhysicsRevoluteJoint',\n",
       " 'joint_1',\n",
       " 'left')"
      ]
     },
     "execution_count": 28,
     "metadata": {},
     "output_type": "execute_result"
    }
   ],
   "source": [
    "handle_path_str, handle_joint_type, handle_joint, handle_rel_direciton"
   ]
  },
  {
   "cell_type": "code",
   "execution_count": 29,
   "id": "012ac31e",
   "metadata": {},
   "outputs": [],
   "source": [
    "task_checker = TaskChecker(\"mobility\", handle_joint, handle_joint_type, IS_RUNTIME=True)"
   ]
  },
  {
   "cell_type": "markdown",
   "id": "ce1a3a56",
   "metadata": {},
   "source": [
    "# Solve"
   ]
  },
  {
   "cell_type": "code",
   "execution_count": 30,
   "id": "89e16add",
   "metadata": {},
   "outputs": [
    {
     "name": "stdout",
     "output_type": "stream",
     "text": [
      "simlation context numpy None\n",
      "num_envs 1\n"
     ]
    },
    {
     "ename": "Exception",
     "evalue": "Cannot add the object rigid_prim_view to the scene since its name is not unique",
     "output_type": "error",
     "traceback": [
      "\u001b[0;31m---------------------------------------------------------------------------\u001b[0m",
      "\u001b[0;31mException\u001b[0m                                 Traceback (most recent call last)",
      "\u001b[0;32m/tmp/ipykernel_64357/2471389669.py\u001b[0m in \u001b[0;36m<module>\u001b[0;34m\u001b[0m\n\u001b[1;32m      2\u001b[0m \u001b[0mworld\u001b[0m\u001b[0;34m.\u001b[0m\u001b[0mreset\u001b[0m\u001b[0;34m(\u001b[0m\u001b[0;34m)\u001b[0m\u001b[0;34m\u001b[0m\u001b[0;34m\u001b[0m\u001b[0m\n\u001b[1;32m      3\u001b[0m \u001b[0mcontroller\u001b[0m\u001b[0;34m.\u001b[0m\u001b[0mstart\u001b[0m\u001b[0;34m(\u001b[0m\u001b[0;34m)\u001b[0m\u001b[0;34m\u001b[0m\u001b[0;34m\u001b[0m\u001b[0m\n\u001b[0;32m----> 4\u001b[0;31m \u001b[0mworld\u001b[0m\u001b[0;34m.\u001b[0m\u001b[0mscene\u001b[0m\u001b[0;34m.\u001b[0m\u001b[0madd\u001b[0m\u001b[0;34m(\u001b[0m\u001b[0mcontroller\u001b[0m\u001b[0;34m.\u001b[0m\u001b[0mrobots\u001b[0m\u001b[0;34m)\u001b[0m\u001b[0;34m\u001b[0m\u001b[0;34m\u001b[0m\u001b[0m\n\u001b[0m",
      "\u001b[0;32m~/.local/share/ov/pkg/isaac_sim-2022.1.0/exts/omni.isaac.core/omni/isaac/core/scenes/scene.py\u001b[0m in \u001b[0;36madd\u001b[0;34m(self, obj)\u001b[0m\n\u001b[1;32m     81\u001b[0m         \"\"\"\n\u001b[1;32m     82\u001b[0m         \u001b[0;32mif\u001b[0m \u001b[0mself\u001b[0m\u001b[0;34m.\u001b[0m\u001b[0m_scene_registry\u001b[0m\u001b[0;34m.\u001b[0m\u001b[0mname_exists\u001b[0m\u001b[0;34m(\u001b[0m\u001b[0mobj\u001b[0m\u001b[0;34m.\u001b[0m\u001b[0mname\u001b[0m\u001b[0;34m)\u001b[0m\u001b[0;34m:\u001b[0m\u001b[0;34m\u001b[0m\u001b[0;34m\u001b[0m\u001b[0m\n\u001b[0;32m---> 83\u001b[0;31m             \u001b[0;32mraise\u001b[0m \u001b[0mException\u001b[0m\u001b[0;34m(\u001b[0m\u001b[0;34m\"Cannot add the object {} to the scene since its name is not unique\"\u001b[0m\u001b[0;34m.\u001b[0m\u001b[0mformat\u001b[0m\u001b[0;34m(\u001b[0m\u001b[0mobj\u001b[0m\u001b[0;34m.\u001b[0m\u001b[0mname\u001b[0m\u001b[0;34m)\u001b[0m\u001b[0;34m)\u001b[0m\u001b[0;34m\u001b[0m\u001b[0;34m\u001b[0m\u001b[0m\n\u001b[0m\u001b[1;32m     84\u001b[0m         \u001b[0;32mif\u001b[0m \u001b[0misinstance\u001b[0m\u001b[0;34m(\u001b[0m\u001b[0mobj\u001b[0m\u001b[0;34m,\u001b[0m \u001b[0mRigidPrim\u001b[0m\u001b[0;34m)\u001b[0m\u001b[0;34m:\u001b[0m\u001b[0;34m\u001b[0m\u001b[0;34m\u001b[0m\u001b[0m\n\u001b[1;32m     85\u001b[0m             \u001b[0mself\u001b[0m\u001b[0;34m.\u001b[0m\u001b[0m_scene_registry\u001b[0m\u001b[0;34m.\u001b[0m\u001b[0madd_rigid_object\u001b[0m\u001b[0;34m(\u001b[0m\u001b[0mname\u001b[0m\u001b[0;34m=\u001b[0m\u001b[0mobj\u001b[0m\u001b[0;34m.\u001b[0m\u001b[0mname\u001b[0m\u001b[0;34m,\u001b[0m \u001b[0mrigid_object\u001b[0m\u001b[0;34m=\u001b[0m\u001b[0mobj\u001b[0m\u001b[0;34m)\u001b[0m\u001b[0;34m\u001b[0m\u001b[0;34m\u001b[0m\u001b[0m\n",
      "\u001b[0;31mException\u001b[0m: Cannot add the object rigid_prim_view to the scene since its name is not unique"
     ]
    }
   ],
   "source": [
    "# init\n",
    "world.reset()\n",
    "controller.start()\n",
    "world.scene.add(controller.robots)"
   ]
  },
  {
   "cell_type": "code",
   "execution_count": 35,
   "id": "b2cf38ae",
   "metadata": {},
   "outputs": [],
   "source": [
    "# get grasp location, if handle is horizontal, gripper should be vertical\n",
    "goal_pos, goal_rot = controller.calculate_grasp_location(keyword = handle_path_str, \n",
    "                                                         verticle = handle_direction == \"horizontal\")"
   ]
  },
  {
   "cell_type": "code",
   "execution_count": 36,
   "id": "71b6c6eb",
   "metadata": {},
   "outputs": [
    {
     "data": {
      "text/plain": [
       "(array([[0.5139998 , 0.03784023, 0.49577034]], dtype=float32),\n",
       " array([[0.     , 0.70711, 0.     , 0.70711]], dtype=float32))"
      ]
     },
     "execution_count": 36,
     "metadata": {},
     "output_type": "execute_result"
    }
   ],
   "source": [
    "goal_pos, goal_rot"
   ]
  },
  {
   "cell_type": "code",
   "execution_count": 37,
   "id": "6f932394",
   "metadata": {},
   "outputs": [
    {
     "name": "stdout",
     "output_type": "stream",
     "text": [
      "Not Done rotation, position [[0.42120337 0.03115311 0.4827958 ]] [[ 0.04495591  0.77814716 -0.04132381  0.62510663]]\n"
     ]
    }
   ],
   "source": [
    "# move above\n",
    "goal_pos[...,0] -= 0.1\n",
    "controller.move_hand_to_fast(goal_pos, goal_rot, world, max_step=1200)"
   ]
  },
  {
   "cell_type": "code",
   "execution_count": 38,
   "id": "964222fb",
   "metadata": {},
   "outputs": [],
   "source": [
    "# move to\n",
    "goal_pos[...,0] += 0.1\n",
    "controller.move_hand_to_slow(goal_pos, goal_rot, world, step = 90)"
   ]
  },
  {
   "cell_type": "code",
   "execution_count": 39,
   "id": "d4893dcc",
   "metadata": {},
   "outputs": [],
   "source": [
    "# close gripper\n",
    "for i in range(60):\n",
    "    world.step(render=True)\n",
    "\n",
    "    u = controller.move_to_target(goal_pos, goal_rot)\n",
    "    u[:,[-2, -1]] = 0.5 - (0.5 - -1) / 60 * i\n",
    "    controller.robots.set_joint_position_targets(u)"
   ]
  },
  {
   "cell_type": "code",
   "execution_count": 40,
   "id": "7931b0f1",
   "metadata": {},
   "outputs": [],
   "source": [
    "if handle_joint_type == \"PhysicsRevoluteJoint\": # door\n",
    "    if handle_rel_direciton == \"right\":\n",
    "        # 1. Open closewise\n",
    "\n",
    "        # rotate and pull\n",
    "        for i in range(0, 60):\n",
    "            world.step(render=True)\n",
    "\n",
    "            target_pos, target_rot = controller.calculate_pull_location(goal_pos, goal_rot, np.pi / 180 * i, 0.3, clock_wise=True)\n",
    "            u = controller.move_to_target(target_pos, target_rot)\n",
    "            u[:,[-2, -1]] = -1\n",
    "            controller.robots.set_joint_position_targets(u)\n",
    "\n",
    "    else:\n",
    "        # 2. Open counter-closewise\n",
    "\n",
    "        # rotate and pull\n",
    "        for i in range(0, 60):\n",
    "            world.step(render=True)\n",
    "\n",
    "            target_pos, target_rot = controller.calculate_pull_location(goal_pos, goal_rot, np.pi / 180 * i, 0.3, \n",
    "                                                                        clock_wise=False)\n",
    "            u = controller.move_to_target(target_pos, target_rot)\n",
    "            u[:,[-2, -1]] = -1\n",
    "            controller.robots.set_joint_position_targets(u)\n",
    "            \n",
    "else: # drawer\n",
    "    # pull only\n",
    "    for i in range(60):\n",
    "        world.step(render=True)\n",
    "\n",
    "        goal_pos[...,0] -= 2e-4 * i\n",
    "        u = controller.move_to_target(goal_pos, goal_rot)\n",
    "        u[:,[-2, -1]] = -1\n",
    "        controller.robots.set_joint_position_targets(u)"
   ]
  },
  {
   "cell_type": "code",
   "execution_count": 41,
   "id": "aec17f2c",
   "metadata": {},
   "outputs": [
    {
     "data": {
      "text/plain": [
       "32.760224471310686"
      ]
     },
     "execution_count": 41,
     "metadata": {},
     "output_type": "execute_result"
    }
   ],
   "source": [
    "# check task\n",
    "task_checker.joint_checker.compute_percentage()"
   ]
  },
  {
   "cell_type": "code",
   "execution_count": null,
   "id": "ca6f8558",
   "metadata": {},
   "outputs": [],
   "source": [
    "world.render()"
   ]
  },
  {
   "cell_type": "code",
   "execution_count": null,
   "id": "49c6a8a1",
   "metadata": {},
   "outputs": [],
   "source": [
    "env.get_image()"
   ]
  },
  {
   "cell_type": "markdown",
   "id": "5e5da811",
   "metadata": {},
   "source": [
    "# Close"
   ]
  },
  {
   "cell_type": "code",
   "execution_count": 42,
   "id": "35b2f55a",
   "metadata": {},
   "outputs": [
    {
     "name": "stdout",
     "output_type": "stream",
     "text": [
      "ision - triangle mesh collision (approximation None/MeshSimplifixation) cannot be a part of a dynamic body, falling back to convexHull approximation: /World/Game/mobility/link_2/visuals/handle_16\n",
      "2022-08-02 20:38:36 [17,867ms] [Warning] [omni.physx.plugin] PhysicsUSD: Parse collision - triangle mesh collision (approximation None/MeshSimplifixation) cannot be a part of a dynamic body, falling back to convexHull approximation: /World/Game/mobility/link_2/visuals/handle_17\n",
      "2022-08-02 20:38:36 [17,871ms] [Warning] [omni.physx.plugin] The rigid body at /World/Game/mobility/base has a possibly invalid inertia tensor of {1.0, 1.0, 1.0} and a negative mass. Either specify correct values in the mass properties, or add collider(s) to any shape(s) that you wish to automatically compute mass properties for. If you do not want the objects to collide, add colliders regardless then disable the 'enable collision' property.\n",
      "2022-08-02 20:39:07 [48,887ms] [Warning] [omni.physx.plugin] PhysicsUSD: Parse collision - triangle mesh collision (approximation None/MeshSimplifixation) cannot be a part of a dynamic body, falling back to convexHull approximation: /World/Game/mobility/link_0/visuals/handle_24\n",
      "2022-08-02 20:39:07 [48,887ms] [Warning] [omni.physx.plugin] PhysicsUSD: Parse collision - triangle mesh collision (approximation None/MeshSimplifixation) cannot be a part of a dynamic body, falling back to convexHull approximation: /World/Game/mobility/link_0/visuals/handle_25\n",
      "2022-08-02 20:39:07 [48,887ms] [Warning] [omni.physx.plugin] PhysicsUSD: Parse collision - triangle mesh collision (approximation None/MeshSimplifixation) cannot be a part of a dynamic body, falling back to convexHull approximation: /World/Game/mobility/link_0/visuals/handle_26\n",
      "2022-08-02 20:39:07 [48,888ms] [Warning] [omni.physx.plugin] PhysicsUSD: Parse collision - triangle mesh collision (approximation None/MeshSimplifixation) cannot be a part of a dynamic body, falling back to convexHull approximation: /World/Game/mobility/link_1/visuals/handle_22\n",
      "2022-08-02 20:39:07 [48,888ms] [Warning] [omni.physx.plugin] PhysicsUSD: Parse collision - triangle mesh collision (approximation None/MeshSimplifixation) cannot be a part of a dynamic body, falling back to convexHull approximation: /World/Game/mobility/link_1/visuals/handle_23\n",
      "2022-08-02 20:39:07 [48,888ms] [Warning] [omni.physx.plugin] PhysicsUSD: Parse collision - triangle mesh collision (approximation None/MeshSimplifixation) cannot be a part of a dynamic body, falling back to convexHull approximation: /World/Game/mobility/link_1/visuals/handle_24\n",
      "2022-08-02 20:39:07 [48,889ms] [Warning] [omni.physx.plugin] PhysicsUSD: Parse collision - triangle mesh collision (approximation None/MeshSimplifixation) cannot be a part of a dynamic body, falling back to convexHull approximation: /World/Game/mobility/link_2/visuals/handle_15\n",
      "2022-08-02 20:39:07 [48,889ms] [Warning] [omni.physx.plugin] PhysicsUSD: Parse collision - triangle mesh collision (approximation None/MeshSimplifixation) cannot be a part of a dynamic body, falling back to convexHull approximation: /World/Game/mobility/link_2/visuals/handle_16\n",
      "2022-08-02 20:39:07 [48,890ms] [Warning] [omni.physx.plugin] PhysicsUSD: Parse collision - triangle mesh collision (approximation None/MeshSimplifixation) cannot be a part of a dynamic body, falling back to convexHull approximation: /World/Game/mobility/link_2/visuals/handle_17\n",
      "2022-08-02 20:39:07 [48,892ms] [Warning] [omni.physx.plugin] The rigid body at /World/Game/mobility/base has a possibly invalid inertia tensor of {1.0, 1.0, 1.0} and a negative mass. Either specify correct values in the mass properties, or add collider(s) to any shape(s) that you wish to automatically compute mass properties for. If you do not want the objects to collide, add colliders regardless then disable the 'enable collision' property.\n",
      "2022-08-02 20:41:10 [171,988ms] [Warning] [omni.physx.plugin] PhysicsUSD: Parse collision - triangle mesh collision (approximation None/MeshSimplifixation) cannot be a part of a dynamic body, falling back to convexHull"
     ]
    }
   ],
   "source": [
    "world.reset()"
   ]
  },
  {
   "cell_type": "code",
   "execution_count": 43,
   "id": "5ef162ed",
   "metadata": {},
   "outputs": [],
   "source": [
    "world.scene.remove_object(mobility_obj_name)\n",
    "\n",
    "# omni.kit.commands.execute(\"DeletePrims\", paths=[\"/World/Game/mobility\"])"
   ]
  },
  {
   "cell_type": "code",
   "execution_count": 44,
   "id": "0c0d3214",
   "metadata": {},
   "outputs": [],
   "source": [
    "world.reset()\n",
    "world.render()"
   ]
  },
  {
   "cell_type": "code",
   "execution_count": 45,
   "id": "1278747a",
   "metadata": {},
   "outputs": [
    {
     "data": {
      "image/png": "[encoded data removed]",
      "text/plain": [
       "<PIL.Image.Image image mode=RGBA size=256x256 at 0x7F850764D4D0>"
      ]
     },
     "execution_count": 45,
     "metadata": {},
     "output_type": "execute_result"
    }
   ],
   "source": [
    "env.get_image()"
   ]
  },
  {
   "cell_type": "code",
   "execution_count": 46,
   "id": "fc6c8500",
   "metadata": {},
   "outputs": [],
   "source": [
    "import os\n",
    "\n",
    "OBJ_INDEX_LIST = []\n",
    "for i in os.listdir(\"/home/yizhou/Research/temp/\"):\n",
    "    if str(i).isdigit():\n",
    "        OBJ_INDEX_LIST.append(i)\n",
    "\n",
    "print(sorted(OBJ_INDEX_LIST, key = lambda x: int(x)))"
   ]
  },
  {
   "cell_type": "code",
   "execution_count": null,
   "id": "ea136fcc",
   "metadata": {},
   "outputs": [],
   "source": []
  }
 ],
 "metadata": {
  "kernelspec": {
   "display_name": "Isaac Sim Python 3",
   "language": "python",
   "name": "isaac_sim_python3"
  },
  "language_info": {
   "codemirror_mode": {
    "name": "ipython",
    "version": 3
   },
   "file_extension": ".py",
   "mimetype": "text/x-python",
   "name": "python",
   "nbconvert_exporter": "python",
   "pygments_lexer": "ipython3",
   "version": "3.7.13"
  }
 },
 "nbformat": 4,
 "nbformat_minor": 5
}
