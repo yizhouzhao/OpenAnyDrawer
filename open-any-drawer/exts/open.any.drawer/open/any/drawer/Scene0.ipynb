{
 "cells": [
  {
   "cell_type": "code",
   "execution_count": null,
   "id": "4700ccf5",
   "metadata": {},
   "outputs": [],
   "source": [
    "import numpy as np\n",
    "\n",
    "import getpass\n",
    "user = getpass.getuser()"
   ]
  },
  {
   "cell_type": "code",
   "execution_count": null,
   "id": "fd5ea2e2",
   "metadata": {},
   "outputs": [],
   "source": [
    "from PIL import Image"
   ]
  },
  {
   "cell_type": "code",
   "execution_count": null,
   "id": "b3afe5ce",
   "metadata": {},
   "outputs": [],
   "source": [
    "from omni.isaac.kit import SimulationApp\n",
    "\n",
    "# \"/home/yizhou/Research/OpenAnyDrawer/scene0.usd\" # \n",
    "usd_path = f\"omniverse://localhost/Users/{user}/scene0.usd\"\n",
    "\n",
    "\n",
    "simulation_app = SimulationApp({\"headless\": True, \"open_usd\": usd_path,  \"livesync_usd\": usd_path}) \n"
   ]
  },
  {
   "cell_type": "markdown",
   "id": "3fb39aad",
   "metadata": {},
   "source": [
    "# World"
   ]
  },
  {
   "cell_type": "code",
   "execution_count": null,
   "id": "b7d966a9",
   "metadata": {},
   "outputs": [],
   "source": [
    "from omni.isaac.core import World\n",
    "world = World()"
   ]
  },
  {
   "cell_type": "code",
   "execution_count": null,
   "id": "283e3c44",
   "metadata": {},
   "outputs": [],
   "source": [
    "from open_env import OpenEnv\n",
    "\n",
    "env = OpenEnv()"
   ]
  },
  {
   "cell_type": "code",
   "execution_count": null,
   "id": "f0f10753",
   "metadata": {},
   "outputs": [],
   "source": [
    "from franka.control import FrankaControl\n",
    "\n",
    "controller = FrankaControl(\"/World/Game*/Franka\", \"/World/Game*/Franka/panda_hand\")"
   ]
  },
  {
   "cell_type": "code",
   "execution_count": null,
   "id": "546c6ba8",
   "metadata": {},
   "outputs": [],
   "source": [
    "env.setup_viewport()"
   ]
  },
  {
   "cell_type": "code",
   "execution_count": null,
   "id": "d4113eec",
   "metadata": {},
   "outputs": [],
   "source": [
    "env.get_image()"
   ]
  },
  {
   "cell_type": "markdown",
   "id": "43194f1a",
   "metadata": {},
   "source": [
    "# Add Object/Robot"
   ]
  },
  {
   "cell_type": "code",
   "execution_count": null,
   "id": "7238cb42",
   "metadata": {},
   "outputs": [],
   "source": [
    "# env.add_robot()"
   ]
  },
  {
   "cell_type": "code",
   "execution_count": null,
   "id": "3136e5ab",
   "metadata": {},
   "outputs": [],
   "source": [
    "env.add_object(4, scale = 0.1)"
   ]
  },
  {
   "cell_type": "code",
   "execution_count": null,
   "id": "ef5db7fd",
   "metadata": {},
   "outputs": [],
   "source": [
    "from omni.isaac.core.prims.xform_prim import XFormPrim\n",
    "mobility_obj = XFormPrim(\"/World/Game/mobility\")\n",
    "mobility_obj_name = mobility_obj.name"
   ]
  },
  {
   "cell_type": "code",
   "execution_count": null,
   "id": "7fb519f0",
   "metadata": {},
   "outputs": [],
   "source": [
    "world.scene.add(mobility_obj)"
   ]
  },
  {
   "cell_type": "code",
   "execution_count": null,
   "id": "2d0aaf97",
   "metadata": {
    "scrolled": true
   },
   "outputs": [],
   "source": [
    "world.reset()\n",
    "world.render()"
   ]
  },
  {
   "cell_type": "code",
   "execution_count": null,
   "id": "fb15d41d",
   "metadata": {},
   "outputs": [],
   "source": [
    "# stage = world.scene.stage\n",
    "# list(stage.TraverseAll())"
   ]
  },
  {
   "cell_type": "code",
   "execution_count": null,
   "id": "a79efde4",
   "metadata": {},
   "outputs": [],
   "source": [
    "env.get_image()"
   ]
  },
  {
   "cell_type": "markdown",
   "id": "49ea63f5",
   "metadata": {},
   "source": [
    "# Task"
   ]
  },
  {
   "cell_type": "code",
   "execution_count": null,
   "id": "6100a151",
   "metadata": {},
   "outputs": [],
   "source": [
    "from task.checker import TaskChecker\n",
    "from task.instructor import SceneInstructor"
   ]
  },
  {
   "cell_type": "code",
   "execution_count": null,
   "id": "40c0d45b",
   "metadata": {},
   "outputs": [],
   "source": [
    "scene_instr = SceneInstructor()\n",
    "scene_instr.analysis()\n",
    "# scene_instr.build_handle_desc_ui()"
   ]
  },
  {
   "cell_type": "code",
   "execution_count": null,
   "id": "ca01893b",
   "metadata": {},
   "outputs": [],
   "source": [
    "scene_instr.is_obj_valid"
   ]
  },
  {
   "cell_type": "code",
   "execution_count": null,
   "id": "a397154f",
   "metadata": {},
   "outputs": [],
   "source": [
    "scene_instr.valid_handle_list"
   ]
  },
  {
   "cell_type": "code",
   "execution_count": null,
   "id": "2872883d",
   "metadata": {},
   "outputs": [],
   "source": [
    "handle_path_str = list(scene_instr.valid_handle_list.keys())[2]\n",
    "\n",
    "handle_joint_type = scene_instr.handle_knowledge[handle_path_str][\"joint_type\"]\n",
    "handle_joint = scene_instr.handle_knowledge[handle_path_str][\"joint_path_str\"].split(\"/\")[-1]\n",
    "\n",
    "\n",
    "rel_direction = scene_instr.handle_knowledge[handle_path_str][\"relative_to_game_center\"]"
   ]
  },
  {
   "cell_type": "code",
   "execution_count": null,
   "id": "3818f9a3",
   "metadata": {},
   "outputs": [],
   "source": [
    "handle_path_str, handle_joint_type, handle_joint, rel_direction"
   ]
  },
  {
   "cell_type": "code",
   "execution_count": null,
   "id": "012ac31e",
   "metadata": {},
   "outputs": [],
   "source": [
    "task_checker = TaskChecker(\"mobility\", handle_joint, handle_joint_type, IS_RUNTIME=True)"
   ]
  },
  {
   "cell_type": "markdown",
   "id": "ce1a3a56",
   "metadata": {},
   "source": [
    "# Solve"
   ]
  },
  {
   "cell_type": "code",
   "execution_count": null,
   "id": "89e16add",
   "metadata": {},
   "outputs": [],
   "source": [
    "# init\n",
    "world.reset()\n",
    "controller.start()\n",
    "# world.scene.add(controller.robots)"
   ]
  },
  {
   "cell_type": "code",
   "execution_count": null,
   "id": "b2cf38ae",
   "metadata": {},
   "outputs": [],
   "source": [
    "# get grasp location\n",
    "goal_pos, goal_rot = controller.calculate_grasp_location(keyword = handle_path_str, verticle = True)"
   ]
  },
  {
   "cell_type": "code",
   "execution_count": null,
   "id": "71b6c6eb",
   "metadata": {},
   "outputs": [],
   "source": [
    "goal_pos, goal_rot"
   ]
  },
  {
   "cell_type": "code",
   "execution_count": null,
   "id": "6f932394",
   "metadata": {},
   "outputs": [],
   "source": [
    "# move above\n",
    "goal_pos[...,0] -= 0.15\n",
    "controller.move_hand_to_fast(goal_pos, goal_rot, world, max_step=300)"
   ]
  },
  {
   "cell_type": "code",
   "execution_count": null,
   "id": "964222fb",
   "metadata": {},
   "outputs": [],
   "source": [
    "# move to\n",
    "goal_pos[...,0] += 0.15\n",
    "controller.move_hand_to_slow(goal_pos, goal_rot, world, step = 90)"
   ]
  },
  {
   "cell_type": "code",
   "execution_count": null,
   "id": "f7897c74",
   "metadata": {},
   "outputs": [],
   "source": [
    "# close gripper\n",
    "for i in range(60):\n",
    "    world.step(render=True)\n",
    "\n",
    "    u = controller.move_to_target(goal_pos, goal_rot)\n",
    "    u[:,[-2, -1]] = 0.5 - (0.5 - -1) / 60 * i\n",
    "    controller.robots.set_joint_position_targets(u)"
   ]
  },
  {
   "cell_type": "code",
   "execution_count": null,
   "id": "7931b0f1",
   "metadata": {},
   "outputs": [],
   "source": [
    "if handle_joint_type == \"PhysicsRevoluteJoint\": # door\n",
    "    if rel_direction == \"right\":\n",
    "        # 1. Open closewise\n",
    "\n",
    "        # rotate and pull\n",
    "        for i in range(0, 60):\n",
    "            world.step(render=True)\n",
    "\n",
    "            target_pos, target_rot = controller.calculate_pull_location(goal_pos, goal_rot, np.pi / 180 * i, 0.3, clock_wise=True)\n",
    "            u = controller.move_to_target(target_pos, target_rot)\n",
    "            u[:,[-2, -1]] = -1\n",
    "            controller.robots.set_joint_position_targets(u)\n",
    "\n",
    "    else:\n",
    "        # 2. Open counter-closewise\n",
    "\n",
    "        # rotate and pull\n",
    "        for i in range(0, 60):\n",
    "            world.step(render=True)\n",
    "\n",
    "            target_pos, target_rot = controller.calculate_pull_location(goal_pos, goal_rot, np.pi / 180 * i, 0.3, \n",
    "                                                                        clock_wise=False)\n",
    "            u = controller.move_to_target(target_pos, target_rot)\n",
    "            u[:,[-2, -1]] = -1\n",
    "            controller.robots.set_joint_position_targets(u)\n",
    "            \n",
    "else: # drawer\n",
    "    # pull only\n",
    "    for i in range(60):\n",
    "        world.step(render=True)\n",
    "\n",
    "        goal_pos[...,0] -= 2e-4 * i\n",
    "        u = controller.move_to_target(goal_pos, goal_rot)\n",
    "        u[:,[-2, -1]] = -1\n",
    "        controller.robots.set_joint_position_targets(u)"
   ]
  },
  {
   "cell_type": "code",
   "execution_count": null,
   "id": "aec17f2c",
   "metadata": {},
   "outputs": [],
   "source": [
    "# check task\n",
    "task_checker.joint_checker.compute_percentage()"
   ]
  },
  {
   "cell_type": "code",
   "execution_count": null,
   "id": "7e1944fd",
   "metadata": {},
   "outputs": [],
   "source": [
    "world.render()"
   ]
  },
  {
   "cell_type": "code",
   "execution_count": null,
   "id": "c83188ec",
   "metadata": {},
   "outputs": [],
   "source": [
    "env.get_image()"
   ]
  },
  {
   "cell_type": "markdown",
   "id": "5e5da811",
   "metadata": {},
   "source": [
    "# Close"
   ]
  },
  {
   "cell_type": "code",
   "execution_count": null,
   "id": "35b2f55a",
   "metadata": {},
   "outputs": [],
   "source": [
    "world.reset()"
   ]
  },
  {
   "cell_type": "code",
   "execution_count": null,
   "id": "5ef162ed",
   "metadata": {},
   "outputs": [],
   "source": [
    "world.scene.remove_object(mobility_obj_name)\n",
    "\n",
    "# omni.kit.commands.execute(\"DeletePrims\", paths=[\"/World/Game/mobility\"])"
   ]
  },
  {
   "cell_type": "code",
   "execution_count": null,
   "id": "ecaa7e75",
   "metadata": {},
   "outputs": [],
   "source": [
    "world.render()"
   ]
  },
  {
   "cell_type": "code",
   "execution_count": null,
   "id": "788b42aa",
   "metadata": {},
   "outputs": [],
   "source": [
    "world.reset()"
   ]
  },
  {
   "cell_type": "code",
   "execution_count": null,
   "id": "6e7a56a6",
   "metadata": {},
   "outputs": [],
   "source": [
    "env.get_image()"
   ]
  },
  {
   "cell_type": "code",
   "execution_count": null,
   "id": "3e156773",
   "metadata": {},
   "outputs": [],
   "source": []
  }
 ],
 "metadata": {
  "kernelspec": {
   "display_name": "Isaac Sim Python 3",
   "language": "python",
   "name": "isaac_sim_python3"
  },
  "language_info": {
   "codemirror_mode": {
    "name": "ipython",
    "version": 3
   },
   "file_extension": ".py",
   "mimetype": "text/x-python",
   "name": "python",
   "nbconvert_exporter": "python",
   "pygments_lexer": "ipython3",
   "version": "3.7.13"
  }
 },
 "nbformat": 4,
 "nbformat_minor": 5
}
