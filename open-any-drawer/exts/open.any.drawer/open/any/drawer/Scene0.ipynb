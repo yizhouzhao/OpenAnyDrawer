{
 "cells": [
  {
   "cell_type": "code",
   "execution_count": 1,
   "id": "4700ccf5",
   "metadata": {},
   "outputs": [],
   "source": [
    "import numpy as np\n",
    "\n",
    "import getpass\n",
    "user = getpass.getuser()"
   ]
  },
  {
   "cell_type": "code",
   "execution_count": 2,
   "id": "b3afe5ce",
   "metadata": {},
   "outputs": [
    {
     "name": "stdout",
     "output_type": "stream",
     "text": [
      "Starting kit application with the fillowing args:  ['/home/yizhou/.local/share/ov/pkg/isaac_sim-2022.1.0/exts/omni.isaac.kit/omni/isaac/kit/simulation_app.py', '/home/yizhou/.local/share/ov/pkg/isaac_sim-2022.1.0/apps/omni.isaac.sim.python.kit', '--/app/tokens/exe-path=/home/yizhou/.local/share/ov/pkg/isaac_sim-2022.1.0/kit', '--/persistent/app/viewport/displayOptions=3094', '--/rtx/materialDb/syncLoads=True', '--/rtx/hydra/materialSyncLoads=True--/omni.kit.plugin/syncUsdLoads=True', '--/app/renderer/resolution/width=1280', '--/app/renderer/resolution/height=720', '--/app/window/width=1440', '--/app/window/height=900', '--/renderer/multiGpu/enabled=True', '--ext-folder', '/home/yizhou/.local/share/ov/pkg/isaac_sim-2022.1.0/exts', '--ext-folder', '/home/yizhou/.local/share/ov/pkg/isaac_sim-2022.1.0/apps', '--portable', '--no-window']\n",
      "Passing the following args to the base kit application:  ['-f', '/home/yizhou/.local/share/jupyter/runtime/kernel-d4af7024-e1ea-415c-9f8e-a89670190e61.json']\n",
      "[Warning] [omni.kit.app.plugin] No crash reporter present, dumps uploading isn't available.\n",
      "[Info] [carb] Logging to file: /home/yizhou/.local/share/ov/pkg/isaac_sim-2022.1.0/kit/logs/Kit/Isaac-Sim/2022.1/kit_20220801_202119.log\n",
      "[0.074s] [ext: omni.stats-0.0.0] startup\n",
      "[0.089s] [ext: omni.gpu_foundation-0.0.0] startup\n",
      "2022-08-02 03:21:19 [88ms] [Warning] [carb] FrameworkImpl::setDefaultPlugin(client: omni.gpu_foundation_factory.plugin, desc : [carb::graphics::Graphics v2.5], plugin : carb.graphics-vulkan.plugin) failed. Plugin selection is locked, because the interface was previously acquired by: \n",
      "[0.097s] [ext: carb.windowing.plugins-1.0.0] startup\n",
      "2022-08-02 03:21:19 [101ms] [Warning] [carb.windowing-glfw.gamepad] Joystick with unknown remapping detected (will be ignored):  Microsoft Xbox One X pad [030000005e040000120b000009050000]\n",
      "[0.107s] [ext: omni.assets.plugins-0.0.0] startup\n",
      "[0.108s] [ext: omni.kit.renderer.init-0.0.0] startup\n",
      "\n",
      "|---------------------------------------------------------------------------------------------|\n",
      "| Driver Version: 510.73.5      | Graphics API: Vulkan\n",
      "|=============================================================================================|\n",
      "| GPU | Name                             | Active | LDA | GPU Memory | Vendor-ID | LUID       |\n",
      "|     |                                  |        |     |            | Device-ID | UUID       |\n",
      "|---------------------------------------------------------------------------------------------|\n",
      "| 0   | NVIDIA GeForce RTX 3090          | Yes: 0 |     | 24822   MB | 10de      | 0          |\n",
      "|     |                                  |        |     |            | 2204      | 3f50dd6e.. |\n",
      "|=============================================================================================|\n",
      "| OS: Linux yizhou-Z370-AORUS-Gaming-5, Version: 5.15.0-41-generic\n",
      "| Processor: Intel(R) Core(TM) i7-8700K CPU @ 3.70GHz | Cores: Unknown | Logical: 12\n",
      "|---------------------------------------------------------------------------------------------|\n",
      "| Total Memory (MB): 32046 | Free Memory: 12449\n",
      "| Total Page/Swap (MB): 2047 | Free Page/Swap: 2047\n",
      "|---------------------------------------------------------------------------------------------|\n",
      "2022-08-02 03:21:19 [806ms] [Warning] [carb.cudainterop.plugin] On Linux only, CUDA and the display driver does not support IOMMU-enabled bare-metal PCIe peer to peer memory copy.\n",
      "However, CUDA and the display driver does support IOMMU via VM pass through. As a consequence, users on Linux,\n",
      "when running on a native bare metal system, should disable the IOMMU. The IOMMU should be enabled and the VFIO driver\n",
      "be used as a PCIe pass through for virtual machines.\n",
      "[0.824s] [ext: omni.kit.pipapi-0.0.0] startup\n",
      "[0.834s] [ext: omni.kit.pip_archive-0.0.0] startup\n",
      "[0.838s] [ext: omni.isaac.core_archive-0.3.0] startup\n",
      "[0.858s] [ext: omni.usd.config-1.0.0] startup\n",
      "[0.860s] [ext: omni.usd.libs-1.0.0] startup\n",
      "[0.993s] [ext: omni.isaac.ml_archive-0.1.0] startup\n",
      "[1.049s] [ext: omni.kit.loop-isaac-0.1.0] startup\n",
      "[1.050s] [ext: omni.kit.async_engine-0.0.0] startup\n",
      "[1.052s] [ext: omni.appwindow-1.0.0] startup\n",
      "[1.055s] [ext: omni.client-0.1.0] startup\n",
      "[1.064s] [ext: omni.kit.test-0.0.0] startup\n",
      "[1.093s] [ext: omni.kit.renderer.core-0.0.0] startup\n",
      "[1.162s] [ext: omni.ui-2.10.3] startup\n",
      "[1.180s] [ext: carb.audio-0.1.0] startup\n",
      "[1.182s] [ext: omni.kit.mainwindow-0.0.0] startup\n",
      "[1.185s] [ext: omni.uiaudio-1.0.0] startup\n",
      "[1.187s] [ext: omni.kit.uiapp-0.0.0] startup\n",
      "[1.187s] [ext: omni.usd.schema.physics-1.0.0] startup\n",
      "[1.228s] [ext: omni.usd.schema.audio-0.0.0] startup\n",
      "[1.236s] [ext: omni.usd.schema.semantics-0.0.0] startup\n",
      "[1.246s] [ext: omni.usd.schema.omnigraph-1.0.0] startup\n",
      "[1.255s] [ext: omni.usd.schema.anim-0.0.0] startup\n",
      "[1.297s] [ext: omni.kit.commands-1.2.2] startup\n",
      "[1.302s] [ext: omni.timeline-1.0.2] startup\n",
      "[1.305s] [ext: omni.hydra.scene_delegate-0.2.0] startup\n",
      "[1.312s] [ext: omni.kit.audiodeviceenum-1.0.0] startup\n",
      "[1.313s] [ext: omni.usd-1.5.3] startup\n",
      "[1.399s] [ext: omni.kit.asset_converter-1.2.30] startup\n",
      "[1.414s] [ext: omni.usd.schema.isaac-0.2.0] startup\n",
      "[1.454s] [ext: omni.usd.schema.physx-0.0.0] startup\n",
      "[1.481s] [ext: omni.kit.search_core-1.0.2] startup\n",
      "[1.483s] [ext: omni.renderer-rtx-0.0.0] startup\n",
      "[1.483s] [ext: omni.kit.widget.graph-1.4.2] startup\n",
      "[1.492s] [ext: omni.kit.widget.filebrowser-2.2.26] startup\n",
      "[1.500s] [ext: omni.kit.window.popup_dialog-2.0.7] startup\n",
      "[1.505s] [ext: omni.mdl.neuraylib-0.1.0] startup\n",
      "[1.509s] [ext: omni.kit.widget.path_field-2.0.3] startup\n",
      "[1.510s] [ext: omni.kit.widget.versioning-1.3.8] startup\n",
      "[1.513s] [ext: omni.kit.notification_manager-1.0.5] startup\n",
      "[1.516s] [ext: omni.kit.widget.browser_bar-2.0.3] startup\n",
      "[1.518s] [ext: omni.kit.menu.utils-1.2.11] startup\n",
      "[1.528s] [ext: omni.kit.window.filepicker-2.4.29] startup\n"
     ]
    },
    {
     "name": "stderr",
     "output_type": "stream",
     "text": [
      "OmniAssetFileFormat\n"
     ]
    },
    {
     "name": "stdout",
     "output_type": "stream",
     "text": [
      "[1.580s] [ext: omni.mdl-0.1.0] startup\n",
      "[1.601s] [ext: omni.kit.menu.create-1.0.2] startup\n",
      "[1.602s] [ext: omni.kit.window.file_exporter-1.0.4] startup\n",
      "[1.603s] [ext: omni.kit.window.drop_support-1.0.0] startup\n",
      "[1.604s] [ext: omni.kit.material.library-1.3.10] startup\n",
      "[1.607s] [ext: omni.kit.window.property-1.6.3] startup\n",
      "[1.609s] [ext: omni.kit.context_menu-1.3.9] startup\n",
      "[1.613s] [ext: omni.kit.window.file_importer-1.0.4] startup\n",
      "[1.614s] [ext: omni.kit.stage_templates-1.1.2] startup\n",
      "[1.616s] [ext: omni.kit.widget.stage-2.6.15] startup\n",
      "[1.622s] [ext: omni.kit.window.file-1.3.16] startup\n",
      "[1.625s] [ext: omni.debugdraw-0.1.0] startup\n",
      "[1.630s] [ext: omni.kit.window.content_browser-2.4.28] startup\n",
      "[1.642s] [ext: omni.kit.widget.prompt-1.0.1] startup\n",
      "[1.643s] [ext: omni.kit.property.usd-3.14.8] startup\n",
      "[1.681s] [ext: omni.hydra.engine.stats-1.0.0] startup\n",
      "[1.687s] [ext: omni.kit.widget.settings-1.0.0] startup\n",
      "[1.690s] [ext: omni.graph.tools-1.3.5] startup\n",
      "[1.722s] [ext: omni.graph.core-2.27.0] startup\n",
      "[1.726s] [ext: omni.hydra.rtx-0.1.0] startup\n",
      "[1.735s] [ext: omni.kit.viewport.legacy_gizmos-1.0.0] startup\n",
      "[1.738s] [ext: omni.ui_query-1.1.1] startup\n",
      "[1.740s] [ext: omni.graph-1.22.1] startup\n",
      "[1.840s] [ext: omni.kit.window.viewport-0.0.0] startup\n"
     ]
    },
    {
     "name": "stderr",
     "output_type": "stream",
     "text": [
      "2022-08-02 03:21:21 [1,924ms] [Error] [rtx.neuraylib.plugin] [DYNLIB:IO]   0.1   DYNLIB io   error: /home/yizhou/.local/share/ov/pkg/isaac_sim-2022.1.0/kit/python/bin/libs/iray/libnvindex.so: cannot open shared object file: No such file or directory\n",
      "2022-08-02 03:21:21 [1,924ms] [Error] [rtx.neuraylib.plugin] [INDEX:MAIN]   0.1   INDEX  main error: Failed to load /home/yizhou/.local/share/ov/pkg/isaac_sim-2022.1.0/kit/python/bin/libs/iray/libnvindex.so\n"
     ]
    },
    {
     "name": "stdout",
     "output_type": "stream",
     "text": [
      "Warp initialized:\n",
      "   Version: 0.2.1\n",
      "   Using CUDA device: NVIDIA GeForce RTX 3090\n",
      "   Using CPU compiler: /usr/bin/g++\n",
      "[2.699s] [ext: omni.kit.window.preferences-1.2.1] startup\n",
      "[2.736s] [ext: omni.kit.ui_test-1.2.0] startup\n",
      "[2.739s] [ext: omni.graph.ui-1.6.1] startup\n",
      "[2.762s] [ext: omni.kvdb-0.0.0] startup\n",
      "[2.765s] [ext: omni.kit.widget.searchfield-1.0.6] startup\n",
      "[2.767s] [ext: omni.convexdecomposition-1.4.12] startup\n",
      "[2.770s] [ext: omni.graph.action-1.17.0] startup\n",
      "[2.783s] [ext: omni.localcache-0.0.0] startup\n",
      "[2.786s] [ext: omni.usdphysics-1.4.12] startup\n",
      "[2.789s] [ext: omni.graph.scriptnode-0.5.0] startup\n",
      "[2.793s] [ext: omni.physx-1.4.12-5.1] startup\n",
      "[2.831s] [ext: omni.kit.usd_undo-0.1.0] startup\n",
      "[2.834s] [ext: omni.graph.nodes-1.25.0] startup\n",
      "[2.867s] [ext: omni.physx.commands-1.4.12-5.1] startup\n",
      "[2.878s] [ext: omni.syntheticdata-0.2.1] startup\n",
      "[2.947s] [ext: omni.physx.ui-1.4.12-5.1] startup\n",
      "[3.033s] [ext: omni.warp-0.2.1] startup\n",
      "[4.900s] [ext: omni.kit.renderer.capture-0.0.0] startup\n",
      "[4.904s] [ext: omni.kit.property.material-1.8.5] startup\n",
      "[4.907s] [ext: omni.physx.demos-1.4.12-5.1] startup\n",
      "[4.909s] [ext: omni.physics.tensors-0.1.0] startup\n",
      "[4.917s] [ext: omni.kit.property.physx-0.1.0] startup\n",
      "2022-08-02 03:21:24 [4,976ms] [Warning] [omni.physx.plugin] Deprecated: getSimulationEventStream is deprecated, please use getSimulationEventStreamV2\n",
      "[4.985s] [ext: omni.kit.window.toolbar-1.2.4] startup\n",
      "[4.994s] [ext: omni.physx.tensors-0.1.0] startup\n",
      "[5.001s] [ext: omni.physx.vehicle-1.4.12-5.1] startup\n",
      "[5.012s] [ext: omni.physx.tests-1.4.12-5.1] startup\n",
      "[5.064s] [ext: omni.kit.numpy.common-0.1.0] startup\n",
      "[5.067s] [ext: omni.physx.camera-1.4.12-5.1] startup\n",
      "[5.074s] [ext: omni.physx.cct-1.4.12-5.1] startup\n",
      "[5.140s] [ext: omni.isaac.version-1.0.0] startup\n",
      "[5.141s] [ext: omni.isaac.dynamic_control-1.0.0] startup\n",
      "[5.147s] [ext: omni.physx.bundle-1.4.12-5.1] startup\n",
      "[5.147s] [ext: omni.kit.primitive.mesh-1.0.0] startup\n",
      "[5.151s] [ext: omni.command.usd-1.0.1] startup\n",
      "[5.154s] [ext: omni.isaac.core-1.15.1] startup\n",
      "[5.379s] [ext: omni.replicator.core-1.2.0] startup\n",
      "[5.473s] [ext: omni.kit.window.extensions-1.1.0] startup\n",
      "[5.480s] [ext: omni.isaac.core_nodes-0.9.0] startup\n",
      "[5.490s] [ext: omni.isaac.ui-0.2.1] startup\n",
      "[5.491s] [ext: omni.kit.window.script_editor-1.6.2] startup\n",
      "[5.500s] [ext: omni.isaac.wheeled_robots-0.5.4] startup\n",
      "[5.510s] [ext: omni.kit.menu.common-1.0.0] startup\n",
      "[5.512s] [ext: omni.kit.graph.delegate.default-1.0.15] startup\n",
      "[5.514s] [ext: omni.kit.graph.delegate.modern-1.6.0] startup\n",
      "[5.516s] [ext: omni.kit.widget.zoombar-1.0.3] startup\n",
      "[5.517s] [ext: omni.kit.graph.editor.core-1.3.3] startup\n",
      "[5.519s] [ext: omni.kit.widget.stage_icons-1.0.2] startup\n",
      "[5.521s] [ext: omni.kit.browser.core-2.0.12] startup\n",
      "[5.525s] [ext: omni.kit.graph.widget.variables-2.0.2] startup\n",
      "[5.526s] [ext: omni.kit.window.stage-2.3.7] startup\n",
      "[5.529s] [ext: omni.kit.browser.folder.core-1.1.13] startup\n",
      "[5.532s] [ext: omni.graph.window.core-1.22.1] startup\n",
      "[5.539s] [ext: omni.isaac.lula-1.1.0] startup\n",
      "[5.549s] [ext: omni.graph.instancing-1.1.4] startup\n",
      "[5.555s] [ext: omni.graph.window.action-1.3.8] startup\n",
      "[5.557s] [ext: omni.graph.tutorials-1.1.2] startup\n",
      "[5.571s] [ext: omni.rtx.window.settings-0.6.1] startup\n",
      "[5.576s] [ext: omni.isaac.motion_planning-0.2.0] startup\n",
      "[5.584s] [ext: omni.graph.bundle.action-1.0.0] startup\n",
      "[5.584s] [ext: omni.rtx.settings.core-0.5.5] startup\n",
      "[5.589s] [ext: omni.isaac.motion_generation-3.1.2] startup\n",
      "[5.593s] [ext: omni.isaac.kit-0.1.9] startup\n",
      "[5.594s] [ext: omni.isaac.debug_draw-0.1.2] startup\n",
      "[5.600s] [ext: omni.kit.selection-0.1.0] startup\n",
      "[5.601s] [ext: omni.isaac.franka-0.0.0] startup\n",
      "[5.602s] [ext: omni.kit.widget.layers-1.5.17] startup\n",
      "[5.616s] [ext: omni.kit.menu.edit-1.0.6] startup\n",
      "[5.617s] [ext: omni.isaac.isaac_sensor-0.3.4] startup\n",
      "2022-08-02 03:21:24 [5,616ms] [Warning] [omni.physx.plugin] Deprecated: getSimulationEventStream is deprecated, please use getSimulationEventStreamV2\n",
      "[5.624s] [ext: omni.kit.widget.live-0.1.0] startup\n",
      "[5.629s] [ext: omni.isaac.surface_gripper-0.1.2] startup\n",
      "[5.634s] [ext: omni.kit.property.layer-1.1.2] startup\n",
      "[5.636s] [ext: omni.isaac.range_sensor-0.4.2] startup\n",
      "[5.662s] [ext: omni.graph.wiOpening usd file at  omniverse://localhost/Users/yizhou/scene0.usd  ...Done.\n",
      "Saving a temp livesync stage at  omniverse://localhost/Users/yizhou/scene0.usd  ...Done.\n"
     ]
    }
   ],
   "source": [
    "from omni.isaac.kit import SimulationApp\n",
    "\n",
    "# \"/home/yizhou/Research/OpenAnyDrawer/scene0.usd\" # \n",
    "usd_path = f\"omniverse://localhost/Users/{user}/scene0.usd\"\n",
    "\n",
    "\n",
    "simulation_app = SimulationApp({\"headless\": True, \"open_usd\": usd_path,  \"livesync_usd\": usd_path}) \n"
   ]
  },
  {
   "cell_type": "code",
   "execution_count": 3,
   "id": "b7d966a9",
   "metadata": {},
   "outputs": [],
   "source": [
    "from omni.isaac.core import World\n",
    "world = World()"
   ]
  },
  {
   "cell_type": "code",
   "execution_count": 4,
   "id": "283e3c44",
   "metadata": {},
   "outputs": [],
   "source": [
    "from open_env import OpenEnv\n",
    "\n",
    "env = OpenEnv(\"/World/Game*/Franka\", \"/World/Game*/Franka/panda_hand\")"
   ]
  },
  {
   "cell_type": "code",
   "execution_count": 5,
   "id": "7238cb42",
   "metadata": {},
   "outputs": [],
   "source": [
    "# env.add_robot()"
   ]
  },
  {
   "cell_type": "code",
   "execution_count": 6,
   "id": "3136e5ab",
   "metadata": {},
   "outputs": [
    {
     "name": "stdout",
     "output_type": "stream",
     "text": [
      "add object\n",
      "omni client Result.OK ['35059', '40417', '40453', '41004', '41083', '41085', '41086', '41529', '44781', '44817', '44826', '44853', '44962', '45087', '45092', '45135', '45146', '45159', '45162', '45164', '45168', '45173', '45176', '45178', '45189', '45194', '45203', '45219', '45238', '45244', '45248', '45249', '45262', '45271', '45290', '45372', '45378', '45384', '45385', '45397', '45403', '45413', '45415', '45419', '45423', '45427', '45444', '45448', '45463', '45524', '45526', '45600', '45606', '45612', '45620', '45622', '45632', '45642', '45662', '45667', '45670', '45671', '45676', '45689', '45699', '45710', '45717', '45725', '45746', '45749', '45756', '45759', '45767', '45776', '45779', '45780', '45783', '45784', '45801', '45855', '45910', '45915', '45922', '45937', '45949', '45950', '45961', '45964', '46014', '46019', '46033', '46037', '46045', '46057', '46060', '46084', '46107', '46108', '46117', '46120', '46123', '46132', '46134', '46166', '46172', '46179', '46197', '46380', '46401', '46403', '46408', '46417', '46427', '46437', '46440', '46452', '46456', '46462', '46466', '46480', '46481', '46544', '46556', '46616', '46653', '46699', '46741', '46744', '46762', '46768', '46801', '46859', '46874', '46896', '46906', '46922', '46944', '46955', '46981', '47021', '47024', '47099', '47133', '47168', '47180', '47183', '47185', '47187', '47233', '47235', '47238', '47252', '47254', '47278', '47296', '47316', '47388', '47514', '47529', '47570', '47577', '47585', '47595', '47601', '47613', '47632', '47651', '47686', '47701', '47711', '47729', '47747', '47808', '47944', '47954', '47963', '47976', '48010', '48013', '48023', '48036', '48169', '48243', '48253', '48271', '48467', '48479', '48491', '48519', '48623', '48721', '48746', '48797', '48859', '48876', '49025', '49038', '49132']\n",
      "physics material: path:  /World/Game/mobility/link_0/visuals/handle_7/physicsMaterial\n",
      "add physics material to handle\n"
     ]
    }
   ],
   "source": [
    "env.add_object(0, scale = 0.1)"
   ]
  },
  {
   "cell_type": "code",
   "execution_count": 7,
   "id": "ef5db7fd",
   "metadata": {},
   "outputs": [],
   "source": [
    "from omni.isaac.core.prims.xform_prim import XFormPrim\n",
    "mobility_obj = XFormPrim(\"/World/Game/mobility\")\n",
    "mobility_obj_name = mobility_obj.name"
   ]
  },
  {
   "cell_type": "code",
   "execution_count": 8,
   "id": "7fb519f0",
   "metadata": {},
   "outputs": [
    {
     "data": {
      "text/plain": [
       "<omni.isaac.core.prims.xform_prim.XFormPrim at 0x7f15de9baa50>"
      ]
     },
     "execution_count": 8,
     "metadata": {},
     "output_type": "execute_result"
    }
   ],
   "source": [
    "world.scene.add(mobility_obj)"
   ]
  },
  {
   "cell_type": "code",
   "execution_count": 9,
   "id": "fb15d41d",
   "metadata": {},
   "outputs": [],
   "source": [
    "stage = world.scene.stage"
   ]
  },
  {
   "cell_type": "code",
   "execution_count": 10,
   "id": "6c01ca3a",
   "metadata": {},
   "outputs": [],
   "source": [
    "# list(stage.TraverseAll())"
   ]
  },
  {
   "cell_type": "code",
   "execution_count": 11,
   "id": "6100a151",
   "metadata": {},
   "outputs": [],
   "source": [
    "from task.checker import TaskChecker\n",
    "from task.instructor import SceneInstructor"
   ]
  },
  {
   "cell_type": "code",
   "execution_count": 12,
   "id": "40c0d45b",
   "metadata": {},
   "outputs": [
    {
     "name": "stdout",
     "output_type": "stream",
     "text": [
      "analysis_spatial_rel:  {'/World/Game/mobility/link_0/visuals/handle_7': {'joint_type': 'PhysicsRevoluteJoint', 'cabinet_type': 'door', 'vertical_description': '', 'horizontal_description': ''}}\n"
     ]
    }
   ],
   "source": [
    "scene_instr = SceneInstructor()\n",
    "scene_instr.analysis()\n",
    "# scene_instr.build_handle_desc_ui()"
   ]
  },
  {
   "cell_type": "code",
   "execution_count": 16,
   "id": "2872883d",
   "metadata": {},
   "outputs": [],
   "source": [
    "handle_path_str = list(scene_instr.valid_handle_list.keys())[0]"
   ]
  },
  {
   "cell_type": "code",
   "execution_count": 17,
   "id": "f85d752c",
   "metadata": {},
   "outputs": [],
   "source": [
    "handle_joint_type = scene_instr.handle_knowledge[handle_path_str][\"joint_type\"]\n",
    "handle_joint = scene_instr.handle_knowledge[handle_path_str][\"joint_path_str\"].split(\"/\")[-1]\n"
   ]
  },
  {
   "cell_type": "code",
   "execution_count": 23,
   "id": "3818f9a3",
   "metadata": {},
   "outputs": [
    {
     "data": {
      "text/plain": [
       "('/World/Game/mobility/link_0/visuals/handle_7',\n",
       " 'PhysicsRevoluteJoint',\n",
       " 'joint_0')"
      ]
     },
     "execution_count": 23,
     "metadata": {},
     "output_type": "execute_result"
    }
   ],
   "source": [
    "handle_path_str, handle_joint_type, handle_joint"
   ]
  },
  {
   "cell_type": "code",
   "execution_count": 19,
   "id": "012ac31e",
   "metadata": {},
   "outputs": [],
   "source": [
    "task_checker = TaskChecker(\"mobility\", handle_joint, handle_joint_type, IS_RUNTIME=True)"
   ]
  },
  {
   "cell_type": "markdown",
   "id": "ce1a3a56",
   "metadata": {},
   "source": [
    "# Solve"
   ]
  },
  {
   "cell_type": "code",
   "execution_count": 21,
   "id": "89e16add",
   "metadata": {},
   "outputs": [
    {
     "name": "stdout",
     "output_type": "stream",
     "text": [
      "2022-08-02 03:25:41 [262,690ms] [Warning] [omni.hydra] Mesh /World/Game/mobility/link_1/visuals/back_panel_16 has corrupted data in primvar st: buffer size 36 doesn't match expected size 72 in faceVarying primvars\n",
      "2022-08-02 03:25:41 [262,690ms] [Warning] [omni.hydra] Mesh /World/Game/mobility/link_1/visuals/other_leaf_22 has corrupted data in primvar st: buffer size 24 doesn't match expected size 48 in faceVarying primvars\n",
      "2022-08-02 03:25:41 [262,690ms] [Warning] [omni.hydra] Mesh /World/Game/mobility/link_1/visuals/other_leaf_24 has corrupted data in primvar st: buffer size 24 doesn't match expected size 48 in faceVarying primvars\n",
      "2022-08-02 03:25:41 [262,690ms] [Warning] [omni.hydra] Mesh /World/Game/mobility/link_1/visuals/vertical_side_panel_15 has corrupted data in primvar st: buffer size 18 doesn't match expected size 48 in faceVarying primvars\n",
      "2022-08-02 03:25:41 [262,690ms] [Warning] [omni.hydra] Mesh /World/Game/mobility/link_1/visuals/vertical_side_panel_14 has corrupted data in primvar st: buffer size 18 doesn't match expected size 48 in faceVarying primvars\n",
      "2022-08-02 03:25:41 [262,690ms] [Warning] [omni.hydra] Mesh /World/Game/mobility/link_1/visuals/shelf_4 has corrupted data in primvar st: buffer size 18 doesn't match expected size 36 in faceVarying primvars\n",
      "2022-08-02 03:25:41 [262,690ms] [Warning] [omni.hydra] Mesh /World/Game/mobility/link_1/visuals/other_leaf_21 has corrupted data in primvar st: buffer size 24 doesn't match expected size 48 in faceVarying primvars\n",
      "2022-08-02 03:25:41 [262,690ms] [Warning] [omni.hydra] Mesh /World/Game/mobility/link_1/visuals/other_leaf_23 has corrupted data in primvar st: buffer size 24 doesn't match expected size 48 in faceVarying primvars\n",
      "2022-08-02 03:25:41 [262,690ms] [Warning] [omni.hydra] Mesh /World/Game/mobility/link_1/visuals/vertical_side_panel_17 has corrupted data in primvar st: buffer size 18 doesn't match expected size 48 in faceVarying primvars\n",
      "2022-08-02 03:25:41 [262,690ms] [Warning] [omni.hydra] Mesh /World/Game/mobility/link_1/visuals/vertical_side_panel_16 has corrupted data in primvar st: buffer size 18 doesn't match expected size 48 in faceVarying primvars\n",
      "2022-08-02 03:25:41 [262,690ms] [Warning] [omni.hydra] Mesh /World/Game/mobility/link_1/visuals/frame_vertical_bar_26 has corrupted data in primvar st: buffer size 18 doesn't match expected size 72 in faceVarying primvars\n",
      "2022-08-02 03:25:41 [262,690ms] [Warning] [omni.hydra] Mesh /World/Game/mobility/link_1/visuals/frame_vertical_bar_25 has corrupted data in primvar st: buffer size 18 doesn't match expected size 72 in faceVarying primvars\n",
      "2022-08-02 03:25:41 [262,690ms] [Warning] [omni.hydra] Mesh /World/Game/mobility/link_1/visuals/frame_vertical_bar_26 has corrupted data in primvar st_1: buffer size 18 doesn't match expected size 72 in faceVarying primvars\n",
      "2022-08-02 03:25:41 [262,690ms] [Warning] [omni.hydra] Mesh /World/Game/mobility/link_1/visuals/vertical_side_panel_14 has corrupted data in primvar st_1: buffer size 6 doesn't match expected size 48 in faceVarying primvars\n",
      "2022-08-02 03:25:41 [262,690ms] [Warning] [omni.hydra] Mesh /World/Game/mobility/link_1/visuals/vertical_side_panel_17 has corrupted data in primvar st_1: buffer size 6 doesn't match expected size 48 in faceVarying primvars\n",
      "2022-08-02 03:25:41 [262,690ms] [Warning] [omni.hydra] Mesh /World/Game/mobility/link_1/visuals/vertical_side_panel_16 has corrupted data in primvar st_1: buffer size 6 doesn't match expected size 48 in faceVarying primvars\n",
      "2022-08-02 03:25:41 [262,690ms] [Warning] [omni.hydra] Mesh /World/Game/mobility/link_1/visuals/frame_vertical_bar_25 has corrupted data in primvar st_1: buffer size 18 doesn't match expected size 72 in faceVarying primvars\n",
      "2022-08-02 03:25:41 [262,690ms] [Warning] [omni.hydra] Mesh /World/Game/mobility/link_1/visuals/frame_horizontal_bar_27 has corrupted data in primvar st: buffer size 18 doesn't match expected size 48 in faceVarying primvars\n",
      "2022-08-02 03:25:41 [262,690ms] [Warning] [omni.hydra] Mesh /World/Game/mobility/link_1/visuals/frame_horizontal_bar_28 has corrupted data in primvar st: buffer size 24 doesn't match expected size 48 in faceVarying primvars\n",
      "2022-08-02 03:25:41 [262,690ms] [Warning] [omni.hydra] Mesh /World/Game/mobility/link_1/visuals/vertical_side_panel_15 has corrupted data in primvar st_1: buffer size 6 doesn't match expected size 48 in faceVarying primvars\n",
      "2022-08-02 03:25:41 [262,690ms] [Warning] [omni.hydra] Mesh /World/Game/mobility/link_1/visuals/frame_horizontal_bar_29 has corrupted data in primvar st: buffer size 18 doesn't match expected size 48 in faceVarying primvars\n",
      "2022-08-02 03:25:41 [262,690ms] [Warning] [omni.hydra] Mesh /World/Game/mobility/link_1/visuals/base_side_panel_9 has corrupted data in primvar st: buffer size 36 doesn't match expected size 72 in faceVarying primvars\n",
      "2022-08-02 03:25:41 [262,690ms] [Warning] [omni.hydra] Mesh /World/Game/mobility/link_1/visuals/base_side_panel_10 has corrupted data in primvar st: buffer size 18 doesn't match expected size 72 in faceVarying primvars\n",
      "2022-08-02 03:25:41 [262,690ms] [Warning] [omni.hydra] Mesh /World/Game/mobility/link_1/visuals/base_side_panel_11 has corrupted data in primvar st: buffer size 6 doesn't match expected size 72 in faceVarying primvars\n",
      "2022-08-02 03:25:41 [262,690ms] [Warning] [omni.hydra] Mesh /World/Game/mobility/link_1/visuals/frame_horizontal_bar_27 has corrupted data in primvar st_1: buffer size 6 doesn't match expected size 48 in faceVarying primvars\n",
      "2022-08-02 03:25:41 [262,690ms] [Warning] [omni.hydra] Mesh /World/Game/mobility/link_1/visuals/base_side_panel_10 has corrupted data in primvar st_1: buffer size 18 doesn't match expected size 72 in faceVarying primvars\n",
      "2022-08-02 03:25:41 [262,690ms] [Warning] [omni.hydra] Mesh /World/Game/mobility/link_1/visuals/base_side_panel_12 has corrupted data in primvar st: buffer size 18 doesn't match expected size 72 in faceVarying primvars\n",
      "2022-08-02 03:25:41 [262,690ms] [Warning] [omni.hydra] Mesh /World/Game/mobility/link_1/visuals/frame_horizontal_bar_29 has corrupted data in primvar st_1: buffer size 6 doesn't match expected size 48 in faceVarying primvars\n",
      "2022-08-02 03:25:41 [262,690ms] [Warning] [omni.hydra] Mesh /World/Game/mobility/link_1/visuals/bottom_panel_13 has corrupted data in primvar st: buffer size 66 doesn't match expected size 72 in faceVarying primvars\n",
      "2022-08-02 03:25:41 [262,690ms] [Warning] [omni.hydra] Mesh /World/Game/mobility/link_0/visuals/cabinet_door_surface_7 has corrupted data in primvar st: buffer size 24 doesn't match expected size 48 in faceVarying primvars\n",
      "2022-08-02 03:25:41 [262,690ms] [Warning] [omni.hydra] Mesh /World/Game/mobility/link_0/visuals/cabinet_door_surface_6 has corrupted data in primvar st: buffer size 36 doesn't match expected size 72 in faceVarying primvars\n",
      "2022-08-02 03:25:41 [262,690ms] [Warning] [omni.hydra] Mesh /World/Game/mobility/link_0/visuals/cabinet_door_surface_8 has corrupted data in primvar st: buffer size 36 doesn't match expected size 72 in faceVarying primvars\n",
      "2022-08-02 03:25:41 [262,690ms] [Warning] [omni.hydra] Mesh /World/Game/mobility/link_0/visuals/cabinet_door_surface_9 has corrupted data in primvar st: buffer size 24 doesn't match expected size 48 in faceVarying primvars\n",
      "2022-08-02 03:25:41 [262,690ms] [Warning] [omni.hydra] Mesh /World/Game/mobility/link_0/visuals/cabinet_door_surface_10 has corrupted data in primvar st: buffer size 36 doesn't match expected size 72 in faceVarying primvars\n",
      "2022-08-02 03:25:41 [262,690ms] [Warning] [omni.hydra] Mesh /World/Game/mobility/link_1/visuals/base_side_panel_12 has corrupted data in primvar st_1: buffer size 18 doesn't match expected size 72 in faceVarying primvars\n",
      "2022-08-02 03:25:41 [262,690ms] [Warning] [omni.hydra] Mesh /World/Game/mobility/link_0/visuals/handle_7 has corrupted data in primvar st: buffer size 1962 doesn't match expected size 4008 in faceVarying primvars\n",
      "2022-08-02 03:25:41 [262,690ms] [Warning] [omni.hydra] Mesh /World/Game/mobility/link_1/visuals/base_side_panel_11 has corrupted data in primvar st_1: buffer size 30 doesn't match expected size 72 in faceVarying primvars\n",
      "2022-08-02 03:25:41 [262,731ms] [Warning] [omni.physx.plugin] PhysicsUSD: Parse collision - triangle mesh collision (approximation None/MeshSimplifixation) cannot be a part of a dynamic body, falling back to convexHull approximation: /World/Game/mobility/link_0/visuals/handle_7\n",
      "2022-08-02 03:25:41 [262,735ms] [Warning] [omni.physx.plugin] The rigid body at /World/Game/mobility/base has a possibly invalid inertia tensor of {1.0, 1.0, 1.0} and a negative mass. Either specify correct values in the mass properties, or add collider(s) to any shape(s) that you wish to automatically compute mass properties for. If you do not want the objects to collide, add colliders regardless then disable the 'enable collision' property.\n",
      "2022-08-02 03:25:41 [262,740ms] [Warning] [carb.flatcache.plugin] Type tag does not have a corresponding USD type\n",
      "2022-08-02 03:25:41 [262,751ms] [Warning] [gpu.foundation.plugin] Requesting texture to use texture streaming, but the service isn't available.The texture will be created as a regular resource.\n",
      "2022-08-02 03:25:41 [262,818ms] [Warning] [omni.hydra] Mesh /World/Game/mobility/link_1/visuals/shelf_4 has corrupted data in primvar st: buffer size 18 doesn't match expected size 36 in faceVarying primvars\n",
      "2022-08-02 03:25:41 [262,818ms] [Warning] [omni.hydra] Mesh /World/Game/mobility/link_1/visuals/vertical_side_panel_15 has corrupted data in primvar st: buffer size 18 doesn't match expected size 48 in faceVarying primvars\n",
      "2022-08-02 03:25:41 [262,818ms] [Warning] [omni.hydra] Mesh /World/Game/mobility/link_1/visuals/other_leaf_24 has corrupted data in primvar st: buffer size 24 doesn't match expected size 48 in faceVarying primvars\n",
      "2022-08-02 03:25:41 [262,818ms] [Warning] [omni.hydra] Mesh /World/Game/mobility/link_1/visuals/vertical_side_panel_14 has corrupted data in primvar st: buffer size 18 doesn't match expected size 48 in faceVarying primvars\n",
      "2022-08-02 03:25:41 [262,818ms] [Warning] [omni.hydra] Mesh /World/Game/mobility/link_1/visuals/vertical_side_panel_16 has corrupted data in primvar st: buffer size 18 doesn't match expected size 48 in faceVarying primvars\n",
      "2022-08-02 03:25:41 [262,818ms] [Warning] [omni.hydra] Mesh /World/Game/mobility/link_1/visuals/vertical_side_panel_17 has corrupted data in primvar st: buffer size 18 doesn't match expected size 48 in faceVarying primvars\n",
      "2022-08-02 03:25:41 [262,818ms] [Warning] [omni.hydra] Mesh /World/Game/mobility/link_1/visuals/back_panel_16 has corrupted data in primvar st: buffer size 36 doesn't match expected size 72 in faceVarying primvars\n",
      "2022-08-02 03:25:41 [262,818ms] [Warning] [omni.hydra] Mesh /World/Game/mobility/link_1/visuals/other_leaf_23 has corrupted data in primvar st: buffer size 24 doesn't match expected size 48 in faceVarying primvars\n",
      "2022-08-02 03:25:41 [262,818ms] [Warning] [omni.hydra] Mesh /World/Game/mobility/link_1/visuals/other_leaf_22 has corrupted data in primvar st: buffer size 24 doesn't match expected size 48 in faceVarying primvars\n",
      "2022-08-02 03:25:41 [262,818ms] [Warning] [omni.hydra] Mesh /World/Game/mobility/link_1/visuals/other_leaf_21 has corrupted data in primvar st: buffer size 24 doesn't match expected size 48 in faceVarying primvars\n",
      "2022-08-02 03:25:41 [262,818ms] [Warning] [omni.hydra] Mesh /World/Game/mobility/link_1/visuals/frame_vertical_bar_25 has corrupted data in primvar st: buffer size 18 doesn't match expected size 72 in faceVarying primvars\n",
      "2022-08-02 03:25:41 [262,818ms] [Warning] [omni.hydra] Mesh /World/Game/mobility/link_1/visuals/frame_vertical_bar_26 has corrupted data in primvar st: buffer size 18 doesn't match expected size 72 in faceVarying primvars\n",
      "2022-08-02 03:25:41 [262,818ms] [Warning] [omni.hydra] Mesh /World/Game/mobility/link_1/visuals/frame_vertical_bar_25 has corrupted data in primvar st_1: buffer size 18 doesn't match expected size 72 in faceVarying primvars\n",
      "2022-08-02 03:25:41 [262,818ms] [Warning] [omni.hydra] Mesh /World/Game/mobility/link_1/visuals/vertical_side_panel_16 has corrupted data in primvar st_1: buffer size 6 doesn't match expected size 48 in faceVarying primvars\n",
      "2022-08-02 03:25:41 [262,818ms] [Warning] [omni.hydra] Mesh /World/Game/mobility/link_1/visuals/vertical_side_panel_17 has corrupted data in primvar st_1: buffer size 6 doesn't match expected size 48 in faceVarying primvars\n",
      "2022-08-02 03:25:41 [262,818ms] [Warning] [omni.hydra] Mesh /World/Game/mobility/link_1/visuals/frame_horizontal_bar_27 has corrupted data in primvar st: buffer size 18 doesn't match expected size 48 in faceVarying primvars\n",
      "2022-08-02 03:25:41 [262,818ms] [Warning] [omni.hydra] Mesh /World/Game/mobility/link_1/visuals/frame_horizontal_bar_27 has corrupted data in primvar st_1: buffer size 6 doesn't match expected size 48 in faceVarying primvars\n",
      "2022-08-02 03:25:41 [262,818ms] [Warning] [omni.hydra] Mesh /World/Game/mobility/link_1/visuals/frame_horizontal_bar_28 has corrupted data in primvar st: buffer size 24 doesn't match expected size 48 in faceVarying primvars\n",
      "2022-08-02 03:25:41 [262,818ms] [Warning] [omni.hydra] Mesh /World/Game/mobility/link_1/visuals/vertical_side_panel_15 has corrupted data in primvar st_1: buffer size 6 doesn't match expected size 48 in faceVarying primvars\n",
      "2022-08-02 03:25:41 [262,818ms] [Warning] [omni.hydra] Mesh /World/Game/mobility/link_1/visuals/frame_vertical_bar_26 has corrupted data in primvar st_1: buffer size 18 doesn't match expected size 72 in faceVarying primvars\n",
      "2022-08-02 03:25:41 [262,818ms] [Warning] [omni.hydra] Mesh /World/Game/mobility/link_1/visuals/frame_horizontal_bar_29 has corrupted data in primvar st: buffer size 18 doesn't match expected size 48 in faceVarying primvars\n",
      "2022-08-02 03:25:41 [262,818ms] [Warning] [omni.hydra] Mesh /World/Game/mobility/link_1/visuals/vertical_side_panel_14 has corrupted data in primvar st_1: buffer size 6 doesn't match expected size 48 in faceVarying primvars\n",
      "2022-08-02 03:25:41 [262,818ms] [Warning] [omni.hydra] Mesh /World/Game/mobility/link_1/visuals/base_side_panel_9 has corrupted data in primvar st: buffer size 36 doesn't match expected size 72 in faceVarying primvars\n",
      "2022-08-02 03:25:41 [262,818ms] [Warning] [omni.hydra] Mesh /World/Game/mobility/link_1/visuals/frame_horizontal_bar_29 has corrupted data in primvar st_1: buffer size 6 doesn't match expected size 48 in faceVarying primvars\n",
      "2022-08-02 03:25:41 [262,818ms] [Warning] [omni.hydra] Mesh /World/Game/mobility/link_1/visuals/base_side_panel_10 has corrupted data in primvar st: buffer size 18 doesn't match expected size 72 in faceVarying primvars\n",
      "2022-08-02 03:25:41 [262,818ms] [Warning] [omni.hydra] Mesh /World/Game/mobility/link_1/visuals/base_side_panel_10 has corrupted data in primvar st_1: buffer size 18 doesn't match expected size 72 in faceVarying primvars\n",
      "2022-08-02 03:25:41 [262,818ms] [Warning] [omni.hydra] Mesh /World/Game/mobility/link_1/visuals/base_side_panel_11 has corrupted data in primvar st: buffer size 6 doesn't match expected size 72 in faceVarying primvars\n",
      "2022-08-02 03:25:41 [262,818ms] [Warning] [omni.hydra] Mesh /World/Game/mobility/link_1/visuals/base_side_panel_11 has corrupted data in primvar st_1: buffer size 30 doesn't match expected size 72 in faceVarying primvars\n",
      "2022-08-02 03:25:41 [262,818ms] [Warning] [omni.hydra] Mesh /World/Game/mobility/link_1/visuals/base_side_panel_12 has corrupted data in primvar st: buffer size 18 doesn't match expected size 72 in faceVarying primvars\n",
      "2022-08-02 03:25:41 [262,818ms] [Warning] [omni.hydra] Mesh /World/Game/mobility/link_1/visuals/bottom_panel_13 has corrupted data in primvar st: buffer size 66 doesn't match expected size 72 in faceVarying primvars\n",
      "2022-08-02 03:25:41 [262,818ms] [Warning] [omni.hydra] Mesh /World/Game/mobility/link_1/visuals/base_side_panel_12 has corrupted data in primvar st_1: buffer size 18 doesn't match expected size 72 in faceVarying primvars\n",
      "2022-08-02 03:25:41 [262,818ms] [Warning] [omni.hydra] Mesh /World/Game/mobility/link_0/visuals/cabinet_door_surface_7 has corrupted data in primvar st: buffer size 24 doesn't match expected size 48 in faceVarying primvars\n"
     ]
    },
    {
     "name": "stdout",
     "output_type": "stream",
     "text": [
      "2022-08-02 03:25:41 [262,818ms] [Warning] [omni.hydra] Mesh /World/Game/mobility/link_0/visuals/cabinet_door_surface_6 has corruptedsimlation context numpy None\n",
      "num_envs 1\n"
     ]
    },
    {
     "data": {
      "text/plain": [
       "<omni.isaac.core.robots.robot_view.RobotView at 0x7f14cf0a0450>"
      ]
     },
     "execution_count": 21,
     "metadata": {},
     "output_type": "execute_result"
    }
   ],
   "source": [
    "# init\n",
    "world.reset()\n",
    "env.start()\n",
    "world.scene.add(env.robots)"
   ]
  },
  {
   "cell_type": "code",
   "execution_count": 25,
   "id": "b2cf38ae",
   "metadata": {},
   "outputs": [],
   "source": [
    "# get grasp location\n",
    "goal_pos, goal_rot = env.calculate_grasp_location(keyword = handle_path_str, verticle = True)"
   ]
  },
  {
   "cell_type": "code",
   "execution_count": 26,
   "id": "71b6c6eb",
   "metadata": {},
   "outputs": [
    {
     "data": {
      "text/plain": [
       "(array([[ 0.51399994, -0.2250087 ,  0.9648981 ]], dtype=float32),\n",
       " array([[0.5, 0.5, 0.5, 0.5]], dtype=float32))"
      ]
     },
     "execution_count": 26,
     "metadata": {},
     "output_type": "execute_result"
    }
   ],
   "source": [
    "goal_pos, goal_rot"
   ]
  },
  {
   "cell_type": "code",
   "execution_count": 27,
   "id": "6f932394",
   "metadata": {
    "collapsed": true
   },
   "outputs": [
    {
     "name": "stdout",
     "output_type": "stream",
     "text": [
      " data in primvar st: buffer size 36 doesn't match expected size 72 in faceVarying primvars\n",
      "2022-08-02 03:25:41 [262,819ms] [Warning] [omni.hydra] Mesh /World/Game/mobility/link_0/visuals/cabinet_door_surface_8 has corrupted data in primvar st: buffer size 36 doesn't match expected size 72 in faceVarying primvars\n",
      "2022-08-02 03:25:41 [262,819ms] [Warning] [omni.hydra] Mesh /World/Game/mobility/link_0/visuals/cabinet_door_surface_9 has corrupted data in primvar st: buffer size 24 doesn't match expected size 48 in faceVarying primvars\n",
      "2022-08-02 03:25:41 [262,819ms] [Warning] [omni.hydra] Mesh /World/Game/mobility/link_0/visuals/cabinet_door_surface_10 has corrupted data in primvar st: buffer size 36 doesn't match expected size 72 in faceVarying primvars\n",
      "2022-08-02 03:25:41 [262,819ms] [Warning] [omni.hydra] Mesh /World/Game/mobility/link_0/visuals/handle_7 has corrupted data in primvar st: buffer size 1962 doesn't match expected size 4008 in faceVarying primvars\n",
      "2022-08-02 03:26:49 [330,655ms] [Warning] [omni.hydra] Mesh /World/Game/mobility/link_1/visuals/vertical_side_panel_16 has corrupted data in primvar st: buffer size 18 doesn't match expected size 48 in faceVarying primvars\n",
      "2022-08-02 03:26:49 [330,655ms] [Warning] [omni.hydra] Mesh /World/Game/mobility/link_1/visuals/vertical_side_panel_15 has corrupted data in primvar st: buffer size 18 doesn't match expected size 48 in faceVarying primvars\n",
      "2022-08-02 03:26:49 [330,655ms] [Warning] [omni.hydra] Mesh /World/Game/mobility/link_1/visuals/vertical_side_panel_14 has corrupted data in primvar st: buffer size 18 doesn't match expected size 48 in faceVarying primvars\n",
      "2022-08-02 03:26:49 [330,655ms] [Warning] [omni.hydra] Mesh /World/Game/mobility/link_1/visuals/shelf_4 has corrupted data in primvar st: buffer size 18 doesn't match expected size 36 in faceVarying primvars\n",
      "2022-08-02 03:26:49 [330,655ms] [Warning] [omni.hydra] Mesh /World/Game/mobility/link_1/visuals/back_panel_16 has corrupted data in primvar st: buffer size 36 doesn't match expected size 72 in faceVarying primvars\n",
      "2022-08-02 03:26:49 [330,655ms] [Warning] [omni.hydra] Mesh /World/Game/mobility/link_1/visuals/vertical_side_panel_17 has corrupted data in primvar st: buffer size 18 doesn't match expected size 48 in faceVarying primvars\n",
      "2022-08-02 03:26:49 [330,655ms] [Warning] [omni.hydra] Mesh /World/Game/mobility/link_1/visuals/other_leaf_23 has corrupted data in primvar st: buffer size 24 doesn't match expected size 48 in faceVarying primvars\n",
      "2022-08-02 03:26:49 [330,655ms] [Warning] [omni.hydra] Mesh /World/Game/mobility/link_1/visuals/other_leaf_24 has corrupted data in primvar st: buffer size 24 doesn't match expected size 48 in faceVarying primvars\n",
      "2022-08-02 03:26:49 [330,655ms] [Warning] [omni.hydra] Mesh /World/Game/mobility/link_1/visuals/other_leaf_22 has corrupted data in primvar st: buffer size 24 doesn't match expected size 48 in faceVarying primvars\n",
      "2022-08-02 03:26:49 [330,655ms] [Warning] [omni.hydra] Mesh /World/Game/mobility/link_1/visuals/other_leaf_21 has corrupted data in primvar st: buffer size 24 doesn't match expected size 48 in faceVarying primvars\n",
      "2022-08-02 03:26:49 [330,655ms] [Warning] [omni.hydra] Mesh /World/Game/mobility/link_1/visuals/vertical_side_panel_16 has corrupted data in primvar st_1: buffer size 6 doesn't match expected size 48 in faceVarying primvars\n",
      "2022-08-02 03:26:49 [330,655ms] [Warning] [omni.hydra] Mesh /World/Game/mobility/link_1/visuals/frame_vertical_bar_25 has corrupted data in primvar st: buffer size 18 doesn't match expected size 72 in faceVarying primvars\n",
      "2022-08-02 03:26:49 [330,655ms] [Warning] [omni.hydra] Mesh /World/Game/mobility/link_1/visuals/frame_vertical_bar_26 has corrupted data in primvar st: buffer size 18 doesn't match expected size 72 in faceVarying primvars\n",
      "2022-08-02 03:26:49 [330,655ms] [Warning] [omni.hydra] Mesh /World/Game/mobility/link_1/visuals/frame_vertical_bar_26 has corrupted data in primvar st_1: buffer size 18 doesn't match expected size 72 in faceVarying primvars\n",
      "2022-08-02 03:26:49 [330,655ms] [Warning] [omni.hydra] Mesh /World/Game/mobility/link_1/visuals/frame_horizontal_bar_27 has corrupted data in primvar st: buffer size 18 doesn't match expected size 48 in faceVarying primvars\n",
      "2022-08-02 03:26:49 [330,655ms] [Warning] [omni.hydra] Mesh /World/Game/mobility/link_1/visuals/frame_horizontal_bar_28 has corrupted data in primvar st: buffer size 24 doesn't match expected size 48 in faceVarying primvars\n",
      "2022-08-02 03:26:49 [330,655ms] [Warning] [omni.hydra] Mesh /World/Game/mobility/link_1/visuals/frame_horizontal_bar_29 has corrupted data in primvar st: buffer size 18 doesn't match expected size 48 in faceVarying primvars\n",
      "2022-08-02 03:26:49 [330,655ms] [Warning] [omni.hydra] Mesh /World/Game/mobility/link_1/visuals/base_side_panel_9 has corrupted data in primvar st: buffer size 36 doesn't match expected size 72 in faceVarying primvars\n",
      "2022-08-02 03:26:49 [330,655ms] [Warning] [omni.hydra] Mesh /World/Game/mobility/link_1/visuals/base_side_panel_10 has corrupted data in primvar st: buffer size 18 doesn't match expected size 72 in faceVarying primvars\n",
      "2022-08-02 03:26:49 [330,655ms] [Warning] [omni.hydra] Mesh /World/Game/mobility/link_1/visuals/base_side_panel_11 has corrupted data in primvar st: buffer size 6 doesn't match expected size 72 in faceVarying primvars\n",
      "2022-08-02 03:26:49 [330,655ms] [Warning] [omni.hydra] Mesh /World/Game/mobility/link_1/visuals/frame_vertical_bar_25 has corrupted data in primvar st_1: buffer size 18 doesn't match expected size 72 in faceVarying primvars\n",
      "2022-08-02 03:26:49 [330,655ms] [Warning] [omni.hydra] Mesh /World/Game/mobility/link_1/visuals/base_side_panel_11 has corrupted data in primvar st_1: buffer size 30 doesn't match expected size 72 in faceVarying primvars\n",
      "2022-08-02 03:26:49 [330,655ms] [Warning] [omni.hydra] Mesh /World/Game/mobility/link_1/visuals/base_side_panel_12 has corrupted data in primvar st: buffer size 18 doesn't match expected size 72 in faceVarying primvars\n",
      "2022-08-02 03:26:49 [330,655ms] [Warning] [omni.hydra] Mesh /World/Game/mobility/link_1/visuals/vertical_side_panel_14 has corrupted data in primvar st_1: buffer size 6 doesn't match expected size 48 in faceVarying primvars\n",
      "2022-08-02 03:26:49 [330,655ms] [Warning] [omni.hydra] Mesh /World/Game/mobility/link_1/visuals/bottom_panel_13 has corrupted data in primvar st: buffer size 66 doesn't match expected size 72 in faceVarying primvars\n",
      "2022-08-02 03:26:49 [330,656ms] [Warning] [omni.hydra] Mesh /World/Game/mobility/link_1/visuals/base_side_panel_12 has corrupted data in primvar st_1: buffer size 18 doesn't match expected size 72 in faceVarying primvars\n",
      "2022-08-02 03:26:49 [330,656ms] [Warning] [omni.hydra] Mesh /World/Game/mobility/link_1/visuals/frame_horizontal_bar_27 has corrupted data in primvar st_1: buffer size 6 doesn't match expected size 48 in faceVarying primvars\n",
      "2022-08-02 03:26:49 [330,656ms] [Warning] [omni.hydra] Mesh /World/Game/mobility/link_1/visuals/frame_horizontal_bar_29 has corrupted data in primvar st_1: buffer size 6 doesn't match expected size 48 in faceVarying primvars\n",
      "2022-08-02 03:26:49 [330,656ms] [Warning] [omni.hydra] Mesh /World/Game/mobility/link_1/visuals/vertical_side_panel_15 has corrupted data in primvar st_1: buffer size 6 doesn't match expected size 48 in faceVarying primvars\n",
      "2022-08-02 03:26:49 [330,656ms] [Warning] [omni.hydra] Mesh /World/Game/mobility/link_1/visuals/base_side_panel_10 has corrupted data in primvar st_1: buffer size 18 doesn't match expected size 72 in faceVarying primvars\n",
      "2022-08-02 03:26:49 [330,656ms] [Warning] [omni.hydra] Mesh /World/Game/mobility/link_1/visuals/vertical_side_panel_17 has corrupted data in primvar st_1: buffer size 6 doesn't match expected size 48 in faceVarying primvars\n",
      "2022-08-02 03:26:49 [330,656ms] [Warning] [omni.hydra] Mesh /World/Game/mobility/link_0/visuals/cabinet_door_surface_6 has corrupted data in primvar st: buffer size 36 doesn't match expected size 72 in faceVarying primvars\n",
      "2022-08-02 03:26:49 [330,656ms] [Warning] [omni.hydra] Mesh /World/Game/mobility/link_0/visuals/cabinet_door_surface_7 has corrupted data in primvar st: buffer siDone rotation, position [[ 0.36431527 -0.2253429   0.964287  ]] [[0.51042646 0.491863   0.5089236  0.4883978 ]]\n"
     ]
    }
   ],
   "source": [
    "# move above\n",
    "goal_pos[...,0] -= 0.15\n",
    "env.move_hand_to_fast(goal_pos, goal_rot, world, max_step=300)"
   ]
  },
  {
   "cell_type": "code",
   "execution_count": 28,
   "id": "964222fb",
   "metadata": {},
   "outputs": [],
   "source": [
    "# move to\n",
    "goal_pos[...,0] += 0.15\n",
    "env.move_hand_to_slow(goal_pos, goal_rot, world, step = 90)"
   ]
  },
  {
   "cell_type": "code",
   "execution_count": 29,
   "id": "7931b0f1",
   "metadata": {},
   "outputs": [],
   "source": [
    "# close gripper\n",
    "for i in range(60):\n",
    "    world.step(render=True)\n",
    "    \n",
    "    u = env.move_to_target(goal_pos, goal_rot)\n",
    "    u[:,[-2, -1]] = 0.5 - (0.5 - -1) / 60 * i\n",
    "    env.robots.set_joint_position_targets(u)"
   ]
  },
  {
   "cell_type": "code",
   "execution_count": 30,
   "id": "3edd91b6",
   "metadata": {},
   "outputs": [],
   "source": [
    "# rotate and pull\n",
    "for i in range(0, 60):\n",
    "    world.step(render=True)\n",
    "    \n",
    "    target_pos, target_rot = env.calculate_pull_location(goal_pos, goal_rot, np.pi / 180 * i, 0.3, clock_wise=True)\n",
    "    u = env.move_to_target(target_pos, target_rot)\n",
    "    u[:,[-2, -1]] = -1\n",
    "    env.robots.set_joint_position_targets(u)"
   ]
  },
  {
   "cell_type": "code",
   "execution_count": 31,
   "id": "aec17f2c",
   "metadata": {},
   "outputs": [
    {
     "data": {
      "text/plain": [
       "20.47269078578471"
      ]
     },
     "execution_count": 31,
     "metadata": {},
     "output_type": "execute_result"
    }
   ],
   "source": [
    "# check task\n",
    "task_checker.joint_checker.compute_percentage()"
   ]
  },
  {
   "cell_type": "markdown",
   "id": "5e5da811",
   "metadata": {},
   "source": [
    "# Close"
   ]
  },
  {
   "cell_type": "code",
   "execution_count": null,
   "id": "5ef162ed",
   "metadata": {},
   "outputs": [],
   "source": [
    "world.scene.remove_object(mobility_obj_name)"
   ]
  },
  {
   "cell_type": "code",
   "execution_count": null,
   "id": "35b2f55a",
   "metadata": {},
   "outputs": [],
   "source": [
    "world.reset()"
   ]
  },
  {
   "cell_type": "code",
   "execution_count": null,
   "id": "ecaa7e75",
   "metadata": {},
   "outputs": [],
   "source": []
  }
 ],
 "metadata": {
  "kernelspec": {
   "display_name": "Isaac Sim Python 3",
   "language": "python",
   "name": "isaac_sim_python3"
  },
  "language_info": {
   "codemirror_mode": {
    "name": "ipython",
    "version": 3
   },
   "file_extension": ".py",
   "mimetype": "text/x-python",
   "name": "python",
   "nbconvert_exporter": "python",
   "pygments_lexer": "ipython3",
   "version": "3.7.13"
  }
 },
 "nbformat": 4,
 "nbformat_minor": 5
}
