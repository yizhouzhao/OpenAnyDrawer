{
 "cells": [
  {
   "cell_type": "code",
   "execution_count": 1,
   "id": "433d187f-c2c6-4be1-8448-da0389c8b4b6",
   "metadata": {},
   "outputs": [],
   "source": [
    "import numpy as np"
   ]
  },
  {
   "cell_type": "code",
   "execution_count": 2,
   "id": "c87d7625-990b-499b-b7d4-cdccec34429f",
   "metadata": {},
   "outputs": [],
   "source": [
    "from numpy_utils import *"
   ]
  },
  {
   "cell_type": "code",
   "execution_count": 4,
   "id": "c70d7acb-cca6-4c6c-85d0-4718bd986a47",
   "metadata": {},
   "outputs": [],
   "source": [
    "grasp_rot = np.array([[0, 0.70711, 0, 0.70711]], dtype=np.float32).repeat(2, axis = 0) # XYZW"
   ]
  },
  {
   "cell_type": "code",
   "execution_count": 5,
   "id": "5e80aac4-4eb4-4eb1-b12d-f0102682db43",
   "metadata": {},
   "outputs": [],
   "source": [
    "clock_wise = -1"
   ]
  },
  {
   "cell_type": "code",
   "execution_count": 20,
   "id": "a52db4f0-9bf3-4eeb-a22e-121c4feec965",
   "metadata": {},
   "outputs": [],
   "source": [
    "theta = np.pi/4"
   ]
  },
  {
   "cell_type": "code",
   "execution_count": 21,
   "id": "be02b30a-1e38-4f69-8ebf-1c8841efa00e",
   "metadata": {},
   "outputs": [],
   "source": [
    "rot_offset = np.array([[0, 0, np.sin( - clock_wise * theta / 2), np.cos( - clock_wise * theta / 2)]], dtype=np.float32).repeat(2, axis = 0)\n",
    "  "
   ]
  },
  {
   "cell_type": "code",
   "execution_count": 22,
   "id": "46c37543-b6c6-4b81-84b4-1126cd8824aa",
   "metadata": {},
   "outputs": [
    {
     "data": {
      "text/plain": [
       "array([[0.        , 0.        , 0.38268343, 0.9238795 ],\n",
       "       [0.        , 0.        , 0.38268343, 0.9238795 ]], dtype=float32)"
      ]
     },
     "execution_count": 22,
     "metadata": {},
     "output_type": "execute_result"
    }
   ],
   "source": [
    "rot_offset"
   ]
  },
  {
   "cell_type": "code",
   "execution_count": 27,
   "id": "03997443-1161-4638-a46e-eefcf56bf83d",
   "metadata": {},
   "outputs": [
    {
     "data": {
      "text/plain": [
       "array([[0.27059925, 0.65328443, 0.27059925, 0.65328443],\n",
       "       [0.27059925, 0.65328443, 0.27059925, 0.65328443]], dtype=float32)"
      ]
     },
     "execution_count": 27,
     "metadata": {},
     "output_type": "execute_result"
    }
   ],
   "source": [
    "quat_mul(grasp_rot, rot_offset)"
   ]
  },
  {
   "cell_type": "code",
   "execution_count": 26,
   "id": "8333ccdb-9f80-46d1-81af-8f1f4f80ebdd",
   "metadata": {},
   "outputs": [
    {
     "data": {
      "text/plain": [
       "array([[-0.27059925,  0.65328443,  0.27059928,  0.65328443],\n",
       "       [-0.27059925,  0.65328443,  0.27059928,  0.65328443]],\n",
       "      dtype=float32)"
      ]
     },
     "execution_count": 26,
     "metadata": {},
     "output_type": "execute_result"
    }
   ],
   "source": [
    " quat_mul(rot_offset, grasp_rot)"
   ]
  },
  {
   "cell_type": "markdown",
   "id": "45a34537",
   "metadata": {},
   "source": [
    "# Rotation"
   ]
  },
  {
   "cell_type": "code",
   "execution_count": 2,
   "id": "01eb7d7e-2cd6-42e7-84bd-5acd39f4b31b",
   "metadata": {},
   "outputs": [],
   "source": [
    "from pxr import Gf\n",
    "import numpy as np"
   ]
  },
  {
   "cell_type": "code",
   "execution_count": 4,
   "id": "9e3d69b3",
   "metadata": {},
   "outputs": [],
   "source": [
    "a = np.array([[0.9304052 , 0.3656015 , 0.02435794, 0.00940057],\n",
    "       [0.9304055 , 0.36560085, 0.0243575 , 0.00940162]], dtype=np.float32)"
   ]
  },
  {
   "cell_type": "code",
   "execution_count": 18,
   "id": "6f292c9e",
   "metadata": {},
   "outputs": [],
   "source": [
    "q = Gf.Quatf(float(a[0][3]), float(a[0][0]), float(a[0][1]), float(a[0][2]))"
   ]
  },
  {
   "cell_type": "code",
   "execution_count": 24,
   "id": "bcf1dafd",
   "metadata": {},
   "outputs": [],
   "source": [
    "q = Gf.Quatf(0.70383,0.03774,0.70383,0.03774)"
   ]
  },
  {
   "cell_type": "code",
   "execution_count": 25,
   "id": "17ceda56",
   "metadata": {},
   "outputs": [],
   "source": [
    "mat = Gf.Matrix4f().SetRotate(q)"
   ]
  },
  {
   "cell_type": "code",
   "execution_count": 28,
   "id": "8e01ab00",
   "metadata": {},
   "outputs": [
    {
     "data": {
      "text/plain": [
       "0.9936019778251648"
      ]
     },
     "execution_count": 28,
     "metadata": {},
     "output_type": "execute_result"
    }
   ],
   "source": [
    "mat.GetRow(2)[0]"
   ]
  },
  {
   "cell_type": "code",
   "execution_count": null,
   "id": "eacc5ae6",
   "metadata": {},
   "outputs": [],
   "source": []
  }
 ],
 "metadata": {
  "kernelspec": {
   "display_name": "Python (rlgpu)",
   "language": "python",
   "name": "rlgpu"
  },
  "language_info": {
   "codemirror_mode": {
    "name": "ipython",
    "version": 3
   },
   "file_extension": ".py",
   "mimetype": "text/x-python",
   "name": "python",
   "nbconvert_exporter": "python",
   "pygments_lexer": "ipython3",
   "version": "3.7.12"
  }
 },
 "nbformat": 4,
 "nbformat_minor": 5
}
