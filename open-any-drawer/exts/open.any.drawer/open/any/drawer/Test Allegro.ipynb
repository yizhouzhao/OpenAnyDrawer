{
 "cells": [
  {
   "cell_type": "code",
   "execution_count": null,
   "id": "6b7e08c1",
   "metadata": {},
   "outputs": [],
   "source": [
    "!nvidia-smi"
   ]
  },
  {
   "cell_type": "code",
   "execution_count": null,
   "id": "585cf226",
   "metadata": {},
   "outputs": [],
   "source": [
    "import numpy as np"
   ]
  },
  {
   "cell_type": "code",
   "execution_count": null,
   "id": "ceb85278",
   "metadata": {},
   "outputs": [],
   "source": [
    "%load_ext autoreload\n",
    "%autoreload 2"
   ]
  },
  {
   "cell_type": "code",
   "execution_count": null,
   "id": "aad802a2",
   "metadata": {},
   "outputs": [],
   "source": [
    "world.reset()"
   ]
  },
  {
   "cell_type": "code",
   "execution_count": null,
   "id": "4f52aa97",
   "metadata": {},
   "outputs": [],
   "source": [
    "import getpass\n",
    "user = getpass.getuser()"
   ]
  },
  {
   "cell_type": "code",
   "execution_count": null,
   "id": "18cbd476",
   "metadata": {},
   "outputs": [],
   "source": [
    "from omni.isaac.kit import SimulationApp\n",
    "\n",
    "usd_path = f\"omniverse://localhost/Users/{user}/test_allegro.usd\"\n",
    "\n",
    "\n",
    "simulation_app = SimulationApp({\"headless\": True, \"open_usd\": usd_path, \"livesync_usd\": usd_path})\n"
   ]
  },
  {
   "cell_type": "code",
   "execution_count": null,
   "id": "abc6cdfc",
   "metadata": {},
   "outputs": [],
   "source": [
    "from omni.isaac.core import World\n",
    "world = World()"
   ]
  },
  {
   "cell_type": "code",
   "execution_count": null,
   "id": "e88b8780",
   "metadata": {},
   "outputs": [],
   "source": [
    "from hand_env import HandEnv\n",
    "\n",
    "# env = HandEnv(\"/World/Hand/Bones/l_carpal_mid\", \"/World/Hand*/Bones/l_thumbSkeleton_grp/l_distalThumb_mid\")\n",
    "env = HandEnv(\"/World/allegro*/allegro_mount\", \"/World/AnchorXform\")"
   ]
  },
  {
   "cell_type": "code",
   "execution_count": null,
   "id": "389c011d",
   "metadata": {},
   "outputs": [],
   "source": [
    "world.reset()"
   ]
  },
  {
   "cell_type": "code",
   "execution_count": null,
   "id": "29c58779",
   "metadata": {},
   "outputs": [],
   "source": [
    "env.start()\n",
    "world.scene.add(env.robots)"
   ]
  },
  {
   "cell_type": "code",
   "execution_count": null,
   "id": "cf1919a0",
   "metadata": {},
   "outputs": [],
   "source": [
    "hand_pos, hand_rot = env.robots.get_world_poses()\n",
    "hand_pos, hand_rot"
   ]
  },
  {
   "cell_type": "code",
   "execution_count": null,
   "id": "54b5b94e",
   "metadata": {},
   "outputs": [],
   "source": [
    "env.robots.get_joint_positions()"
   ]
  },
  {
   "cell_type": "code",
   "execution_count": null,
   "id": "ecc35c2e",
   "metadata": {
    "scrolled": true
   },
   "outputs": [],
   "source": [
    "for i, (path, limit) in enumerate(zip(env.robots._physics_view.dof_paths[0], env.robots.get_dof_limits()[0])):\n",
    "    print(i, path, limit)"
   ]
  },
  {
   "cell_type": "markdown",
   "id": "6d1228e2",
   "metadata": {},
   "source": [
    "# World Pose"
   ]
  },
  {
   "cell_type": "code",
   "execution_count": null,
   "id": "6a058acf",
   "metadata": {},
   "outputs": [],
   "source": [
    "target_pos, target_rot = (np.array([[0.2, 0., 0.]], dtype=np.float32), np.array([[1., 0., 0., 0.]], dtype=np.float32))"
   ]
  },
  {
   "cell_type": "code",
   "execution_count": null,
   "id": "b8c7f35e",
   "metadata": {},
   "outputs": [],
   "source": [
    "env.robots.set_world_poses(target_pos, target_rot)"
   ]
  },
  {
   "cell_type": "code",
   "execution_count": null,
   "id": "a1b4a66e",
   "metadata": {},
   "outputs": [],
   "source": [
    "world.step(render=True)"
   ]
  },
  {
   "cell_type": "code",
   "execution_count": null,
   "id": "416867b5",
   "metadata": {},
   "outputs": [],
   "source": [
    "world.reset()"
   ]
  },
  {
   "cell_type": "markdown",
   "id": "02a485f0",
   "metadata": {},
   "source": [
    "# Stage one: move to the correct place"
   ]
  },
  {
   "cell_type": "code",
   "execution_count": null,
   "id": "51880f2a",
   "metadata": {},
   "outputs": [],
   "source": [
    "from utils import get_mesh_bboxes\n",
    "bboxes_list = get_mesh_bboxes(\"handle_6\") "
   ]
  },
  {
   "cell_type": "code",
   "execution_count": null,
   "id": "117a683a",
   "metadata": {},
   "outputs": [],
   "source": [
    "bboxes_list"
   ]
  },
  {
   "cell_type": "code",
   "execution_count": null,
   "id": "eb0a1ff1",
   "metadata": {},
   "outputs": [],
   "source": [
    "# get center and min x axis\n",
    "min_x = bboxes_list[0][0][0] # \n",
    "center_list = [(e[1] + e[0]) / 2 for e in bboxes_list] # box center"
   ]
  },
  {
   "cell_type": "code",
   "execution_count": null,
   "id": "732f5891",
   "metadata": {},
   "outputs": [],
   "source": [
    "grasp_list = [[min_x - 0.1, c[1], c[2] - 0.12] for c in center_list]"
   ]
  },
  {
   "cell_type": "code",
   "execution_count": null,
   "id": "17b11f79",
   "metadata": {},
   "outputs": [],
   "source": [
    "grasp_list"
   ]
  },
  {
   "cell_type": "code",
   "execution_count": null,
   "id": "81749c1d",
   "metadata": {},
   "outputs": [],
   "source": [
    "graps_pos = np.array(grasp_list, dtype=np.float32)\n",
    "\n",
    "base_rotation = [0.38268, 0, 0, 0.92388]\n",
    "grasp_rot = np.array([base_rotation], dtype=np.float32)# XYZW\n",
    "     "
   ]
  },
  {
   "cell_type": "code",
   "execution_count": null,
   "id": "728bb34a",
   "metadata": {
    "scrolled": false
   },
   "outputs": [],
   "source": [
    "graps_pos, grasp_rot"
   ]
  },
  {
   "cell_type": "code",
   "execution_count": null,
   "id": "6c26e4c0",
   "metadata": {},
   "outputs": [],
   "source": [
    "world.reset()"
   ]
  },
  {
   "cell_type": "code",
   "execution_count": null,
   "id": "43b8c883",
   "metadata": {},
   "outputs": [],
   "source": [
    "env.xforms.set_world_poses(graps_pos, grasp_rot)"
   ]
  },
  {
   "cell_type": "code",
   "execution_count": null,
   "id": "42e432b9",
   "metadata": {},
   "outputs": [],
   "source": []
  },
  {
   "cell_type": "code",
   "execution_count": null,
   "id": "f77af5f6",
   "metadata": {},
   "outputs": [],
   "source": [
    "# env.robots.set_world_poses(graps_pos, grasp_rot)\n"
   ]
  },
  {
   "cell_type": "code",
   "execution_count": null,
   "id": "e004cc02",
   "metadata": {},
   "outputs": [],
   "source": [
    "import time\n",
    "time.sleep(10)"
   ]
  },
  {
   "cell_type": "code",
   "execution_count": null,
   "id": "8d12c3a0",
   "metadata": {},
   "outputs": [],
   "source": [
    "\n",
    "for _ in range(500):\n",
    "    world.step(render=True)"
   ]
  },
  {
   "cell_type": "markdown",
   "id": "6457dfc6",
   "metadata": {},
   "source": [
    "# Finger Pose"
   ]
  },
  {
   "cell_type": "code",
   "execution_count": null,
   "id": "d8cbfc84",
   "metadata": {},
   "outputs": [],
   "source": [
    "tt = 120"
   ]
  },
  {
   "cell_type": "code",
   "execution_count": null,
   "id": "db1d8b20",
   "metadata": {},
   "outputs": [],
   "source": [
    "# pos = np.array([\n",
    "#     [\n",
    "#      0, 0, 0, np.pi/2, \n",
    "#      0,0,0,0,\n",
    "#      0,0,0,0,\n",
    "#      0,0,0,0,   \n",
    "#     ],\n",
    "# ])\n",
    "\n",
    "# for i in range(tt):\n",
    "#     env.robots.set_joint_position_targets(pos * i / tt) # \n",
    "#     world.step(render=True)\n",
    "    \n",
    "finger_pos = np.array([\n",
    "    [\n",
    "     0, 0, 0, np.pi/2 + np.pi/18, \n",
    "     np.pi/5, np.pi/5, np.pi/5, 0,\n",
    "     np.pi/5, np.pi/5, np.pi/5, np.pi/6,\n",
    "     np.pi/5, np.pi/5, np.pi/5, np.pi/6,\n",
    "    ],\n",
    "])\n",
    "\n",
    "for i in range(tt):\n",
    "    env.robots.set_joint_position_targets(finger_pos * i / tt) # \n",
    "    world.step(render=True)"
   ]
  },
  {
   "cell_type": "markdown",
   "id": "db754de8",
   "metadata": {},
   "source": [
    "# Stage last: pull"
   ]
  },
  {
   "cell_type": "code",
   "execution_count": null,
   "id": "dc62c5cd",
   "metadata": {
    "scrolled": false
   },
   "outputs": [],
   "source": [
    "graps_pos, grasp_rot"
   ]
  },
  {
   "cell_type": "code",
   "execution_count": null,
   "id": "25238d93",
   "metadata": {},
   "outputs": [],
   "source": [
    "# graps_pos[...,0] -= 0.05"
   ]
  },
  {
   "cell_type": "code",
   "execution_count": null,
   "id": "a04054b2",
   "metadata": {},
   "outputs": [],
   "source": [
    "for i in range(200):\n",
    "    graps_pos[...,0] -= 0.002\n",
    "#   env.robots.set_world_poses(graps_pos, grasp_rot)\n",
    "    env.xforms.set_world_poses(graps_pos, grasp_rot)\n",
    "    env.robots.set_joint_position_targets(finger_pos)\n",
    "    world.step(render=True)"
   ]
  },
  {
   "cell_type": "code",
   "execution_count": null,
   "id": "4c2b18d8",
   "metadata": {},
   "outputs": [],
   "source": [
    "world.reset()"
   ]
  },
  {
   "cell_type": "code",
   "execution_count": null,
   "id": "235ec2f9",
   "metadata": {},
   "outputs": [],
   "source": []
  }
 ],
 "metadata": {
  "kernelspec": {
   "display_name": "Isaac Sim Python 3",
   "language": "python",
   "name": "isaac_sim_python3"
  },
  "language_info": {
   "codemirror_mode": {
    "name": "ipython",
    "version": 3
   },
   "file_extension": ".py",
   "mimetype": "text/x-python",
   "name": "python",
   "nbconvert_exporter": "python",
   "pygments_lexer": "ipython3",
   "version": "3.7.13"
  }
 },
 "nbformat": 4,
 "nbformat_minor": 5
}
