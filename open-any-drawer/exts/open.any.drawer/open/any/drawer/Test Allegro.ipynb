{
 "cells": [
  {
   "cell_type": "code",
   "execution_count": 1,
   "id": "6b7e08c1",
   "metadata": {
    "scrolled": true
   },
   "outputs": [
    {
     "name": "stdout",
     "output_type": "stream",
     "text": [
      "Tue Aug  2 16:47:39 2022       \r\n",
      "+-----------------------------------------------------------------------------+\r\n",
      "| NVIDIA-SMI 510.73.05    Driver Version: 510.73.05    CUDA Version: 11.6     |\r\n",
      "|-------------------------------+----------------------+----------------------+\r\n",
      "| GPU  Name        Persistence-M| Bus-Id        Disp.A | Volatile Uncorr. ECC |\r\n",
      "| Fan  Temp  Perf  Pwr:Usage/Cap|         Memory-Usage | GPU-Util  Compute M. |\r\n",
      "|                               |                      |               MIG M. |\r\n",
      "|===============================+======================+======================|\r\n",
      "|   0  NVIDIA GeForce ...  Off  | 00000000:01:00.0  On |                  N/A |\r\n",
      "| 30%   45C    P3    78W / 350W |   4595MiB / 24576MiB |     31%      Default |\r\n",
      "|                               |                      |                  N/A |\r\n",
      "+-------------------------------+----------------------+----------------------+\r\n",
      "                                                                               \r\n",
      "+-----------------------------------------------------------------------------+\r\n",
      "| Processes:                                                                  |\r\n",
      "|  GPU   GI   CI        PID   Type   Process name                  GPU Memory |\r\n",
      "|        ID   ID                                                   Usage      |\r\n",
      "|=============================================================================|\r\n",
      "|    0   N/A  N/A      1066      G   /usr/lib/xorg/Xorg                772MiB |\r\n",
      "|    0   N/A  N/A      1392      G   /usr/bin/gnome-shell              223MiB |\r\n",
      "|    0   N/A  N/A      4840      G   ...381286942757995247,131072      252MiB |\r\n",
      "|    0   N/A  N/A      5367      G   ...RendererForSitePerProcess      297MiB |\r\n",
      "|    0   N/A  N/A      6285    C+G   ...saac_sim-2022.1.0/kit/kit     3040MiB |\r\n",
      "+-----------------------------------------------------------------------------+\r\n"
     ]
    }
   ],
   "source": [
    "!nvidia-smi"
   ]
  },
  {
   "cell_type": "code",
   "execution_count": 2,
   "id": "585cf226",
   "metadata": {},
   "outputs": [],
   "source": [
    "import numpy as np"
   ]
  },
  {
   "cell_type": "code",
   "execution_count": 3,
   "id": "ceb85278",
   "metadata": {},
   "outputs": [],
   "source": [
    "%load_ext autoreload\n",
    "%autoreload 2"
   ]
  },
  {
   "cell_type": "code",
   "execution_count": 4,
   "id": "aad802a2",
   "metadata": {},
   "outputs": [
    {
     "ename": "NameError",
     "evalue": "name 'world' is not defined",
     "output_type": "error",
     "traceback": [
      "\u001b[0;31m---------------------------------------------------------------------------\u001b[0m",
      "\u001b[0;31mNameError\u001b[0m                                 Traceback (most recent call last)",
      "\u001b[0;32m/tmp/ipykernel_6166/2029972651.py\u001b[0m in \u001b[0;36m<module>\u001b[0;34m\u001b[0m\n\u001b[0;32m----> 1\u001b[0;31m \u001b[0mworld\u001b[0m\u001b[0;34m.\u001b[0m\u001b[0mreset\u001b[0m\u001b[0;34m(\u001b[0m\u001b[0;34m)\u001b[0m\u001b[0;34m\u001b[0m\u001b[0;34m\u001b[0m\u001b[0m\n\u001b[0m",
      "\u001b[0;31mNameError\u001b[0m: name 'world' is not defined"
     ]
    }
   ],
   "source": [
    "world.reset()"
   ]
  },
  {
   "cell_type": "code",
   "execution_count": 5,
   "id": "4f52aa97",
   "metadata": {},
   "outputs": [],
   "source": [
    "import getpass\n",
    "user = getpass.getuser()"
   ]
  },
  {
   "cell_type": "code",
   "execution_count": 6,
   "id": "18cbd476",
   "metadata": {},
   "outputs": [
    {
     "name": "stdout",
     "output_type": "stream",
     "text": [
      "Starting kit application with the fillowing args:  ['/home/yizhou/.local/share/ov/pkg/isaac_sim-2022.1.0/exts/omni.isaac.kit/omni/isaac/kit/simulation_app.py', '/home/yizhou/.local/share/ov/pkg/isaac_sim-2022.1.0/apps/omni.isaac.sim.python.kit', '--/app/tokens/exe-path=/home/yizhou/.local/share/ov/pkg/isaac_sim-2022.1.0/kit', '--/persistent/app/viewport/displayOptions=3094', '--/rtx/materialDb/syncLoads=True', '--/rtx/hydra/materialSyncLoads=True--/omni.kit.plugin/syncUsdLoads=True', '--/app/renderer/resolution/width=1280', '--/app/renderer/resolution/height=720', '--/app/window/width=1440', '--/app/window/height=900', '--/renderer/multiGpu/enabled=True', '--ext-folder', '/home/yizhou/.local/share/ov/pkg/isaac_sim-2022.1.0/exts', '--ext-folder', '/home/yizhou/.local/share/ov/pkg/isaac_sim-2022.1.0/apps', '--portable', '--no-window']\n",
      "Passing the following args to the base kit application:  ['-f', '/home/yizhou/.local/share/jupyter/runtime/kernel-bfdf7cfc-010c-4416-befe-cf7f56fd2b38.json']\n",
      "[Warning] [omni.kit.app.plugin] No crash reporter present, dumps uploading isn't available.\n",
      "[Info] [carb] Logging to file: /home/yizhou/.local/share/ov/pkg/isaac_sim-2022.1.0/kit/logs/Kit/Isaac-Sim/2022.1/kit_20220802_164743.log\n",
      "[0.080s] [ext: omni.stats-0.0.0] startup\n",
      "[0.095s] [ext: omni.gpu_foundation-0.0.0] startup\n",
      "2022-08-02 23:47:43 [93ms] [Warning] [carb] FrameworkImpl::setDefaultPlugin(client: omni.gpu_foundation_factory.plugin, desc : [carb::graphics::Graphics v2.5], plugin : carb.graphics-vulkan.plugin) failed. Plugin selection is locked, because the interface was previously acquired by: \n",
      "[0.102s] [ext: carb.windowing.plugins-1.0.0] startup\n",
      "2022-08-02 23:47:43 [103ms] [Warning] [carb.windowing-glfw.gamepad] Joystick with unknown remapping detected (will be ignored):  Microsoft Xbox One X pad [030000005e040000120b000009050000]\n",
      "[0.110s] [ext: omni.assets.plugins-0.0.0] startup\n",
      "[0.110s] [ext: omni.kit.renderer.init-0.0.0] startup\n",
      "\n",
      "|---------------------------------------------------------------------------------------------|\n",
      "| Driver Version: 510.73.5      | Graphics API: Vulkan\n",
      "|=============================================================================================|\n",
      "| GPU | Name                             | Active | LDA | GPU Memory | Vendor-ID | LUID       |\n",
      "|     |                                  |        |     |            | Device-ID | UUID       |\n",
      "|---------------------------------------------------------------------------------------------|\n",
      "| 0   | NVIDIA GeForce RTX 3090          | Yes: 0 |     | 24822   MB | 10de      | 0          |\n",
      "|     |                                  |        |     |            | 2204      | 3f50dd6e.. |\n",
      "|=============================================================================================|\n",
      "| OS: Linux yizhou-Z370-AORUS-Gaming-5, Version: 5.15.0-43-generic\n",
      "| Processor: Intel(R) Core(TM) i7-8700K CPU @ 3.70GHz | Cores: Unknown | Logical: 12\n",
      "|---------------------------------------------------------------------------------------------|\n",
      "| Total Memory (MB): 32046 | Free Memory: 16302\n",
      "| Total Page/Swap (MB): 2047 | Free Page/Swap: 2047\n",
      "|---------------------------------------------------------------------------------------------|\n",
      "2022-08-02 23:47:44 [1,001ms] [Warning] [carb.cudainterop.plugin] On Linux only, CUDA and the display driver does not support IOMMU-enabled bare-metal PCIe peer to peer memory copy.\n",
      "However, CUDA and the display driver does support IOMMU via VM pass through. As a consequence, users on Linux,\n",
      "when running on a native bare metal system, should disable the IOMMU. The IOMMU should be enabled and the VFIO driver\n",
      "be used as a PCIe pass through for virtual machines.\n",
      "[1.019s] [ext: omni.kit.pipapi-0.0.0] startup\n",
      "[1.028s] [ext: omni.kit.pip_archive-0.0.0] startup\n",
      "[1.032s] [ext: omni.isaac.core_archive-0.3.0] startup\n",
      "[1.052s] [ext: omni.usd.config-1.0.0] startup\n",
      "[1.054s] [ext: omni.usd.libs-1.0.0] startup\n",
      "[1.183s] [ext: omni.isaac.ml_archive-0.1.0] startup\n",
      "[1.228s] [ext: omni.kit.loop-isaac-0.1.0] startup\n",
      "[1.229s] [ext: omni.kit.async_engine-0.0.0] startup\n",
      "[1.231s] [ext: omni.appwindow-1.0.0] startup\n",
      "[1.233s] [ext: omni.client-0.1.0] startup\n",
      "[1.242s] [ext: omni.kit.test-0.0.0] startup\n",
      "[1.265s] [ext: omni.kit.renderer.core-0.0.0] startup\n",
      "[1.345s] [ext: omni.ui-2.10.3] startup\n",
      "[1.361s] [ext: carb.audio-0.1.0] startup\n",
      "[1.382s] [ext: omni.kit.mainwindow-0.0.0] startup\n",
      "[1.386s] [ext: omni.uiaudio-1.0.0] startup\n",
      "[1.388s] [ext: omni.kit.uiapp-0.0.0] startup\n",
      "[1.388s] [ext: omni.usd.schema.physics-1.0.0] startup\n",
      "[1.433s] [ext: omni.usd.schema.audio-0.0.0] startup\n",
      "[1.440s] [ext: omni.usd.schema.semantics-0.0.0] startup\n",
      "[1.450s] [ext: omni.usd.schema.omnigraph-1.0.0] startup\n",
      "[1.460s] [ext: omni.usd.schema.anim-0.0.0] startup\n",
      "[1.499s] [ext: omni.kit.commands-1.2.2] startup\n",
      "[1.504s] [ext: omni.timeline-1.0.2] startup\n",
      "[1.506s] [ext: omni.hydra.scene_delegate-0.2.0] startup\n",
      "[1.513s] [ext: omni.kit.audiodeviceenum-1.0.0] startup\n",
      "[1.515s] [ext: omni.usd-1.5.3] startup\n",
      "[1.593s] [ext: omni.kit.asset_converter-1.2.30] startup\n",
      "[1.609s] [ext: omni.usd.schema.isaac-0.2.0] startup\n",
      "[1.648s] [ext: omni.usd.schema.physx-0.0.0] startup\n",
      "[1.674s] [ext: omni.kit.search_core-1.0.2] startup\n",
      "[1.675s] [ext: omni.renderer-rtx-0.0.0] startup\n",
      "[1.676s] [ext: omni.kit.widget.graph-1.4.2] startup\n",
      "[1.687s] [ext: omni.kit.widget.filebrowser-2.2.26] startup\n",
      "[1.694s] [ext: omni.kit.window.popup_dialog-2.0.7] startup\n",
      "[1.700s] [ext: omni.mdl.neuraylib-0.1.0] startup\n",
      "[1.703s] [ext: omni.kit.widget.path_field-2.0.3] startup\n",
      "[1.704s] [ext: omni.kit.widget.versioning-1.3.8] startup\n",
      "[1.706s] [ext: omni.kit.notification_manager-1.0.5] startup\n",
      "[1.708s] [ext: omni.kit.widget.browser_bar-2.0.3] startup\n",
      "[1.710s] [ext: omni.kit.menu.utils-1.2.11] startup\n",
      "[1.720s] [ext: omni.kit.window.filepicker-2.4.29] startup\n"
     ]
    },
    {
     "name": "stderr",
     "output_type": "stream",
     "text": [
      "OmniAssetFileFormat\n",
      "2022-08-02 23:47:45 [2,132ms] [Error] [rtx.neuraylib.plugin] [DYNLIB:IO]   0.1   DYNLIB io   error: /home/yizhou/.local/share/ov/pkg/isaac_sim-2022.1.0/kit/python/bin/libs/iray/libnvindex.so: cannot open shared object file: No such file or directory\n",
      "2022-08-02 23:47:45 [2,132ms] [Error] [rtx.neuraylib.plugin] [INDEX:MAIN]   0.1   INDEX  main error: Failed to load /home/yizhou/.local/share/ov/pkg/isaac_sim-2022.1.0/kit/python/bin/libs/iray/libnvindex.so\n"
     ]
    },
    {
     "name": "stdout",
     "output_type": "stream",
     "text": [
      "[1.769s] [ext: omni.mdl-0.1.0] startup\n",
      "[1.789s] [ext: omni.kit.menu.create-1.0.2] startup\n",
      "[1.790s] [ext: omni.kit.window.file_exporter-1.0.4] startup\n",
      "[1.791s] [ext: omni.kit.window.drop_support-1.0.0] startup\n",
      "[1.791s] [ext: omni.kit.material.library-1.3.10] startup\n",
      "[1.794s] [ext: omni.kit.window.property-1.6.3] startup\n",
      "[1.795s] [ext: omni.kit.context_menu-1.3.9] startup\n",
      "[1.799s] [ext: omni.kit.window.file_importer-1.0.4] startup\n",
      "[1.799s] [ext: omni.kit.stage_templates-1.1.2] startup\n",
      "[1.801s] [ext: omni.kit.widget.stage-2.6.15] startup\n",
      "[1.804s] [ext: omni.kit.window.file-1.3.16] startup\n",
      "[1.806s] [ext: omni.debugdraw-0.1.0] startup\n",
      "[1.812s] [ext: omni.kit.window.content_browser-2.4.28] startup\n",
      "[1.824s] [ext: omni.kit.widget.prompt-1.0.1] startup\n",
      "[1.825s] [ext: omni.kit.property.usd-3.14.8] startup\n",
      "[1.873s] [ext: omni.hydra.engine.stats-1.0.0] startup\n",
      "[1.885s] [ext: omni.kit.widget.settings-1.0.0] startup\n",
      "[1.888s] [ext: omni.graph.tools-1.3.5] startup\n",
      "[1.941s] [ext: omni.graph.core-2.27.0] startup\n",
      "[1.945s] [ext: omni.hydra.rtx-0.1.0] startup\n",
      "[1.955s] [ext: omni.kit.viewport.legacy_gizmos-1.0.0] startup\n",
      "[1.958s] [ext: omni.ui_query-1.1.1] startup\n",
      "[1.960s] [ext: omni.graph-1.22.1] startup\n",
      "[2.052s] [ext: omni.kit.window.viewport-0.0.0] startup\n",
      "Warp initialized:\n",
      "   Version: 0.2.1\n",
      "   Using CUDA device: NVIDIA GeForce RTX 3090\n",
      "   Using CPU compiler: /usr/bin/g++\n",
      "[2.964s] [ext: omni.kit.window.preferences-1.2.1] startup\n",
      "[3.000s] [ext: omni.kit.ui_test-1.2.0] startup\n",
      "[3.002s] [ext: omni.graph.ui-1.6.1] startup\n",
      "[3.025s] [ext: omni.kvdb-0.0.0] startup\n",
      "[3.028s] [ext: omni.kit.widget.searchfield-1.0.6] startup\n",
      "[3.030s] [ext: omni.convexdecomposition-1.4.12] startup\n",
      "[3.033s] [ext: omni.graph.action-1.17.0] startup\n",
      "[3.045s] [ext: omni.localcache-0.0.0] startup\n",
      "[3.048s] [ext: omni.usdphysics-1.4.12] startup\n",
      "[3.051s] [ext: omni.graph.scriptnode-0.5.0] startup\n",
      "[3.054s] [ext: omni.physx-1.4.12-5.1] startup\n",
      "2022-08-02 23:47:46 [3,061ms] [Warning] [omni.kvdb.plugin] wasn't able to load the meta database, trying to repair it ...\n",
      "2022-08-02 23:47:46 [3,164ms] [Warning] [omni.kvdb.plugin] repair failed\n",
      "[3.172s] [ext: omni.kit.usd_undo-0.1.0] startup\n",
      "[3.174s] [ext: omni.graph.nodes-1.25.0] startup\n",
      "[3.191s] [ext: omni.physx.commands-1.4.12-5.1] startup\n",
      "[3.196s] [ext: omni.syntheticdata-0.2.1] startup\n",
      "[3.232s] [ext: omni.physx.ui-1.4.12-5.1] startup\n",
      "[3.313s] [ext: omni.warp-0.2.1] startup\n",
      "[4.970s] [ext: omni.kit.renderer.capture-0.0.0] startup\n",
      "[4.973s] [ext: omni.kit.property.material-1.8.5] startup\n",
      "[4.976s] [ext: omni.physx.demos-1.4.12-5.1] startup\n",
      "[4.979s] [ext: omni.physics.tensors-0.1.0] startup\n",
      "[4.987s] [ext: omni.kit.property.physx-0.1.0] startup\n",
      "2022-08-02 23:47:48 [5,042ms] [Warning] [omni.physx.plugin] Deprecated: getSimulationEventStream is deprecated, please use getSimulationEventStreamV2\n",
      "[5.051s] [ext: omni.kit.window.toolbar-1.2.4] startup\n",
      "[5.059s] [ext: omni.physx.tensors-0.1.0] startup\n",
      "[5.065s] [ext: omni.physx.vehicle-1.4.12-5.1] startup\n",
      "[5.075s] [ext: omni.physx.tests-1.4.12-5.1] startup\n",
      "[5.124s] [ext: omni.kit.numpy.common-0.1.0] startup\n",
      "[5.128s] [ext: omni.physx.camera-1.4.12-5.1] startup\n",
      "[5.134s] [ext: omni.physx.cct-1.4.12-5.1] startup\n",
      "[5.196s] [ext: omni.isaac.version-1.0.0] startup\n",
      "[5.197s] [ext: omni.isaac.dynamic_control-1.0.0] startup\n",
      "[5.204s] [ext: omni.physx.bundle-1.4.12-5.1] startup\n",
      "[5.204s] [ext: omni.kit.primitive.mesh-1.0.0] startup\n",
      "[5.208s] [ext: omni.command.usd-1.0.1] startup\n",
      "[5.210s] [ext: omni.isaac.core-1.15.1] startup\n",
      "[5.432s] [ext: omni.replicator.core-1.2.0] startup\n",
      "[5.524s] [ext: omni.kit.window.extensions-1.1.0] startup\n",
      "[5.530s] [ext: omni.isaac.core_nodes-0.9.0] startup\n",
      "[5.540s] [ext: omni.isaac.ui-0.2.1] startup\n",
      "[5.542s] [ext: omni.kit.window.script_editor-1.6.2] startup\n",
      "[5.549s] [ext: omni.isaac.wheeled_robots-0.5.4] startup\n",
      "[5.559s] [ext: omni.kit.menu.common-1.0.0] startup\n",
      "[5.561s] [ext: omni.kit.graph.delegate.default-1.0.15] startup\n",
      "[5.563s] [ext: omni.kit.graph.delegate.modern-1.6.0] startup\n",
      "[5.565s] [ext: omni.kit.widget.zoombar-1.0.3] startup\n",
      "[5.566s] [ext: omni.kit.graph.editor.core-1.3.3] startup\n",
      "[5.568s] [ext: omni.kit.widget.stage_icons-1.0.2] startup\n",
      "[5.569s] [ext: omni.kit.browser.core-2.0.12] startup\n",
      "[5.573s] [ext: omni.kit.graph.widget.variables-2.0.2] startup\n",
      "[5.575s] [ext: omni.kit.window.stage-2.3.7] startup\n",
      "[5.578s] [ext: omni.kit.browser.folder.core-1.1.13] startup\n",
      "[5.580s] [ext: omni.graph.window.core-1.22.1] startup\n",
      "[5.586s] [ext: omni.isaac.lula-1.1.0] startup\n",
      "[5.612s] [ext: omni.graph.instancing-1.1.4] startup\n",
      "[5.617s] [ext: omni.graph.window.action-1.3.8] startup\n",
      "[5.618s] [ext: omni.graph.tutorials-1.1.2] startup\n",
      "[5.632s] [ext: omni.rtx.window.settings-0.6.1] startup\n",
      "[5.637s] [ext: omni.isaac.motion_planning-0.2.0] startup\n",
      "[5.645s] [ext: omni.graph.bundle.action-1.0.0] startup\n",
      "[5.645s] [ext: omni.rtx.settings.core-0.5.5] startup\n",
      "[5.650s] [ext: omni.isaac.motion_generation-3.1.2] startup\n",
      "[5.654s] [ext: omni.isaac.kit-0.1.9] startup\n",
      "[5.654s] [ext: omni.isaac.debug_draw-0.1.2] startup\n",
      "[5.660s] [ext: omni.kit.selection-0.1.0] startup\n",
      "[5.661s] [ext: omni.isaac.franka-0.0.0] startup\n",
      "[5.662s] [ext: omni.kit.widget.layers-1.5.17] startup\n",
      "[5.675s] [ext: omni.kit.menu.edit-1.0.6] startup\n",
      "[5.676s] [ext: omni.isaac.isaac_sensor-0.3.4] startup\n",
      "2022-08-02 23:47:49 [5,676ms] [Warning] [omni.physx.plugin] Deprecated: getSimulationEventStream is deprecated, please use getSimulationEventStreamV2\n",
      "[5.684s] [ext: omni.kit.widget.live-0.1.0] startuOpening usd file at  omniverse://localhost/Users/yizhou/test_allegro.usd  ...Done.\n",
      "Saving a temp livesync stage at  omniverse://localhost/Users/yizhou/test_allegro.usd  ...Done.\n",
      "p\n",
      "[5.689s] [ext: omni.isaac.surface_gripper-0.1.2] startup\n",
      "[5.694s] [ext: omni.kit.property.layer-1.1.2] startup\n",
      "[5.696s] [ext: omni.isaac.range_sensor-0.4.2] startup\n",
      "[5.723s] [ext: omni.graph.window.generic-1.3.8] startup\n",
      "[5.724s] [ext: omni.isaac.utils-0.1.11] startup\n",
      "[5.728s] [ext: omni.isaac.universal_robots-0.2.1] startup\n",
      "[5.729s] [ext: omni.kit.property.audio-1.0.5] startup\n",
      "[5.730s] [ext: omni.kit.property.skel-1.0.1] startup\n",
      "[5.732s] [ext: omni.kit.property.render-1.1.0] startup\n",
      "[5.733s] [ext: omni.kit.property.camera-1.0.3] startup\n",
      "[5.734s] [ext: omni.kit.property.geometry-1.2.0] startup\n",
      "[5.736s] [ext: omni.kit.property.light-1.0.5] startup\n",
      "[5.737s] [ext: omni.kit.property.transform-1.0.2] startup\n",
      "[5.740s] [ext: omni.isaac.occupancy_map-0.2.4] startup\n",
      "[5.754s] [ext: omni.ui.scene-1.4.6] startup\n",
      "[5.760s] [ext: omni.kit.window.console-0.2.0] startup\n",
      "[5.767s] [ext: omni.kit.window.status_bar-0.1.1] startup\n",
      "[5.772s] [ext: omni.kit.property.bundle-1.2.4] startup\n",
      "[5.773s] [ext: omni.kit.menu.file-1.0.8] startup\n",
      "[5.775s] [ext: omni.kit.manipulator.viewport-1.0.6] startup\n",
      "[5.777s] [ext: omni.isaac.urdf-0.2.2] startup\n",
      "[5.808s] [ext: omni.isaac.dofbot-0.2.0] startup\n",
      "[5.809s] [ext: omni.kit.window.title-1.1.1] startup\n",
      "[5.810s] [ext: omni.kit.profiler.window-1.4.4] startup\n",
      "[5.813s] [ext: omni.graph.visualization.nodes-1.1.1] startup\n",
      "[5.816s] [ext: omni.isaac.synthetic_utils-0.2.1] startup\n",
      "[5.823s] [ext: semantics.schema.editor-0.2.2] startup\n",
      "[5.826s] [ext: omni.isaac.sim.python-2022.1.0] startup\n",
      "[5.827s] Simulation App Starting\n",
      "2022-08-02 23:47:50 [6,431ms] [Warning] [omni.usd] Default value for render setting \"/rtx/shaderDb/cachePermutationIndex\" not found\n",
      "2022-08-02 23:47:50 [6,431ms] [Warning] [omni.usd] Default value for render setting \"/rtx/resourcemanager/uploadPooledBuffers/framesToEvict\" not found\n",
      "2022-08-02 23:47:50 [6,431ms] [Warning] [omni.usd] Default value for render setting \"/rtx/resourcemanager/uploadPooledBuffers/uploadSize\" not found\n",
      "2022-08-02 23:47:50 [6,431ms] [Warning] [omni.usd] Default value for render setting \"/rtx/pathtracing/nrc/canRun\" not found\n",
      "2022-08-02 23:47:50 [6,639ms] [Warning] [omni.hydra] Mesh /World/Game/mobility/link_2/visuals/frame_horizontal_bar_27 has corrupted data in primvar st: buffer size 24 doesn't match expected size 48 in faceVarying primvars\n",
      "2022-08-02 23:47:50 [6,639ms] [Warning] [omni.hydra] Mesh /World/Game/mobility/link_2/visuals/other_leaf_34 has corrupted data in primvar st: buffer size 24 doesn't match expected size 48 in faceVarying primvars\n",
      "2022-08-02 23:47:50 [6,639ms] [Warning] [omni.hydra] Mesh /World/Game/mobility/link_2/visuals/vertical_front_panel_38 has corrupted data in primvar st: buffer size 18 doesn't match expected size 72 in faceVarying primvars\n",
      "2022-08-02 23:47:50 [6,639ms] [Warning] [omni.hydra] Mesh /World/Game/mobility/link_2/visuals/shelf_15 has corrupted data in primvar st: buffer size 18 doesn't match expected size 36 in faceVarying primvars\n",
      "2022-08-02 23:47:50 [6,639ms] [Warning] [omni.hydra] Mesh /World/Game/mobility/link_2/visuals/vertical_side_panel_38 has corrupted data in primvar st: buffer size 18 doesn't match expected size 48 in faceVarying primvars\n",
      "2022-08-02 23:47:50 [6,639ms] [Warning] [omni.hydra] Mesh /World/Game/mobility/link_2/visuals/other_leaf_32 has corrupted data in primvar st: buffer size 24 doesn't match expected size 48 in faceVarying primvars\n",
      "2022-08-02 23:47:50 [6,639ms] [Warning] [omni.hydra] Mesh /World/Game/mobility/link_2/visuals/vertical_side_panel_39 has corrupted data in primvar st: buffer size 18 doesn't match expected size 48 in faceVarying primvars\n",
      "2022-08-02 23:47:50 [6,639ms] [Warning] [omni.hydra] Mesh /World/Game/mobility/link_2/visuals/vertical_side_panel_37 has corrupted data in primvar st: buffer size 18 doesn't match expected size 48 in faceVarying primvars\n",
      "2022-08-02 23:47:50 [6,639ms] [Warning] [omni.hydra] Mesh /World/Game/mobility/link_2/visuals/other_leaf_33 has corrupted data in primvar st: buffer size 24 doesn't match expected size 48 in faceVarying primvars\n",
      "2022-08-02 23:47:50 [6,639ms] [Warning] [omni.hydra] Mesh /World/Game/mobility/link_2/visuals/other_leaf_35 has corrupted data in primvar st: buffer size 24 doesn't match expected size 48 in faceVarying primvars\n",
      "2022-08-02 23:47:50 [6,639ms] [Warning] [omni.hydra] Mesh /World/Game/mobility/link_2/visuals/vertical_side_panel_36 has corrupted data in primvar st: buffer size 18 doesn't match expected size 48 in faceVarying primvars\n",
      "2022-08-02 23:47:50 [6,639ms] [Warning] [omni.hydra] Mesh /World/Game/mobility/link_2/visuals/vertical_front_panel_39 has corrupted data in primvar st: buffer size 18 doesn't match expected size 48 in faceVarying primvars\n",
      "2022-08-02 23:47:50 [6,639ms] [Warning] [omni.hydra] Mesh /World/Game/mobility/link_2/visuals/vertical_side_panel_38 has corrupted data in primvar st_1: buffer size 6 doesn't match expected size 48 in faceVarying primvars\n",
      "2022-08-02 23:47:50 [6,639ms] [Warning] [omni.hydra] Mesh /World/Game/mobility/link_2/visuals/vertical_front_panel_38 has corrupted data in primvar st_1: buffer size 18 doesn't match expected size 72 in faceVarying primvars\n",
      "2022-08-02 23:47:50 [6,639ms] [Warning] [omni.hydra] Mesh /World/Game/mobility/link_2/visuals/vertical_side_panel_37 has corrupted data in primvar st_1: buffer size 6 doesn't match expected size 48 in faceVarying primvars\n",
      "2022-08-02 23:47:50 [6,639ms] [Warning] [omni.hydra] Mesh /World/Game/mobility/link_2/visuals/vertical_side_panel_36 has corrupted data in primvar st_1: buffer size 6 doesn't match expected size 48 in faceVarying primvars\n",
      "2022-08-02 23:47:50 [6,639ms] [Warning] [omni.hydra] Mesh /World/Game/mobility/link_2/visuals/vertical_front_panel_39 has corrupted data in primvar st_1: buffer size 6 doesn't match expected size 48 in faceVarying primvars\n",
      "2022-08-02 23:47:50 [6,640ms] [Warning] [omni.hydra] Mesh /World/Game/mobility/link_2/visuals/vertical_front_panel_40 has corrupted data in primvar st: buffer size 18 doesn't match expected size 48 in faceVarying primvars\n",
      "2022-08-02 23:47:50 [6,640ms] [Warning] [omni.hydra] Mesh /World/Game/mobility/link_2/visuals/vertical_front_panel_41 has corrupted data in primvar st: buffer size 18 doesn't match expected size 72 in faceVarying primvars\n",
      "2022-08-02 23:47:50 [6,640ms] [Warning] [omni.hydra] Mesh /World/Game/mobility/link_2/visuals/vertical_front_panel_42 has corrupted data in primvar st: buffer size 18 doesn't match expected size 48 in faceVarying primvars\n",
      "2022-08-02 23:47:50 [6,640ms] [Warning] [omni.hydra] Mesh /World/Game/mobility/link_2/visuals/back_panel_39 has corrupted data in primvar st: buffer size 36 doesn't match expected size 72 in faceVarying primvars\n",
      "2022-08-02 23:47:50 [6,640ms] [Warning] [omni.hydra] Mesh /World/Game/mobility/link_2/visuals/bottom_panel_40 has corrupted data in primvar st: buffer size 66 doesn't match expected size 72 in faceVarying primvars\n",
      "2022-08-02 23:47:50 [6,640ms] [Warning] [omni.hydra] Mesh /World/Game/mobility/link_2/visuals/base_side_panel_18 has corrupted data in primvar st: buffer size 18 doesn't match expected size 72 in faceVarying primvars\n",
      "2022-08-02 23:47:50 [6,640ms] [Warning] [omni.hydra] Mesh /World/Game/mobility/link_2/visuals/base_side_panel_17 has corrupted data in primvar st: buffer size 36 doesn't match expected size 72 in faceVarying primvars\n",
      "2022-08-02 23:47:50 [6,640ms] [Warning] [omni.hydra] Mesh /World/Game/mobility/link_2/visuals/vertical_front_panel_40 has corrupted data in primvar st_1: buffer size 6 doesn't match expected size 48 in faceVarying primvars\n",
      "2022-08-02 23:47:50 [6,640ms] [Warning] [omni.hydra] Mesh /World/Game/mobility/link_2/visuals/vertical_side_panel_39 has corrupted data in primvar st_1: buffer size 6 doesn't match expected size 48 in faceVarying primvars\n",
      "2022-08-02 23:47:50 [6,640ms] [Warning] [omni.hydra] Mesh /World/Game/mobility/link_2/visuals/base_side_panel_18 has corrupted data in primvar st_1: buffer size 18 doesn't match expected size 72 in faceVarying primvars\n"
     ]
    },
    {
     "name": "stdout",
     "output_type": "stream",
     "text": [
      "2022-08-02 23:47:50 [6,640ms] [Warning] [omni.hydra] Mesh /World/Game/mobility/link_2/visuals/base_side_panel_19 has corrupted data in primvar st: buffer size 6 doesn't match expected size 72 in faceVarying primvars\n",
      "2022-08-02 23:47:50 [6,640ms] [Warning] [omni.hydra] Mesh /World/Game/mobility/link_2/visuals/base_side_panel_19 has corrupted data in primvar st_1: buffer size 30 doesn't match expected size 72 in faceVarying primvars\n",
      "2022-08-02 23:47:50 [6,640ms] [Warning] [omni.hydra] Mesh /World/Game/mobility/link_2/visuals/base_side_panel_20 has corrupted data in primvar st: buffer size 18 doesn't match expected size 72 in faceVarying primvars\n",
      "2022-08-02 23:47:50 [6,640ms] [Warning] [omni.hydra] Mesh /World/Game/mobility/link_2/visuals/base_side_panel_20 has corrupted data in primvar st_1: buffer size 18 doesn't match expected size 72 in faceVarying primvars\n",
      "2022-08-02 23:47:50 [6,640ms] [Warning] [omni.hydra] Mesh /World/Game/mobility/link_0/visuals/cabinet_door_surface_7 has corrupted data in primvar st: buffer size 36 doesn't match expected size 72 in faceVarying primvars\n",
      "2022-08-02 23:47:50 [6,640ms] [Warning] [omni.hydra] Mesh /World/Game/mobility/link_0/visuals/cabinet_door_surface_5 has corrupted data in primvar st: buffer size 24 doesn't match expected size 48 in faceVarying primvars\n",
      "2022-08-02 23:47:50 [6,640ms] [Warning] [omni.hydra] Mesh /World/Game/mobility/link_0/visuals/cabinet_door_surface_6 has corrupted data in primvar st: buffer size 36 doesn't match expected size 72 in faceVarying primvars\n",
      "2022-08-02 23:47:50 [6,640ms] [Warning] [omni.hydra] Mesh /World/Game/mobility/link_0/visuals/cabinet_door_surface_8 has corrupted data in primvar st: buffer size 36 doesn't match expected size 72 in faceVarying primvars\n",
      "2022-08-02 23:47:50 [6,640ms] [Warning] [omni.hydra] Mesh /World/Game/mobility/link_0/visuals/cabinet_door_surface_9 has corrupted data in primvar st: buffer size 24 doesn't match expected size 48 in faceVarying primvars\n",
      "2022-08-02 23:47:50 [6,640ms] [Warning] [omni.hydra] Mesh /World/Game/mobility/link_0/visuals/handle_6 has corrupted data in primvar st: buffer size 1962 doesn't match expected size 4008 in faceVarying primvars\n",
      "2022-08-02 23:47:50 [6,640ms] [Warning] [omni.hydra] Mesh /World/Game/mobility/link_2/visuals/vertical_front_panel_42 has corrupted data in primvar st_1: buffer size 6 doesn't match expected size 48 in faceVarying primvars\n",
      "2022-08-02 23:47:50 [6,640ms] [Warning] [omni.hydra] Mesh /World/Game/mobility/link_2/visuals/vertical_front_panel_41 has corrupted data in primvar st_1: buffer size 18 doesn't match expected size 72 in faceVarying primvars\n",
      "2022-08-02 23:47:50 [6,640ms] [Warning] [omni.hydra] Mesh /World/Game/mobility/link_1/visuals/drawer_front_8 has corrupted data in primvar st: buffer size 24 doesn't match expected size 48 in faceVarying primvars\n",
      "2022-08-02 23:47:50 [6,640ms] [Warning] [omni.hydra] Mesh /World/Game/mobility/link_1/visuals/drawer_side_9 has corrupted data in primvar st: buffer size 36 doesn't match expected size 72 in faceVarying primvars\n",
      "2022-08-02 23:47:50 [6,640ms] [Warning] [omni.hydra] Mesh /World/Game/mobility/link_1/visuals/drawer_side_10 has corrupted data in primvar st: buffer size 36 doesn't match expected size 72 in faceVarying primvars\n",
      "2022-08-02 23:47:50 [6,640ms] [Warning] [omni.hydra] Mesh /World/Game/mobility/link_1/visuals/drawer_back_11 has corrupted data in primvar st: buffer size 24 doesn't match expected size 48 in faceVarying primvars\n",
      "2022-08-02 23:47:50 [6,640ms] [Warning] [omni.hydra] Mesh /World/Game/mobility/link_1/visuals/drawer_bottom_12 has corrupted data in primvar st: buffer size 6 doesn't match expected size 12 in faceVarying primvars\n",
      "2022-08-02 23:47:50 [6,640ms] [Warning] [omni.hydra] Mesh /World/Game/mobility/link_1/visuals/drawer_bottom_13 has corrupted data in primvar st: buffer size 6 doesn't match expected size 12 in faceVarying primvars\n",
      "[10.852s] app ready\n",
      "2022-08-02 23:47:54 [10,879ms] [Warning] [omni.hydra] Mesh /World/Game/mobility/link_2/visuals/shelf_15 has corrupted data in primvar st: buffer size 18 doesn't match expected size 36 in faceVarying primvars\n",
      "2022-08-02 23:47:54 [10,879ms] [Warning] [omni.hydra] Mesh /World/Game/mobility/link_2/visuals/frame_horizontal_bar_27 has corrupted data in primvar st: buffer size 24 doesn't match expected size 48 in faceVarying primvars\n",
      "2022-08-02 23:47:54 [10,879ms] [Warning] [omni.hydra] Mesh /World/Game/mobility/link_2/visuals/other_leaf_35 has corrupted data in primvar st: buffer size 24 doesn't match expected size 48 in faceVarying primvars\n",
      "2022-08-02 23:47:54 [10,879ms] [Warning] [omni.hydra] Mesh /World/Game/mobility/link_2/visuals/other_leaf_34 has corrupted data in primvar st: buffer size 24 doesn't match expected size 48 in faceVarying primvars\n",
      "2022-08-02 23:47:54 [10,879ms] [Warning] [omni.hydra] Mesh /World/Game/mobility/link_2/visuals/other_leaf_33 has corrupted data in primvar st: buffer size 24 doesn't match expected size 48 in faceVarying primvars\n",
      "2022-08-02 23:47:54 [10,879ms] [Warning] [omni.hydra] Mesh /World/Game/mobility/link_2/visuals/other_leaf_32 has corrupted data in primvar st: buffer size 24 doesn't match expected size 48 in faceVarying primvars\n",
      "2022-08-02 23:47:54 [10,879ms] [Warning] [omni.hydra] Mesh /World/Game/mobility/link_2/visuals/vertical_side_panel_36 has corrupted data in primvar st: buffer size 18 doesn't match expected size 48 in faceVarying primvars\n",
      "2022-08-02 23:47:54 [10,879ms] [Warning] [omni.hydra] Mesh /World/Game/mobility/link_2/visuals/vertical_side_panel_37 has corrupted data in primvar st: buffer size 18 doesn't match expected size 48 in faceVarying primvars\n",
      "2022-08-02 23:47:54 [10,879ms] [Warning] [omni.hydra] Mesh /World/Game/mobility/link_2/visuals/vertical_side_panel_36 has corrupted data in primvar st_1: buffer size 6 doesn't match expected size 48 in faceVarying primvars\n",
      "2022-08-02 23:47:54 [10,879ms] [Warning] [omni.hydra] Mesh /World/Game/mobility/link_2/visuals/vertical_side_panel_37 has corrupted data in primvar st_1: buffer size 6 doesn't match expected size 48 in faceVarying primvars\n",
      "2022-08-02 23:47:54 [10,879ms] [Warning] [omni.hydra] Mesh /World/Game/mobility/link_2/visuals/vertical_side_panel_38 has corrupted data in primvar st: buffer size 18 doesn't match expected size 48 in faceVarying primvars\n",
      "2022-08-02 23:47:54 [10,879ms] [Warning] [omni.hydra] Mesh /World/Game/mobility/link_2/visuals/vertical_side_panel_39 has corrupted data in primvar st: buffer size 18 doesn't match expected size 48 in faceVarying primvars\n",
      "2022-08-02 23:47:54 [10,879ms] [Warning] [omni.hydra] Mesh /World/Game/mobility/link_2/visuals/vertical_side_panel_39 has corrupted data in primvar st_1: buffer size 6 doesn't match expected size 48 in faceVarying primvars\n",
      "2022-08-02 23:47:54 [10,879ms] [Warning] [omni.hydra] Mesh /World/Game/mobility/link_2/visuals/vertical_side_panel_38 has corrupted data in primvar st_1: buffer size 6 doesn't match expected size 48 in faceVarying primvars\n",
      "2022-08-02 23:47:54 [10,879ms] [Warning] [omni.hydra] Mesh /World/Game/mobility/link_2/visuals/vertical_front_panel_38 has corrupted data in primvar st: buffer size 18 doesn't match expected size 72 in faceVarying primvars\n",
      "2022-08-02 23:47:54 [10,879ms] [Warning] [omni.hydra] Mesh /World/Game/mobility/link_2/visuals/vertical_front_panel_38 has corrupted data in primvar st_1: buffer size 18 doesn't match expected size 72 in faceVarying primvars\n",
      "2022-08-02 23:47:54 [10,880ms] [Warning] [omni.hydra] Mesh /World/Game/mobility/link_2/visuals/vertical_front_panel_39 has corrupted data in primvar st: buffer size 18 doesn't match expected size 48 in faceVarying primvars\n",
      "2022-08-02 23:47:54 [10,880ms] [Warning] [omni.hydra] Mesh /World/Game/mobility/link_2/visuals/vertical_front_panel_39 has corrupted data in primvar st_1: buffer size 6 doesn't match expected size 48 in faceVarying primvars\n",
      "2022-08-02 23:47:54 [10,880ms] [Warning] [omni.hydra] Mesh /World/Game/mobility/link_2/visuals/vertical_front_panel_40 has corrupted data in primvar st: buffer size 18 doesn't match expected size 48 in faceVarying primvars\n",
      "2022-08-02 23:47:54 [10,880ms] [Warning] [omni.hydra] Mesh /World/Game/mobility/link_2/visuals/vertical_front_panel_40 has corrupted data in primvar st_1: buffer size 6 doesn't match expected size 48 in faceVarying primvars\n",
      "2022-08-02 23:47:54 [10,880ms] [Warning] [omni.hydra] Mesh /World/Game/mobility/link_2/visuals/vertical_front_panel_41 has corrupted data in primvar st: buffer size 18 doesn't match expected size 72 in faceVarying primvars\n",
      "2022-08-02 23:47:54 [10,880ms] [Warning] [omni.hydra] Mesh /World/Game/mobility/link_2/visuals/vertical_front_panel_41 has corrupted data in primvar st_1: buffer size 18 doesn't match expected size 72 in faceVarying primvars\n",
      "2022-08-02 23:47:54 [10,880ms] [Warning] [omni.hydra] Mesh /World/Game/mobility/link_2/visuals/vertical_front_panel_42 has corrupted data in primvar st: buffer size 18 doesn't match expected size 48 in faceVarying primvars\n",
      "2022-08-02 23:47:54 [10,880ms] [Warning] [omni.hydra] Mesh /World/Game/mobility/link_2/visuals/vertical_front_panel_42 has corrupted data in primvar st_1: buffer size 6 doesn't match expected size 48 in faceVarying primvars\n",
      "2022-08-02 23:47:54 [10,880ms] [Warning] [omni.hydra] Mesh /World/Game/mobility/link_2/visuals/back_panel_39 has corrupted data in primvar st: buffer size 36 doesn't match expected size 72 in faceVarying primvars\n",
      "2022-08-02 23:47:54 [10,880ms] [Warning] [omni.hydra] Mesh /World/Game/mobility/link_2/visuals/bottom_panel_40 has corrupted data in primvar st: buffer size 66 doesn't match expected size 72 in faceVarying primvars\n",
      "2022-08-02 23:47:54 [10,880ms] [Warning] [omni.hydra] Mesh /World/Game/mobility/link_2/visuals/base_side_panel_17 has corrupted data in primvar st: buffer size 36 doesn't match expected size 72 in faceVarying primvars\n",
      "2022-08-02 23:47:54 [10,880ms] [Warning] [omni.hydra] Mesh /World/Game/mobility/link_2/visuals/base_side_panel_18 has corrupted data in primvar st: buffer size 18 doesn't match expected size 72 in faceVarying primvars\n",
      "2022-08-02 23:47:54 [10,880ms] [Warning] [omni.hydra] Mesh /World/Game/mobility/link_2/visuals/base_side_panel_19 has corrupted data in primvar st: buffer size 6 doesn't match expected size 72 in faceVarying primvars\n",
      "2022-08-02 23:47:54 [10,880ms] [Warning] [omni.hydra] Mesh /World/Game/mobility/link_2/visuals/base_side_panel_19 has corrupted data in primvar st_1: buffer size 30 doesn't match expected size 72 in faceVarying primvars\n",
      "2022-08-02 23:47:54 [10,880ms] [Warning] [omni.hydra] Mesh /World/Game/mobility/link_2/visuals/base_side_panel_18 has corrupted data in primvar st_1: buffer size 18 doesn't match expected size 72 in faceVarying primvars\n",
      "2022-08-02 23:47:54 [10,880ms] [Warning] [omni.hydra] Mesh /World/Game/mobility/link_2/visuals/base_side_panel_20 has corrupted data in primvar st: buffer size 18 doesn't match expected size 72 in faceVarying primvars\n",
      "2022-08-02 23:47:54 [10,880ms] [Warning] [omni.hydra] Mesh /World/Game/mobility/link_2/visuals/base_side_panel_20 has corrupted data in primvar st_1: buffer size 18 doesn't match expected size 72 in faceVarying primvars\n",
      "2022-08-02 23:47:54 [10,881ms] [Warning] [omni.hydra] Mesh /World/Game/mobility/link_0/visuals/cabinet_door_surface_5 has corrupted data in primvar st: buffer size 24 doesn't match expected size 48 in faceVarying primvars\n",
      "2022-08-02 23:47:54 [10,881ms] [Warning] [omni.hydra] Mesh /World/Game/mobility/link_0/visuals/cabinet_door_surface_6 has corrupted data in primvar st: buffer size 36 doesn't match expected size 72 in faceVarying primvars\n",
      "2022-08-02 23:47:54 [10,881ms] [Warning] [omni.hydra] Mesh /World/Game/mobility/link_0/visuals/cabinet_door_surface_7 has corrupted data in primvar st: buffer size 36 doesn't match expected size 72 in faceVarying primvars\n",
      "2022-08-02 23:47:54 [10,881ms] [Warning] [omni.hydra] Mesh /World/Game/mobility/link_0/visuals/cabinet_door_surface_8 has corrupted data in primvar st: buffer size 36 doesn't match expected size 72 in faceVarying primvars\n",
      "2022-08-02 23:47:54 [10,881ms] [Warning] [omni.hydra] Mesh /World/Game/mobility/link_0/visuals/cabinet_door_surface_9 has corrupted data in primvar st: buffer size 24 doesn't match expected size 48 in faceVarying primvars\n"
     ]
    },
    {
     "name": "stdout",
     "output_type": "stream",
     "text": [
      "2022-08-02 23:47:54 [10,881ms] [Warning] [omni.hydra] Mesh /World/Game/mobility/link_0/visuals/handle_6 has corrupted data in primvar st: buffer size 1962 doesn't match expected size 4008 in faceVarying primvars\n",
      "2022-08-02 23:47:54 [10,881ms] [Warning] [omni.hydra] Mesh /World/Game/mobility/link_1/visuals/drawer_front_8 has corrupted data in primvar st: buffer size 24 doesn't match expected size 48 in faceVarying primvars\n",
      "2022-08-02 23:47:54 [10,881ms] [Warning] [omni.hydra] Mesh /World/Game/mobility/link_1/visuals/drawer_side_9 has corrupted data in primvar st: buffer size 36 doesn't match expected size 72 in faceVarying primvars\n",
      "2022-08-02 23:47:54 [10,881ms] [Warning] [omni.hydra] Mesh /World/Game/mobility/link_1/visuals/drawer_back_11 has corrupted data in primvar st: buffer size 24 doesn't match expected size 48 in faceVarying primvars\n",
      "2022-08-02 23:47:54 [10,881ms] [Warning] [omni.hydra] Mesh /World/Game/mobility/link_1/visuals/drawer_side_10 has corrupted data in primvar st: buffer size 36 doesn't match expected size 72 in faceVarying primvars\n",
      "2022-08-02 23:47:54 [10,881ms] [Warning] [omni.hydra] Mesh /World/Game/mobility/link_1/visuals/drawer_bottom_12 has corrupted data in primvar st: buffer size 6 doesn't match expected size 12 in faceVarying primvars\n",
      "2022-08-02 23:47:54 [10,881ms] [Warning] [omni.hydra] Mesh /World/Game/mobility/link_1/visuals/drawer_bottom_13 has corrupted data in primvar st: buffer size 6 doesn't match expected size 12 in faceVarying primvars\n",
      "2022-08-02 23:47:55 [11,574ms] [Warning] [omni.hydra] Mesh /World/Game/mobility/link_2/visuals/shelf_15 has corrupted data in primvar st: buffer size 18 doesn't match expected size 36 in faceVarying primvars\n",
      "2022-08-02 23:47:55 [11,574ms] [Warning] [omni.hydra] Mesh /World/Game/mobility/link_2/visuals/other_leaf_35 has corrupted data in primvar st: buffer size 24 doesn't match expected size 48 in faceVarying primvars\n",
      "2022-08-02 23:47:55 [11,574ms] [Warning] [omni.hydra] Mesh /World/Game/mobility/link_2/visuals/other_leaf_34 has corrupted data in primvar st: buffer size 24 doesn't match expected size 48 in faceVarying primvars\n",
      "2022-08-02 23:47:55 [11,574ms] [Warning] [omni.hydra] Mesh /World/Game/mobility/link_2/visuals/frame_horizontal_bar_27 has corrupted data in primvar st: buffer size 24 doesn't match expected size 48 in faceVarying primvars\n",
      "2022-08-02 23:47:55 [11,574ms] [Warning] [omni.hydra] Mesh /World/Game/mobility/link_2/visuals/vertical_side_panel_39 has corrupted data in primvar st: buffer size 18 doesn't match expected size 48 in faceVarying primvars\n",
      "2022-08-02 23:47:55 [11,574ms] [Warning] [omni.hydra] Mesh /World/Game/mobility/link_2/visuals/other_leaf_33 has corrupted data in primvar st: buffer size 24 doesn't match expected size 48 in faceVarying primvars\n",
      "2022-08-02 23:47:55 [11,574ms] [Warning] [omni.hydra] Mesh /World/Game/mobility/link_2/visuals/vertical_side_panel_36 has corrupted data in primvar st: buffer size 18 doesn't match expected size 48 in faceVarying primvars\n",
      "2022-08-02 23:47:55 [11,574ms] [Warning] [omni.hydra] Mesh /World/Game/mobility/link_2/visuals/vertical_side_panel_38 has corrupted data in primvar st: buffer size 18 doesn't match expected size 48 in faceVarying primvars\n",
      "2022-08-02 23:47:55 [11,574ms] [Warning] [omni.hydra] Mesh /World/Game/mobility/link_2/visuals/vertical_side_panel_37 has corrupted data in primvar st: buffer size 18 doesn't match expected size 48 in faceVarying primvars\n",
      "2022-08-02 23:47:55 [11,574ms] [Warning] [omni.hydra] Mesh /World/Game/mobility/link_2/visuals/other_leaf_32 has corrupted data in primvar st: buffer size 24 doesn't match expected size 48 in faceVarying primvars\n",
      "2022-08-02 23:47:55 [11,574ms] [Warning] [omni.hydra] Mesh /World/Game/mobility/link_2/visuals/vertical_front_panel_38 has corrupted data in primvar st: buffer size 18 doesn't match expected size 72 in faceVarying primvars\n",
      "2022-08-02 23:47:55 [11,574ms] [Warning] [omni.hydra] Mesh /World/Game/mobility/link_2/visuals/vertical_side_panel_38 has corrupted data in primvar st_1: buffer size 6 doesn't match expected size 48 in faceVarying primvars\n",
      "2022-08-02 23:47:55 [11,574ms] [Warning] [omni.hydra] Mesh /World/Game/mobility/link_2/visuals/vertical_front_panel_40 has corrupted data in primvar st: buffer size 18 doesn't match expected size 48 in faceVarying primvars\n",
      "2022-08-02 23:47:55 [11,574ms] [Warning] [omni.hydra] Mesh /World/Game/mobility/link_2/visuals/vertical_front_panel_41 has corrupted data in primvar st: buffer size 18 doesn't match expected size 72 in faceVarying primvars\n",
      "2022-08-02 23:47:55 [11,574ms] [Warning] [omni.hydra] Mesh /World/Game/mobility/link_2/visuals/vertical_side_panel_39 has corrupted data in primvar st_1: buffer size 6 doesn't match expected size 48 in faceVarying primvars\n",
      "2022-08-02 23:47:55 [11,574ms] [Warning] [omni.hydra] Mesh /World/Game/mobility/link_2/visuals/vertical_front_panel_40 has corrupted data in primvar st_1: buffer size 6 doesn't match expected size 48 in faceVarying primvars\n",
      "2022-08-02 23:47:55 [11,574ms] [Warning] [omni.hydra] Mesh /World/Game/mobility/link_2/visuals/vertical_front_panel_39 has corrupted data in primvar st: buffer size 18 doesn't match expected size 48 in faceVarying primvars\n",
      "2022-08-02 23:47:55 [11,574ms] [Warning] [omni.hydra] Mesh /World/Game/mobility/link_2/visuals/vertical_front_panel_42 has corrupted data in primvar st: buffer size 18 doesn't match expected size 48 in faceVarying primvars\n",
      "2022-08-02 23:47:55 [11,574ms] [Warning] [omni.hydra] Mesh /World/Game/mobility/link_2/visuals/back_panel_39 has corrupted data in primvar st: buffer size 36 doesn't match expected size 72 in faceVarying primvars\n",
      "2022-08-02 23:47:55 [11,575ms] [Warning] [omni.hydra] Mesh /World/Game/mobility/link_2/visuals/vertical_side_panel_37 has corrupted data in primvar st_1: buffer size 6 doesn't match expected size 48 in faceVarying primvars\n",
      "2022-08-02 23:47:55 [11,575ms] [Warning] [omni.hydra] Mesh /World/Game/mobility/link_2/visuals/vertical_front_panel_39 has corrupted data in primvar st_1: buffer size 6 doesn't match expected size 48 in faceVarying primvars\n",
      "2022-08-02 23:47:55 [11,575ms] [Warning] [omni.hydra] Mesh /World/Game/mobility/link_2/visuals/vertical_front_panel_38 has corrupted data in primvar st_1: buffer size 18 doesn't match expected size 72 in faceVarying primvars\n",
      "2022-08-02 23:47:55 [11,575ms] [Warning] [omni.hydra] Mesh /World/Game/mobility/link_2/visuals/vertical_side_panel_36 has corrupted data in primvar st_1: buffer size 6 doesn't match expected size 48 in faceVarying primvars\n",
      "2022-08-02 23:47:55 [11,575ms] [Warning] [omni.hydra] Mesh /World/Game/mobility/link_2/visuals/vertical_front_panel_41 has corrupted data in primvar st_1: buffer size 18 doesn't match expected size 72 in faceVarying primvars\n",
      "2022-08-02 23:47:55 [11,575ms] [Warning] [omni.hydra] Mesh /World/Game/mobility/link_2/visuals/bottom_panel_40 has corrupted data in primvar st: buffer size 66 doesn't match expected size 72 in faceVarying primvars\n",
      "2022-08-02 23:47:55 [11,575ms] [Warning] [omni.hydra] Mesh /World/Game/mobility/link_2/visuals/base_side_panel_17 has corrupted data in primvar st: buffer size 36 doesn't match expected size 72 in faceVarying primvars\n",
      "2022-08-02 23:47:55 [11,575ms] [Warning] [omni.hydra] Mesh /World/Game/mobility/link_2/visuals/base_side_panel_18 has corrupted data in primvar st: buffer size 18 doesn't match expected size 72 in faceVarying primvars\n",
      "2022-08-02 23:47:55 [11,575ms] [Warning] [omni.hydra] Mesh /World/Game/mobility/link_2/visuals/base_side_panel_19 has corrupted data in primvar st: buffer size 6 doesn't match expected size 72 in faceVarying primvars\n",
      "2022-08-02 23:47:55 [11,575ms] [Warning] [omni.hydra] Mesh /World/Game/mobility/link_2/visuals/base_side_panel_20 has corrupted data in primvar st: buffer size 18 doesn't match expected size 72 in faceVarying primvars\n",
      "2022-08-02 23:47:55 [11,575ms] [Warning] [omni.hydra] Mesh /World/Game/mobility/link_0/visuals/cabinet_door_surface_5 has corrupted data in primvar st: buffer size 24 doesn't match expected size 48 in faceVarying primvars\n",
      "2022-08-02 23:47:55 [11,575ms] [Warning] [omni.hydra] Mesh /World/Game/mobility/link_2/visuals/base_side_panel_18 has corrupted data in primvar st_1: buffer size 18 doesn't match expected size 72 in faceVarying primvars\n",
      "2022-08-02 23:47:55 [11,575ms] [Warning] [o"
     ]
    }
   ],
   "source": [
    "from omni.isaac.kit import SimulationApp\n",
    "\n",
    "usd_path = f\"omniverse://localhost/Users/{user}/test_allegro.usd\"\n",
    "\n",
    "\n",
    "simulation_app = SimulationApp({\"headless\": True, \"open_usd\": usd_path, \"livesync_usd\": usd_path})\n"
   ]
  },
  {
   "cell_type": "code",
   "execution_count": 7,
   "id": "abc6cdfc",
   "metadata": {},
   "outputs": [],
   "source": [
    "from omni.isaac.core import World\n",
    "world = World()"
   ]
  },
  {
   "cell_type": "code",
   "execution_count": 8,
   "id": "e88b8780",
   "metadata": {},
   "outputs": [],
   "source": [
    "from hand_env import HandEnv\n",
    "\n",
    "# env = HandEnv(\"/World/Hand/Bones/l_carpal_mid\", \"/World/Hand*/Bones/l_thumbSkeleton_grp/l_distalThumb_mid\")\n",
    "env = HandEnv(\"/World/allegro*/allegro_mount\", \"/World/AnchorXform\")"
   ]
  },
  {
   "cell_type": "code",
   "execution_count": 9,
   "id": "389c011d",
   "metadata": {},
   "outputs": [],
   "source": [
    "world.reset()"
   ]
  },
  {
   "cell_type": "code",
   "execution_count": 11,
   "id": "29c58779",
   "metadata": {},
   "outputs": [
    {
     "name": "stdout",
     "output_type": "stream",
     "text": [
      "simlation context numpy None\n",
      "num_envs 1\n"
     ]
    },
    {
     "data": {
      "text/plain": [
       "<omni.isaac.core.robots.robot_view.RobotView at 0x7f7f92d01f90>"
      ]
     },
     "execution_count": 11,
     "metadata": {},
     "output_type": "execute_result"
    }
   ],
   "source": [
    "env.start()\n",
    "world.scene.add(env.robots)"
   ]
  },
  {
   "cell_type": "code",
   "execution_count": 35,
   "id": "1c8f5b22",
   "metadata": {},
   "outputs": [],
   "source": [
    "env.xforms.set_world_poses(positions=np.array([[0,0,0]]), orientations = np.array([[1, 0, 0, 0]])) # WXYZ\n",
    "\n",
    "for _ in range(30):\n",
    "    world.step(render=True)"
   ]
  },
  {
   "cell_type": "code",
   "execution_count": 16,
   "id": "cf1919a0",
   "metadata": {},
   "outputs": [
    {
     "data": {
      "text/plain": [
       "(array([[-0.01107822,  0.03002543,  0.04911713]], dtype=float32),\n",
       " array([[0.27375883, 0.1561453 , 0.1577546 , 0.93583554]], dtype=float32))"
      ]
     },
     "execution_count": 16,
     "metadata": {},
     "output_type": "execute_result"
    }
   ],
   "source": [
    "hand_pos, hand_rot = env.robots.get_world_poses()\n",
    "hand_pos, hand_rot"
   ]
  },
  {
   "cell_type": "code",
   "execution_count": 17,
   "id": "54b5b94e",
   "metadata": {},
   "outputs": [
    {
     "data": {
      "text/plain": [
       "array([[-0.13209808, -0.10292442, -0.08314592,  0.2735379 , -0.05409821,\n",
       "        -0.27030557, -0.3550904 , -0.01357761, -0.02220257, -0.315826  ,\n",
       "        -0.32352686,  1.1855806 , -0.01220552, -0.02537572, -0.0118597 ,\n",
       "         1.762732  ]], dtype=float32)"
      ]
     },
     "execution_count": 17,
     "metadata": {},
     "output_type": "execute_result"
    }
   ],
   "source": [
    "env.robots.get_joint_positions()"
   ]
  },
  {
   "cell_type": "code",
   "execution_count": 18,
   "id": "ecc35c2e",
   "metadata": {
    "scrolled": true
   },
   "outputs": [
    {
     "name": "stdout",
     "output_type": "stream",
     "text": [
      "0 /World/allegro/palm_link/index_joint_0 [-0.5584889  0.5584889]\n",
      "1 /World/allegro/palm_link/middle_joint_0 [-0.5584889  0.5584889]\n",
      "2 /World/allegro/palm_link/ring_joint_0 [-0.5584889  0.5584889]\n",
      "3 /World/allegro/palm_link/thumb_joint_0 [0.27924445 1.5707499 ]\n",
      "4 /World/allegro/index_link_0/index_joint_1 [-0.27924445  1.7278249 ]\n",
      "5 /World/allegro/middle_link_0/middle_joint_1 [-0.27924445  1.7278249 ]\n",
      "6 /World/allegro/ring_link_0/ring_joint_1 [-0.27924445  1.7278249 ]\n",
      "7 /World/allegro/thumb_link_0/thumb_joint_1 [-0.33160278  1.1518834 ]\n",
      "8 /World/allegro/index_link_1/index_joint_2 [-0.27924445  1.7278249 ]\n",
      "9 /World/allegro/middle_link_1/middle_joint_2 [-0.27924445  1.7278249 ]\n",
      "10 /World/allegro/ring_link_1/ring_joint_2 [-0.27924445  1.7278249 ]\n",
      "11 /World/allegro/thumb_link_1/thumb_joint_2 [-0.27924445  1.7278249 ]\n",
      "12 /World/allegro/index_link_2/index_joint_3 [-0.27924445  1.7278249 ]\n",
      "13 /World/allegro/middle_link_2/middle_joint_3 [-0.27924445  1.7278249 ]\n",
      "14 /World/allegro/ring_link_2/ring_joint_3 [-0.27924445  1.7278249 ]\n",
      "15 /World/allegro/thumb_link_2/thumb_joint_3 [-0.27924445  1.7627305 ]\n"
     ]
    }
   ],
   "source": [
    "for i, (path, limit) in enumerate(zip(env.robots._physics_view.dof_paths[0], env.robots.get_dof_limits()[0])):\n",
    "    print(i, path, limit)"
   ]
  },
  {
   "cell_type": "markdown",
   "id": "6d1228e2",
   "metadata": {},
   "source": [
    "# World Pose"
   ]
  },
  {
   "cell_type": "code",
   "execution_count": null,
   "id": "6a058acf",
   "metadata": {},
   "outputs": [],
   "source": [
    "target_pos, target_rot = (np.array([[0.2, 0., 0.]], dtype=np.float32), np.array([[1., 0., 0., 0.]], dtype=np.float32))"
   ]
  },
  {
   "cell_type": "code",
   "execution_count": null,
   "id": "b8c7f35e",
   "metadata": {},
   "outputs": [],
   "source": [
    "env.robots.set_world_poses(target_pos, target_rot)"
   ]
  },
  {
   "cell_type": "code",
   "execution_count": null,
   "id": "a1b4a66e",
   "metadata": {},
   "outputs": [],
   "source": [
    "world.step(render=True)"
   ]
  },
  {
   "cell_type": "code",
   "execution_count": null,
   "id": "416867b5",
   "metadata": {},
   "outputs": [],
   "source": [
    "world.reset()"
   ]
  },
  {
   "cell_type": "markdown",
   "id": "02a485f0",
   "metadata": {},
   "source": [
    "# Stage one: move to the correct place"
   ]
  },
  {
   "cell_type": "code",
   "execution_count": 19,
   "id": "51880f2a",
   "metadata": {},
   "outputs": [],
   "source": [
    "from utils import get_mesh_bboxes\n",
    "bboxes_list = get_mesh_bboxes(\"handle_6\") "
   ]
  },
  {
   "cell_type": "code",
   "execution_count": 20,
   "id": "117a683a",
   "metadata": {},
   "outputs": [
    {
     "data": {
      "text/plain": [
       "[[Gf.Vec3d(0.5999997598286658, 0.16887575486565293, 1.0008063018276903),\n",
       "  Gf.Vec3d(0.6388455895036502, 0.21179346534321167, 1.043723318071727)]]"
      ]
     },
     "execution_count": 20,
     "metadata": {},
     "output_type": "execute_result"
    }
   ],
   "source": [
    "bboxes_list"
   ]
  },
  {
   "cell_type": "code",
   "execution_count": 21,
   "id": "eb0a1ff1",
   "metadata": {},
   "outputs": [],
   "source": [
    "# get center and min x axis\n",
    "min_x = bboxes_list[0][0][0] # \n",
    "center_list = [(e[1] + e[0]) / 2 for e in bboxes_list] # box center"
   ]
  },
  {
   "cell_type": "code",
   "execution_count": 22,
   "id": "732f5891",
   "metadata": {},
   "outputs": [],
   "source": [
    "grasp_list = [[min_x - 0.1, c[1], c[2] - 0.12] for c in center_list]"
   ]
  },
  {
   "cell_type": "code",
   "execution_count": 23,
   "id": "17b11f79",
   "metadata": {},
   "outputs": [
    {
     "data": {
      "text/plain": [
       "[[0.49999975982866585, 0.1903346101044323, 0.9022648099497085]]"
      ]
     },
     "execution_count": 23,
     "metadata": {},
     "output_type": "execute_result"
    }
   ],
   "source": [
    "grasp_list"
   ]
  },
  {
   "cell_type": "code",
   "execution_count": 24,
   "id": "81749c1d",
   "metadata": {},
   "outputs": [],
   "source": [
    "graps_pos = np.array(grasp_list, dtype=np.float32)\n",
    "\n",
    "base_rotation = [0.38268, 0, 0, 0.92388]\n",
    "grasp_rot = np.array([base_rotation], dtype=np.float32)# XYZW\n",
    "     "
   ]
  },
  {
   "cell_type": "code",
   "execution_count": 25,
   "id": "728bb34a",
   "metadata": {
    "scrolled": false
   },
   "outputs": [
    {
     "data": {
      "text/plain": [
       "(array([[0.49999976, 0.1903346 , 0.90226483]], dtype=float32),\n",
       " array([[0.38268, 0.     , 0.     , 0.92388]], dtype=float32))"
      ]
     },
     "execution_count": 25,
     "metadata": {},
     "output_type": "execute_result"
    }
   ],
   "source": [
    "graps_pos, grasp_rot"
   ]
  },
  {
   "cell_type": "code",
   "execution_count": 1,
   "id": "6c26e4c0",
   "metadata": {},
   "outputs": [
    {
     "ename": "NameError",
     "evalue": "name 'world' is not defined",
     "output_type": "error",
     "traceback": [
      "\u001b[0;31m---------------------------------------------------------------------------\u001b[0m",
      "\u001b[0;31mNameError\u001b[0m                                 Traceback (most recent call last)",
      "\u001b[0;32m/tmp/ipykernel_9447/2029972651.py\u001b[0m in \u001b[0;36m<module>\u001b[0;34m\u001b[0m\n\u001b[0;32m----> 1\u001b[0;31m \u001b[0mworld\u001b[0m\u001b[0;34m.\u001b[0m\u001b[0mreset\u001b[0m\u001b[0;34m(\u001b[0m\u001b[0;34m)\u001b[0m\u001b[0;34m\u001b[0m\u001b[0;34m\u001b[0m\u001b[0m\n\u001b[0m",
      "\u001b[0;31mNameError\u001b[0m: name 'world' is not defined"
     ]
    }
   ],
   "source": [
    "world.reset()"
   ]
  },
  {
   "cell_type": "code",
   "execution_count": 27,
   "id": "43b8c883",
   "metadata": {},
   "outputs": [],
   "source": [
    "env.xforms.set_world_poses(graps_pos, grasp_rot)"
   ]
  },
  {
   "cell_type": "code",
   "execution_count": null,
   "id": "f77af5f6",
   "metadata": {},
   "outputs": [],
   "source": [
    "# env.robots.set_world_poses(graps_pos, grasp_rot)\n"
   ]
  },
  {
   "cell_type": "code",
   "execution_count": 28,
   "id": "8d12c3a0",
   "metadata": {},
   "outputs": [],
   "source": [
    "for _ in range(500):\n",
    "    world.step(render=True)"
   ]
  },
  {
   "cell_type": "markdown",
   "id": "6457dfc6",
   "metadata": {},
   "source": [
    "# Finger Pose"
   ]
  },
  {
   "cell_type": "code",
   "execution_count": 29,
   "id": "d8cbfc84",
   "metadata": {},
   "outputs": [],
   "source": [
    "tt = 120"
   ]
  },
  {
   "cell_type": "code",
   "execution_count": 30,
   "id": "db1d8b20",
   "metadata": {},
   "outputs": [],
   "source": [
    "# pos = np.array([\n",
    "#     [\n",
    "#      0, 0, 0, np.pi/2, \n",
    "#      0,0,0,0,\n",
    "#      0,0,0,0,\n",
    "#      0,0,0,0,   \n",
    "#     ],\n",
    "# ])\n",
    "\n",
    "# for i in range(tt):\n",
    "#     env.robots.set_joint_position_targets(pos * i / tt) # \n",
    "#     world.step(render=True)\n",
    "    \n",
    "finger_pos = np.array([\n",
    "    [\n",
    "     0, 0, 0, np.pi/2 + np.pi/18, \n",
    "     np.pi/5, np.pi/5, np.pi/5, 0,\n",
    "     np.pi/5, np.pi/5, np.pi/5, np.pi/6,\n",
    "     np.pi/5, np.pi/5, np.pi/5, np.pi/6,\n",
    "    ],\n",
    "])\n",
    "\n",
    "for i in range(tt):\n",
    "    env.robots.set_joint_position_targets(finger_pos * i / tt) # \n",
    "    world.step(render=True)"
   ]
  },
  {
   "cell_type": "markdown",
   "id": "db754de8",
   "metadata": {},
   "source": [
    "# Stage last: pull"
   ]
  },
  {
   "cell_type": "code",
   "execution_count": 31,
   "id": "dc62c5cd",
   "metadata": {
    "scrolled": false
   },
   "outputs": [
    {
     "data": {
      "text/plain": [
       "(array([[0.49999976, 0.1903346 , 0.90226483]], dtype=float32),\n",
       " array([[0.38268, 0.     , 0.     , 0.92388]], dtype=float32))"
      ]
     },
     "execution_count": 31,
     "metadata": {},
     "output_type": "execute_result"
    }
   ],
   "source": [
    "graps_pos, grasp_rot"
   ]
  },
  {
   "cell_type": "code",
   "execution_count": 32,
   "id": "25238d93",
   "metadata": {},
   "outputs": [],
   "source": [
    "# graps_pos[...,0] -= 0.05"
   ]
  },
  {
   "cell_type": "code",
   "execution_count": 33,
   "id": "a04054b2",
   "metadata": {},
   "outputs": [],
   "source": [
    "for i in range(200):\n",
    "    graps_pos[...,0] -= 0.002\n",
    "#   env.robots.set_world_poses(graps_pos, grasp_rot)\n",
    "    env.xforms.set_world_poses(graps_pos, grasp_rot)\n",
    "    env.robots.set_joint_position_targets(finger_pos)\n",
    "    world.step(render=True)"
   ]
  },
  {
   "cell_type": "code",
   "execution_count": 2,
   "id": "4c2b18d8",
   "metadata": {},
   "outputs": [
    {
     "ename": "NameError",
     "evalue": "name 'world' is not defined",
     "output_type": "error",
     "traceback": [
      "\u001b[0;31m---------------------------------------------------------------------------\u001b[0m",
      "\u001b[0;31mNameError\u001b[0m                                 Traceback (most recent call last)",
      "\u001b[0;32m/tmp/ipykernel_9447/2029972651.py\u001b[0m in \u001b[0;36m<module>\u001b[0;34m\u001b[0m\n\u001b[0;32m----> 1\u001b[0;31m \u001b[0mworld\u001b[0m\u001b[0;34m.\u001b[0m\u001b[0mreset\u001b[0m\u001b[0;34m(\u001b[0m\u001b[0;34m)\u001b[0m\u001b[0;34m\u001b[0m\u001b[0;34m\u001b[0m\u001b[0m\n\u001b[0m",
      "\u001b[0;31mNameError\u001b[0m: name 'world' is not defined"
     ]
    }
   ],
   "source": [
    "world.reset()"
   ]
  },
  {
   "cell_type": "code",
   "execution_count": null,
   "id": "235ec2f9",
   "metadata": {},
   "outputs": [],
   "source": []
  }
 ],
 "metadata": {
  "kernelspec": {
   "display_name": "Isaac Sim Python 3",
   "language": "python",
   "name": "isaac_sim_python3"
  },
  "language_info": {
   "codemirror_mode": {
    "name": "ipython",
    "version": 3
   },
   "file_extension": ".py",
   "mimetype": "text/x-python",
   "name": "python",
   "nbconvert_exporter": "python",
   "pygments_lexer": "ipython3",
   "version": "3.7.13"
  }
 },
 "nbformat": 4,
 "nbformat_minor": 5
}
