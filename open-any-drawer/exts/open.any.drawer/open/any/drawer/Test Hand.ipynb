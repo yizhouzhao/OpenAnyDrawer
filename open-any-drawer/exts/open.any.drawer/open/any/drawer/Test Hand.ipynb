{
 "cells": [
  {
   "cell_type": "code",
   "execution_count": null,
   "id": "7bd10d7c",
   "metadata": {},
   "outputs": [],
   "source": [
    "import numpy as np"
   ]
  },
  {
   "cell_type": "code",
   "execution_count": null,
   "id": "648ac4b8",
   "metadata": {},
   "outputs": [],
   "source": [
    "%load_ext autoreload\n",
    "%autoreload 2"
   ]
  },
  {
   "cell_type": "code",
   "execution_count": null,
   "id": "b90a9745",
   "metadata": {},
   "outputs": [],
   "source": [
    "# world.reset()"
   ]
  },
  {
   "cell_type": "code",
   "execution_count": null,
   "id": "615cbc16",
   "metadata": {},
   "outputs": [],
   "source": [
    "import getpass\n",
    "user = getpass.getuser()"
   ]
  },
  {
   "cell_type": "code",
   "execution_count": null,
   "id": "1569375f",
   "metadata": {},
   "outputs": [],
   "source": [
    "from omni.isaac.kit import SimulationApp\n",
    "\n",
    "usd_path = f\"omniverse://localhost/Users/{user}/test_hand2.usd\"\n",
    "\n",
    "\n",
    "simulation_app = SimulationApp({\"headless\": True, \"open_usd\": usd_path, \"livesync_usd\": usd_path})\n"
   ]
  },
  {
   "cell_type": "code",
   "execution_count": null,
   "id": "3aff0818",
   "metadata": {},
   "outputs": [],
   "source": [
    "from omni.isaac.core import World\n",
    "world = World()"
   ]
  },
  {
   "cell_type": "code",
   "execution_count": null,
   "id": "d27954ee",
   "metadata": {},
   "outputs": [],
   "source": [
    "from hand_env import HandEnv\n",
    "\n",
    "# env = HandEnv(\"/World/Hand/Bones/l_carpal_mid\", \"/World/Hand*/Bones/l_thumbSkeleton_grp/l_distalThumb_mid\")\n",
    "env = HandEnv(\"/World/Hand/Bones\", \"/World/Hand*/Bones/l_thumbSkeleton_grp/l_distalThumb_mid\")"
   ]
  },
  {
   "cell_type": "code",
   "execution_count": null,
   "id": "fb44f999",
   "metadata": {},
   "outputs": [],
   "source": [
    "world.reset()"
   ]
  },
  {
   "cell_type": "code",
   "execution_count": null,
   "id": "f02ced53",
   "metadata": {},
   "outputs": [],
   "source": [
    "env.start()\n",
    "world.scene.add(env.robots)"
   ]
  },
  {
   "cell_type": "code",
   "execution_count": null,
   "id": "92035e73",
   "metadata": {},
   "outputs": [],
   "source": [
    "hand_pos, hand_rot = env.robots.get_world_poses()"
   ]
  },
  {
   "cell_type": "code",
   "execution_count": null,
   "id": "8246bd48",
   "metadata": {},
   "outputs": [],
   "source": [
    "hand_pos, hand_rot"
   ]
  },
  {
   "cell_type": "code",
   "execution_count": null,
   "id": "b3e4f59d",
   "metadata": {},
   "outputs": [],
   "source": [
    "# hand_pos[...,0] += 10\n",
    "# hand_rot = np.array([[1,0,0,0]])"
   ]
  },
  {
   "cell_type": "code",
   "execution_count": null,
   "id": "31a2939a",
   "metadata": {},
   "outputs": [],
   "source": [
    "from utils import get_bounding_box"
   ]
  },
  {
   "cell_type": "code",
   "execution_count": null,
   "id": "c4257e46",
   "metadata": {},
   "outputs": [],
   "source": [
    "keyword = \"handle_17\"\n",
    "stage = world.scene.stage\n",
    "prim_list = list(stage.TraverseAll())\n",
    "prim_list = [ item for item in prim_list if keyword in item.GetPath().pathString and item.GetTypeName() == 'Mesh' ]\n",
    "\n",
    "bboxes_list  = []\n",
    "for prim in prim_list:\n",
    "    bboxes = get_bounding_box(prim.GetPath().pathString)\n",
    "    bboxes_list.append(bboxes)"
   ]
  },
  {
   "cell_type": "code",
   "execution_count": null,
   "id": "97b9b831",
   "metadata": {},
   "outputs": [],
   "source": [
    "bboxes_list[1]"
   ]
  },
  {
   "cell_type": "code",
   "execution_count": null,
   "id": "67e3997d",
   "metadata": {},
   "outputs": [],
   "source": [
    "center = 0.5 * (bboxes_list[1][0] + bboxes_list[1][1])"
   ]
  },
  {
   "cell_type": "code",
   "execution_count": null,
   "id": "352a1fe6",
   "metadata": {},
   "outputs": [],
   "source": [
    "hand_pos = np.array([[center[0] - 7, center[1], center[2] - 2]])"
   ]
  },
  {
   "cell_type": "code",
   "execution_count": null,
   "id": "28cde230",
   "metadata": {},
   "outputs": [],
   "source": [
    "hand_pos, hand_rot"
   ]
  },
  {
   "cell_type": "code",
   "execution_count": null,
   "id": "520e95e8",
   "metadata": {},
   "outputs": [],
   "source": [
    "env.robots.set_world_poses(hand_pos, hand_rot)\n",
    "world.step(render=True)"
   ]
  },
  {
   "cell_type": "code",
   "execution_count": null,
   "id": "67818e2d",
   "metadata": {},
   "outputs": [],
   "source": []
  },
  {
   "cell_type": "code",
   "execution_count": null,
   "id": "1efb9e68",
   "metadata": {},
   "outputs": [],
   "source": [
    "# pos = np.array([[ 0.5, -0., 0.5]], dtype=np.float32)\n",
    "# env.robots.set_world_poses(positions=pos)"
   ]
  },
  {
   "cell_type": "code",
   "execution_count": null,
   "id": "aae1ed28",
   "metadata": {},
   "outputs": [],
   "source": [
    "world.reset()"
   ]
  },
  {
   "cell_type": "code",
   "execution_count": null,
   "id": "cceb2955",
   "metadata": {},
   "outputs": [],
   "source": [
    "world.step(render=True)"
   ]
  },
  {
   "cell_type": "code",
   "execution_count": null,
   "id": "df588905",
   "metadata": {},
   "outputs": [],
   "source": [
    "env.robots.get_joint_positions()"
   ]
  },
  {
   "cell_type": "code",
   "execution_count": null,
   "id": "ebeb74ce",
   "metadata": {},
   "outputs": [],
   "source": [
    "env.robots._physics_view.dof_paths"
   ]
  },
  {
   "cell_type": "code",
   "execution_count": null,
   "id": "f2fc383e",
   "metadata": {},
   "outputs": [],
   "source": [
    "pause"
   ]
  },
  {
   "cell_type": "code",
   "execution_count": null,
   "id": "b6ff5df9",
   "metadata": {},
   "outputs": [],
   "source": [
    "import time"
   ]
  },
  {
   "cell_type": "code",
   "execution_count": null,
   "id": "6cc68ac7",
   "metadata": {},
   "outputs": [],
   "source": [
    "for i in range(20):\n",
    "    pos = np.array([\n",
    "        [ 0,  0, \n",
    "          i * 0.01,  0,  \n",
    "          0, 0, \n",
    "         -i * 0.02, 0,  \n",
    "         -i * 0.01, 0,  \n",
    "         0,  -i * 0.03,  -i * 0.03,  -i * 0.03,  -i * 0.03,\n",
    "         0,  -i * 0.03,  -i * 0.03,  -i * 0.03,  -i * 0.03, \n",
    "        ],\n",
    "    ])\n",
    "\n",
    "    # pos = np.random.randn(2,25)\n",
    "    time.sleep(0.2)\n",
    "    env.robots.set_joint_positions(pos) # \n",
    "    world.step(render=True)"
   ]
  },
  {
   "cell_type": "markdown",
   "id": "10c4e083",
   "metadata": {},
   "source": [
    "# Stage one"
   ]
  },
  {
   "cell_type": "code",
   "execution_count": null,
   "id": "2f5d1bb1",
   "metadata": {},
   "outputs": [],
   "source": [
    "i = 30\n",
    "pos = np.array([\n",
    "        [ 0,  0, \n",
    "          i * 0.01,  0,  \n",
    "          0, 0, \n",
    "         -i * 0.02, 0,  \n",
    "         -i * 0.01, 0,  \n",
    "          0, 0, 0, 0, 0, # 0,  -i * 0.03,  -i * 0.03,  -i * 0.03,  -i * 0.03,\n",
    "          0, 0, 0, 0, 0, # 0,  -i * 0.03,  -i * 0.03,  -i * 0.03,  -i * 0.03, \n",
    "        ],\n",
    "    ])\n",
    "\n",
    "for _ in range(30):\n",
    "    env.robots.set_joint_position_targets(pos) \n",
    "    world.step(render=True)"
   ]
  },
  {
   "cell_type": "markdown",
   "id": "8092713a",
   "metadata": {},
   "source": [
    "# Stage two"
   ]
  },
  {
   "cell_type": "code",
   "execution_count": null,
   "id": "f29625d2",
   "metadata": {},
   "outputs": [],
   "source": [
    "i = 30\n",
    "pos = np.array([\n",
    "        [ 0,  0, \n",
    "          i * 0.01,  0,  \n",
    "          0, 0, \n",
    "         -i * 0.02, 0,  \n",
    "         -i * 0.01, 0,  \n",
    "          0,  -i * 0.03,  -i * 0.03,  -i * 0.03,  -i * 0.03,\n",
    "          0,  -i * 0.03,  -i * 0.03,  -i * 0.03,  -i * 0.03, \n",
    "        ],\n",
    "    ])\n",
    "\n",
    "for _ in range(30):\n",
    "    env.robots.set_joint_position_targets(pos) \n",
    "    world.step(render=True)"
   ]
  },
  {
   "cell_type": "markdown",
   "id": "0a47815a",
   "metadata": {},
   "source": [
    "# Stage three"
   ]
  },
  {
   "cell_type": "code",
   "execution_count": null,
   "id": "9babcab3",
   "metadata": {},
   "outputs": [],
   "source": [
    "for _ in range(100):\n",
    "    env.robots.set_joint_position_targets(pos) \n",
    "    \n",
    "    hand_pos, hand_rot = env.robots.get_world_poses()\n",
    "    hand_pos[...,0] += 0.01\n",
    "    env.robots.set_world_poses(hand_pos, hand_rot)\n",
    "    \n",
    "    world.step(render=True)"
   ]
  },
  {
   "cell_type": "code",
   "execution_count": null,
   "id": "b44c2a7c",
   "metadata": {},
   "outputs": [],
   "source": []
  },
  {
   "cell_type": "code",
   "execution_count": null,
   "id": "98c522fd",
   "metadata": {},
   "outputs": [],
   "source": []
  },
  {
   "cell_type": "code",
   "execution_count": null,
   "id": "a98a33a9",
   "metadata": {},
   "outputs": [],
   "source": []
  },
  {
   "cell_type": "code",
   "execution_count": null,
   "id": "0759df26",
   "metadata": {},
   "outputs": [],
   "source": []
  },
  {
   "cell_type": "code",
   "execution_count": null,
   "id": "151730a9",
   "metadata": {},
   "outputs": [],
   "source": []
  },
  {
   "cell_type": "markdown",
   "id": "37719c7e",
   "metadata": {},
   "source": [
    "------------------"
   ]
  },
  {
   "cell_type": "code",
   "execution_count": null,
   "id": "5774985b",
   "metadata": {},
   "outputs": [],
   "source": [
    "env.robots.get_joint_positions()"
   ]
  },
  {
   "cell_type": "code",
   "execution_count": null,
   "id": "2df37b80",
   "metadata": {},
   "outputs": [],
   "source": [
    "joint_v = np.array([[\n",
    "     1,  0,  \n",
    "     0., 0.,\n",
    "     0., 0., \n",
    "     0., 0., \n",
    "     0., 0., \n",
    "     0, 0, 0, 0, 0,\n",
    "     0, 0, 0, 0, 0\n",
    "]]).transpose()"
   ]
  },
  {
   "cell_type": "code",
   "execution_count": null,
   "id": "1855870e",
   "metadata": {},
   "outputs": [],
   "source": [
    "joint_v.shape"
   ]
  },
  {
   "cell_type": "code",
   "execution_count": null,
   "id": "0c69f90c",
   "metadata": {},
   "outputs": [],
   "source": [
    "jacobians = env.robots._physics_view.get_jacobians()"
   ]
  },
  {
   "cell_type": "code",
   "execution_count": null,
   "id": "d7f98e96",
   "metadata": {},
   "outputs": [],
   "source": [
    "jacobians.shape"
   ]
  },
  {
   "cell_type": "code",
   "execution_count": null,
   "id": "1b0e8897",
   "metadata": {},
   "outputs": [],
   "source": [
    "delta_pos_rot = np.matmul(jacobians[0], joint_v)\n",
    "for i in range(len(delta_pos_rot)):\n",
    "    print(i, delta_pos_rot[i].transpose())"
   ]
  },
  {
   "cell_type": "markdown",
   "id": "e016275a",
   "metadata": {},
   "source": [
    "# Jacobian"
   ]
  },
  {
   "cell_type": "code",
   "execution_count": null,
   "id": "02c717c1",
   "metadata": {},
   "outputs": [],
   "source": [
    "world.reset()\n",
    "world.step(render=True)"
   ]
  },
  {
   "cell_type": "code",
   "execution_count": null,
   "id": "3b275bac",
   "metadata": {
    "scrolled": true
   },
   "outputs": [],
   "source": [
    "thumb_pos, thumb_rot = env.xforms.get_world_poses()"
   ]
  },
  {
   "cell_type": "code",
   "execution_count": null,
   "id": "4f30d1be",
   "metadata": {},
   "outputs": [],
   "source": [
    "thumb_rot = thumb_rot[:,[1,2,3,0]] # WXYZ -> XYZW"
   ]
  },
  {
   "cell_type": "code",
   "execution_count": null,
   "id": "72a7144e",
   "metadata": {
    "scrolled": true
   },
   "outputs": [],
   "source": [
    "thumb_pos, thumb_rot"
   ]
  },
  {
   "cell_type": "code",
   "execution_count": null,
   "id": "87ac4179",
   "metadata": {},
   "outputs": [],
   "source": [
    "target_pos = thumb_pos.copy()#np.array([[-0.37809137,  -0.3650283  , 0.05804292]])"
   ]
  },
  {
   "cell_type": "code",
   "execution_count": null,
   "id": "95796511",
   "metadata": {},
   "outputs": [],
   "source": [
    "target_pos[...,1] -= 0.5"
   ]
  },
  {
   "cell_type": "code",
   "execution_count": null,
   "id": "74d84dbd",
   "metadata": {},
   "outputs": [],
   "source": [
    "target_pos"
   ]
  },
  {
   "cell_type": "code",
   "execution_count": null,
   "id": "6ac050b7",
   "metadata": {},
   "outputs": [],
   "source": [
    "env.move_finger_to_fast(target_pos, thumb_rot, world, finger = \"thumb\")"
   ]
  },
  {
   "cell_type": "code",
   "execution_count": null,
   "id": "65535ac5",
   "metadata": {},
   "outputs": [],
   "source": [
    "target_pos = np.zeros((env.num_envs, 20)) \n",
    "# target_pos = np.random.randn(env.num_envs, 20) "
   ]
  },
  {
   "cell_type": "code",
   "execution_count": null,
   "id": "d4cc9209",
   "metadata": {},
   "outputs": [],
   "source": [
    "env.num_envs"
   ]
  },
  {
   "cell_type": "code",
   "execution_count": null,
   "id": "24ed2c85",
   "metadata": {},
   "outputs": [],
   "source": [
    "target_pos"
   ]
  },
  {
   "cell_type": "code",
   "execution_count": null,
   "id": "6a6c04b0",
   "metadata": {},
   "outputs": [],
   "source": [
    "for _ in range(100):\n",
    "    world.step(render=True)\n",
    "    thumb_pos, thumb_rot = env.xforms.get_world_poses()\n",
    "    env.robots.set_joint_position_targets(target_pos) \n",
    "    print(\"thumb_pos\", thumb_pos)"
   ]
  },
  {
   "cell_type": "code",
   "execution_count": null,
   "id": "51fc9e7e",
   "metadata": {},
   "outputs": [],
   "source": [
    "env.robots.get_joint_positions()"
   ]
  },
  {
   "cell_type": "markdown",
   "id": "d9933c59",
   "metadata": {},
   "source": [
    "# Control"
   ]
  },
  {
   "cell_type": "code",
   "execution_count": null,
   "id": "49c493c6",
   "metadata": {},
   "outputs": [],
   "source": [
    "pos, rot = env.robots.get_local_poses()"
   ]
  },
  {
   "cell_type": "code",
   "execution_count": null,
   "id": "a3a170e4",
   "metadata": {},
   "outputs": [],
   "source": [
    "pos, rot"
   ]
  },
  {
   "cell_type": "code",
   "execution_count": null,
   "id": "5c9be06d",
   "metadata": {},
   "outputs": [],
   "source": [
    "# pos[...,0] = -10"
   ]
  },
  {
   "cell_type": "code",
   "execution_count": null,
   "id": "7b7fb608",
   "metadata": {},
   "outputs": [],
   "source": [
    "env.robots.set_local_poses(pos,rot)\n",
    "world.step(render=True)"
   ]
  },
  {
   "cell_type": "code",
   "execution_count": null,
   "id": "726b638c",
   "metadata": {},
   "outputs": [],
   "source": [
    "hand_prim = world.scene.stage.GetPrimAtPath(\"/World/Hand\")"
   ]
  },
  {
   "cell_type": "code",
   "execution_count": null,
   "id": "d3b078b1",
   "metadata": {},
   "outputs": [],
   "source": [
    "from pxr import UsdGeom, Gf"
   ]
  },
  {
   "cell_type": "code",
   "execution_count": null,
   "id": "b4f2e826",
   "metadata": {},
   "outputs": [],
   "source": [
    "mat = Gf.Matrix4f().SetTranslate(Gf.Vec3f(0, 0, 0))"
   ]
  },
  {
   "cell_type": "code",
   "execution_count": null,
   "id": "16399e5c",
   "metadata": {},
   "outputs": [],
   "source": [
    "import omni"
   ]
  },
  {
   "cell_type": "code",
   "execution_count": null,
   "id": "d8353394",
   "metadata": {},
   "outputs": [],
   "source": [
    "omni.kit.commands.execute(\n",
    "    \"TransformPrimCommand\",\n",
    "    path=\"/World/Hand\",\n",
    "    new_transform_matrix=mat,\n",
    ")"
   ]
  },
  {
   "cell_type": "code",
   "execution_count": null,
   "id": "b1d0fd4a",
   "metadata": {},
   "outputs": [],
   "source": [
    "world.reset()"
   ]
  },
  {
   "cell_type": "code",
   "execution_count": null,
   "id": "76675111",
   "metadata": {},
   "outputs": [],
   "source": []
  }
 ],
 "metadata": {
  "kernelspec": {
   "display_name": "Isaac Sim Python 3",
   "language": "python",
   "name": "isaac_sim_python3"
  },
  "language_info": {
   "codemirror_mode": {
    "name": "ipython",
    "version": 3
   },
   "file_extension": ".py",
   "mimetype": "text/x-python",
   "name": "python",
   "nbconvert_exporter": "python",
   "pygments_lexer": "ipython3",
   "version": "3.7.13"
  }
 },
 "nbformat": 4,
 "nbformat_minor": 5
}
