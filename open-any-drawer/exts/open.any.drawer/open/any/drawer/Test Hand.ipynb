{
 "cells": [
  {
   "cell_type": "code",
   "execution_count": 1,
   "id": "2e12d8b9",
   "metadata": {},
   "outputs": [],
   "source": [
    "import numpy as np"
   ]
  },
  {
   "cell_type": "code",
   "execution_count": 2,
   "id": "a0f10490",
   "metadata": {},
   "outputs": [],
   "source": [
    "%load_ext autoreload\n",
    "%autoreload 2"
   ]
  },
  {
   "cell_type": "code",
   "execution_count": 3,
   "id": "f8b4fae3",
   "metadata": {},
   "outputs": [
    {
     "ename": "NameError",
     "evalue": "name 'world' is not defined",
     "output_type": "error",
     "traceback": [
      "\u001b[0;31m---------------------------------------------------------------------------\u001b[0m",
      "\u001b[0;31mNameError\u001b[0m                                 Traceback (most recent call last)",
      "\u001b[0;32m/tmp/ipykernel_110559/2029972651.py\u001b[0m in \u001b[0;36m<module>\u001b[0;34m\u001b[0m\n\u001b[0;32m----> 1\u001b[0;31m \u001b[0mworld\u001b[0m\u001b[0;34m.\u001b[0m\u001b[0mreset\u001b[0m\u001b[0;34m(\u001b[0m\u001b[0;34m)\u001b[0m\u001b[0;34m\u001b[0m\u001b[0;34m\u001b[0m\u001b[0m\n\u001b[0m",
      "\u001b[0;31mNameError\u001b[0m: name 'world' is not defined"
     ]
    }
   ],
   "source": [
    "world.reset()"
   ]
  },
  {
   "cell_type": "code",
   "execution_count": 4,
   "id": "324e42a5",
   "metadata": {},
   "outputs": [],
   "source": [
    "import getpass\n",
    "user = getpass.getuser()"
   ]
  },
  {
   "cell_type": "code",
   "execution_count": 5,
   "id": "2b8860d5",
   "metadata": {},
   "outputs": [
    {
     "name": "stdout",
     "output_type": "stream",
     "text": [
      "Starting kit application with the fillowing args:  ['/home/yizhou/.local/share/ov/pkg/isaac_sim-2022.1.0/exts/omni.isaac.kit/omni/isaac/kit/simulation_app.py', '/home/yizhou/.local/share/ov/pkg/isaac_sim-2022.1.0/apps/omni.isaac.sim.python.kit', '--/app/tokens/exe-path=/home/yizhou/.local/share/ov/pkg/isaac_sim-2022.1.0/kit', '--/persistent/app/viewport/displayOptions=3094', '--/rtx/materialDb/syncLoads=True', '--/rtx/hydra/materialSyncLoads=True--/omni.kit.plugin/syncUsdLoads=True', '--/app/renderer/resolution/width=1280', '--/app/renderer/resolution/height=720', '--/app/window/width=1440', '--/app/window/height=900', '--/renderer/multiGpu/enabled=True', '--ext-folder', '/home/yizhou/.local/share/ov/pkg/isaac_sim-2022.1.0/exts', '--ext-folder', '/home/yizhou/.local/share/ov/pkg/isaac_sim-2022.1.0/apps', '--portable', '--no-window']\n",
      "Passing the following args to the base kit application:  ['-f', '/home/yizhou/.local/share/jupyter/runtime/kernel-787d72c2-86e6-4447-8af6-c14fd0f1a78b.json']\n",
      "[Warning] [omni.kit.app.plugin] No crash reporter present, dumps uploading isn't available.\n",
      "[Info] [carb] Logging to file: /home/yizhou/.local/share/ov/pkg/isaac_sim-2022.1.0/kit/logs/Kit/Isaac-Sim/2022.1/kit_20220725_204049.log\n",
      "[0.077s] [ext: omni.stats-0.0.0] startup\n",
      "[0.095s] [ext: omni.gpu_foundation-0.0.0] startup\n",
      "2022-07-26 03:40:49 [96ms] [Warning] [carb] FrameworkImpl::setDefaultPlugin(client: omni.gpu_foundation_factory.plugin, desc : [carb::graphics::Graphics v2.5], plugin : carb.graphics-vulkan.plugin) failed. Plugin selection is locked, because the interface was previously acquired by: \n",
      "[0.109s] [ext: carb.windowing.plugins-1.0.0] startup\n",
      "[0.120s] [ext: omni.assets.plugins-0.0.0] startup\n",
      "[0.121s] [ext: omni.kit.renderer.init-0.0.0] startup\n",
      "\n",
      "|---------------------------------------------------------------------------------------------|\n",
      "| Driver Version: 510.73.5      | Graphics API: Vulkan\n",
      "|=============================================================================================|\n",
      "| GPU | Name                             | Active | LDA | GPU Memory | Vendor-ID | LUID       |\n",
      "|     |                                  |        |     |            | Device-ID | UUID       |\n",
      "|---------------------------------------------------------------------------------------------|\n",
      "| 0   | NVIDIA GeForce RTX 3090          | Yes: 0 |     | 24822   MB | 10de      | 0          |\n",
      "|     |                                  |        |     |            | 2204      | 3f50dd6e.. |\n",
      "|=============================================================================================|\n",
      "| OS: Linux yizhou-Z370-AORUS-Gaming-5, Version: 5.15.0-41-generic\n",
      "| Processor: Intel(R) Core(TM) i7-8700K CPU @ 3.70GHz | Cores: Unknown | Logical: 12\n",
      "|---------------------------------------------------------------------------------------------|\n",
      "| Total Memory (MB): 32046 | Free Memory: 11256\n",
      "| Total Page/Swap (MB): 2047 | Free Page/Swap: 2047\n",
      "|---------------------------------------------------------------------------------------------|\n",
      "2022-07-26 03:40:50 [814ms] [Warning] [carb.cudainterop.plugin] On Linux only, CUDA and the display driver does not support IOMMU-enabled bare-metal PCIe peer to peer memory copy.\n",
      "However, CUDA and the display driver does support IOMMU via VM pass through. As a consequence, users on Linux,\n",
      "when running on a native bare metal system, should disable the IOMMU. The IOMMU should be enabled and the VFIO driver\n",
      "be used as a PCIe pass through for virtual machines.\n",
      "[0.838s] [ext: omni.kit.pipapi-0.0.0] startup\n",
      "[0.848s] [ext: omni.kit.pip_archive-0.0.0] startup\n",
      "[0.853s] [ext: omni.isaac.core_archive-0.3.0] startup\n",
      "[0.875s] [ext: omni.usd.config-1.0.0] startup\n",
      "[0.877s] [ext: omni.usd.libs-1.0.0] startup\n",
      "[1.028s] [ext: omni.isaac.ml_archive-0.1.0] startup\n",
      "[1.094s] [ext: omni.kit.loop-isaac-0.1.0] startup\n",
      "[1.096s] [ext: omni.kit.async_engine-0.0.0] startup\n",
      "[1.099s] [ext: omni.appwindow-1.0.0] startup\n",
      "[1.104s] [ext: omni.client-0.1.0] startup\n",
      "[1.118s] [ext: omni.kit.test-0.0.0] startup\n",
      "[1.149s] [ext: omni.kit.renderer.core-0.0.0] startup\n",
      "[1.225s] [ext: omni.ui-2.10.3] startup\n",
      "[1.248s] [ext: carb.audio-0.1.0] startup\n",
      "[1.269s] [ext: omni.kit.mainwindow-0.0.0] startup\n",
      "[1.272s] [ext: omni.uiaudio-1.0.0] startup\n",
      "[1.274s] [ext: omni.kit.uiapp-0.0.0] startup\n",
      "[1.274s] [ext: omni.usd.schema.physics-1.0.0] startup\n",
      "[1.321s] [ext: omni.usd.schema.audio-0.0.0] startup\n",
      "[1.329s] [ext: omni.usd.schema.semantics-0.0.0] startup\n",
      "[1.348s] [ext: omni.usd.schema.omnigraph-1.0.0] startup\n",
      "[1.364s] [ext: omni.usd.schema.anim-0.0.0] startup\n",
      "[1.410s] [ext: omni.kit.commands-1.2.2] startup\n",
      "[1.416s] [ext: omni.timeline-1.0.2] startup\n",
      "[1.419s] [ext: omni.hydra.scene_delegate-0.2.0] startup\n",
      "[1.427s] [ext: omni.kit.audiodeviceenum-1.0.0] startup\n",
      "[1.429s] [ext: omni.usd-1.5.3] startup\n",
      "[1.525s] [ext: omni.kit.asset_converter-1.2.30] startup\n",
      "[1.544s] [ext: omni.usd.schema.isaac-0.2.0] startup\n",
      "[1.593s] [ext: omni.usd.schema.physx-0.0.0] startup\n",
      "[1.623s] [ext: omni.kit.search_core-1.0.2] startup\n",
      "[1.626s] [ext: omni.renderer-rtx-0.0.0] startup\n",
      "[1.628s] [ext: omni.kit.widget.graph-1.4.2] startup\n",
      "[1.639s] [ext: omni.kit.widget.filebrowser-2.2.26] startup\n",
      "[1.648s] [ext: omni.kit.window.popup_dialog-2.0.7] startup\n",
      "[1.656s] [ext: omni.mdl.neuraylib-0.1.0] startup\n",
      "[1.660s] [ext: omni.kit.widget.path_field-2.0.3] startup\n",
      "[1.662s] [ext: omni.kit.widget.versioning-1.3.8] startup\n",
      "[1.665s] [ext: omni.kit.notification_manager-1.0.5] startup\n",
      "[1.669s] [ext: omni.kit.widget.browser_bar-2.0.3] startup\n",
      "[1.671s] [ext: omni.kit.menu.utils-1.2.11] startup\n",
      "[1.683s] [ext: omni.kit.window.filepicker-2.4.29] startup\n"
     ]
    },
    {
     "name": "stderr",
     "output_type": "stream",
     "text": [
      "OmniAssetFileFormat\n"
     ]
    },
    {
     "name": "stdout",
     "output_type": "stream",
     "text": [
      "[1.748s] [ext: omni.mdl-0.1.0] startup\n",
      "[1.772s] [ext: omni.kit.menu.create-1.0.2] startup\n",
      "[1.774s] [ext: omni.kit.window.file_exporter-1.0.4] startup\n",
      "[1.775s] [ext: omni.kit.window.drop_support-1.0.0] startup\n",
      "[1.776s] [ext: omni.kit.material.library-1.3.10] startup\n",
      "[1.780s] [ext: omni.kit.window.property-1.6.3] startup\n",
      "[1.782s] [ext: omni.kit.context_menu-1.3.9] startup\n",
      "[1.787s] [ext: omni.kit.window.file_importer-1.0.4] startup\n",
      "[1.788s] [ext: omni.kit.stage_templates-1.1.2] startup\n",
      "[1.790s] [ext: omni.kit.widget.stage-2.6.15] startup\n",
      "[1.796s] [ext: omni.kit.window.file-1.3.16] startup\n",
      "[1.799s] [ext: omni.debugdraw-0.1.0] startup\n",
      "[1.806s] [ext: omni.kit.window.content_browser-2.4.28] startup\n",
      "[1.819s] [ext: omni.kit.widget.prompt-1.0.1] startup\n",
      "[1.820s] [ext: omni.kit.property.usd-3.14.8] startup\n",
      "[1.861s] [ext: omni.hydra.engine.stats-1.0.0] startup\n",
      "[1.868s] [ext: omni.kit.widget.settings-1.0.0] startup\n",
      "[1.870s] [ext: omni.graph.tools-1.3.5] startup\n",
      "[1.904s] [ext: omni.graph.core-2.27.0] startup\n",
      "[1.909s] [ext: omni.hydra.rtx-0.1.0] startup\n",
      "[1.923s] [ext: omni.kit.viewport.legacy_gizmos-1.0.0] startup\n",
      "[1.926s] [ext: omni.ui_query-1.1.1] startup\n",
      "[1.929s] [ext: omni.graph-1.22.1] startup\n",
      "[2.035s] [ext: omni.kit.window.viewport-0.0.0] startup\n"
     ]
    },
    {
     "name": "stderr",
     "output_type": "stream",
     "text": [
      "2022-07-26 03:40:51 [2,124ms] [Error] [rtx.neuraylib.plugin] [DYNLIB:IO]   0.1   DYNLIB io   error: /home/yizhou/.local/share/ov/pkg/isaac_sim-2022.1.0/kit/python/bin/libs/iray/libnvindex.so: cannot open shared object file: No such file or directory\n",
      "2022-07-26 03:40:51 [2,124ms] [Error] [rtx.neuraylib.plugin] [INDEX:MAIN]   0.1   INDEX  main error: Failed to load /home/yizhou/.local/share/ov/pkg/isaac_sim-2022.1.0/kit/python/bin/libs/iray/libnvindex.so\n"
     ]
    },
    {
     "name": "stdout",
     "output_type": "stream",
     "text": [
      "Warp initialized:\n",
      "   Version: 0.2.1\n",
      "   Using CUDA device: NVIDIA GeForce RTX 3090\n",
      "   Using CPU compiler: /usr/bin/g++\n",
      "[2.958s] [ext: omni.kit.window.preferences-1.2.1] startup\n",
      "[2.998s] [ext: omni.kit.ui_test-1.2.0] startup\n",
      "[3.001s] [ext: omni.graph.ui-1.6.1] startup\n",
      "[3.032s] [ext: omni.kvdb-0.0.0] startup\n",
      "[3.036s] [ext: omni.kit.widget.searchfield-1.0.6] startup\n",
      "[3.039s] [ext: omni.convexdecomposition-1.4.12] startup\n",
      "[3.043s] [ext: omni.graph.action-1.17.0] startup\n",
      "[3.059s] [ext: omni.localcache-0.0.0] startup\n",
      "[3.064s] [ext: omni.usdphysics-1.4.12] startup\n",
      "[3.067s] [ext: omni.graph.scriptnode-0.5.0] startup\n",
      "[3.070s] [ext: omni.physx-1.4.12-5.1] startup\n",
      "[3.100s] [ext: omni.kit.usd_undo-0.1.0] startup\n",
      "[3.102s] [ext: omni.graph.nodes-1.25.0] startup\n",
      "[3.127s] [ext: omni.physx.commands-1.4.12-5.1] startup\n",
      "[3.134s] [ext: omni.syntheticdata-0.2.1] startup\n",
      "[3.188s] [ext: omni.physx.ui-1.4.12-5.1] startup\n",
      "[3.287s] [ext: omni.warp-0.2.1] startup\n",
      "[5.526s] [ext: omni.kit.renderer.capture-0.0.0] startup\n",
      "[5.531s] [ext: omni.kit.property.material-1.8.5] startup\n",
      "[5.534s] [ext: omni.physx.demos-1.4.12-5.1] startup\n",
      "[5.538s] [ext: omni.physics.tensors-0.1.0] startup\n",
      "[5.547s] [ext: omni.kit.property.physx-0.1.0] startup\n",
      "2022-07-26 03:40:55 [5,605ms] [Warning] [omni.physx.plugin] Deprecated: getSimulationEventStream is deprecated, please use getSimulationEventStreamV2\n",
      "[5.618s] [ext: omni.kit.window.toolbar-1.2.4] startup\n",
      "[5.629s] [ext: omni.physx.tensors-0.1.0] startup\n",
      "[5.635s] [ext: omni.physx.vehicle-1.4.12-5.1] startup\n",
      "[5.649s] [ext: omni.physx.tests-1.4.12-5.1] startup\n",
      "[5.711s] [ext: omni.kit.numpy.common-0.1.0] startup\n",
      "[5.716s] [ext: omni.physx.camera-1.4.12-5.1] startup\n",
      "[5.729s] [ext: omni.physx.cct-1.4.12-5.1] startup\n",
      "[5.845s] [ext: omni.isaac.version-1.0.0] startup\n",
      "[5.846s] [ext: omni.isaac.dynamic_control-1.0.0] startup\n",
      "[5.859s] [ext: omni.physx.bundle-1.4.12-5.1] startup\n",
      "[5.859s] [ext: omni.kit.primitive.mesh-1.0.0] startup\n",
      "[5.867s] [ext: omni.command.usd-1.0.1] startup\n",
      "[5.875s] [ext: omni.isaac.core-1.15.1] startup\n",
      "[6.155s] [ext: omni.replicator.core-1.2.0] startup\n",
      "[6.274s] [ext: omni.kit.window.extensions-1.1.0] startup\n",
      "[6.281s] [ext: omni.isaac.core_nodes-0.9.0] startup\n",
      "[6.294s] [ext: omni.isaac.ui-0.2.1] startup\n",
      "[6.297s] [ext: omni.kit.window.script_editor-1.6.2] startup\n",
      "[6.306s] [ext: omni.isaac.wheeled_robots-0.5.4] startup\n",
      "[6.321s] [ext: omni.kit.menu.common-1.0.0] startup\n",
      "[6.324s] [ext: omni.kit.graph.delegate.default-1.0.15] startup\n",
      "[6.327s] [ext: omni.kit.graph.delegate.modern-1.6.0] startup\n",
      "[6.329s] [ext: omni.kit.widget.zoombar-1.0.3] startup\n",
      "[6.331s] [ext: omni.kit.graph.editor.core-1.3.3] startup\n",
      "[6.334s] [ext: omni.kit.widget.stage_icons-1.0.2] startup\n",
      "[6.336s] [ext: omni.kit.browser.core-2.0.12] startup\n",
      "[6.342s] [ext: omni.kit.graph.widget.variables-2.0.2] startup\n",
      "[6.345s] [ext: omni.kit.window.stage-2.3.7] startup\n",
      "[6.349s] [ext: omni.kit.browser.folder.core-1.1.13] startup\n",
      "[6.353s] [ext: omni.graph.window.core-1.22.1] startup\n",
      "[6.361s] [ext: omni.isaac.lula-1.1.0] startup\n",
      "[6.374s] [ext: omni.graph.instancing-1.1.4] startup\n",
      "[6.382s] [ext: omni.graph.window.action-1.3.8] startup\n",
      "[6.384s] [ext: omni.graph.tutorials-1.1.2] startup\n",
      "[6.406s] [ext: omni.rtx.window.settings-0.6.1] startup\n",
      "[6.414s] [ext: omni.isaac.motion_planning-0.2.0] startup\n",
      "[6.424s] [ext: omni.graph.bundle.action-1.0.0] startup\n",
      "[6.425s] [ext: omni.rtx.settings.core-0.5.5] startup\n",
      "[6.430s] [ext: omni.isaac.motion_generation-3.1.2] startup\n",
      "[6.438s] [ext: omni.isaac.kit-0.1.9] startup\n",
      "[6.438s] [ext: omni.isaac.debug_draw-0.1.2] startup\n",
      "[6.446s] [ext: omni.kit.selection-0.1.0] startup\n",
      "[6.447s] [ext: omni.isaac.franka-0.0.0] startup\n",
      "[6.448s] [ext: omni.kit.widget.layers-1.5.17] startup\n",
      "[6.469s] [ext: omni.kit.menu.edit-1.0.6] startup\n",
      "[6.471s] [ext: omni.isaac.isaac_sensor-0.3.4] startup\n",
      "2022-07-26 03:40:56 [6,467ms] [Warning] [omni.physx.plugin] Deprecated: getSimulationEventStream is deprecated, please use getSimulationEventStreamV2\n",
      "[6.481s] [ext: omni.kit.widget.live-0.1.0] startup\n",
      "[6.486s] [ext: omni.isaac.surface_gripper-0.1.2] startup\n",
      "[6.493s] [ext: omni.kit.property.layer-1.1.2] startup\n",
      "[6.496s] [ext: omni.isaac.range_sensor-0.4.2] startup\n",
      "[6.527s] [ext: omni.graph.wiOpening usd file at  omniverse://localhost/Users/yizhou/test_hand.usd  ...Done.\n",
      "Saving a temp livesync stage at  omniverse://localhost/Users/yizhou/test_hand.usd  ...Done.\n"
     ]
    }
   ],
   "source": [
    "from omni.isaac.kit import SimulationApp\n",
    "\n",
    "usd_path = f\"omniverse://localhost/Users/{user}/test_hand.usd\"\n",
    "\n",
    "\n",
    "simulation_app = SimulationApp({\"headless\": True, \"open_usd\": usd_path, \"livesync_usd\": usd_path})\n"
   ]
  },
  {
   "cell_type": "code",
   "execution_count": 6,
   "id": "850a07fe",
   "metadata": {},
   "outputs": [],
   "source": [
    "from omni.isaac.core import World\n",
    "world = World()"
   ]
  },
  {
   "cell_type": "code",
   "execution_count": 7,
   "id": "7ead1115",
   "metadata": {},
   "outputs": [],
   "source": [
    "from hand_env import HandEnv\n",
    "\n",
    "# env = HandEnv(\"/World/Hand/Bones/l_carpal_mid\", \"/World/Hand*/Bones/l_thumbSkeleton_grp/l_distalThumb_mid\")\n",
    "env = HandEnv(\"/World/Hand*\", \"/World/Hand*/Bones/l_thumbSkeleton_grp/l_distalThumb_mid\")"
   ]
  },
  {
   "cell_type": "code",
   "execution_count": 8,
   "id": "b9d7f8ac",
   "metadata": {},
   "outputs": [
    {
     "name": "stdout",
     "output_type": "stream",
     "text": [
      "ndow.generic-1.3.8] startup\n",
      "[6.530s] [ext: omni.isaac.utils-0.1.11] startup\n",
      "[6.534s] [ext: omni.isaac.universal_robots-0.2.1] startup\n",
      "[6.536s] [ext: omni.kit.property.audio-1.0.5] startup\n",
      "[6.538s] [ext: omni.kit.property.skel-1.0.1] startup\n",
      "[6.540s] [ext: omni.kit.property.render-1.1.0] startup\n",
      "[6.541s] [ext: omni.kit.property.camera-1.0.3] startup\n",
      "[6.543s] [ext: omni.kit.property.geometry-1.2.0] startup\n",
      "[6.545s] [ext: omni.kit.property.light-1.0.5] startup\n",
      "[6.548s] [ext: omni.kit.property.transform-1.0.2] startup\n",
      "[6.552s] [ext: omni.isaac.occupancy_map-0.2.4] startup\n",
      "[6.568s] [ext: omni.ui.scene-1.4.6] startup\n",
      "[6.576s] [ext: omni.kit.window.console-0.2.0] startup\n",
      "[6.584s] [ext: omni.kit.window.status_bar-0.1.1] startup\n",
      "[6.589s] [ext: omni.kit.property.bundle-1.2.4] startup\n",
      "[6.591s] [ext: omni.kit.menu.file-1.0.8] startup\n",
      "[6.593s] [ext: omni.kit.manipulator.viewport-1.0.6] startup\n",
      "[6.596s] [ext: omni.isaac.urdf-0.2.2] startup\n",
      "[6.628s] [ext: omni.isaac.dofbot-0.2.0] startup\n",
      "[6.630s] [ext: omni.kit.window.title-1.1.1] startup\n",
      "[6.631s] [ext: omni.kit.profiler.window-1.4.4] startup\n",
      "[6.635s] [ext: omni.graph.visualization.nodes-1.1.1] startup\n",
      "[6.640s] [ext: omni.isaac.synthetic_utils-0.2.1] startup\n",
      "[6.650s] [ext: semantics.schema.editor-0.2.2] startup\n",
      "[6.655s] [ext: omni.isaac.sim.python-2022.1.0] startup\n",
      "[6.656s] Simulation App Starting\n",
      "2022-07-26 03:40:56 [7,245ms] [Warning] [omni.usd] Default value for render setting \"/rtx/shaderDb/cachePermutationIndex\" not found\n",
      "2022-07-26 03:40:56 [7,246ms] [Warning] [omni.usd] Default value for render setting \"/rtx/resourcemanager/uploadPooledBuffers/framesToEvict\" not found\n",
      "2022-07-26 03:40:56 [7,246ms] [Warning] [omni.usd] Default value for render setting \"/rtx/resourcemanager/uploadPooledBuffers/uploadSize\" not found\n",
      "2022-07-26 03:40:56 [7,246ms] [Warning] [omni.usd] Default value for render setting \"/rtx/pathtracing/nrc/canRun\" not found\n",
      "[13.830s] app ready\n",
      "[13.932s] Simulation App Startup Complete\n",
      "2022-07-26 03:41:05 [16,067ms] [Warning] [carb.flatcache.plugin] Type tag does not have a corresponding USD type\n"
     ]
    }
   ],
   "source": [
    "world.reset()"
   ]
  },
  {
   "cell_type": "code",
   "execution_count": 9,
   "id": "27ec20c3",
   "metadata": {},
   "outputs": [
    {
     "name": "stdout",
     "output_type": "stream",
     "text": [
      "simlation context numpy None\n",
      "num_envs 2\n",
      "2022-07-26 03:41:06 [16,674ms] [Warning] [omni.physx.tensors.plugin] Duplicate joint name 'baseFixedJoint' in articulation metatype\n",
      "2022-07-26 03:41:06 [16,674ms] [Warning] [omni.physx.tensors.plugin] Duplicate joint name 'baseFixedJoint' in articulation metatype\n",
      "2022-07-26 03:41:06 [16,674ms] [Warning] [omni.physx.tensors.plugin] Duplicate joint name 'baseFixedJoint' in articulation metatype\n",
      "2022-07-26 03:41:06 [16,674ms] [Warning] [omni.physx.tensors.plugin] Duplicate joint name 'SphericalJoint' in articulation metatype\n",
      "2022-07-26 03:41:06 [16,674ms] [Warning] [omni.physx.tensors.plugin] Duplicate DOF name 'SphericalJoint:0' in articulation metatype\n",
      "2022-07-26 03:41:06 [16,674ms] [Warning] [omni.physx.tensors.plugin] Duplicate DOF name 'SphericalJoint:1' in articulation metatype\n",
      "2022-07-26 03:41:06 [16,674ms] [Warning] [omni.physx.tensors.plugin] Duplicate DOF name 'SphericalJoint:2' in articulation metatype\n",
      "2022-07-26 03:41:06 [16,674ms] [Warning] [omni.physx.tensors.plugin] Duplicate joint name 'SphericalJoint' in articulation metatype\n",
      "2022-07-26 03:41:06 [16,674ms] [Warning] [omni.physx.tensors.plugin] Duplicate DOF name 'SphericalJoint:0' in articulation metatype\n",
      "2022-07-26 03:41:06 [16,674ms] [Warning] [omni.physx.tensors.plugin] Duplicate DOF name 'SphericalJoint:1' in articulation metatype\n",
      "2022-07-26 03:41:06 [16,674ms] [Warning] [omni.physx.tensors.plugin] Duplicate DOF name 'SphericalJoint:2' in articulation metatype\n",
      "2022-07-26 03:41:06 [16,675ms] [Warning] [omni.physx.tensors.plugin] Duplicate joint name 'SphericalJoint' in articulation metatype\n",
      "2022-07-26 03:41:06 [16,675ms] [Warning] [omni.physx.tensors.plugin] Duplicate DOF name 'SphericalJoint:0' in articulation metatype\n",
      "2022-07-26 03:41:06 [16,675ms] [Warning] [omni.physx.tensors.plugin] Duplicate DOF name 'SphericalJoint:1' in articulation metatype\n",
      "2022-07-26 03:41:06 [16,675ms] [Warning] [omni.physx.tensors.plugin] Duplicate DOF name 'SphericalJoint:2' in articulation metatype\n",
      "2022-07-26 03:41:06 [16,675ms] [Warning] [omni.physx.tensors.plugin] Duplicate joint name 'SphericalJoint' in articulation metatype\n",
      "2022-07-26 03:41:06 [16,675ms] [Warning] [omni.physx.tensors.plugin] Duplicate DOF name 'SphericalJoint:0' in articulation metatype\n",
      "2022-07-26 03:41:06 [16,675ms] [Warning] [omni.physx.tensors.plugin] Duplicate DOF name 'SphericalJoint:1' in articulation metatype\n",
      "2022-07-26 03:41:06 [16,675ms] [Warning] [omni.physx.tensors.plugin] Duplicate DOF name 'SphericalJoint:2' in articulation metatype\n",
      "2022-07-26 03:41:06 [16,675ms] [Warning] [omni.physx.tensors.plugin] Duplicate joint name 'RevoluteJoint' in articulation metatype\n",
      "2022-07-26 03:41:06 [16,675ms] [Warning] [omni.physx.tensors.plugin] Duplicate DOF name 'RevoluteJoint' in articulation metatype\n",
      "2022-07-26 03:41:06 [16,675ms] [Warning] [omni.physx.tensors.plugin] Duplicate joint name 'RevoluteJoint' in articulation metatype\n",
      "2022-07-26 03:41:06 [16,675ms] [Warning] [omni.physx.tensors.plugin] Duplicate DOF name 'RevoluteJoint' in articulation metatype\n",
      "2022-07-26 03:41:06 [16,675ms] [Warning] [omni.physx.tensors.plugin] Duplicate joint name 'RevoluteJoint' in articulation metatype\n",
      "2022-07-26 03:41:06 [16,675ms] [Warning] [omni.physx.tensors.plugin] Duplicate DOF name 'RevoluteJoint' in articulation metatype\n",
      "2022-07-26 03:41:06 [16,675ms] [Warning] [omni.physx.tensors.plugin] Duplicate joint name 'RevoluteJoint' in articulation metatype\n",
      "2022-07-26 03:41:06 [16,675ms] [Warning] [omni.physx.tensors.plugin] Duplicate DOF name 'RevoluteJoint' in articulation metatype\n",
      "2022-07-26 03:41:06 [16,675ms] [Warning] [omni.physx.tensors.plugin] Duplicate joint name 'RevoluteJoint' in articulation metatype\n",
      "2022-07-26 03:41:06 [16,675ms] [Warning] [omni.physx.tensors.plugin] Duplicate DOF name 'RevoluteJoint' in articulation metatype\n",
      "2022-07-26 03:41:06 [16,675ms] [Warning] [omni.physx.tensors.plugin] Duplicate joint name 'RevoluteJoint' in articulation metatype\n",
      "2022-07-26 03:41:06 [16,675ms] [Warning] [omni.physx.tensors.plugin] Duplicate DOF name 'RevoluteJoint' in articulation metatype\n",
      "2022-07-26 03:41:06 [16,675ms] [Warning] [omni.physx.tensors.plugin] Duplicate joint name 'RevoluteJoint' in articulation metatype\n",
      "2022-07-26 03:41:06 [16,675ms] [Warning] [omni.physx.tensors.plugin] Duplicate DOF name 'RevoluteJoint' in articulation metatype\n",
      "2022-07-26 03:41:06 [16,675ms] [Warning] [omni.physx.tensors.plugin] Duplicate joint name 'RevoluteJoint' in articulation metatype\n",
      "2022-07-26 03:41:06 [16,675ms] [Warning] [omni.physx.tensors.plugin] Duplicate DOF name 'RevoluteJoint' in articulation metatype\n",
      "2022-07-26 03:41:06 [16,675ms] [Warning] [omni.physx.tensors.plugin] Duplicate joint name 'RevoluteJoint' in articulation metatype\n",
      "2022-07-26 03:41:06 [16,675ms] [Warning] [omni.physx.tensors.plugin] Duplicate DOF name 'RevoluteJoint' in articulation metatype\n",
      "2022-07-26 03:41:06 [16,675ms] [Warning] [omni.physx.tensors.plugin] Duplicate joint name 'baseFixedJoint' in articulation metatype\n",
      "2022-07-26 03:41:06 [16,676ms] [Warning] [omni.physx.tensors.plugin] Duplicate joint name 'baseFixedJoint' in articulation metatype\n",
      "2022-07-26 03:41:06 [16,676ms] [Warning] [omni.physx.tensors.plugin] Duplicate joint name 'baseFixedJoint' in articulation metatype\n",
      "2022-07-26 03:41:06 [16,676ms] [Warning] [omni.physx.tensors.plugin] Duplicate joint name 'SphericalJoint' in articulation metatype\n",
      "2022-07-26 03:41:06 [16,676ms] [Warning] [omni.physx.tensors.plugin] Duplicate DOF name 'SphericalJoint:0' in articulation metatype\n",
      "2022-07-26 03:41:06 [16,676ms] [Warning] [omni.physx.tensors.plugin] Duplicate DOF name 'SphericalJoint:1' in articulation metatype\n",
      "2022-07-26 03:41:06 [16,676ms] [Warning] [omni.physx.tensors.plugin] Duplicate DOF name 'SphericalJoint:2' in articulation metatype\n",
      "2022-07-26 03:41:06 [16,676ms] [Warning] [omni.physx.tensors.plugin] Duplicate joint name 'SphericalJoint' in articulation metatype\n",
      "2022-07-26 03:41:06 [16,676ms] [Warning] [omni.physx.tensors.plugin] Duplicate DOF name 'SphericalJoint:0' in articulation metatype\n",
      "2022-07-26 03:41:06 [16,676ms] [Warning] [omni.physx.tensors.plugin] Duplicate DOF name 'SphericalJoint:1' in articulation metatype\n",
      "2022-07-26 03:41:06 [16,676ms] [Warning] [omni.physx.tensors.plugin] Duplicate DOF name 'SphericalJoint:2' in articulation metatype\n",
      "2022-07-26 03:41:06 [16,676ms] [Warning] [omni.physx.tensors.plugin] Duplicate joint name 'SphericalJoint' in articulation metatype\n",
      "2022-07-26 03:41:06 [16,676ms] [Warning] [omni.physx.tensors.plugin] Duplicate DOF name 'SphericalJoint:0' in articulation metatype\n",
      "2022-07-26 03:41:06 [16,676ms] [Warning] [omni.physx.tensors.plugin] Duplicate DOF name 'SphericalJoint:1' in articulation metatype\n",
      "2022-07-26 03:41:06 [16,676ms] [Warning] [omni.physx.tensors.plugin] Duplicate DOF name 'SphericalJoint:2' in articulation metatype\n",
      "2022-07-26 03:41:06 [16,676ms] [Warning] [omni.physx.tensors.plugin] Duplicate joint name 'SphericalJoint' in articulation metatype\n",
      "2022-07-26 03:41:06 [16,676ms] [Warning] [omni.physx.tensors.plugin] Duplicate DOF name 'SphericalJoint:0' in articulation metatype\n",
      "2022-07-26 03:41:06 [16,676ms] [Warning] [omni.physx.tensors.plugin] Duplicate DOF name 'SphericalJoint:1' in articulation metatype\n",
      "2022-07-26 03:41:06 [16,676ms] [Warning] [omni.physx.tensors.plugin] Duplicate DOF name 'SphericalJoint:2' in articulation metatype\n",
      "2022-07-26 03:41:06 [16,676ms] [Warning] [omni.physx.tensors.plugin] Duplicate joint name 'RevoluteJoint' in articulation metatype\n",
      "2022-07-26 03:41:06 [16,676ms] [Warning] [omni.physx.tensors.plugin] Duplicate DOF name 'RevoluteJoint' in articulation metatype\n",
      "2022-07-26 03:41:06 [16,676ms] [Warning] [omni.physx.tensors.plugin] Duplicate joint name 'RevoluteJoint' in articulation metatype\n",
      "2022-07-26 03:41:06 [16,676ms] [Warning] [omni.physx.tensors.plugin] Duplicate DOF name 'RevoluteJoint' in articulation metatype\n",
      "2022-07-26 03:41:06 [16,676ms] [Warning] [omni.physx.tensors.plugin] Duplicate joint name 'RevoluteJoint' in articulation metatype\n",
      "2022-07-26 03:41:06 [16,676ms] [Warning] [omni.physx.tensors.plugin] Duplicate DOF name 'RevoluteJoint' in articulation metatype\n",
      "2022-07-26 03:41:06 [16,676ms] [Warning] [omni.physx.ten"
     ]
    },
    {
     "data": {
      "text/plain": [
       "<omni.isaac.core.robots.robot_view.RobotView at 0x7fd33d692350>"
      ]
     },
     "execution_count": 9,
     "metadata": {},
     "output_type": "execute_result"
    },
    {
     "name": "stdout",
     "output_type": "stream",
     "text": [
      "sors.plugin] Duplicate joint name 'RevoluteJoint' in articulation metatype\n",
      "2022-07-26 03:41:06 [16,676ms] [Warning] [omni.physx.tensors.plugin] Duplicate DOF name 'RevoluteJoint' in articulation metatype\n",
      "2022-07-26 03:41:06 [16,676ms] [Warning] [omni.physx.tensors.plugin] Duplicate joint name 'RevoluteJoint' in articulation metatype\n",
      "2022-07-26 03:41:06 [16,677ms] [Warning] [omni.physx.tensors.plugin] Duplicate DOF name 'RevoluteJoint' in articulation metatype\n",
      "2022-07-26 03:41:06 [16,677ms] [Warning] [omni.physx.tensors.plugin] Duplicate joint name 'RevoluteJoint' in articulation metatype\n",
      "2022-07-26 03:41:06 [16,677ms] [Warning] [omni.physx.tensors.plugin] Duplicate DOF name 'RevoluteJoint' in articulation metatype\n",
      "2022-07-26 03:41:06 [16,677ms] [Warning] [omni.physx.tensors.plugin] Duplicate joint name 'RevoluteJoint' in articulation metatype\n",
      "2022-07-26 03:41:06 [16,677ms] [Warning] [omni.physx.tensors.plugin] Duplicate DOF name 'RevoluteJoint' in articulation metatype\n",
      "2022-07-26 03:41:06 [16,677ms] [Warning] [omni.physx.tensors.plugin] Duplicate joint name 'RevoluteJoint' in articulation metatype\n",
      "2022-07-26 03:41:06 [16,677ms] [Warning] [omni.physx.tensors.plugin] Duplicate DOF name 'RevoluteJoint' in articulation metatype\n",
      "2022-07-26 03:41:06 [16,677ms] [Warning] [omni.physx.tensors.plugin] Duplicate joint name 'RevoluteJoint' in articulation metatype\n",
      "2022-07-26 03:41:06 [16,677ms] [Warning] [omni.physx.tensors.plugin] Duplicate DOF name 'RevoluteJoint' in articulation metatype\n"
     ]
    }
   ],
   "source": [
    "env.start()\n",
    "world.scene.add(env.robots)"
   ]
  },
  {
   "cell_type": "code",
   "execution_count": 10,
   "id": "1361c5b4",
   "metadata": {},
   "outputs": [
    {
     "data": {
      "text/plain": [
       "(array([[ 1.1175871e-08, -3.7252903e-09,  5.0000000e-01],\n",
       "        [ 1.0000000e+00, -3.7252903e-09,  5.0000000e-01]], dtype=float32),\n",
       " array([[1.0000001e+00, 1.1175871e-08, 5.5879354e-09, 3.0733645e-08],\n",
       "        [1.0000001e+00, 1.1175871e-08, 5.5879354e-09, 3.0733645e-08]],\n",
       "       dtype=float32))"
      ]
     },
     "execution_count": 10,
     "metadata": {},
     "output_type": "execute_result"
    }
   ],
   "source": [
    "env.robots.get_world_poses()"
   ]
  },
  {
   "cell_type": "code",
   "execution_count": 11,
   "id": "9b8fb4e6",
   "metadata": {},
   "outputs": [],
   "source": [
    "# pos = np.array([[ 0.5, -0., 0.5]], dtype=np.float32)\n",
    "# env.robots.set_world_poses(positions=pos)"
   ]
  },
  {
   "cell_type": "code",
   "execution_count": 12,
   "id": "abf20ea1",
   "metadata": {},
   "outputs": [],
   "source": [
    "world.step(render=True)\n",
    "# world.render()"
   ]
  },
  {
   "cell_type": "code",
   "execution_count": 13,
   "id": "7f309cc6",
   "metadata": {},
   "outputs": [
    {
     "name": "stdout",
     "output_type": "stream",
     "text": [
      "2022-07-26 03:41:08 [19,174ms] [Warning] [omni.physx.tensors.plugin] Duplicate joint name 'baseFixedJoint' in articulation metatype\n",
      "2022-07-26 03:41:08 [19,174ms] [Warning] [omni.physx.tensors.plugin] Duplicate joint name 'baseFixedJoint' in articulation metatype\n",
      "2022-07-26 03:41:08 [19,174ms] [Warning] [omni.physx.tensors.plugin] Duplicate joint name 'baseFixedJoint' in articulation metatype\n",
      "2022-07-26 03:41:08 [19,174ms] [Warning] [omni.physx.tensors.plugin] Duplicate joint name 'SphericalJoint' in articulation metatype\n",
      "2022-07-26 03:41:08 [19,174ms] [Warning] [omni.physx.tensors.plugin] Duplicate DOF name 'SphericalJoint:0' in articulation metatype\n",
      "2022-07-26 03:41:08 [19,174ms] [Warning] [omni.physx.tensors.plugin] Duplicate DOF name 'SphericalJoint:1' in articulation metatype\n",
      "2022-07-26 03:41:08 [19,174ms] [Warning] [omni.physx.tensors.plugin] Duplicate DOF name 'SphericalJoint:2' in articulation metatype\n",
      "2022-07-26 03:41:08 [19,174ms] [Warning] [omni.physx.tensors.plugin] Duplicate joint name 'SphericalJoint' in articulation metatype\n",
      "2022-07-26 03:41:08 [19,174ms] [Warning] [omni.physx.tensors.plugin] Duplicate DOF name 'SphericalJoint:0' in articulation metatype\n",
      "2022-07-26 03:41:08 [19,174ms] [Warning] [omni.physx.tensors.plugin] Duplicate DOF name 'SphericalJoint:1' in articulation metatype\n",
      "2022-07-26 03:41:08 [19,174ms] [Warning] [omni.physx.tensors.plugin] Duplicate DOF name 'SphericalJoint:2' in articulation metatype\n",
      "2022-07-26 03:41:08 [19,174ms] [Warning] [omni.physx.tensors.plugin] Duplicate joint name 'SphericalJoint' in articulation metatype\n",
      "2022-07-26 03:41:08 [19,174ms] [Warning] [omni.physx.tensors.plugin] Duplicate DOF name 'SphericalJoint:0' in articulation metatype\n",
      "2022-07-26 03:41:08 [19,174ms] [Warning] [omni.physx.tensors.plugin] Duplicate DOF name 'SphericalJoint:1' in articulation metatype\n",
      "2022-07-26 03:41:08 [19,174ms] [Warning] [omni.physx.tensors.plugin] Duplicate DOF name 'SphericalJoint:2' in articulation metatype\n",
      "2022-07-26 03:41:08 [19,174ms] [Warning] [omni.physx.tensors.plugin] Duplicate joint name 'SphericalJoint' in articulation metatype\n",
      "2022-07-26 03:41:08 [19,174ms] [Warning] [omni.physx.tensors.plugin] Duplicate DOF name 'SphericalJoint:0' in articulation metatype\n",
      "2022-07-26 03:41:08 [19,174ms] [Warning] [omni.physx.tensors.plugin] Duplicate DOF name 'SphericalJoint:1' in articulation metatype\n",
      "2022-07-26 03:41:08 [19,174ms] [Warning] [omni.physx.tensors.plugin] Duplicate DOF name 'SphericalJoint:2' in articulation metatype\n",
      "2022-07-26 03:41:08 [19,174ms] [Warning] [omni.physx.tensors.plugin] Duplicate joint name 'RevoluteJoint' in articulation metatype\n",
      "2022-07-26 03:41:08 [19,174ms] [Warning] [omni.physx.tensors.plugin] Duplicate DOF name 'RevoluteJoint' in articulation metatype\n",
      "2022-07-26 03:41:08 [19,174ms] [Warning] [omni.physx.tensors.plugin] Duplicate joint name 'RevoluteJoint' in articulation metatype\n",
      "2022-07-26 03:41:08 [19,174ms] [Warning] [omni.physx.tensors.plugin] Duplicate DOF name 'RevoluteJoint' in articulation metatype\n",
      "2022-07-26 03:41:08 [19,174ms] [Warning] [omni.physx.tensors.plugin] Duplicate joint name 'RevoluteJoint' in articulation metatype\n",
      "2022-07-26 03:41:08 [19,174ms] [Warning] [omni.physx.tensors.plugin] Duplicate DOF name 'RevoluteJoint' in articulation metatype\n",
      "2022-07-26 03:41:08 [19,174ms] [Warning] [omni.physx.tensors.plugin] Duplicate joint name 'RevoluteJoint' in articulation metatype\n",
      "2022-07-26 03:41:08 [19,174ms] [Warning] [omni.physx.tensors.plugin] Duplicate DOF name 'RevoluteJoint' in articulation metatype\n",
      "2022-07-26 03:41:08 [19,174ms] [Warning] [omni.physx.tensors.plugin] Duplicate joint name 'RevoluteJoint' in articulation metatype\n",
      "2022-07-26 03:41:08 [19,174ms] [Warning] [omni.physx.tensors.plugin] Duplicate DOF name 'RevoluteJoint' in articulation metatype\n",
      "2022-07-26 03:41:08 [19,174ms] [Warning] [omni.physx.tensors.plugin] Duplicate joint name 'RevoluteJoint' in articulation metatype\n",
      "2022-07-26 03:41:08 [19,174ms] [Warning] [omni.physx.tensors.plugin] Duplicate DOF name 'RevoluteJoint' in articulation metatype\n",
      "2022-07-26 03:41:08 [19,174ms] [Warning] [omni.physx.tensors.plugin] Duplicate joint name 'RevoluteJoint' in articulation metatype\n",
      "2022-07-26 03:41:08 [19,174ms] [Warning] [omni.physx.tensors.plugin] Duplicate DOF name 'RevoluteJoint' in articulation metatype\n",
      "2022-07-26 03:41:08 [19,174ms] [Warning] [omni.physx.tensors.plugin] Duplicate joint name 'RevoluteJoint' in articulation metatype\n",
      "2022-07-26 03:41:08 [19,174ms] [Warning] [omni.physx.tensors.plugin] Duplicate DOF name 'RevoluteJoint' in articulation metatype\n",
      "2022-07-26 03:41:08 [19,174ms] [Warning] [omni.physx.tensors.plugin] Duplicate joint name 'RevoluteJoint' in articulation metatype\n",
      "2022-07-26 03:41:08 [19,174ms] [Warning] [omni.physx.tensors.plugin] Duplicate DOF name 'RevoluteJoint' in articulation metatype\n",
      "2022-07-26 03:41:08 [19,174ms] [Warning] [omni.physx.tensors.plugin] Duplicate joint name 'baseFixedJoint' in articulation metatype\n",
      "2022-07-26 03:41:08 [19,174ms] [Warning] [omni.physx.tensors.plugin] Duplicate joint name 'baseFixedJoint' in articulation metatype\n",
      "2022-07-26 03:41:08 [19,174ms] [Warning] [omni.physx.tensors.plugin] Duplicate joint name 'baseFixedJoint' in articulation metatype\n",
      "2022-07-26 03:41:08 [19,174ms] [Warning] [omni.physx.tensors.plugin] Duplicate joint name 'SphericalJoint' in articulation metatype\n",
      "2022-07-26 03:41:08 [19,174ms] [Warning] [omni.physx.tensors.plugin] Duplicate DOF name 'SphericalJoint:0' in articulation metatype\n",
      "2022-07-26 03:41:08 [19,174ms] [Warning] [omni.physx.tensors.plugin] Duplicate DOF name 'SphericalJoint:1' in articulation metatype\n",
      "2022-07-26 03:41:08 [19,174ms] [Warning] [omni.physx.tensors.plugin] Duplicate DOF name 'SphericalJoint:2' in articulation metatype\n",
      "2022-07-26 03:41:08 [19,174ms] [Warning] [omni.physx.tensors.plugin] Duplicate joint name 'SphericalJoint' in articulation metatype\n",
      "2022-07-26 03:41:08 [19,174ms] [Warning] [omni.physx.tensors.plugin] Duplicate DOF name 'SphericalJoint:0' in articulation metatype\n",
      "2022-07-26 03:41:08 [19,174ms] [Warning] [omni.physx.tensors.plugin] Duplicate DOF name 'SphericalJoint:1' in articulation metatype\n",
      "2022-07-26 03:41:08 [19,174ms] [Warning] [omni.physx.tensors.plugin] Duplicate DOF name 'SphericalJoint:2' in articulation metatype\n",
      "2022-07-26 03:41:08 [19,174ms] [Warning] [omni.physx.tensors.plugin] Duplicate joint name 'SphericalJoint' in articulation metatype\n",
      "2022-07-26 03:41:08 [19,174ms] [Warning] [omni.physx.tensors.plugin] Duplicate DOF name 'SphericalJoint:0' in articulation metatype\n",
      "2022-07-26 03:41:08 [19,174ms] [Warning] [omni.physx.tensors.plugin] Duplicate DOF name 'SphericalJoint:1' in articulation metatype\n",
      "2022-07-26 03:41:08 [19,174ms] [Warning] [omni.physx.tensors.plugin] Duplicate DOF name 'SphericalJoint:2' in articulation metatype\n",
      "2022-07-26 03:41:08 [19,174ms] [Warning] [omni.physx.tensors.plugin] Duplicate joint name 'SphericalJoint' in articulation metatype\n",
      "2022-07-26 03:41:08 [19,174ms] [Warning] [omni.physx.tensors.plugin] Duplicate DOF name 'SphericalJoint:0' in articulation metatype\n",
      "2022-07-26 03:41:08 [19,174ms] [Warning] [omni.physx.tensors.plugin] Duplicate DOF name 'SphericalJoint:1' in articulation metatype\n",
      "2022-07-26 03:41:08 [19,174ms] [Warning] [omni.physx.tensors.plugin] Duplicate DOF name 'SphericalJoint:2' in articulation metatype\n",
      "2022-07-26 03:41:08 [19,174ms] [Warning] [omni.physx.tensors.plugin] Duplicate joint name 'RevoluteJoint' in articulation metatype\n",
      "2022-07-26 03:41:08 [19,174ms] [Warning] [omni.physx.tensors.plugin] Duplicate DOF name 'RevoluteJoint' in articulation metatype\n",
      "2022-07-26 03:41:08 [19,174ms] [Warning] [omni.physx.tensors.plugin] Duplicate joint name 'RevoluteJoint' in articulation metatype\n",
      "2022-07-26 03:41:08 [19,174ms] [Warning] [omni.physx.tensors.plugin] Duplicate DOF name 'RevoluteJoint' in articulation metatype\n",
      "2022-07-26 03:41:08 [19,174ms] [Warning] [omni.physx.tensors.plugin] Duplicate joint name 'RevoluteJoint' in articulation metatype\n",
      "2022-07-26 03:41:08 [19,174ms] [Warning] [omni.physx.tensors.plugin] Duplicate DOF name 'RevoluteJoint' in articulation metatype\n",
      "2022-07-26 03:41:08 [19,174ms] [Warning] [omni.physx.tensors.plugin] Duplicate joint name 'RevoluteJoint' in articulation metatype\n",
      "2022-07-26 03:41:08 [19,174ms] [Warning] [omni.physx.tensors.plugin] Duplicate DOF name 'RevoluteJoint' in articulation metatype\n",
      "2022-07-26 03:41:08 [19,174ms] [Warning] [omni.physx.tensors.plugin] Duplicate joint name 'RevoluteJoint' in articulation metatype\n",
      "2022-07-26 03:41:08 [19,174ms] [Warning] [omni.physx.tensors.plugin] Duplicate DOF name 'RevoluteJoint' in articulation metatype\n",
      "2022-07-26 03:41:08 [19,174ms] [Warning] [omni.physx.tensors.plugin] Duplicate joint name 'RevoluteJoint' in articulation metatype\n",
      "2022-07-26 03:41:08 [19,174ms] [Warning] [omni.physx.tensors.plugin] Duplicate DOF name 'RevoluteJoint' in articulation metatype\n",
      "2022-07-26 03:41:08 [19,174ms] [Warning] [omni.physx.tensors.plugin] Duplicate joint name 'RevoluteJoint' in articulation metatype\n",
      "2022-07-26 03:41:08 [19,174ms] [Warning] [omni.physx.tensors.plugin] Duplicate DOF name 'RevoluteJoint' in articulation metatype\n",
      "2022-07-26 03:41:08 [19,174ms] [Warning] [omni.physx.tensors.plugin] Duplicate joint name 'RevoluteJoint' in articulation metatype\n",
      "2022-07-26 03:41:08 [19,174ms] [Warning] [omni.physx.tensors.plugin] Duplicate DOF name 'RevoluteJoint' in articulation metatype\n",
      "2022-07-26 03:41:08 [19,174ms] [Warning] [omni.physx.tensors.plugin] Duplicate joint name 'RevoluteJoint' in articulation metatype\n",
      "2022-07-26 03:41:08 [19,174ms] [Warning] [omni.physx.tensors.plugin] Duplicate DOF name 'RevoluteJoint' in articulation metatype\n"
     ]
    }
   ],
   "source": [
    "world.reset()"
   ]
  },
  {
   "cell_type": "code",
   "execution_count": 14,
   "id": "84e5ef81",
   "metadata": {},
   "outputs": [
    {
     "data": {
      "text/plain": [
       "array([[0., 0., 0., 0., 0., 0., 0., 0., 0., 0., 0., 0., 0., 0., 0., 0.,\n",
       "        0., 0., 0., 0., 0., 0., 0., 0., 0.],\n",
       "       [0., 0., 0., 0., 0., 0., 0., 0., 0., 0., 0., 0., 0., 0., 0., 0.,\n",
       "        0., 0., 0., 0., 0., 0., 0., 0., 0.]], dtype=float32)"
      ]
     },
     "execution_count": 14,
     "metadata": {},
     "output_type": "execute_result"
    }
   ],
   "source": [
    "env.robots.get_joint_positions()"
   ]
  },
  {
   "cell_type": "code",
   "execution_count": null,
   "id": "e9cc0663",
   "metadata": {},
   "outputs": [],
   "source": [
    "import time"
   ]
  },
  {
   "cell_type": "code",
   "execution_count": null,
   "id": "7b53ddf9",
   "metadata": {},
   "outputs": [],
   "source": [
    "for i in range(10):\n",
    "    pos = np.array([\n",
    "        [0,  0.2*i,  0,\n",
    "         0., 0., 0., \n",
    "         0., 0., 0., \n",
    "         0., 0., 0., \n",
    "         0., 0., 0., \n",
    "         0, -1, -1, -1, -1,\n",
    "         0, -1.5, -1.5, -1.5, -1.5, \n",
    "        ],\n",
    "        [0., 0., 0., 0., 0., 0., 0., 0., 0., 0.,\n",
    "         0., 0., 0., 0., 0., 0., 0., 0., 0., 0.,\n",
    "         0, 0, 0, 0, 0,\n",
    "        ],\n",
    "    ])\n",
    "\n",
    "    # pos = np.random.randn(2,25)\n",
    "    time.sleep(0.5)\n",
    "    env.robots.set_joint_positions(pos) # \n",
    "    world.step(render=True)"
   ]
  },
  {
   "cell_type": "code",
   "execution_count": null,
   "id": "fa206d1d",
   "metadata": {},
   "outputs": [],
   "source": []
  },
  {
   "cell_type": "code",
   "execution_count": null,
   "id": "c1e6eaea",
   "metadata": {},
   "outputs": [],
   "source": [
    "pos = np.zeros((1,25)) # np.random.randn(1, 25) # "
   ]
  },
  {
   "cell_type": "code",
   "execution_count": null,
   "id": "3a64e553",
   "metadata": {},
   "outputs": [],
   "source": [
    "env.robots._physics_view.dof_paths[0]"
   ]
  },
  {
   "cell_type": "code",
   "execution_count": null,
   "id": "45884ea1",
   "metadata": {},
   "outputs": [],
   "source": [
    "world.reset()"
   ]
  },
  {
   "cell_type": "code",
   "execution_count": null,
   "id": "c0eda73b",
   "metadata": {},
   "outputs": [],
   "source": [
    "jacobians = env.robots._physics_view.get_jacobians()"
   ]
  },
  {
   "cell_type": "code",
   "execution_count": null,
   "id": "b5c7ca4d",
   "metadata": {},
   "outputs": [],
   "source": [
    "jacobians.shape"
   ]
  },
  {
   "cell_type": "code",
   "execution_count": null,
   "id": "d194ede3",
   "metadata": {},
   "outputs": [],
   "source": [
    "env.robots._physics_view.jacobian_shape"
   ]
  },
  {
   "cell_type": "code",
   "execution_count": null,
   "id": "764da704",
   "metadata": {},
   "outputs": [],
   "source": [
    "jacobians[0].shape"
   ]
  },
  {
   "cell_type": "code",
   "execution_count": null,
   "id": "e4026ae1",
   "metadata": {},
   "outputs": [],
   "source": [
    "joint_v = np.array([[\n",
    "     0,  0,  0,\n",
    "     0., 0., 0., \n",
    "     0., 0., 0., \n",
    "     0., 0., 0., \n",
    "     1., 0., 0., \n",
    "     0, 0, 0, 0, 0,\n",
    "     0, 0, 0, 0, 0\n",
    "]]).transpose()"
   ]
  },
  {
   "cell_type": "code",
   "execution_count": null,
   "id": "27cdfb08",
   "metadata": {},
   "outputs": [],
   "source": [
    "joint_v.shape"
   ]
  },
  {
   "cell_type": "code",
   "execution_count": null,
   "id": "c65e5f27",
   "metadata": {},
   "outputs": [],
   "source": [
    "delta_pos_rot = np.matmul(jacobians[0], joint_v)\n",
    "for i in range(len(delta_pos_rot)):\n",
    "    print(i, delta_pos_rot[i].transpose())"
   ]
  },
  {
   "cell_type": "markdown",
   "id": "6f5d7bed",
   "metadata": {},
   "source": [
    "# Jacobian"
   ]
  },
  {
   "cell_type": "code",
   "execution_count": null,
   "id": "39b08301",
   "metadata": {},
   "outputs": [],
   "source": [
    "world.reset()\n",
    "world.step(render=True)"
   ]
  },
  {
   "cell_type": "code",
   "execution_count": null,
   "id": "ef451def",
   "metadata": {
    "scrolled": true
   },
   "outputs": [],
   "source": [
    "thumb_pos, thumb_rot = env.xforms.get_world_poses()"
   ]
  },
  {
   "cell_type": "code",
   "execution_count": null,
   "id": "1abbca35",
   "metadata": {},
   "outputs": [],
   "source": [
    "thumb_rot = thumb_rot[:,[1,2,3,0]] # WXYZ -> XYZW"
   ]
  },
  {
   "cell_type": "code",
   "execution_count": null,
   "id": "7411ad64",
   "metadata": {
    "scrolled": true
   },
   "outputs": [],
   "source": [
    "thumb_pos, thumb_rot"
   ]
  },
  {
   "cell_type": "code",
   "execution_count": null,
   "id": "f8b34a47",
   "metadata": {},
   "outputs": [],
   "source": [
    "target_pos = np.array([[-0.37809137,  -0.3650283  , 0.05804292]])"
   ]
  },
  {
   "cell_type": "code",
   "execution_count": null,
   "id": "9dda60f9",
   "metadata": {},
   "outputs": [],
   "source": [
    "target_pos[...,0] += 0.1"
   ]
  },
  {
   "cell_type": "code",
   "execution_count": null,
   "id": "976c8f3a",
   "metadata": {},
   "outputs": [],
   "source": [
    "target_pos"
   ]
  },
  {
   "cell_type": "code",
   "execution_count": null,
   "id": "ce8e9b9d",
   "metadata": {},
   "outputs": [],
   "source": [
    "env.move_finger_to_fast(target_pos, thumb_rot, world)"
   ]
  },
  {
   "cell_type": "code",
   "execution_count": null,
   "id": "22e16cb0",
   "metadata": {},
   "outputs": [],
   "source": [
    "for _ in range(100):\n",
    "    world.step(render=True)\n",
    "    thumb_pos, thumb_rot = env.xforms.get_world_poses()\n",
    "    env.robots.set_joint_position_targets(np.zeros((env.num_envs, 25))) # \n",
    "    print(\"thumb_pos\", thumb_pos)"
   ]
  },
  {
   "cell_type": "code",
   "execution_count": null,
   "id": "b6b75899",
   "metadata": {},
   "outputs": [],
   "source": []
  }
 ],
 "metadata": {
  "kernelspec": {
   "display_name": "Isaac Sim Python 3",
   "language": "python",
   "name": "isaac_sim_python3"
  },
  "language_info": {
   "codemirror_mode": {
    "name": "ipython",
    "version": 3
   },
   "file_extension": ".py",
   "mimetype": "text/x-python",
   "name": "python",
   "nbconvert_exporter": "python",
   "pygments_lexer": "ipython3",
   "version": "3.7.13"
  }
 },
 "nbformat": 4,
 "nbformat_minor": 5
}
