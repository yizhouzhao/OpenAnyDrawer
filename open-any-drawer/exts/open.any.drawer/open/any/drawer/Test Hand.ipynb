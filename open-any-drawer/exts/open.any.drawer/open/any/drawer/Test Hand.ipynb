{
 "cells": [
  {
   "cell_type": "code",
   "execution_count": 1,
   "id": "7bd10d7c",
   "metadata": {},
   "outputs": [],
   "source": [
    "import numpy as np"
   ]
  },
  {
   "cell_type": "code",
   "execution_count": 2,
   "id": "648ac4b8",
   "metadata": {},
   "outputs": [],
   "source": [
    "%load_ext autoreload\n",
    "%autoreload 2"
   ]
  },
  {
   "cell_type": "code",
   "execution_count": 3,
   "id": "b90a9745",
   "metadata": {},
   "outputs": [
    {
     "ename": "NameError",
     "evalue": "name 'world' is not defined",
     "output_type": "error",
     "traceback": [
      "\u001b[0;31m---------------------------------------------------------------------------\u001b[0m",
      "\u001b[0;31mNameError\u001b[0m                                 Traceback (most recent call last)",
      "\u001b[0;32m/tmp/ipykernel_114125/2029972651.py\u001b[0m in \u001b[0;36m<module>\u001b[0;34m\u001b[0m\n\u001b[0;32m----> 1\u001b[0;31m \u001b[0mworld\u001b[0m\u001b[0;34m.\u001b[0m\u001b[0mreset\u001b[0m\u001b[0;34m(\u001b[0m\u001b[0;34m)\u001b[0m\u001b[0;34m\u001b[0m\u001b[0;34m\u001b[0m\u001b[0m\n\u001b[0m",
      "\u001b[0;31mNameError\u001b[0m: name 'world' is not defined"
     ]
    }
   ],
   "source": [
    "world.reset()"
   ]
  },
  {
   "cell_type": "code",
   "execution_count": 4,
   "id": "615cbc16",
   "metadata": {},
   "outputs": [],
   "source": [
    "import getpass\n",
    "user = getpass.getuser()"
   ]
  },
  {
   "cell_type": "code",
   "execution_count": 5,
   "id": "1569375f",
   "metadata": {},
   "outputs": [
    {
     "name": "stdout",
     "output_type": "stream",
     "text": [
      "Starting kit application with the fillowing args:  ['/home/yizhou/.local/share/ov/pkg/isaac_sim-2022.1.0/exts/omni.isaac.kit/omni/isaac/kit/simulation_app.py', '/home/yizhou/.local/share/ov/pkg/isaac_sim-2022.1.0/apps/omni.isaac.sim.python.kit', '--/app/tokens/exe-path=/home/yizhou/.local/share/ov/pkg/isaac_sim-2022.1.0/kit', '--/persistent/app/viewport/displayOptions=3094', '--/rtx/materialDb/syncLoads=True', '--/rtx/hydra/materialSyncLoads=True--/omni.kit.plugin/syncUsdLoads=True', '--/app/renderer/resolution/width=1280', '--/app/renderer/resolution/height=720', '--/app/window/width=1440', '--/app/window/height=900', '--/renderer/multiGpu/enabled=True', '--ext-folder', '/home/yizhou/.local/share/ov/pkg/isaac_sim-2022.1.0/exts', '--ext-folder', '/home/yizhou/.local/share/ov/pkg/isaac_sim-2022.1.0/apps', '--portable', '--no-window']\n",
      "Passing the following args to the base kit application:  ['-f', '/home/yizhou/.local/share/jupyter/runtime/kernel-384664b0-193a-4f92-9111-0f39e99d52c0.json']\n",
      "[Warning] [omni.kit.app.plugin] No crash reporter present, dumps uploading isn't available.\n",
      "[Info] [carb] Logging to file: /home/yizhou/.local/share/ov/pkg/isaac_sim-2022.1.0/kit/logs/Kit/Isaac-Sim/2022.1/kit_20220809_174756.log\n",
      "[0.083s] [ext: omni.stats-0.0.0] startup\n",
      "[0.099s] [ext: omni.gpu_foundation-0.0.0] startup\n",
      "2022-08-10 00:47:57 [97ms] [Warning] [carb] FrameworkImpl::setDefaultPlugin(client: omni.gpu_foundation_factory.plugin, desc : [carb::graphics::Graphics v2.5], plugin : carb.graphics-vulkan.plugin) failed. Plugin selection is locked, because the interface was previously acquired by: \n",
      "[0.106s] [ext: carb.windowing.plugins-1.0.0] startup\n",
      "[0.114s] [ext: omni.assets.plugins-0.0.0] startup\n",
      "[0.114s] [ext: omni.kit.renderer.init-0.0.0] startup\n",
      "\n",
      "|---------------------------------------------------------------------------------------------|\n",
      "| Driver Version: 510.85.2      | Graphics API: Vulkan\n",
      "|=============================================================================================|\n",
      "| GPU | Name                             | Active | LDA | GPU Memory | Vendor-ID | LUID       |\n",
      "|     |                                  |        |     |            | Device-ID | UUID       |\n",
      "|---------------------------------------------------------------------------------------------|\n",
      "| 0   | NVIDIA GeForce RTX 3090          | Yes: 0 |     | 24822   MB | 10de      | 0          |\n",
      "|     |                                  |        |     |            | 2204      | 3f50dd6e.. |\n",
      "|=============================================================================================|\n",
      "| OS: Linux yizhou-Z370-AORUS-Gaming-5, Version: 5.15.0-43-generic\n",
      "| Processor: Intel(R) Core(TM) i7-8700K CPU @ 3.70GHz | Cores: Unknown | Logical: 12\n",
      "|---------------------------------------------------------------------------------------------|\n",
      "| Total Memory (MB): 32046 | Free Memory: 14610\n",
      "| Total Page/Swap (MB): 2047 | Free Page/Swap: 2047\n",
      "|---------------------------------------------------------------------------------------------|\n",
      "2022-08-10 00:47:57 [894ms] [Warning] [carb.cudainterop.plugin] On Linux only, CUDA and the display driver does not support IOMMU-enabled bare-metal PCIe peer to peer memory copy.\n",
      "However, CUDA and the display driver does support IOMMU via VM pass through. As a consequence, users on Linux,\n",
      "when running on a native bare metal system, should disable the IOMMU. The IOMMU should be enabled and the VFIO driver\n",
      "be used as a PCIe pass through for virtual machines.\n",
      "[0.914s] [ext: omni.kit.pipapi-0.0.0] startup\n",
      "[0.924s] [ext: omni.kit.pip_archive-0.0.0] startup\n",
      "[0.928s] [ext: omni.isaac.core_archive-0.3.0] startup\n",
      "[0.950s] [ext: omni.usd.config-1.0.0] startup\n",
      "[0.952s] [ext: omni.usd.libs-1.0.0] startup\n",
      "[1.092s] [ext: omni.isaac.ml_archive-0.1.0] startup\n",
      "[1.157s] [ext: omni.kit.loop-isaac-0.1.0] startup\n",
      "[1.157s] [ext: omni.kit.async_engine-0.0.0] startup\n",
      "[1.159s] [ext: omni.appwindow-1.0.0] startup\n",
      "[1.161s] [ext: omni.client-0.1.0] startup\n",
      "[1.171s] [ext: omni.kit.test-0.0.0] startup\n",
      "[1.194s] [ext: omni.kit.renderer.core-0.0.0] startup\n",
      "[1.263s] [ext: omni.ui-2.10.3] startup\n",
      "[1.279s] [ext: carb.audio-0.1.0] startup\n",
      "[1.300s] [ext: omni.kit.mainwindow-0.0.0] startup\n",
      "[1.310s] [ext: omni.uiaudio-1.0.0] startup\n",
      "[1.314s] [ext: omni.kit.uiapp-0.0.0] startup\n",
      "[1.314s] [ext: omni.usd.schema.physics-1.0.0] startup\n",
      "[1.366s] [ext: omni.usd.schema.audio-0.0.0] startup\n",
      "[1.374s] [ext: omni.usd.schema.semantics-0.0.0] startup\n",
      "[1.383s] [ext: omni.usd.schema.omnigraph-1.0.0] startup\n",
      "[1.393s] [ext: omni.usd.schema.anim-0.0.0] startup\n",
      "[1.435s] [ext: omni.kit.commands-1.2.2] startup\n",
      "[1.439s] [ext: omni.timeline-1.0.2] startup\n",
      "[1.441s] [ext: omni.hydra.scene_delegate-0.2.0] startup\n",
      "[1.450s] [ext: omni.kit.audiodeviceenum-1.0.0] startup\n",
      "[1.452s] [ext: omni.usd-1.5.3] startup\n",
      "[1.534s] [ext: omni.kit.asset_converter-1.2.30] startup\n",
      "[1.548s] [ext: omni.usd.schema.isaac-0.2.0] startup\n",
      "[1.589s] [ext: omni.usd.schema.physx-0.0.0] startup\n",
      "[1.614s] [ext: omni.kit.search_core-1.0.2] startup\n",
      "[1.616s] [ext: omni.renderer-rtx-0.0.0] startup\n",
      "[1.617s] [ext: omni.kit.widget.graph-1.4.2] startup\n",
      "[1.623s] [ext: omni.kit.widget.filebrowser-2.2.26] startup\n",
      "[1.629s] [ext: omni.kit.window.popup_dialog-2.0.7] startup\n",
      "[1.634s] [ext: omni.mdl.neuraylib-0.1.0] startup\n",
      "[1.637s] [ext: omni.kit.widget.path_field-2.0.3] startup\n",
      "[1.639s] [ext: omni.kit.widget.versioning-1.3.8] startup\n",
      "[1.641s] [ext: omni.kit.notification_manager-1.0.5] startup\n",
      "[1.643s] [ext: omni.kit.widget.browser_bar-2.0.3] startup\n",
      "[1.644s] [ext: omni.kit.menu.utils-1.2.11] startup\n",
      "[1.654s] [ext: omni.kit.window.filepicker-2.4.29] startup\n"
     ]
    },
    {
     "name": "stderr",
     "output_type": "stream",
     "text": [
      "OmniAssetFileFormat\n"
     ]
    },
    {
     "name": "stdout",
     "output_type": "stream",
     "text": [
      "[1.703s] [ext: omni.mdl-0.1.0] startup\n",
      "[1.723s] [ext: omni.kit.menu.create-1.0.2] startup\n",
      "[1.724s] [ext: omni.kit.window.file_exporter-1.0.4] startup\n",
      "[1.725s] [ext: omni.kit.window.drop_support-1.0.0] startup\n",
      "[1.725s] [ext: omni.kit.material.library-1.3.10] startup\n",
      "[1.729s] [ext: omni.kit.window.property-1.6.3] startup\n",
      "[1.730s] [ext: omni.kit.context_menu-1.3.9] startup\n",
      "[1.733s] [ext: omni.kit.window.file_importer-1.0.4] startup\n",
      "[1.734s] [ext: omni.kit.stage_templates-1.1.2] startup\n",
      "[1.736s] [ext: omni.kit.widget.stage-2.6.15] startup\n",
      "[1.740s] [ext: omni.kit.window.file-1.3.16] startup\n",
      "[1.743s] [ext: omni.debugdraw-0.1.0] startup\n",
      "[1.749s] [ext: omni.kit.window.content_browser-2.4.28] startup\n",
      "[1.759s] [ext: omni.kit.widget.prompt-1.0.1] startup\n",
      "[1.760s] [ext: omni.kit.property.usd-3.14.8] startup\n",
      "[1.798s] [ext: omni.hydra.engine.stats-1.0.0] startup\n",
      "[1.804s] [ext: omni.kit.widget.settings-1.0.0] startup\n",
      "[1.805s] [ext: omni.graph.tools-1.3.5] startup\n",
      "[1.870s] [ext: omni.graph.core-2.27.0] startup\n",
      "[1.875s] [ext: omni.hydra.rtx-0.1.0] startup\n",
      "[1.884s] [ext: omni.kit.viewport.legacy_gizmos-1.0.0] startup\n",
      "[1.887s] [ext: omni.ui_query-1.1.1] startup\n",
      "[1.889s] [ext: omni.graph-1.22.1] startup\n",
      "[1.939s] [ext: omni.kit.window.viewport-0.0.0] startup\n"
     ]
    },
    {
     "name": "stderr",
     "output_type": "stream",
     "text": [
      "2022-08-10 00:47:59 [2,017ms] [Error] [rtx.neuraylib.plugin] [DYNLIB:IO]   0.1   DYNLIB io   error: /home/yizhou/.local/share/ov/pkg/isaac_sim-2022.1.0/kit/python/bin/libs/iray/libnvindex.so: cannot open shared object file: No such file or directory\n",
      "2022-08-10 00:47:59 [2,017ms] [Error] [rtx.neuraylib.plugin] [INDEX:MAIN]   0.1   INDEX  main error: Failed to load /home/yizhou/.local/share/ov/pkg/isaac_sim-2022.1.0/kit/python/bin/libs/iray/libnvindex.so\n"
     ]
    },
    {
     "name": "stdout",
     "output_type": "stream",
     "text": [
      "Warp initialized:\n",
      "   Version: 0.2.1\n",
      "   Using CUDA device: NVIDIA GeForce RTX 3090\n",
      "   Using CPU compiler: /usr/bin/g++\n",
      "[2.748s] [ext: omni.kit.window.preferences-1.2.1] startup\n",
      "[2.788s] [ext: omni.kit.ui_test-1.2.0] startup\n",
      "[2.790s] [ext: omni.graph.ui-1.6.1] startup\n",
      "[2.814s] [ext: omni.kvdb-0.0.0] startup\n",
      "[2.818s] [ext: omni.kit.widget.searchfield-1.0.6] startup\n",
      "[2.819s] [ext: omni.convexdecomposition-1.4.12] startup\n",
      "[2.823s] [ext: omni.graph.action-1.17.0] startup\n",
      "[2.834s] [ext: omni.localcache-0.0.0] startup\n",
      "[2.837s] [ext: omni.usdphysics-1.4.12] startup\n",
      "[2.840s] [ext: omni.graph.scriptnode-0.5.0] startup\n",
      "[2.843s] [ext: omni.physx-1.4.12-5.1] startup\n",
      "2022-08-10 00:47:59 [2,850ms] [Warning] [omni.kvdb.plugin] wasn't able to load the meta database, trying to repair it ...\n",
      "2022-08-10 00:47:59 [2,940ms] [Warning] [omni.kvdb.plugin] repair failed\n",
      "[2.948s] [ext: omni.kit.usd_undo-0.1.0] startup\n",
      "[2.950s] [ext: omni.graph.nodes-1.25.0] startup\n",
      "[2.968s] [ext: omni.physx.commands-1.4.12-5.1] startup\n",
      "[2.976s] [ext: omni.syntheticdata-0.2.1] startup\n",
      "[3.030s] [ext: omni.physx.ui-1.4.12-5.1] startup\n",
      "[3.115s] [ext: omni.warp-0.2.1] startup\n",
      "[4.834s] [ext: omni.kit.renderer.capture-0.0.0] startup\n",
      "[4.837s] [ext: omni.kit.property.material-1.8.5] startup\n",
      "[4.840s] [ext: omni.physx.demos-1.4.12-5.1] startup\n",
      "[4.843s] [ext: omni.physics.tensors-0.1.0] startup\n",
      "[4.852s] [ext: omni.kit.property.physx-0.1.0] startup\n",
      "2022-08-10 00:48:01 [4,906ms] [Warning] [omni.physx.plugin] Deprecated: getSimulationEventStream is deprecated, please use getSimulationEventStreamV2\n",
      "[4.915s] [ext: omni.kit.window.toolbar-1.2.4] startup\n",
      "[4.920s] [ext: omni.physx.tensors-0.1.0] startup\n",
      "[4.926s] [ext: omni.physx.vehicle-1.4.12-5.1] startup\n",
      "[4.938s] [ext: omni.physx.tests-1.4.12-5.1] startup\n",
      "[4.988s] [ext: omni.kit.numpy.common-0.1.0] startup\n",
      "[4.991s] [ext: omni.physx.camera-1.4.12-5.1] startup\n",
      "[4.998s] [ext: omni.physx.cct-1.4.12-5.1] startup\n",
      "[5.062s] [ext: omni.isaac.version-1.0.0] startup\n",
      "[5.064s] [ext: omni.isaac.dynamic_control-1.0.0] startup\n",
      "[5.072s] [ext: omni.physx.bundle-1.4.12-5.1] startup\n",
      "[5.072s] [ext: omni.kit.primitive.mesh-1.0.0] startup\n",
      "[5.076s] [ext: omni.command.usd-1.0.1] startup\n",
      "[5.079s] [ext: omni.isaac.core-1.15.1] startup\n",
      "[5.308s] [ext: omni.replicator.core-1.2.0] startup\n",
      "[5.406s] [ext: omni.kit.window.extensions-1.1.0] startup\n",
      "[5.411s] [ext: omni.isaac.core_nodes-0.9.0] startup\n",
      "[5.422s] [ext: omni.isaac.ui-0.2.1] startup\n",
      "[5.424s] [ext: omni.kit.window.script_editor-1.6.2] startup\n",
      "[5.432s] [ext: omni.isaac.wheeled_robots-0.5.4] startup\n",
      "[5.442s] [ext: omni.kit.menu.common-1.0.0] startup\n",
      "[5.443s] [ext: omni.kit.graph.delegate.default-1.0.15] startup\n",
      "[5.445s] [ext: omni.kit.graph.delegate.modern-1.6.0] startup\n",
      "[5.447s] [ext: omni.kit.widget.zoombar-1.0.3] startup\n",
      "[5.448s] [ext: omni.kit.graph.editor.core-1.3.3] startup\n",
      "[5.450s] [ext: omni.kit.widget.stage_icons-1.0.2] startup\n",
      "[5.452s] [ext: omni.kit.browser.core-2.0.12] startup\n",
      "[5.456s] [ext: omni.kit.graph.widget.variables-2.0.2] startup\n",
      "[5.458s] [ext: omni.kit.window.stage-2.3.7] startup\n",
      "[5.461s] [ext: omni.kit.browser.folder.core-1.1.13] startup\n",
      "[5.464s] [ext: omni.graph.window.core-1.22.1] startup\n",
      "[5.470s] [ext: omni.isaac.lula-1.1.0] startup\n",
      "[5.479s] [ext: omni.graph.instancing-1.1.4] startup\n",
      "[5.485s] [ext: omni.graph.window.action-1.3.8] startup\n",
      "[5.486s] [ext: omni.graph.tutorials-1.1.2] startup\n",
      "[5.501s] [ext: omni.rtx.window.settings-0.6.1] startup\n",
      "[5.506s] [ext: omni.isaac.motion_planning-0.2.0] startup\n",
      "[5.514s] [ext: omni.graph.bundle.action-1.0.0] startup\n",
      "[5.514s] [ext: omni.rtx.settings.core-0.5.5] startup\n",
      "[5.520s] [ext: omni.isaac.motion_generation-3.1.2] startup\n",
      "[5.525s] [ext: omni.isaac.kit-0.1.9] startup\n",
      "[5.525s] [ext: omni.isaac.debug_draw-0.1.2] startup\n",
      "[5.532s] [ext: omni.kit.selection-0.1.0] startup\n",
      "[5.533s] [ext: omni.isaac.franka-0.0.0] startup\n",
      "[5.534s] [ext: omni.kit.widget.layers-1.5.17] startup\n",
      "[5.546s] [ext: omni.kit.menu.edit-1.0.6] startup\n",
      "[5.548s] [ext: omni.isaac.isaac_sensor-0.3.4] startup\n",
      "2022-08-10 00:48:02 [5,547ms] [Warning] [omni.physx.plugin] Deprecated: getSimulationEventStream is deprecated, please use getSimulationEventStreamV2\n",
      "[5.556s] [ext: omni.kit.widget.live-0.1.0] startuOpening usd file at  omniverse://localhost/Users/yizhou/test_hand.usd  ...Done.\n",
      "Saving a temp livesync stage at  omniverse://localhost/Users/yizhou/test_hand.usd  ...Done.\n"
     ]
    }
   ],
   "source": [
    "from omni.isaac.kit import SimulationApp\n",
    "\n",
    "usd_path = f\"omniverse://localhost/Users/{user}/test_hand.usd\"\n",
    "\n",
    "\n",
    "simulation_app = SimulationApp({\"headless\": True, \"open_usd\": usd_path, \"livesync_usd\": usd_path})\n"
   ]
  },
  {
   "cell_type": "code",
   "execution_count": 6,
   "id": "3aff0818",
   "metadata": {},
   "outputs": [],
   "source": [
    "from omni.isaac.core import World\n",
    "world = World()"
   ]
  },
  {
   "cell_type": "code",
   "execution_count": 7,
   "id": "d27954ee",
   "metadata": {},
   "outputs": [],
   "source": [
    "from hand_env import HandEnv\n",
    "\n",
    "# env = HandEnv(\"/World/Hand/Bones/l_carpal_mid\", \"/World/Hand*/Bones/l_thumbSkeleton_grp/l_distalThumb_mid\")\n",
    "env = HandEnv(\"/World/Hand/Bones/l_carpal_mid\", \"/World/AnchorXform\")"
   ]
  },
  {
   "cell_type": "code",
   "execution_count": 8,
   "id": "fb44f999",
   "metadata": {},
   "outputs": [],
   "source": [
    "world.reset()"
   ]
  },
  {
   "cell_type": "code",
   "execution_count": 9,
   "id": "f02ced53",
   "metadata": {
    "scrolled": true
   },
   "outputs": [
    {
     "name": "stdout",
     "output_type": "stream",
     "text": [
      "simlation context numpy None\n",
      "num_envs 1\n"
     ]
    },
    {
     "data": {
      "text/plain": [
       "<omni.isaac.core.robots.robot_view.RobotView at 0x7f5a1ac5cdd0>"
      ]
     },
     "execution_count": 9,
     "metadata": {},
     "output_type": "execute_result"
    }
   ],
   "source": [
    "env.start()\n",
    "world.scene.add(env.robots)"
   ]
  },
  {
   "cell_type": "code",
   "execution_count": 10,
   "id": "bc1a6a16",
   "metadata": {},
   "outputs": [],
   "source": [
    "world.reset()"
   ]
  },
  {
   "cell_type": "code",
   "execution_count": 11,
   "id": "92035e73",
   "metadata": {},
   "outputs": [],
   "source": [
    "hand_pos, hand_rot = env.robots.get_world_poses()"
   ]
  },
  {
   "cell_type": "code",
   "execution_count": 12,
   "id": "6f11dff8",
   "metadata": {
    "scrolled": true
   },
   "outputs": [
    {
     "data": {
      "text/plain": [
       "(array([[-1.0132790e-06,  3.5930425e-06, -1.3814410e-03]], dtype=float32),\n",
       " array([[9.9999291e-01, 3.2006856e-03, 1.9685545e-03, 2.5742559e-04]],\n",
       "       dtype=float32))"
      ]
     },
     "execution_count": 12,
     "metadata": {},
     "output_type": "execute_result"
    }
   ],
   "source": [
    "hand_pos, hand_rot"
   ]
  },
  {
   "cell_type": "code",
   "execution_count": 13,
   "id": "8623d41a",
   "metadata": {},
   "outputs": [],
   "source": [
    "env.xforms.set_world_poses(positions=np.array([[0,0,0]]), orientations = np.array([[1, 0, 0, 0]])) # WXYZ\n",
    "\n",
    "for _ in range(30):\n",
    "    world.step(render=True)"
   ]
  },
  {
   "cell_type": "markdown",
   "id": "7fac58b5",
   "metadata": {},
   "source": [
    "# DOF examine"
   ]
  },
  {
   "cell_type": "code",
   "execution_count": 20,
   "id": "6507b06f",
   "metadata": {},
   "outputs": [
    {
     "name": "stdout",
     "output_type": "stream",
     "text": [
      "0 /World/Hand/Bones/l_thumbSkeleton_grp/l_metacarpalThumb_mid/Thumb_metacarpal_D6DriverJoint\n",
      "1 /World/Hand/Bones/l_thumbSkeleton_grp/l_metacarpalThumb_mid/Thumb_metacarpal_D6DriverJoint\n",
      "2 /World/Hand/Bones/l_indexSkeleton_grp/l_proximalIndex_mid/Index_proximal_D6DriverJoint\n",
      "3 /World/Hand/Bones/l_indexSkeleton_grp/l_proximalIndex_mid/Index_proximal_D6DriverJoint\n",
      "4 /World/Hand/Bones/l_middleSkeleton_grp/l_proximalMiddle_mid/Middle_proximal_D6DriverJoint\n",
      "5 /World/Hand/Bones/l_middleSkeleton_grp/l_proximalMiddle_mid/Middle_proximal_D6DriverJoint\n",
      "6 /World/Hand/Bones/l_pinkySkeleton_grp/l_proximalPinky_mid/Pinky_proximal_D6DriverJoint\n",
      "7 /World/Hand/Bones/l_pinkySkeleton_grp/l_proximalPinky_mid/Pinky_proximal_D6DriverJoint\n",
      "8 /World/Hand/Bones/l_ringSkeleton_grp/l_proximalRing_mid/Ring_proximal_D6DriverJoint\n",
      "9 /World/Hand/Bones/l_ringSkeleton_grp/l_proximalRing_mid/Ring_proximal_D6DriverJoint\n",
      "10 /World/Hand/Bones/l_thumbSkeleton_grp/l_proximalThumb_mid/Thumb_proximal_RevoluteJoint\n",
      "11 /World/Hand/Bones/l_indexSkeleton_grp/l_middleIndex_mid/Index_middle_RevoluteJoint\n",
      "12 /World/Hand/Bones/l_middleSkeleton_grp/l_middleMiddle_mid/Middle_middle_RevoluteJoint\n",
      "13 /World/Hand/Bones/l_pinkySkeleton_grp/l_middlePinky_mid/Pinky_middle_RevoluteJoint\n",
      "14 /World/Hand/Bones/l_ringSkeleton_grp/l_middleRing_mid/Ring_middle_RevoluteJoint\n",
      "15 /World/Hand/Bones/l_thumbSkeleton_grp/l_distalThumb_mid/Thumb_distal_RevoluteJoint\n",
      "16 /World/Hand/Bones/l_indexSkeleton_grp/l_distalIndex_mid/Index_distal_RevoluteJoint\n",
      "17 /World/Hand/Bones/l_middleSkeleton_grp/l_distalMiddle_mid/Middle_distal_RevoluteJoint\n",
      "18 /World/Hand/Bones/l_pinkySkeleton_grp/l_distalPinky_mid/Pinky_distal_RevoluteJoint\n",
      "19 /World/Hand/Bones/l_ringSkeleton_grp/l_distalRing_mid/Ring_distal_RevoluteJoint\n"
     ]
    }
   ],
   "source": [
    "for i, path in enumerate(env.robots._physics_view.dof_paths[0]):\n",
    "    print(i, path)"
   ]
  },
  {
   "cell_type": "code",
   "execution_count": 51,
   "id": "6cc68ac7",
   "metadata": {},
   "outputs": [],
   "source": [
    "for i in range(100):\n",
    "    i  = i / 5\n",
    "    pos = np.array([\n",
    "        [ i * 0.03,  i * 0.04, \n",
    "          i * 0.01,  -i * 0.04,  \n",
    "          i * 0.005, -i * 0.04, \n",
    "         -i * 0.02, -i * 0.04,  \n",
    "         -i * 0.01, -i * 0.04,  \n",
    "         -i * 0.02,  -i * 0.03,  -i * 0.03,  -i * 0.03,  -i * 0.03,\n",
    "         -i * 0.02,  -i * 0.03,  -i * 0.03,  -i * 0.03,  -i * 0.03, \n",
    "        ],\n",
    "    ])\n",
    "\n",
    "    # pos = np.random.randn(2,25)\n",
    "    env.robots.set_joint_position_targets(pos) # \n",
    "    world.step(render=True)"
   ]
  },
  {
   "cell_type": "markdown",
   "id": "9dad407a",
   "metadata": {},
   "source": [
    "# Stage one"
   ]
  },
  {
   "cell_type": "code",
   "execution_count": 22,
   "id": "5415dd45",
   "metadata": {},
   "outputs": [],
   "source": [
    "i = 30\n",
    "pos = np.array([\n",
    "        [ 0,  0, \n",
    "          i * 0.02,  0,  \n",
    "          0, 0, \n",
    "         -i * 0.02, 0,  \n",
    "         -i * 0.01, 0,  \n",
    "          0, 0, 0, 0, 0, # 0,  -i * 0.03,  -i * 0.03,  -i * 0.03,  -i * 0.03,\n",
    "          0, 0, 0, 0, 0, # 0,  -i * 0.03,  -i * 0.03,  -i * 0.03,  -i * 0.03, \n",
    "        ],\n",
    "    ])\n",
    "\n",
    "for _ in range(100):\n",
    "    env.robots.set_joint_position_targets(pos) \n",
    "    world.step(render=True)"
   ]
  },
  {
   "cell_type": "markdown",
   "id": "1f28ad6e",
   "metadata": {},
   "source": [
    "# Stage two"
   ]
  },
  {
   "cell_type": "code",
   "execution_count": 18,
   "id": "f05011e4",
   "metadata": {},
   "outputs": [],
   "source": [
    "i = 30\n",
    "pos = np.array([\n",
    "        [ 0,  0, \n",
    "          i * 0.01,  0,  \n",
    "          0, 0, \n",
    "         -i * 0.02, 0,  \n",
    "         -i * 0.01, 0,  \n",
    "          0,  -i * 0.03,  -i * 0.03,  -i * 0.03,  -i * 0.03,\n",
    "          0,  -i * 0.03,  -i * 0.03,  -i * 0.03,  -i * 0.03, \n",
    "        ],\n",
    "    ])\n",
    "\n",
    "for _ in range(100):\n",
    "    env.robots.set_joint_position_targets(pos) \n",
    "    env.robots.set_world_poses(hand_pos,hand_rot)\n",
    "    world.step(render=True)"
   ]
  },
  {
   "cell_type": "markdown",
   "id": "9559d440",
   "metadata": {},
   "source": [
    "# Stage three"
   ]
  },
  {
   "cell_type": "code",
   "execution_count": null,
   "id": "d61af184",
   "metadata": {},
   "outputs": [],
   "source": [
    "for _ in range(100):\n",
    "    env.robots.set_joint_position_targets(pos) \n",
    "    \n",
    "    hand_pos, hand_rot = env.robots.get_world_poses()\n",
    "    hand_pos[...,0] += 0.1\n",
    "    env.robots.set_world_poses(hand_pos, hand_rot)\n",
    "    \n",
    "    world.step(render=True)"
   ]
  },
  {
   "cell_type": "code",
   "execution_count": null,
   "id": "b1c10ee0",
   "metadata": {},
   "outputs": [],
   "source": []
  },
  {
   "cell_type": "code",
   "execution_count": null,
   "id": "26f7f6ed",
   "metadata": {},
   "outputs": [],
   "source": []
  },
  {
   "cell_type": "code",
   "execution_count": null,
   "id": "a41492ce",
   "metadata": {},
   "outputs": [],
   "source": []
  },
  {
   "cell_type": "code",
   "execution_count": null,
   "id": "1f2bd508",
   "metadata": {},
   "outputs": [],
   "source": []
  },
  {
   "cell_type": "code",
   "execution_count": null,
   "id": "d8f5f5ff",
   "metadata": {},
   "outputs": [],
   "source": []
  },
  {
   "cell_type": "markdown",
   "id": "867f17a4",
   "metadata": {},
   "source": [
    "------------------"
   ]
  },
  {
   "cell_type": "code",
   "execution_count": null,
   "id": "af9e3724",
   "metadata": {},
   "outputs": [],
   "source": [
    "env.robots.get_joint_positions()"
   ]
  },
  {
   "cell_type": "code",
   "execution_count": null,
   "id": "2df37b80",
   "metadata": {},
   "outputs": [],
   "source": [
    "joint_v = np.array([[\n",
    "     1,  0,  \n",
    "     0., 0.,\n",
    "     0., 0., \n",
    "     0., 0., \n",
    "     0., 0., \n",
    "     0, 0, 0, 0, 0,\n",
    "     0, 0, 0, 0, 0\n",
    "]]).transpose()"
   ]
  },
  {
   "cell_type": "code",
   "execution_count": null,
   "id": "1855870e",
   "metadata": {},
   "outputs": [],
   "source": [
    "joint_v.shape"
   ]
  },
  {
   "cell_type": "code",
   "execution_count": null,
   "id": "f805077d",
   "metadata": {},
   "outputs": [],
   "source": [
    "jacobians = env.robots._physics_view.get_jacobians()"
   ]
  },
  {
   "cell_type": "code",
   "execution_count": null,
   "id": "37b4a3e0",
   "metadata": {},
   "outputs": [],
   "source": [
    "jacobians.shape"
   ]
  },
  {
   "cell_type": "code",
   "execution_count": null,
   "id": "1b0e8897",
   "metadata": {},
   "outputs": [],
   "source": [
    "delta_pos_rot = np.matmul(jacobians[0], joint_v)\n",
    "for i in range(len(delta_pos_rot)):\n",
    "    print(i, delta_pos_rot[i].transpose())"
   ]
  },
  {
   "cell_type": "markdown",
   "id": "e016275a",
   "metadata": {},
   "source": [
    "# Jacobian"
   ]
  },
  {
   "cell_type": "code",
   "execution_count": null,
   "id": "02c717c1",
   "metadata": {},
   "outputs": [],
   "source": [
    "world.reset()\n",
    "world.step(render=True)"
   ]
  },
  {
   "cell_type": "code",
   "execution_count": null,
   "id": "3b275bac",
   "metadata": {
    "scrolled": true
   },
   "outputs": [],
   "source": [
    "thumb_pos, thumb_rot = env.xforms.get_world_poses()"
   ]
  },
  {
   "cell_type": "code",
   "execution_count": null,
   "id": "4f30d1be",
   "metadata": {},
   "outputs": [],
   "source": [
    "thumb_rot = thumb_rot[:,[1,2,3,0]] # WXYZ -> XYZW"
   ]
  },
  {
   "cell_type": "code",
   "execution_count": null,
   "id": "72a7144e",
   "metadata": {
    "scrolled": true
   },
   "outputs": [],
   "source": [
    "thumb_pos, thumb_rot"
   ]
  },
  {
   "cell_type": "code",
   "execution_count": null,
   "id": "87ac4179",
   "metadata": {},
   "outputs": [],
   "source": [
    "target_pos = thumb_pos.copy()#np.array([[-0.37809137,  -0.3650283  , 0.05804292]])"
   ]
  },
  {
   "cell_type": "code",
   "execution_count": null,
   "id": "95796511",
   "metadata": {},
   "outputs": [],
   "source": [
    "target_pos[...,1] -= 0.5"
   ]
  },
  {
   "cell_type": "code",
   "execution_count": null,
   "id": "74d84dbd",
   "metadata": {},
   "outputs": [],
   "source": [
    "target_pos"
   ]
  },
  {
   "cell_type": "code",
   "execution_count": null,
   "id": "6ac050b7",
   "metadata": {},
   "outputs": [],
   "source": [
    "env.move_finger_to_fast(target_pos, thumb_rot, world, finger = \"thumb\")"
   ]
  },
  {
   "cell_type": "code",
   "execution_count": null,
   "id": "65535ac5",
   "metadata": {},
   "outputs": [],
   "source": [
    "target_pos = np.zeros((env.num_envs, 20)) \n",
    "# target_pos = np.random.randn(env.num_envs, 20) "
   ]
  },
  {
   "cell_type": "code",
   "execution_count": null,
   "id": "d4cc9209",
   "metadata": {},
   "outputs": [],
   "source": [
    "env.num_envs"
   ]
  },
  {
   "cell_type": "code",
   "execution_count": null,
   "id": "24ed2c85",
   "metadata": {},
   "outputs": [],
   "source": [
    "target_pos"
   ]
  },
  {
   "cell_type": "code",
   "execution_count": null,
   "id": "6a6c04b0",
   "metadata": {},
   "outputs": [],
   "source": [
    "for _ in range(100):\n",
    "    world.step(render=True)\n",
    "    thumb_pos, thumb_rot = env.xforms.get_world_poses()\n",
    "    env.robots.set_joint_position_targets(target_pos) \n",
    "    print(\"thumb_pos\", thumb_pos)"
   ]
  },
  {
   "cell_type": "code",
   "execution_count": null,
   "id": "51fc9e7e",
   "metadata": {},
   "outputs": [],
   "source": [
    "env.robots.get_joint_positions()"
   ]
  },
  {
   "cell_type": "markdown",
   "id": "ce572003",
   "metadata": {},
   "source": [
    "# Control"
   ]
  },
  {
   "cell_type": "code",
   "execution_count": null,
   "id": "f6dadaf6",
   "metadata": {},
   "outputs": [],
   "source": [
    "pos, rot = env.robots.get_local_poses()"
   ]
  },
  {
   "cell_type": "code",
   "execution_count": null,
   "id": "7b23a4cf",
   "metadata": {},
   "outputs": [],
   "source": [
    "pos, rot"
   ]
  },
  {
   "cell_type": "code",
   "execution_count": null,
   "id": "73b89a95",
   "metadata": {},
   "outputs": [],
   "source": [
    "# pos[...,0] = -10"
   ]
  },
  {
   "cell_type": "code",
   "execution_count": null,
   "id": "ee9da7b8",
   "metadata": {},
   "outputs": [],
   "source": [
    "env.robots.set_local_poses(pos,rot)\n",
    "world.step(render=True)"
   ]
  },
  {
   "cell_type": "code",
   "execution_count": null,
   "id": "4df69a2a",
   "metadata": {},
   "outputs": [],
   "source": [
    "hand_prim = world.scene.stage.GetPrimAtPath(\"/World/Hand\")"
   ]
  },
  {
   "cell_type": "code",
   "execution_count": null,
   "id": "0e4b8936",
   "metadata": {},
   "outputs": [],
   "source": [
    "from pxr import UsdGeom, Gf"
   ]
  },
  {
   "cell_type": "code",
   "execution_count": null,
   "id": "e05e0e23",
   "metadata": {},
   "outputs": [],
   "source": [
    "mat = Gf.Matrix4f().SetTranslate(Gf.Vec3f(0, 0, 0))"
   ]
  },
  {
   "cell_type": "code",
   "execution_count": null,
   "id": "f18ffc82",
   "metadata": {},
   "outputs": [],
   "source": [
    "import omni"
   ]
  },
  {
   "cell_type": "code",
   "execution_count": null,
   "id": "978b744c",
   "metadata": {},
   "outputs": [],
   "source": [
    "omni.kit.commands.execute(\n",
    "    \"TransformPrimCommand\",\n",
    "    path=\"/World/Hand\",\n",
    "    new_transform_matrix=mat,\n",
    ")"
   ]
  },
  {
   "cell_type": "code",
   "execution_count": 52,
   "id": "8772afb1",
   "metadata": {},
   "outputs": [],
   "source": [
    "world.reset()"
   ]
  },
  {
   "cell_type": "code",
   "execution_count": null,
   "id": "6ff0c1cb",
   "metadata": {},
   "outputs": [],
   "source": []
  }
 ],
 "metadata": {
  "kernelspec": {
   "display_name": "Isaac Sim Python 3",
   "language": "python",
   "name": "isaac_sim_python3"
  },
  "language_info": {
   "codemirror_mode": {
    "name": "ipython",
    "version": 3
   },
   "file_extension": ".py",
   "mimetype": "text/x-python",
   "name": "python",
   "nbconvert_exporter": "python",
   "pygments_lexer": "ipython3",
   "version": "3.7.13"
  }
 },
 "nbformat": 4,
 "nbformat_minor": 5
}
