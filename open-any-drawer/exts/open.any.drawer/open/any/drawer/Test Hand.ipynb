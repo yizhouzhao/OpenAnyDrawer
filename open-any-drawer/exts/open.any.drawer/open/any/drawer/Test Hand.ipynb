{
 "cells": [
  {
   "cell_type": "code",
   "execution_count": 1,
   "id": "7bd10d7c",
   "metadata": {},
   "outputs": [],
   "source": [
    "import numpy as np"
   ]
  },
  {
   "cell_type": "code",
   "execution_count": 2,
   "id": "648ac4b8",
   "metadata": {},
   "outputs": [],
   "source": [
    "%load_ext autoreload\n",
    "%autoreload 2"
   ]
  },
  {
   "cell_type": "code",
   "execution_count": 3,
   "id": "b90a9745",
   "metadata": {},
   "outputs": [],
   "source": [
    "# world.reset()"
   ]
  },
  {
   "cell_type": "code",
   "execution_count": 4,
   "id": "615cbc16",
   "metadata": {},
   "outputs": [],
   "source": [
    "import getpass\n",
    "user = getpass.getuser()"
   ]
  },
  {
   "cell_type": "code",
   "execution_count": 5,
   "id": "1569375f",
   "metadata": {},
   "outputs": [
    {
     "name": "stdout",
     "output_type": "stream",
     "text": [
      "Starting kit application with the fillowing args:  ['/home/yizhou/.local/share/ov/pkg/isaac_sim-2022.1.0/exts/omni.isaac.kit/omni/isaac/kit/simulation_app.py', '/home/yizhou/.local/share/ov/pkg/isaac_sim-2022.1.0/apps/omni.isaac.sim.python.kit', '--/app/tokens/exe-path=/home/yizhou/.local/share/ov/pkg/isaac_sim-2022.1.0/kit', '--/persistent/app/viewport/displayOptions=3094', '--/rtx/materialDb/syncLoads=True', '--/rtx/hydra/materialSyncLoads=True--/omni.kit.plugin/syncUsdLoads=True', '--/app/renderer/resolution/width=1280', '--/app/renderer/resolution/height=720', '--/app/window/width=1440', '--/app/window/height=900', '--/renderer/multiGpu/enabled=True', '--ext-folder', '/home/yizhou/.local/share/ov/pkg/isaac_sim-2022.1.0/exts', '--ext-folder', '/home/yizhou/.local/share/ov/pkg/isaac_sim-2022.1.0/apps', '--portable', '--no-window']\n",
      "Passing the following args to the base kit application:  ['-f', '/home/yizhou/.local/share/jupyter/runtime/kernel-b8b587c2-4a95-4cc2-b71b-a8d18c16cbca.json']\n",
      "[Warning] [omni.kit.app.plugin] No crash reporter present, dumps uploading isn't available.\n",
      "[Info] [carb] Logging to file: /home/yizhou/.local/share/ov/pkg/isaac_sim-2022.1.0/kit/logs/Kit/Isaac-Sim/2022.1/kit_20220726_104122.log\n",
      "[0.076s] [ext: omni.stats-0.0.0] startup\n",
      "[0.092s] [ext: omni.gpu_foundation-0.0.0] startup\n",
      "2022-07-26 17:41:23 [92ms] [Warning] [carb] FrameworkImpl::setDefaultPlugin(client: omni.gpu_foundation_factory.plugin, desc : [carb::graphics::Graphics v2.5], plugin : carb.graphics-vulkan.plugin) failed. Plugin selection is locked, because the interface was previously acquired by: \n",
      "[0.100s] [ext: carb.windowing.plugins-1.0.0] startup\n",
      "[0.109s] [ext: omni.assets.plugins-0.0.0] startup\n",
      "[0.110s] [ext: omni.kit.renderer.init-0.0.0] startup\n",
      "\n",
      "|---------------------------------------------------------------------------------------------|\n",
      "| Driver Version: 510.73.5      | Graphics API: Vulkan\n",
      "|=============================================================================================|\n",
      "| GPU | Name                             | Active | LDA | GPU Memory | Vendor-ID | LUID       |\n",
      "|     |                                  |        |     |            | Device-ID | UUID       |\n",
      "|---------------------------------------------------------------------------------------------|\n",
      "| 0   | NVIDIA GeForce RTX 3090          | Yes: 0 |     | 24822   MB | 10de      | 0          |\n",
      "|     |                                  |        |     |            | 2204      | 3f50dd6e.. |\n",
      "|=============================================================================================|\n",
      "| OS: Linux yizhou-Z370-AORUS-Gaming-5, Version: 5.15.0-41-generic\n",
      "| Processor: Intel(R) Core(TM) i7-8700K CPU @ 3.70GHz | Cores: Unknown | Logical: 12\n",
      "|---------------------------------------------------------------------------------------------|\n",
      "| Total Memory (MB): 32046 | Free Memory: 12947\n",
      "| Total Page/Swap (MB): 2047 | Free Page/Swap: 2047\n",
      "|---------------------------------------------------------------------------------------------|\n",
      "2022-07-26 17:41:23 [708ms] [Warning] [carb.cudainterop.plugin] On Linux only, CUDA and the display driver does not support IOMMU-enabled bare-metal PCIe peer to peer memory copy.\n",
      "However, CUDA and the display driver does support IOMMU via VM pass through. As a consequence, users on Linux,\n",
      "when running on a native bare metal system, should disable the IOMMU. The IOMMU should be enabled and the VFIO driver\n",
      "be used as a PCIe pass through for virtual machines.\n",
      "[0.726s] [ext: omni.kit.pipapi-0.0.0] startup\n",
      "[0.737s] [ext: omni.kit.pip_archive-0.0.0] startup\n",
      "[0.741s] [ext: omni.isaac.core_archive-0.3.0] startup\n",
      "[0.762s] [ext: omni.usd.config-1.0.0] startup\n",
      "[0.765s] [ext: omni.usd.libs-1.0.0] startup\n",
      "[0.922s] [ext: omni.isaac.ml_archive-0.1.0] startup\n",
      "[0.980s] [ext: omni.kit.loop-isaac-0.1.0] startup\n",
      "[0.981s] [ext: omni.kit.async_engine-0.0.0] startup\n",
      "[0.983s] [ext: omni.appwindow-1.0.0] startup\n",
      "[0.985s] [ext: omni.client-0.1.0] startup\n",
      "[0.995s] [ext: omni.kit.test-0.0.0] startup\n",
      "[1.025s] [ext: omni.kit.renderer.core-0.0.0] startup\n",
      "[1.095s] [ext: omni.ui-2.10.3] startup\n",
      "[1.114s] [ext: carb.audio-0.1.0] startup\n",
      "[1.135s] [ext: omni.kit.mainwindow-0.0.0] startup\n",
      "[1.143s] [ext: omni.uiaudio-1.0.0] startup\n",
      "[1.148s] [ext: omni.kit.uiapp-0.0.0] startup\n",
      "[1.148s] [ext: omni.usd.schema.physics-1.0.0] startup\n",
      "[1.197s] [ext: omni.usd.schema.audio-0.0.0] startup\n",
      "[1.204s] [ext: omni.usd.schema.semantics-0.0.0] startup\n",
      "[1.213s] [ext: omni.usd.schema.omnigraph-1.0.0] startup\n",
      "[1.222s] [ext: omni.usd.schema.anim-0.0.0] startup\n",
      "[1.264s] [ext: omni.kit.commands-1.2.2] startup\n",
      "[1.269s] [ext: omni.timeline-1.0.2] startup\n",
      "[1.271s] [ext: omni.hydra.scene_delegate-0.2.0] startup\n",
      "[1.278s] [ext: omni.kit.audiodeviceenum-1.0.0] startup\n",
      "[1.280s] [ext: omni.usd-1.5.3] startup\n",
      "[1.367s] [ext: omni.kit.asset_converter-1.2.30] startup\n",
      "[1.383s] [ext: omni.usd.schema.isaac-0.2.0] startup\n",
      "[1.425s] [ext: omni.usd.schema.physx-0.0.0] startup\n",
      "[1.451s] [ext: omni.kit.search_core-1.0.2] startup\n",
      "[1.454s] [ext: omni.renderer-rtx-0.0.0] startup\n",
      "[1.455s] [ext: omni.kit.widget.graph-1.4.2] startup\n",
      "[1.463s] [ext: omni.kit.widget.filebrowser-2.2.26] startup\n",
      "[1.471s] [ext: omni.kit.window.popup_dialog-2.0.7] startup\n",
      "[1.477s] [ext: omni.mdl.neuraylib-0.1.0] startup\n",
      "[1.481s] [ext: omni.kit.widget.path_field-2.0.3] startup\n",
      "[1.482s] [ext: omni.kit.widget.versioning-1.3.8] startup\n",
      "[1.486s] [ext: omni.kit.notification_manager-1.0.5] startup\n",
      "[1.488s] [ext: omni.kit.widget.browser_bar-2.0.3] startup\n",
      "[1.490s] [ext: omni.kit.menu.utils-1.2.11] startup\n",
      "[1.501s] [ext: omni.kit.window.filepicker-2.4.29] startup\n"
     ]
    },
    {
     "name": "stderr",
     "output_type": "stream",
     "text": [
      "OmniAssetFileFormat\n",
      "2022-07-26 17:41:24 [1,908ms] [Error] [rtx.neuraylib.plugin] [DYNLIB:IO]   0.1   DYNLIB io   error: /home/yizhou/.local/share/ov/pkg/isaac_sim-2022.1.0/kit/python/bin/libs/iray/libnvindex.so: cannot open shared object file: No such file or directory\n",
      "2022-07-26 17:41:24 [1,908ms] [Error] [rtx.neuraylib.plugin] [INDEX:MAIN]   0.1   INDEX  main error: Failed to load /home/yizhou/.local/share/ov/pkg/isaac_sim-2022.1.0/kit/python/bin/libs/iray/libnvindex.so\n"
     ]
    },
    {
     "name": "stdout",
     "output_type": "stream",
     "text": [
      "[1.556s] [ext: omni.mdl-0.1.0] startup\n",
      "[1.577s] [ext: omni.kit.menu.create-1.0.2] startup\n",
      "[1.579s] [ext: omni.kit.window.file_exporter-1.0.4] startup\n",
      "[1.580s] [ext: omni.kit.window.drop_support-1.0.0] startup\n",
      "[1.581s] [ext: omni.kit.material.library-1.3.10] startup\n",
      "[1.584s] [ext: omni.kit.window.property-1.6.3] startup\n",
      "[1.586s] [ext: omni.kit.context_menu-1.3.9] startup\n",
      "[1.590s] [ext: omni.kit.window.file_importer-1.0.4] startup\n",
      "[1.591s] [ext: omni.kit.stage_templates-1.1.2] startup\n",
      "[1.594s] [ext: omni.kit.widget.stage-2.6.15] startup\n",
      "[1.599s] [ext: omni.kit.window.file-1.3.16] startup\n",
      "[1.602s] [ext: omni.debugdraw-0.1.0] startup\n",
      "[1.608s] [ext: omni.kit.window.content_browser-2.4.28] startup\n",
      "[1.620s] [ext: omni.kit.widget.prompt-1.0.1] startup\n",
      "[1.621s] [ext: omni.kit.property.usd-3.14.8] startup\n",
      "[1.666s] [ext: omni.hydra.engine.stats-1.0.0] startup\n",
      "[1.673s] [ext: omni.kit.widget.settings-1.0.0] startup\n",
      "[1.675s] [ext: omni.graph.tools-1.3.5] startup\n",
      "[1.708s] [ext: omni.graph.core-2.27.0] startup\n",
      "[1.712s] [ext: omni.hydra.rtx-0.1.0] startup\n",
      "[1.722s] [ext: omni.kit.viewport.legacy_gizmos-1.0.0] startup\n",
      "[1.725s] [ext: omni.ui_query-1.1.1] startup\n",
      "[1.727s] [ext: omni.graph-1.22.1] startup\n",
      "[1.827s] [ext: omni.kit.window.viewport-0.0.0] startup\n",
      "Warp initialized:\n",
      "   Version: 0.2.1\n",
      "   Using CUDA device: NVIDIA GeForce RTX 3090\n",
      "   Using CPU compiler: /usr/bin/g++\n",
      "[2.703s] [ext: omni.kit.window.preferences-1.2.1] startup\n",
      "[2.741s] [ext: omni.kit.ui_test-1.2.0] startup\n",
      "[2.743s] [ext: omni.graph.ui-1.6.1] startup\n",
      "[2.766s] [ext: omni.kvdb-0.0.0] startup\n",
      "[2.784s] [ext: omni.kit.widget.searchfield-1.0.6] startup\n",
      "[2.786s] [ext: omni.convexdecomposition-1.4.12] startup\n",
      "[2.790s] [ext: omni.graph.action-1.17.0] startup\n",
      "[2.802s] [ext: omni.localcache-0.0.0] startup\n",
      "[2.806s] [ext: omni.usdphysics-1.4.12] startup\n",
      "[2.810s] [ext: omni.graph.scriptnode-0.5.0] startup\n",
      "[2.812s] [ext: omni.physx-1.4.12-5.1] startup\n",
      "2022-07-26 17:41:25 [2,820ms] [Warning] [omni.kvdb.plugin] wasn't able to load the meta database, trying to repair it ...\n",
      "2022-07-26 17:41:25 [2,882ms] [Warning] [omni.kvdb.plugin] repair failed\n",
      "[2.889s] [ext: omni.kit.usd_undo-0.1.0] startup\n",
      "[2.891s] [ext: omni.graph.nodes-1.25.0] startup\n",
      "[2.908s] [ext: omni.physx.commands-1.4.12-5.1] startup\n",
      "[2.914s] [ext: omni.syntheticdata-0.2.1] startup\n",
      "[2.950s] [ext: omni.physx.ui-1.4.12-5.1] startup\n",
      "[3.038s] [ext: omni.warp-0.2.1] startup\n",
      "[4.862s] [ext: omni.kit.renderer.capture-0.0.0] startup\n",
      "[4.866s] [ext: omni.kit.property.material-1.8.5] startup\n",
      "[4.869s] [ext: omni.physx.demos-1.4.12-5.1] startup\n",
      "[4.886s] [ext: omni.physics.tensors-0.1.0] startup\n",
      "[4.895s] [ext: omni.kit.property.physx-0.1.0] startup\n",
      "2022-07-26 17:41:27 [4,959ms] [Warning] [omni.physx.plugin] Deprecated: getSimulationEventStream is deprecated, please use getSimulationEventStreamV2\n",
      "[4.967s] [ext: omni.kit.window.toolbar-1.2.4] startup\n",
      "[4.976s] [ext: omni.physx.tensors-0.1.0] startup\n",
      "[4.983s] [ext: omni.physx.vehicle-1.4.12-5.1] startup\n",
      "[4.997s] [ext: omni.physx.tests-1.4.12-5.1] startup\n",
      "[5.056s] [ext: omni.kit.numpy.common-0.1.0] startup\n",
      "[5.059s] [ext: omni.physx.camera-1.4.12-5.1] startup\n",
      "[5.066s] [ext: omni.physx.cct-1.4.12-5.1] startup\n",
      "[5.134s] [ext: omni.isaac.version-1.0.0] startup\n",
      "[5.135s] [ext: omni.isaac.dynamic_control-1.0.0] startup\n",
      "[5.143s] [ext: omni.physx.bundle-1.4.12-5.1] startup\n",
      "[5.143s] [ext: omni.kit.primitive.mesh-1.0.0] startup\n",
      "[5.147s] [ext: omni.command.usd-1.0.1] startup\n",
      "[5.150s] [ext: omni.isaac.core-1.15.1] startup\n",
      "[5.383s] [ext: omni.replicator.core-1.2.0] startup\n",
      "[5.482s] [ext: omni.kit.window.extensions-1.1.0] startup\n",
      "[5.488s] [ext: omni.isaac.core_nodes-0.9.0] startup\n",
      "[5.498s] [ext: omni.isaac.ui-0.2.1] startup\n",
      "[5.500s] [ext: omni.kit.window.script_editor-1.6.2] startup\n",
      "[5.508s] [ext: omni.isaac.wheeled_robots-0.5.4] startup\n",
      "[5.518s] [ext: omni.kit.menu.common-1.0.0] startup\n",
      "[5.520s] [ext: omni.kit.graph.delegate.default-1.0.15] startup\n",
      "[5.522s] [ext: omni.kit.graph.delegate.modern-1.6.0] startup\n",
      "[5.524s] [ext: omni.kit.widget.zoombar-1.0.3] startup\n",
      "[5.525s] [ext: omni.kit.graph.editor.core-1.3.3] startup\n",
      "[5.528s] [ext: omni.kit.widget.stage_icons-1.0.2] startup\n",
      "[5.529s] [ext: omni.kit.browser.core-2.0.12] startup\n",
      "[5.534s] [ext: omni.kit.graph.widget.variables-2.0.2] startup\n",
      "[5.535s] [ext: omni.kit.window.stage-2.3.7] startup\n",
      "[5.538s] [ext: omni.kit.browser.folder.core-1.1.13] startup\n",
      "[5.541s] [ext: omni.graph.window.core-1.22.1] startup\n",
      "[5.547s] [ext: omni.isaac.lula-1.1.0] startup\n",
      "[5.557s] [ext: omni.graph.instancing-1.1.4] startup\n",
      "[5.563s] [ext: omni.graph.window.action-1.3.8] startup\n",
      "[5.564s] [ext: omni.graph.tutorials-1.1.2] startup\n",
      "[5.579s] [ext: omni.rtx.window.settings-0.6.1] startup\n",
      "[5.585s] [ext: omni.isaac.motion_planning-0.2.0] startup\n",
      "[5.593s] [ext: omni.graph.bundle.action-1.0.0] startup\n",
      "[5.593s] [ext: omni.rtx.settings.core-0.5.5] startup\n",
      "[5.598s] [ext: omni.isaac.motion_generation-3.1.2] startup\n",
      "[5.602s] [ext: omni.isaac.kit-0.1.9] startup\n",
      "[5.603s] [ext: omni.isaac.debug_draw-0.1.2] startup\n",
      "[5.609s] [ext: omni.kit.selection-0.1.0] startup\n",
      "[5.610s] [ext: omni.isaac.franka-0.0.0] startup\n",
      "[5.611s] [ext: omni.kit.widget.layers-1.5.17] startup\n",
      "[5.625s] [ext: omni.kit.menu.edit-1.0.6] startup\n",
      "[5.626s] [ext: omni.isaac.isaac_sensor-0.3.4] startup\n",
      "2022-07-26 17:41:28 [5,626ms] [Warning] [omni.physx.plugin] Deprecated: getSimulationEventStream is deprecated, please use getSimulationEventStreamV2\n",
      "[5.634s] [ext: omni.kit.widget.live-0.1.0] startuOpening usd file at  omniverse://localhost/Users/yizhou/test_hand2.usd  ...Done.\n",
      "Saving a temp livesync stage at  omniverse://localhost/Users/yizhou/test_hand2.usd  ...Done.\n"
     ]
    }
   ],
   "source": [
    "from omni.isaac.kit import SimulationApp\n",
    "\n",
    "usd_path = f\"omniverse://localhost/Users/{user}/test_hand2.usd\"\n",
    "\n",
    "\n",
    "simulation_app = SimulationApp({\"headless\": True, \"open_usd\": usd_path, \"livesync_usd\": usd_path})\n"
   ]
  },
  {
   "cell_type": "code",
   "execution_count": 6,
   "id": "3aff0818",
   "metadata": {},
   "outputs": [],
   "source": [
    "from omni.isaac.core import World\n",
    "world = World()"
   ]
  },
  {
   "cell_type": "code",
   "execution_count": 7,
   "id": "d27954ee",
   "metadata": {},
   "outputs": [],
   "source": [
    "from hand_env import HandEnv\n",
    "\n",
    "# env = HandEnv(\"/World/Hand/Bones/l_carpal_mid\", \"/World/Hand*/Bones/l_thumbSkeleton_grp/l_distalThumb_mid\")\n",
    "env = HandEnv(\"/World/Hand*\", \"/World/Hand*/Bones/l_thumbSkeleton_grp/l_distalThumb_mid\")"
   ]
  },
  {
   "cell_type": "code",
   "execution_count": 8,
   "id": "fb44f999",
   "metadata": {},
   "outputs": [
    {
     "name": "stdout",
     "output_type": "stream",
     "text": [
      "p\n",
      "[5.639s] [ext: omni.isaac.surface_gripper-0.1.2] startup\n",
      "[5.644s] [ext: omni.kit.property.layer-1.1.2] startup\n",
      "[5.646s] [ext: omni.isaac.range_sensor-0.4.2] startup\n",
      "[5.674s] [ext: omni.graph.window.generic-1.3.8] startup\n",
      "[5.675s] [ext: omni.isaac.utils-0.1.11] startup\n",
      "[5.679s] [ext: omni.isaac.universal_robots-0.2.1] startup\n",
      "[5.680s] [ext: omni.kit.property.audio-1.0.5] startup\n",
      "[5.681s] [ext: omni.kit.property.skel-1.0.1] startup\n",
      "[5.683s] [ext: omni.kit.property.render-1.1.0] startup\n",
      "[5.684s] [ext: omni.kit.property.camera-1.0.3] startup\n",
      "[5.685s] [ext: omni.kit.property.geometry-1.2.0] startup\n",
      "[5.687s] [ext: omni.kit.property.light-1.0.5] startup\n",
      "[5.688s] [ext: omni.kit.property.transform-1.0.2] startup\n",
      "[5.691s] [ext: omni.isaac.occupancy_map-0.2.4] startup\n",
      "[5.705s] [ext: omni.ui.scene-1.4.6] startup\n",
      "[5.711s] [ext: omni.kit.window.console-0.2.0] startup\n",
      "[5.718s] [ext: omni.kit.window.status_bar-0.1.1] startup\n",
      "[5.722s] [ext: omni.kit.property.bundle-1.2.4] startup\n",
      "[5.724s] [ext: omni.kit.menu.file-1.0.8] startup\n",
      "[5.725s] [ext: omni.kit.manipulator.viewport-1.0.6] startup\n",
      "[5.728s] [ext: omni.isaac.urdf-0.2.2] startup\n",
      "[5.757s] [ext: omni.isaac.dofbot-0.2.0] startup\n",
      "[5.758s] [ext: omni.kit.window.title-1.1.1] startup\n",
      "[5.759s] [ext: omni.kit.profiler.window-1.4.4] startup\n",
      "[5.762s] [ext: omni.graph.visualization.nodes-1.1.1] startup\n",
      "[5.766s] [ext: omni.isaac.synthetic_utils-0.2.1] startup\n",
      "[5.772s] [ext: semantics.schema.editor-0.2.2] startup\n",
      "[5.776s] [ext: omni.isaac.sim.python-2022.1.0] startup\n",
      "[5.777s] Simulation App Starting\n",
      "2022-07-26 17:41:29 [6,361ms] [Warning] [omni.usd] Default value for render setting \"/rtx/shaderDb/cachePermutationIndex\" not found\n",
      "2022-07-26 17:41:29 [6,361ms] [Warning] [omni.usd] Default value for render setting \"/rtx/resourcemanager/uploadPooledBuffers/framesToEvict\" not found\n",
      "2022-07-26 17:41:29 [6,361ms] [Warning] [omni.usd] Default value for render setting \"/rtx/resourcemanager/uploadPooledBuffers/uploadSize\" not found\n",
      "2022-07-26 17:41:29 [6,361ms] [Warning] [omni.usd] Default value for render setting \"/rtx/pathtracing/nrc/canRun\" not found\n",
      "[12.769s] app ready\n",
      "[12.873s] Simulation App Startup Complete\n",
      "2022-07-26 17:41:36 [13,170ms] [Warning] [carb.flatcache.plugin] Type tag does not have a corresponding USD type\n"
     ]
    }
   ],
   "source": [
    "world.reset()"
   ]
  },
  {
   "cell_type": "code",
   "execution_count": 9,
   "id": "f02ced53",
   "metadata": {},
   "outputs": [
    {
     "name": "stdout",
     "output_type": "stream",
     "text": [
      "simlation context numpy None\n",
      "num_envs 1\n"
     ]
    },
    {
     "data": {
      "text/plain": [
       "<omni.isaac.core.robots.robot_view.RobotView at 0x7f081c046310>"
      ]
     },
     "execution_count": 9,
     "metadata": {},
     "output_type": "execute_result"
    }
   ],
   "source": [
    "env.start()\n",
    "world.scene.add(env.robots)"
   ]
  },
  {
   "cell_type": "code",
   "execution_count": 70,
   "id": "92035e73",
   "metadata": {},
   "outputs": [],
   "source": [
    "hand_pos, hand_rot = env.robots.get_world_poses()"
   ]
  },
  {
   "cell_type": "code",
   "execution_count": 72,
   "id": "1cffc3fd",
   "metadata": {},
   "outputs": [],
   "source": [
    "hand_pos[...,0] += 10"
   ]
  },
  {
   "cell_type": "code",
   "execution_count": 73,
   "id": "09d6801e",
   "metadata": {},
   "outputs": [
    {
     "data": {
      "text/plain": [
       "array([[ 1.1000001e+01, -9.5367432e-07,  7.1525574e-07]], dtype=float32)"
      ]
     },
     "execution_count": 73,
     "metadata": {},
     "output_type": "execute_result"
    }
   ],
   "source": [
    "hand_pos"
   ]
  },
  {
   "cell_type": "code",
   "execution_count": 74,
   "id": "0f15da5f",
   "metadata": {},
   "outputs": [],
   "source": [
    "env.robots.set_world_poses(hand_pos, hand_rot)"
   ]
  },
  {
   "cell_type": "code",
   "execution_count": 65,
   "id": "1efb9e68",
   "metadata": {},
   "outputs": [],
   "source": [
    "# pos = np.array([[ 0.5, -0., 0.5]], dtype=np.float32)\n",
    "# env.robots.set_world_poses(positions=pos)"
   ]
  },
  {
   "cell_type": "code",
   "execution_count": 78,
   "id": "aae1ed28",
   "metadata": {},
   "outputs": [],
   "source": [
    "world.reset()"
   ]
  },
  {
   "cell_type": "code",
   "execution_count": 80,
   "id": "cceb2955",
   "metadata": {},
   "outputs": [],
   "source": [
    "world.step(render=True)"
   ]
  },
  {
   "cell_type": "code",
   "execution_count": 81,
   "id": "df588905",
   "metadata": {},
   "outputs": [
    {
     "data": {
      "text/plain": [
       "array([[ 9.4866209e-06, -1.6463640e-05,  2.3469307e-05, -2.3274793e-06,\n",
       "         2.5486603e-05, -1.5733254e-06,  2.1189167e-05,  1.1389776e-05,\n",
       "         2.5035077e-05,  7.2182451e-07, -5.4054559e-05, -1.2985406e-05,\n",
       "        -6.3140046e-06,  3.1785476e-05,  2.0590605e-07, -1.0324828e-06,\n",
       "        -1.9084757e-07, -9.5530041e-08,  2.9557515e-07, -1.8841829e-11]],\n",
       "      dtype=float32)"
      ]
     },
     "execution_count": 81,
     "metadata": {},
     "output_type": "execute_result"
    }
   ],
   "source": [
    "env.robots.get_joint_positions()"
   ]
  },
  {
   "cell_type": "code",
   "execution_count": 87,
   "id": "ebeb74ce",
   "metadata": {},
   "outputs": [
    {
     "data": {
      "text/plain": [
       "[['/World/Hand/Bones/l_thumbSkeleton_grp/l_metacarpalThumb_mid/Thumb_metacarpal_D6DriverJoint',\n",
       "  '/World/Hand/Bones/l_thumbSkeleton_grp/l_metacarpalThumb_mid/Thumb_metacarpal_D6DriverJoint',\n",
       "  '/World/Hand/Bones/l_indexSkeleton_grp/l_proximalIndex_mid/Index_proximal_D6DriverJoint',\n",
       "  '/World/Hand/Bones/l_indexSkeleton_grp/l_proximalIndex_mid/Index_proximal_D6DriverJoint',\n",
       "  '/World/Hand/Bones/l_middleSkeleton_grp/l_proximalMiddle_mid/Middle_proximal_D6DriverJoint',\n",
       "  '/World/Hand/Bones/l_middleSkeleton_grp/l_proximalMiddle_mid/Middle_proximal_D6DriverJoint',\n",
       "  '/World/Hand/Bones/l_pinkySkeleton_grp/l_proximalPinky_mid/Pinky_proximal_D6DriverJoint',\n",
       "  '/World/Hand/Bones/l_pinkySkeleton_grp/l_proximalPinky_mid/Pinky_proximal_D6DriverJoint',\n",
       "  '/World/Hand/Bones/l_ringSkeleton_grp/l_proximalRing_mid/Ring_proximal_D6DriverJoint',\n",
       "  '/World/Hand/Bones/l_ringSkeleton_grp/l_proximalRing_mid/Ring_proximal_D6DriverJoint',\n",
       "  '/World/Hand/Bones/l_thumbSkeleton_grp/l_proximalThumb_mid/Thumb_proximal_RevoluteJoint',\n",
       "  '/World/Hand/Bones/l_indexSkeleton_grp/l_middleIndex_mid/Index_middle_RevoluteJoint',\n",
       "  '/World/Hand/Bones/l_middleSkeleton_grp/l_middleMiddle_mid/Middle_middle_RevoluteJoint',\n",
       "  '/World/Hand/Bones/l_pinkySkeleton_grp/l_middlePinky_mid/Pinky_middle_RevoluteJoint',\n",
       "  '/World/Hand/Bones/l_ringSkeleton_grp/l_middleRing_mid/Ring_middle_RevoluteJoint',\n",
       "  '/World/Hand/Bones/l_thumbSkeleton_grp/l_distalThumb_mid/Thumb_distal_RevoluteJoint',\n",
       "  '/World/Hand/Bones/l_indexSkeleton_grp/l_distalIndex_mid/Index_distal_RevoluteJoint',\n",
       "  '/World/Hand/Bones/l_middleSkeleton_grp/l_distalMiddle_mid/Middle_distal_RevoluteJoint',\n",
       "  '/World/Hand/Bones/l_pinkySkeleton_grp/l_distalPinky_mid/Pinky_distal_RevoluteJoint',\n",
       "  '/World/Hand/Bones/l_ringSkeleton_grp/l_distalRing_mid/Ring_distal_RevoluteJoint']]"
      ]
     },
     "execution_count": 87,
     "metadata": {},
     "output_type": "execute_result"
    }
   ],
   "source": [
    "env.robots._physics_view.dof_paths"
   ]
  },
  {
   "cell_type": "code",
   "execution_count": 16,
   "id": "f2fc383e",
   "metadata": {},
   "outputs": [
    {
     "ename": "NameError",
     "evalue": "name 'pause' is not defined",
     "output_type": "error",
     "traceback": [
      "\u001b[0;31m---------------------------------------------------------------------------\u001b[0m",
      "\u001b[0;31mNameError\u001b[0m                                 Traceback (most recent call last)",
      "\u001b[0;32m/tmp/ipykernel_15995/1188747208.py\u001b[0m in \u001b[0;36m<module>\u001b[0;34m\u001b[0m\n\u001b[0;32m----> 1\u001b[0;31m \u001b[0mpause\u001b[0m\u001b[0;34m\u001b[0m\u001b[0;34m\u001b[0m\u001b[0m\n\u001b[0m",
      "\u001b[0;31mNameError\u001b[0m: name 'pause' is not defined"
     ]
    }
   ],
   "source": [
    "pause"
   ]
  },
  {
   "cell_type": "code",
   "execution_count": 90,
   "id": "700c148d",
   "metadata": {},
   "outputs": [],
   "source": [
    "import time"
   ]
  },
  {
   "cell_type": "code",
   "execution_count": 107,
   "id": "6cc68ac7",
   "metadata": {},
   "outputs": [],
   "source": [
    "for i in range(20):\n",
    "    pos = np.array([\n",
    "        [ 0,  0, \n",
    "          i * 0.01,  0,  \n",
    "          0, 0, \n",
    "         -i * 0.02, 0,  \n",
    "         -i * 0.01, 0,  \n",
    "         -i * 0.03,  -i * 0.03,  -i * 0.03,  -i * 0.03,  -i * 0.05,\n",
    "          -i * 0.03,  -i * 0.03,  -i * 0.03,  -i * 0.03,  -i * 0.05, \n",
    "        ],\n",
    "    ])\n",
    "\n",
    "    # pos = np.random.randn(2,25)\n",
    "    time.sleep(0.2)\n",
    "    env.robots.set_joint_positions(pos) # \n",
    "    world.step(render=True)"
   ]
  },
  {
   "cell_type": "code",
   "execution_count": 89,
   "id": "88c10aa8",
   "metadata": {},
   "outputs": [
    {
     "data": {
      "text/plain": [
       "array([[ 1.1039621e-05, -1.7362234e-05,  2.3441187e-05, -2.4588705e-06,\n",
       "         2.4485584e-05, -1.5477821e-06,  2.1189167e-05,  1.1389776e-05,\n",
       "         2.4589272e-05,  1.0380746e-06, -5.6652239e-05, -1.2629806e-05,\n",
       "        -5.8826831e-06,  3.1803011e-05,  5.6256494e-07, -1.0819101e-06,\n",
       "        -1.8555318e-07, -8.8853412e-08,  2.9574633e-07,  5.1813820e-09]],\n",
       "      dtype=float32)"
      ]
     },
     "execution_count": 89,
     "metadata": {},
     "output_type": "execute_result"
    }
   ],
   "source": [
    "env.robots.get_joint_positions()"
   ]
  },
  {
   "cell_type": "code",
   "execution_count": null,
   "id": "2df37b80",
   "metadata": {},
   "outputs": [],
   "source": [
    "joint_v = np.array([[\n",
    "     1,  0,  \n",
    "     0., 0.,\n",
    "     0., 0., \n",
    "     0., 0., \n",
    "     0., 0., \n",
    "     0, 0, 0, 0, 0,\n",
    "     0, 0, 0, 0, 0\n",
    "]]).transpose()"
   ]
  },
  {
   "cell_type": "code",
   "execution_count": null,
   "id": "1855870e",
   "metadata": {},
   "outputs": [],
   "source": [
    "joint_v.shape"
   ]
  },
  {
   "cell_type": "code",
   "execution_count": null,
   "id": "c04785df",
   "metadata": {},
   "outputs": [],
   "source": [
    "jacobians = env.robots._physics_view.get_jacobians()"
   ]
  },
  {
   "cell_type": "code",
   "execution_count": null,
   "id": "bde70965",
   "metadata": {},
   "outputs": [],
   "source": [
    "jacobians.shape"
   ]
  },
  {
   "cell_type": "code",
   "execution_count": null,
   "id": "1b0e8897",
   "metadata": {},
   "outputs": [],
   "source": [
    "delta_pos_rot = np.matmul(jacobians[0], joint_v)\n",
    "for i in range(len(delta_pos_rot)):\n",
    "    print(i, delta_pos_rot[i].transpose())"
   ]
  },
  {
   "cell_type": "markdown",
   "id": "e016275a",
   "metadata": {},
   "source": [
    "# Jacobian"
   ]
  },
  {
   "cell_type": "code",
   "execution_count": 17,
   "id": "02c717c1",
   "metadata": {},
   "outputs": [],
   "source": [
    "world.reset()\n",
    "world.step(render=True)"
   ]
  },
  {
   "cell_type": "code",
   "execution_count": 18,
   "id": "3b275bac",
   "metadata": {
    "scrolled": true
   },
   "outputs": [],
   "source": [
    "thumb_pos, thumb_rot = env.xforms.get_world_poses()"
   ]
  },
  {
   "cell_type": "code",
   "execution_count": 19,
   "id": "4f30d1be",
   "metadata": {},
   "outputs": [],
   "source": [
    "thumb_rot = thumb_rot[:,[1,2,3,0]] # WXYZ -> XYZW"
   ]
  },
  {
   "cell_type": "code",
   "execution_count": 20,
   "id": "72a7144e",
   "metadata": {
    "scrolled": true
   },
   "outputs": [
    {
     "data": {
      "text/plain": [
       "(array([[-3.120222 , -1.1239259,  2.802331 ]], dtype=float32),\n",
       " array([[-0.15511908, -0.16415861, -0.23857737,  0.944495  ]],\n",
       "       dtype=float32))"
      ]
     },
     "execution_count": 20,
     "metadata": {},
     "output_type": "execute_result"
    }
   ],
   "source": [
    "thumb_pos, thumb_rot"
   ]
  },
  {
   "cell_type": "code",
   "execution_count": 21,
   "id": "87ac4179",
   "metadata": {},
   "outputs": [],
   "source": [
    "target_pos = thumb_pos.copy()#np.array([[-0.37809137,  -0.3650283  , 0.05804292]])"
   ]
  },
  {
   "cell_type": "code",
   "execution_count": 44,
   "id": "95796511",
   "metadata": {},
   "outputs": [],
   "source": [
    "target_pos[...,1] -= 0.5"
   ]
  },
  {
   "cell_type": "code",
   "execution_count": 48,
   "id": "74d84dbd",
   "metadata": {},
   "outputs": [
    {
     "data": {
      "text/plain": [
       "array([[-3.120222 , -1.1239259,  2.802331 ]])"
      ]
     },
     "execution_count": 48,
     "metadata": {},
     "output_type": "execute_result"
    }
   ],
   "source": [
    "target_pos"
   ]
  },
  {
   "cell_type": "code",
   "execution_count": 50,
   "id": "6ac050b7",
   "metadata": {},
   "outputs": [
    {
     "name": "stdout",
     "output_type": "stream",
     "text": [
      "finger_pos [[-2.8123133 -0.7832121  3.0709372]]\n",
      "finger_pos [[-2.8148513 -0.786094   3.0695825]]\n",
      "finger_pos [[-2.8173532 -0.788942   3.068221 ]]\n",
      "finger_pos [[-2.8198357 -0.7917575  3.0668638]]\n",
      "finger_pos [[-2.8222854  -0.79454076  3.0655103 ]]\n",
      "finger_pos [[-2.8247192 -0.7972913  3.0641656]]\n",
      "finger_pos [[-2.8271196  -0.80001235  3.0628183 ]]\n",
      "finger_pos [[-2.8294964 -0.8027027  3.0614698]]\n",
      "finger_pos [[-2.8318439  -0.80536157  3.0601273 ]]\n",
      "finger_pos [[-2.8341737  -0.80799246  3.0587866 ]]\n",
      "finger_pos [[-2.836484   -0.81059486  3.0574527 ]]\n",
      "finger_pos [[-2.8387663 -0.8131686  3.056119 ]]\n",
      "finger_pos [[-2.8410206 -0.8157097  3.054789 ]]\n",
      "finger_pos [[-2.8432565 -0.8182303  3.0534601]]\n",
      "finger_pos [[-2.8454633  -0.82071954  3.05213   ]]\n",
      "finger_pos [[-2.8476524 -0.8231852  3.0508063]]\n",
      "finger_pos [[-2.8498228  -0.82562536  3.0494866 ]]\n",
      "finger_pos [[-2.851977   -0.82804275  3.0481741 ]]\n",
      "finger_pos [[-2.8541076  -0.83043104  3.04686   ]]\n",
      "finger_pos [[-2.8562143  -0.83279806  3.0455449 ]]\n",
      "finger_pos [[-2.858304  -0.8351379  3.0442414]]\n",
      "finger_pos [[-2.8603802 -0.8374533  3.0429482]]\n",
      "finger_pos [[-2.862434  -0.8397489  3.0416524]]\n",
      "finger_pos [[-2.864467  -0.8420129  3.040359 ]]\n",
      "finger_pos [[-2.8664849  -0.84426606  3.039067  ]]\n",
      "finger_pos [[-2.8684807 -0.8464898  3.037776 ]]\n",
      "finger_pos [[-2.8704576 -0.8486942  3.0364914]]\n",
      "finger_pos [[-2.8724117 -0.8508729  3.0352082]]\n",
      "finger_pos [[-2.8743503 -0.8530358  3.0339298]]\n",
      "finger_pos [[-2.8762813 -0.8551777  3.0326614]]\n",
      "finger_pos [[-2.8781905  -0.85729575  3.0313964 ]]\n",
      "finger_pos [[-2.880086   -0.85939664  3.0301318 ]]\n",
      "finger_pos [[-2.8819656 -0.8614833  3.0288644]]\n",
      "finger_pos [[-2.883828   -0.86354995  3.027601  ]]\n",
      "finger_pos [[-2.8856816  -0.86559945  3.0263414 ]]\n",
      "finger_pos [[-2.8875132 -0.8676314  3.0250883]]\n",
      "finger_pos [[-2.889338  -0.8696451  3.0238404]]\n",
      "finger_pos [[-2.8911438  -0.87163985  3.0225894 ]]\n",
      "finger_pos [[-2.8929358 -0.8736175  3.021345 ]]\n",
      "finger_pos [[-2.8947186 -0.875578   3.0201054]]\n",
      "finger_pos [[-2.896486  -0.8775264  3.018869 ]]\n",
      "finger_pos [[-2.898239  -0.879454   3.0176408]]\n",
      "finger_pos [[-2.8999784 -0.8813607  3.016417 ]]\n",
      "finger_pos [[-2.901708   -0.88325703  3.0151892 ]]\n",
      "finger_pos [[-2.9034195  -0.88513947  3.0139666 ]]\n",
      "finger_pos [[-2.90513    -0.88700545  3.0127482 ]]\n",
      "finger_pos [[-2.9068213 -0.8888579  3.011531 ]]\n",
      "finger_pos [[-2.9084978  -0.89069265  3.0103137 ]]\n",
      "finger_pos [[-2.9101715  -0.89251626  3.0091052 ]]\n",
      "finger_pos [[-2.9118218  -0.89432144  3.0078974 ]]\n",
      "finger_pos [[-2.9134674 -0.8961159  3.0066931]]\n",
      "finger_pos [[-2.9150996 -0.8978982  3.0054932]]\n",
      "finger_pos [[-2.9167247  -0.89966327  3.0042984 ]]\n",
      "finger_pos [[-2.9183388  -0.90141964  3.003106  ]]\n",
      "finger_pos [[-2.9199357  -0.90316045  3.0019128 ]]\n",
      "finger_pos [[-2.921526   -0.90488535  3.0007288 ]]\n",
      "finger_pos [[-2.9231067  -0.90660167  2.9995418 ]]\n",
      "finger_pos [[-2.9246807 -0.9083059  2.9983602]]\n",
      "finger_pos [[-2.9262366 -0.9100005  2.9971764]]\n",
      "finger_pos [[-2.927789   -0.91168016  2.995998  ]]\n",
      "finger_pos [[-2.9293284 -0.9133508  2.994819 ]]\n",
      "finger_pos [[-2.9308605  -0.91500705  2.993647  ]]\n",
      "finger_pos [[-2.932382  -0.9166557  2.9924786]]\n",
      "finger_pos [[-2.9339013  -0.91829216  2.9913132 ]]\n",
      "finger_pos [[-2.9354122 -0.9199157  2.9901488]]\n",
      "finger_pos [[-2.936911  -0.9215319  2.9889884]]\n",
      "finger_pos [[-2.9384012  -0.92313814  2.9878268 ]]\n",
      "finger_pos [[-2.9398766 -0.9247362  2.9866655]]\n",
      "finger_pos [[-2.941344  -0.9263219  2.9855082]]\n",
      "finger_pos [[-2.9428058  -0.92789626  2.984351  ]]\n",
      "finger_pos [[-2.9442651 -0.9294636  2.9831991]]\n",
      "finger_pos [[-2.9457185  -0.93102455  2.98205   ]]\n",
      "finger_pos [[-2.94716   -0.9325729  2.9809024]]\n",
      "finger_pos [[-2.9485972 -0.9341143  2.9797583]]\n",
      "finger_pos [[-2.9500237 -0.9356458  2.9786136]]\n",
      "finger_pos [[-2.9514437  -0.93716604  2.9774706 ]]\n",
      "finger_pos [[-2.9528568  -0.93867666  2.976335  ]]\n",
      "finger_pos [[-2.954266  -0.9401816  2.9751973]]\n",
      "finger_pos [[-2.9556665  -0.94167805  2.97406   ]]\n",
      "finger_pos [[-2.9570615  -0.94316417  2.9729242 ]]\n",
      "finger_pos [[-2.9584534 -0.9446468  2.9717948]]\n",
      "finger_pos [[-2.959836   -0.94611865  2.970666  ]]\n",
      "finger_pos [[-2.9612098 -0.9475837  2.9695373]]\n",
      "finger_pos [[-2.9625711  -0.94903857  2.9684072 ]]\n",
      "finger_pos [[-2.9639273  -0.95048624  2.9672818 ]]\n",
      "finger_pos [[-2.9652758  -0.95192575  2.966152  ]]\n",
      "finger_pos [[-2.9666226  -0.95335954  2.9650302 ]]\n",
      "finger_pos [[-2.9679635 -0.9547873  2.9639075]]\n",
      "finger_pos [[-2.9692984  -0.95620495  2.9627888 ]]\n",
      "finger_pos [[-2.9706302 -0.9576176  2.961671 ]]\n",
      "finger_pos [[-2.9719584  -0.95902723  2.9605584 ]]\n",
      "finger_pos [[-2.9732761  -0.96042216  2.959444  ]]\n",
      "finger_pos [[-2.974595  -0.9618181  2.9583325]]\n",
      "finger_pos [[-2.9759073 -0.9632048  2.9572234]]\n",
      "finger_pos [[-2.977206  -0.9645816  2.9561129]]\n",
      "finger_pos [[-2.9784975  -0.96594834  2.9550035 ]]\n",
      "finger_pos [[-2.9797926  -0.96731526  2.953897  ]]\n",
      "finger_pos [[-2.9810774  -0.96867186  2.9527922 ]]\n",
      "finger_pos [[-2.9823592  -0.97002584  2.9516878 ]]\n",
      "finger_pos [[-2.983633  -0.9713731  2.950585 ]]\n",
      "Not Done rotation, position [[-2.983633  -0.9713731  2.950585 ]] [[-0.17778738 -0.15363373 -0.23072284  0.94422203]]\n"
     ]
    }
   ],
   "source": [
    "env.move_finger_to_fast(target_pos, thumb_rot, world, finger = \"thumb\")"
   ]
  },
  {
   "cell_type": "code",
   "execution_count": null,
   "id": "65535ac5",
   "metadata": {},
   "outputs": [],
   "source": [
    "target_pos = np.zeros((env.num_envs, 20)) \n",
    "# target_pos = np.random.randn(env.num_envs, 20) "
   ]
  },
  {
   "cell_type": "code",
   "execution_count": null,
   "id": "d4cc9209",
   "metadata": {},
   "outputs": [],
   "source": [
    "env.num_envs"
   ]
  },
  {
   "cell_type": "code",
   "execution_count": null,
   "id": "24ed2c85",
   "metadata": {},
   "outputs": [],
   "source": [
    "target_pos"
   ]
  },
  {
   "cell_type": "code",
   "execution_count": null,
   "id": "6a6c04b0",
   "metadata": {},
   "outputs": [],
   "source": [
    "for _ in range(100):\n",
    "    world.step(render=True)\n",
    "    thumb_pos, thumb_rot = env.xforms.get_world_poses()\n",
    "    env.robots.set_joint_position_targets(target_pos) \n",
    "    print(\"thumb_pos\", thumb_pos)"
   ]
  },
  {
   "cell_type": "code",
   "execution_count": null,
   "id": "51fc9e7e",
   "metadata": {},
   "outputs": [],
   "source": [
    "env.robots.get_joint_positions()"
   ]
  }
 ],
 "metadata": {
  "kernelspec": {
   "display_name": "Isaac Sim Python 3",
   "language": "python",
   "name": "isaac_sim_python3"
  },
  "language_info": {
   "codemirror_mode": {
    "name": "ipython",
    "version": 3
   },
   "file_extension": ".py",
   "mimetype": "text/x-python",
   "name": "python",
   "nbconvert_exporter": "python",
   "pygments_lexer": "ipython3",
   "version": "3.7.13"
  }
 },
 "nbformat": 4,
 "nbformat_minor": 5
}
