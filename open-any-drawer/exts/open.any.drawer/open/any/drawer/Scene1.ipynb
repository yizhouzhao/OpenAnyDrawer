{
 "cells": [
  {
   "cell_type": "code",
   "execution_count": 1,
   "id": "2cd03884",
   "metadata": {},
   "outputs": [],
   "source": [
    "import numpy as np\n",
    "\n",
    "import getpass\n",
    "user = getpass.getuser()"
   ]
  },
  {
   "cell_type": "code",
   "execution_count": 2,
   "id": "228fe8d0",
   "metadata": {},
   "outputs": [],
   "source": [
    "from PIL import Image"
   ]
  },
  {
   "cell_type": "code",
   "execution_count": 3,
   "id": "524db6c9",
   "metadata": {
    "scrolled": true
   },
   "outputs": [
    {
     "name": "stdout",
     "output_type": "stream",
     "text": [
      "Starting kit application with the fillowing args:  ['/home/yizhou/.local/share/ov/pkg/isaac_sim-2022.1.0/exts/omni.isaac.kit/omni/isaac/kit/simulation_app.py', '/home/yizhou/.local/share/ov/pkg/isaac_sim-2022.1.0/apps/omni.isaac.sim.python.kit', '--/app/tokens/exe-path=/home/yizhou/.local/share/ov/pkg/isaac_sim-2022.1.0/kit', '--/persistent/app/viewport/displayOptions=3094', '--/rtx/materialDb/syncLoads=True', '--/rtx/hydra/materialSyncLoads=True--/omni.kit.plugin/syncUsdLoads=True', '--/app/renderer/resolution/width=1280', '--/app/renderer/resolution/height=720', '--/app/window/width=1440', '--/app/window/height=900', '--/renderer/multiGpu/enabled=True', '--ext-folder', '/home/yizhou/.local/share/ov/pkg/isaac_sim-2022.1.0/exts', '--ext-folder', '/home/yizhou/.local/share/ov/pkg/isaac_sim-2022.1.0/apps', '--portable', '--no-window']\n",
      "Passing the following args to the base kit application:  ['-f', '/home/yizhou/.local/share/jupyter/runtime/kernel-f842a9cb-4659-4751-a5b7-7dee11be5ba6.json']\n",
      "[Warning] [omni.kit.app.plugin] No crash reporter present, dumps uploading isn't available.\n",
      "[Info] [carb] Logging to file: /home/yizhou/.local/share/ov/pkg/isaac_sim-2022.1.0/kit/logs/Kit/Isaac-Sim/2022.1/kit_20220825_101040.log\n",
      "[0.088s] [ext: omni.stats-0.0.0] startup\n",
      "[0.107s] [ext: omni.gpu_foundation-0.0.0] startup\n",
      "2022-08-25 17:10:40 [106ms] [Warning] [carb] FrameworkImpl::setDefaultPlugin(client: omni.gpu_foundation_factory.plugin, desc : [carb::graphics::Graphics v2.5], plugin : carb.graphics-vulkan.plugin) failed. Plugin selection is locked, because the interface was previously acquired by: \n",
      "[0.116s] [ext: carb.windowing.plugins-1.0.0] startup\n",
      "[0.129s] [ext: omni.assets.plugins-0.0.0] startup\n",
      "[0.130s] [ext: omni.kit.renderer.init-0.0.0] startup\n",
      "\n",
      "|---------------------------------------------------------------------------------------------|\n",
      "| Driver Version: 510.85.2      | Graphics API: Vulkan\n",
      "|=============================================================================================|\n",
      "| GPU | Name                             | Active | LDA | GPU Memory | Vendor-ID | LUID       |\n",
      "|     |                                  |        |     |            | Device-ID | UUID       |\n",
      "|---------------------------------------------------------------------------------------------|\n",
      "| 0   | NVIDIA GeForce RTX 3090          | Yes: 0 |     | 24822   MB | 10de      | 0          |\n",
      "|     |                                  |        |     |            | 2204      | 3f50dd6e.. |\n",
      "|=============================================================================================|\n",
      "| OS: Linux yizhou-Z370-AORUS-Gaming-5, Version: 5.15.0-46-generic\n",
      "| Processor: Intel(R) Core(TM) i7-8700K CPU @ 3.70GHz | Cores: Unknown | Logical: 12\n",
      "|---------------------------------------------------------------------------------------------|\n",
      "| Total Memory (MB): 32044 | Free Memory: 15548\n",
      "| Total Page/Swap (MB): 2047 | Free Page/Swap: 2047\n",
      "|---------------------------------------------------------------------------------------------|\n",
      "2022-08-25 17:10:41 [757ms] [Warning] [carb.cudainterop.plugin] On Linux only, CUDA and the display driver does not support IOMMU-enabled bare-metal PCIe peer to peer memory copy.\n",
      "However, CUDA and the display driver does support IOMMU via VM pass through. As a consequence, users on Linux,\n",
      "when running on a native bare metal system, should disable the IOMMU. The IOMMU should be enabled and the VFIO driver\n",
      "be used as a PCIe pass through for virtual machines.\n",
      "[0.778s] [ext: omni.kit.pipapi-0.0.0] startup\n",
      "[0.791s] [ext: omni.kit.pip_archive-0.0.0] startup\n",
      "[0.798s] [ext: omni.isaac.core_archive-0.3.0] startup\n",
      "[0.819s] [ext: omni.usd.config-1.0.0] startup\n",
      "[0.821s] [ext: omni.usd.libs-1.0.0] startup\n",
      "[0.972s] [ext: omni.isaac.ml_archive-0.1.0] startup\n",
      "[1.087s] [ext: omni.kit.loop-isaac-0.1.0] startup\n",
      "[1.088s] [ext: omni.kit.async_engine-0.0.0] startup\n",
      "[1.090s] [ext: omni.appwindow-1.0.0] startup\n",
      "[1.092s] [ext: omni.client-0.1.0] startup\n",
      "[1.107s] [ext: omni.kit.test-0.0.0] startup\n",
      "[1.133s] [ext: omni.kit.renderer.core-0.0.0] startup\n",
      "[1.211s] [ext: omni.ui-2.10.3] startup\n",
      "[1.226s] [ext: carb.audio-0.1.0] startup\n",
      "[1.247s] [ext: omni.kit.mainwindow-0.0.0] startup\n",
      "[1.250s] [ext: omni.uiaudio-1.0.0] startup\n",
      "[1.251s] [ext: omni.kit.uiapp-0.0.0] startup\n",
      "[1.251s] [ext: omni.usd.schema.physics-1.0.0] startup\n",
      "[1.299s] [ext: omni.usd.schema.audio-0.0.0] startup\n",
      "[1.307s] [ext: omni.usd.schema.semantics-0.0.0] startup\n",
      "[1.318s] [ext: omni.usd.schema.omnigraph-1.0.0] startup\n",
      "[1.327s] [ext: omni.usd.schema.anim-0.0.0] startup\n",
      "[1.406s] [ext: omni.kit.commands-1.2.2] startup\n",
      "[1.410s] [ext: omni.timeline-1.0.2] startup\n",
      "[1.413s] [ext: omni.hydra.scene_delegate-0.2.0] startup\n",
      "[1.420s] [ext: omni.kit.audiodeviceenum-1.0.0] startup\n",
      "[1.422s] [ext: omni.usd-1.5.3] startup\n",
      "[1.476s] [ext: omni.kit.asset_converter-1.2.30] startup\n",
      "[1.494s] [ext: omni.usd.schema.isaac-0.2.0] startup\n",
      "[1.538s] [ext: omni.usd.schema.physx-0.0.0] startup\n",
      "[1.568s] [ext: omni.kit.search_core-1.0.2] startup\n",
      "[1.570s] [ext: omni.renderer-rtx-0.0.0] startup\n",
      "[1.570s] [ext: omni.kit.widget.graph-1.4.2] startup\n",
      "[1.579s] [ext: omni.kit.widget.filebrowser-2.2.26] startup\n",
      "[1.585s] [ext: omni.kit.window.popup_dialog-2.0.7] startup\n",
      "[1.591s] [ext: omni.mdl.neuraylib-0.1.0] startup\n",
      "[1.594s] [ext: omni.kit.widget.path_field-2.0.3] startup\n",
      "[1.595s] [ext: omni.kit.widget.versioning-1.3.8] startup\n",
      "[1.599s] [ext: omni.kit.notification_manager-1.0.5] startup\n",
      "[1.602s] [ext: omni.kit.widget.browser_bar-2.0.3] startup\n",
      "[1.603s] [ext: omni.kit.menu.utils-1.2.11] startup\n",
      "[1.615s] [ext: omni.kit.window.filepicker-2.4.29] startup\n"
     ]
    },
    {
     "name": "stderr",
     "output_type": "stream",
     "text": [
      "OmniAssetFileFormat\n"
     ]
    },
    {
     "name": "stdout",
     "output_type": "stream",
     "text": [
      "[1.677s] [ext: omni.mdl-0.1.0] startup\n",
      "[1.699s] [ext: omni.kit.menu.create-1.0.2] startup\n",
      "[1.700s] [ext: omni.kit.window.file_exporter-1.0.4] startup\n",
      "[1.701s] [ext: omni.kit.window.drop_support-1.0.0] startup\n",
      "[1.701s] [ext: omni.kit.material.library-1.3.10] startup\n",
      "[1.704s] [ext: omni.kit.window.property-1.6.3] startup\n",
      "[1.706s] [ext: omni.kit.context_menu-1.3.9] startup\n",
      "[1.710s] [ext: omni.kit.window.file_importer-1.0.4] startup\n",
      "[1.711s] [ext: omni.kit.stage_templates-1.1.2] startup\n",
      "[1.714s] [ext: omni.kit.widget.stage-2.6.15] startup\n",
      "[1.718s] [ext: omni.kit.window.file-1.3.16] startup\n",
      "[1.720s] [ext: omni.debugdraw-0.1.0] startup\n",
      "[1.726s] [ext: omni.kit.window.content_browser-2.4.28] startup\n",
      "[1.738s] [ext: omni.kit.widget.prompt-1.0.1] startup\n",
      "[1.738s] [ext: omni.kit.property.usd-3.14.8] startup\n",
      "[1.779s] [ext: omni.hydra.engine.stats-1.0.0] startup\n",
      "[1.785s] [ext: omni.kit.widget.settings-1.0.0] startup\n",
      "[1.786s] [ext: omni.graph.tools-1.3.5] startup\n",
      "[1.873s] [ext: omni.graph.core-2.27.0] startup\n",
      "[1.878s] [ext: omni.hydra.rtx-0.1.0] startup\n",
      "[1.888s] [ext: omni.kit.viewport.legacy_gizmos-1.0.0] startup\n",
      "[1.892s] [ext: omni.ui_query-1.1.1] startup\n",
      "[1.895s] [ext: omni.graph-1.22.1] startup\n",
      "[1.956s] [ext: omni.kit.window.viewport-0.0.0] startup\n"
     ]
    },
    {
     "name": "stderr",
     "output_type": "stream",
     "text": [
      "2022-08-25 17:10:42 [2,090ms] [Error] [rtx.neuraylib.plugin] [DYNLIB:IO]   0.1   DYNLIB io   error: /home/yizhou/.local/share/ov/pkg/isaac_sim-2022.1.0/kit/python/bin/libs/iray/libnvindex.so: cannot open shared object file: No such file or directory\n",
      "2022-08-25 17:10:42 [2,090ms] [Error] [rtx.neuraylib.plugin] [INDEX:MAIN]   0.1   INDEX  main error: Failed to load /home/yizhou/.local/share/ov/pkg/isaac_sim-2022.1.0/kit/python/bin/libs/iray/libnvindex.so\n"
     ]
    },
    {
     "name": "stdout",
     "output_type": "stream",
     "text": [
      "Warp initialized:\n",
      "   Version: 0.2.1\n",
      "   Using CUDA device: NVIDIA GeForce RTX 3090\n",
      "   Using CPU compiler: /usr/bin/g++\n",
      "[2.994s] [ext: omni.kit.window.preferences-1.2.1] startup\n",
      "[3.038s] [ext: omni.kit.ui_test-1.2.0] startup\n",
      "[3.041s] [ext: omni.graph.ui-1.6.1] startup\n",
      "[3.067s] [ext: omni.kvdb-0.0.0] startup\n",
      "[3.071s] [ext: omni.kit.widget.searchfield-1.0.6] startup\n",
      "[3.073s] [ext: omni.convexdecomposition-1.4.12] startup\n",
      "[3.077s] [ext: omni.graph.action-1.17.0] startup\n",
      "[3.091s] [ext: omni.localcache-0.0.0] startup\n",
      "[3.094s] [ext: omni.usdphysics-1.4.12] startup\n",
      "[3.097s] [ext: omni.graph.scriptnode-0.5.0] startup\n",
      "[3.100s] [ext: omni.physx-1.4.12-5.1] startup\n",
      "2022-08-25 17:10:43 [3,111ms] [Warning] [omni.kvdb.plugin] wasn't able to load the meta database, trying to repair it ...\n",
      "2022-08-25 17:10:43 [3,265ms] [Warning] [omni.kvdb.plugin] repair failed\n",
      "[3.273s] [ext: omni.kit.usd_undo-0.1.0] startup\n",
      "[3.275s] [ext: omni.graph.nodes-1.25.0] startup\n",
      "[3.296s] [ext: omni.physx.commands-1.4.12-5.1] startup\n",
      "[3.303s] [ext: omni.syntheticdata-0.2.1] startup\n",
      "[3.336s] [ext: omni.physx.ui-1.4.12-5.1] startup\n",
      "[3.436s] [ext: omni.warp-0.2.1] startup\n",
      "[5.780s] [ext: omni.kit.renderer.capture-0.0.0] startup\n",
      "[5.784s] [ext: omni.kit.property.material-1.8.5] startup\n",
      "[5.787s] [ext: omni.physx.demos-1.4.12-5.1] startup\n",
      "[5.790s] [ext: omni.physics.tensors-0.1.0] startup\n",
      "[5.798s] [ext: omni.kit.property.physx-0.1.0] startup\n",
      "2022-08-25 17:10:46 [5,886ms] [Warning] [omni.physx.plugin] Deprecated: getSimulationEventStream is deprecated, please use getSimulationEventStreamV2\n",
      "[5.896s] [ext: omni.kit.window.toolbar-1.2.4] startup\n",
      "[5.905s] [ext: omni.physx.tensors-0.1.0] startup\n",
      "[5.913s] [ext: omni.physx.vehicle-1.4.12-5.1] startup\n",
      "[5.928s] [ext: omni.physx.tests-1.4.12-5.1] startup\n",
      "[5.990s] [ext: omni.kit.numpy.common-0.1.0] startup\n",
      "[5.993s] [ext: omni.physx.camera-1.4.12-5.1] startup\n",
      "[6.001s] [ext: omni.physx.cct-1.4.12-5.1] startup\n",
      "[6.086s] [ext: omni.isaac.version-1.0.0] startup\n",
      "[6.087s] [ext: omni.isaac.dynamic_control-1.0.0] startup\n",
      "[6.097s] [ext: omni.physx.bundle-1.4.12-5.1] startup\n",
      "[6.097s] [ext: omni.kit.primitive.mesh-1.0.0] startup\n",
      "[6.102s] [ext: omni.command.usd-1.0.1] startup\n",
      "[6.105s] [ext: omni.isaac.core-1.15.1] startup\n",
      "[6.371s] [ext: omni.replicator.core-1.2.0] startup\n",
      "[6.520s] [ext: omni.kit.window.extensions-1.1.0] startup\n",
      "[6.525s] [ext: omni.isaac.core_nodes-0.9.0] startup\n",
      "[6.537s] [ext: omni.isaac.ui-0.2.1] startup\n",
      "[6.539s] [ext: omni.kit.window.script_editor-1.6.2] startup\n",
      "[6.547s] [ext: omni.isaac.wheeled_robots-0.5.4] startup\n",
      "[6.558s] [ext: omni.kit.menu.common-1.0.0] startup\n",
      "[6.560s] [ext: omni.kit.graph.delegate.default-1.0.15] startup\n",
      "[6.562s] [ext: omni.kit.graph.delegate.modern-1.6.0] startup\n",
      "[6.563s] [ext: omni.kit.widget.zoombar-1.0.3] startup\n",
      "[6.564s] [ext: omni.kit.graph.editor.core-1.3.3] startup\n",
      "[6.567s] [ext: omni.kit.widget.stage_icons-1.0.2] startup\n",
      "[6.568s] [ext: omni.kit.browser.core-2.0.12] startup\n",
      "[6.573s] [ext: omni.kit.graph.widget.variables-2.0.2] startup\n",
      "[6.574s] [ext: omni.kit.window.stage-2.3.7] startup\n",
      "[6.577s] [ext: omni.kit.browser.folder.core-1.1.13] startup\n",
      "[6.580s] [ext: omni.graph.window.core-1.22.1] startup\n",
      "[6.588s] [ext: omni.isaac.lula-1.1.0] startup\n",
      "[6.615s] [ext: omni.graph.instancing-1.1.4] startup\n",
      "[6.621s] [ext: omni.graph.window.action-1.3.8] startup\n",
      "[6.623s] [ext: omni.graph.tutorials-1.1.2] startup\n",
      "[6.638s] [ext: omni.rtx.window.settings-0.6.1] startup\n",
      "[6.644s] [ext: omni.isaac.motion_planning-0.2.0] startup\n",
      "[6.653s] [ext: omni.graph.bundle.action-1.0.0] startup\n",
      "[6.653s] [ext: omni.rtx.settings.core-0.5.5] startup\n",
      "[6.658s] [ext: omni.isaac.motion_generation-3.1.2] startup\n",
      "[6.662s] [ext: omni.isaac.kit-0.1.9] startup\n",
      "[6.663s] [ext: omni.isaac.debug_draw-0.1.2] startup\n",
      "[6.670s] [ext: omni.kit.selection-0.1.0] startup\n",
      "[6.671s] [ext: omni.isaac.franka-0.0.0] startup\n",
      "[6.672s] [ext: omni.kit.widget.layers-1.5.17] startup\n",
      "[6.688s] [ext: omni.kit.menu.edit-1.0.6] startup\n",
      "[6.690s] [ext: omni.isaac.isaac_sensor-0.3.4] startup\n",
      "2022-08-25 17:10:47 [6,689ms] [Warning] [omni.physx.plugin] Deprecated: getSimulationEventStream is deprecated, please use getSimulationEventStreamV2\n",
      "[6.697s] [ext: omni.kit.widget.live-0.1.0] startuOpening usd file at  omniverse://localhost/Users/yizhou/scene1.usd  ...Done.\n",
      "Saving a temp livesync stage at  omniverse://localhost/Users/yizhou/scene1.usd  ...Done.\n"
     ]
    }
   ],
   "source": [
    "from omni.isaac.kit import SimulationApp\n",
    "\n",
    "# \"/home/yizhou/Research/OpenAnyDrawer/scene0.usd\" # \n",
    "usd_path = f\"omniverse://localhost/Users/{user}/scene1.usd\"\n",
    "\n",
    "\n",
    "simulation_app = SimulationApp({\"headless\": True, \"open_usd\": usd_path,  \"livesync_usd\": usd_path}) \n"
   ]
  },
  {
   "cell_type": "code",
   "execution_count": 4,
   "id": "2500ab07",
   "metadata": {},
   "outputs": [],
   "source": [
    "# world\n",
    "from omni.isaac.core import World\n",
    "world = World()"
   ]
  },
  {
   "cell_type": "code",
   "execution_count": 5,
   "id": "affc71f9",
   "metadata": {},
   "outputs": [
    {
     "data": {
      "text/plain": [
       "True"
      ]
     },
     "execution_count": 5,
     "metadata": {},
     "output_type": "execute_result"
    }
   ],
   "source": [
    "# reset scene\n",
    "import omni\n",
    "mobility_prim = world.scene.stage.GetPrimAtPath(\"/World/Game/mobility\")\n",
    "if mobility_prim:\n",
    "    omni.kit.commands.execute(\"DeletePrims\", paths=[\"/World/Game/mobility\"])\n",
    "    \n",
    "# hide robot\n",
    "hand_prim = world.scene.stage.GetPrimAtPath(\"/World/allegro\")\n",
    "hand_prim.GetAttribute('visibility').Set('invisible')"
   ]
  },
  {
   "cell_type": "code",
   "execution_count": 6,
   "id": "59024383",
   "metadata": {},
   "outputs": [],
   "source": [
    "from open_env import OpenEnv\n",
    "\n",
    "env = OpenEnv()"
   ]
  },
  {
   "cell_type": "code",
   "execution_count": 7,
   "id": "9b2164f9",
   "metadata": {},
   "outputs": [],
   "source": [
    "from hand_env import HandEnv\n",
    "\n",
    "# env = HandEnv(\"/World/Hand/Bones/l_carpal_mid\", \"/World/Hand*/Bones/l_thumbSkeleton_grp/l_distalThumb_mid\")\n",
    "controller = HandEnv(\"/World/allegro*/allegro_mount\", \"/World/AnchorXform\")"
   ]
  },
  {
   "cell_type": "code",
   "execution_count": 8,
   "id": "ee0b677a",
   "metadata": {},
   "outputs": [],
   "source": [
    "env.add_camera()\n",
    "env.setup_viewport()"
   ]
  },
  {
   "cell_type": "code",
   "execution_count": 9,
   "id": "d2124859",
   "metadata": {},
   "outputs": [
    {
     "data": {
      "image/png": "[encoded data removed]",
      "text/plain": [
       "<PIL.Image.Image image mode=RGBA size=256x256 at 0x7F67703824D0>"
      ]
     },
     "execution_count": 9,
     "metadata": {},
     "output_type": "execute_result"
    }
   ],
   "source": [
    "world.render()\n",
    "env.get_image()"
   ]
  },
  {
   "cell_type": "code",
   "execution_count": 10,
   "id": "1dcd1aaa",
   "metadata": {},
   "outputs": [
    {
     "name": "stdout",
     "output_type": "stream",
     "text": [
      "add object\n",
      "loading asset from omni nucleus\n",
      "physics material: path:  /World/Game/mobility/link_0/visuals/handle_7/physicsMaterial\n",
      "add physics material to handle\n"
     ]
    }
   ],
   "source": [
    "env.add_object(0, scale = 0.1)"
   ]
  },
  {
   "cell_type": "code",
   "execution_count": 11,
   "id": "523d62c9",
   "metadata": {},
   "outputs": [
    {
     "data": {
      "text/plain": [
       "<omni.isaac.core.prims.xform_prim.XFormPrim at 0x7f58786cfa50>"
      ]
     },
     "execution_count": 11,
     "metadata": {},
     "output_type": "execute_result"
    }
   ],
   "source": [
    "from omni.isaac.core.prims.xform_prim import XFormPrim\n",
    "mobility_obj = XFormPrim(\"/World/Game/mobility\")\n",
    "mobility_obj_name = mobility_obj.name\n",
    "\n",
    "world.scene.add(mobility_obj)"
   ]
  },
  {
   "cell_type": "code",
   "execution_count": 12,
   "id": "f4378de1",
   "metadata": {},
   "outputs": [],
   "source": [
    "# # reset scene\n",
    "# replicator_prim = world.scene.stage.GetPrimAtPath(\"/Replicator\")\n",
    "# if replicator_prim:\n",
    "#     omni.kit.commands.execute(\"DeletePrims\", paths=[\"/Replicator\"])"
   ]
  },
  {
   "cell_type": "code",
   "execution_count": 13,
   "id": "faf4f1c2",
   "metadata": {
    "scrolled": true
   },
   "outputs": [
    {
     "name": "stdout",
     "output_type": "stream",
     "text": [
      "p\n",
      "[6.703s] [ext: omni.isaac.surface_gripper-0.1.2] startup\n",
      "[6.708s] [ext: omni.kit.property.layer-1.1.2] startup\n",
      "[6.710s] [ext: omni.isaac.range_sensor-0.4.2] startup\n",
      "[6.739s] [ext: omni.graph.window.generic-1.3.8] startup\n",
      "[6.740s] [ext: omni.isaac.utils-0.1.11] startup\n",
      "[6.744s] [ext: omni.isaac.universal_robots-0.2.1] startup\n",
      "[6.745s] [ext: omni.kit.property.audio-1.0.5] startup\n",
      "[6.746s] [ext: omni.kit.property.skel-1.0.1] startup\n",
      "[6.747s] [ext: omni.kit.property.render-1.1.0] startup\n",
      "[6.748s] [ext: omni.kit.property.camera-1.0.3] startup\n",
      "[6.749s] [ext: omni.kit.property.geometry-1.2.0] startup\n",
      "[6.752s] [ext: omni.kit.property.light-1.0.5] startup\n",
      "[6.753s] [ext: omni.kit.property.transform-1.0.2] startup\n",
      "[6.756s] [ext: omni.isaac.occupancy_map-0.2.4] startup\n",
      "[6.771s] [ext: omni.ui.scene-1.4.6] startup\n",
      "[6.779s] [ext: omni.kit.window.console-0.2.0] startup\n",
      "[6.787s] [ext: omni.kit.window.status_bar-0.1.1] startup\n",
      "[6.793s] [ext: omni.kit.property.bundle-1.2.4] startup\n",
      "[6.795s] [ext: omni.kit.menu.file-1.0.8] startup\n",
      "[6.797s] [ext: omni.kit.manipulator.viewport-1.0.6] startup\n",
      "[6.801s] [ext: omni.isaac.urdf-0.2.2] startup\n",
      "[6.834s] [ext: omni.isaac.dofbot-0.2.0] startup\n",
      "[6.835s] [ext: omni.kit.window.title-1.1.1] startup\n",
      "[6.836s] [ext: omni.kit.profiler.window-1.4.4] startup\n",
      "[6.839s] [ext: omni.graph.visualization.nodes-1.1.1] startup\n",
      "[6.843s] [ext: omni.isaac.synthetic_utils-0.2.1] startup\n",
      "[6.851s] [ext: semantics.schema.editor-0.2.2] startup\n",
      "[6.855s] [ext: omni.isaac.sim.python-2022.1.0] startup\n",
      "[6.856s] Simulation App Starting\n",
      "2022-08-25 17:10:48 [7,522ms] [Warning] [omni.usd] Default value for render setting \"/rtx/shaderDb/cachePermutationIndex\" not found\n",
      "2022-08-25 17:10:48 [7,522ms] [Warning] [omni.usd] Default value for render setting \"/rtx/resourcemanager/uploadPooledBuffers/framesToEvict\" not found\n",
      "2022-08-25 17:10:48 [7,522ms] [Warning] [omni.usd] Default value for render setting \"/rtx/resourcemanager/uploadPooledBuffers/uploadSize\" not found\n",
      "2022-08-25 17:10:48 [7,522ms] [Warning] [omni.usd] Default value for render setting \"/rtx/pathtracing/nrc/canRun\" not found\n",
      "[13.928s] app ready\n",
      "[14.835s] Simulation App Startup Complete\n",
      "2022-08-25 17:12:32 [112,256ms] [Warning] [omni.syntheticdata.plugin] SdRenderVarToRawArray missing valid input renderVar DistanceToImagePlaneSD\n",
      "2022-08-25 17:12:46 [126,235ms] [Warning] [omni.hydra] Mesh /World/Game/mobility/link_1/visuals/vertical_side_panel_17 has corrupted data in primvar st: buffer size 18 doesn't match expected size 48 in faceVarying primvars\n",
      "2022-08-25 17:12:46 [126,235ms] [Warning] [omni.hydra] Mesh /World/Game/mobility/link_1/visuals/vertical_side_panel_14 has corrupted data in primvar st: buffer size 18 doesn't match expected size 48 in faceVarying primvars\n",
      "2022-08-25 17:12:46 [126,235ms] [Warning] [omni.hydra] Mesh /World/Game/mobility/link_1/visuals/vertical_side_panel_15 has corrupted data in primvar st: buffer size 18 doesn't match expected size 48 in faceVarying primvars\n",
      "2022-08-25 17:12:46 [126,235ms] [Warning] [omni.hydra] Mesh /World/Game/mobility/link_1/visuals/shelf_4 has corrupted data in primvar st: buffer size 18 doesn't match expected size 36 in faceVarying primvars\n",
      "2022-08-25 17:12:46 [126,235ms] [Warning] [omni.hydra] Mesh /World/Game/mobility/link_1/visuals/vertical_side_panel_16 has corrupted data in primvar st: buffer size 18 doesn't match expected size 48 in faceVarying primvars\n",
      "2022-08-25 17:12:46 [126,235ms] [Warning] [omni.hydra] Mesh /World/Game/mobility/link_1/visuals/back_panel_16 has corrupted data in primvar st: buffer size 36 doesn't match expected size 72 in faceVarying primvars\n",
      "2022-08-25 17:12:46 [126,235ms] [Warning] [omni.hydra] Mesh /World/Game/mobility/link_1/visuals/other_leaf_24 has corrupted data in primvar st: buffer size 24 doesn't match expected size 48 in faceVarying primvars\n",
      "2022-08-25 17:12:46 [126,235ms] [Warning] [omni.hydra] Mesh /World/Game/mobility/link_1/visuals/vertical_side_panel_17 has corrupted data in primvar st_1: buffer size 6 doesn't match expected size 48 in faceVarying primvars\n",
      "2022-08-25 17:12:46 [126,235ms] [Warning] [omni.hydra] Mesh /World/Game/mobility/link_1/visuals/vertical_side_panel_16 has corrupted data in primvar st_1: buffer size 6 doesn't match expected size 48 in faceVarying primvars\n",
      "2022-08-25 17:12:46 [126,235ms] [Warning] [omni.hydra] Mesh /World/Game/mobility/link_1/visuals/other_leaf_23 has corrupted data in primvar st: buffer size 24 doesn't match expected size 48 in faceVarying primvars\n",
      "2022-08-25 17:12:46 [126,235ms] [Warning] [omni.hydra] Mesh /World/Game/mobility/link_1/visuals/other_leaf_22 has corrupted data in primvar st: buffer size 24 doesn't match expected size 48 in faceVarying primvars\n",
      "2022-08-25 17:12:46 [126,235ms] [Warning] [omni.hydra] Mesh /World/Game/mobility/link_1/visuals/vertical_side_panel_15 has corrupted data in primvar st_1: buffer size 6 doesn't match expected size 48 in faceVarying primvars\n",
      "2022-08-25 17:12:46 [126,235ms] [Warning] [omni.hydra] Mesh /World/Game/mobility/link_1/visuals/other_leaf_21 has corrupted data in primvar st: buffer size 24 doesn't match expected size 48 in faceVarying primvars\n",
      "2022-08-25 17:12:46 [126,235ms] [Warning] [omni.hydra] Mesh /World/Game/mobility/link_1/visuals/frame_vertical_bar_25 has corrupted data in primvar st: buffer size 18 doesn't match expected size 72 in faceVarying primvars\n",
      "2022-08-25 17:12:46 [126,235ms] [Warning] [omni.hydra] Mesh /World/Game/mobility/link_1/visuals/frame_horizontal_bar_27 has corrupted data in primvar st: buffer size 18 doesn't match expected size 48 in faceVarying primvars\n",
      "2022-08-25 17:12:46 [126,235ms] [Warning] [omni.hydra] Mesh /World/Game/mobility/link_1/visuals/frame_vertical_bar_26 has corrupted data in primvar st: buffer size 18 doesn't match expected size 72 in faceVarying primvars\n",
      "2022-08-25 17:12:46 [126,235ms] [Warning] [omni.hydra] Mesh /World/Game/mobility/link_1/visuals/frame_vertical_bar_25 has corrupted data in primvar st_1: buffer size 18 doesn't match expected size 72 in faceVarying primvars\n",
      "2022-08-25 17:12:46 [126,235ms] [Warning] [omni.hydra] Mesh /World/Game/mobility/link_1/visuals/frame_horizontal_bar_27 has corrupted data in primvar st_1: buffer size 6 doesn't match expected size 48 in faceVarying primvars\n",
      "2022-08-25 17:12:46 [126,235ms] [Warning] [omni.hydra] Mesh /World/Game/mobility/link_1/visuals/frame_vertical_bar_26 has corrupted data in primvar st_1: buffer size 18 doesn't match expected size 72 in faceVarying primvars\n",
      "2022-08-25 17:12:46 [126,235ms] [Warning] [omni.hydra] Mesh /World/Game/mobility/link_1/visuals/frame_horizontal_bar_29 has corrupted data in primvar st: buffer size 18 doesn't match expected size 48 in faceVarying primvars\n",
      "2022-08-25 17:12:46 [126,235ms] [Warning] [omni.hydra] Mesh /World/Game/mobility/link_1/visuals/frame_horizontal_bar_28 has corrupted data in primvar st: buffer size 24 doesn't match expected size 48 in faceVarying primvars\n",
      "2022-08-25 17:12:46 [126,235ms] [Warning] [omni.hydra] Mesh /World/Game/mobility/link_1/visuals/base_side_panel_9 has corrupted data in primvar st: buffer size 36 doesn't match expected size 72 in faceVarying primvars\n",
      "2022-08-25 17:12:46 [126,235ms] [Warning] [omni.hydra] Mesh /World/Game/mobility/link_1/visuals/frame_horizontal_bar_29 has corrupted data in primvar st_1: buffer size 6 doesn't match expected size 48 in faceVarying primvars\n",
      "2022-08-25 17:12:46 [126,235ms] [Warning] [omni.hydra] Mesh /World/Game/mobility/link_1/visuals/base_side_panel_10 has corrupted data in primvar st: buffer size 18 doesn't match expected size 72 in faceVarying primvars\n",
      "2022-08-25 17:12:46 [126,235ms] [Warning] [omni.hydra] Mesh /World/Game/mobility/link_1/visuals/vertical_side_panel_14 has corrupted data in primvar st_1: buffer size 6 doesn't match expected size 48 in faceVarying primvars\n",
      "2022-08-25 17:12:46 [126,235ms] [Warning] [omni.hydra] Mesh /World/Game/mobility/link_1/visuals/base_side_panel_11 has corrupted data in primvar st: buffer size 6 doesn't match expected size 72 in faceVarying primvars\n",
      "2022-08-25 17:12:46 [126,235ms] [Warning] [omni.hydra] Mesh /World/Game/mobility/link_1/visuals/base_side_panel_10 has corrupted data in primvar st_1: buffer size 18 doesn't match expected size 72 in faceVarying primvars\n",
      "2022-08-25 17:12:46 [126,235ms] [Warning] [omni.hydra] Mesh /World/Game/mobility/link_1/visuals/base_side_panel_11 has corrupted data in primvar st_1: buffer size 30 doesn't match expected size 72 in faceVarying primvars\n",
      "2022-08-25 17:12:46 [126,235ms] [Warning] [omni.hydra] Mesh /World/Game/mobility/link_1/visuals/bottom_panel_13 has corrupted data in primvar st: buffer size 66 doesn't match expected size 72 in faceVarying primvars\n",
      "2022-08-25 17:12:46 [126,235ms] [Warning] [omni.hydra] Mesh /World/Game/mobility/link_0/visuals/cabinet_door_surface_6 has corrupted data in primvar st: buffer size 36 doesn't match expected size 72 in faceVarying primvars\n",
      "2022-08-25 17:12:46 [126,235ms] [Warning] [omni.hydra] Mesh /World/Game/mobility/link_0/visuals/cabinet_door_surface_7 has corrupted data in primvar st: buffer size 24 doesn't match expected size 48 in faceVarying primvars\n",
      "2022-08-25 17:12:46 [126,235ms] [Warning] [omni.hydra] Mesh /World/Game/mobility/link_0/visuals/cabinet_door_surface_8 has corrupted data in primvar st: buffer size 36 doesn't match expected size 72 in faceVarying primvars\n",
      "2022-08-25 17:12:46 [126,235ms] [Warning] [omni.hydra] Mesh /World/Game/mobility/link_0/visuals/cabinet_door_surface_9 has corrupted data in primvar st: buffer size 24 doesn't match expected size 48 in faceVarying primvars\n",
      "2022-08-25 17:12:46 [126,235ms] [Warning] [omni.hydra] Mesh /World/Game/mobility/link_0/visuals/cabinet_door_surface_10 has corrupted data in primvar st: buffer size 36 doesn't match expected size 72 in faceVarying primvars\n",
      "2022-08-25 17:12:46 [126,235ms] [Warning] [omni.hydra] Mesh /World/Game/mobility/link_0/visuals/handle_7 has corrupted data in primvar st: buffer size 1962 doesn't match expected size 4008 in faceVarying primvars\n",
      "2022-08-25 17:12:46 [126,235ms] [Warning] [omni.hydra] Mesh /World/Game/mobility/link_1/visuals/base_side_panel_12 has corrupted data in primvar st: buffer size 18 doesn't match expected size 72 in faceVarying primvars\n",
      "2022-08-25 17:12:46 [126,235ms] [Warning] [omni.hydra] Mesh /World/Game/mobility/link_1/visuals/base_side_panel_12 has corrupted data in primvar st_1: buffer size 18 doesn't match expected size 72 in faceVarying primvars\n",
      "2022-08-25 17:12:46 [126,304ms] [Warning] [omni.physx.plugin] PhysicsUSD: Parse collision - triangle mesh collision (approximation None/MeshSimplifixation) cannot be a part of a dynamic body, falling back to convexHull approximation: /World/Game/mobility/link_0/visuals/handle_7\n",
      "2022-08-25 17:12:47 [126,336ms] [Warning] [omni.physx.plugin] PhysicsUSD: CreateJoint - cannot create a joint with disjointed body transforms: /World/allegro/root_joint\n",
      "2022-08-25 17:12:47 [126,336ms] [Warning] [omni.physx.plugin] The rigid body at /World/Game/mobility/base has a possibly invalid inertia tensor of {1.0, 1.0, 1.0} and a negative mass. Either specify correct values in the mass properties, or add collider(s) to any shape(s) that you wish to automatically compute mass properties for. If you do not want the objects to collide, add colliders regardless then disable the 'enable collision' property.\n",
      "2022-08-25 17:12:47 [126,349ms] [Warning] [carb.flatcache.plugin] Type tag does not have a corresponding USD type\n",
      "2022-08-25 17:12:47 [126,377ms] [Warning] [gpu.foundation.plugin] Requesting texture to use texture streaming, but the service isn't available.The texture will be created as a regular resource.\n",
      "2022-08-25 17:12:47 [126,410ms] [Warning] [omni.hydra] Mesh /World/Game/mobility/link_1/visuals/vertical_side_panel_15 has corrupted data in primvar st: buffer size 18 doesn't match expected size 48 in faceVarying primvars\n",
      "2022-08-25 17:12:47 [126,410ms] [Warning] [omni.hydra] Mesh /World/Game/mobility/link_1/visuals/vertical_side_panel_16 has corrupted data in primvar st: buffer size 18 doesn't match expected size 48 in faceVarying primvars\n",
      "2022-08-25 17:12:47 [126,410ms] [Warning] [omni.hydra] Mesh /World/Game/mobility/link_1/visuals/shelf_4 has corrupted data in primvar st: buffer size 18 doesn't match expected size 36 in faceVarying primvars\n",
      "2022-08-25 17:12:47 [126,410ms] [Warning] [omni.hydra] Mesh /World/Game/mobility/link_1/visuals/vertical_side_panel_14 has corrupted data in primvar st: buffer size 18 doesn't match expected size 48 in faceVarying primvars\n",
      "2022-08-25 17:12:47 [126,410ms] [Warning] [omni.hydra] Mesh /World/Game/mobility/link_1/visuals/vertical_side_panel_17 has corrupted data in primvar st: buffer size 18 doesn't match expected size 48 in faceVarying primvars\n",
      "2022-08-25 17:12:47 [126,410ms] [Warning] [omni.hydra] Mesh /World/Game/mobility/link_1/visuals/vertical_side_panel_15 has corrupted data in primvar st_1: buffer size 6 doesn't match expected size 48 in faceVarying primvars\n",
      "2022-08-25 17:12:47 [126,410ms] [Warning] [omni.hydra] Mesh /World/Game/mobility/link_1/visuals/other_leaf_24 has corrupted data in primvar st: buffer size 24 doesn't match expected size 48 in faceVarying primvars\n",
      "2022-08-25 17:12:47 [126,410ms] [Warning] [omni.hydra] Mesh /World/Game/mobility/link_1/visuals/other_leaf_22 has corrupted data in primvar st: buffer size 24 doesn't match expected size 48 in faceVarying primvars\n",
      "2022-08-25 17:12:47 [126,410ms] [Warning] [omni.hydra] Mesh /World/Game/mobility/link_1/visuals/vertical_side_panel_17 has corrupted data in primvar st_1: buffer size 6 doesn't match expected size 48 in faceVarying primvars\n",
      "2022-08-25 17:12:47 [126,410ms] [Warning] [omni.hydra] Mesh /World/Game/mobility/link_1/visuals/other_leaf_23 has corrupted data in primvar st: buffer size 24 doesn't match expected size 48 in faceVarying primvars\n",
      "2022-08-25 17:12:47 [126,410ms] [Warning] [omni.hydra] Mesh /World/Game/mobility/link_1/visuals/back_panel_16 has corrupted data in primvar st: buffer size 36 doesn't match expected size 72 in faceVarying primvars\n",
      "2022-08-25 17:12:47 [126,410ms] [Warning] [omni.hydra] Mesh /World/Game/mobility/link_1/visuals/other_leaf_21 has corrupted data in primvar st: buffer size 24 doesn't match expected size 48 in faceVarying primvars\n",
      "2022-08-25 17:12:47 [126,410ms] [Warning] [omni.hydra] Mesh /World/Game/mobility/link_1/visuals/frame_vertical_bar_25 has corrupted data in primvar st: buffer size 18 doesn't match expected size 72 in faceVarying primvars\n",
      "2022-08-25 17:12:47 [126,410ms] [Warning] [omni.hydra] Mesh /World/Game/mobility/link_1/visuals/frame_vertical_bar_26 has corrupted data in primvar st: buffer size 18 doesn't match expected size 72 in faceVarying primvars\n",
      "2022-08-25 17:12:47 [126,410ms] [Warning] [omni.hydra] Mesh /World/Game/mobility/link_1/visuals/frame_horizontal_bar_27 has corrupted data in primvar st: buffer size 18 doesn't match expected size 48 in faceVarying primvars\n",
      "2022-08-25 17:12:47 [126,410ms] [Warning] [omni.hydra] Mesh /World/Game/mobility/link_1/visuals/frame_horizontal_bar_27 has corrupted data in primvar st_1: buffer size 6 doesn't match expected size 48 in faceVarying primvars\n",
      "2022-08-25 17:12:47 [126,410ms] [Warning] [omni.hydra] Mesh /World/Game/mobility/link_1/visuals/frame_horizontal_bar_28 has corrupted data in primvar st: buffer size 24 doesn't match expected size 48 in faceVarying primvars\n",
      "2022-08-25 17:12:47 [126,410ms] [Warning] [omni.hydra] Mesh /World/Game/mobility/link_1/visuals/vertical_side_panel_16 has corrupted data in primvar st_1: buffer size 6 doesn't match expected size 48 in faceVarying primvars\n",
      "2022-08-25 17:12:47 [126,410ms] [Warning] [omni.hydra] Mesh /World/Game/mobility/link_1/visuals/frame_horizontal_bar_29 has corrupted data in primvar st: buffer size 18 doesn't match expected size 48 in faceVarying primvars\n",
      "2022-08-25 17:12:47 [126,410ms] [Warning] [omni.hydra] Mesh /World/Game/mobility/link_1/visuals/frame_vertical_bar_26 has corrupted data in primvar st_1: buffer size 18 doesn't match expected size 72 in faceVarying primvars\n",
      "2022-08-25 17:12:47 [126,410ms] [Warning] [omni.hydra] Mesh /World/Game/mobility/link_1/visuals/base_side_panel_9 has corrupted data in primvar st: buffer size 36 doesn't match expected size 72 in faceVarying primvars\n"
     ]
    },
    {
     "name": "stdout",
     "output_type": "stream",
     "text": [
      "2022-08-25 17:12:47 [126,410ms] [Warning] [omni.hydra] Mesh /World/Game/mobility/lsimlation context numpy None\n",
      "num_envs 1\n",
      "ink_1/visuals/vertical_side_panel_14 has corrupted data in primvar st_1: buffer size 6 doesn't match expected size 48 in faceVarying primvars\n",
      "2022-08-25 17:12:47 [126,410ms] [Warning] [omni.hydra] Mesh /World/Game/mobility/link_1/visuals/frame_vertical_bar_25 has corrupted data in primvar st_1: buffer size 18 doesn't match expected size 72 in faceVarying primvars\n",
      "2022-08-25 17:12:47 [126,410ms] [Warning] [omni.hydra] Mesh /World/Game/mobility/link_1/visuals/base_side_panel_10 has corrupted data in primvar st: buffer size 18 doesn't match expected size 72 in faceVarying primvars\n",
      "2022-08-25 17:12:47 [126,410ms] [Warning] [omni.hydra] Mesh /World/Game/mobility/link_1/visuals/base_side_panel_10 has corrupted data in primvar st_1: buffer size 18 doesn't match expected size 72 in faceVarying primvars\n",
      "2022-08-25 17:12:47 [126,410ms] [Warning] [omni.hydra] Mesh /World/Game/mobility/link_1/visuals/base_side_panel_11 has corrupted data in primvar st: buffer size 6 doesn't match expected size 72 in faceVarying primvars\n",
      "2022-08-25 17:12:47 [126,410ms] [Warning] [omni.hydra] Mesh /World/Game/mobility/link_1/visuals/base_side_panel_11 has corrupted data in primvar st_1: buffer size 30 doesn't match expected size 72 in faceVarying primvars\n",
      "2022-08-25 17:12:47 [126,410ms] [Warning] [omni.hydra] Mesh /World/Game/mobility/link_1/visuals/base_side_panel_12 has corrupted data in primvar st: buffer size 18 doesn't match expected size 72 in faceVarying primvars\n",
      "2022-08-25 17:12:47 [126,410ms] [Warning] [omni.hydra] Mesh /World/Game/mobility/link_1/visuals/bottom_panel_13 has corrupted data in primvar st: buffer size 66 doesn't match expected size 72 in faceVarying primvars\n",
      "2022-08-25 17:12:47 [126,410ms] [Warning] [omni.hydra] Mesh /World/Game/mobility/link_1/visuals/frame_horizontal_bar_29 has corrupted data in primvar st_1: buffer size 6 doesn't match expected size 48 in faceVarying primvars\n",
      "2022-08-25 17:12:47 [126,410ms] [Warning] [omni.hydra] Mesh /World/Game/mobility/link_0/visuals/cabinet_door_surface_6 has corrupted data in primvar st: buffer size 36 doesn't match expected size 72 in faceVarying primvars\n",
      "2022-08-25 17:12:47 [126,410ms] [Warning] [omni.hydra] Mesh /World/Game/mobility/link_1/visuals/base_side_panel_12 has corrupted data in primvar st_1: buffer size 18 doesn't match expected size 72 in faceVarying primvars\n",
      "2022-08-25 17:12:47 [126,410ms] [Warning] [omni.hydra] Mesh /World/Game/mobility/link_0/visuals/cabinet_door_surface_7 has corrupted data in primvar st: buffer size 24 doesn't match expected size 48 in faceVarying primvars\n",
      "2022-08-25 17:12:47 [126,410ms] [Warning] [omni.hydra] Mesh /World/Game/mobility/link_0/visuals/cabinet_door_surface_8 has corrupted data in primvar st: buffer size 36 doesn't match expected size 72 in faceVarying primvars\n",
      "2022-08-25 17:12:47 [126,410ms] [Warning] [omni.hydra] Mesh /World/Game/mobility/link_0/visuals/cabinet_door_surface_9 has corrupted data in primvar st: buffer size 24 doesn't match expected size 48 in faceVarying primvars\n",
      "2022-08-25 17:12:47 [126,410ms] [Warning] [omni.hydra] Mesh /World/Game/mobility/link_0/visuals/cabinet_door_surface_10 has corrupted data in primvar st: buffer size 36 doesn't match expected size 72 in faceVarying primvars\n",
      "2022-08-25 17:12:47 [126,410ms] [Warning] [omni.hydra] Mesh /World/Game/mobility/link_0/visuals/handle_7 has corrupted data in primvar st: buffer size 1962 doesn't match expected size 4008 in faceVarying primvars\n",
      "2022-08-25 17:12:47 [126,573ms] [Warning] [omni.hydra] Mesh /World/Game/mobility/link_1/visuals/shelf_4 has corrupted data in primvar st: buffer size 18 doesn't match expected size 36 in faceVarying primvars\n",
      "2022-08-25 17:12:47 [126,573ms] [Warning] [omni.hydra] Mesh /World/Game/mobility/link_1/visuals/vertical_side_panel_14 has corrupted data in primvar st: buffer size 18 doesn't match expected size 48 in faceVarying primvars\n",
      "2022-08-25 17:12:47 [126,574ms] [Warning] [omni.hydra] Mesh /World/Game/mobility/link_1/visuals/vertical_side_panel_14 has corrupted data in primvar st_1: buffer size 6 doesn't match expected size 48 in faceVarying primvars\n",
      "2022-08-25 17:12:47 [126,574ms] [Warning] [omni.hydra] Mesh /World/Game/mobility/link_1/visuals/vertical_side_panel_15 has corrupted data in primvar st: buffer size 18 doesn't match expected size 48 in faceVarying primvars\n",
      "2022-08-25 17:12:47 [126,574ms] [Warning] [omni.hydra] Mesh /World/Game/mobility/link_1/visuals/vertical_side_panel_15 has corrupted data in primvar st_1: buffer size 6 doesn't match expected size 48 in faceVarying primvars\n",
      "2022-08-25 17:12:47 [126,574ms] [Warning] [omni.hydra] Mesh /World/Game/mobility/link_1/visuals/vertical_side_panel_16 has corrupted data in primvar st: buffer size 18 doesn't match expected size 48 in faceVarying primvars\n",
      "2022-08-25 17:12:47 [126,574ms] [Warning] [omni.hydra] Mesh /World/Game/mobility/link_1/visuals/vertical_side_panel_16 has corrupted data in primvar st_1: buffer size 6 doesn't match expected size 48 in faceVarying primvars\n",
      "2022-08-25 17:12:47 [126,574ms] [Warning] [omni.hydra] Mesh /World/Game/mobility/link_1/visuals/vertical_side_panel_17 has corrupted data in primvar st: buffer size 18 doesn't match expected size 48 in faceVarying primvars\n",
      "2022-08-25 17:12:47 [126,574ms] [Warning] [omni.hydra] Mesh /World/Game/mobility/link_1/visuals/vertical_side_panel_17 has corrupted data in primvar st_1: buffer size 6 doesn't match expected size 48 in faceVarying primvars\n",
      "2022-08-25 17:12:47 [126,574ms] [Warning] [omni.hydra] Mesh /World/Game/mobility/link_1/visuals/back_panel_16 has corrupted data in primvar st: buffer size 36 doesn't match expected size 72 in faceVarying primvars\n",
      "2022-08-25 17:12:47 [126,574ms] [Warning] [omni.hydra] Mesh /World/Game/mobility/link_1/visuals/other_leaf_24 has corrupted data in primvar st: buffer size 24 doesn't match expected size 48 in faceVarying primvars\n",
      "2022-08-25 17:12:47 [126,574ms] [Warning] [omni.hydra] Mesh /World/Game/mobility/link_1/visuals/other_leaf_23 has corrupted data in primvar st: buffer size 24 doesn't match expected size 48 in faceVarying primvars\n",
      "2022-08-25 17:12:47 [126,574ms] [Warning] [omni.hydra] Mesh /World/Game/mobility/link_1/visuals/other_leaf_22 has corrupted data in primvar st: buffer size 24 doesn't match expected size 48 in faceVarying primvars\n",
      "2022-08-25 17:12:47 [126,574ms] [Warning] [omni.hydra] Mesh /World/Game/mobility/link_1/visuals/other_leaf_21 has corrupted data in primvar st: buffer size 24 doesn't match expected size 48 in faceVarying primvars\n",
      "2022-08-25 17:12:47 [126,574ms] [Warning] [omni.hydra] Mesh /World/Game/mobility/link_1/visuals/frame_vertical_bar_25 has corrupted data in primvar st: buffer size 18 doesn't match expected size 72 in faceVarying primvars\n",
      "2022-08-25 17:12:47 [126,574ms] [Warning] [omni.hydra] Mesh /World/Game/mobility/link_1/visuals/frame_vertical_bar_25 has corrupted data in primvar st_1: buffer size 18 doesn't match expected size 72 in faceVarying primvars\n",
      "2022-08-25 17:12:47 [126,574ms] [Warning] [omni.hydra] Mesh /World/Game/mobility/link_1/visuals/frame_vertical_bar_26 has corrupted data in primvar st: buffer size 18 doesn't match expected size 72 in faceVarying primvars\n",
      "2022-08-25 17:12:47 [126,574ms] [Warning] [omni.hydra] Mesh /World/Game/mobility/link_1/visuals/frame_vertical_bar_26 has corrupted data in primvar st_1: buffer size 18 doesn't match expected size 72 in faceVarying primvars\n",
      "2022-08-25 17:12:47 [126,574ms] [Warning] [omni.hydra] Mesh /World/Game/mobility/link_1/visuals/frame_horizontal_bar_27 has corrupted data in primvar st: buffer size 18 doesn't match expected size 48 in faceVarying primvars\n",
      "2022-08-25 17:12:47 [126,574ms] [Warning] [omni.hydra] Mesh /World/Game/mobility/link_1/visuals/frame_horizontal_bar_27 has corrupted data in primvar st_1: buffer size 6 doesn't match expected size 48 in faceVarying primvars\n",
      "2022-08-25 17:12:47 [126,574ms] [Warning] [omni.hydra] Mesh /World/Game/mobility/link_1/visuals/frame_horizontal_bar_28 has corrupted data in primvar st: buffer size 24 doesn't match expected size 48 in faceVarying primvars\n",
      "2022-08-25 17:12:47 [126,574ms] [Warning] [omni.hydra] Mesh /World/Game/mobility/link_1/visuals/frame_hori"
     ]
    },
    {
     "data": {
      "image/png": "[encoded data removed]",
      "text/plain": [
       "<PIL.Image.Image image mode=RGBA size=256x256 at 0x7F58B63FC0D0>"
      ]
     },
     "execution_count": 13,
     "metadata": {},
     "output_type": "execute_result"
    }
   ],
   "source": [
    "# init\n",
    "world.reset()\n",
    "controller.start()\n",
    "world.scene.add(controller.robots)\n",
    "\n",
    "world.render()\n",
    "env.get_image()"
   ]
  },
  {
   "cell_type": "code",
   "execution_count": 14,
   "id": "64fd091f",
   "metadata": {},
   "outputs": [
    {
     "data": {
      "image/png": "[encoded data removed]",
      "text/plain": [
       "<PIL.Image.Image image mode=RGBA size=256x256 at 0x7F58AC0EE990>"
      ]
     },
     "execution_count": 14,
     "metadata": {},
     "output_type": "execute_result"
    }
   ],
   "source": [
    "world.render()\n",
    "env.get_image()"
   ]
  },
  {
   "cell_type": "code",
   "execution_count": 15,
   "id": "e4a5e8fe",
   "metadata": {},
   "outputs": [],
   "source": [
    "from task.checker import TaskChecker\n",
    "from task.instructor import SceneInstructor"
   ]
  },
  {
   "cell_type": "code",
   "execution_count": 16,
   "id": "56605fee",
   "metadata": {},
   "outputs": [
    {
     "name": "stdout",
     "output_type": "stream",
     "text": [
      "analysis_spatial_rel:  {'/World/Game/mobility/link_0/visuals/handle_7': {'joint_type': 'PhysicsRevoluteJoint', 'cabinet_type': 'door', 'vertical_description': '', 'horizontal_description': '', 'joint': 'joint_0', 'relative_to_game_center': 'right', 'direction': 'horizontal'}}\n"
     ]
    }
   ],
   "source": [
    "scene_instr = SceneInstructor()\n",
    "scene_instr.analysis()\n",
    "# scene_instr.build_handle_desc_ui()"
   ]
  },
  {
   "cell_type": "code",
   "execution_count": 17,
   "id": "0f790aa7",
   "metadata": {},
   "outputs": [
    {
     "data": {
      "text/plain": [
       "True"
      ]
     },
     "execution_count": 17,
     "metadata": {},
     "output_type": "execute_result"
    }
   ],
   "source": [
    "scene_instr.is_obj_valid"
   ]
  },
  {
   "cell_type": "code",
   "execution_count": 18,
   "id": "1b1d67c8",
   "metadata": {},
   "outputs": [
    {
     "data": {
      "text/plain": [
       "{'/World/Game/mobility/link_0/visuals/handle_7': {'joint_type': 'PhysicsRevoluteJoint',\n",
       "  'cabinet_type': 'door',\n",
       "  'vertical_description': '',\n",
       "  'horizontal_description': '',\n",
       "  'joint': 'joint_0',\n",
       "  'relative_to_game_center': 'right',\n",
       "  'direction': 'horizontal'}}"
      ]
     },
     "execution_count": 18,
     "metadata": {},
     "output_type": "execute_result"
    }
   ],
   "source": [
    "scene_instr.valid_handle_list"
   ]
  },
  {
   "cell_type": "code",
   "execution_count": 19,
   "id": "c20b34e6",
   "metadata": {},
   "outputs": [],
   "source": [
    "handle_path_str = list(scene_instr.valid_handle_list.keys())[0]\n",
    "\n",
    "handle_joint_type = scene_instr.valid_handle_list[handle_path_str][\"joint_type\"]\n",
    "handle_joint = scene_instr.valid_handle_list[handle_path_str][\"joint\"]\n",
    "handle_rel_direciton = scene_instr.valid_handle_list[handle_path_str][\"relative_to_game_center\"]\n",
    "handle_direction = scene_instr.valid_handle_list[handle_path_str][\"direction\"]"
   ]
  },
  {
   "cell_type": "code",
   "execution_count": 20,
   "id": "47c06fdd",
   "metadata": {},
   "outputs": [
    {
     "data": {
      "text/plain": [
       "('/World/Game/mobility/link_0/visuals/handle_7',\n",
       " 'PhysicsRevoluteJoint',\n",
       " 'joint_0',\n",
       " 'right')"
      ]
     },
     "execution_count": 20,
     "metadata": {},
     "output_type": "execute_result"
    }
   ],
   "source": [
    "handle_path_str, handle_joint_type, handle_joint, handle_rel_direciton"
   ]
  },
  {
   "cell_type": "code",
   "execution_count": 21,
   "id": "f7756784",
   "metadata": {},
   "outputs": [],
   "source": [
    "task_checker = TaskChecker(\"mobility\", handle_joint, handle_joint_type, IS_RUNTIME=True)"
   ]
  },
  {
   "cell_type": "markdown",
   "id": "ce1a3a56",
   "metadata": {},
   "source": [
    "# Solve"
   ]
  },
  {
   "cell_type": "code",
   "execution_count": 22,
   "id": "252a84c4",
   "metadata": {},
   "outputs": [
    {
     "name": "stdout",
     "output_type": "stream",
     "text": [
      "zontal_bar_29 has corrupted data in primvar st: buffer size 18 doesn't match expected size 48 in faceVarying primvars\n",
      "2022-08-25 17:12:47 [126,574ms] [Warning] [omni.hydra] Mesh /World/Game/mobility/link_1/visuals/base_side_panel_9 has corrupted data in primvar st: buffer size 36 doesn't match expected size 72 in faceVarying primvars\n",
      "2022-08-25 17:12:47 [126,574ms] [Warning] [omni.hydra] Mesh /World/Game/mobility/link_1/visuals/frame_horizontal_bar_29 has corrupted data in primvar st_1: buffer size 6 doesn't match expected size 48 in faceVarying primvars\n",
      "2022-08-25 17:12:47 [126,574ms] [Warning] [omni.hydra] Mesh /World/Game/mobility/link_1/visuals/base_side_panel_10 has corrupted data in primvar st: buffer size 18 doesn't match expected size 72 in faceVarying primvars\n",
      "2022-08-25 17:12:47 [126,575ms] [Warning] [omni.hydra] Mesh /World/Game/mobility/link_1/visuals/base_side_panel_11 has corrupted data in primvar st: buffer size 6 doesn't match expected size 72 in faceVarying primvars\n",
      "2022-08-25 17:12:47 [126,575ms] [Warning] [omni.hydra] Mesh /World/Game/mobility/link_1/visuals/base_side_panel_10 has corrupted data in primvar st_1: buffer size 18 doesn't match expected size 72 in faceVarying primvars\n",
      "2022-08-25 17:12:47 [126,575ms] [Warning] [omni.hydra] Mesh /World/Game/mobility/link_1/visuals/base_side_panel_12 has corrupted data in primvar st: buffer size 18 doesn't match expected size 72 in faceVarying primvars\n",
      "2022-08-25 17:12:47 [126,575ms] [Warning] [omni.hydra] Mesh /World/Game/mobility/link_1/visuals/base_side_panel_11 has corrupted data in primvar st_1: buffer size 30 doesn't match expected size 72 in faceVarying primvars\n",
      "2022-08-25 17:12:47 [126,575ms] [Warning] [omni.hydra] Mesh /World/Game/mobility/link_1/visuals/base_side_panel_12 has corrupted data in primvar st_1: buffer size 18 doesn't match expected size 72 in faceVarying primvars\n",
      "2022-08-25 17:12:47 [126,575ms] [Warning] [omni.hydra] Mesh /World/Game/mobility/link_1/visuals/bottom_panel_13 has corrupted data in primvar st: buffer size 66 doesn't match expected size 72 in faceVarying primvars\n",
      "2022-08-25 17:12:47 [126,575ms] [Warning] [omni.hydra] Mesh /World/Game/mobility/link_0/visuals/cabinet_door_surface_6 has corrupted data in primvar st: buffer size 36 doesn't match expected size 72 in faceVarying primvars\n",
      "2022-08-25 17:12:47 [126,575ms] [Warning] [omni.hydra] Mesh /World/Game/mobility/link_0/visuals/cabinet_door_surface_7 has corrupted data in primvar st: buffer size 24 doesn't match expected size 48 in faceVarying primvars\n",
      "2022-08-25 17:12:47 [126,575ms] [Warning] [omni.hydra] Mesh /World/Game/mobility/link_0/visuals/cabinet_door_surface_8 has corrupted data in primvar st: buffer size 36 doesn't match expected size 72 in faceVarying primvars\n",
      "2022-08-25 17:12:47 [126,575ms] [Warning] [omni.hydra] Mesh /World/Game/mobility/link_0/visuals/cabinet_door_surface_9 has corrupted data in primvar st: buffer size 24 doesn't match expected size 48 in faceVarying primvars\n",
      "2022-08-25 17:12:47 [126,575ms] [Warning] [omni.hydra] Mesh /World/Game/mobility/link_0/visuals/handle_7 has corrupted data in primvar st: buffer size 1962 doesn't match expected size 4008 in faceVarying primvars\n",
      "2022-08-25 17:12:47 [126,575ms] [Warning] [omni.hydra] Mesh /World/Game/mobility/link_0/visuals/cabinet_door_surface_10 has corrupted data in primvar st: buffer size 36 doesn't match expected size 72 in faceVarying primvars\n",
      "2022-08-25 17:13:00 [140,072ms] [Warning] [omni.physx.plugin] PhysicsUSD: Parse collision - triangle mesh collision (approximation None/MeshSimplifixation) cannot be a part of a dynamic body, falling back to convexHull approximation: /World/Game/mobility/link_0/visuals/handle_7\n",
      "2022-08-25 17:13:00 [140,097ms] [Warning] [omni.physx.plugin] PhysicsUSD: CreateJoint - cannot create a joint with disjointed body transforms: /World/allegro/root_joint\n",
      "2022-08-25 17:13:00 [140,098ms] [Warning] [omni.physx.plugin] The rigid body at /World/Game/mobility/base has a possibly invalid inertia tensor of {1.0, 1.0, 1.0} and a negative mass. Either specify correct values in the ma"
     ]
    }
   ],
   "source": [
    "world.reset()"
   ]
  },
  {
   "cell_type": "code",
   "execution_count": 24,
   "id": "116670da",
   "metadata": {},
   "outputs": [],
   "source": [
    "controller.xforms.set_world_poses(positions=np.array([[0,0,0]]), orientations = np.array([[1, 0, 0, 0]])) # WXYZ\n",
    "\n",
    "for _ in range(60):\n",
    "    world.step(render=True)"
   ]
  },
  {
   "cell_type": "code",
   "execution_count": 25,
   "id": "fbb55fb4",
   "metadata": {
    "scrolled": true
   },
   "outputs": [],
   "source": [
    "# get grasp location, if handle is horizontal, gripper should be vertical\n",
    "graps_pos, grasp_rot = controller.calculate_grasp_location(keyword = handle_path_str, \n",
    "                                                         verticle = handle_direction == \"horizontal\")"
   ]
  },
  {
   "cell_type": "code",
   "execution_count": 26,
   "id": "74b5f92e",
   "metadata": {
    "scrolled": true
   },
   "outputs": [
    {
     "data": {
      "text/plain": [
       "(array([[ 0.4999996 , -0.22500871,  0.8448981 ]], dtype=float32),\n",
       " array([[0.38268, 0.     , 0.     , 0.92388]], dtype=float32))"
      ]
     },
     "execution_count": 26,
     "metadata": {},
     "output_type": "execute_result"
    }
   ],
   "source": [
    "graps_pos, grasp_rot"
   ]
  },
  {
   "cell_type": "markdown",
   "id": "3ebc4d2e",
   "metadata": {},
   "source": [
    "# Deep Learning"
   ]
  },
  {
   "cell_type": "code",
   "execution_count": null,
   "id": "f13be242",
   "metadata": {},
   "outputs": [],
   "source": [
    "scene_instr.load_model()"
   ]
  },
  {
   "cell_type": "code",
   "execution_count": null,
   "id": "e2fc7f92",
   "metadata": {},
   "outputs": [],
   "source": [
    "image_array =env.get_image(return_array=True)"
   ]
  },
  {
   "cell_type": "code",
   "execution_count": null,
   "id": "ececa3b0",
   "metadata": {
    "scrolled": true
   },
   "outputs": [],
   "source": [
    "scene_instr.predict_bounding_boxes(image_array[:,:,:3])"
   ]
  },
  {
   "cell_type": "code",
   "execution_count": null,
   "id": "b62d9036",
   "metadata": {},
   "outputs": [],
   "source": [
    "v_desc = scene_instr.valid_handle_list[handle_path_str][\"vertical_description\"]\n",
    "h_desc = scene_instr.valid_handle_list[handle_path_str][\"horizontal_description\"]\n",
    "\n",
    "the_box = scene_instr.get_box_from_desc(v_desc, h_desc)"
   ]
  },
  {
   "cell_type": "code",
   "execution_count": null,
   "id": "fbdb5e65",
   "metadata": {
    "scrolled": true
   },
   "outputs": [],
   "source": [
    "the_box"
   ]
  },
  {
   "cell_type": "code",
   "execution_count": null,
   "id": "874a5120",
   "metadata": {},
   "outputs": [],
   "source": [
    "the_box = [-0.24306170648464168, 0.9585027645051194, -0.2043927986348123, 0.9971716723549489]"
   ]
  },
  {
   "cell_type": "code",
   "execution_count": null,
   "id": "a764da8f",
   "metadata": {},
   "outputs": [],
   "source": [
    "pred_handle_direction = \"horizontal\" if (the_box[2] - the_box[0]) > (the_box[3] - the_box[1]) else \"vertical\" "
   ]
  },
  {
   "cell_type": "code",
   "execution_count": null,
   "id": "8b2609eb",
   "metadata": {},
   "outputs": [],
   "source": [
    "pred_handle_direction"
   ]
  },
  {
   "cell_type": "code",
   "execution_count": null,
   "id": "4f5e580b",
   "metadata": {},
   "outputs": [],
   "source": [
    "the_box[3] - the_box[1]"
   ]
  },
  {
   "cell_type": "code",
   "execution_count": null,
   "id": "6215ade9",
   "metadata": {},
   "outputs": [],
   "source": [
    "pred_handle_direction"
   ]
  },
  {
   "cell_type": "code",
   "execution_count": null,
   "id": "403ea669",
   "metadata": {},
   "outputs": [],
   "source": [
    "graps_pos, grasp_rot = controller.calculate_grasp_location_from_pred_box(the_box, False)"
   ]
  },
  {
   "cell_type": "code",
   "execution_count": null,
   "id": "5ed8ca5a",
   "metadata": {},
   "outputs": [],
   "source": [
    "graps_pos, grasp_rot"
   ]
  },
  {
   "cell_type": "markdown",
   "id": "13fa6680",
   "metadata": {},
   "source": [
    "# Solve"
   ]
  },
  {
   "cell_type": "code",
   "execution_count": 27,
   "id": "3ec73fee",
   "metadata": {},
   "outputs": [],
   "source": [
    "graps_pos[...,0] -= 0.1"
   ]
  },
  {
   "cell_type": "code",
   "execution_count": 28,
   "id": "472a43c1",
   "metadata": {},
   "outputs": [],
   "source": [
    "controller.xforms.set_world_poses(graps_pos, grasp_rot)\n",
    "\n",
    "for _ in range(500):\n",
    "    world.step(render=True)"
   ]
  },
  {
   "cell_type": "code",
   "execution_count": 29,
   "id": "980d887f",
   "metadata": {},
   "outputs": [],
   "source": [
    "graps_pos[...,0] += 0.1"
   ]
  },
  {
   "cell_type": "code",
   "execution_count": 30,
   "id": "05785275",
   "metadata": {},
   "outputs": [],
   "source": [
    "controller.xforms.set_world_poses(graps_pos, grasp_rot)\n",
    "\n",
    "for _ in range(100):\n",
    "    world.step(render=True)"
   ]
  },
  {
   "cell_type": "code",
   "execution_count": 31,
   "id": "d68e7d4d",
   "metadata": {},
   "outputs": [],
   "source": [
    "# close finger\n",
    "\n",
    "finger_pos = np.array([\n",
    "    [\n",
    "     0, 0, 0, np.pi/2 + np.pi/18, \n",
    "     np.pi/5, np.pi/5, np.pi/5, 0,\n",
    "     np.pi/5, np.pi/5, np.pi/5, np.pi/6,\n",
    "     np.pi/5, np.pi/5, np.pi/5, np.pi/6,\n",
    "    ],\n",
    "])\n",
    "\n",
    "for i in range(120):\n",
    "    controller.robots.set_joint_position_targets(finger_pos * i / 120) # \n",
    "    world.step(render=True)"
   ]
  },
  {
   "cell_type": "code",
   "execution_count": 33,
   "id": "4e706f25",
   "metadata": {},
   "outputs": [],
   "source": [
    "# pull out\n",
    "for i in range(300):\n",
    "    graps_pos[...,0] -= 0.001\n",
    "#   env.robots.set_world_poses(graps_pos, grasp_rot)\n",
    "    controller.xforms.set_world_poses(graps_pos, grasp_rot)\n",
    "    controller.robots.set_joint_position_targets(finger_pos)\n",
    "    world.step(render=True)"
   ]
  },
  {
   "cell_type": "code",
   "execution_count": null,
   "id": "e83e68d3",
   "metadata": {},
   "outputs": [],
   "source": [
    "# check task\n",
    "task_checker.joint_checker.compute_percentage()"
   ]
  },
  {
   "cell_type": "code",
   "execution_count": 35,
   "id": "4e83d77c",
   "metadata": {},
   "outputs": [],
   "source": [
    "world.reset()\n",
    "controller.xforms.set_world_poses(positions=np.array([[0,0,0]]), orientations = np.array([[1, 0, 0, 0]])) # WXYZ\n",
    "\n",
    "for _ in range(30):\n",
    "    world.step()"
   ]
  },
  {
   "cell_type": "code",
   "execution_count": 36,
   "id": "9f9b3335",
   "metadata": {},
   "outputs": [],
   "source": [
    "world.scene.remove_object(mobility_obj_name)"
   ]
  },
  {
   "cell_type": "code",
   "execution_count": 37,
   "id": "265281b7",
   "metadata": {},
   "outputs": [],
   "source": [
    "world.render()"
   ]
  },
  {
   "cell_type": "code",
   "execution_count": 38,
   "id": "7eaa8ff9",
   "metadata": {},
   "outputs": [
    {
     "data": {
      "image/png": "[encoded data removed]",
      "text/plain": [
       "<PIL.Image.Image image mode=RGBA size=256x256 at 0x7F58780A8290>"
      ]
     },
     "execution_count": 38,
     "metadata": {},
     "output_type": "execute_result"
    }
   ],
   "source": [
    "env.get_image()"
   ]
  },
  {
   "cell_type": "code",
   "execution_count": null,
   "id": "ea2cce4f",
   "metadata": {},
   "outputs": [],
   "source": []
  }
 ],
 "metadata": {
  "kernelspec": {
   "display_name": "Isaac Sim Python 3",
   "language": "python",
   "name": "isaac_sim_python3"
  },
  "language_info": {
   "codemirror_mode": {
    "name": "ipython",
    "version": 3
   },
   "file_extension": ".py",
   "mimetype": "text/x-python",
   "name": "python",
   "nbconvert_exporter": "python",
   "pygments_lexer": "ipython3",
   "version": "3.7.13"
  }
 },
 "nbformat": 4,
 "nbformat_minor": 5
}
