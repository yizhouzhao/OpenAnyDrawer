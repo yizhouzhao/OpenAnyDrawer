{
 "cells": [
  {
   "cell_type": "code",
   "execution_count": 1,
   "id": "2cd03884",
   "metadata": {},
   "outputs": [],
   "source": [
    "import numpy as np\n",
    "\n",
    "import getpass\n",
    "user = getpass.getuser()"
   ]
  },
  {
   "cell_type": "code",
   "execution_count": 2,
   "id": "228fe8d0",
   "metadata": {},
   "outputs": [],
   "source": [
    "from PIL import Image"
   ]
  },
  {
   "cell_type": "code",
   "execution_count": null,
   "id": "524db6c9",
   "metadata": {
    "scrolled": true
   },
   "outputs": [
    {
     "name": "stdout",
     "output_type": "stream",
     "text": [
      "Starting kit application with the fillowing args:  ['/home/yizhou/.local/share/ov/pkg/isaac_sim-2022.1.0/exts/omni.isaac.kit/omni/isaac/kit/simulation_app.py', '/home/yizhou/.local/share/ov/pkg/isaac_sim-2022.1.0/apps/omni.isaac.sim.python.kit', '--/app/tokens/exe-path=/home/yizhou/.local/share/ov/pkg/isaac_sim-2022.1.0/kit', '--/persistent/app/viewport/displayOptions=3094', '--/rtx/materialDb/syncLoads=True', '--/rtx/hydra/materialSyncLoads=True--/omni.kit.plugin/syncUsdLoads=True', '--/app/renderer/resolution/width=1280', '--/app/renderer/resolution/height=720', '--/app/window/width=1440', '--/app/window/height=900', '--/renderer/multiGpu/enabled=True', '--ext-folder', '/home/yizhou/.local/share/ov/pkg/isaac_sim-2022.1.0/exts', '--ext-folder', '/home/yizhou/.local/share/ov/pkg/isaac_sim-2022.1.0/apps', '--portable', '--no-window']\n",
      "Passing the following args to the base kit application:  ['-f', '/home/yizhou/.local/share/jupyter/runtime/kernel-d9dd16b4-ec5c-4ef1-a784-e2da8985388b.json']\n",
      "[Warning] [omni.kit.app.plugin] No crash reporter present, dumps uploading isn't available.\n",
      "[Info] [carb] Logging to file: /home/yizhou/.local/share/ov/pkg/isaac_sim-2022.1.0/kit/logs/Kit/Isaac-Sim/2022.1/kit_20220805_121628.log\n",
      "[0.075s] [ext: omni.stats-0.0.0] startup\n",
      "[0.095s] [ext: omni.gpu_foundation-0.0.0] startup\n",
      "2022-08-05 19:16:28 [96ms] [Warning] [carb] FrameworkImpl::setDefaultPlugin(client: omni.gpu_foundation_factory.plugin, desc : [carb::graphics::Graphics v2.5], plugin : carb.graphics-vulkan.plugin) failed. Plugin selection is locked, because the interface was previously acquired by: \n",
      "[0.109s] [ext: carb.windowing.plugins-1.0.0] startup\n",
      "2022-08-05 19:16:28 [109ms] [Warning] [carb.windowing-glfw.gamepad] Joystick with unknown remapping detected (will be ignored):  Microsoft Xbox One X pad [030000005e040000120b000009050000]\n",
      "[0.119s] [ext: omni.assets.plugins-0.0.0] startup\n",
      "[0.120s] [ext: omni.kit.renderer.init-0.0.0] startup\n",
      "\n",
      "|---------------------------------------------------------------------------------------------|\n",
      "| Driver Version: 510.85.2      | Graphics API: Vulkan\n",
      "|=============================================================================================|\n",
      "| GPU | Name                             | Active | LDA | GPU Memory | Vendor-ID | LUID       |\n",
      "|     |                                  |        |     |            | Device-ID | UUID       |\n",
      "|---------------------------------------------------------------------------------------------|\n",
      "| 0   | NVIDIA GeForce RTX 3090          | Yes: 0 |     | 24822   MB | 10de      | 0          |\n",
      "|     |                                  |        |     |            | 2204      | 3f50dd6e.. |\n",
      "|=============================================================================================|\n",
      "| OS: Linux yizhou-Z370-AORUS-Gaming-5, Version: 5.15.0-43-generic\n",
      "| Processor: Intel(R) Core(TM) i7-8700K CPU @ 3.70GHz | Cores: Unknown | Logical: 12\n",
      "|---------------------------------------------------------------------------------------------|\n",
      "| Total Memory (MB): 32046 | Free Memory: 11388\n",
      "| Total Page/Swap (MB): 2047 | Free Page/Swap: 2047\n",
      "|---------------------------------------------------------------------------------------------|\n",
      "2022-08-05 19:16:29 [933ms] [Warning] [carb.cudainterop.plugin] On Linux only, CUDA and the display driver does not support IOMMU-enabled bare-metal PCIe peer to peer memory copy.\n",
      "However, CUDA and the display driver does support IOMMU via VM pass through. As a consequence, users on Linux,\n",
      "when running on a native bare metal system, should disable the IOMMU. The IOMMU should be enabled and the VFIO driver\n",
      "be used as a PCIe pass through for virtual machines.\n",
      "[0.955s] [ext: omni.kit.pipapi-0.0.0] startup\n",
      "[0.967s] [ext: omni.kit.pip_archive-0.0.0] startup\n",
      "[0.972s] [ext: omni.isaac.core_archive-0.3.0] startup\n",
      "[0.993s] [ext: omni.usd.config-1.0.0] startup\n",
      "[0.995s] [ext: omni.usd.libs-1.0.0] startup\n",
      "[1.169s] [ext: omni.isaac.ml_archive-0.1.0] startup\n",
      "[1.279s] [ext: omni.kit.loop-isaac-0.1.0] startup\n",
      "[1.280s] [ext: omni.kit.async_engine-0.0.0] startup\n",
      "[1.282s] [ext: omni.appwindow-1.0.0] startup\n",
      "[1.285s] [ext: omni.client-0.1.0] startup\n",
      "[1.297s] [ext: omni.kit.test-0.0.0] startup\n",
      "[1.326s] [ext: omni.kit.renderer.core-0.0.0] startup\n",
      "[1.398s] [ext: omni.ui-2.10.3] startup\n",
      "[1.419s] [ext: carb.audio-0.1.0] startup\n",
      "[1.422s] [ext: omni.kit.mainwindow-0.0.0] startup\n",
      "[1.425s] [ext: omni.uiaudio-1.0.0] startup\n",
      "[1.426s] [ext: omni.kit.uiapp-0.0.0] startup\n",
      "[1.426s] [ext: omni.usd.schema.physics-1.0.0] startup\n",
      "[1.473s] [ext: omni.usd.schema.audio-0.0.0] startup\n",
      "[1.481s] [ext: omni.usd.schema.semantics-0.0.0] startup\n",
      "[1.493s] [ext: omni.usd.schema.omnigraph-1.0.0] startup\n",
      "[1.502s] [ext: omni.usd.schema.anim-0.0.0] startup\n",
      "[1.583s] [ext: omni.kit.commands-1.2.2] startup\n",
      "[1.589s] [ext: omni.timeline-1.0.2] startup\n",
      "[1.592s] [ext: omni.hydra.scene_delegate-0.2.0] startup\n",
      "[1.600s] [ext: omni.kit.audiodeviceenum-1.0.0] startup\n",
      "[1.602s] [ext: omni.usd-1.5.3] startup\n",
      "[1.663s] [ext: omni.kit.asset_converter-1.2.30] startup\n",
      "[1.685s] [ext: omni.usd.schema.isaac-0.2.0] startup\n",
      "[1.736s] [ext: omni.usd.schema.physx-0.0.0] startup\n",
      "[1.772s] [ext: omni.kit.search_core-1.0.2] startup\n",
      "[1.774s] [ext: omni.renderer-rtx-0.0.0] startup\n",
      "[1.776s] [ext: omni.kit.widget.graph-1.4.2] startup\n",
      "[1.787s] [ext: omni.kit.widget.filebrowser-2.2.26] startup\n",
      "[1.795s] [ext: omni.kit.window.popup_dialog-2.0.7] startup\n",
      "[1.805s] [ext: omni.mdl.neuraylib-0.1.0] startup\n",
      "[1.809s] [ext: omni.kit.widget.path_field-2.0.3] startup\n",
      "[1.812s] [ext: omni.kit.widget.versioning-1.3.8] startup\n",
      "[1.816s] [ext: omni.kit.notification_manager-1.0.5] startup\n",
      "[1.819s] [ext: omni.kit.widget.browser_bar-2.0.3] startup\n",
      "[1.821s] [ext: omni.kit.menu.utils-1.2.11] startup\n",
      "[1.834s] [ext: omni.kit.window.filepicker-2.4.29] startup\n"
     ]
    },
    {
     "name": "stderr",
     "output_type": "stream",
     "text": [
      "OmniAssetFileFormat\n",
      "2022-08-05 19:16:30 [2,261ms] [Error] [rtx.neuraylib.plugin] [DYNLIB:IO]   0.1   DYNLIB io   error: /home/yizhou/.local/share/ov/pkg/isaac_sim-2022.1.0/kit/python/bin/libs/iray/libnvindex.so: cannot open shared object file: No such file or directory\n",
      "2022-08-05 19:16:30 [2,261ms] [Error] [rtx.neuraylib.plugin] [INDEX:MAIN]   0.1   INDEX  main error: Failed to load /home/yizhou/.local/share/ov/pkg/isaac_sim-2022.1.0/kit/python/bin/libs/iray/libnvindex.so\n"
     ]
    },
    {
     "name": "stdout",
     "output_type": "stream",
     "text": [
      "[1.897s] [ext: omni.mdl-0.1.0] startup\n",
      "[1.920s] [ext: omni.kit.menu.create-1.0.2] startup\n",
      "[1.922s] [ext: omni.kit.window.file_exporter-1.0.4] startup\n",
      "[1.924s] [ext: omni.kit.window.drop_support-1.0.0] startup\n",
      "[1.925s] [ext: omni.kit.material.library-1.3.10] startup\n",
      "[1.929s] [ext: omni.kit.window.property-1.6.3] startup\n",
      "[1.931s] [ext: omni.kit.context_menu-1.3.9] startup\n",
      "[1.935s] [ext: omni.kit.window.file_importer-1.0.4] startup\n",
      "[1.937s] [ext: omni.kit.stage_templates-1.1.2] startup\n",
      "[1.940s] [ext: omni.kit.widget.stage-2.6.15] startup\n",
      "[1.945s] [ext: omni.kit.window.file-1.3.16] startup\n",
      "[1.949s] [ext: omni.debugdraw-0.1.0] startup\n",
      "[1.956s] [ext: omni.kit.window.content_browser-2.4.28] startup\n",
      "[1.969s] [ext: omni.kit.widget.prompt-1.0.1] startup\n",
      "[1.970s] [ext: omni.kit.property.usd-3.14.8] startup\n",
      "[2.011s] [ext: omni.hydra.engine.stats-1.0.0] startup\n",
      "[2.018s] [ext: omni.kit.widget.settings-1.0.0] startup\n",
      "[2.021s] [ext: omni.graph.tools-1.3.5] startup\n",
      "[2.099s] [ext: omni.graph.core-2.27.0] startup\n",
      "[2.103s] [ext: omni.hydra.rtx-0.1.0] startup\n",
      "[2.117s] [ext: omni.kit.viewport.legacy_gizmos-1.0.0] startup\n",
      "[2.120s] [ext: omni.ui_query-1.1.1] startup\n",
      "[2.123s] [ext: omni.graph-1.22.1] startup\n",
      "[2.178s] [ext: omni.kit.window.viewport-0.0.0] startup\n",
      "Warp initialized:\n",
      "   Version: 0.2.1\n",
      "   Using CUDA device: NVIDIA GeForce RTX 3090\n",
      "   Using CPU compiler: /usr/bin/g++\n",
      "[3.102s] [ext: omni.kit.window.preferences-1.2.1] startup\n",
      "[3.141s] [ext: omni.kit.ui_test-1.2.0] startup\n",
      "[3.144s] [ext: omni.graph.ui-1.6.1] startup\n",
      "[3.175s] [ext: omni.kvdb-0.0.0] startup\n",
      "[3.180s] [ext: omni.kit.widget.searchfield-1.0.6] startup\n",
      "[3.182s] [ext: omni.convexdecomposition-1.4.12] startup\n",
      "[3.187s] [ext: omni.graph.action-1.17.0] startup\n",
      "[3.204s] [ext: omni.localcache-0.0.0] startup\n",
      "[3.208s] [ext: omni.usdphysics-1.4.12] startup\n",
      "[3.211s] [ext: omni.graph.scriptnode-0.5.0] startup\n",
      "[3.215s] [ext: omni.physx-1.4.12-5.1] startup\n",
      "2022-08-05 19:16:31 [3,222ms] [Warning] [omni.kvdb.plugin] wasn't able to load the meta database, trying to repair it ...\n",
      "2022-08-05 19:16:31 [3,339ms] [Warning] [omni.kvdb.plugin] repair failed\n",
      "[3.350s] [ext: omni.kit.usd_undo-0.1.0] startup\n",
      "[3.352s] [ext: omni.graph.nodes-1.25.0] startup\n",
      "[3.373s] [ext: omni.physx.commands-1.4.12-5.1] startup\n",
      "[3.380s] [ext: omni.syntheticdata-0.2.1] startup\n",
      "[3.411s] [ext: omni.physx.ui-1.4.12-5.1] startup\n",
      "[3.506s] [ext: omni.warp-0.2.1] startup\n",
      "[5.401s] [ext: omni.kit.renderer.capture-0.0.0] startup\n",
      "[5.406s] [ext: omni.kit.property.material-1.8.5] startup\n",
      "[5.409s] [ext: omni.physx.demos-1.4.12-5.1] startup\n",
      "[5.412s] [ext: omni.physics.tensors-0.1.0] startup\n",
      "[5.422s] [ext: omni.kit.property.physx-0.1.0] startup\n",
      "2022-08-05 19:16:34 [5,475ms] [Warning] [omni.physx.plugin] Deprecated: getSimulationEventStream is deprecated, please use getSimulationEventStreamV2\n",
      "[5.487s] [ext: omni.kit.window.toolbar-1.2.4] startup\n",
      "[5.495s] [ext: omni.physx.tensors-0.1.0] startup\n",
      "[5.502s] [ext: omni.physx.vehicle-1.4.12-5.1] startup\n",
      "[5.515s] [ext: omni.physx.tests-1.4.12-5.1] startup\n",
      "[5.572s] [ext: omni.kit.numpy.common-0.1.0] startup\n",
      "[5.576s] [ext: omni.physx.camera-1.4.12-5.1] startup\n",
      "[5.584s] [ext: omni.physx.cct-1.4.12-5.1] startup\n",
      "[5.649s] [ext: omni.isaac.version-1.0.0] startup\n",
      "[5.651s] [ext: omni.isaac.dynamic_control-1.0.0] startup\n",
      "[5.662s] [ext: omni.physx.bundle-1.4.12-5.1] startup\n",
      "[5.662s] [ext: omni.kit.primitive.mesh-1.0.0] startup\n",
      "[5.667s] [ext: omni.command.usd-1.0.1] startup\n",
      "[5.672s] [ext: omni.isaac.core-1.15.1] startup\n",
      "[5.930s] [ext: omni.replicator.core-1.2.0] startup\n",
      "[6.050s] [ext: omni.kit.window.extensions-1.1.0] startup\n",
      "[6.057s] [ext: omni.isaac.core_nodes-0.9.0] startup\n",
      "[6.072s] [ext: omni.isaac.ui-0.2.1] startup\n",
      "[6.075s] [ext: omni.kit.window.script_editor-1.6.2] startup\n",
      "[6.084s] [ext: omni.isaac.wheeled_robots-0.5.4] startup\n",
      "[6.099s] [ext: omni.kit.menu.common-1.0.0] startup\n",
      "[6.101s] [ext: omni.kit.graph.delegate.default-1.0.15] startup\n",
      "[6.104s] [ext: omni.kit.graph.delegate.modern-1.6.0] startup\n",
      "[6.107s] [ext: omni.kit.widget.zoombar-1.0.3] startup\n",
      "[6.108s] [ext: omni.kit.graph.editor.core-1.3.3] startup\n",
      "[6.112s] [ext: omni.kit.widget.stage_icons-1.0.2] startup\n",
      "[6.114s] [ext: omni.kit.browser.core-2.0.12] startup\n",
      "[6.120s] [ext: omni.kit.graph.widget.variables-2.0.2] startup\n",
      "[6.122s] [ext: omni.kit.window.stage-2.3.7] startup\n",
      "[6.127s] [ext: omni.kit.browser.folder.core-1.1.13] startup\n",
      "[6.131s] [ext: omni.graph.window.core-1.22.1] startup\n",
      "[6.138s] [ext: omni.isaac.lula-1.1.0] startup\n",
      "[6.153s] [ext: omni.graph.instancing-1.1.4] startup\n",
      "[6.161s] [ext: omni.graph.window.action-1.3.8] startup\n",
      "[6.163s] [ext: omni.graph.tutorials-1.1.2] startup\n",
      "[6.184s] [ext: omni.rtx.window.settings-0.6.1] startup\n",
      "[6.191s] [ext: omni.isaac.motion_planning-0.2.0] startup\n",
      "[6.201s] [ext: omni.graph.bundle.action-1.0.0] startup\n",
      "[6.202s] [ext: omni.rtx.settings.core-0.5.5] startup\n",
      "[6.207s] [ext: omni.isaac.motion_generation-3.1.2] startup\n",
      "[6.214s] [ext: omni.isaac.kit-0.1.9] startup\n",
      "[6.215s] [ext: omni.isaac.debug_draw-0.1.2] startup\n",
      "[6.222s] [ext: omni.kit.selection-0.1.0] startup\n",
      "[6.224s] [ext: omni.isaac.franka-0.0.0] startup\n",
      "[6.225s] [ext: omni.kit.widget.layers-1.5.17] startup\n",
      "[6.244s] [ext: omni.kit.menu.edit-1.0.6] startup\n",
      "[6.246s] [ext: omni.isaac.isaac_sensor-0.3.4] startup\n",
      "2022-08-05 19:16:34 [6,243ms] [Warning] [omni.physx.plugin] Deprecated: getSimulationEventStream is deprecated, please use getSimulationEventStreamV2\n",
      "[6.256s] [ext: omni.kit.widget.live-0.1.0] startuOpening usd file at  omniverse://localhost/Users/yizhou/scene1.usd  ...Done.\n",
      "Saving a temp livesync stage at  omniverse://localhost/Users/yizhou/scene1.usd  ...Done.\n",
      "p\n",
      "[6.262s] [ext: omni.isaac.surface_gripper-0.1.2] startup\n",
      "[6.269s] [ext: omni.kit.property.layer-1.1.2] startup\n",
      "[6.272s] [ext: omni.isaac.range_sensor-0.4.2] startup\n",
      "[6.301s] [ext: omni.graph.window.generic-1.3.8] startup\n",
      "[6.303s] [ext: omni.isaac.utils-0.1.11] startup\n",
      "[6.308s] [ext: omni.isaac.universal_robots-0.2.1] startup\n",
      "[6.310s] [ext: omni.kit.property.audio-1.0.5] startup\n",
      "[6.312s] [ext: omni.kit.property.skel-1.0.1] startup\n",
      "[6.314s] [ext: omni.kit.property.render-1.1.0] startup\n",
      "[6.316s] [ext: omni.kit.property.camera-1.0.3] startup\n",
      "[6.317s] [ext: omni.kit.property.geometry-1.2.0] startup\n",
      "[6.320s] [ext: omni.kit.property.light-1.0.5] startup\n",
      "[6.322s] [ext: omni.kit.property.transform-1.0.2] startup\n",
      "[6.327s] [ext: omni.isaac.occupancy_map-0.2.4] startup\n",
      "[6.342s] [ext: omni.ui.scene-1.4.6] startup\n",
      "[6.348s] [ext: omni.kit.window.console-0.2.0] startup\n",
      "[6.355s] [ext: omni.kit.window.status_bar-0.1.1] startup\n",
      "[6.360s] [ext: omni.kit.property.bundle-1.2.4] startup\n",
      "[6.362s] [ext: omni.kit.menu.file-1.0.8] startup\n",
      "[6.364s] [ext: omni.kit.manipulator.viewport-1.0.6] startup\n",
      "[6.366s] [ext: omni.isaac.urdf-0.2.2] startup\n",
      "[6.398s] [ext: omni.isaac.dofbot-0.2.0] startup\n",
      "[6.400s] [ext: omni.kit.window.title-1.1.1] startup\n",
      "[6.401s] [ext: omni.kit.profiler.window-1.4.4] startup\n",
      "[6.405s] [ext: omni.graph.visualization.nodes-1.1.1] startup\n",
      "[6.410s] [ext: omni.isaac.synthetic_utils-0.2.1] startup\n",
      "[6.421s] [ext: semantics.schema.editor-0.2.2] startup\n",
      "[6.425s] [ext: omni.isaac.sim.python-2022.1.0] startup\n",
      "[6.426s] Simulation App Starting\n",
      "2022-08-05 19:16:35 [7,045ms] [Warning] [omni.usd] Default value for render setting \"/rtx/shaderDb/cachePermutationIndex\" not found\n",
      "2022-08-05 19:16:35 [7,045ms] [Warning] [omni.usd] Default value for render setting \"/rtx/resourcemanager/uploadPooledBuffers/framesToEvict\" not found\n",
      "2022-08-05 19:16:35 [7,045ms] [Warning] [omni.usd] Default value for render setting \"/rtx/resourcemanager/uploadPooledBuffers/uploadSize\" not found\n",
      "2022-08-05 19:16:35 [7,046ms] [Warning] [omni.usd] Default value for render setting \"/rtx/pathtracing/nrc/canRun\" not found\n",
      "2022-08-05 19:16:35 [7,247ms] [Warning] [omni.hydra] Mesh /World/Game/mobility/link_2/visuals/vertical_side_panel_37 has corrupted data in primvar st: buffer size 18 doesn't match expected size 48 in faceVarying primvars\n",
      "2022-08-05 19:16:35 [7,247ms] [Warning] [omni.hydra] Mesh /World/Game/mobility/link_2/visuals/vertical_front_panel_39 has corrupted data in primvar st: buffer size 18 doesn't match expected size 48 in faceVarying primvars\n",
      "2022-08-05 19:16:35 [7,247ms] [Warning] [omni.hydra] Mesh /World/Game/mobility/link_2/visuals/other_leaf_33 has corrupted data in primvar st: buffer size 24 doesn't match expected size 48 in faceVarying primvars\n",
      "2022-08-05 19:16:35 [7,247ms] [Warning] [omni.hydra] Mesh /World/Game/mobility/link_2/visuals/other_leaf_32 has corrupted data in primvar st: buffer size 24 doesn't match expected size 48 in faceVarying primvars\n",
      "2022-08-05 19:16:35 [7,247ms] [Warning] [omni.hydra] Mesh /World/Game/mobility/link_2/visuals/vertical_side_panel_39 has corrupted data in primvar st: buffer size 18 doesn't match expected size 48 in faceVarying primvars\n",
      "2022-08-05 19:16:35 [7,247ms] [Warning] [omni.hydra] Mesh /World/Game/mobility/link_2/visuals/frame_horizontal_bar_27 has corrupted data in primvar st: buffer size 24 doesn't match expected size 48 in faceVarying primvars\n",
      "2022-08-05 19:16:35 [7,247ms] [Warning] [omni.hydra] Mesh /World/Game/mobility/link_2/visuals/vertical_front_panel_38 has corrupted data in primvar st: buffer size 18 doesn't match expected size 72 in faceVarying primvars\n",
      "2022-08-05 19:16:35 [7,247ms] [Warning] [omni.hydra] Mesh /World/Game/mobility/link_2/visuals/vertical_side_panel_36 has corrupted data in primvar st: buffer size 18 doesn't match expected size 48 in faceVarying primvars\n",
      "2022-08-05 19:16:35 [7,247ms] [Warning] [omni.hydra] Mesh /World/Game/mobility/link_2/visuals/vertical_side_panel_38 has corrupted data in primvar st: buffer size 18 doesn't match expected size 48 in faceVarying primvars\n",
      "2022-08-05 19:16:35 [7,247ms] [Warning] [omni.hydra] Mesh /World/Game/mobility/link_2/visuals/other_leaf_35 has corrupted data in primvar st: buffer size 24 doesn't match expected size 48 in faceVarying primvars\n",
      "2022-08-05 19:16:35 [7,247ms] [Warning] [omni.hydra] Mesh /World/Game/mobility/link_2/visuals/other_leaf_34 has corrupted data in primvar st: buffer size 24 doesn't match expected size 48 in faceVarying primvars\n",
      "2022-08-05 19:16:35 [7,247ms] [Warning] [omni.hydra] Mesh /World/Game/mobility/link_2/visuals/vertical_side_panel_37 has corrupted data in primvar st_1: buffer size 6 doesn't match expected size 48 in faceVarying primvars\n",
      "2022-08-05 19:16:35 [7,247ms] [Warning] [omni.hydra] Mesh /World/Game/mobility/link_2/visuals/vertical_side_panel_39 has corrupted data in primvar st_1: buffer size 6 doesn't match expected size 48 in faceVarying primvars\n",
      "2022-08-05 19:16:35 [7,247ms] [Warning] [omni.hydra] Mesh /World/Game/mobility/link_2/visuals/vertical_front_panel_38 has corrupted data in primvar st_1: buffer size 18 doesn't match expected size 72 in faceVarying primvars\n",
      "2022-08-05 19:16:35 [7,247ms] [Warning] [omni.hydra] Mesh /World/Game/mobility/link_2/visuals/shelf_15 has corrupted data in primvar st: buffer size 18 doesn't match expected size 36 in faceVarying primvars\n",
      "2022-08-05 19:16:35 [7,247ms] [Warning] [omni.hydra] Mesh /World/Game/mobility/link_2/visuals/vertical_side_panel_38 has corrupted data in primvar st_1: buffer size 6 doesn't match expected size 48 in faceVarying primvars\n",
      "2022-08-05 19:16:35 [7,247ms] [Warning] [omni.hydra] Mesh /World/Game/mobility/link_2/visuals/vertical_front_panel_39 has corrupted data in primvar st_1: buffer size 6 doesn't match expected size 48 in faceVarying primvars\n",
      "2022-08-05 19:16:35 [7,247ms] [Warning] [omni.hydra] Mesh /World/Game/mobility/link_2/visuals/vertical_side_panel_36 has corrupted data in primvar st_1: buffer size 6 doesn't match expected size 48 in faceVarying primvars\n",
      "2022-08-05 19:16:35 [7,247ms] [Warning] [omni.hydra] Mesh /World/Game/mobility/link_2/visuals/vertical_front_panel_40 has corrupted data in primvar st: buffer size 18 doesn't match expected size 48 in faceVarying primvars\n",
      "2022-08-05 19:16:35 [7,247ms] [Warning] [omni.hydra] Mesh /World/Game/mobility/link_2/visuals/vertical_front_panel_41 has corrupted data in primvar st: buffer size 18 doesn't match expected size 72 in faceVarying primvars\n",
      "2022-08-05 19:16:35 [7,247ms] [Warning] [omni.hydra] Mesh /World/Game/mobility/link_2/visuals/vertical_front_panel_40 has corrupted data in primvar st_1: buffer size 6 doesn't match expected size 48 in faceVarying primvars\n",
      "2022-08-05 19:16:35 [7,247ms] [Warning] [omni.hydra] Mesh /World/Game/mobility/link_2/visuals/vertical_front_panel_41 has corrupted data in primvar st_1: buffer size 18 doesn't match expected size 72 in faceVarying primvars\n",
      "2022-08-05 19:16:35 [7,247ms] [Warning] [omni.hydra] Mesh /World/Game/mobility/link_2/visuals/vertical_front_panel_42 has corrupted data in primvar st: buffer size 18 doesn't match expected size 48 in faceVarying primvars\n",
      "2022-08-05 19:16:35 [7,247ms] [Warning] [omni.hydra] Mesh /World/Game/mobility/link_2/visuals/back_panel_39 has corrupted data in primvar st: buffer size 36 doesn't match expected size 72 in faceVarying primvars\n",
      "2022-08-05 19:16:35 [7,247ms] [Warning] [omni.hydra] Mesh /World/Game/mobility/link_2/visuals/vertical_front_panel_42 has corrupted data in primvar st_1: buffer size 6 doesn't match expected size 48 in faceVarying primvars\n",
      "2022-08-05 19:16:35 [7,247ms] [Warning] [omni.hydra] Mesh /World/Game/mobility/link_2/visuals/bottom_panel_40 has corrupted data in primvar st: buffer size 66 doesn't match expected size 72 in faceVarying primvars\n",
      "2022-08-05 19:16:35 [7,247ms] [Warning] [omni.hydra] Mesh /World/Game/mobility/link_2/visuals/base_side_panel_17 has corrupted data in primvar st: buffer size 36 doesn't match expected size 72 in faceVarying primvars\n",
      "2022-08-05 19:16:35 [7,247ms] [Warning] [omni.hydra] Mesh /World/Game/mobility/link_2/visuals/base_side_panel_18 has corrupted data in primvar st: buffer size 18 doesn'"
     ]
    }
   ],
   "source": [
    "from omni.isaac.kit import SimulationApp\n",
    "\n",
    "# \"/home/yizhou/Research/OpenAnyDrawer/scene0.usd\" # \n",
    "usd_path = f\"omniverse://localhost/Users/{user}/scene1.usd\"\n",
    "\n",
    "\n",
    "simulation_app = SimulationApp({\"headless\": True, \"open_usd\": usd_path,  \"livesync_usd\": usd_path}) \n"
   ]
  },
  {
   "cell_type": "code",
   "execution_count": null,
   "id": "2500ab07",
   "metadata": {},
   "outputs": [],
   "source": [
    "# world\n",
    "from omni.isaac.core import World\n",
    "world = World()"
   ]
  },
  {
   "cell_type": "code",
   "execution_count": null,
   "id": "affc71f9",
   "metadata": {},
   "outputs": [],
   "source": [
    "# reset scene\n",
    "import omni\n",
    "mobility_prim = world.scene.stage.GetPrimAtPath(\"/World/Game/mobility\")\n",
    "if mobility_prim:\n",
    "    omni.kit.commands.execute(\"DeletePrims\", paths=[\"/World/Game/mobility\"])"
   ]
  },
  {
   "cell_type": "code",
   "execution_count": null,
   "id": "59024383",
   "metadata": {},
   "outputs": [],
   "source": [
    "from open_env import OpenEnv\n",
    "\n",
    "env = OpenEnv()"
   ]
  },
  {
   "cell_type": "code",
   "execution_count": null,
   "id": "9b2164f9",
   "metadata": {},
   "outputs": [],
   "source": [
    "from hand_env import HandEnv\n",
    "\n",
    "# env = HandEnv(\"/World/Hand/Bones/l_carpal_mid\", \"/World/Hand*/Bones/l_thumbSkeleton_grp/l_distalThumb_mid\")\n",
    "controller = HandEnv(\"/World/allegro*/allegro_mount\", \"/World/AnchorXform\")"
   ]
  },
  {
   "cell_type": "code",
   "execution_count": null,
   "id": "ee0b677a",
   "metadata": {},
   "outputs": [],
   "source": [
    "env.setup_viewport()"
   ]
  },
  {
   "cell_type": "code",
   "execution_count": null,
   "id": "d2124859",
   "metadata": {},
   "outputs": [],
   "source": [
    "world.render()\n",
    "env.get_image()"
   ]
  },
  {
   "cell_type": "code",
   "execution_count": null,
   "id": "1dcd1aaa",
   "metadata": {},
   "outputs": [],
   "source": [
    "env.add_object(0, scale = 0.1)"
   ]
  },
  {
   "cell_type": "code",
   "execution_count": null,
   "id": "523d62c9",
   "metadata": {},
   "outputs": [],
   "source": [
    "from omni.isaac.core.prims.xform_prim import XFormPrim\n",
    "mobility_obj = XFormPrim(\"/World/Game/mobility\")\n",
    "mobility_obj_name = mobility_obj.name\n",
    "\n",
    "world.scene.add(mobility_obj)"
   ]
  },
  {
   "cell_type": "code",
   "execution_count": null,
   "id": "f4378de1",
   "metadata": {},
   "outputs": [],
   "source": [
    "# reset scene\n",
    "replicator_prim = world.scene.stage.GetPrimAtPath(\"/Replicator\")\n",
    "if replicator_prim:\n",
    "    omni.kit.commands.execute(\"DeletePrims\", paths=[\"/Replicator\"])"
   ]
  },
  {
   "cell_type": "code",
   "execution_count": null,
   "id": "faf4f1c2",
   "metadata": {},
   "outputs": [],
   "source": [
    "# init\n",
    "world.reset()\n",
    "controller.start()\n",
    "world.scene.add(controller.robots)\n",
    "\n",
    "world.render()\n",
    "\n",
    "env.get_image()"
   ]
  },
  {
   "cell_type": "code",
   "execution_count": null,
   "id": "e4a5e8fe",
   "metadata": {},
   "outputs": [],
   "source": [
    "from task.checker import TaskChecker\n",
    "from task.instructor import SceneInstructor"
   ]
  },
  {
   "cell_type": "code",
   "execution_count": null,
   "id": "56605fee",
   "metadata": {},
   "outputs": [],
   "source": [
    "scene_instr = SceneInstructor()\n",
    "scene_instr.analysis()\n",
    "# scene_instr.build_handle_desc_ui()"
   ]
  },
  {
   "cell_type": "code",
   "execution_count": null,
   "id": "0f790aa7",
   "metadata": {},
   "outputs": [],
   "source": [
    "scene_instr.is_obj_valid"
   ]
  },
  {
   "cell_type": "code",
   "execution_count": null,
   "id": "1b1d67c8",
   "metadata": {},
   "outputs": [],
   "source": [
    "scene_instr.valid_handle_list"
   ]
  },
  {
   "cell_type": "code",
   "execution_count": null,
   "id": "c20b34e6",
   "metadata": {},
   "outputs": [],
   "source": [
    "handle_path_str = list(scene_instr.valid_handle_list.keys())[0]\n",
    "\n",
    "handle_joint_type = scene_instr.valid_handle_list[handle_path_str][\"joint_type\"]\n",
    "handle_joint = scene_instr.valid_handle_list[handle_path_str][\"joint\"]\n",
    "handle_rel_direciton = scene_instr.valid_handle_list[handle_path_str][\"relative_to_game_center\"]\n",
    "handle_direction = scene_instr.valid_handle_list[handle_path_str][\"direction\"]"
   ]
  },
  {
   "cell_type": "code",
   "execution_count": null,
   "id": "47c06fdd",
   "metadata": {},
   "outputs": [],
   "source": [
    "handle_path_str, handle_joint_type, handle_joint, handle_rel_direciton"
   ]
  },
  {
   "cell_type": "code",
   "execution_count": null,
   "id": "f7756784",
   "metadata": {},
   "outputs": [],
   "source": [
    "task_checker = TaskChecker(\"mobility\", handle_joint, handle_joint_type, IS_RUNTIME=True)"
   ]
  },
  {
   "cell_type": "markdown",
   "id": "ce1a3a56",
   "metadata": {},
   "source": [
    "# Solve"
   ]
  },
  {
   "cell_type": "code",
   "execution_count": null,
   "id": "252a84c4",
   "metadata": {},
   "outputs": [],
   "source": [
    "world.reset()"
   ]
  },
  {
   "cell_type": "code",
   "execution_count": null,
   "id": "116670da",
   "metadata": {},
   "outputs": [],
   "source": [
    "controller.xforms.set_world_poses(positions=np.array([[0,0,0]]), orientations = np.array([[1, 0, 0, 0]])) # WXYZ\n",
    "\n",
    "for _ in range(60):\n",
    "    world.step(render=True)"
   ]
  },
  {
   "cell_type": "code",
   "execution_count": null,
   "id": "fbb55fb4",
   "metadata": {
    "scrolled": true
   },
   "outputs": [],
   "source": [
    "# get grasp location, if handle is horizontal, gripper should be vertical\n",
    "graps_pos, grasp_rot = controller.calculate_grasp_location(keyword = handle_path_str, \n",
    "                                                         verticle = handle_direction == \"horizontal\")"
   ]
  },
  {
   "cell_type": "code",
   "execution_count": null,
   "id": "74b5f92e",
   "metadata": {
    "scrolled": true
   },
   "outputs": [],
   "source": [
    "graps_pos, grasp_rot"
   ]
  },
  {
   "cell_type": "markdown",
   "id": "3ebc4d2e",
   "metadata": {},
   "source": [
    "# Deep Learning"
   ]
  },
  {
   "cell_type": "code",
   "execution_count": null,
   "id": "f13be242",
   "metadata": {},
   "outputs": [],
   "source": [
    "# scene_instr.load_model()"
   ]
  },
  {
   "cell_type": "code",
   "execution_count": null,
   "id": "ececa3b0",
   "metadata": {
    "scrolled": true
   },
   "outputs": [],
   "source": [
    "# scene_instr.predict_bounding_boxes(image_path=\"/home/yizhou/Research/temp0/rgb_0.png\")"
   ]
  },
  {
   "cell_type": "code",
   "execution_count": null,
   "id": "874a5120",
   "metadata": {},
   "outputs": [],
   "source": [
    "the_box = [-0.24306170648464168, 0.9585027645051194, -0.2043927986348123, 0.9971716723549489]"
   ]
  },
  {
   "cell_type": "code",
   "execution_count": null,
   "id": "a764da8f",
   "metadata": {},
   "outputs": [],
   "source": [
    "pred_handle_direction = \"horizontal\" if (the_box[2] - the_box[0]) > (the_box[3] - the_box[1]) else \"vertical\" "
   ]
  },
  {
   "cell_type": "code",
   "execution_count": null,
   "id": "8b2609eb",
   "metadata": {},
   "outputs": [],
   "source": [
    "pred_handle_direction"
   ]
  },
  {
   "cell_type": "code",
   "execution_count": null,
   "id": "4f5e580b",
   "metadata": {},
   "outputs": [],
   "source": [
    "the_box[3] - the_box[1]"
   ]
  },
  {
   "cell_type": "code",
   "execution_count": null,
   "id": "6215ade9",
   "metadata": {},
   "outputs": [],
   "source": [
    "pred_handle_direction"
   ]
  },
  {
   "cell_type": "code",
   "execution_count": null,
   "id": "403ea669",
   "metadata": {},
   "outputs": [],
   "source": [
    "controller.calculate_grasp_location_from_pred_box(the_box, False)"
   ]
  },
  {
   "cell_type": "code",
   "execution_count": null,
   "id": "3ec73fee",
   "metadata": {},
   "outputs": [],
   "source": [
    "graps_pos[...,0] -= 0.1"
   ]
  },
  {
   "cell_type": "code",
   "execution_count": null,
   "id": "472a43c1",
   "metadata": {},
   "outputs": [],
   "source": [
    "controller.xforms.set_world_poses(graps_pos, grasp_rot)\n",
    "\n",
    "for _ in range(500):\n",
    "    world.step(render=True)"
   ]
  },
  {
   "cell_type": "code",
   "execution_count": null,
   "id": "980d887f",
   "metadata": {},
   "outputs": [],
   "source": [
    "graps_pos[...,0] += 0.1"
   ]
  },
  {
   "cell_type": "code",
   "execution_count": null,
   "id": "05785275",
   "metadata": {},
   "outputs": [],
   "source": [
    "controller.xforms.set_world_poses(graps_pos, grasp_rot)\n",
    "\n",
    "for _ in range(100):\n",
    "    world.step(render=True)"
   ]
  },
  {
   "cell_type": "code",
   "execution_count": null,
   "id": "d68e7d4d",
   "metadata": {},
   "outputs": [],
   "source": [
    "# close finger\n",
    "\n",
    "finger_pos = np.array([\n",
    "    [\n",
    "     0, 0, 0, np.pi/2 + np.pi/18, \n",
    "     np.pi/5, np.pi/5, np.pi/5, 0,\n",
    "     np.pi/5, np.pi/5, np.pi/5, np.pi/6,\n",
    "     np.pi/5, np.pi/5, np.pi/5, np.pi/6,\n",
    "    ],\n",
    "])\n",
    "\n",
    "for i in range(120):\n",
    "    controller.robots.set_joint_position_targets(finger_pos * i / 120) # \n",
    "    world.step(render=True)"
   ]
  },
  {
   "cell_type": "code",
   "execution_count": null,
   "id": "4e706f25",
   "metadata": {},
   "outputs": [],
   "source": [
    "# pull out\n",
    "for i in range(300):\n",
    "    graps_pos[...,0] -= 0.001\n",
    "#   env.robots.set_world_poses(graps_pos, grasp_rot)\n",
    "    controller.xforms.set_world_poses(graps_pos, grasp_rot)\n",
    "    controller.robots.set_joint_position_targets(finger_pos)\n",
    "    world.step(render=True)"
   ]
  },
  {
   "cell_type": "code",
   "execution_count": null,
   "id": "e83e68d3",
   "metadata": {},
   "outputs": [],
   "source": [
    "# check task\n",
    "task_checker.joint_checker.compute_percentage()"
   ]
  },
  {
   "cell_type": "code",
   "execution_count": null,
   "id": "4e83d77c",
   "metadata": {},
   "outputs": [],
   "source": [
    "world.reset()\n",
    "controller.xforms.set_world_poses(positions=np.array([[0,0,0]]), orientations = np.array([[1, 0, 0, 0]])) # WXYZ\n",
    "\n",
    "for _ in range(30):\n",
    "    world.step()"
   ]
  },
  {
   "cell_type": "code",
   "execution_count": null,
   "id": "9f9b3335",
   "metadata": {},
   "outputs": [],
   "source": [
    "world.scene.remove_object(mobility_obj_name)"
   ]
  },
  {
   "cell_type": "code",
   "execution_count": null,
   "id": "265281b7",
   "metadata": {},
   "outputs": [],
   "source": [
    "world.render()"
   ]
  },
  {
   "cell_type": "code",
   "execution_count": null,
   "id": "7eaa8ff9",
   "metadata": {},
   "outputs": [],
   "source": []
  }
 ],
 "metadata": {
  "kernelspec": {
   "display_name": "Isaac Sim Python 3",
   "language": "python",
   "name": "isaac_sim_python3"
  },
  "language_info": {
   "codemirror_mode": {
    "name": "ipython",
    "version": 3
   },
   "file_extension": ".py",
   "mimetype": "text/x-python",
   "name": "python",
   "nbconvert_exporter": "python",
   "pygments_lexer": "ipython3",
   "version": "3.7.13"
  }
 },
 "nbformat": 4,
 "nbformat_minor": 5
}
